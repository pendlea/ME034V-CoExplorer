{
 "cells": [
  {
   "cell_type": "code",
   "execution_count": 1,
   "metadata": {},
   "outputs": [],
   "source": [
    "# 2020-01-09\n",
    "# A. Pendleton\n",
    "# Expression line plots for gene list generated from sample filtration steps"
   ]
  },
  {
   "cell_type": "code",
   "execution_count": 3,
   "metadata": {},
   "outputs": [],
   "source": [
    "%matplotlib inline\n",
    "import matplotlib.pyplot as plt\n",
    "import numpy as np\n",
    "import sys\n",
    "\n",
    "#Plotting\n",
    "import pandas as pd\n",
    "import seaborn as sns\n",
    "# import fastcluster"
   ]
  },
  {
   "cell_type": "code",
   "execution_count": 4,
   "metadata": {},
   "outputs": [
    {
     "data": {
      "text/html": [
       "<script>requirejs.config({paths: { 'plotly': ['https://cdn.plot.ly/plotly-latest.min']},});if(!window.Plotly) {{require(['plotly'],function(plotly) {window.Plotly=plotly;});}}</script>"
      ],
      "text/vnd.plotly.v1+html": [
       "<script>requirejs.config({paths: { 'plotly': ['https://cdn.plot.ly/plotly-latest.min']},});if(!window.Plotly) {{require(['plotly'],function(plotly) {window.Plotly=plotly;});}}</script>"
      ]
     },
     "metadata": {},
     "output_type": "display_data"
    },
    {
     "data": {
      "text/html": [
       "<script>requirejs.config({paths: { 'plotly': ['https://cdn.plot.ly/plotly-latest.min']},});if(!window.Plotly) {{require(['plotly'],function(plotly) {window.Plotly=plotly;});}}</script>"
      ],
      "text/vnd.plotly.v1+html": [
       "<script>requirejs.config({paths: { 'plotly': ['https://cdn.plot.ly/plotly-latest.min']},});if(!window.Plotly) {{require(['plotly'],function(plotly) {window.Plotly=plotly;});}}</script>"
      ]
     },
     "metadata": {},
     "output_type": "display_data"
    }
   ],
   "source": [
    "# For interactivity\n",
    "from __future__ import print_function\n",
    "import plotly\n",
    "from ipywidgets import interact, interactive, fixed, interact_manual\n",
    "import ipywidgets as widgets\n",
    "from plotly.offline import download_plotlyjs, init_notebook_mode, plot, iplot\n",
    "init_notebook_mode(connected=True) #Make it work in notebook mode\n",
    "import plotly.graph_objs as go\n",
    "\n",
    "\n",
    "init_notebook_mode(connected=True)\n",
    "\n"
   ]
  },
  {
   "cell_type": "markdown",
   "metadata": {},
   "source": [
    "The below geneList would be a python list of gene identifiers that was propagated following sample filtration steps such as: \n",
    "    - Search by gene ID(s)\n",
    "    - Search by homolog ID(s)\n",
    "    - Search by functional annotations\n",
    "    - Filtration by expression thresholds and/or patterns from the drop-down expression lists"
   ]
  },
  {
   "cell_type": "markdown",
   "metadata": {},
   "source": [
    "## Inputs\n",
    "\n",
    "This plot requires the following information:\n",
    "\n",
    "- $ROOT/Genes_expression.txt\n",
    "- list of genes to plot that was populated using any of the steps outlined in above cell. "
   ]
  },
  {
   "cell_type": "markdown",
   "metadata": {},
   "source": [
    "#### Define root directory"
   ]
  },
  {
   "cell_type": "code",
   "execution_count": 19,
   "metadata": {},
   "outputs": [],
   "source": [
    "rootDir = '/depot/jwisecav/data/pendlea/coexpression_assessments/development/coexp_development/'\n",
    "rootDir = '../'"
   ]
  },
  {
   "cell_type": "markdown",
   "metadata": {},
   "source": [
    "#### Sample file"
   ]
  },
  {
   "cell_type": "code",
   "execution_count": 20,
   "metadata": {},
   "outputs": [],
   "source": [
    "#Define the sample file\n",
    "# File naming is static -- should always be the file name \"samples.txt\"\n",
    "sampleFile = rootDir + 'samples.txt'"
   ]
  },
  {
   "cell_type": "markdown",
   "metadata": {},
   "source": [
    "#### Global gene expression file"
   ]
  },
  {
   "cell_type": "code",
   "execution_count": 21,
   "metadata": {},
   "outputs": [],
   "source": [
    "#Define expression file. \n",
    "# File naming is static -- should always be file name \"Genes_expression.txt\"\n",
    "expFile = rootDir + 'Genes_expression.txt'\n"
   ]
  },
  {
   "cell_type": "markdown",
   "metadata": {},
   "source": [
    "#### Gene list to plot"
   ]
  },
  {
   "cell_type": "markdown",
   "metadata": {},
   "source": [
    "Here, I have an example of 82 genes that were defined in a module (N100M00016).\n",
    "\n",
    "These genes can be found in the file below: \n",
    "    \n",
    "    /depot/jwisecav/data/pendlea/coexpression_assessments/development/coexp_development/examples/example_geneList.txt\n"
   ]
  },
  {
   "cell_type": "code",
   "execution_count": 22,
   "metadata": {},
   "outputs": [
    {
     "name": "stdout",
     "output_type": "stream",
     "text": [
      "81 genes in geneList\n"
     ]
    }
   ],
   "source": [
    "geneList = [\"Sevir.9G282425\", \"Sevir.7G018910\", \"Sevir.5G044500\", \"Sevir.2G127900\", \"Sevir.5G129000\", \n",
    "            \"Sevir.2G354400\", \"Sevir.2G152600\", \"Sevir.7G023700\", \"Sevir.4G118900\", \"Sevir.8G081600\", \n",
    "            \"Sevir.5G364132\", \"Sevir.4G263301\", \"Sevir.9G099466\", \"Sevir.9G078500\", \"Sevir.2G263800\", \n",
    "            \"Sevir.8G218520\", \"Sevir.3G390900\", \"Sevir.9G165400\", \"Sevir.8G245140\", \"Sevir.8G087000\", \n",
    "            \"Sevir.9G576201\", \"Sevir.5G470750\", \"Sevir.1G060850\", \"Sevir.2G280500\", \"Sevir.9G268200\", \n",
    "            \"Sevir.4G143101\", \"Sevir.2G342800\", \"Sevir.1G019900\", \"Sevir.3G353500\", \"Sevir.7G189700\", \n",
    "            \"Sevir.4G118600\", \"Sevir.5G315900\", \"Sevir.1G110232\", \"Sevir.5G206100\", \"Sevir.3G353200\", \n",
    "            \"Sevir.4G093300\", \"Sevir.1G171100\", \"Sevir.2G305750\", \"Sevir.9G169700\", \"Sevir.1G020800\", \n",
    "            \"Sevir.5G194900\", \"Sevir.6G028050\", \"Sevir.2G003200\", \"Sevir.8G079100\", \"Sevir.4G293501\", \n",
    "            \"Sevir.7G022900\", \"Sevir.8G165900\", \"Sevir.9G092300\", \"Sevir.6G113200\", \"Sevir.4G160200\", \n",
    "            \"Sevir.5G037400\", \"Sevir.3G298200\", \"Sevir.2G437300\", \"Sevir.9G095700\", \"Sevir.1G265000\", \n",
    "            \"Sevir.5G418900\", \"Sevir.8G237700\", \"Sevir.2G177600\", \"Sevir.9G253801\", \"Sevir.6G183566\", \n",
    "            \"Sevir.8G259500\", \"Sevir.5G036550\", \"Sevir.7G279700\", \"Sevir.8G068450\", \"Sevir.9G576750\", \n",
    "            \"Sevir.9G248533\", \"Sevir.1G379100\", \"Sevir.8G222414\", \"Sevir.6G039200\", \"Sevir.6G075100\", \n",
    "            \"Sevir.3G331800\", \"Sevir.4G164200\", \"Sevir.9G347733\", \"Sevir.2G396750\", \"Sevir.3G116100\", \n",
    "            \"Sevir.7G061100\", \"Sevir.2G307100\", \"Sevir.5G087400\", \"Sevir.7G005300\", \"Sevir.2G026100\", \n",
    "            \"Sevir.9G072900\"]\n",
    "print('%i genes in geneList' % len(geneList))"
   ]
  },
  {
   "cell_type": "markdown",
   "metadata": {},
   "source": [
    "We have set the maximum number of genes to view in our plots to 100. The below cell will redefine which genes we plot from the above geneList in case the geneList is longer than 100."
   ]
  },
  {
   "cell_type": "code",
   "execution_count": 23,
   "metadata": {},
   "outputs": [
    {
     "name": "stdout",
     "output_type": "stream",
     "text": [
      "81 genes in geneList\n",
      "81 genes to plot\n"
     ]
    }
   ],
   "source": [
    "#What is the maximum number of genes to plot?\n",
    "maxGenesToPlot = min(100, len(geneList)) #Either 100 or the length of the total gene list\n",
    "\n",
    "#If the length of genes in geneList is\n",
    "\n",
    "#Get the list of genes we'll be plotting\n",
    "genesToPlot = geneList[0:maxGenesToPlot]\n",
    "\n",
    "print('%i genes in geneList' % len(geneList))     \n",
    "print('%i genes to plot' % len(genesToPlot))\n"
   ]
  },
  {
   "cell_type": "markdown",
   "metadata": {},
   "source": [
    "___________"
   ]
  },
  {
   "cell_type": "markdown",
   "metadata": {},
   "source": [
    "### Store the sample information\n",
    "##### Link the sample IDs to conditions and experiments"
   ]
  },
  {
   "cell_type": "code",
   "execution_count": 24,
   "metadata": {},
   "outputs": [
    {
     "name": "stdout",
     "output_type": "stream",
     "text": [
      "Stored sample-condition links for 268 samples\n",
      "    from 52 conditions\n",
      "    and 7 experimental groups\n"
     ]
    }
   ],
   "source": [
    "#Dictionary to store the sample information\n",
    "# the dictionary should have the following structure:\n",
    "#.      sampleDict[sampleID] = condition\n",
    "\n",
    "sampleDict = {} \n",
    "conditionDict = {}\n",
    "experiments = []\n",
    "\n",
    "lineCount = 0# Track the line count while parsing sample file\n",
    "\n",
    "for line in open(sampleFile, 'r'): #Parse each data file line\n",
    "    line=line.rstrip().split('\\t') #strip and split this tab-delimited file\n",
    "    \n",
    "    lineCount += 1 #add one to line count\n",
    "    \n",
    "    #Ignore header line\n",
    "    if lineCount == 1:\n",
    "        continue\n",
    "    \n",
    "    sampleID = line[0]\n",
    "    condition = line[1] \n",
    "    experiment = line[2]\n",
    "    \n",
    "    sampleDict[sampleID] = [condition, experiment] #Track how samples are linked to conditions and experiments\n",
    "    conditionDict[condition] = experiment\n",
    "    experiments.append(experiment)\n",
    "    \n",
    "#Also append to experiments \n",
    "print('Stored sample-condition links for %i samples' % len(sampleDict.keys()))\n",
    "print('    from %i conditions' % len(conditionDict.keys()))\n",
    "\n",
    "experiments = np.unique(experiments)\n",
    "print('    and %i experimental groups' % len(experiments))\n"
   ]
  },
  {
   "cell_type": "markdown",
   "metadata": {},
   "source": [
    "___________"
   ]
  },
  {
   "cell_type": "markdown",
   "metadata": {},
   "source": [
    "### Store gene expression data for genes in geneList"
   ]
  },
  {
   "cell_type": "code",
   "execution_count": 25,
   "metadata": {},
   "outputs": [
    {
     "name": "stdout",
     "output_type": "stream",
     "text": [
      "268 samples stored in samples list\n",
      "    from 52 conditions\n",
      "Experimental expression values for 81 genes stored\n"
     ]
    }
   ],
   "source": [
    "\n",
    "expDict = {}\n",
    "samples = [] #Store the samples, in order defined by header line\n",
    "conditions = []\n",
    "sampleExpDict = {} #Store expression for ALL samples in one dictionary\n",
    "\n",
    "lineCount = 0 #track line count\n",
    "\n",
    "for line in open(expFile, 'r'):\n",
    "    line=line.rstrip().split('\\t') #split by tab -- is a tab-delimited file \n",
    "    lineCount += 1\n",
    "    \n",
    "    #Sample identifiers stored in header line. Will use samples as keys for expDict\n",
    "    if lineCount == 1:\n",
    "        for i in range(1,len(line)): #Sample names start at column 2 (index 1), column 1 == gene\n",
    "            sampleID = line[i]\n",
    "            samples.append(sampleID)\n",
    "            \n",
    "            #Determine condition based on the sample ID by searching sampleDict\n",
    "            condition = sampleDict[sampleID][0]\n",
    "            conditions.append(condition)\n",
    "            \n",
    "        print('%i samples stored in samples list' % len(samples))\n",
    "        conditions = np.unique(conditions)\n",
    "        print('    from %i conditions' % len(conditions))\n",
    "        continue\n",
    "        \n",
    "    #Gene ID always in column 1\n",
    "    geneID = line[0]\n",
    "    \n",
    "    #If the gene is not in the geneList list, continue\n",
    "    if geneID not in geneList:\n",
    "        continue\n",
    "    \n",
    "    #Start populating dictionary with the following structure\n",
    "    #.    expDict[geneID][sampleID] = [[sampleID,expressionValue],[sampleID,expressionValue],[sampleID,expressionValue]...]\n",
    "    expDict[geneID] = {}\n",
    "    for condition in conditionDict.keys(): #Set up cleared lists to track expression levels per condition\n",
    "        experiment = conditionDict[condition]\n",
    "        if experiment not in expDict[geneID].keys():\n",
    "            expDict[geneID][experiment] = {}\n",
    "        expDict[geneID][experiment][condition] = []\n",
    "    \n",
    "    #Create empty key for samples in sampleExpDict\n",
    "    sampleExpDict[geneID] = {}\n",
    "    \n",
    "    #Create new key per sampleID\n",
    "    for sampleID in samples:\n",
    "        #What column is the sample in samples?\n",
    "        SampleColumnNumber = samples.index(sampleID)\n",
    "        \n",
    "        #What condition does this sample belong to?\n",
    "        #Determine the condition the sample belongs to from sampleDict dictionary\n",
    "        condition = sampleDict[sampleID][0]\n",
    "        experiment = sampleDict[sampleID][1]\n",
    "            \n",
    "        #Now extract expression level from same column that matches the sample\n",
    "        expressionValue = float(line[SampleColumnNumber+1])\n",
    "        \n",
    "        #Store in dictionary\n",
    "        expDict[geneID][experiment][condition].append(expressionValue)\n",
    "\n",
    "        #Populate dictionary to store the samples' expression\n",
    "        sampleExpDict[geneID][sampleID] = expressionValue\n",
    "\n",
    "print('Experimental expression values for %i genes stored' % len(expDict.keys()))\n"
   ]
  },
  {
   "cell_type": "markdown",
   "metadata": {},
   "source": [
    "#### Calculate the average expression value, per gene, per condition"
   ]
  },
  {
   "cell_type": "code",
   "execution_count": 26,
   "metadata": {},
   "outputs": [
    {
     "name": "stdout",
     "output_type": "stream",
     "text": [
      "Average expression levels stored for 81 genes\n"
     ]
    }
   ],
   "source": [
    "meanExpressionDict = {}\n",
    "\n",
    "for geneID in expDict.keys():\n",
    "    meanExpressionDict[geneID] = {} #Define the average dictionary for this gene\n",
    "    \n",
    "    for condition in conditionDict.keys():  \n",
    "        experiment = conditionDict[condition] #get this condition's experimental group it belongs to\n",
    "        #Create experiment key\n",
    "        if experiment not in meanExpressionDict[geneID].keys():\n",
    "            meanExpressionDict[geneID][experiment] = {}\n",
    "            \n",
    "        #Get the array of total expression values for this gene under the given condition\n",
    "        allExpressionValues = expDict[geneID][experiment][condition]\n",
    "        \n",
    "        #Now calculate the mean, minimum, and maximum expression\n",
    "        meanExpression = np.mean(allExpressionValues) \n",
    "        minExpression = min(allExpressionValues)\n",
    "        maxExpression = max(allExpressionValues)\n",
    "        \n",
    "        meanExpressionDict[geneID][experiment][condition] = [meanExpression, minExpression, maxExpression] #store the expression value\n",
    "print('Average expression levels stored for %i genes' % len(meanExpressionDict.keys()))   "
   ]
  },
  {
   "cell_type": "markdown",
   "metadata": {},
   "source": [
    "___________"
   ]
  },
  {
   "cell_type": "markdown",
   "metadata": {},
   "source": [
    "## Line plot"
   ]
  },
  {
   "cell_type": "markdown",
   "metadata": {},
   "source": [
    "Here, we will draw line plots that will show the expression levels per gene (with standard error bars) across all conditions. "
   ]
  },
  {
   "cell_type": "code",
   "execution_count": 27,
   "metadata": {},
   "outputs": [],
   "source": [
    "def get_plot_colors(genesToPlot):\n",
    "    NUM_COLORS = len(genesToPlot) #how many colors our plot will have depends on how many genes\n",
    "    \n",
    "    #The number of line styles we need also depends on the number of genes we have\n",
    "    # if we dont have a lot, we will only use solid lines. While more complexity is needed\n",
    "    # as gene count increases, so we can distinguish each gene\n",
    "    if NUM_COLORS < 20:\n",
    "        LINE_STYLES=['solid']\n",
    "    if NUM_COLORS >= 20 and NUM_COLORS <= 50:\n",
    "        #LINE_STYLES = ['solid', 'dashed', 'dashdot']\n",
    "        LINE_STYLES = ['solid', 'dot']\n",
    "    if NUM_COLORS >= 50:\n",
    "        #LINE_STYLES = ['solid', 'dashed', 'dashdot', 'dotted']\n",
    "        LINE_STYLES = ['solid', 'dot', 'dash']\n",
    "    NUM_STYLES = len(LINE_STYLES)\n",
    "\n",
    "    #return the following plotting variables\n",
    "    return NUM_COLORS, LINE_STYLES, NUM_STYLES"
   ]
  },
  {
   "cell_type": "markdown",
   "metadata": {},
   "source": [
    "#### Colors\n",
    "Below are 500 random colors for plotting"
   ]
  },
  {
   "cell_type": "code",
   "execution_count": 28,
   "metadata": {},
   "outputs": [],
   "source": [
    "colors =  [\n",
    "\"#63b598\", \"#ce7d78\", \"#ea9e70\", \"#a48a9e\", \"#c6e1e8\", \"#648177\" ,\"#0d5ac1\" ,\n",
    "\"#f205e6\" ,\"#1c0365\" ,\"#14a9ad\" ,\"#4ca2f9\" ,\"#a4e43f\" ,\"#d298e2\" ,\"#6119d0\",\n",
    "\"#d2737d\" ,\"#c0a43c\" ,\"#f2510e\" ,\"#651be6\" ,\"#79806e\" ,\"#61da5e\" ,\"#cd2f00\" ,\n",
    "\"#9348af\" ,\"#01ac53\" ,\"#c5a4fb\" ,\"#996635\",\"#b11573\" ,\"#4bb473\" ,\"#75d89e\" ,\n",
    "\"#2f3f94\" ,\"#2f7b99\" ,\"#da967d\" ,\"#34891f\" ,\"#b0d87b\" ,\"#ca4751\" ,\"#7e50a8\" ,\n",
    "\"#c4d647\" ,\"#e0eeb8\" ,\"#11dec1\" ,\"#289812\" ,\"#566ca0\" ,\"#ffdbe1\" ,\"#2f1179\" ,\n",
    "\"#935b6d\" ,\"#916988\" ,\"#513d98\" ,\"#aead3a\", \"#9e6d71\", \"#4b5bdc\", \"#0cd36d\",\n",
    "\"#250662\", \"#cb5bea\", \"#228916\", \"#ac3e1b\", \"#df514a\", \"#539397\", \"#880977\",\n",
    "\"#f697c1\", \"#ba96ce\", \"#679c9d\", \"#c6c42c\", \"#5d2c52\", \"#48b41b\", \"#e1cf3b\",\n",
    "\"#5be4f0\", \"#57c4d8\", \"#a4d17a\", \"#225b8e\", \"#be608b\", \"#96b00c\", \"#088baf\",\n",
    "\"#f158bf\", \"#e145ba\", \"#ee91e3\", \"#05d371\", \"#5426e0\", \"#4834d0\", \"#802234\",\n",
    "\"#6749e8\", \"#0971f0\", \"#8fb413\", \"#b2b4f0\", \"#c3c89d\", \"#c9a941\", \"#41d158\",\n",
    "\"#fb21a3\", \"#51aed9\", \"#5bb32d\", \"#807fbc\", \"#21538e\", \"#89d534\", \"#d36647\",\n",
    "\"#7fb411\", \"#0023b8\", \"#3b8c2a\", \"#986b53\", \"#f50422\", \"#983f7a\", \"#ea24a3\",\n",
    "\"#79352c\", \"#521250\", \"#c79ed2\", \"#d6dd92\", \"#e33e52\", \"#b2be57\", \"#fa06ec\",\n",
    "\"#1bb699\", \"#6b2e5f\", \"#64820f\", \"#59fa98\", \"#21538e\", \"#89d534\", \"#d36647\",\n",
    "\"#7fb411\", \"#0023b8\", \"#3b8c2a\", \"#986b53\", \"#f50422\", \"#983f7a\", \"#ea24a3\",\n",
    "\"#79352c\", \"#521250\", \"#c79ed2\", \"#d6dd92\", \"#e33e52\", \"#b2be57\", \"#fa06ec\",\n",
    "\"#1bb699\", \"#6b2e5f\", \"#64820f\", \"#9cb64a\", \"#996c48\", \"#9ab9b7\",\n",
    "\"#06e052\", \"#e3a481\", \"#0eb621\", \"#fc458e\", \"#b2db15\", \"#aa226d\", \"#792ed8\",\n",
    "\"#73872a\", \"#520d3a\", \"#cefcb8\", \"#a5b3d9\", \"#7d1d85\", \"#c4fd57\", \"#f1ae16\",\n",
    "\"#8fe22a\", \"#ef6e3c\", \"#243eeb\", \"#f870de\", \"#dd93fd\", \"#3f8473\", \"#e7dbce\",\n",
    "\"#421f79\", \"#7a3d93\", \"#635f6d\", \"#93f2d7\", \"#9b5c2a\", \"#15b9ee\", \"#0f5997\",\n",
    "\"#409188\", \"#911e20\", \"#1350ce\", \"#10e5b1\", \"#fff4d7\", \"#cb2582\", \"#ce00be\",\n",
    "\"#32d5d6\", \"#7721ea\", \"#608572\", \"#c79bc2\", \"#00f87c\", \"#77772a\", \"#6995ba\",\n",
    "\"#fc6b57\", \"#f07815\", \"#8fd883\", \"#060e27\", \"#96e591\", \"#21d52e\", \"#d00043\",\n",
    "\"#b47162\", \"#1ec227\", \"#4f0f6f\", \"#1d1d58\", \"#947002\", \"#bde052\", \"#e08c56\",\n",
    "\"#28fcfd\", \"#a0882c\", \"#36486a\", \"#d02e29\", \"#1ae6db\", \"#3e464c\", \"#a84a8f\",\n",
    "\"#911e7e\", \"#3f16d9\", \"#0f525f\", \"#ac7c0a\", \"#b4c086\", \"#c9d730\", \"#30cc49\",\n",
    "\"#3d6751\", \"#fb4c03\", \"#640fc1\", \"#62c03e\", \"#d3493a\", \"#88aa0b\", \"#406df9\",\n",
    "\"#615af0\", \"#8f5c71\", \"#2a3434\", \"#4a543f\", \"#79bca0\", \"#a8b8d4\", \"#00efd4\",\n",
    "\"#7ad236\", \"#7260d8\", \"#1deaa7\", \"#06f43a\", \"#823c59\", \"#e3d94c\", \"#dc1c06\",\n",
    "\"#f53b2a\", \"#b46238\", \"#2dfff6\", \"#a82b89\", \"#1a8011\", \"#436a9f\", \"#1a806a\",\n",
    "\"#4cf09d\", \"#c188a2\", \"#67eb4b\", \"#b308d3\", \"#fc7e41\", \"#af3101\", \"#e8ca24\",\n",
    "\"#71b1f4\", \"#a2f8a5\", \"#e23dd0\", \"#d3486d\", \"#00f7f9\", \"#474893\", \"#3cec35\",\n",
    "\"#1c65cb\", \"#5d1d0c\", \"#2d7d2a\", \"#ff3420\", \"#5cdd87\", \"#a259a4\", \"#e4ac44\",\n",
    "\"#1bede6\", \"#8798a4\", \"#d7790f\", \"#b2c24f\", \"#de73c2\", \"#d70a9c\", \"#25b67c\",\n",
    "\"#88e9b8\", \"#c2b0e2\", \"#86e98f\", \"#ae90e2\", \"#1a806b\", \"#436a9e\", \"#0ec0ff\",\n",
    "\"#f812b3\", \"#b17fc9\", \"#8d6c2f\", \"#d3277a\", \"#2ca1ae\", \"#9685eb\", \"#8a96c6\",\n",
    "\"#dba2e6\", \"#76fc1b\", \"#608fa4\", \"#20f6ba\", \"#07d7f6\", \"#dce77a\", \"#77ecca\"]"
   ]
  },
  {
   "cell_type": "markdown",
   "metadata": {},
   "source": [
    "#### Drawing plot"
   ]
  },
  {
   "cell_type": "code",
   "execution_count": 29,
   "metadata": {},
   "outputs": [
    {
     "data": {
      "application/vnd.plotly.v1+json": {
       "data": [
        {
         "line": {
          "color": "#ce7d78",
          "dash": "dot",
          "width": 4
         },
         "mode": "lines+markers",
         "name": "Sevir.9G282425",
         "type": "scatter",
         "uid": "f3dd54de-3633-11ea-9c5e-79fdfc20b759",
         "x": [
          "Cold_Control_AC_L",
          "Cold_Control_AC_S",
          "Cold_17C_AC_L",
          "Cold_17C_AC_S",
          "Cold_Control_NAC_L",
          "Cold_17C_NAC_L"
         ],
         "y": [
          0,
          0,
          0.4,
          0,
          0,
          0
         ]
        },
        {
         "line": {
          "color": "#ea9e70",
          "dash": "dash",
          "width": 4
         },
         "mode": "lines+markers",
         "name": "Sevir.7G018910",
         "type": "scatter",
         "uid": "f3dd5be6-3633-11ea-9c5e-79fdfc20b759",
         "x": [
          "Cold_Control_AC_L",
          "Cold_Control_AC_S",
          "Cold_17C_AC_L",
          "Cold_17C_AC_S",
          "Cold_Control_NAC_L",
          "Cold_17C_NAC_L"
         ],
         "y": [
          0,
          0,
          0,
          0,
          0,
          0
         ]
        },
        {
         "line": {
          "color": "#a48a9e",
          "dash": "solid",
          "width": 4
         },
         "mode": "lines+markers",
         "name": "Sevir.5G044500",
         "type": "scatter",
         "uid": "f3dd5e66-3633-11ea-9c5e-79fdfc20b759",
         "x": [
          "Cold_Control_AC_L",
          "Cold_Control_AC_S",
          "Cold_17C_AC_L",
          "Cold_17C_AC_S",
          "Cold_Control_NAC_L",
          "Cold_17C_NAC_L"
         ],
         "y": [
          0,
          0,
          0,
          0.2,
          0,
          0
         ]
        },
        {
         "line": {
          "color": "#c6e1e8",
          "dash": "dot",
          "width": 4
         },
         "mode": "lines+markers",
         "name": "Sevir.2G127900",
         "type": "scatter",
         "uid": "f3dd6064-3633-11ea-9c5e-79fdfc20b759",
         "x": [
          "Cold_Control_AC_L",
          "Cold_Control_AC_S",
          "Cold_17C_AC_L",
          "Cold_17C_AC_S",
          "Cold_Control_NAC_L",
          "Cold_17C_NAC_L"
         ],
         "y": [
          0.5,
          0,
          0,
          0,
          0.4,
          0.4
         ]
        },
        {
         "line": {
          "color": "#648177",
          "dash": "dash",
          "width": 4
         },
         "mode": "lines+markers",
         "name": "Sevir.5G129000",
         "type": "scatter",
         "uid": "f3dd6230-3633-11ea-9c5e-79fdfc20b759",
         "x": [
          "Cold_Control_AC_L",
          "Cold_Control_AC_S",
          "Cold_17C_AC_L",
          "Cold_17C_AC_S",
          "Cold_Control_NAC_L",
          "Cold_17C_NAC_L"
         ],
         "y": [
          0.5808175,
          0,
          0,
          1.089886,
          0.250166,
          0.494406
         ]
        },
        {
         "line": {
          "color": "#0d5ac1",
          "dash": "solid",
          "width": 4
         },
         "mode": "lines+markers",
         "name": "Sevir.2G354400",
         "type": "scatter",
         "uid": "f3dd63f2-3633-11ea-9c5e-79fdfc20b759",
         "x": [
          "Cold_Control_AC_L",
          "Cold_Control_AC_S",
          "Cold_17C_AC_L",
          "Cold_17C_AC_S",
          "Cold_Control_NAC_L",
          "Cold_17C_NAC_L"
         ],
         "y": [
          0,
          0,
          0,
          0,
          0.2,
          0
         ]
        },
        {
         "line": {
          "color": "#f205e6",
          "dash": "dot",
          "width": 4
         },
         "mode": "lines+markers",
         "name": "Sevir.2G152600",
         "type": "scatter",
         "uid": "f3dd65aa-3633-11ea-9c5e-79fdfc20b759",
         "x": [
          "Cold_Control_AC_L",
          "Cold_Control_AC_S",
          "Cold_17C_AC_L",
          "Cold_17C_AC_S",
          "Cold_Control_NAC_L",
          "Cold_17C_NAC_L"
         ],
         "y": [
          0,
          0,
          0,
          0,
          0,
          0
         ]
        },
        {
         "line": {
          "color": "#1c0365",
          "dash": "dash",
          "width": 4
         },
         "mode": "lines+markers",
         "name": "Sevir.7G023700",
         "type": "scatter",
         "uid": "f3dd6762-3633-11ea-9c5e-79fdfc20b759",
         "x": [
          "Cold_Control_AC_L",
          "Cold_Control_AC_S",
          "Cold_17C_AC_L",
          "Cold_17C_AC_S",
          "Cold_Control_NAC_L",
          "Cold_17C_NAC_L"
         ],
         "y": [
          0,
          0.8587020000000001,
          0,
          0,
          0.2,
          0
         ]
        },
        {
         "line": {
          "color": "#14a9ad",
          "dash": "solid",
          "width": 4
         },
         "mode": "lines+markers",
         "name": "Sevir.4G118900",
         "type": "scatter",
         "uid": "f3dd6910-3633-11ea-9c5e-79fdfc20b759",
         "x": [
          "Cold_Control_AC_L",
          "Cold_Control_AC_S",
          "Cold_17C_AC_L",
          "Cold_17C_AC_S",
          "Cold_Control_NAC_L",
          "Cold_17C_NAC_L"
         ],
         "y": [
          0,
          0,
          0,
          0.2,
          0.4,
          0
         ]
        },
        {
         "line": {
          "color": "#4ca2f9",
          "dash": "dot",
          "width": 4
         },
         "mode": "lines+markers",
         "name": "Sevir.8G081600",
         "type": "scatter",
         "uid": "f3dd6abe-3633-11ea-9c5e-79fdfc20b759",
         "x": [
          "Cold_Control_AC_L",
          "Cold_Control_AC_S",
          "Cold_17C_AC_L",
          "Cold_17C_AC_S",
          "Cold_Control_NAC_L",
          "Cold_17C_NAC_L"
         ],
         "y": [
          0,
          0,
          0,
          0,
          0,
          0
         ]
        },
        {
         "line": {
          "color": "#a4e43f",
          "dash": "dash",
          "width": 4
         },
         "mode": "lines+markers",
         "name": "Sevir.5G364132",
         "type": "scatter",
         "uid": "f3dd6c76-3633-11ea-9c5e-79fdfc20b759",
         "x": [
          "Cold_Control_AC_L",
          "Cold_Control_AC_S",
          "Cold_17C_AC_L",
          "Cold_17C_AC_S",
          "Cold_Control_NAC_L",
          "Cold_17C_NAC_L"
         ],
         "y": [
          0,
          0,
          0,
          0,
          0,
          0
         ]
        },
        {
         "line": {
          "color": "#d298e2",
          "dash": "solid",
          "width": 4
         },
         "mode": "lines+markers",
         "name": "Sevir.4G263301",
         "type": "scatter",
         "uid": "f3dd6e24-3633-11ea-9c5e-79fdfc20b759",
         "x": [
          "Cold_Control_AC_L",
          "Cold_Control_AC_S",
          "Cold_17C_AC_L",
          "Cold_17C_AC_S",
          "Cold_Control_NAC_L",
          "Cold_17C_NAC_L"
         ],
         "y": [
          0,
          0,
          0,
          0,
          0,
          0
         ]
        },
        {
         "line": {
          "color": "#6119d0",
          "dash": "dot",
          "width": 4
         },
         "mode": "lines+markers",
         "name": "Sevir.9G099466",
         "type": "scatter",
         "uid": "f3dd6fc8-3633-11ea-9c5e-79fdfc20b759",
         "x": [
          "Cold_Control_AC_L",
          "Cold_Control_AC_S",
          "Cold_17C_AC_L",
          "Cold_17C_AC_S",
          "Cold_Control_NAC_L",
          "Cold_17C_NAC_L"
         ],
         "y": [
          0,
          0.2,
          0,
          0,
          0,
          0.2
         ]
        },
        {
         "line": {
          "color": "#d2737d",
          "dash": "dash",
          "width": 4
         },
         "mode": "lines+markers",
         "name": "Sevir.9G078500",
         "type": "scatter",
         "uid": "f3dd7176-3633-11ea-9c5e-79fdfc20b759",
         "x": [
          "Cold_Control_AC_L",
          "Cold_Control_AC_S",
          "Cold_17C_AC_L",
          "Cold_17C_AC_S",
          "Cold_Control_NAC_L",
          "Cold_17C_NAC_L"
         ],
         "y": [
          0,
          0,
          0,
          0,
          0,
          0
         ]
        },
        {
         "line": {
          "color": "#c0a43c",
          "dash": "solid",
          "width": 4
         },
         "mode": "lines+markers",
         "name": "Sevir.2G263800",
         "type": "scatter",
         "uid": "f3dd7324-3633-11ea-9c5e-79fdfc20b759",
         "x": [
          "Cold_Control_AC_L",
          "Cold_Control_AC_S",
          "Cold_17C_AC_L",
          "Cold_17C_AC_S",
          "Cold_Control_NAC_L",
          "Cold_17C_NAC_L"
         ],
         "y": [
          0,
          0,
          0,
          0,
          0,
          0
         ]
        },
        {
         "line": {
          "color": "#f2510e",
          "dash": "dot",
          "width": 4
         },
         "mode": "lines+markers",
         "name": "Sevir.8G218520",
         "type": "scatter",
         "uid": "f3dd74d2-3633-11ea-9c5e-79fdfc20b759",
         "x": [
          "Cold_Control_AC_L",
          "Cold_Control_AC_S",
          "Cold_17C_AC_L",
          "Cold_17C_AC_S",
          "Cold_Control_NAC_L",
          "Cold_17C_NAC_L"
         ],
         "y": [
          0,
          0,
          0,
          0,
          0,
          0
         ]
        },
        {
         "line": {
          "color": "#651be6",
          "dash": "dash",
          "width": 4
         },
         "mode": "lines+markers",
         "name": "Sevir.3G390900",
         "type": "scatter",
         "uid": "f3dd768a-3633-11ea-9c5e-79fdfc20b759",
         "x": [
          "Cold_Control_AC_L",
          "Cold_Control_AC_S",
          "Cold_17C_AC_L",
          "Cold_17C_AC_S",
          "Cold_Control_NAC_L",
          "Cold_17C_NAC_L"
         ],
         "y": [
          0,
          0,
          0,
          0,
          0,
          0
         ]
        },
        {
         "line": {
          "color": "#79806e",
          "dash": "solid",
          "width": 4
         },
         "mode": "lines+markers",
         "name": "Sevir.9G165400",
         "type": "scatter",
         "uid": "f3dd7838-3633-11ea-9c5e-79fdfc20b759",
         "x": [
          "Cold_Control_AC_L",
          "Cold_Control_AC_S",
          "Cold_17C_AC_L",
          "Cold_17C_AC_S",
          "Cold_Control_NAC_L",
          "Cold_17C_NAC_L"
         ],
         "y": [
          0,
          0,
          0,
          1.2,
          0,
          0
         ]
        },
        {
         "line": {
          "color": "#61da5e",
          "dash": "dot",
          "width": 4
         },
         "mode": "lines+markers",
         "name": "Sevir.8G245140",
         "type": "scatter",
         "uid": "f3dd79dc-3633-11ea-9c5e-79fdfc20b759",
         "x": [
          "Cold_Control_AC_L",
          "Cold_Control_AC_S",
          "Cold_17C_AC_L",
          "Cold_17C_AC_S",
          "Cold_Control_NAC_L",
          "Cold_17C_NAC_L"
         ],
         "y": [
          0,
          0,
          0,
          0.2,
          0,
          0
         ]
        },
        {
         "line": {
          "color": "#cd2f00",
          "dash": "dash",
          "width": 4
         },
         "mode": "lines+markers",
         "name": "Sevir.8G087000",
         "type": "scatter",
         "uid": "f3dd7b8a-3633-11ea-9c5e-79fdfc20b759",
         "x": [
          "Cold_Control_AC_L",
          "Cold_Control_AC_S",
          "Cold_17C_AC_L",
          "Cold_17C_AC_S",
          "Cold_Control_NAC_L",
          "Cold_17C_NAC_L"
         ],
         "y": [
          0,
          0,
          0,
          0,
          0,
          0
         ]
        },
        {
         "line": {
          "color": "#9348af",
          "dash": "solid",
          "width": 4
         },
         "mode": "lines+markers",
         "name": "Sevir.9G576201",
         "type": "scatter",
         "uid": "f3dd7d38-3633-11ea-9c5e-79fdfc20b759",
         "x": [
          "Cold_Control_AC_L",
          "Cold_Control_AC_S",
          "Cold_17C_AC_L",
          "Cold_17C_AC_S",
          "Cold_Control_NAC_L",
          "Cold_17C_NAC_L"
         ],
         "y": [
          0,
          0.390976,
          0,
          0,
          0,
          0
         ]
        },
        {
         "line": {
          "color": "#01ac53",
          "dash": "dot",
          "width": 4
         },
         "mode": "lines+markers",
         "name": "Sevir.5G470750",
         "type": "scatter",
         "uid": "f3dd80da-3633-11ea-9c5e-79fdfc20b759",
         "x": [
          "Cold_Control_AC_L",
          "Cold_Control_AC_S",
          "Cold_17C_AC_L",
          "Cold_17C_AC_S",
          "Cold_Control_NAC_L",
          "Cold_17C_NAC_L"
         ],
         "y": [
          0.25,
          0.8,
          0,
          0.2,
          0,
          0.2
         ]
        },
        {
         "line": {
          "color": "#c5a4fb",
          "dash": "dash",
          "width": 4
         },
         "mode": "lines+markers",
         "name": "Sevir.1G060850",
         "type": "scatter",
         "uid": "f3dd8332-3633-11ea-9c5e-79fdfc20b759",
         "x": [
          "Cold_Control_AC_L",
          "Cold_Control_AC_S",
          "Cold_17C_AC_L",
          "Cold_17C_AC_S",
          "Cold_Control_NAC_L",
          "Cold_17C_NAC_L"
         ],
         "y": [
          0,
          0,
          0,
          0,
          0,
          0
         ]
        },
        {
         "line": {
          "color": "#996635",
          "dash": "solid",
          "width": 4
         },
         "mode": "lines+markers",
         "name": "Sevir.2G280500",
         "type": "scatter",
         "uid": "f3dd84ea-3633-11ea-9c5e-79fdfc20b759",
         "x": [
          "Cold_Control_AC_L",
          "Cold_Control_AC_S",
          "Cold_17C_AC_L",
          "Cold_17C_AC_S",
          "Cold_Control_NAC_L",
          "Cold_17C_NAC_L"
         ],
         "y": [
          0,
          0,
          0.1663402,
          0,
          0,
          0.2
         ]
        },
        {
         "line": {
          "color": "#b11573",
          "dash": "dot",
          "width": 4
         },
         "mode": "lines+markers",
         "name": "Sevir.9G268200",
         "type": "scatter",
         "uid": "f3dd8698-3633-11ea-9c5e-79fdfc20b759",
         "x": [
          "Cold_Control_AC_L",
          "Cold_Control_AC_S",
          "Cold_17C_AC_L",
          "Cold_17C_AC_S",
          "Cold_Control_NAC_L",
          "Cold_17C_NAC_L"
         ],
         "y": [
          0,
          0,
          0,
          0,
          0,
          0
         ]
        },
        {
         "line": {
          "color": "#4bb473",
          "dash": "dash",
          "width": 4
         },
         "mode": "lines+markers",
         "name": "Sevir.4G143101",
         "type": "scatter",
         "uid": "f3dd8846-3633-11ea-9c5e-79fdfc20b759",
         "x": [
          "Cold_Control_AC_L",
          "Cold_Control_AC_S",
          "Cold_17C_AC_L",
          "Cold_17C_AC_S",
          "Cold_Control_NAC_L",
          "Cold_17C_NAC_L"
         ],
         "y": [
          0,
          0,
          0,
          0,
          0,
          0
         ]
        },
        {
         "line": {
          "color": "#75d89e",
          "dash": "solid",
          "width": 4
         },
         "mode": "lines+markers",
         "name": "Sevir.2G342800",
         "type": "scatter",
         "uid": "f3dd89f4-3633-11ea-9c5e-79fdfc20b759",
         "x": [
          "Cold_Control_AC_L",
          "Cold_Control_AC_S",
          "Cold_17C_AC_L",
          "Cold_17C_AC_S",
          "Cold_Control_NAC_L",
          "Cold_17C_NAC_L"
         ],
         "y": [
          0,
          0,
          0,
          0,
          0,
          0
         ]
        },
        {
         "line": {
          "color": "#2f3f94",
          "dash": "dot",
          "width": 4
         },
         "mode": "lines+markers",
         "name": "Sevir.1G019900",
         "type": "scatter",
         "uid": "f3dd8ba2-3633-11ea-9c5e-79fdfc20b759",
         "x": [
          "Cold_Control_AC_L",
          "Cold_Control_AC_S",
          "Cold_17C_AC_L",
          "Cold_17C_AC_S",
          "Cold_Control_NAC_L",
          "Cold_17C_NAC_L"
         ],
         "y": [
          0.25,
          0,
          0,
          0,
          0.4,
          0.6
         ]
        },
        {
         "line": {
          "color": "#2f7b99",
          "dash": "dash",
          "width": 4
         },
         "mode": "lines+markers",
         "name": "Sevir.3G353500",
         "type": "scatter",
         "uid": "f3dd8d46-3633-11ea-9c5e-79fdfc20b759",
         "x": [
          "Cold_Control_AC_L",
          "Cold_Control_AC_S",
          "Cold_17C_AC_L",
          "Cold_17C_AC_S",
          "Cold_Control_NAC_L",
          "Cold_17C_NAC_L"
         ],
         "y": [
          0,
          0,
          0,
          0,
          0,
          0
         ]
        },
        {
         "line": {
          "color": "#da967d",
          "dash": "solid",
          "width": 4
         },
         "mode": "lines+markers",
         "name": "Sevir.7G189700",
         "type": "scatter",
         "uid": "f3dd8ef4-3633-11ea-9c5e-79fdfc20b759",
         "x": [
          "Cold_Control_AC_L",
          "Cold_Control_AC_S",
          "Cold_17C_AC_L",
          "Cold_17C_AC_S",
          "Cold_Control_NAC_L",
          "Cold_17C_NAC_L"
         ],
         "y": [
          0,
          0,
          0,
          0.4,
          0,
          0
         ]
        },
        {
         "line": {
          "color": "#34891f",
          "dash": "dot",
          "width": 4
         },
         "mode": "lines+markers",
         "name": "Sevir.4G118600",
         "type": "scatter",
         "uid": "f3dd9098-3633-11ea-9c5e-79fdfc20b759",
         "x": [
          "Cold_Control_AC_L",
          "Cold_Control_AC_S",
          "Cold_17C_AC_L",
          "Cold_17C_AC_S",
          "Cold_Control_NAC_L",
          "Cold_17C_NAC_L"
         ],
         "y": [
          0,
          0,
          0,
          0.6,
          0.2,
          0.018163679999999998
         ]
        },
        {
         "line": {
          "color": "#b0d87b",
          "dash": "dash",
          "width": 4
         },
         "mode": "lines+markers",
         "name": "Sevir.5G315900",
         "type": "scatter",
         "uid": "f3dd923c-3633-11ea-9c5e-79fdfc20b759",
         "x": [
          "Cold_Control_AC_L",
          "Cold_Control_AC_S",
          "Cold_17C_AC_L",
          "Cold_17C_AC_S",
          "Cold_Control_NAC_L",
          "Cold_17C_NAC_L"
         ],
         "y": [
          0,
          0.2,
          0,
          0,
          0,
          0
         ]
        },
        {
         "line": {
          "color": "#ca4751",
          "dash": "solid",
          "width": 4
         },
         "mode": "lines+markers",
         "name": "Sevir.1G110232",
         "type": "scatter",
         "uid": "f3dd93e0-3633-11ea-9c5e-79fdfc20b759",
         "x": [
          "Cold_Control_AC_L",
          "Cold_Control_AC_S",
          "Cold_17C_AC_L",
          "Cold_17C_AC_S",
          "Cold_Control_NAC_L",
          "Cold_17C_NAC_L"
         ],
         "y": [
          0,
          0.2,
          0,
          0,
          0,
          0
         ]
        },
        {
         "line": {
          "color": "#7e50a8",
          "dash": "dot",
          "width": 4
         },
         "mode": "lines+markers",
         "name": "Sevir.5G206100",
         "type": "scatter",
         "uid": "f3dd9584-3633-11ea-9c5e-79fdfc20b759",
         "x": [
          "Cold_Control_AC_L",
          "Cold_Control_AC_S",
          "Cold_17C_AC_L",
          "Cold_17C_AC_S",
          "Cold_Control_NAC_L",
          "Cold_17C_NAC_L"
         ],
         "y": [
          0,
          0,
          0.2,
          0,
          0,
          0
         ]
        },
        {
         "line": {
          "color": "#c4d647",
          "dash": "dash",
          "width": 4
         },
         "mode": "lines+markers",
         "name": "Sevir.3G353200",
         "type": "scatter",
         "uid": "f3dd9732-3633-11ea-9c5e-79fdfc20b759",
         "x": [
          "Cold_Control_AC_L",
          "Cold_Control_AC_S",
          "Cold_17C_AC_L",
          "Cold_17C_AC_S",
          "Cold_Control_NAC_L",
          "Cold_17C_NAC_L"
         ],
         "y": [
          0.25,
          0,
          0,
          0,
          0,
          0
         ]
        },
        {
         "line": {
          "color": "#e0eeb8",
          "dash": "solid",
          "width": 4
         },
         "mode": "lines+markers",
         "name": "Sevir.4G093300",
         "type": "scatter",
         "uid": "f3dd98e0-3633-11ea-9c5e-79fdfc20b759",
         "x": [
          "Cold_Control_AC_L",
          "Cold_Control_AC_S",
          "Cold_17C_AC_L",
          "Cold_17C_AC_S",
          "Cold_Control_NAC_L",
          "Cold_17C_NAC_L"
         ],
         "y": [
          0,
          0.6,
          0.2,
          0,
          0.4,
          0.4
         ]
        },
        {
         "line": {
          "color": "#11dec1",
          "dash": "dot",
          "width": 4
         },
         "mode": "lines+markers",
         "name": "Sevir.1G171100",
         "type": "scatter",
         "uid": "f3dd9a84-3633-11ea-9c5e-79fdfc20b759",
         "x": [
          "Cold_Control_AC_L",
          "Cold_Control_AC_S",
          "Cold_17C_AC_L",
          "Cold_17C_AC_S",
          "Cold_Control_NAC_L",
          "Cold_17C_NAC_L"
         ],
         "y": [
          0,
          0,
          0.6,
          0,
          0.2,
          0
         ]
        },
        {
         "line": {
          "color": "#289812",
          "dash": "dash",
          "width": 4
         },
         "mode": "lines+markers",
         "name": "Sevir.2G305750",
         "type": "scatter",
         "uid": "f3dd9c28-3633-11ea-9c5e-79fdfc20b759",
         "x": [
          "Cold_Control_AC_L",
          "Cold_Control_AC_S",
          "Cold_17C_AC_L",
          "Cold_17C_AC_S",
          "Cold_Control_NAC_L",
          "Cold_17C_NAC_L"
         ],
         "y": [
          0.65815,
          0.1046524,
          0.0626274,
          0,
          0.92211,
          0.62141
         ]
        },
        {
         "line": {
          "color": "#566ca0",
          "dash": "solid",
          "width": 4
         },
         "mode": "lines+markers",
         "name": "Sevir.9G169700",
         "type": "scatter",
         "uid": "f3dd9dd6-3633-11ea-9c5e-79fdfc20b759",
         "x": [
          "Cold_Control_AC_L",
          "Cold_Control_AC_S",
          "Cold_17C_AC_L",
          "Cold_17C_AC_S",
          "Cold_Control_NAC_L",
          "Cold_17C_NAC_L"
         ],
         "y": [
          0,
          0,
          0,
          0,
          0,
          0
         ]
        },
        {
         "line": {
          "color": "#ffdbe1",
          "dash": "dot",
          "width": 4
         },
         "mode": "lines+markers",
         "name": "Sevir.1G020800",
         "type": "scatter",
         "uid": "f3dd9f7a-3633-11ea-9c5e-79fdfc20b759",
         "x": [
          "Cold_Control_AC_L",
          "Cold_Control_AC_S",
          "Cold_17C_AC_L",
          "Cold_17C_AC_S",
          "Cold_Control_NAC_L",
          "Cold_17C_NAC_L"
         ],
         "y": [
          0,
          0,
          0,
          0,
          0,
          0
         ]
        },
        {
         "line": {
          "color": "#2f1179",
          "dash": "dash",
          "width": 4
         },
         "mode": "lines+markers",
         "name": "Sevir.5G194900",
         "type": "scatter",
         "uid": "f3dda11e-3633-11ea-9c5e-79fdfc20b759",
         "x": [
          "Cold_Control_AC_L",
          "Cold_Control_AC_S",
          "Cold_17C_AC_L",
          "Cold_17C_AC_S",
          "Cold_Control_NAC_L",
          "Cold_17C_NAC_L"
         ],
         "y": [
          0,
          0,
          0,
          0,
          0,
          0
         ]
        },
        {
         "line": {
          "color": "#935b6d",
          "dash": "solid",
          "width": 4
         },
         "mode": "lines+markers",
         "name": "Sevir.6G028050",
         "type": "scatter",
         "uid": "f3dda2c2-3633-11ea-9c5e-79fdfc20b759",
         "x": [
          "Cold_Control_AC_L",
          "Cold_Control_AC_S",
          "Cold_17C_AC_L",
          "Cold_17C_AC_S",
          "Cold_Control_NAC_L",
          "Cold_17C_NAC_L"
         ],
         "y": [
          0,
          0,
          0,
          0,
          0,
          0
         ]
        },
        {
         "line": {
          "color": "#916988",
          "dash": "dot",
          "width": 4
         },
         "mode": "lines+markers",
         "name": "Sevir.2G003200",
         "type": "scatter",
         "uid": "f3dda470-3633-11ea-9c5e-79fdfc20b759",
         "x": [
          "Cold_Control_AC_L",
          "Cold_Control_AC_S",
          "Cold_17C_AC_L",
          "Cold_17C_AC_S",
          "Cold_Control_NAC_L",
          "Cold_17C_NAC_L"
         ],
         "y": [
          0,
          0,
          0,
          0,
          0,
          0
         ]
        },
        {
         "line": {
          "color": "#513d98",
          "dash": "dash",
          "width": 4
         },
         "mode": "lines+markers",
         "name": "Sevir.8G079100",
         "type": "scatter",
         "uid": "f3dda70e-3633-11ea-9c5e-79fdfc20b759",
         "x": [
          "Cold_Control_AC_L",
          "Cold_Control_AC_S",
          "Cold_17C_AC_L",
          "Cold_17C_AC_S",
          "Cold_Control_NAC_L",
          "Cold_17C_NAC_L"
         ],
         "y": [
          0,
          0,
          0,
          0,
          0,
          0
         ]
        },
        {
         "line": {
          "color": "#aead3a",
          "dash": "solid",
          "width": 4
         },
         "mode": "lines+markers",
         "name": "Sevir.4G293501",
         "type": "scatter",
         "uid": "f3dda902-3633-11ea-9c5e-79fdfc20b759",
         "x": [
          "Cold_Control_AC_L",
          "Cold_Control_AC_S",
          "Cold_17C_AC_L",
          "Cold_17C_AC_S",
          "Cold_Control_NAC_L",
          "Cold_17C_NAC_L"
         ],
         "y": [
          0,
          0,
          0,
          0,
          0,
          0
         ]
        },
        {
         "line": {
          "color": "#9e6d71",
          "dash": "dot",
          "width": 4
         },
         "mode": "lines+markers",
         "name": "Sevir.7G022900",
         "type": "scatter",
         "uid": "f3ddaab0-3633-11ea-9c5e-79fdfc20b759",
         "x": [
          "Cold_Control_AC_L",
          "Cold_Control_AC_S",
          "Cold_17C_AC_L",
          "Cold_17C_AC_S",
          "Cold_Control_NAC_L",
          "Cold_17C_NAC_L"
         ],
         "y": [
          0,
          0,
          0,
          0,
          0,
          0
         ]
        },
        {
         "line": {
          "color": "#4b5bdc",
          "dash": "dash",
          "width": 4
         },
         "mode": "lines+markers",
         "name": "Sevir.8G165900",
         "type": "scatter",
         "uid": "f3ddac5e-3633-11ea-9c5e-79fdfc20b759",
         "x": [
          "Cold_Control_AC_L",
          "Cold_Control_AC_S",
          "Cold_17C_AC_L",
          "Cold_17C_AC_S",
          "Cold_Control_NAC_L",
          "Cold_17C_NAC_L"
         ],
         "y": [
          0,
          0,
          0,
          0,
          0,
          0
         ]
        },
        {
         "line": {
          "color": "#0cd36d",
          "dash": "solid",
          "width": 4
         },
         "mode": "lines+markers",
         "name": "Sevir.9G092300",
         "type": "scatter",
         "uid": "f3ddae84-3633-11ea-9c5e-79fdfc20b759",
         "x": [
          "Cold_Control_AC_L",
          "Cold_Control_AC_S",
          "Cold_17C_AC_L",
          "Cold_17C_AC_S",
          "Cold_Control_NAC_L",
          "Cold_17C_NAC_L"
         ],
         "y": [
          0,
          0,
          0,
          0,
          0,
          0
         ]
        },
        {
         "line": {
          "color": "#250662",
          "dash": "dot",
          "width": 4
         },
         "mode": "lines+markers",
         "name": "Sevir.6G113200",
         "type": "scatter",
         "uid": "f3ddb032-3633-11ea-9c5e-79fdfc20b759",
         "x": [
          "Cold_Control_AC_L",
          "Cold_Control_AC_S",
          "Cold_17C_AC_L",
          "Cold_17C_AC_S",
          "Cold_Control_NAC_L",
          "Cold_17C_NAC_L"
         ],
         "y": [
          0,
          0,
          0,
          0,
          0,
          0
         ]
        },
        {
         "line": {
          "color": "#cb5bea",
          "dash": "dash",
          "width": 4
         },
         "mode": "lines+markers",
         "name": "Sevir.4G160200",
         "type": "scatter",
         "uid": "f3ddb1d6-3633-11ea-9c5e-79fdfc20b759",
         "x": [
          "Cold_Control_AC_L",
          "Cold_Control_AC_S",
          "Cold_17C_AC_L",
          "Cold_17C_AC_S",
          "Cold_Control_NAC_L",
          "Cold_17C_NAC_L"
         ],
         "y": [
          0,
          0,
          0,
          0,
          0,
          0
         ]
        },
        {
         "line": {
          "color": "#228916",
          "dash": "solid",
          "width": 4
         },
         "mode": "lines+markers",
         "name": "Sevir.5G037400",
         "type": "scatter",
         "uid": "f3ddb37a-3633-11ea-9c5e-79fdfc20b759",
         "x": [
          "Cold_Control_AC_L",
          "Cold_Control_AC_S",
          "Cold_17C_AC_L",
          "Cold_17C_AC_S",
          "Cold_Control_NAC_L",
          "Cold_17C_NAC_L"
         ],
         "y": [
          0,
          0,
          0,
          0,
          0,
          0
         ]
        },
        {
         "line": {
          "color": "#ac3e1b",
          "dash": "dot",
          "width": 4
         },
         "mode": "lines+markers",
         "name": "Sevir.3G298200",
         "type": "scatter",
         "uid": "f3ddb528-3633-11ea-9c5e-79fdfc20b759",
         "x": [
          "Cold_Control_AC_L",
          "Cold_Control_AC_S",
          "Cold_17C_AC_L",
          "Cold_17C_AC_S",
          "Cold_Control_NAC_L",
          "Cold_17C_NAC_L"
         ],
         "y": [
          0,
          0,
          0,
          0,
          0,
          0
         ]
        },
        {
         "line": {
          "color": "#df514a",
          "dash": "dash",
          "width": 4
         },
         "mode": "lines+markers",
         "name": "Sevir.2G437300",
         "type": "scatter",
         "uid": "f3ddb6cc-3633-11ea-9c5e-79fdfc20b759",
         "x": [
          "Cold_Control_AC_L",
          "Cold_Control_AC_S",
          "Cold_17C_AC_L",
          "Cold_17C_AC_S",
          "Cold_Control_NAC_L",
          "Cold_17C_NAC_L"
         ],
         "y": [
          0,
          0,
          0,
          0,
          0,
          0
         ]
        },
        {
         "line": {
          "color": "#539397",
          "dash": "solid",
          "width": 4
         },
         "mode": "lines+markers",
         "name": "Sevir.9G095700",
         "type": "scatter",
         "uid": "f3ddb866-3633-11ea-9c5e-79fdfc20b759",
         "x": [
          "Cold_Control_AC_L",
          "Cold_Control_AC_S",
          "Cold_17C_AC_L",
          "Cold_17C_AC_S",
          "Cold_Control_NAC_L",
          "Cold_17C_NAC_L"
         ],
         "y": [
          0,
          0,
          0,
          0,
          0,
          0
         ]
        },
        {
         "line": {
          "color": "#880977",
          "dash": "dot",
          "width": 4
         },
         "mode": "lines+markers",
         "name": "Sevir.1G265000",
         "type": "scatter",
         "uid": "f3ddba0a-3633-11ea-9c5e-79fdfc20b759",
         "x": [
          "Cold_Control_AC_L",
          "Cold_Control_AC_S",
          "Cold_17C_AC_L",
          "Cold_17C_AC_S",
          "Cold_Control_NAC_L",
          "Cold_17C_NAC_L"
         ],
         "y": [
          0,
          0,
          0,
          0,
          0,
          0
         ]
        },
        {
         "line": {
          "color": "#f697c1",
          "dash": "dash",
          "width": 4
         },
         "mode": "lines+markers",
         "name": "Sevir.5G418900",
         "type": "scatter",
         "uid": "f3ddbbae-3633-11ea-9c5e-79fdfc20b759",
         "x": [
          "Cold_Control_AC_L",
          "Cold_Control_AC_S",
          "Cold_17C_AC_L",
          "Cold_17C_AC_S",
          "Cold_Control_NAC_L",
          "Cold_17C_NAC_L"
         ],
         "y": [
          0,
          0,
          0,
          0,
          0,
          0
         ]
        },
        {
         "line": {
          "color": "#ba96ce",
          "dash": "solid",
          "width": 4
         },
         "mode": "lines+markers",
         "name": "Sevir.8G237700",
         "type": "scatter",
         "uid": "f3ddbd48-3633-11ea-9c5e-79fdfc20b759",
         "x": [
          "Cold_Control_AC_L",
          "Cold_Control_AC_S",
          "Cold_17C_AC_L",
          "Cold_17C_AC_S",
          "Cold_Control_NAC_L",
          "Cold_17C_NAC_L"
         ],
         "y": [
          0,
          0,
          0,
          0,
          0,
          0
         ]
        },
        {
         "line": {
          "color": "#679c9d",
          "dash": "dot",
          "width": 4
         },
         "mode": "lines+markers",
         "name": "Sevir.2G177600",
         "type": "scatter",
         "uid": "f3ddbeec-3633-11ea-9c5e-79fdfc20b759",
         "x": [
          "Cold_Control_AC_L",
          "Cold_Control_AC_S",
          "Cold_17C_AC_L",
          "Cold_17C_AC_S",
          "Cold_Control_NAC_L",
          "Cold_17C_NAC_L"
         ],
         "y": [
          0,
          0,
          0,
          0,
          0.2,
          0
         ]
        },
        {
         "line": {
          "color": "#c6c42c",
          "dash": "dash",
          "width": 4
         },
         "mode": "lines+markers",
         "name": "Sevir.9G253801",
         "type": "scatter",
         "uid": "f3ddc086-3633-11ea-9c5e-79fdfc20b759",
         "x": [
          "Cold_Control_AC_L",
          "Cold_Control_AC_S",
          "Cold_17C_AC_L",
          "Cold_17C_AC_S",
          "Cold_Control_NAC_L",
          "Cold_17C_NAC_L"
         ],
         "y": [
          0,
          0,
          0,
          0,
          0,
          0
         ]
        },
        {
         "line": {
          "color": "#5d2c52",
          "dash": "solid",
          "width": 4
         },
         "mode": "lines+markers",
         "name": "Sevir.6G183566",
         "type": "scatter",
         "uid": "f3ddc22a-3633-11ea-9c5e-79fdfc20b759",
         "x": [
          "Cold_Control_AC_L",
          "Cold_Control_AC_S",
          "Cold_17C_AC_L",
          "Cold_17C_AC_S",
          "Cold_Control_NAC_L",
          "Cold_17C_NAC_L"
         ],
         "y": [
          0,
          0,
          0,
          0,
          0,
          0
         ]
        },
        {
         "line": {
          "color": "#48b41b",
          "dash": "dot",
          "width": 4
         },
         "mode": "lines+markers",
         "name": "Sevir.8G259500",
         "type": "scatter",
         "uid": "f3ddc3ce-3633-11ea-9c5e-79fdfc20b759",
         "x": [
          "Cold_Control_AC_L",
          "Cold_Control_AC_S",
          "Cold_17C_AC_L",
          "Cold_17C_AC_S",
          "Cold_Control_NAC_L",
          "Cold_17C_NAC_L"
         ],
         "y": [
          0,
          0,
          0.2,
          1,
          0,
          0.2
         ]
        },
        {
         "line": {
          "color": "#e1cf3b",
          "dash": "dash",
          "width": 4
         },
         "mode": "lines+markers",
         "name": "Sevir.5G036550",
         "type": "scatter",
         "uid": "f3ddc568-3633-11ea-9c5e-79fdfc20b759",
         "x": [
          "Cold_Control_AC_L",
          "Cold_Control_AC_S",
          "Cold_17C_AC_L",
          "Cold_17C_AC_S",
          "Cold_Control_NAC_L",
          "Cold_17C_NAC_L"
         ],
         "y": [
          0.25,
          0.4,
          0,
          0,
          0.2,
          0
         ]
        },
        {
         "line": {
          "color": "#5be4f0",
          "dash": "solid",
          "width": 4
         },
         "mode": "lines+markers",
         "name": "Sevir.7G279700",
         "type": "scatter",
         "uid": "f3ddc70c-3633-11ea-9c5e-79fdfc20b759",
         "x": [
          "Cold_Control_AC_L",
          "Cold_Control_AC_S",
          "Cold_17C_AC_L",
          "Cold_17C_AC_S",
          "Cold_Control_NAC_L",
          "Cold_17C_NAC_L"
         ],
         "y": [
          0,
          0,
          0,
          0.6,
          0,
          0
         ]
        },
        {
         "line": {
          "color": "#57c4d8",
          "dash": "dot",
          "width": 4
         },
         "mode": "lines+markers",
         "name": "Sevir.8G068450",
         "type": "scatter",
         "uid": "f3ddc8a6-3633-11ea-9c5e-79fdfc20b759",
         "x": [
          "Cold_Control_AC_L",
          "Cold_Control_AC_S",
          "Cold_17C_AC_L",
          "Cold_17C_AC_S",
          "Cold_Control_NAC_L",
          "Cold_17C_NAC_L"
         ],
         "y": [
          0,
          0,
          0,
          0,
          0,
          0
         ]
        },
        {
         "line": {
          "color": "#a4d17a",
          "dash": "dash",
          "width": 4
         },
         "mode": "lines+markers",
         "name": "Sevir.9G576750",
         "type": "scatter",
         "uid": "f3ddca40-3633-11ea-9c5e-79fdfc20b759",
         "x": [
          "Cold_Control_AC_L",
          "Cold_Control_AC_S",
          "Cold_17C_AC_L",
          "Cold_17C_AC_S",
          "Cold_Control_NAC_L",
          "Cold_17C_NAC_L"
         ],
         "y": [
          0.25,
          1.4,
          1,
          3.4,
          0,
          0
         ]
        },
        {
         "line": {
          "color": "#225b8e",
          "dash": "solid",
          "width": 4
         },
         "mode": "lines+markers",
         "name": "Sevir.9G248533",
         "type": "scatter",
         "uid": "f3ddcbda-3633-11ea-9c5e-79fdfc20b759",
         "x": [
          "Cold_Control_AC_L",
          "Cold_Control_AC_S",
          "Cold_17C_AC_L",
          "Cold_17C_AC_S",
          "Cold_Control_NAC_L",
          "Cold_17C_NAC_L"
         ],
         "y": [
          0,
          0.2,
          0,
          0.4,
          0,
          0
         ]
        },
        {
         "line": {
          "color": "#be608b",
          "dash": "dot",
          "width": 4
         },
         "mode": "lines+markers",
         "name": "Sevir.1G379100",
         "type": "scatter",
         "uid": "f3ddce5a-3633-11ea-9c5e-79fdfc20b759",
         "x": [
          "Cold_Control_AC_L",
          "Cold_Control_AC_S",
          "Cold_17C_AC_L",
          "Cold_17C_AC_S",
          "Cold_Control_NAC_L",
          "Cold_17C_NAC_L"
         ],
         "y": [
          2.0832425,
          2.329842,
          2.730876,
          2.370506,
          4.934806,
          5.55291
         ]
        },
        {
         "line": {
          "color": "#96b00c",
          "dash": "dash",
          "width": 4
         },
         "mode": "lines+markers",
         "name": "Sevir.8G222414",
         "type": "scatter",
         "uid": "f3ddd03a-3633-11ea-9c5e-79fdfc20b759",
         "x": [
          "Cold_Control_AC_L",
          "Cold_Control_AC_S",
          "Cold_17C_AC_L",
          "Cold_17C_AC_S",
          "Cold_Control_NAC_L",
          "Cold_17C_NAC_L"
         ],
         "y": [
          0,
          0.6,
          0.2,
          0.2,
          0.4,
          0
         ]
        },
        {
         "line": {
          "color": "#088baf",
          "dash": "solid",
          "width": 4
         },
         "mode": "lines+markers",
         "name": "Sevir.6G039200",
         "type": "scatter",
         "uid": "f3ddd1de-3633-11ea-9c5e-79fdfc20b759",
         "x": [
          "Cold_Control_AC_L",
          "Cold_Control_AC_S",
          "Cold_17C_AC_L",
          "Cold_17C_AC_S",
          "Cold_Control_NAC_L",
          "Cold_17C_NAC_L"
         ],
         "y": [
          0,
          0.28384200000000004,
          0.277768,
          0.836654,
          0,
          0
         ]
        },
        {
         "line": {
          "color": "#f158bf",
          "dash": "dot",
          "width": 4
         },
         "mode": "lines+markers",
         "name": "Sevir.6G075100",
         "type": "scatter",
         "uid": "f3ddd382-3633-11ea-9c5e-79fdfc20b759",
         "x": [
          "Cold_Control_AC_L",
          "Cold_Control_AC_S",
          "Cold_17C_AC_L",
          "Cold_17C_AC_S",
          "Cold_Control_NAC_L",
          "Cold_17C_NAC_L"
         ],
         "y": [
          0,
          0,
          0,
          0.4,
          0,
          0
         ]
        },
        {
         "line": {
          "color": "#e145ba",
          "dash": "dash",
          "width": 4
         },
         "mode": "lines+markers",
         "name": "Sevir.3G331800",
         "type": "scatter",
         "uid": "f3ddd526-3633-11ea-9c5e-79fdfc20b759",
         "x": [
          "Cold_Control_AC_L",
          "Cold_Control_AC_S",
          "Cold_17C_AC_L",
          "Cold_17C_AC_S",
          "Cold_Control_NAC_L",
          "Cold_17C_NAC_L"
         ],
         "y": [
          0.25,
          0,
          0.4,
          0.2,
          0.8,
          2.6
         ]
        },
        {
         "line": {
          "color": "#ee91e3",
          "dash": "solid",
          "width": 4
         },
         "mode": "lines+markers",
         "name": "Sevir.4G164200",
         "type": "scatter",
         "uid": "f3ddd6ca-3633-11ea-9c5e-79fdfc20b759",
         "x": [
          "Cold_Control_AC_L",
          "Cold_Control_AC_S",
          "Cold_17C_AC_L",
          "Cold_17C_AC_S",
          "Cold_Control_NAC_L",
          "Cold_17C_NAC_L"
         ],
         "y": [
          0,
          0,
          0,
          0,
          0,
          0.2
         ]
        },
        {
         "line": {
          "color": "#05d371",
          "dash": "dot",
          "width": 4
         },
         "mode": "lines+markers",
         "name": "Sevir.9G347733",
         "type": "scatter",
         "uid": "f3ddd86e-3633-11ea-9c5e-79fdfc20b759",
         "x": [
          "Cold_Control_AC_L",
          "Cold_Control_AC_S",
          "Cold_17C_AC_L",
          "Cold_17C_AC_S",
          "Cold_Control_NAC_L",
          "Cold_17C_NAC_L"
         ],
         "y": [
          0,
          0,
          0.2,
          0,
          0.2,
          0.6
         ]
        },
        {
         "line": {
          "color": "#5426e0",
          "dash": "dash",
          "width": 4
         },
         "mode": "lines+markers",
         "name": "Sevir.2G396750",
         "type": "scatter",
         "uid": "f3ddda08-3633-11ea-9c5e-79fdfc20b759",
         "x": [
          "Cold_Control_AC_L",
          "Cold_Control_AC_S",
          "Cold_17C_AC_L",
          "Cold_17C_AC_S",
          "Cold_Control_NAC_L",
          "Cold_17C_NAC_L"
         ],
         "y": [
          0,
          0,
          0,
          0,
          0,
          0
         ]
        },
        {
         "line": {
          "color": "#4834d0",
          "dash": "solid",
          "width": 4
         },
         "mode": "lines+markers",
         "name": "Sevir.3G116100",
         "type": "scatter",
         "uid": "f3dddbb6-3633-11ea-9c5e-79fdfc20b759",
         "x": [
          "Cold_Control_AC_L",
          "Cold_Control_AC_S",
          "Cold_17C_AC_L",
          "Cold_17C_AC_S",
          "Cold_Control_NAC_L",
          "Cold_17C_NAC_L"
         ],
         "y": [
          0,
          0,
          0.2,
          1,
          0.2,
          0
         ]
        },
        {
         "line": {
          "color": "#802234",
          "dash": "dot",
          "width": 4
         },
         "mode": "lines+markers",
         "name": "Sevir.7G061100",
         "type": "scatter",
         "uid": "f3dddd50-3633-11ea-9c5e-79fdfc20b759",
         "x": [
          "Cold_Control_AC_L",
          "Cold_Control_AC_S",
          "Cold_17C_AC_L",
          "Cold_17C_AC_S",
          "Cold_Control_NAC_L",
          "Cold_17C_NAC_L"
         ],
         "y": [
          0,
          0,
          0,
          0,
          0,
          0
         ]
        },
        {
         "line": {
          "color": "#6749e8",
          "dash": "dash",
          "width": 4
         },
         "mode": "lines+markers",
         "name": "Sevir.2G307100",
         "type": "scatter",
         "uid": "f3dddeea-3633-11ea-9c5e-79fdfc20b759",
         "x": [
          "Cold_Control_AC_L",
          "Cold_Control_AC_S",
          "Cold_17C_AC_L",
          "Cold_17C_AC_S",
          "Cold_Control_NAC_L",
          "Cold_17C_NAC_L"
         ],
         "y": [
          0.25,
          0,
          0.2,
          0,
          0,
          0.4
         ]
        },
        {
         "line": {
          "color": "#0971f0",
          "dash": "solid",
          "width": 4
         },
         "mode": "lines+markers",
         "name": "Sevir.5G087400",
         "type": "scatter",
         "uid": "f3dde1c4-3633-11ea-9c5e-79fdfc20b759",
         "x": [
          "Cold_Control_AC_L",
          "Cold_Control_AC_S",
          "Cold_17C_AC_L",
          "Cold_17C_AC_S",
          "Cold_Control_NAC_L",
          "Cold_17C_NAC_L"
         ],
         "y": [
          0,
          0,
          0.2,
          0,
          0,
          0
         ]
        },
        {
         "line": {
          "color": "#8fb413",
          "dash": "dot",
          "width": 4
         },
         "mode": "lines+markers",
         "name": "Sevir.7G005300",
         "type": "scatter",
         "uid": "f3dde854-3633-11ea-9c5e-79fdfc20b759",
         "x": [
          "Cold_Control_AC_L",
          "Cold_Control_AC_S",
          "Cold_17C_AC_L",
          "Cold_17C_AC_S",
          "Cold_Control_NAC_L",
          "Cold_17C_NAC_L"
         ],
         "y": [
          0,
          0,
          0.2,
          0,
          0,
          0
         ]
        },
        {
         "line": {
          "color": "#b2b4f0",
          "dash": "dash",
          "width": 4
         },
         "mode": "lines+markers",
         "name": "Sevir.2G026100",
         "type": "scatter",
         "uid": "f3ddea66-3633-11ea-9c5e-79fdfc20b759",
         "x": [
          "Cold_Control_AC_L",
          "Cold_Control_AC_S",
          "Cold_17C_AC_L",
          "Cold_17C_AC_S",
          "Cold_Control_NAC_L",
          "Cold_17C_NAC_L"
         ],
         "y": [
          0,
          0,
          0,
          0,
          0.2,
          0.2
         ]
        },
        {
         "line": {
          "color": "#c3c89d",
          "dash": "solid",
          "width": 4
         },
         "mode": "lines+markers",
         "name": "Sevir.9G072900",
         "type": "scatter",
         "uid": "f3ddec00-3633-11ea-9c5e-79fdfc20b759",
         "x": [
          "Cold_Control_AC_L",
          "Cold_Control_AC_S",
          "Cold_17C_AC_L",
          "Cold_17C_AC_S",
          "Cold_Control_NAC_L",
          "Cold_17C_NAC_L"
         ],
         "y": [
          0,
          0.2,
          0.4,
          0,
          1,
          0
         ]
        }
       ],
       "layout": {
        "dragmode": "select",
        "plot_bgcolor": "white",
        "title": "Average Gene Expression - Cold",
        "xaxis": {
         "gridcolor": "whitesmoke",
         "showgrid": true,
         "title": "Experimental Conditions"
        },
        "yaxis": {
         "gridcolor": "whitesmoke",
         "showgrid": true,
         "title": "Expression"
        }
       }
      },
      "text/html": [
       "<div id=\"64f1fa2c-5a70-4fd1-8a3e-23bd75bfc7a1\" style=\"height: 525px; width: 100%;\" class=\"plotly-graph-div\"></div><script type=\"text/javascript\">require([\"plotly\"], function(Plotly) { window.PLOTLYENV=window.PLOTLYENV || {};window.PLOTLYENV.BASE_URL=\"https://plot.ly\";Plotly.newPlot(\"64f1fa2c-5a70-4fd1-8a3e-23bd75bfc7a1\", [{\"line\": {\"color\": \"#ce7d78\", \"dash\": \"dot\", \"width\": 4}, \"mode\": \"lines+markers\", \"name\": \"Sevir.9G282425\", \"x\": [\"Cold_Control_AC_L\", \"Cold_Control_AC_S\", \"Cold_17C_AC_L\", \"Cold_17C_AC_S\", \"Cold_Control_NAC_L\", \"Cold_17C_NAC_L\"], \"y\": [0.0, 0.0, 0.4, 0.0, 0.0, 0.0], \"type\": \"scatter\", \"uid\": \"f5752312-3633-11ea-9c5e-79fdfc20b759\"}, {\"line\": {\"color\": \"#ea9e70\", \"dash\": \"dash\", \"width\": 4}, \"mode\": \"lines+markers\", \"name\": \"Sevir.7G018910\", \"x\": [\"Cold_Control_AC_L\", \"Cold_Control_AC_S\", \"Cold_17C_AC_L\", \"Cold_17C_AC_S\", \"Cold_Control_NAC_L\", \"Cold_17C_NAC_L\"], \"y\": [0.0, 0.0, 0.0, 0.0, 0.0, 0.0], \"type\": \"scatter\", \"uid\": \"f57527f4-3633-11ea-9c5e-79fdfc20b759\"}, {\"line\": {\"color\": \"#a48a9e\", \"dash\": \"solid\", \"width\": 4}, \"mode\": \"lines+markers\", \"name\": \"Sevir.5G044500\", \"x\": [\"Cold_Control_AC_L\", \"Cold_Control_AC_S\", \"Cold_17C_AC_L\", \"Cold_17C_AC_S\", \"Cold_Control_NAC_L\", \"Cold_17C_NAC_L\"], \"y\": [0.0, 0.0, 0.0, 0.2, 0.0, 0.0], \"type\": \"scatter\", \"uid\": \"f5752a42-3633-11ea-9c5e-79fdfc20b759\"}, {\"line\": {\"color\": \"#c6e1e8\", \"dash\": \"dot\", \"width\": 4}, \"mode\": \"lines+markers\", \"name\": \"Sevir.2G127900\", \"x\": [\"Cold_Control_AC_L\", \"Cold_Control_AC_S\", \"Cold_17C_AC_L\", \"Cold_17C_AC_S\", \"Cold_Control_NAC_L\", \"Cold_17C_NAC_L\"], \"y\": [0.5, 0.0, 0.0, 0.0, 0.4, 0.4], \"type\": \"scatter\", \"uid\": \"f5752c22-3633-11ea-9c5e-79fdfc20b759\"}, {\"line\": {\"color\": \"#648177\", \"dash\": \"dash\", \"width\": 4}, \"mode\": \"lines+markers\", \"name\": \"Sevir.5G129000\", \"x\": [\"Cold_Control_AC_L\", \"Cold_Control_AC_S\", \"Cold_17C_AC_L\", \"Cold_17C_AC_S\", \"Cold_Control_NAC_L\", \"Cold_17C_NAC_L\"], \"y\": [0.5808175, 0.0, 0.0, 1.089886, 0.250166, 0.494406], \"type\": \"scatter\", \"uid\": \"f5752dda-3633-11ea-9c5e-79fdfc20b759\"}, {\"line\": {\"color\": \"#0d5ac1\", \"dash\": \"solid\", \"width\": 4}, \"mode\": \"lines+markers\", \"name\": \"Sevir.2G354400\", \"x\": [\"Cold_Control_AC_L\", \"Cold_Control_AC_S\", \"Cold_17C_AC_L\", \"Cold_17C_AC_S\", \"Cold_Control_NAC_L\", \"Cold_17C_NAC_L\"], \"y\": [0.0, 0.0, 0.0, 0.0, 0.2, 0.0], \"type\": \"scatter\", \"uid\": \"f5752f92-3633-11ea-9c5e-79fdfc20b759\"}, {\"line\": {\"color\": \"#f205e6\", \"dash\": \"dot\", \"width\": 4}, \"mode\": \"lines+markers\", \"name\": \"Sevir.2G152600\", \"x\": [\"Cold_Control_AC_L\", \"Cold_Control_AC_S\", \"Cold_17C_AC_L\", \"Cold_17C_AC_S\", \"Cold_Control_NAC_L\", \"Cold_17C_NAC_L\"], \"y\": [0.0, 0.0, 0.0, 0.0, 0.0, 0.0], \"type\": \"scatter\", \"uid\": \"f5753140-3633-11ea-9c5e-79fdfc20b759\"}, {\"line\": {\"color\": \"#1c0365\", \"dash\": \"dash\", \"width\": 4}, \"mode\": \"lines+markers\", \"name\": \"Sevir.7G023700\", \"x\": [\"Cold_Control_AC_L\", \"Cold_Control_AC_S\", \"Cold_17C_AC_L\", \"Cold_17C_AC_S\", \"Cold_Control_NAC_L\", \"Cold_17C_NAC_L\"], \"y\": [0.0, 0.8587020000000001, 0.0, 0.0, 0.2, 0.0], \"type\": \"scatter\", \"uid\": \"f57532ee-3633-11ea-9c5e-79fdfc20b759\"}, {\"line\": {\"color\": \"#14a9ad\", \"dash\": \"solid\", \"width\": 4}, \"mode\": \"lines+markers\", \"name\": \"Sevir.4G118900\", \"x\": [\"Cold_Control_AC_L\", \"Cold_Control_AC_S\", \"Cold_17C_AC_L\", \"Cold_17C_AC_S\", \"Cold_Control_NAC_L\", \"Cold_17C_NAC_L\"], \"y\": [0.0, 0.0, 0.0, 0.2, 0.4, 0.0], \"type\": \"scatter\", \"uid\": \"f5753492-3633-11ea-9c5e-79fdfc20b759\"}, {\"line\": {\"color\": \"#4ca2f9\", \"dash\": \"dot\", \"width\": 4}, \"mode\": \"lines+markers\", \"name\": \"Sevir.8G081600\", \"x\": [\"Cold_Control_AC_L\", \"Cold_Control_AC_S\", \"Cold_17C_AC_L\", \"Cold_17C_AC_S\", \"Cold_Control_NAC_L\", \"Cold_17C_NAC_L\"], \"y\": [0.0, 0.0, 0.0, 0.0, 0.0, 0.0], \"type\": \"scatter\", \"uid\": \"f5753744-3633-11ea-9c5e-79fdfc20b759\"}, {\"line\": {\"color\": \"#a4e43f\", \"dash\": \"dash\", \"width\": 4}, \"mode\": \"lines+markers\", \"name\": \"Sevir.5G364132\", \"x\": [\"Cold_Control_AC_L\", \"Cold_Control_AC_S\", \"Cold_17C_AC_L\", \"Cold_17C_AC_S\", \"Cold_Control_NAC_L\", \"Cold_17C_NAC_L\"], \"y\": [0.0, 0.0, 0.0, 0.0, 0.0, 0.0], \"type\": \"scatter\", \"uid\": \"f5753924-3633-11ea-9c5e-79fdfc20b759\"}, {\"line\": {\"color\": \"#d298e2\", \"dash\": \"solid\", \"width\": 4}, \"mode\": \"lines+markers\", \"name\": \"Sevir.4G263301\", \"x\": [\"Cold_Control_AC_L\", \"Cold_Control_AC_S\", \"Cold_17C_AC_L\", \"Cold_17C_AC_S\", \"Cold_Control_NAC_L\", \"Cold_17C_NAC_L\"], \"y\": [0.0, 0.0, 0.0, 0.0, 0.0, 0.0], \"type\": \"scatter\", \"uid\": \"f5753ac8-3633-11ea-9c5e-79fdfc20b759\"}, {\"line\": {\"color\": \"#6119d0\", \"dash\": \"dot\", \"width\": 4}, \"mode\": \"lines+markers\", \"name\": \"Sevir.9G099466\", \"x\": [\"Cold_Control_AC_L\", \"Cold_Control_AC_S\", \"Cold_17C_AC_L\", \"Cold_17C_AC_S\", \"Cold_Control_NAC_L\", \"Cold_17C_NAC_L\"], \"y\": [0.0, 0.2, 0.0, 0.0, 0.0, 0.2], \"type\": \"scatter\", \"uid\": \"f5753c76-3633-11ea-9c5e-79fdfc20b759\"}, {\"line\": {\"color\": \"#d2737d\", \"dash\": \"dash\", \"width\": 4}, \"mode\": \"lines+markers\", \"name\": \"Sevir.9G078500\", \"x\": [\"Cold_Control_AC_L\", \"Cold_Control_AC_S\", \"Cold_17C_AC_L\", \"Cold_17C_AC_S\", \"Cold_Control_NAC_L\", \"Cold_17C_NAC_L\"], \"y\": [0.0, 0.0, 0.0, 0.0, 0.0, 0.0], \"type\": \"scatter\", \"uid\": \"f5753e1a-3633-11ea-9c5e-79fdfc20b759\"}, {\"line\": {\"color\": \"#c0a43c\", \"dash\": \"solid\", \"width\": 4}, \"mode\": \"lines+markers\", \"name\": \"Sevir.2G263800\", \"x\": [\"Cold_Control_AC_L\", \"Cold_Control_AC_S\", \"Cold_17C_AC_L\", \"Cold_17C_AC_S\", \"Cold_Control_NAC_L\", \"Cold_17C_NAC_L\"], \"y\": [0.0, 0.0, 0.0, 0.0, 0.0, 0.0], \"type\": \"scatter\", \"uid\": \"f5753fbe-3633-11ea-9c5e-79fdfc20b759\"}, {\"line\": {\"color\": \"#f2510e\", \"dash\": \"dot\", \"width\": 4}, \"mode\": \"lines+markers\", \"name\": \"Sevir.8G218520\", \"x\": [\"Cold_Control_AC_L\", \"Cold_Control_AC_S\", \"Cold_17C_AC_L\", \"Cold_17C_AC_S\", \"Cold_Control_NAC_L\", \"Cold_17C_NAC_L\"], \"y\": [0.0, 0.0, 0.0, 0.0, 0.0, 0.0], \"type\": \"scatter\", \"uid\": \"f5754162-3633-11ea-9c5e-79fdfc20b759\"}, {\"line\": {\"color\": \"#651be6\", \"dash\": \"dash\", \"width\": 4}, \"mode\": \"lines+markers\", \"name\": \"Sevir.3G390900\", \"x\": [\"Cold_Control_AC_L\", \"Cold_Control_AC_S\", \"Cold_17C_AC_L\", \"Cold_17C_AC_S\", \"Cold_Control_NAC_L\", \"Cold_17C_NAC_L\"], \"y\": [0.0, 0.0, 0.0, 0.0, 0.0, 0.0], \"type\": \"scatter\", \"uid\": \"f5754306-3633-11ea-9c5e-79fdfc20b759\"}, {\"line\": {\"color\": \"#79806e\", \"dash\": \"solid\", \"width\": 4}, \"mode\": \"lines+markers\", \"name\": \"Sevir.9G165400\", \"x\": [\"Cold_Control_AC_L\", \"Cold_Control_AC_S\", \"Cold_17C_AC_L\", \"Cold_17C_AC_S\", \"Cold_Control_NAC_L\", \"Cold_17C_NAC_L\"], \"y\": [0.0, 0.0, 0.0, 1.2, 0.0, 0.0], \"type\": \"scatter\", \"uid\": \"f57544a0-3633-11ea-9c5e-79fdfc20b759\"}, {\"line\": {\"color\": \"#61da5e\", \"dash\": \"dot\", \"width\": 4}, \"mode\": \"lines+markers\", \"name\": \"Sevir.8G245140\", \"x\": [\"Cold_Control_AC_L\", \"Cold_Control_AC_S\", \"Cold_17C_AC_L\", \"Cold_17C_AC_S\", \"Cold_Control_NAC_L\", \"Cold_17C_NAC_L\"], \"y\": [0.0, 0.0, 0.0, 0.2, 0.0, 0.0], \"type\": \"scatter\", \"uid\": \"f575464e-3633-11ea-9c5e-79fdfc20b759\"}, {\"line\": {\"color\": \"#cd2f00\", \"dash\": \"dash\", \"width\": 4}, \"mode\": \"lines+markers\", \"name\": \"Sevir.8G087000\", \"x\": [\"Cold_Control_AC_L\", \"Cold_Control_AC_S\", \"Cold_17C_AC_L\", \"Cold_17C_AC_S\", \"Cold_Control_NAC_L\", \"Cold_17C_NAC_L\"], \"y\": [0.0, 0.0, 0.0, 0.0, 0.0, 0.0], \"type\": \"scatter\", \"uid\": \"f57547f2-3633-11ea-9c5e-79fdfc20b759\"}, {\"line\": {\"color\": \"#9348af\", \"dash\": \"solid\", \"width\": 4}, \"mode\": \"lines+markers\", \"name\": \"Sevir.9G576201\", \"x\": [\"Cold_Control_AC_L\", \"Cold_Control_AC_S\", \"Cold_17C_AC_L\", \"Cold_17C_AC_S\", \"Cold_Control_NAC_L\", \"Cold_17C_NAC_L\"], \"y\": [0.0, 0.390976, 0.0, 0.0, 0.0, 0.0], \"type\": \"scatter\", \"uid\": \"f5754996-3633-11ea-9c5e-79fdfc20b759\"}, {\"line\": {\"color\": \"#01ac53\", \"dash\": \"dot\", \"width\": 4}, \"mode\": \"lines+markers\", \"name\": \"Sevir.5G470750\", \"x\": [\"Cold_Control_AC_L\", \"Cold_Control_AC_S\", \"Cold_17C_AC_L\", \"Cold_17C_AC_S\", \"Cold_Control_NAC_L\", \"Cold_17C_NAC_L\"], \"y\": [0.25, 0.8, 0.0, 0.2, 0.0, 0.2], \"type\": \"scatter\", \"uid\": \"f5754bbc-3633-11ea-9c5e-79fdfc20b759\"}, {\"line\": {\"color\": \"#c5a4fb\", \"dash\": \"dash\", \"width\": 4}, \"mode\": \"lines+markers\", \"name\": \"Sevir.1G060850\", \"x\": [\"Cold_Control_AC_L\", \"Cold_Control_AC_S\", \"Cold_17C_AC_L\", \"Cold_17C_AC_S\", \"Cold_Control_NAC_L\", \"Cold_17C_NAC_L\"], \"y\": [0.0, 0.0, 0.0, 0.0, 0.0, 0.0], \"type\": \"scatter\", \"uid\": \"f5754d88-3633-11ea-9c5e-79fdfc20b759\"}, {\"line\": {\"color\": \"#996635\", \"dash\": \"solid\", \"width\": 4}, \"mode\": \"lines+markers\", \"name\": \"Sevir.2G280500\", \"x\": [\"Cold_Control_AC_L\", \"Cold_Control_AC_S\", \"Cold_17C_AC_L\", \"Cold_17C_AC_S\", \"Cold_Control_NAC_L\", \"Cold_17C_NAC_L\"], \"y\": [0.0, 0.0, 0.1663402, 0.0, 0.0, 0.2], \"type\": \"scatter\", \"uid\": \"f5754f36-3633-11ea-9c5e-79fdfc20b759\"}, {\"line\": {\"color\": \"#b11573\", \"dash\": \"dot\", \"width\": 4}, \"mode\": \"lines+markers\", \"name\": \"Sevir.9G268200\", \"x\": [\"Cold_Control_AC_L\", \"Cold_Control_AC_S\", \"Cold_17C_AC_L\", \"Cold_17C_AC_S\", \"Cold_Control_NAC_L\", \"Cold_17C_NAC_L\"], \"y\": [0.0, 0.0, 0.0, 0.0, 0.0, 0.0], \"type\": \"scatter\", \"uid\": \"f57550da-3633-11ea-9c5e-79fdfc20b759\"}, {\"line\": {\"color\": \"#4bb473\", \"dash\": \"dash\", \"width\": 4}, \"mode\": \"lines+markers\", \"name\": \"Sevir.4G143101\", \"x\": [\"Cold_Control_AC_L\", \"Cold_Control_AC_S\", \"Cold_17C_AC_L\", \"Cold_17C_AC_S\", \"Cold_Control_NAC_L\", \"Cold_17C_NAC_L\"], \"y\": [0.0, 0.0, 0.0, 0.0, 0.0, 0.0], \"type\": \"scatter\", \"uid\": \"f5755274-3633-11ea-9c5e-79fdfc20b759\"}, {\"line\": {\"color\": \"#75d89e\", \"dash\": \"solid\", \"width\": 4}, \"mode\": \"lines+markers\", \"name\": \"Sevir.2G342800\", \"x\": [\"Cold_Control_AC_L\", \"Cold_Control_AC_S\", \"Cold_17C_AC_L\", \"Cold_17C_AC_S\", \"Cold_Control_NAC_L\", \"Cold_17C_NAC_L\"], \"y\": [0.0, 0.0, 0.0, 0.0, 0.0, 0.0], \"type\": \"scatter\", \"uid\": \"f575540e-3633-11ea-9c5e-79fdfc20b759\"}, {\"line\": {\"color\": \"#2f3f94\", \"dash\": \"dot\", \"width\": 4}, \"mode\": \"lines+markers\", \"name\": \"Sevir.1G019900\", \"x\": [\"Cold_Control_AC_L\", \"Cold_Control_AC_S\", \"Cold_17C_AC_L\", \"Cold_17C_AC_S\", \"Cold_Control_NAC_L\", \"Cold_17C_NAC_L\"], \"y\": [0.25, 0.0, 0.0, 0.0, 0.4, 0.6], \"type\": \"scatter\", \"uid\": \"f57555a8-3633-11ea-9c5e-79fdfc20b759\"}, {\"line\": {\"color\": \"#2f7b99\", \"dash\": \"dash\", \"width\": 4}, \"mode\": \"lines+markers\", \"name\": \"Sevir.3G353500\", \"x\": [\"Cold_Control_AC_L\", \"Cold_Control_AC_S\", \"Cold_17C_AC_L\", \"Cold_17C_AC_S\", \"Cold_Control_NAC_L\", \"Cold_17C_NAC_L\"], \"y\": [0.0, 0.0, 0.0, 0.0, 0.0, 0.0], \"type\": \"scatter\", \"uid\": \"f5755742-3633-11ea-9c5e-79fdfc20b759\"}, {\"line\": {\"color\": \"#da967d\", \"dash\": \"solid\", \"width\": 4}, \"mode\": \"lines+markers\", \"name\": \"Sevir.7G189700\", \"x\": [\"Cold_Control_AC_L\", \"Cold_Control_AC_S\", \"Cold_17C_AC_L\", \"Cold_17C_AC_S\", \"Cold_Control_NAC_L\", \"Cold_17C_NAC_L\"], \"y\": [0.0, 0.0, 0.0, 0.4, 0.0, 0.0], \"type\": \"scatter\", \"uid\": \"f57558dc-3633-11ea-9c5e-79fdfc20b759\"}, {\"line\": {\"color\": \"#34891f\", \"dash\": \"dot\", \"width\": 4}, \"mode\": \"lines+markers\", \"name\": \"Sevir.4G118600\", \"x\": [\"Cold_Control_AC_L\", \"Cold_Control_AC_S\", \"Cold_17C_AC_L\", \"Cold_17C_AC_S\", \"Cold_Control_NAC_L\", \"Cold_17C_NAC_L\"], \"y\": [0.0, 0.0, 0.0, 0.6, 0.2, 0.018163679999999998], \"type\": \"scatter\", \"uid\": \"f5755a80-3633-11ea-9c5e-79fdfc20b759\"}, {\"line\": {\"color\": \"#b0d87b\", \"dash\": \"dash\", \"width\": 4}, \"mode\": \"lines+markers\", \"name\": \"Sevir.5G315900\", \"x\": [\"Cold_Control_AC_L\", \"Cold_Control_AC_S\", \"Cold_17C_AC_L\", \"Cold_17C_AC_S\", \"Cold_Control_NAC_L\", \"Cold_17C_NAC_L\"], \"y\": [0.0, 0.2, 0.0, 0.0, 0.0, 0.0], \"type\": \"scatter\", \"uid\": \"f5755c1a-3633-11ea-9c5e-79fdfc20b759\"}, {\"line\": {\"color\": \"#ca4751\", \"dash\": \"solid\", \"width\": 4}, \"mode\": \"lines+markers\", \"name\": \"Sevir.1G110232\", \"x\": [\"Cold_Control_AC_L\", \"Cold_Control_AC_S\", \"Cold_17C_AC_L\", \"Cold_17C_AC_S\", \"Cold_Control_NAC_L\", \"Cold_17C_NAC_L\"], \"y\": [0.0, 0.2, 0.0, 0.0, 0.0, 0.0], \"type\": \"scatter\", \"uid\": \"f5755ea4-3633-11ea-9c5e-79fdfc20b759\"}, {\"line\": {\"color\": \"#7e50a8\", \"dash\": \"dot\", \"width\": 4}, \"mode\": \"lines+markers\", \"name\": \"Sevir.5G206100\", \"x\": [\"Cold_Control_AC_L\", \"Cold_Control_AC_S\", \"Cold_17C_AC_L\", \"Cold_17C_AC_S\", \"Cold_Control_NAC_L\", \"Cold_17C_NAC_L\"], \"y\": [0.0, 0.0, 0.2, 0.0, 0.0, 0.0], \"type\": \"scatter\", \"uid\": \"f5756066-3633-11ea-9c5e-79fdfc20b759\"}, {\"line\": {\"color\": \"#c4d647\", \"dash\": \"dash\", \"width\": 4}, \"mode\": \"lines+markers\", \"name\": \"Sevir.3G353200\", \"x\": [\"Cold_Control_AC_L\", \"Cold_Control_AC_S\", \"Cold_17C_AC_L\", \"Cold_17C_AC_S\", \"Cold_Control_NAC_L\", \"Cold_17C_NAC_L\"], \"y\": [0.25, 0.0, 0.0, 0.0, 0.0, 0.0], \"type\": \"scatter\", \"uid\": \"f575620a-3633-11ea-9c5e-79fdfc20b759\"}, {\"line\": {\"color\": \"#e0eeb8\", \"dash\": \"solid\", \"width\": 4}, \"mode\": \"lines+markers\", \"name\": \"Sevir.4G093300\", \"x\": [\"Cold_Control_AC_L\", \"Cold_Control_AC_S\", \"Cold_17C_AC_L\", \"Cold_17C_AC_S\", \"Cold_Control_NAC_L\", \"Cold_17C_NAC_L\"], \"y\": [0.0, 0.6, 0.2, 0.0, 0.4, 0.4], \"type\": \"scatter\", \"uid\": \"f57563a4-3633-11ea-9c5e-79fdfc20b759\"}, {\"line\": {\"color\": \"#11dec1\", \"dash\": \"dot\", \"width\": 4}, \"mode\": \"lines+markers\", \"name\": \"Sevir.1G171100\", \"x\": [\"Cold_Control_AC_L\", \"Cold_Control_AC_S\", \"Cold_17C_AC_L\", \"Cold_17C_AC_S\", \"Cold_Control_NAC_L\", \"Cold_17C_NAC_L\"], \"y\": [0.0, 0.0, 0.6, 0.0, 0.2, 0.0], \"type\": \"scatter\", \"uid\": \"f5756548-3633-11ea-9c5e-79fdfc20b759\"}, {\"line\": {\"color\": \"#289812\", \"dash\": \"dash\", \"width\": 4}, \"mode\": \"lines+markers\", \"name\": \"Sevir.2G305750\", \"x\": [\"Cold_Control_AC_L\", \"Cold_Control_AC_S\", \"Cold_17C_AC_L\", \"Cold_17C_AC_S\", \"Cold_Control_NAC_L\", \"Cold_17C_NAC_L\"], \"y\": [0.65815, 0.1046524, 0.0626274, 0.0, 0.92211, 0.62141], \"type\": \"scatter\", \"uid\": \"f57566e2-3633-11ea-9c5e-79fdfc20b759\"}, {\"line\": {\"color\": \"#566ca0\", \"dash\": \"solid\", \"width\": 4}, \"mode\": \"lines+markers\", \"name\": \"Sevir.9G169700\", \"x\": [\"Cold_Control_AC_L\", \"Cold_Control_AC_S\", \"Cold_17C_AC_L\", \"Cold_17C_AC_S\", \"Cold_Control_NAC_L\", \"Cold_17C_NAC_L\"], \"y\": [0.0, 0.0, 0.0, 0.0, 0.0, 0.0], \"type\": \"scatter\", \"uid\": \"f5756890-3633-11ea-9c5e-79fdfc20b759\"}, {\"line\": {\"color\": \"#ffdbe1\", \"dash\": \"dot\", \"width\": 4}, \"mode\": \"lines+markers\", \"name\": \"Sevir.1G020800\", \"x\": [\"Cold_Control_AC_L\", \"Cold_Control_AC_S\", \"Cold_17C_AC_L\", \"Cold_17C_AC_S\", \"Cold_Control_NAC_L\", \"Cold_17C_NAC_L\"], \"y\": [0.0, 0.0, 0.0, 0.0, 0.0, 0.0], \"type\": \"scatter\", \"uid\": \"f5756a34-3633-11ea-9c5e-79fdfc20b759\"}, {\"line\": {\"color\": \"#2f1179\", \"dash\": \"dash\", \"width\": 4}, \"mode\": \"lines+markers\", \"name\": \"Sevir.5G194900\", \"x\": [\"Cold_Control_AC_L\", \"Cold_Control_AC_S\", \"Cold_17C_AC_L\", \"Cold_17C_AC_S\", \"Cold_Control_NAC_L\", \"Cold_17C_NAC_L\"], \"y\": [0.0, 0.0, 0.0, 0.0, 0.0, 0.0], \"type\": \"scatter\", \"uid\": \"f5756bce-3633-11ea-9c5e-79fdfc20b759\"}, {\"line\": {\"color\": \"#935b6d\", \"dash\": \"solid\", \"width\": 4}, \"mode\": \"lines+markers\", \"name\": \"Sevir.6G028050\", \"x\": [\"Cold_Control_AC_L\", \"Cold_Control_AC_S\", \"Cold_17C_AC_L\", \"Cold_17C_AC_S\", \"Cold_Control_NAC_L\", \"Cold_17C_NAC_L\"], \"y\": [0.0, 0.0, 0.0, 0.0, 0.0, 0.0], \"type\": \"scatter\", \"uid\": \"f5756d7c-3633-11ea-9c5e-79fdfc20b759\"}, {\"line\": {\"color\": \"#916988\", \"dash\": \"dot\", \"width\": 4}, \"mode\": \"lines+markers\", \"name\": \"Sevir.2G003200\", \"x\": [\"Cold_Control_AC_L\", \"Cold_Control_AC_S\", \"Cold_17C_AC_L\", \"Cold_17C_AC_S\", \"Cold_Control_NAC_L\", \"Cold_17C_NAC_L\"], \"y\": [0.0, 0.0, 0.0, 0.0, 0.0, 0.0], \"type\": \"scatter\", \"uid\": \"f5756f20-3633-11ea-9c5e-79fdfc20b759\"}, {\"line\": {\"color\": \"#513d98\", \"dash\": \"dash\", \"width\": 4}, \"mode\": \"lines+markers\", \"name\": \"Sevir.8G079100\", \"x\": [\"Cold_Control_AC_L\", \"Cold_Control_AC_S\", \"Cold_17C_AC_L\", \"Cold_17C_AC_S\", \"Cold_Control_NAC_L\", \"Cold_17C_NAC_L\"], \"y\": [0.0, 0.0, 0.0, 0.0, 0.0, 0.0], \"type\": \"scatter\", \"uid\": \"f57570c4-3633-11ea-9c5e-79fdfc20b759\"}, {\"line\": {\"color\": \"#aead3a\", \"dash\": \"solid\", \"width\": 4}, \"mode\": \"lines+markers\", \"name\": \"Sevir.4G293501\", \"x\": [\"Cold_Control_AC_L\", \"Cold_Control_AC_S\", \"Cold_17C_AC_L\", \"Cold_17C_AC_S\", \"Cold_Control_NAC_L\", \"Cold_17C_NAC_L\"], \"y\": [0.0, 0.0, 0.0, 0.0, 0.0, 0.0], \"type\": \"scatter\", \"uid\": \"f575725e-3633-11ea-9c5e-79fdfc20b759\"}, {\"line\": {\"color\": \"#9e6d71\", \"dash\": \"dot\", \"width\": 4}, \"mode\": \"lines+markers\", \"name\": \"Sevir.7G022900\", \"x\": [\"Cold_Control_AC_L\", \"Cold_Control_AC_S\", \"Cold_17C_AC_L\", \"Cold_17C_AC_S\", \"Cold_Control_NAC_L\", \"Cold_17C_NAC_L\"], \"y\": [0.0, 0.0, 0.0, 0.0, 0.0, 0.0], \"type\": \"scatter\", \"uid\": \"f5757402-3633-11ea-9c5e-79fdfc20b759\"}, {\"line\": {\"color\": \"#4b5bdc\", \"dash\": \"dash\", \"width\": 4}, \"mode\": \"lines+markers\", \"name\": \"Sevir.8G165900\", \"x\": [\"Cold_Control_AC_L\", \"Cold_Control_AC_S\", \"Cold_17C_AC_L\", \"Cold_17C_AC_S\", \"Cold_Control_NAC_L\", \"Cold_17C_NAC_L\"], \"y\": [0.0, 0.0, 0.0, 0.0, 0.0, 0.0], \"type\": \"scatter\", \"uid\": \"f575759c-3633-11ea-9c5e-79fdfc20b759\"}, {\"line\": {\"color\": \"#0cd36d\", \"dash\": \"solid\", \"width\": 4}, \"mode\": \"lines+markers\", \"name\": \"Sevir.9G092300\", \"x\": [\"Cold_Control_AC_L\", \"Cold_Control_AC_S\", \"Cold_17C_AC_L\", \"Cold_17C_AC_S\", \"Cold_Control_NAC_L\", \"Cold_17C_NAC_L\"], \"y\": [0.0, 0.0, 0.0, 0.0, 0.0, 0.0], \"type\": \"scatter\", \"uid\": \"f5757740-3633-11ea-9c5e-79fdfc20b759\"}, {\"line\": {\"color\": \"#250662\", \"dash\": \"dot\", \"width\": 4}, \"mode\": \"lines+markers\", \"name\": \"Sevir.6G113200\", \"x\": [\"Cold_Control_AC_L\", \"Cold_Control_AC_S\", \"Cold_17C_AC_L\", \"Cold_17C_AC_S\", \"Cold_Control_NAC_L\", \"Cold_17C_NAC_L\"], \"y\": [0.0, 0.0, 0.0, 0.0, 0.0, 0.0], \"type\": \"scatter\", \"uid\": \"f57578e4-3633-11ea-9c5e-79fdfc20b759\"}, {\"line\": {\"color\": \"#cb5bea\", \"dash\": \"dash\", \"width\": 4}, \"mode\": \"lines+markers\", \"name\": \"Sevir.4G160200\", \"x\": [\"Cold_Control_AC_L\", \"Cold_Control_AC_S\", \"Cold_17C_AC_L\", \"Cold_17C_AC_S\", \"Cold_Control_NAC_L\", \"Cold_17C_NAC_L\"], \"y\": [0.0, 0.0, 0.0, 0.0, 0.0, 0.0], \"type\": \"scatter\", \"uid\": \"f5757a88-3633-11ea-9c5e-79fdfc20b759\"}, {\"line\": {\"color\": \"#228916\", \"dash\": \"solid\", \"width\": 4}, \"mode\": \"lines+markers\", \"name\": \"Sevir.5G037400\", \"x\": [\"Cold_Control_AC_L\", \"Cold_Control_AC_S\", \"Cold_17C_AC_L\", \"Cold_17C_AC_S\", \"Cold_Control_NAC_L\", \"Cold_17C_NAC_L\"], \"y\": [0.0, 0.0, 0.0, 0.0, 0.0, 0.0], \"type\": \"scatter\", \"uid\": \"f5757c22-3633-11ea-9c5e-79fdfc20b759\"}, {\"line\": {\"color\": \"#ac3e1b\", \"dash\": \"dot\", \"width\": 4}, \"mode\": \"lines+markers\", \"name\": \"Sevir.3G298200\", \"x\": [\"Cold_Control_AC_L\", \"Cold_Control_AC_S\", \"Cold_17C_AC_L\", \"Cold_17C_AC_S\", \"Cold_Control_NAC_L\", \"Cold_17C_NAC_L\"], \"y\": [0.0, 0.0, 0.0, 0.0, 0.0, 0.0], \"type\": \"scatter\", \"uid\": \"f5757dd0-3633-11ea-9c5e-79fdfc20b759\"}, {\"line\": {\"color\": \"#df514a\", \"dash\": \"dash\", \"width\": 4}, \"mode\": \"lines+markers\", \"name\": \"Sevir.2G437300\", \"x\": [\"Cold_Control_AC_L\", \"Cold_Control_AC_S\", \"Cold_17C_AC_L\", \"Cold_17C_AC_S\", \"Cold_Control_NAC_L\", \"Cold_17C_NAC_L\"], \"y\": [0.0, 0.0, 0.0, 0.0, 0.0, 0.0], \"type\": \"scatter\", \"uid\": \"f5757f6a-3633-11ea-9c5e-79fdfc20b759\"}, {\"line\": {\"color\": \"#539397\", \"dash\": \"solid\", \"width\": 4}, \"mode\": \"lines+markers\", \"name\": \"Sevir.9G095700\", \"x\": [\"Cold_Control_AC_L\", \"Cold_Control_AC_S\", \"Cold_17C_AC_L\", \"Cold_17C_AC_S\", \"Cold_Control_NAC_L\", \"Cold_17C_NAC_L\"], \"y\": [0.0, 0.0, 0.0, 0.0, 0.0, 0.0], \"type\": \"scatter\", \"uid\": \"f5758104-3633-11ea-9c5e-79fdfc20b759\"}, {\"line\": {\"color\": \"#880977\", \"dash\": \"dot\", \"width\": 4}, \"mode\": \"lines+markers\", \"name\": \"Sevir.1G265000\", \"x\": [\"Cold_Control_AC_L\", \"Cold_Control_AC_S\", \"Cold_17C_AC_L\", \"Cold_17C_AC_S\", \"Cold_Control_NAC_L\", \"Cold_17C_NAC_L\"], \"y\": [0.0, 0.0, 0.0, 0.0, 0.0, 0.0], \"type\": \"scatter\", \"uid\": \"f57582a8-3633-11ea-9c5e-79fdfc20b759\"}, {\"line\": {\"color\": \"#f697c1\", \"dash\": \"dash\", \"width\": 4}, \"mode\": \"lines+markers\", \"name\": \"Sevir.5G418900\", \"x\": [\"Cold_Control_AC_L\", \"Cold_Control_AC_S\", \"Cold_17C_AC_L\", \"Cold_17C_AC_S\", \"Cold_Control_NAC_L\", \"Cold_17C_NAC_L\"], \"y\": [0.0, 0.0, 0.0, 0.0, 0.0, 0.0], \"type\": \"scatter\", \"uid\": \"f5758500-3633-11ea-9c5e-79fdfc20b759\"}, {\"line\": {\"color\": \"#ba96ce\", \"dash\": \"solid\", \"width\": 4}, \"mode\": \"lines+markers\", \"name\": \"Sevir.8G237700\", \"x\": [\"Cold_Control_AC_L\", \"Cold_Control_AC_S\", \"Cold_17C_AC_L\", \"Cold_17C_AC_S\", \"Cold_Control_NAC_L\", \"Cold_17C_NAC_L\"], \"y\": [0.0, 0.0, 0.0, 0.0, 0.0, 0.0], \"type\": \"scatter\", \"uid\": \"f57586cc-3633-11ea-9c5e-79fdfc20b759\"}, {\"line\": {\"color\": \"#679c9d\", \"dash\": \"dot\", \"width\": 4}, \"mode\": \"lines+markers\", \"name\": \"Sevir.2G177600\", \"x\": [\"Cold_Control_AC_L\", \"Cold_Control_AC_S\", \"Cold_17C_AC_L\", \"Cold_17C_AC_S\", \"Cold_Control_NAC_L\", \"Cold_17C_NAC_L\"], \"y\": [0.0, 0.0, 0.0, 0.0, 0.2, 0.0], \"type\": \"scatter\", \"uid\": \"f575887a-3633-11ea-9c5e-79fdfc20b759\"}, {\"line\": {\"color\": \"#c6c42c\", \"dash\": \"dash\", \"width\": 4}, \"mode\": \"lines+markers\", \"name\": \"Sevir.9G253801\", \"x\": [\"Cold_Control_AC_L\", \"Cold_Control_AC_S\", \"Cold_17C_AC_L\", \"Cold_17C_AC_S\", \"Cold_Control_NAC_L\", \"Cold_17C_NAC_L\"], \"y\": [0.0, 0.0, 0.0, 0.0, 0.0, 0.0], \"type\": \"scatter\", \"uid\": \"f5758a1e-3633-11ea-9c5e-79fdfc20b759\"}, {\"line\": {\"color\": \"#5d2c52\", \"dash\": \"solid\", \"width\": 4}, \"mode\": \"lines+markers\", \"name\": \"Sevir.6G183566\", \"x\": [\"Cold_Control_AC_L\", \"Cold_Control_AC_S\", \"Cold_17C_AC_L\", \"Cold_17C_AC_S\", \"Cold_Control_NAC_L\", \"Cold_17C_NAC_L\"], \"y\": [0.0, 0.0, 0.0, 0.0, 0.0, 0.0], \"type\": \"scatter\", \"uid\": \"f5758bb8-3633-11ea-9c5e-79fdfc20b759\"}, {\"line\": {\"color\": \"#48b41b\", \"dash\": \"dot\", \"width\": 4}, \"mode\": \"lines+markers\", \"name\": \"Sevir.8G259500\", \"x\": [\"Cold_Control_AC_L\", \"Cold_Control_AC_S\", \"Cold_17C_AC_L\", \"Cold_17C_AC_S\", \"Cold_Control_NAC_L\", \"Cold_17C_NAC_L\"], \"y\": [0.0, 0.0, 0.2, 1.0, 0.0, 0.2], \"type\": \"scatter\", \"uid\": \"f5758d52-3633-11ea-9c5e-79fdfc20b759\"}, {\"line\": {\"color\": \"#e1cf3b\", \"dash\": \"dash\", \"width\": 4}, \"mode\": \"lines+markers\", \"name\": \"Sevir.5G036550\", \"x\": [\"Cold_Control_AC_L\", \"Cold_Control_AC_S\", \"Cold_17C_AC_L\", \"Cold_17C_AC_S\", \"Cold_Control_NAC_L\", \"Cold_17C_NAC_L\"], \"y\": [0.25, 0.4, 0.0, 0.0, 0.2, 0.0], \"type\": \"scatter\", \"uid\": \"f5758eec-3633-11ea-9c5e-79fdfc20b759\"}, {\"line\": {\"color\": \"#5be4f0\", \"dash\": \"solid\", \"width\": 4}, \"mode\": \"lines+markers\", \"name\": \"Sevir.7G279700\", \"x\": [\"Cold_Control_AC_L\", \"Cold_Control_AC_S\", \"Cold_17C_AC_L\", \"Cold_17C_AC_S\", \"Cold_Control_NAC_L\", \"Cold_17C_NAC_L\"], \"y\": [0.0, 0.0, 0.0, 0.6, 0.0, 0.0], \"type\": \"scatter\", \"uid\": \"f5759086-3633-11ea-9c5e-79fdfc20b759\"}, {\"line\": {\"color\": \"#57c4d8\", \"dash\": \"dot\", \"width\": 4}, \"mode\": \"lines+markers\", \"name\": \"Sevir.8G068450\", \"x\": [\"Cold_Control_AC_L\", \"Cold_Control_AC_S\", \"Cold_17C_AC_L\", \"Cold_17C_AC_S\", \"Cold_Control_NAC_L\", \"Cold_17C_NAC_L\"], \"y\": [0.0, 0.0, 0.0, 0.0, 0.0, 0.0], \"type\": \"scatter\", \"uid\": \"f5759220-3633-11ea-9c5e-79fdfc20b759\"}, {\"line\": {\"color\": \"#a4d17a\", \"dash\": \"dash\", \"width\": 4}, \"mode\": \"lines+markers\", \"name\": \"Sevir.9G576750\", \"x\": [\"Cold_Control_AC_L\", \"Cold_Control_AC_S\", \"Cold_17C_AC_L\", \"Cold_17C_AC_S\", \"Cold_Control_NAC_L\", \"Cold_17C_NAC_L\"], \"y\": [0.25, 1.4, 1.0, 3.4, 0.0, 0.0], \"type\": \"scatter\", \"uid\": \"f57593ba-3633-11ea-9c5e-79fdfc20b759\"}, {\"line\": {\"color\": \"#225b8e\", \"dash\": \"solid\", \"width\": 4}, \"mode\": \"lines+markers\", \"name\": \"Sevir.9G248533\", \"x\": [\"Cold_Control_AC_L\", \"Cold_Control_AC_S\", \"Cold_17C_AC_L\", \"Cold_17C_AC_S\", \"Cold_Control_NAC_L\", \"Cold_17C_NAC_L\"], \"y\": [0.0, 0.2, 0.0, 0.4, 0.0, 0.0], \"type\": \"scatter\", \"uid\": \"f575954a-3633-11ea-9c5e-79fdfc20b759\"}, {\"line\": {\"color\": \"#be608b\", \"dash\": \"dot\", \"width\": 4}, \"mode\": \"lines+markers\", \"name\": \"Sevir.1G379100\", \"x\": [\"Cold_Control_AC_L\", \"Cold_Control_AC_S\", \"Cold_17C_AC_L\", \"Cold_17C_AC_S\", \"Cold_Control_NAC_L\", \"Cold_17C_NAC_L\"], \"y\": [2.0832425, 2.329842, 2.730876, 2.370506, 4.934806, 5.55291], \"type\": \"scatter\", \"uid\": \"f57596e4-3633-11ea-9c5e-79fdfc20b759\"}, {\"line\": {\"color\": \"#96b00c\", \"dash\": \"dash\", \"width\": 4}, \"mode\": \"lines+markers\", \"name\": \"Sevir.8G222414\", \"x\": [\"Cold_Control_AC_L\", \"Cold_Control_AC_S\", \"Cold_17C_AC_L\", \"Cold_17C_AC_S\", \"Cold_Control_NAC_L\", \"Cold_17C_NAC_L\"], \"y\": [0.0, 0.6, 0.2, 0.2, 0.4, 0.0], \"type\": \"scatter\", \"uid\": \"f575987e-3633-11ea-9c5e-79fdfc20b759\"}, {\"line\": {\"color\": \"#088baf\", \"dash\": \"solid\", \"width\": 4}, \"mode\": \"lines+markers\", \"name\": \"Sevir.6G039200\", \"x\": [\"Cold_Control_AC_L\", \"Cold_Control_AC_S\", \"Cold_17C_AC_L\", \"Cold_17C_AC_S\", \"Cold_Control_NAC_L\", \"Cold_17C_NAC_L\"], \"y\": [0.0, 0.28384200000000004, 0.277768, 0.836654, 0.0, 0.0], \"type\": \"scatter\", \"uid\": \"f5759a18-3633-11ea-9c5e-79fdfc20b759\"}, {\"line\": {\"color\": \"#f158bf\", \"dash\": \"dot\", \"width\": 4}, \"mode\": \"lines+markers\", \"name\": \"Sevir.6G075100\", \"x\": [\"Cold_Control_AC_L\", \"Cold_Control_AC_S\", \"Cold_17C_AC_L\", \"Cold_17C_AC_S\", \"Cold_Control_NAC_L\", \"Cold_17C_NAC_L\"], \"y\": [0.0, 0.0, 0.0, 0.4, 0.0, 0.0], \"type\": \"scatter\", \"uid\": \"f5759bb2-3633-11ea-9c5e-79fdfc20b759\"}, {\"line\": {\"color\": \"#e145ba\", \"dash\": \"dash\", \"width\": 4}, \"mode\": \"lines+markers\", \"name\": \"Sevir.3G331800\", \"x\": [\"Cold_Control_AC_L\", \"Cold_Control_AC_S\", \"Cold_17C_AC_L\", \"Cold_17C_AC_S\", \"Cold_Control_NAC_L\", \"Cold_17C_NAC_L\"], \"y\": [0.25, 0.0, 0.4, 0.2, 0.8, 2.6], \"type\": \"scatter\", \"uid\": \"f5759d4c-3633-11ea-9c5e-79fdfc20b759\"}, {\"line\": {\"color\": \"#ee91e3\", \"dash\": \"solid\", \"width\": 4}, \"mode\": \"lines+markers\", \"name\": \"Sevir.4G164200\", \"x\": [\"Cold_Control_AC_L\", \"Cold_Control_AC_S\", \"Cold_17C_AC_L\", \"Cold_17C_AC_S\", \"Cold_Control_NAC_L\", \"Cold_17C_NAC_L\"], \"y\": [0.0, 0.0, 0.0, 0.0, 0.0, 0.2], \"type\": \"scatter\", \"uid\": \"f5759ee6-3633-11ea-9c5e-79fdfc20b759\"}, {\"line\": {\"color\": \"#05d371\", \"dash\": \"dot\", \"width\": 4}, \"mode\": \"lines+markers\", \"name\": \"Sevir.9G347733\", \"x\": [\"Cold_Control_AC_L\", \"Cold_Control_AC_S\", \"Cold_17C_AC_L\", \"Cold_17C_AC_S\", \"Cold_Control_NAC_L\", \"Cold_17C_NAC_L\"], \"y\": [0.0, 0.0, 0.2, 0.0, 0.2, 0.6], \"type\": \"scatter\", \"uid\": \"f575a080-3633-11ea-9c5e-79fdfc20b759\"}, {\"line\": {\"color\": \"#5426e0\", \"dash\": \"dash\", \"width\": 4}, \"mode\": \"lines+markers\", \"name\": \"Sevir.2G396750\", \"x\": [\"Cold_Control_AC_L\", \"Cold_Control_AC_S\", \"Cold_17C_AC_L\", \"Cold_17C_AC_S\", \"Cold_Control_NAC_L\", \"Cold_17C_NAC_L\"], \"y\": [0.0, 0.0, 0.0, 0.0, 0.0, 0.0], \"type\": \"scatter\", \"uid\": \"f575a210-3633-11ea-9c5e-79fdfc20b759\"}, {\"line\": {\"color\": \"#4834d0\", \"dash\": \"solid\", \"width\": 4}, \"mode\": \"lines+markers\", \"name\": \"Sevir.3G116100\", \"x\": [\"Cold_Control_AC_L\", \"Cold_Control_AC_S\", \"Cold_17C_AC_L\", \"Cold_17C_AC_S\", \"Cold_Control_NAC_L\", \"Cold_17C_NAC_L\"], \"y\": [0.0, 0.0, 0.2, 1.0, 0.2, 0.0], \"type\": \"scatter\", \"uid\": \"f575a3b4-3633-11ea-9c5e-79fdfc20b759\"}, {\"line\": {\"color\": \"#802234\", \"dash\": \"dot\", \"width\": 4}, \"mode\": \"lines+markers\", \"name\": \"Sevir.7G061100\", \"x\": [\"Cold_Control_AC_L\", \"Cold_Control_AC_S\", \"Cold_17C_AC_L\", \"Cold_17C_AC_S\", \"Cold_Control_NAC_L\", \"Cold_17C_NAC_L\"], \"y\": [0.0, 0.0, 0.0, 0.0, 0.0, 0.0], \"type\": \"scatter\", \"uid\": \"f575a544-3633-11ea-9c5e-79fdfc20b759\"}, {\"line\": {\"color\": \"#6749e8\", \"dash\": \"dash\", \"width\": 4}, \"mode\": \"lines+markers\", \"name\": \"Sevir.2G307100\", \"x\": [\"Cold_Control_AC_L\", \"Cold_Control_AC_S\", \"Cold_17C_AC_L\", \"Cold_17C_AC_S\", \"Cold_Control_NAC_L\", \"Cold_17C_NAC_L\"], \"y\": [0.25, 0.0, 0.2, 0.0, 0.0, 0.4], \"type\": \"scatter\", \"uid\": \"f575a6e8-3633-11ea-9c5e-79fdfc20b759\"}, {\"line\": {\"color\": \"#0971f0\", \"dash\": \"solid\", \"width\": 4}, \"mode\": \"lines+markers\", \"name\": \"Sevir.5G087400\", \"x\": [\"Cold_Control_AC_L\", \"Cold_Control_AC_S\", \"Cold_17C_AC_L\", \"Cold_17C_AC_S\", \"Cold_Control_NAC_L\", \"Cold_17C_NAC_L\"], \"y\": [0.0, 0.0, 0.2, 0.0, 0.0, 0.0], \"type\": \"scatter\", \"uid\": \"f575a878-3633-11ea-9c5e-79fdfc20b759\"}, {\"line\": {\"color\": \"#8fb413\", \"dash\": \"dot\", \"width\": 4}, \"mode\": \"lines+markers\", \"name\": \"Sevir.7G005300\", \"x\": [\"Cold_Control_AC_L\", \"Cold_Control_AC_S\", \"Cold_17C_AC_L\", \"Cold_17C_AC_S\", \"Cold_Control_NAC_L\", \"Cold_17C_NAC_L\"], \"y\": [0.0, 0.0, 0.2, 0.0, 0.0, 0.0], \"type\": \"scatter\", \"uid\": \"f575aa12-3633-11ea-9c5e-79fdfc20b759\"}, {\"line\": {\"color\": \"#b2b4f0\", \"dash\": \"dash\", \"width\": 4}, \"mode\": \"lines+markers\", \"name\": \"Sevir.2G026100\", \"x\": [\"Cold_Control_AC_L\", \"Cold_Control_AC_S\", \"Cold_17C_AC_L\", \"Cold_17C_AC_S\", \"Cold_Control_NAC_L\", \"Cold_17C_NAC_L\"], \"y\": [0.0, 0.0, 0.0, 0.0, 0.2, 0.2], \"type\": \"scatter\", \"uid\": \"f575ac60-3633-11ea-9c5e-79fdfc20b759\"}, {\"line\": {\"color\": \"#c3c89d\", \"dash\": \"solid\", \"width\": 4}, \"mode\": \"lines+markers\", \"name\": \"Sevir.9G072900\", \"x\": [\"Cold_Control_AC_L\", \"Cold_Control_AC_S\", \"Cold_17C_AC_L\", \"Cold_17C_AC_S\", \"Cold_Control_NAC_L\", \"Cold_17C_NAC_L\"], \"y\": [0.0, 0.2, 0.4, 0.0, 1.0, 0.0], \"type\": \"scatter\", \"uid\": \"f575ae18-3633-11ea-9c5e-79fdfc20b759\"}], {\"dragmode\": \"select\", \"plot_bgcolor\": \"white\", \"title\": \"Average Gene Expression - Cold\", \"xaxis\": {\"gridcolor\": \"whitesmoke\", \"showgrid\": true, \"title\": \"Experimental Conditions\"}, \"yaxis\": {\"gridcolor\": \"whitesmoke\", \"showgrid\": true, \"title\": \"Expression\"}}, {\"showLink\": true, \"linkText\": \"Export to plot.ly\"})});</script>"
      ],
      "text/vnd.plotly.v1+html": [
       "<div id=\"64f1fa2c-5a70-4fd1-8a3e-23bd75bfc7a1\" style=\"height: 525px; width: 100%;\" class=\"plotly-graph-div\"></div><script type=\"text/javascript\">require([\"plotly\"], function(Plotly) { window.PLOTLYENV=window.PLOTLYENV || {};window.PLOTLYENV.BASE_URL=\"https://plot.ly\";Plotly.newPlot(\"64f1fa2c-5a70-4fd1-8a3e-23bd75bfc7a1\", [{\"line\": {\"color\": \"#ce7d78\", \"dash\": \"dot\", \"width\": 4}, \"mode\": \"lines+markers\", \"name\": \"Sevir.9G282425\", \"x\": [\"Cold_Control_AC_L\", \"Cold_Control_AC_S\", \"Cold_17C_AC_L\", \"Cold_17C_AC_S\", \"Cold_Control_NAC_L\", \"Cold_17C_NAC_L\"], \"y\": [0.0, 0.0, 0.4, 0.0, 0.0, 0.0], \"type\": \"scatter\", \"uid\": \"f5752312-3633-11ea-9c5e-79fdfc20b759\"}, {\"line\": {\"color\": \"#ea9e70\", \"dash\": \"dash\", \"width\": 4}, \"mode\": \"lines+markers\", \"name\": \"Sevir.7G018910\", \"x\": [\"Cold_Control_AC_L\", \"Cold_Control_AC_S\", \"Cold_17C_AC_L\", \"Cold_17C_AC_S\", \"Cold_Control_NAC_L\", \"Cold_17C_NAC_L\"], \"y\": [0.0, 0.0, 0.0, 0.0, 0.0, 0.0], \"type\": \"scatter\", \"uid\": \"f57527f4-3633-11ea-9c5e-79fdfc20b759\"}, {\"line\": {\"color\": \"#a48a9e\", \"dash\": \"solid\", \"width\": 4}, \"mode\": \"lines+markers\", \"name\": \"Sevir.5G044500\", \"x\": [\"Cold_Control_AC_L\", \"Cold_Control_AC_S\", \"Cold_17C_AC_L\", \"Cold_17C_AC_S\", \"Cold_Control_NAC_L\", \"Cold_17C_NAC_L\"], \"y\": [0.0, 0.0, 0.0, 0.2, 0.0, 0.0], \"type\": \"scatter\", \"uid\": \"f5752a42-3633-11ea-9c5e-79fdfc20b759\"}, {\"line\": {\"color\": \"#c6e1e8\", \"dash\": \"dot\", \"width\": 4}, \"mode\": \"lines+markers\", \"name\": \"Sevir.2G127900\", \"x\": [\"Cold_Control_AC_L\", \"Cold_Control_AC_S\", \"Cold_17C_AC_L\", \"Cold_17C_AC_S\", \"Cold_Control_NAC_L\", \"Cold_17C_NAC_L\"], \"y\": [0.5, 0.0, 0.0, 0.0, 0.4, 0.4], \"type\": \"scatter\", \"uid\": \"f5752c22-3633-11ea-9c5e-79fdfc20b759\"}, {\"line\": {\"color\": \"#648177\", \"dash\": \"dash\", \"width\": 4}, \"mode\": \"lines+markers\", \"name\": \"Sevir.5G129000\", \"x\": [\"Cold_Control_AC_L\", \"Cold_Control_AC_S\", \"Cold_17C_AC_L\", \"Cold_17C_AC_S\", \"Cold_Control_NAC_L\", \"Cold_17C_NAC_L\"], \"y\": [0.5808175, 0.0, 0.0, 1.089886, 0.250166, 0.494406], \"type\": \"scatter\", \"uid\": \"f5752dda-3633-11ea-9c5e-79fdfc20b759\"}, {\"line\": {\"color\": \"#0d5ac1\", \"dash\": \"solid\", \"width\": 4}, \"mode\": \"lines+markers\", \"name\": \"Sevir.2G354400\", \"x\": [\"Cold_Control_AC_L\", \"Cold_Control_AC_S\", \"Cold_17C_AC_L\", \"Cold_17C_AC_S\", \"Cold_Control_NAC_L\", \"Cold_17C_NAC_L\"], \"y\": [0.0, 0.0, 0.0, 0.0, 0.2, 0.0], \"type\": \"scatter\", \"uid\": \"f5752f92-3633-11ea-9c5e-79fdfc20b759\"}, {\"line\": {\"color\": \"#f205e6\", \"dash\": \"dot\", \"width\": 4}, \"mode\": \"lines+markers\", \"name\": \"Sevir.2G152600\", \"x\": [\"Cold_Control_AC_L\", \"Cold_Control_AC_S\", \"Cold_17C_AC_L\", \"Cold_17C_AC_S\", \"Cold_Control_NAC_L\", \"Cold_17C_NAC_L\"], \"y\": [0.0, 0.0, 0.0, 0.0, 0.0, 0.0], \"type\": \"scatter\", \"uid\": \"f5753140-3633-11ea-9c5e-79fdfc20b759\"}, {\"line\": {\"color\": \"#1c0365\", \"dash\": \"dash\", \"width\": 4}, \"mode\": \"lines+markers\", \"name\": \"Sevir.7G023700\", \"x\": [\"Cold_Control_AC_L\", \"Cold_Control_AC_S\", \"Cold_17C_AC_L\", \"Cold_17C_AC_S\", \"Cold_Control_NAC_L\", \"Cold_17C_NAC_L\"], \"y\": [0.0, 0.8587020000000001, 0.0, 0.0, 0.2, 0.0], \"type\": \"scatter\", \"uid\": \"f57532ee-3633-11ea-9c5e-79fdfc20b759\"}, {\"line\": {\"color\": \"#14a9ad\", \"dash\": \"solid\", \"width\": 4}, \"mode\": \"lines+markers\", \"name\": \"Sevir.4G118900\", \"x\": [\"Cold_Control_AC_L\", \"Cold_Control_AC_S\", \"Cold_17C_AC_L\", \"Cold_17C_AC_S\", \"Cold_Control_NAC_L\", \"Cold_17C_NAC_L\"], \"y\": [0.0, 0.0, 0.0, 0.2, 0.4, 0.0], \"type\": \"scatter\", \"uid\": \"f5753492-3633-11ea-9c5e-79fdfc20b759\"}, {\"line\": {\"color\": \"#4ca2f9\", \"dash\": \"dot\", \"width\": 4}, \"mode\": \"lines+markers\", \"name\": \"Sevir.8G081600\", \"x\": [\"Cold_Control_AC_L\", \"Cold_Control_AC_S\", \"Cold_17C_AC_L\", \"Cold_17C_AC_S\", \"Cold_Control_NAC_L\", \"Cold_17C_NAC_L\"], \"y\": [0.0, 0.0, 0.0, 0.0, 0.0, 0.0], \"type\": \"scatter\", \"uid\": \"f5753744-3633-11ea-9c5e-79fdfc20b759\"}, {\"line\": {\"color\": \"#a4e43f\", \"dash\": \"dash\", \"width\": 4}, \"mode\": \"lines+markers\", \"name\": \"Sevir.5G364132\", \"x\": [\"Cold_Control_AC_L\", \"Cold_Control_AC_S\", \"Cold_17C_AC_L\", \"Cold_17C_AC_S\", \"Cold_Control_NAC_L\", \"Cold_17C_NAC_L\"], \"y\": [0.0, 0.0, 0.0, 0.0, 0.0, 0.0], \"type\": \"scatter\", \"uid\": \"f5753924-3633-11ea-9c5e-79fdfc20b759\"}, {\"line\": {\"color\": \"#d298e2\", \"dash\": \"solid\", \"width\": 4}, \"mode\": \"lines+markers\", \"name\": \"Sevir.4G263301\", \"x\": [\"Cold_Control_AC_L\", \"Cold_Control_AC_S\", \"Cold_17C_AC_L\", \"Cold_17C_AC_S\", \"Cold_Control_NAC_L\", \"Cold_17C_NAC_L\"], \"y\": [0.0, 0.0, 0.0, 0.0, 0.0, 0.0], \"type\": \"scatter\", \"uid\": \"f5753ac8-3633-11ea-9c5e-79fdfc20b759\"}, {\"line\": {\"color\": \"#6119d0\", \"dash\": \"dot\", \"width\": 4}, \"mode\": \"lines+markers\", \"name\": \"Sevir.9G099466\", \"x\": [\"Cold_Control_AC_L\", \"Cold_Control_AC_S\", \"Cold_17C_AC_L\", \"Cold_17C_AC_S\", \"Cold_Control_NAC_L\", \"Cold_17C_NAC_L\"], \"y\": [0.0, 0.2, 0.0, 0.0, 0.0, 0.2], \"type\": \"scatter\", \"uid\": \"f5753c76-3633-11ea-9c5e-79fdfc20b759\"}, {\"line\": {\"color\": \"#d2737d\", \"dash\": \"dash\", \"width\": 4}, \"mode\": \"lines+markers\", \"name\": \"Sevir.9G078500\", \"x\": [\"Cold_Control_AC_L\", \"Cold_Control_AC_S\", \"Cold_17C_AC_L\", \"Cold_17C_AC_S\", \"Cold_Control_NAC_L\", \"Cold_17C_NAC_L\"], \"y\": [0.0, 0.0, 0.0, 0.0, 0.0, 0.0], \"type\": \"scatter\", \"uid\": \"f5753e1a-3633-11ea-9c5e-79fdfc20b759\"}, {\"line\": {\"color\": \"#c0a43c\", \"dash\": \"solid\", \"width\": 4}, \"mode\": \"lines+markers\", \"name\": \"Sevir.2G263800\", \"x\": [\"Cold_Control_AC_L\", \"Cold_Control_AC_S\", \"Cold_17C_AC_L\", \"Cold_17C_AC_S\", \"Cold_Control_NAC_L\", \"Cold_17C_NAC_L\"], \"y\": [0.0, 0.0, 0.0, 0.0, 0.0, 0.0], \"type\": \"scatter\", \"uid\": \"f5753fbe-3633-11ea-9c5e-79fdfc20b759\"}, {\"line\": {\"color\": \"#f2510e\", \"dash\": \"dot\", \"width\": 4}, \"mode\": \"lines+markers\", \"name\": \"Sevir.8G218520\", \"x\": [\"Cold_Control_AC_L\", \"Cold_Control_AC_S\", \"Cold_17C_AC_L\", \"Cold_17C_AC_S\", \"Cold_Control_NAC_L\", \"Cold_17C_NAC_L\"], \"y\": [0.0, 0.0, 0.0, 0.0, 0.0, 0.0], \"type\": \"scatter\", \"uid\": \"f5754162-3633-11ea-9c5e-79fdfc20b759\"}, {\"line\": {\"color\": \"#651be6\", \"dash\": \"dash\", \"width\": 4}, \"mode\": \"lines+markers\", \"name\": \"Sevir.3G390900\", \"x\": [\"Cold_Control_AC_L\", \"Cold_Control_AC_S\", \"Cold_17C_AC_L\", \"Cold_17C_AC_S\", \"Cold_Control_NAC_L\", \"Cold_17C_NAC_L\"], \"y\": [0.0, 0.0, 0.0, 0.0, 0.0, 0.0], \"type\": \"scatter\", \"uid\": \"f5754306-3633-11ea-9c5e-79fdfc20b759\"}, {\"line\": {\"color\": \"#79806e\", \"dash\": \"solid\", \"width\": 4}, \"mode\": \"lines+markers\", \"name\": \"Sevir.9G165400\", \"x\": [\"Cold_Control_AC_L\", \"Cold_Control_AC_S\", \"Cold_17C_AC_L\", \"Cold_17C_AC_S\", \"Cold_Control_NAC_L\", \"Cold_17C_NAC_L\"], \"y\": [0.0, 0.0, 0.0, 1.2, 0.0, 0.0], \"type\": \"scatter\", \"uid\": \"f57544a0-3633-11ea-9c5e-79fdfc20b759\"}, {\"line\": {\"color\": \"#61da5e\", \"dash\": \"dot\", \"width\": 4}, \"mode\": \"lines+markers\", \"name\": \"Sevir.8G245140\", \"x\": [\"Cold_Control_AC_L\", \"Cold_Control_AC_S\", \"Cold_17C_AC_L\", \"Cold_17C_AC_S\", \"Cold_Control_NAC_L\", \"Cold_17C_NAC_L\"], \"y\": [0.0, 0.0, 0.0, 0.2, 0.0, 0.0], \"type\": \"scatter\", \"uid\": \"f575464e-3633-11ea-9c5e-79fdfc20b759\"}, {\"line\": {\"color\": \"#cd2f00\", \"dash\": \"dash\", \"width\": 4}, \"mode\": \"lines+markers\", \"name\": \"Sevir.8G087000\", \"x\": [\"Cold_Control_AC_L\", \"Cold_Control_AC_S\", \"Cold_17C_AC_L\", \"Cold_17C_AC_S\", \"Cold_Control_NAC_L\", \"Cold_17C_NAC_L\"], \"y\": [0.0, 0.0, 0.0, 0.0, 0.0, 0.0], \"type\": \"scatter\", \"uid\": \"f57547f2-3633-11ea-9c5e-79fdfc20b759\"}, {\"line\": {\"color\": \"#9348af\", \"dash\": \"solid\", \"width\": 4}, \"mode\": \"lines+markers\", \"name\": \"Sevir.9G576201\", \"x\": [\"Cold_Control_AC_L\", \"Cold_Control_AC_S\", \"Cold_17C_AC_L\", \"Cold_17C_AC_S\", \"Cold_Control_NAC_L\", \"Cold_17C_NAC_L\"], \"y\": [0.0, 0.390976, 0.0, 0.0, 0.0, 0.0], \"type\": \"scatter\", \"uid\": \"f5754996-3633-11ea-9c5e-79fdfc20b759\"}, {\"line\": {\"color\": \"#01ac53\", \"dash\": \"dot\", \"width\": 4}, \"mode\": \"lines+markers\", \"name\": \"Sevir.5G470750\", \"x\": [\"Cold_Control_AC_L\", \"Cold_Control_AC_S\", \"Cold_17C_AC_L\", \"Cold_17C_AC_S\", \"Cold_Control_NAC_L\", \"Cold_17C_NAC_L\"], \"y\": [0.25, 0.8, 0.0, 0.2, 0.0, 0.2], \"type\": \"scatter\", \"uid\": \"f5754bbc-3633-11ea-9c5e-79fdfc20b759\"}, {\"line\": {\"color\": \"#c5a4fb\", \"dash\": \"dash\", \"width\": 4}, \"mode\": \"lines+markers\", \"name\": \"Sevir.1G060850\", \"x\": [\"Cold_Control_AC_L\", \"Cold_Control_AC_S\", \"Cold_17C_AC_L\", \"Cold_17C_AC_S\", \"Cold_Control_NAC_L\", \"Cold_17C_NAC_L\"], \"y\": [0.0, 0.0, 0.0, 0.0, 0.0, 0.0], \"type\": \"scatter\", \"uid\": \"f5754d88-3633-11ea-9c5e-79fdfc20b759\"}, {\"line\": {\"color\": \"#996635\", \"dash\": \"solid\", \"width\": 4}, \"mode\": \"lines+markers\", \"name\": \"Sevir.2G280500\", \"x\": [\"Cold_Control_AC_L\", \"Cold_Control_AC_S\", \"Cold_17C_AC_L\", \"Cold_17C_AC_S\", \"Cold_Control_NAC_L\", \"Cold_17C_NAC_L\"], \"y\": [0.0, 0.0, 0.1663402, 0.0, 0.0, 0.2], \"type\": \"scatter\", \"uid\": \"f5754f36-3633-11ea-9c5e-79fdfc20b759\"}, {\"line\": {\"color\": \"#b11573\", \"dash\": \"dot\", \"width\": 4}, \"mode\": \"lines+markers\", \"name\": \"Sevir.9G268200\", \"x\": [\"Cold_Control_AC_L\", \"Cold_Control_AC_S\", \"Cold_17C_AC_L\", \"Cold_17C_AC_S\", \"Cold_Control_NAC_L\", \"Cold_17C_NAC_L\"], \"y\": [0.0, 0.0, 0.0, 0.0, 0.0, 0.0], \"type\": \"scatter\", \"uid\": \"f57550da-3633-11ea-9c5e-79fdfc20b759\"}, {\"line\": {\"color\": \"#4bb473\", \"dash\": \"dash\", \"width\": 4}, \"mode\": \"lines+markers\", \"name\": \"Sevir.4G143101\", \"x\": [\"Cold_Control_AC_L\", \"Cold_Control_AC_S\", \"Cold_17C_AC_L\", \"Cold_17C_AC_S\", \"Cold_Control_NAC_L\", \"Cold_17C_NAC_L\"], \"y\": [0.0, 0.0, 0.0, 0.0, 0.0, 0.0], \"type\": \"scatter\", \"uid\": \"f5755274-3633-11ea-9c5e-79fdfc20b759\"}, {\"line\": {\"color\": \"#75d89e\", \"dash\": \"solid\", \"width\": 4}, \"mode\": \"lines+markers\", \"name\": \"Sevir.2G342800\", \"x\": [\"Cold_Control_AC_L\", \"Cold_Control_AC_S\", \"Cold_17C_AC_L\", \"Cold_17C_AC_S\", \"Cold_Control_NAC_L\", \"Cold_17C_NAC_L\"], \"y\": [0.0, 0.0, 0.0, 0.0, 0.0, 0.0], \"type\": \"scatter\", \"uid\": \"f575540e-3633-11ea-9c5e-79fdfc20b759\"}, {\"line\": {\"color\": \"#2f3f94\", \"dash\": \"dot\", \"width\": 4}, \"mode\": \"lines+markers\", \"name\": \"Sevir.1G019900\", \"x\": [\"Cold_Control_AC_L\", \"Cold_Control_AC_S\", \"Cold_17C_AC_L\", \"Cold_17C_AC_S\", \"Cold_Control_NAC_L\", \"Cold_17C_NAC_L\"], \"y\": [0.25, 0.0, 0.0, 0.0, 0.4, 0.6], \"type\": \"scatter\", \"uid\": \"f57555a8-3633-11ea-9c5e-79fdfc20b759\"}, {\"line\": {\"color\": \"#2f7b99\", \"dash\": \"dash\", \"width\": 4}, \"mode\": \"lines+markers\", \"name\": \"Sevir.3G353500\", \"x\": [\"Cold_Control_AC_L\", \"Cold_Control_AC_S\", \"Cold_17C_AC_L\", \"Cold_17C_AC_S\", \"Cold_Control_NAC_L\", \"Cold_17C_NAC_L\"], \"y\": [0.0, 0.0, 0.0, 0.0, 0.0, 0.0], \"type\": \"scatter\", \"uid\": \"f5755742-3633-11ea-9c5e-79fdfc20b759\"}, {\"line\": {\"color\": \"#da967d\", \"dash\": \"solid\", \"width\": 4}, \"mode\": \"lines+markers\", \"name\": \"Sevir.7G189700\", \"x\": [\"Cold_Control_AC_L\", \"Cold_Control_AC_S\", \"Cold_17C_AC_L\", \"Cold_17C_AC_S\", \"Cold_Control_NAC_L\", \"Cold_17C_NAC_L\"], \"y\": [0.0, 0.0, 0.0, 0.4, 0.0, 0.0], \"type\": \"scatter\", \"uid\": \"f57558dc-3633-11ea-9c5e-79fdfc20b759\"}, {\"line\": {\"color\": \"#34891f\", \"dash\": \"dot\", \"width\": 4}, \"mode\": \"lines+markers\", \"name\": \"Sevir.4G118600\", \"x\": [\"Cold_Control_AC_L\", \"Cold_Control_AC_S\", \"Cold_17C_AC_L\", \"Cold_17C_AC_S\", \"Cold_Control_NAC_L\", \"Cold_17C_NAC_L\"], \"y\": [0.0, 0.0, 0.0, 0.6, 0.2, 0.018163679999999998], \"type\": \"scatter\", \"uid\": \"f5755a80-3633-11ea-9c5e-79fdfc20b759\"}, {\"line\": {\"color\": \"#b0d87b\", \"dash\": \"dash\", \"width\": 4}, \"mode\": \"lines+markers\", \"name\": \"Sevir.5G315900\", \"x\": [\"Cold_Control_AC_L\", \"Cold_Control_AC_S\", \"Cold_17C_AC_L\", \"Cold_17C_AC_S\", \"Cold_Control_NAC_L\", \"Cold_17C_NAC_L\"], \"y\": [0.0, 0.2, 0.0, 0.0, 0.0, 0.0], \"type\": \"scatter\", \"uid\": \"f5755c1a-3633-11ea-9c5e-79fdfc20b759\"}, {\"line\": {\"color\": \"#ca4751\", \"dash\": \"solid\", \"width\": 4}, \"mode\": \"lines+markers\", \"name\": \"Sevir.1G110232\", \"x\": [\"Cold_Control_AC_L\", \"Cold_Control_AC_S\", \"Cold_17C_AC_L\", \"Cold_17C_AC_S\", \"Cold_Control_NAC_L\", \"Cold_17C_NAC_L\"], \"y\": [0.0, 0.2, 0.0, 0.0, 0.0, 0.0], \"type\": \"scatter\", \"uid\": \"f5755ea4-3633-11ea-9c5e-79fdfc20b759\"}, {\"line\": {\"color\": \"#7e50a8\", \"dash\": \"dot\", \"width\": 4}, \"mode\": \"lines+markers\", \"name\": \"Sevir.5G206100\", \"x\": [\"Cold_Control_AC_L\", \"Cold_Control_AC_S\", \"Cold_17C_AC_L\", \"Cold_17C_AC_S\", \"Cold_Control_NAC_L\", \"Cold_17C_NAC_L\"], \"y\": [0.0, 0.0, 0.2, 0.0, 0.0, 0.0], \"type\": \"scatter\", \"uid\": \"f5756066-3633-11ea-9c5e-79fdfc20b759\"}, {\"line\": {\"color\": \"#c4d647\", \"dash\": \"dash\", \"width\": 4}, \"mode\": \"lines+markers\", \"name\": \"Sevir.3G353200\", \"x\": [\"Cold_Control_AC_L\", \"Cold_Control_AC_S\", \"Cold_17C_AC_L\", \"Cold_17C_AC_S\", \"Cold_Control_NAC_L\", \"Cold_17C_NAC_L\"], \"y\": [0.25, 0.0, 0.0, 0.0, 0.0, 0.0], \"type\": \"scatter\", \"uid\": \"f575620a-3633-11ea-9c5e-79fdfc20b759\"}, {\"line\": {\"color\": \"#e0eeb8\", \"dash\": \"solid\", \"width\": 4}, \"mode\": \"lines+markers\", \"name\": \"Sevir.4G093300\", \"x\": [\"Cold_Control_AC_L\", \"Cold_Control_AC_S\", \"Cold_17C_AC_L\", \"Cold_17C_AC_S\", \"Cold_Control_NAC_L\", \"Cold_17C_NAC_L\"], \"y\": [0.0, 0.6, 0.2, 0.0, 0.4, 0.4], \"type\": \"scatter\", \"uid\": \"f57563a4-3633-11ea-9c5e-79fdfc20b759\"}, {\"line\": {\"color\": \"#11dec1\", \"dash\": \"dot\", \"width\": 4}, \"mode\": \"lines+markers\", \"name\": \"Sevir.1G171100\", \"x\": [\"Cold_Control_AC_L\", \"Cold_Control_AC_S\", \"Cold_17C_AC_L\", \"Cold_17C_AC_S\", \"Cold_Control_NAC_L\", \"Cold_17C_NAC_L\"], \"y\": [0.0, 0.0, 0.6, 0.0, 0.2, 0.0], \"type\": \"scatter\", \"uid\": \"f5756548-3633-11ea-9c5e-79fdfc20b759\"}, {\"line\": {\"color\": \"#289812\", \"dash\": \"dash\", \"width\": 4}, \"mode\": \"lines+markers\", \"name\": \"Sevir.2G305750\", \"x\": [\"Cold_Control_AC_L\", \"Cold_Control_AC_S\", \"Cold_17C_AC_L\", \"Cold_17C_AC_S\", \"Cold_Control_NAC_L\", \"Cold_17C_NAC_L\"], \"y\": [0.65815, 0.1046524, 0.0626274, 0.0, 0.92211, 0.62141], \"type\": \"scatter\", \"uid\": \"f57566e2-3633-11ea-9c5e-79fdfc20b759\"}, {\"line\": {\"color\": \"#566ca0\", \"dash\": \"solid\", \"width\": 4}, \"mode\": \"lines+markers\", \"name\": \"Sevir.9G169700\", \"x\": [\"Cold_Control_AC_L\", \"Cold_Control_AC_S\", \"Cold_17C_AC_L\", \"Cold_17C_AC_S\", \"Cold_Control_NAC_L\", \"Cold_17C_NAC_L\"], \"y\": [0.0, 0.0, 0.0, 0.0, 0.0, 0.0], \"type\": \"scatter\", \"uid\": \"f5756890-3633-11ea-9c5e-79fdfc20b759\"}, {\"line\": {\"color\": \"#ffdbe1\", \"dash\": \"dot\", \"width\": 4}, \"mode\": \"lines+markers\", \"name\": \"Sevir.1G020800\", \"x\": [\"Cold_Control_AC_L\", \"Cold_Control_AC_S\", \"Cold_17C_AC_L\", \"Cold_17C_AC_S\", \"Cold_Control_NAC_L\", \"Cold_17C_NAC_L\"], \"y\": [0.0, 0.0, 0.0, 0.0, 0.0, 0.0], \"type\": \"scatter\", \"uid\": \"f5756a34-3633-11ea-9c5e-79fdfc20b759\"}, {\"line\": {\"color\": \"#2f1179\", \"dash\": \"dash\", \"width\": 4}, \"mode\": \"lines+markers\", \"name\": \"Sevir.5G194900\", \"x\": [\"Cold_Control_AC_L\", \"Cold_Control_AC_S\", \"Cold_17C_AC_L\", \"Cold_17C_AC_S\", \"Cold_Control_NAC_L\", \"Cold_17C_NAC_L\"], \"y\": [0.0, 0.0, 0.0, 0.0, 0.0, 0.0], \"type\": \"scatter\", \"uid\": \"f5756bce-3633-11ea-9c5e-79fdfc20b759\"}, {\"line\": {\"color\": \"#935b6d\", \"dash\": \"solid\", \"width\": 4}, \"mode\": \"lines+markers\", \"name\": \"Sevir.6G028050\", \"x\": [\"Cold_Control_AC_L\", \"Cold_Control_AC_S\", \"Cold_17C_AC_L\", \"Cold_17C_AC_S\", \"Cold_Control_NAC_L\", \"Cold_17C_NAC_L\"], \"y\": [0.0, 0.0, 0.0, 0.0, 0.0, 0.0], \"type\": \"scatter\", \"uid\": \"f5756d7c-3633-11ea-9c5e-79fdfc20b759\"}, {\"line\": {\"color\": \"#916988\", \"dash\": \"dot\", \"width\": 4}, \"mode\": \"lines+markers\", \"name\": \"Sevir.2G003200\", \"x\": [\"Cold_Control_AC_L\", \"Cold_Control_AC_S\", \"Cold_17C_AC_L\", \"Cold_17C_AC_S\", \"Cold_Control_NAC_L\", \"Cold_17C_NAC_L\"], \"y\": [0.0, 0.0, 0.0, 0.0, 0.0, 0.0], \"type\": \"scatter\", \"uid\": \"f5756f20-3633-11ea-9c5e-79fdfc20b759\"}, {\"line\": {\"color\": \"#513d98\", \"dash\": \"dash\", \"width\": 4}, \"mode\": \"lines+markers\", \"name\": \"Sevir.8G079100\", \"x\": [\"Cold_Control_AC_L\", \"Cold_Control_AC_S\", \"Cold_17C_AC_L\", \"Cold_17C_AC_S\", \"Cold_Control_NAC_L\", \"Cold_17C_NAC_L\"], \"y\": [0.0, 0.0, 0.0, 0.0, 0.0, 0.0], \"type\": \"scatter\", \"uid\": \"f57570c4-3633-11ea-9c5e-79fdfc20b759\"}, {\"line\": {\"color\": \"#aead3a\", \"dash\": \"solid\", \"width\": 4}, \"mode\": \"lines+markers\", \"name\": \"Sevir.4G293501\", \"x\": [\"Cold_Control_AC_L\", \"Cold_Control_AC_S\", \"Cold_17C_AC_L\", \"Cold_17C_AC_S\", \"Cold_Control_NAC_L\", \"Cold_17C_NAC_L\"], \"y\": [0.0, 0.0, 0.0, 0.0, 0.0, 0.0], \"type\": \"scatter\", \"uid\": \"f575725e-3633-11ea-9c5e-79fdfc20b759\"}, {\"line\": {\"color\": \"#9e6d71\", \"dash\": \"dot\", \"width\": 4}, \"mode\": \"lines+markers\", \"name\": \"Sevir.7G022900\", \"x\": [\"Cold_Control_AC_L\", \"Cold_Control_AC_S\", \"Cold_17C_AC_L\", \"Cold_17C_AC_S\", \"Cold_Control_NAC_L\", \"Cold_17C_NAC_L\"], \"y\": [0.0, 0.0, 0.0, 0.0, 0.0, 0.0], \"type\": \"scatter\", \"uid\": \"f5757402-3633-11ea-9c5e-79fdfc20b759\"}, {\"line\": {\"color\": \"#4b5bdc\", \"dash\": \"dash\", \"width\": 4}, \"mode\": \"lines+markers\", \"name\": \"Sevir.8G165900\", \"x\": [\"Cold_Control_AC_L\", \"Cold_Control_AC_S\", \"Cold_17C_AC_L\", \"Cold_17C_AC_S\", \"Cold_Control_NAC_L\", \"Cold_17C_NAC_L\"], \"y\": [0.0, 0.0, 0.0, 0.0, 0.0, 0.0], \"type\": \"scatter\", \"uid\": \"f575759c-3633-11ea-9c5e-79fdfc20b759\"}, {\"line\": {\"color\": \"#0cd36d\", \"dash\": \"solid\", \"width\": 4}, \"mode\": \"lines+markers\", \"name\": \"Sevir.9G092300\", \"x\": [\"Cold_Control_AC_L\", \"Cold_Control_AC_S\", \"Cold_17C_AC_L\", \"Cold_17C_AC_S\", \"Cold_Control_NAC_L\", \"Cold_17C_NAC_L\"], \"y\": [0.0, 0.0, 0.0, 0.0, 0.0, 0.0], \"type\": \"scatter\", \"uid\": \"f5757740-3633-11ea-9c5e-79fdfc20b759\"}, {\"line\": {\"color\": \"#250662\", \"dash\": \"dot\", \"width\": 4}, \"mode\": \"lines+markers\", \"name\": \"Sevir.6G113200\", \"x\": [\"Cold_Control_AC_L\", \"Cold_Control_AC_S\", \"Cold_17C_AC_L\", \"Cold_17C_AC_S\", \"Cold_Control_NAC_L\", \"Cold_17C_NAC_L\"], \"y\": [0.0, 0.0, 0.0, 0.0, 0.0, 0.0], \"type\": \"scatter\", \"uid\": \"f57578e4-3633-11ea-9c5e-79fdfc20b759\"}, {\"line\": {\"color\": \"#cb5bea\", \"dash\": \"dash\", \"width\": 4}, \"mode\": \"lines+markers\", \"name\": \"Sevir.4G160200\", \"x\": [\"Cold_Control_AC_L\", \"Cold_Control_AC_S\", \"Cold_17C_AC_L\", \"Cold_17C_AC_S\", \"Cold_Control_NAC_L\", \"Cold_17C_NAC_L\"], \"y\": [0.0, 0.0, 0.0, 0.0, 0.0, 0.0], \"type\": \"scatter\", \"uid\": \"f5757a88-3633-11ea-9c5e-79fdfc20b759\"}, {\"line\": {\"color\": \"#228916\", \"dash\": \"solid\", \"width\": 4}, \"mode\": \"lines+markers\", \"name\": \"Sevir.5G037400\", \"x\": [\"Cold_Control_AC_L\", \"Cold_Control_AC_S\", \"Cold_17C_AC_L\", \"Cold_17C_AC_S\", \"Cold_Control_NAC_L\", \"Cold_17C_NAC_L\"], \"y\": [0.0, 0.0, 0.0, 0.0, 0.0, 0.0], \"type\": \"scatter\", \"uid\": \"f5757c22-3633-11ea-9c5e-79fdfc20b759\"}, {\"line\": {\"color\": \"#ac3e1b\", \"dash\": \"dot\", \"width\": 4}, \"mode\": \"lines+markers\", \"name\": \"Sevir.3G298200\", \"x\": [\"Cold_Control_AC_L\", \"Cold_Control_AC_S\", \"Cold_17C_AC_L\", \"Cold_17C_AC_S\", \"Cold_Control_NAC_L\", \"Cold_17C_NAC_L\"], \"y\": [0.0, 0.0, 0.0, 0.0, 0.0, 0.0], \"type\": \"scatter\", \"uid\": \"f5757dd0-3633-11ea-9c5e-79fdfc20b759\"}, {\"line\": {\"color\": \"#df514a\", \"dash\": \"dash\", \"width\": 4}, \"mode\": \"lines+markers\", \"name\": \"Sevir.2G437300\", \"x\": [\"Cold_Control_AC_L\", \"Cold_Control_AC_S\", \"Cold_17C_AC_L\", \"Cold_17C_AC_S\", \"Cold_Control_NAC_L\", \"Cold_17C_NAC_L\"], \"y\": [0.0, 0.0, 0.0, 0.0, 0.0, 0.0], \"type\": \"scatter\", \"uid\": \"f5757f6a-3633-11ea-9c5e-79fdfc20b759\"}, {\"line\": {\"color\": \"#539397\", \"dash\": \"solid\", \"width\": 4}, \"mode\": \"lines+markers\", \"name\": \"Sevir.9G095700\", \"x\": [\"Cold_Control_AC_L\", \"Cold_Control_AC_S\", \"Cold_17C_AC_L\", \"Cold_17C_AC_S\", \"Cold_Control_NAC_L\", \"Cold_17C_NAC_L\"], \"y\": [0.0, 0.0, 0.0, 0.0, 0.0, 0.0], \"type\": \"scatter\", \"uid\": \"f5758104-3633-11ea-9c5e-79fdfc20b759\"}, {\"line\": {\"color\": \"#880977\", \"dash\": \"dot\", \"width\": 4}, \"mode\": \"lines+markers\", \"name\": \"Sevir.1G265000\", \"x\": [\"Cold_Control_AC_L\", \"Cold_Control_AC_S\", \"Cold_17C_AC_L\", \"Cold_17C_AC_S\", \"Cold_Control_NAC_L\", \"Cold_17C_NAC_L\"], \"y\": [0.0, 0.0, 0.0, 0.0, 0.0, 0.0], \"type\": \"scatter\", \"uid\": \"f57582a8-3633-11ea-9c5e-79fdfc20b759\"}, {\"line\": {\"color\": \"#f697c1\", \"dash\": \"dash\", \"width\": 4}, \"mode\": \"lines+markers\", \"name\": \"Sevir.5G418900\", \"x\": [\"Cold_Control_AC_L\", \"Cold_Control_AC_S\", \"Cold_17C_AC_L\", \"Cold_17C_AC_S\", \"Cold_Control_NAC_L\", \"Cold_17C_NAC_L\"], \"y\": [0.0, 0.0, 0.0, 0.0, 0.0, 0.0], \"type\": \"scatter\", \"uid\": \"f5758500-3633-11ea-9c5e-79fdfc20b759\"}, {\"line\": {\"color\": \"#ba96ce\", \"dash\": \"solid\", \"width\": 4}, \"mode\": \"lines+markers\", \"name\": \"Sevir.8G237700\", \"x\": [\"Cold_Control_AC_L\", \"Cold_Control_AC_S\", \"Cold_17C_AC_L\", \"Cold_17C_AC_S\", \"Cold_Control_NAC_L\", \"Cold_17C_NAC_L\"], \"y\": [0.0, 0.0, 0.0, 0.0, 0.0, 0.0], \"type\": \"scatter\", \"uid\": \"f57586cc-3633-11ea-9c5e-79fdfc20b759\"}, {\"line\": {\"color\": \"#679c9d\", \"dash\": \"dot\", \"width\": 4}, \"mode\": \"lines+markers\", \"name\": \"Sevir.2G177600\", \"x\": [\"Cold_Control_AC_L\", \"Cold_Control_AC_S\", \"Cold_17C_AC_L\", \"Cold_17C_AC_S\", \"Cold_Control_NAC_L\", \"Cold_17C_NAC_L\"], \"y\": [0.0, 0.0, 0.0, 0.0, 0.2, 0.0], \"type\": \"scatter\", \"uid\": \"f575887a-3633-11ea-9c5e-79fdfc20b759\"}, {\"line\": {\"color\": \"#c6c42c\", \"dash\": \"dash\", \"width\": 4}, \"mode\": \"lines+markers\", \"name\": \"Sevir.9G253801\", \"x\": [\"Cold_Control_AC_L\", \"Cold_Control_AC_S\", \"Cold_17C_AC_L\", \"Cold_17C_AC_S\", \"Cold_Control_NAC_L\", \"Cold_17C_NAC_L\"], \"y\": [0.0, 0.0, 0.0, 0.0, 0.0, 0.0], \"type\": \"scatter\", \"uid\": \"f5758a1e-3633-11ea-9c5e-79fdfc20b759\"}, {\"line\": {\"color\": \"#5d2c52\", \"dash\": \"solid\", \"width\": 4}, \"mode\": \"lines+markers\", \"name\": \"Sevir.6G183566\", \"x\": [\"Cold_Control_AC_L\", \"Cold_Control_AC_S\", \"Cold_17C_AC_L\", \"Cold_17C_AC_S\", \"Cold_Control_NAC_L\", \"Cold_17C_NAC_L\"], \"y\": [0.0, 0.0, 0.0, 0.0, 0.0, 0.0], \"type\": \"scatter\", \"uid\": \"f5758bb8-3633-11ea-9c5e-79fdfc20b759\"}, {\"line\": {\"color\": \"#48b41b\", \"dash\": \"dot\", \"width\": 4}, \"mode\": \"lines+markers\", \"name\": \"Sevir.8G259500\", \"x\": [\"Cold_Control_AC_L\", \"Cold_Control_AC_S\", \"Cold_17C_AC_L\", \"Cold_17C_AC_S\", \"Cold_Control_NAC_L\", \"Cold_17C_NAC_L\"], \"y\": [0.0, 0.0, 0.2, 1.0, 0.0, 0.2], \"type\": \"scatter\", \"uid\": \"f5758d52-3633-11ea-9c5e-79fdfc20b759\"}, {\"line\": {\"color\": \"#e1cf3b\", \"dash\": \"dash\", \"width\": 4}, \"mode\": \"lines+markers\", \"name\": \"Sevir.5G036550\", \"x\": [\"Cold_Control_AC_L\", \"Cold_Control_AC_S\", \"Cold_17C_AC_L\", \"Cold_17C_AC_S\", \"Cold_Control_NAC_L\", \"Cold_17C_NAC_L\"], \"y\": [0.25, 0.4, 0.0, 0.0, 0.2, 0.0], \"type\": \"scatter\", \"uid\": \"f5758eec-3633-11ea-9c5e-79fdfc20b759\"}, {\"line\": {\"color\": \"#5be4f0\", \"dash\": \"solid\", \"width\": 4}, \"mode\": \"lines+markers\", \"name\": \"Sevir.7G279700\", \"x\": [\"Cold_Control_AC_L\", \"Cold_Control_AC_S\", \"Cold_17C_AC_L\", \"Cold_17C_AC_S\", \"Cold_Control_NAC_L\", \"Cold_17C_NAC_L\"], \"y\": [0.0, 0.0, 0.0, 0.6, 0.0, 0.0], \"type\": \"scatter\", \"uid\": \"f5759086-3633-11ea-9c5e-79fdfc20b759\"}, {\"line\": {\"color\": \"#57c4d8\", \"dash\": \"dot\", \"width\": 4}, \"mode\": \"lines+markers\", \"name\": \"Sevir.8G068450\", \"x\": [\"Cold_Control_AC_L\", \"Cold_Control_AC_S\", \"Cold_17C_AC_L\", \"Cold_17C_AC_S\", \"Cold_Control_NAC_L\", \"Cold_17C_NAC_L\"], \"y\": [0.0, 0.0, 0.0, 0.0, 0.0, 0.0], \"type\": \"scatter\", \"uid\": \"f5759220-3633-11ea-9c5e-79fdfc20b759\"}, {\"line\": {\"color\": \"#a4d17a\", \"dash\": \"dash\", \"width\": 4}, \"mode\": \"lines+markers\", \"name\": \"Sevir.9G576750\", \"x\": [\"Cold_Control_AC_L\", \"Cold_Control_AC_S\", \"Cold_17C_AC_L\", \"Cold_17C_AC_S\", \"Cold_Control_NAC_L\", \"Cold_17C_NAC_L\"], \"y\": [0.25, 1.4, 1.0, 3.4, 0.0, 0.0], \"type\": \"scatter\", \"uid\": \"f57593ba-3633-11ea-9c5e-79fdfc20b759\"}, {\"line\": {\"color\": \"#225b8e\", \"dash\": \"solid\", \"width\": 4}, \"mode\": \"lines+markers\", \"name\": \"Sevir.9G248533\", \"x\": [\"Cold_Control_AC_L\", \"Cold_Control_AC_S\", \"Cold_17C_AC_L\", \"Cold_17C_AC_S\", \"Cold_Control_NAC_L\", \"Cold_17C_NAC_L\"], \"y\": [0.0, 0.2, 0.0, 0.4, 0.0, 0.0], \"type\": \"scatter\", \"uid\": \"f575954a-3633-11ea-9c5e-79fdfc20b759\"}, {\"line\": {\"color\": \"#be608b\", \"dash\": \"dot\", \"width\": 4}, \"mode\": \"lines+markers\", \"name\": \"Sevir.1G379100\", \"x\": [\"Cold_Control_AC_L\", \"Cold_Control_AC_S\", \"Cold_17C_AC_L\", \"Cold_17C_AC_S\", \"Cold_Control_NAC_L\", \"Cold_17C_NAC_L\"], \"y\": [2.0832425, 2.329842, 2.730876, 2.370506, 4.934806, 5.55291], \"type\": \"scatter\", \"uid\": \"f57596e4-3633-11ea-9c5e-79fdfc20b759\"}, {\"line\": {\"color\": \"#96b00c\", \"dash\": \"dash\", \"width\": 4}, \"mode\": \"lines+markers\", \"name\": \"Sevir.8G222414\", \"x\": [\"Cold_Control_AC_L\", \"Cold_Control_AC_S\", \"Cold_17C_AC_L\", \"Cold_17C_AC_S\", \"Cold_Control_NAC_L\", \"Cold_17C_NAC_L\"], \"y\": [0.0, 0.6, 0.2, 0.2, 0.4, 0.0], \"type\": \"scatter\", \"uid\": \"f575987e-3633-11ea-9c5e-79fdfc20b759\"}, {\"line\": {\"color\": \"#088baf\", \"dash\": \"solid\", \"width\": 4}, \"mode\": \"lines+markers\", \"name\": \"Sevir.6G039200\", \"x\": [\"Cold_Control_AC_L\", \"Cold_Control_AC_S\", \"Cold_17C_AC_L\", \"Cold_17C_AC_S\", \"Cold_Control_NAC_L\", \"Cold_17C_NAC_L\"], \"y\": [0.0, 0.28384200000000004, 0.277768, 0.836654, 0.0, 0.0], \"type\": \"scatter\", \"uid\": \"f5759a18-3633-11ea-9c5e-79fdfc20b759\"}, {\"line\": {\"color\": \"#f158bf\", \"dash\": \"dot\", \"width\": 4}, \"mode\": \"lines+markers\", \"name\": \"Sevir.6G075100\", \"x\": [\"Cold_Control_AC_L\", \"Cold_Control_AC_S\", \"Cold_17C_AC_L\", \"Cold_17C_AC_S\", \"Cold_Control_NAC_L\", \"Cold_17C_NAC_L\"], \"y\": [0.0, 0.0, 0.0, 0.4, 0.0, 0.0], \"type\": \"scatter\", \"uid\": \"f5759bb2-3633-11ea-9c5e-79fdfc20b759\"}, {\"line\": {\"color\": \"#e145ba\", \"dash\": \"dash\", \"width\": 4}, \"mode\": \"lines+markers\", \"name\": \"Sevir.3G331800\", \"x\": [\"Cold_Control_AC_L\", \"Cold_Control_AC_S\", \"Cold_17C_AC_L\", \"Cold_17C_AC_S\", \"Cold_Control_NAC_L\", \"Cold_17C_NAC_L\"], \"y\": [0.25, 0.0, 0.4, 0.2, 0.8, 2.6], \"type\": \"scatter\", \"uid\": \"f5759d4c-3633-11ea-9c5e-79fdfc20b759\"}, {\"line\": {\"color\": \"#ee91e3\", \"dash\": \"solid\", \"width\": 4}, \"mode\": \"lines+markers\", \"name\": \"Sevir.4G164200\", \"x\": [\"Cold_Control_AC_L\", \"Cold_Control_AC_S\", \"Cold_17C_AC_L\", \"Cold_17C_AC_S\", \"Cold_Control_NAC_L\", \"Cold_17C_NAC_L\"], \"y\": [0.0, 0.0, 0.0, 0.0, 0.0, 0.2], \"type\": \"scatter\", \"uid\": \"f5759ee6-3633-11ea-9c5e-79fdfc20b759\"}, {\"line\": {\"color\": \"#05d371\", \"dash\": \"dot\", \"width\": 4}, \"mode\": \"lines+markers\", \"name\": \"Sevir.9G347733\", \"x\": [\"Cold_Control_AC_L\", \"Cold_Control_AC_S\", \"Cold_17C_AC_L\", \"Cold_17C_AC_S\", \"Cold_Control_NAC_L\", \"Cold_17C_NAC_L\"], \"y\": [0.0, 0.0, 0.2, 0.0, 0.2, 0.6], \"type\": \"scatter\", \"uid\": \"f575a080-3633-11ea-9c5e-79fdfc20b759\"}, {\"line\": {\"color\": \"#5426e0\", \"dash\": \"dash\", \"width\": 4}, \"mode\": \"lines+markers\", \"name\": \"Sevir.2G396750\", \"x\": [\"Cold_Control_AC_L\", \"Cold_Control_AC_S\", \"Cold_17C_AC_L\", \"Cold_17C_AC_S\", \"Cold_Control_NAC_L\", \"Cold_17C_NAC_L\"], \"y\": [0.0, 0.0, 0.0, 0.0, 0.0, 0.0], \"type\": \"scatter\", \"uid\": \"f575a210-3633-11ea-9c5e-79fdfc20b759\"}, {\"line\": {\"color\": \"#4834d0\", \"dash\": \"solid\", \"width\": 4}, \"mode\": \"lines+markers\", \"name\": \"Sevir.3G116100\", \"x\": [\"Cold_Control_AC_L\", \"Cold_Control_AC_S\", \"Cold_17C_AC_L\", \"Cold_17C_AC_S\", \"Cold_Control_NAC_L\", \"Cold_17C_NAC_L\"], \"y\": [0.0, 0.0, 0.2, 1.0, 0.2, 0.0], \"type\": \"scatter\", \"uid\": \"f575a3b4-3633-11ea-9c5e-79fdfc20b759\"}, {\"line\": {\"color\": \"#802234\", \"dash\": \"dot\", \"width\": 4}, \"mode\": \"lines+markers\", \"name\": \"Sevir.7G061100\", \"x\": [\"Cold_Control_AC_L\", \"Cold_Control_AC_S\", \"Cold_17C_AC_L\", \"Cold_17C_AC_S\", \"Cold_Control_NAC_L\", \"Cold_17C_NAC_L\"], \"y\": [0.0, 0.0, 0.0, 0.0, 0.0, 0.0], \"type\": \"scatter\", \"uid\": \"f575a544-3633-11ea-9c5e-79fdfc20b759\"}, {\"line\": {\"color\": \"#6749e8\", \"dash\": \"dash\", \"width\": 4}, \"mode\": \"lines+markers\", \"name\": \"Sevir.2G307100\", \"x\": [\"Cold_Control_AC_L\", \"Cold_Control_AC_S\", \"Cold_17C_AC_L\", \"Cold_17C_AC_S\", \"Cold_Control_NAC_L\", \"Cold_17C_NAC_L\"], \"y\": [0.25, 0.0, 0.2, 0.0, 0.0, 0.4], \"type\": \"scatter\", \"uid\": \"f575a6e8-3633-11ea-9c5e-79fdfc20b759\"}, {\"line\": {\"color\": \"#0971f0\", \"dash\": \"solid\", \"width\": 4}, \"mode\": \"lines+markers\", \"name\": \"Sevir.5G087400\", \"x\": [\"Cold_Control_AC_L\", \"Cold_Control_AC_S\", \"Cold_17C_AC_L\", \"Cold_17C_AC_S\", \"Cold_Control_NAC_L\", \"Cold_17C_NAC_L\"], \"y\": [0.0, 0.0, 0.2, 0.0, 0.0, 0.0], \"type\": \"scatter\", \"uid\": \"f575a878-3633-11ea-9c5e-79fdfc20b759\"}, {\"line\": {\"color\": \"#8fb413\", \"dash\": \"dot\", \"width\": 4}, \"mode\": \"lines+markers\", \"name\": \"Sevir.7G005300\", \"x\": [\"Cold_Control_AC_L\", \"Cold_Control_AC_S\", \"Cold_17C_AC_L\", \"Cold_17C_AC_S\", \"Cold_Control_NAC_L\", \"Cold_17C_NAC_L\"], \"y\": [0.0, 0.0, 0.2, 0.0, 0.0, 0.0], \"type\": \"scatter\", \"uid\": \"f575aa12-3633-11ea-9c5e-79fdfc20b759\"}, {\"line\": {\"color\": \"#b2b4f0\", \"dash\": \"dash\", \"width\": 4}, \"mode\": \"lines+markers\", \"name\": \"Sevir.2G026100\", \"x\": [\"Cold_Control_AC_L\", \"Cold_Control_AC_S\", \"Cold_17C_AC_L\", \"Cold_17C_AC_S\", \"Cold_Control_NAC_L\", \"Cold_17C_NAC_L\"], \"y\": [0.0, 0.0, 0.0, 0.0, 0.2, 0.2], \"type\": \"scatter\", \"uid\": \"f575ac60-3633-11ea-9c5e-79fdfc20b759\"}, {\"line\": {\"color\": \"#c3c89d\", \"dash\": \"solid\", \"width\": 4}, \"mode\": \"lines+markers\", \"name\": \"Sevir.9G072900\", \"x\": [\"Cold_Control_AC_L\", \"Cold_Control_AC_S\", \"Cold_17C_AC_L\", \"Cold_17C_AC_S\", \"Cold_Control_NAC_L\", \"Cold_17C_NAC_L\"], \"y\": [0.0, 0.2, 0.4, 0.0, 1.0, 0.0], \"type\": \"scatter\", \"uid\": \"f575ae18-3633-11ea-9c5e-79fdfc20b759\"}], {\"dragmode\": \"select\", \"plot_bgcolor\": \"white\", \"title\": \"Average Gene Expression - Cold\", \"xaxis\": {\"gridcolor\": \"whitesmoke\", \"showgrid\": true, \"title\": \"Experimental Conditions\"}, \"yaxis\": {\"gridcolor\": \"whitesmoke\", \"showgrid\": true, \"title\": \"Expression\"}}, {\"showLink\": true, \"linkText\": \"Export to plot.ly\"})});</script>"
      ]
     },
     "metadata": {},
     "output_type": "display_data"
    },
    {
     "data": {
      "application/vnd.plotly.v1+json": {
       "data": [
        {
         "line": {
          "color": "#ce7d78",
          "dash": "dot",
          "width": 4
         },
         "mode": "lines+markers",
         "name": "Sevir.9G282425",
         "type": "scatter",
         "uid": "f673b06c-3633-11ea-9c5e-79fdfc20b759",
         "x": [
          "Drought_Control_L",
          "Drought_Control_S",
          "Drought_50_L",
          "Drought_50_S",
          "Drought_50_R",
          "Drought_20_L",
          "Drought_20_S"
         ],
         "y": [
          0,
          0.13874333333333333,
          0.4,
          0,
          0,
          0,
          0
         ]
        },
        {
         "line": {
          "color": "#ea9e70",
          "dash": "dash",
          "width": 4
         },
         "mode": "lines+markers",
         "name": "Sevir.7G018910",
         "type": "scatter",
         "uid": "f673b2f6-3633-11ea-9c5e-79fdfc20b759",
         "x": [
          "Drought_Control_L",
          "Drought_Control_S",
          "Drought_50_L",
          "Drought_50_S",
          "Drought_50_R",
          "Drought_20_L",
          "Drought_20_S"
         ],
         "y": [
          0,
          0.1111111111111111,
          0,
          0.6,
          0,
          0,
          0
         ]
        },
        {
         "line": {
          "color": "#a48a9e",
          "dash": "solid",
          "width": 4
         },
         "mode": "lines+markers",
         "name": "Sevir.5G044500",
         "type": "scatter",
         "uid": "f673b436-3633-11ea-9c5e-79fdfc20b759",
         "x": [
          "Drought_Control_L",
          "Drought_Control_S",
          "Drought_50_L",
          "Drought_50_S",
          "Drought_50_R",
          "Drought_20_L",
          "Drought_20_S"
         ],
         "y": [
          0,
          0,
          0,
          0,
          0,
          0,
          0
         ]
        },
        {
         "line": {
          "color": "#c6e1e8",
          "dash": "dot",
          "width": 4
         },
         "mode": "lines+markers",
         "name": "Sevir.2G127900",
         "type": "scatter",
         "uid": "f673b544-3633-11ea-9c5e-79fdfc20b759",
         "x": [
          "Drought_Control_L",
          "Drought_Control_S",
          "Drought_50_L",
          "Drought_50_S",
          "Drought_50_R",
          "Drought_20_L",
          "Drought_20_S"
         ],
         "y": [
          0.7,
          0,
          0.2,
          0,
          0,
          0,
          0
         ]
        },
        {
         "line": {
          "color": "#648177",
          "dash": "dash",
          "width": 4
         },
         "mode": "lines+markers",
         "name": "Sevir.5G129000",
         "type": "scatter",
         "uid": "f673b648-3633-11ea-9c5e-79fdfc20b759",
         "x": [
          "Drought_Control_L",
          "Drought_Control_S",
          "Drought_50_L",
          "Drought_50_S",
          "Drought_50_R",
          "Drought_20_L",
          "Drought_20_S"
         ],
         "y": [
          4.6604149999999995,
          2.4530933333333333,
          4.983448,
          3.328518,
          0,
          12.086766,
          7.985983999999999
         ]
        },
        {
         "line": {
          "color": "#0d5ac1",
          "dash": "solid",
          "width": 4
         },
         "mode": "lines+markers",
         "name": "Sevir.2G354400",
         "type": "scatter",
         "uid": "f673b738-3633-11ea-9c5e-79fdfc20b759",
         "x": [
          "Drought_Control_L",
          "Drought_Control_S",
          "Drought_50_L",
          "Drought_50_S",
          "Drought_50_R",
          "Drought_20_L",
          "Drought_20_S"
         ],
         "y": [
          0,
          0,
          0,
          0,
          0,
          0,
          0
         ]
        },
        {
         "line": {
          "color": "#f205e6",
          "dash": "dot",
          "width": 4
         },
         "mode": "lines+markers",
         "name": "Sevir.2G152600",
         "type": "scatter",
         "uid": "f673b828-3633-11ea-9c5e-79fdfc20b759",
         "x": [
          "Drought_Control_L",
          "Drought_Control_S",
          "Drought_50_L",
          "Drought_50_S",
          "Drought_50_R",
          "Drought_20_L",
          "Drought_20_S"
         ],
         "y": [
          0.1,
          0.2222222222222222,
          0.2,
          0.6,
          0,
          0,
          0.2
         ]
        },
        {
         "line": {
          "color": "#1c0365",
          "dash": "dash",
          "width": 4
         },
         "mode": "lines+markers",
         "name": "Sevir.7G023700",
         "type": "scatter",
         "uid": "f673b918-3633-11ea-9c5e-79fdfc20b759",
         "x": [
          "Drought_Control_L",
          "Drought_Control_S",
          "Drought_50_L",
          "Drought_50_S",
          "Drought_50_R",
          "Drought_20_L",
          "Drought_20_S"
         ],
         "y": [
          0,
          0.5663990333333334,
          0.4,
          0.9444025999999999,
          0,
          0,
          1.7821840000000002
         ]
        },
        {
         "line": {
          "color": "#14a9ad",
          "dash": "solid",
          "width": 4
         },
         "mode": "lines+markers",
         "name": "Sevir.4G118900",
         "type": "scatter",
         "uid": "f673ba9e-3633-11ea-9c5e-79fdfc20b759",
         "x": [
          "Drought_Control_L",
          "Drought_Control_S",
          "Drought_50_L",
          "Drought_50_S",
          "Drought_50_R",
          "Drought_20_L",
          "Drought_20_S"
         ],
         "y": [
          0.2,
          0,
          0,
          0,
          0,
          0,
          0.2
         ]
        },
        {
         "line": {
          "color": "#4ca2f9",
          "dash": "dot",
          "width": 4
         },
         "mode": "lines+markers",
         "name": "Sevir.8G081600",
         "type": "scatter",
         "uid": "f673bbc0-3633-11ea-9c5e-79fdfc20b759",
         "x": [
          "Drought_Control_L",
          "Drought_Control_S",
          "Drought_50_L",
          "Drought_50_S",
          "Drought_50_R",
          "Drought_20_L",
          "Drought_20_S"
         ],
         "y": [
          0,
          0,
          0,
          0,
          0,
          0,
          0
         ]
        },
        {
         "line": {
          "color": "#a4e43f",
          "dash": "dash",
          "width": 4
         },
         "mode": "lines+markers",
         "name": "Sevir.5G364132",
         "type": "scatter",
         "uid": "f673bcb0-3633-11ea-9c5e-79fdfc20b759",
         "x": [
          "Drought_Control_L",
          "Drought_Control_S",
          "Drought_50_L",
          "Drought_50_S",
          "Drought_50_R",
          "Drought_20_L",
          "Drought_20_S"
         ],
         "y": [
          0,
          0.2222222222222222,
          0.2,
          0.2,
          0,
          0,
          0.2
         ]
        },
        {
         "line": {
          "color": "#d298e2",
          "dash": "solid",
          "width": 4
         },
         "mode": "lines+markers",
         "name": "Sevir.4G263301",
         "type": "scatter",
         "uid": "f673bda0-3633-11ea-9c5e-79fdfc20b759",
         "x": [
          "Drought_Control_L",
          "Drought_Control_S",
          "Drought_50_L",
          "Drought_50_S",
          "Drought_50_R",
          "Drought_20_L",
          "Drought_20_S"
         ],
         "y": [
          0,
          0.2222222222222222,
          0,
          0.6,
          0,
          0,
          0
         ]
        },
        {
         "line": {
          "color": "#6119d0",
          "dash": "dot",
          "width": 4
         },
         "mode": "lines+markers",
         "name": "Sevir.9G099466",
         "type": "scatter",
         "uid": "f673be86-3633-11ea-9c5e-79fdfc20b759",
         "x": [
          "Drought_Control_L",
          "Drought_Control_S",
          "Drought_50_L",
          "Drought_50_S",
          "Drought_50_R",
          "Drought_20_L",
          "Drought_20_S"
         ],
         "y": [
          0.1,
          0.1111111111111111,
          0,
          0.2,
          0,
          0.2,
          0
         ]
        },
        {
         "line": {
          "color": "#d2737d",
          "dash": "dash",
          "width": 4
         },
         "mode": "lines+markers",
         "name": "Sevir.9G078500",
         "type": "scatter",
         "uid": "f673bf6c-3633-11ea-9c5e-79fdfc20b759",
         "x": [
          "Drought_Control_L",
          "Drought_Control_S",
          "Drought_50_L",
          "Drought_50_S",
          "Drought_50_R",
          "Drought_20_L",
          "Drought_20_S"
         ],
         "y": [
          0.4,
          0,
          0,
          0,
          0,
          0,
          0.4
         ]
        },
        {
         "line": {
          "color": "#c0a43c",
          "dash": "solid",
          "width": 4
         },
         "mode": "lines+markers",
         "name": "Sevir.2G263800",
         "type": "scatter",
         "uid": "f673c052-3633-11ea-9c5e-79fdfc20b759",
         "x": [
          "Drought_Control_L",
          "Drought_Control_S",
          "Drought_50_L",
          "Drought_50_S",
          "Drought_50_R",
          "Drought_20_L",
          "Drought_20_S"
         ],
         "y": [
          0,
          0,
          0,
          0,
          0,
          0,
          0
         ]
        },
        {
         "line": {
          "color": "#f2510e",
          "dash": "dot",
          "width": 4
         },
         "mode": "lines+markers",
         "name": "Sevir.8G218520",
         "type": "scatter",
         "uid": "f673c138-3633-11ea-9c5e-79fdfc20b759",
         "x": [
          "Drought_Control_L",
          "Drought_Control_S",
          "Drought_50_L",
          "Drought_50_S",
          "Drought_50_R",
          "Drought_20_L",
          "Drought_20_S"
         ],
         "y": [
          0.1,
          0,
          0,
          0,
          0,
          0,
          0
         ]
        },
        {
         "line": {
          "color": "#651be6",
          "dash": "dash",
          "width": 4
         },
         "mode": "lines+markers",
         "name": "Sevir.3G390900",
         "type": "scatter",
         "uid": "f673c214-3633-11ea-9c5e-79fdfc20b759",
         "x": [
          "Drought_Control_L",
          "Drought_Control_S",
          "Drought_50_L",
          "Drought_50_S",
          "Drought_50_R",
          "Drought_20_L",
          "Drought_20_S"
         ],
         "y": [
          0,
          0,
          0,
          0,
          0,
          0,
          0
         ]
        },
        {
         "line": {
          "color": "#79806e",
          "dash": "solid",
          "width": 4
         },
         "mode": "lines+markers",
         "name": "Sevir.9G165400",
         "type": "scatter",
         "uid": "f673c2fa-3633-11ea-9c5e-79fdfc20b759",
         "x": [
          "Drought_Control_L",
          "Drought_Control_S",
          "Drought_50_L",
          "Drought_50_S",
          "Drought_50_R",
          "Drought_20_L",
          "Drought_20_S"
         ],
         "y": [
          0,
          0,
          0,
          0,
          0,
          0,
          0
         ]
        },
        {
         "line": {
          "color": "#61da5e",
          "dash": "dot",
          "width": 4
         },
         "mode": "lines+markers",
         "name": "Sevir.8G245140",
         "type": "scatter",
         "uid": "f673c3e0-3633-11ea-9c5e-79fdfc20b759",
         "x": [
          "Drought_Control_L",
          "Drought_Control_S",
          "Drought_50_L",
          "Drought_50_S",
          "Drought_50_R",
          "Drought_20_L",
          "Drought_20_S"
         ],
         "y": [
          0,
          0,
          0,
          0,
          0,
          0.4,
          0
         ]
        },
        {
         "line": {
          "color": "#cd2f00",
          "dash": "dash",
          "width": 4
         },
         "mode": "lines+markers",
         "name": "Sevir.8G087000",
         "type": "scatter",
         "uid": "f673c4c6-3633-11ea-9c5e-79fdfc20b759",
         "x": [
          "Drought_Control_L",
          "Drought_Control_S",
          "Drought_50_L",
          "Drought_50_S",
          "Drought_50_R",
          "Drought_20_L",
          "Drought_20_S"
         ],
         "y": [
          0,
          0,
          0,
          0,
          0,
          0,
          0
         ]
        },
        {
         "line": {
          "color": "#9348af",
          "dash": "solid",
          "width": 4
         },
         "mode": "lines+markers",
         "name": "Sevir.9G576201",
         "type": "scatter",
         "uid": "f673c5ac-3633-11ea-9c5e-79fdfc20b759",
         "x": [
          "Drought_Control_L",
          "Drought_Control_S",
          "Drought_50_L",
          "Drought_50_S",
          "Drought_50_R",
          "Drought_20_L",
          "Drought_20_S"
         ],
         "y": [
          0,
          0,
          0,
          0,
          0,
          0,
          0
         ]
        },
        {
         "line": {
          "color": "#01ac53",
          "dash": "dot",
          "width": 4
         },
         "mode": "lines+markers",
         "name": "Sevir.5G470750",
         "type": "scatter",
         "uid": "f673c692-3633-11ea-9c5e-79fdfc20b759",
         "x": [
          "Drought_Control_L",
          "Drought_Control_S",
          "Drought_50_L",
          "Drought_50_S",
          "Drought_50_R",
          "Drought_20_L",
          "Drought_20_S"
         ],
         "y": [
          0.1,
          0.1111111111111111,
          0.2,
          0.8,
          0,
          0,
          0.6
         ]
        },
        {
         "line": {
          "color": "#c5a4fb",
          "dash": "dash",
          "width": 4
         },
         "mode": "lines+markers",
         "name": "Sevir.1G060850",
         "type": "scatter",
         "uid": "f673c778-3633-11ea-9c5e-79fdfc20b759",
         "x": [
          "Drought_Control_L",
          "Drought_Control_S",
          "Drought_50_L",
          "Drought_50_S",
          "Drought_50_R",
          "Drought_20_L",
          "Drought_20_S"
         ],
         "y": [
          0,
          0,
          0,
          0,
          0,
          0,
          0
         ]
        },
        {
         "line": {
          "color": "#996635",
          "dash": "solid",
          "width": 4
         },
         "mode": "lines+markers",
         "name": "Sevir.2G280500",
         "type": "scatter",
         "uid": "f673c85e-3633-11ea-9c5e-79fdfc20b759",
         "x": [
          "Drought_Control_L",
          "Drought_Control_S",
          "Drought_50_L",
          "Drought_50_S",
          "Drought_50_R",
          "Drought_20_L",
          "Drought_20_S"
         ],
         "y": [
          0.1,
          0.22222235280666666,
          0,
          0.4614416,
          0,
          0,
          0.36634
         ]
        },
        {
         "line": {
          "color": "#b11573",
          "dash": "dot",
          "width": 4
         },
         "mode": "lines+markers",
         "name": "Sevir.9G268200",
         "type": "scatter",
         "uid": "f673c944-3633-11ea-9c5e-79fdfc20b759",
         "x": [
          "Drought_Control_L",
          "Drought_Control_S",
          "Drought_50_L",
          "Drought_50_S",
          "Drought_50_R",
          "Drought_20_L",
          "Drought_20_S"
         ],
         "y": [
          0,
          0,
          0,
          0.6,
          0,
          0,
          1
         ]
        },
        {
         "line": {
          "color": "#4bb473",
          "dash": "dash",
          "width": 4
         },
         "mode": "lines+markers",
         "name": "Sevir.4G143101",
         "type": "scatter",
         "uid": "f673ca20-3633-11ea-9c5e-79fdfc20b759",
         "x": [
          "Drought_Control_L",
          "Drought_Control_S",
          "Drought_50_L",
          "Drought_50_S",
          "Drought_50_R",
          "Drought_20_L",
          "Drought_20_S"
         ],
         "y": [
          0,
          0,
          0,
          0,
          0,
          0,
          0
         ]
        },
        {
         "line": {
          "color": "#75d89e",
          "dash": "solid",
          "width": 4
         },
         "mode": "lines+markers",
         "name": "Sevir.2G342800",
         "type": "scatter",
         "uid": "f673cb06-3633-11ea-9c5e-79fdfc20b759",
         "x": [
          "Drought_Control_L",
          "Drought_Control_S",
          "Drought_50_L",
          "Drought_50_S",
          "Drought_50_R",
          "Drought_20_L",
          "Drought_20_S"
         ],
         "y": [
          0,
          0.1111111111111111,
          0,
          0,
          0,
          0,
          0
         ]
        },
        {
         "line": {
          "color": "#2f3f94",
          "dash": "dot",
          "width": 4
         },
         "mode": "lines+markers",
         "name": "Sevir.1G019900",
         "type": "scatter",
         "uid": "f673cbe2-3633-11ea-9c5e-79fdfc20b759",
         "x": [
          "Drought_Control_L",
          "Drought_Control_S",
          "Drought_50_L",
          "Drought_50_S",
          "Drought_50_R",
          "Drought_20_L",
          "Drought_20_S"
         ],
         "y": [
          0,
          0,
          0,
          0,
          0,
          0,
          0
         ]
        },
        {
         "line": {
          "color": "#2f7b99",
          "dash": "dash",
          "width": 4
         },
         "mode": "lines+markers",
         "name": "Sevir.3G353500",
         "type": "scatter",
         "uid": "f673ccc8-3633-11ea-9c5e-79fdfc20b759",
         "x": [
          "Drought_Control_L",
          "Drought_Control_S",
          "Drought_50_L",
          "Drought_50_S",
          "Drought_50_R",
          "Drought_20_L",
          "Drought_20_S"
         ],
         "y": [
          0,
          0.1111111111111111,
          0,
          0,
          0,
          0,
          0
         ]
        },
        {
         "line": {
          "color": "#da967d",
          "dash": "solid",
          "width": 4
         },
         "mode": "lines+markers",
         "name": "Sevir.7G189700",
         "type": "scatter",
         "uid": "f673cdae-3633-11ea-9c5e-79fdfc20b759",
         "x": [
          "Drought_Control_L",
          "Drought_Control_S",
          "Drought_50_L",
          "Drought_50_S",
          "Drought_50_R",
          "Drought_20_L",
          "Drought_20_S"
         ],
         "y": [
          0,
          0.1111111111111111,
          0,
          0.6,
          0,
          0.4,
          0
         ]
        },
        {
         "line": {
          "color": "#34891f",
          "dash": "dot",
          "width": 4
         },
         "mode": "lines+markers",
         "name": "Sevir.4G118600",
         "type": "scatter",
         "uid": "f673ce94-3633-11ea-9c5e-79fdfc20b759",
         "x": [
          "Drought_Control_L",
          "Drought_Control_S",
          "Drought_50_L",
          "Drought_50_S",
          "Drought_50_R",
          "Drought_20_L",
          "Drought_20_S"
         ],
         "y": [
          0.1,
          0.11309444444444444,
          0,
          0,
          0,
          0,
          0
         ]
        },
        {
         "line": {
          "color": "#b0d87b",
          "dash": "dash",
          "width": 4
         },
         "mode": "lines+markers",
         "name": "Sevir.5G315900",
         "type": "scatter",
         "uid": "f673d006-3633-11ea-9c5e-79fdfc20b759",
         "x": [
          "Drought_Control_L",
          "Drought_Control_S",
          "Drought_50_L",
          "Drought_50_S",
          "Drought_50_R",
          "Drought_20_L",
          "Drought_20_S"
         ],
         "y": [
          0,
          0.4444444444444444,
          0,
          0,
          0,
          0,
          0
         ]
        },
        {
         "line": {
          "color": "#ca4751",
          "dash": "solid",
          "width": 4
         },
         "mode": "lines+markers",
         "name": "Sevir.1G110232",
         "type": "scatter",
         "uid": "f673d0f6-3633-11ea-9c5e-79fdfc20b759",
         "x": [
          "Drought_Control_L",
          "Drought_Control_S",
          "Drought_50_L",
          "Drought_50_S",
          "Drought_50_R",
          "Drought_20_L",
          "Drought_20_S"
         ],
         "y": [
          0,
          0,
          0,
          0.6,
          0,
          0,
          0.2
         ]
        },
        {
         "line": {
          "color": "#7e50a8",
          "dash": "dot",
          "width": 4
         },
         "mode": "lines+markers",
         "name": "Sevir.5G206100",
         "type": "scatter",
         "uid": "f673d1e6-3633-11ea-9c5e-79fdfc20b759",
         "x": [
          "Drought_Control_L",
          "Drought_Control_S",
          "Drought_50_L",
          "Drought_50_S",
          "Drought_50_R",
          "Drought_20_L",
          "Drought_20_S"
         ],
         "y": [
          0.2,
          0.3333333333333333,
          0,
          0,
          0,
          0,
          0.4
         ]
        },
        {
         "line": {
          "color": "#c4d647",
          "dash": "dash",
          "width": 4
         },
         "mode": "lines+markers",
         "name": "Sevir.3G353200",
         "type": "scatter",
         "uid": "f673d2cc-3633-11ea-9c5e-79fdfc20b759",
         "x": [
          "Drought_Control_L",
          "Drought_Control_S",
          "Drought_50_L",
          "Drought_50_S",
          "Drought_50_R",
          "Drought_20_L",
          "Drought_20_S"
         ],
         "y": [
          0,
          0,
          0,
          0.2,
          0,
          0,
          0.8
         ]
        },
        {
         "line": {
          "color": "#e0eeb8",
          "dash": "solid",
          "width": 4
         },
         "mode": "lines+markers",
         "name": "Sevir.4G093300",
         "type": "scatter",
         "uid": "f673d3b2-3633-11ea-9c5e-79fdfc20b759",
         "x": [
          "Drought_Control_L",
          "Drought_Control_S",
          "Drought_50_L",
          "Drought_50_S",
          "Drought_50_R",
          "Drought_20_L",
          "Drought_20_S"
         ],
         "y": [
          0.4,
          0.6666666666666666,
          0.2,
          0.2,
          0,
          1.2,
          1.4
         ]
        },
        {
         "line": {
          "color": "#11dec1",
          "dash": "dot",
          "width": 4
         },
         "mode": "lines+markers",
         "name": "Sevir.1G171100",
         "type": "scatter",
         "uid": "f673d498-3633-11ea-9c5e-79fdfc20b759",
         "x": [
          "Drought_Control_L",
          "Drought_Control_S",
          "Drought_50_L",
          "Drought_50_S",
          "Drought_50_R",
          "Drought_20_L",
          "Drought_20_S"
         ],
         "y": [
          0,
          0.2222222222222222,
          0,
          0,
          0,
          0,
          0.2
         ]
        },
        {
         "line": {
          "color": "#289812",
          "dash": "dash",
          "width": 4
         },
         "mode": "lines+markers",
         "name": "Sevir.2G305750",
         "type": "scatter",
         "uid": "f673d57e-3633-11ea-9c5e-79fdfc20b759",
         "x": [
          "Drought_Control_L",
          "Drought_Control_S",
          "Drought_50_L",
          "Drought_50_S",
          "Drought_50_R",
          "Drought_20_L",
          "Drought_20_S"
         ],
         "y": [
          0.5557130000000001,
          0.5196755555555556,
          1.713518,
          0.255306,
          0,
          0,
          0
         ]
        },
        {
         "line": {
          "color": "#566ca0",
          "dash": "solid",
          "width": 4
         },
         "mode": "lines+markers",
         "name": "Sevir.9G169700",
         "type": "scatter",
         "uid": "f673d664-3633-11ea-9c5e-79fdfc20b759",
         "x": [
          "Drought_Control_L",
          "Drought_Control_S",
          "Drought_50_L",
          "Drought_50_S",
          "Drought_50_R",
          "Drought_20_L",
          "Drought_20_S"
         ],
         "y": [
          0,
          0,
          0,
          0,
          0,
          0,
          0
         ]
        },
        {
         "line": {
          "color": "#ffdbe1",
          "dash": "dot",
          "width": 4
         },
         "mode": "lines+markers",
         "name": "Sevir.1G020800",
         "type": "scatter",
         "uid": "f673d74a-3633-11ea-9c5e-79fdfc20b759",
         "x": [
          "Drought_Control_L",
          "Drought_Control_S",
          "Drought_50_L",
          "Drought_50_S",
          "Drought_50_R",
          "Drought_20_L",
          "Drought_20_S"
         ],
         "y": [
          0,
          0,
          0,
          0,
          0,
          0.4,
          0
         ]
        },
        {
         "line": {
          "color": "#2f1179",
          "dash": "dash",
          "width": 4
         },
         "mode": "lines+markers",
         "name": "Sevir.5G194900",
         "type": "scatter",
         "uid": "f673d83a-3633-11ea-9c5e-79fdfc20b759",
         "x": [
          "Drought_Control_L",
          "Drought_Control_S",
          "Drought_50_L",
          "Drought_50_S",
          "Drought_50_R",
          "Drought_20_L",
          "Drought_20_S"
         ],
         "y": [
          0,
          0,
          0,
          0,
          0,
          0,
          0
         ]
        },
        {
         "line": {
          "color": "#935b6d",
          "dash": "solid",
          "width": 4
         },
         "mode": "lines+markers",
         "name": "Sevir.6G028050",
         "type": "scatter",
         "uid": "f673d920-3633-11ea-9c5e-79fdfc20b759",
         "x": [
          "Drought_Control_L",
          "Drought_Control_S",
          "Drought_50_L",
          "Drought_50_S",
          "Drought_50_R",
          "Drought_20_L",
          "Drought_20_S"
         ],
         "y": [
          0,
          0,
          0,
          0,
          0,
          0,
          0
         ]
        },
        {
         "line": {
          "color": "#916988",
          "dash": "dot",
          "width": 4
         },
         "mode": "lines+markers",
         "name": "Sevir.2G003200",
         "type": "scatter",
         "uid": "f673da06-3633-11ea-9c5e-79fdfc20b759",
         "x": [
          "Drought_Control_L",
          "Drought_Control_S",
          "Drought_50_L",
          "Drought_50_S",
          "Drought_50_R",
          "Drought_20_L",
          "Drought_20_S"
         ],
         "y": [
          0,
          0.1111111111111111,
          0,
          0.4,
          0,
          0,
          0
         ]
        },
        {
         "line": {
          "color": "#513d98",
          "dash": "dash",
          "width": 4
         },
         "mode": "lines+markers",
         "name": "Sevir.8G079100",
         "type": "scatter",
         "uid": "f673dae2-3633-11ea-9c5e-79fdfc20b759",
         "x": [
          "Drought_Control_L",
          "Drought_Control_S",
          "Drought_50_L",
          "Drought_50_S",
          "Drought_50_R",
          "Drought_20_L",
          "Drought_20_S"
         ],
         "y": [
          0,
          0,
          0,
          0,
          0,
          0,
          0
         ]
        },
        {
         "line": {
          "color": "#aead3a",
          "dash": "solid",
          "width": 4
         },
         "mode": "lines+markers",
         "name": "Sevir.4G293501",
         "type": "scatter",
         "uid": "f673dbc8-3633-11ea-9c5e-79fdfc20b759",
         "x": [
          "Drought_Control_L",
          "Drought_Control_S",
          "Drought_50_L",
          "Drought_50_S",
          "Drought_50_R",
          "Drought_20_L",
          "Drought_20_S"
         ],
         "y": [
          0,
          0,
          0,
          0,
          0,
          0,
          0
         ]
        },
        {
         "line": {
          "color": "#9e6d71",
          "dash": "dot",
          "width": 4
         },
         "mode": "lines+markers",
         "name": "Sevir.7G022900",
         "type": "scatter",
         "uid": "f673dcae-3633-11ea-9c5e-79fdfc20b759",
         "x": [
          "Drought_Control_L",
          "Drought_Control_S",
          "Drought_50_L",
          "Drought_50_S",
          "Drought_50_R",
          "Drought_20_L",
          "Drought_20_S"
         ],
         "y": [
          0,
          0,
          0,
          0,
          0,
          0,
          0
         ]
        },
        {
         "line": {
          "color": "#4b5bdc",
          "dash": "dash",
          "width": 4
         },
         "mode": "lines+markers",
         "name": "Sevir.8G165900",
         "type": "scatter",
         "uid": "f673dd94-3633-11ea-9c5e-79fdfc20b759",
         "x": [
          "Drought_Control_L",
          "Drought_Control_S",
          "Drought_50_L",
          "Drought_50_S",
          "Drought_50_R",
          "Drought_20_L",
          "Drought_20_S"
         ],
         "y": [
          0,
          0,
          0,
          0,
          0,
          0,
          0
         ]
        },
        {
         "line": {
          "color": "#0cd36d",
          "dash": "solid",
          "width": 4
         },
         "mode": "lines+markers",
         "name": "Sevir.9G092300",
         "type": "scatter",
         "uid": "f673de70-3633-11ea-9c5e-79fdfc20b759",
         "x": [
          "Drought_Control_L",
          "Drought_Control_S",
          "Drought_50_L",
          "Drought_50_S",
          "Drought_50_R",
          "Drought_20_L",
          "Drought_20_S"
         ],
         "y": [
          0,
          0,
          0,
          0,
          0,
          0,
          0
         ]
        },
        {
         "line": {
          "color": "#250662",
          "dash": "dot",
          "width": 4
         },
         "mode": "lines+markers",
         "name": "Sevir.6G113200",
         "type": "scatter",
         "uid": "f673df56-3633-11ea-9c5e-79fdfc20b759",
         "x": [
          "Drought_Control_L",
          "Drought_Control_S",
          "Drought_50_L",
          "Drought_50_S",
          "Drought_50_R",
          "Drought_20_L",
          "Drought_20_S"
         ],
         "y": [
          0,
          0,
          0,
          0,
          0,
          0,
          0
         ]
        },
        {
         "line": {
          "color": "#cb5bea",
          "dash": "dash",
          "width": 4
         },
         "mode": "lines+markers",
         "name": "Sevir.4G160200",
         "type": "scatter",
         "uid": "f673e03c-3633-11ea-9c5e-79fdfc20b759",
         "x": [
          "Drought_Control_L",
          "Drought_Control_S",
          "Drought_50_L",
          "Drought_50_S",
          "Drought_50_R",
          "Drought_20_L",
          "Drought_20_S"
         ],
         "y": [
          0,
          0,
          0,
          0,
          0,
          0,
          0
         ]
        },
        {
         "line": {
          "color": "#228916",
          "dash": "solid",
          "width": 4
         },
         "mode": "lines+markers",
         "name": "Sevir.5G037400",
         "type": "scatter",
         "uid": "f673e190-3633-11ea-9c5e-79fdfc20b759",
         "x": [
          "Drought_Control_L",
          "Drought_Control_S",
          "Drought_50_L",
          "Drought_50_S",
          "Drought_50_R",
          "Drought_20_L",
          "Drought_20_S"
         ],
         "y": [
          0,
          0,
          0,
          0,
          0,
          0,
          0
         ]
        },
        {
         "line": {
          "color": "#ac3e1b",
          "dash": "dot",
          "width": 4
         },
         "mode": "lines+markers",
         "name": "Sevir.3G298200",
         "type": "scatter",
         "uid": "f673e2a8-3633-11ea-9c5e-79fdfc20b759",
         "x": [
          "Drought_Control_L",
          "Drought_Control_S",
          "Drought_50_L",
          "Drought_50_S",
          "Drought_50_R",
          "Drought_20_L",
          "Drought_20_S"
         ],
         "y": [
          0,
          0,
          0,
          0,
          0,
          0,
          0
         ]
        },
        {
         "line": {
          "color": "#df514a",
          "dash": "dash",
          "width": 4
         },
         "mode": "lines+markers",
         "name": "Sevir.2G437300",
         "type": "scatter",
         "uid": "f673e38e-3633-11ea-9c5e-79fdfc20b759",
         "x": [
          "Drought_Control_L",
          "Drought_Control_S",
          "Drought_50_L",
          "Drought_50_S",
          "Drought_50_R",
          "Drought_20_L",
          "Drought_20_S"
         ],
         "y": [
          0,
          0,
          0,
          0,
          0,
          0,
          0
         ]
        },
        {
         "line": {
          "color": "#539397",
          "dash": "solid",
          "width": 4
         },
         "mode": "lines+markers",
         "name": "Sevir.9G095700",
         "type": "scatter",
         "uid": "f673e474-3633-11ea-9c5e-79fdfc20b759",
         "x": [
          "Drought_Control_L",
          "Drought_Control_S",
          "Drought_50_L",
          "Drought_50_S",
          "Drought_50_R",
          "Drought_20_L",
          "Drought_20_S"
         ],
         "y": [
          0.46411199999999997,
          0.4550088888888888,
          0.5813159999999999,
          0.613828,
          0,
          0.28449599999999997,
          0.406346
         ]
        },
        {
         "line": {
          "color": "#880977",
          "dash": "dot",
          "width": 4
         },
         "mode": "lines+markers",
         "name": "Sevir.1G265000",
         "type": "scatter",
         "uid": "f673e55a-3633-11ea-9c5e-79fdfc20b759",
         "x": [
          "Drought_Control_L",
          "Drought_Control_S",
          "Drought_50_L",
          "Drought_50_S",
          "Drought_50_R",
          "Drought_20_L",
          "Drought_20_S"
         ],
         "y": [
          0,
          0,
          0,
          0,
          0,
          0,
          0
         ]
        },
        {
         "line": {
          "color": "#f697c1",
          "dash": "dash",
          "width": 4
         },
         "mode": "lines+markers",
         "name": "Sevir.5G418900",
         "type": "scatter",
         "uid": "f673e640-3633-11ea-9c5e-79fdfc20b759",
         "x": [
          "Drought_Control_L",
          "Drought_Control_S",
          "Drought_50_L",
          "Drought_50_S",
          "Drought_50_R",
          "Drought_20_L",
          "Drought_20_S"
         ],
         "y": [
          0,
          0,
          0,
          0,
          0,
          0,
          0
         ]
        },
        {
         "line": {
          "color": "#ba96ce",
          "dash": "solid",
          "width": 4
         },
         "mode": "lines+markers",
         "name": "Sevir.8G237700",
         "type": "scatter",
         "uid": "f673e71c-3633-11ea-9c5e-79fdfc20b759",
         "x": [
          "Drought_Control_L",
          "Drought_Control_S",
          "Drought_50_L",
          "Drought_50_S",
          "Drought_50_R",
          "Drought_20_L",
          "Drought_20_S"
         ],
         "y": [
          0,
          0,
          0,
          0,
          0,
          0,
          0
         ]
        },
        {
         "line": {
          "color": "#679c9d",
          "dash": "dot",
          "width": 4
         },
         "mode": "lines+markers",
         "name": "Sevir.2G177600",
         "type": "scatter",
         "uid": "f673e802-3633-11ea-9c5e-79fdfc20b759",
         "x": [
          "Drought_Control_L",
          "Drought_Control_S",
          "Drought_50_L",
          "Drought_50_S",
          "Drought_50_R",
          "Drought_20_L",
          "Drought_20_S"
         ],
         "y": [
          0.1,
          0,
          0,
          0,
          0,
          0,
          0
         ]
        },
        {
         "line": {
          "color": "#c6c42c",
          "dash": "dash",
          "width": 4
         },
         "mode": "lines+markers",
         "name": "Sevir.9G253801",
         "type": "scatter",
         "uid": "f673e8de-3633-11ea-9c5e-79fdfc20b759",
         "x": [
          "Drought_Control_L",
          "Drought_Control_S",
          "Drought_50_L",
          "Drought_50_S",
          "Drought_50_R",
          "Drought_20_L",
          "Drought_20_S"
         ],
         "y": [
          0,
          0,
          0,
          0,
          0,
          0,
          0
         ]
        },
        {
         "line": {
          "color": "#5d2c52",
          "dash": "solid",
          "width": 4
         },
         "mode": "lines+markers",
         "name": "Sevir.6G183566",
         "type": "scatter",
         "uid": "f673e9ba-3633-11ea-9c5e-79fdfc20b759",
         "x": [
          "Drought_Control_L",
          "Drought_Control_S",
          "Drought_50_L",
          "Drought_50_S",
          "Drought_50_R",
          "Drought_20_L",
          "Drought_20_S"
         ],
         "y": [
          0,
          0,
          0,
          0,
          0,
          0,
          0
         ]
        },
        {
         "line": {
          "color": "#48b41b",
          "dash": "dot",
          "width": 4
         },
         "mode": "lines+markers",
         "name": "Sevir.8G259500",
         "type": "scatter",
         "uid": "f673ea96-3633-11ea-9c5e-79fdfc20b759",
         "x": [
          "Drought_Control_L",
          "Drought_Control_S",
          "Drought_50_L",
          "Drought_50_S",
          "Drought_50_R",
          "Drought_20_L",
          "Drought_20_S"
         ],
         "y": [
          0.500767,
          1.2324877777777778,
          0.2,
          1.2047,
          0,
          0.76663,
          0.204122
         ]
        },
        {
         "line": {
          "color": "#e1cf3b",
          "dash": "dash",
          "width": 4
         },
         "mode": "lines+markers",
         "name": "Sevir.5G036550",
         "type": "scatter",
         "uid": "f673eb72-3633-11ea-9c5e-79fdfc20b759",
         "x": [
          "Drought_Control_L",
          "Drought_Control_S",
          "Drought_50_L",
          "Drought_50_S",
          "Drought_50_R",
          "Drought_20_L",
          "Drought_20_S"
         ],
         "y": [
          0,
          0.1111111111111111,
          0,
          0.4,
          0,
          0,
          0
         ]
        },
        {
         "line": {
          "color": "#5be4f0",
          "dash": "solid",
          "width": 4
         },
         "mode": "lines+markers",
         "name": "Sevir.7G279700",
         "type": "scatter",
         "uid": "f673ec62-3633-11ea-9c5e-79fdfc20b759",
         "x": [
          "Drought_Control_L",
          "Drought_Control_S",
          "Drought_50_L",
          "Drought_50_S",
          "Drought_50_R",
          "Drought_20_L",
          "Drought_20_S"
         ],
         "y": [
          0.3,
          0.3333333333333333,
          0,
          1,
          0,
          0,
          0
         ]
        },
        {
         "line": {
          "color": "#57c4d8",
          "dash": "dot",
          "width": 4
         },
         "mode": "lines+markers",
         "name": "Sevir.8G068450",
         "type": "scatter",
         "uid": "f673ed3e-3633-11ea-9c5e-79fdfc20b759",
         "x": [
          "Drought_Control_L",
          "Drought_Control_S",
          "Drought_50_L",
          "Drought_50_S",
          "Drought_50_R",
          "Drought_20_L",
          "Drought_20_S"
         ],
         "y": [
          0,
          0,
          0,
          0.125752,
          0,
          0,
          0
         ]
        },
        {
         "line": {
          "color": "#a4d17a",
          "dash": "dash",
          "width": 4
         },
         "mode": "lines+markers",
         "name": "Sevir.9G576750",
         "type": "scatter",
         "uid": "f673ee1a-3633-11ea-9c5e-79fdfc20b759",
         "x": [
          "Drought_Control_L",
          "Drought_Control_S",
          "Drought_50_L",
          "Drought_50_S",
          "Drought_50_R",
          "Drought_20_L",
          "Drought_20_S"
         ],
         "y": [
          0.5,
          0.3333333333333333,
          0.8,
          1.2,
          0,
          1,
          1.4
         ]
        },
        {
         "line": {
          "color": "#225b8e",
          "dash": "solid",
          "width": 4
         },
         "mode": "lines+markers",
         "name": "Sevir.9G248533",
         "type": "scatter",
         "uid": "f673ef00-3633-11ea-9c5e-79fdfc20b759",
         "x": [
          "Drought_Control_L",
          "Drought_Control_S",
          "Drought_50_L",
          "Drought_50_S",
          "Drought_50_R",
          "Drought_20_L",
          "Drought_20_S"
         ],
         "y": [
          0.1,
          0,
          0.4,
          1.6,
          0,
          0.4,
          0.2
         ]
        },
        {
         "line": {
          "color": "#be608b",
          "dash": "dot",
          "width": 4
         },
         "mode": "lines+markers",
         "name": "Sevir.1G379100",
         "type": "scatter",
         "uid": "f673efdc-3633-11ea-9c5e-79fdfc20b759",
         "x": [
          "Drought_Control_L",
          "Drought_Control_S",
          "Drought_50_L",
          "Drought_50_S",
          "Drought_50_R",
          "Drought_20_L",
          "Drought_20_S"
         ],
         "y": [
          4.920848000000001,
          4.855225555555555,
          1.405614,
          2.1131539999999998,
          2.01594,
          4.2488280000000005,
          7.991448
         ]
        },
        {
         "line": {
          "color": "#96b00c",
          "dash": "dash",
          "width": 4
         },
         "mode": "lines+markers",
         "name": "Sevir.8G222414",
         "type": "scatter",
         "uid": "f673f0b8-3633-11ea-9c5e-79fdfc20b759",
         "x": [
          "Drought_Control_L",
          "Drought_Control_S",
          "Drought_50_L",
          "Drought_50_S",
          "Drought_50_R",
          "Drought_20_L",
          "Drought_20_S"
         ],
         "y": [
          0.1,
          1.1111111111111112,
          1.4,
          0,
          0,
          0,
          1
         ]
        },
        {
         "line": {
          "color": "#088baf",
          "dash": "solid",
          "width": 4
         },
         "mode": "lines+markers",
         "name": "Sevir.6G039200",
         "type": "scatter",
         "uid": "f673f19e-3633-11ea-9c5e-79fdfc20b759",
         "x": [
          "Drought_Control_L",
          "Drought_Control_S",
          "Drought_50_L",
          "Drought_50_S",
          "Drought_50_R",
          "Drought_20_L",
          "Drought_20_S"
         ],
         "y": [
          1.278126,
          0.47057888888888894,
          1.7401119999999999,
          2.811732,
          0,
          4.437488,
          0.303562
         ]
        },
        {
         "line": {
          "color": "#f158bf",
          "dash": "dot",
          "width": 4
         },
         "mode": "lines+markers",
         "name": "Sevir.6G075100",
         "type": "scatter",
         "uid": "f673f27a-3633-11ea-9c5e-79fdfc20b759",
         "x": [
          "Drought_Control_L",
          "Drought_Control_S",
          "Drought_50_L",
          "Drought_50_S",
          "Drought_50_R",
          "Drought_20_L",
          "Drought_20_S"
         ],
         "y": [
          0,
          0,
          0,
          0,
          0,
          0,
          0
         ]
        },
        {
         "line": {
          "color": "#e145ba",
          "dash": "dash",
          "width": 4
         },
         "mode": "lines+markers",
         "name": "Sevir.3G331800",
         "type": "scatter",
         "uid": "f673f360-3633-11ea-9c5e-79fdfc20b759",
         "x": [
          "Drought_Control_L",
          "Drought_Control_S",
          "Drought_50_L",
          "Drought_50_S",
          "Drought_50_R",
          "Drought_20_L",
          "Drought_20_S"
         ],
         "y": [
          0,
          0.5555555555555556,
          0.2,
          0.2,
          0,
          0,
          0.2
         ]
        },
        {
         "line": {
          "color": "#ee91e3",
          "dash": "solid",
          "width": 4
         },
         "mode": "lines+markers",
         "name": "Sevir.4G164200",
         "type": "scatter",
         "uid": "f673f43c-3633-11ea-9c5e-79fdfc20b759",
         "x": [
          "Drought_Control_L",
          "Drought_Control_S",
          "Drought_50_L",
          "Drought_50_S",
          "Drought_50_R",
          "Drought_20_L",
          "Drought_20_S"
         ],
         "y": [
          0,
          0,
          0,
          0,
          0,
          0,
          0
         ]
        },
        {
         "line": {
          "color": "#05d371",
          "dash": "dot",
          "width": 4
         },
         "mode": "lines+markers",
         "name": "Sevir.9G347733",
         "type": "scatter",
         "uid": "f673f518-3633-11ea-9c5e-79fdfc20b759",
         "x": [
          "Drought_Control_L",
          "Drought_Control_S",
          "Drought_50_L",
          "Drought_50_S",
          "Drought_50_R",
          "Drought_20_L",
          "Drought_20_S"
         ],
         "y": [
          0.2,
          0.8888888888888888,
          0.4,
          0,
          0,
          0.4,
          0.6
         ]
        },
        {
         "line": {
          "color": "#5426e0",
          "dash": "dash",
          "width": 4
         },
         "mode": "lines+markers",
         "name": "Sevir.2G396750",
         "type": "scatter",
         "uid": "f673f5f4-3633-11ea-9c5e-79fdfc20b759",
         "x": [
          "Drought_Control_L",
          "Drought_Control_S",
          "Drought_50_L",
          "Drought_50_S",
          "Drought_50_R",
          "Drought_20_L",
          "Drought_20_S"
         ],
         "y": [
          0,
          0,
          0,
          0,
          0,
          0.2,
          0
         ]
        },
        {
         "line": {
          "color": "#4834d0",
          "dash": "solid",
          "width": 4
         },
         "mode": "lines+markers",
         "name": "Sevir.3G116100",
         "type": "scatter",
         "uid": "f673f6d0-3633-11ea-9c5e-79fdfc20b759",
         "x": [
          "Drought_Control_L",
          "Drought_Control_S",
          "Drought_50_L",
          "Drought_50_S",
          "Drought_50_R",
          "Drought_20_L",
          "Drought_20_S"
         ],
         "y": [
          0.2,
          0,
          0.2,
          0,
          0,
          0,
          0.4
         ]
        },
        {
         "line": {
          "color": "#802234",
          "dash": "dot",
          "width": 4
         },
         "mode": "lines+markers",
         "name": "Sevir.7G061100",
         "type": "scatter",
         "uid": "f673f7ac-3633-11ea-9c5e-79fdfc20b759",
         "x": [
          "Drought_Control_L",
          "Drought_Control_S",
          "Drought_50_L",
          "Drought_50_S",
          "Drought_50_R",
          "Drought_20_L",
          "Drought_20_S"
         ],
         "y": [
          0,
          0,
          0,
          0,
          0,
          0,
          0
         ]
        },
        {
         "line": {
          "color": "#6749e8",
          "dash": "dash",
          "width": 4
         },
         "mode": "lines+markers",
         "name": "Sevir.2G307100",
         "type": "scatter",
         "uid": "f673f87e-3633-11ea-9c5e-79fdfc20b759",
         "x": [
          "Drought_Control_L",
          "Drought_Control_S",
          "Drought_50_L",
          "Drought_50_S",
          "Drought_50_R",
          "Drought_20_L",
          "Drought_20_S"
         ],
         "y": [
          0,
          0.2222222222222222,
          0,
          0,
          0,
          0,
          0
         ]
        },
        {
         "line": {
          "color": "#0971f0",
          "dash": "solid",
          "width": 4
         },
         "mode": "lines+markers",
         "name": "Sevir.5G087400",
         "type": "scatter",
         "uid": "f673f950-3633-11ea-9c5e-79fdfc20b759",
         "x": [
          "Drought_Control_L",
          "Drought_Control_S",
          "Drought_50_L",
          "Drought_50_S",
          "Drought_50_R",
          "Drought_20_L",
          "Drought_20_S"
         ],
         "y": [
          0.2,
          0.1111111111111111,
          0,
          0,
          0,
          1.2,
          0
         ]
        },
        {
         "line": {
          "color": "#8fb413",
          "dash": "dot",
          "width": 4
         },
         "mode": "lines+markers",
         "name": "Sevir.7G005300",
         "type": "scatter",
         "uid": "f673fa22-3633-11ea-9c5e-79fdfc20b759",
         "x": [
          "Drought_Control_L",
          "Drought_Control_S",
          "Drought_50_L",
          "Drought_50_S",
          "Drought_50_R",
          "Drought_20_L",
          "Drought_20_S"
         ],
         "y": [
          0,
          0.5555555555555556,
          0,
          0,
          0,
          0,
          0
         ]
        },
        {
         "line": {
          "color": "#b2b4f0",
          "dash": "dash",
          "width": 4
         },
         "mode": "lines+markers",
         "name": "Sevir.2G026100",
         "type": "scatter",
         "uid": "f673faea-3633-11ea-9c5e-79fdfc20b759",
         "x": [
          "Drought_Control_L",
          "Drought_Control_S",
          "Drought_50_L",
          "Drought_50_S",
          "Drought_50_R",
          "Drought_20_L",
          "Drought_20_S"
         ],
         "y": [
          0,
          0.1111111111111111,
          0,
          0.866666,
          0,
          0,
          0.8
         ]
        },
        {
         "line": {
          "color": "#c3c89d",
          "dash": "solid",
          "width": 4
         },
         "mode": "lines+markers",
         "name": "Sevir.9G072900",
         "type": "scatter",
         "uid": "f673fbbc-3633-11ea-9c5e-79fdfc20b759",
         "x": [
          "Drought_Control_L",
          "Drought_Control_S",
          "Drought_50_L",
          "Drought_50_S",
          "Drought_50_R",
          "Drought_20_L",
          "Drought_20_S"
         ],
         "y": [
          0.4,
          0.1111111111111111,
          0,
          0,
          0,
          1.2,
          0
         ]
        }
       ],
       "layout": {
        "dragmode": "select",
        "plot_bgcolor": "white",
        "title": "Average Gene Expression - Drought",
        "xaxis": {
         "gridcolor": "whitesmoke",
         "showgrid": true,
         "title": "Experimental Conditions"
        },
        "yaxis": {
         "gridcolor": "whitesmoke",
         "showgrid": true,
         "title": "Expression"
        }
       }
      },
      "text/html": [
       "<div id=\"54329460-502b-4166-8ceb-5a3b4b6aed24\" style=\"height: 525px; width: 100%;\" class=\"plotly-graph-div\"></div><script type=\"text/javascript\">require([\"plotly\"], function(Plotly) { window.PLOTLYENV=window.PLOTLYENV || {};window.PLOTLYENV.BASE_URL=\"https://plot.ly\";Plotly.newPlot(\"54329460-502b-4166-8ceb-5a3b4b6aed24\", [{\"line\": {\"color\": \"#ce7d78\", \"dash\": \"dot\", \"width\": 4}, \"mode\": \"lines+markers\", \"name\": \"Sevir.9G282425\", \"x\": [\"Drought_Control_L\", \"Drought_Control_S\", \"Drought_50_L\", \"Drought_50_S\", \"Drought_50_R\", \"Drought_20_L\", \"Drought_20_S\"], \"y\": [0.0, 0.13874333333333333, 0.4, 0.0, 0.0, 0.0, 0.0], \"type\": \"scatter\", \"uid\": \"f6b96de6-3633-11ea-9c5e-79fdfc20b759\"}, {\"line\": {\"color\": \"#ea9e70\", \"dash\": \"dash\", \"width\": 4}, \"mode\": \"lines+markers\", \"name\": \"Sevir.7G018910\", \"x\": [\"Drought_Control_L\", \"Drought_Control_S\", \"Drought_50_L\", \"Drought_50_S\", \"Drought_50_R\", \"Drought_20_L\", \"Drought_20_S\"], \"y\": [0.0, 0.1111111111111111, 0.0, 0.6, 0.0, 0.0, 0.0], \"type\": \"scatter\", \"uid\": \"f6b9703e-3633-11ea-9c5e-79fdfc20b759\"}, {\"line\": {\"color\": \"#a48a9e\", \"dash\": \"solid\", \"width\": 4}, \"mode\": \"lines+markers\", \"name\": \"Sevir.5G044500\", \"x\": [\"Drought_Control_L\", \"Drought_Control_S\", \"Drought_50_L\", \"Drought_50_S\", \"Drought_50_R\", \"Drought_20_L\", \"Drought_20_S\"], \"y\": [0.0, 0.0, 0.0, 0.0, 0.0, 0.0, 0.0], \"type\": \"scatter\", \"uid\": \"f6b97174-3633-11ea-9c5e-79fdfc20b759\"}, {\"line\": {\"color\": \"#c6e1e8\", \"dash\": \"dot\", \"width\": 4}, \"mode\": \"lines+markers\", \"name\": \"Sevir.2G127900\", \"x\": [\"Drought_Control_L\", \"Drought_Control_S\", \"Drought_50_L\", \"Drought_50_S\", \"Drought_50_R\", \"Drought_20_L\", \"Drought_20_S\"], \"y\": [0.7, 0.0, 0.2, 0.0, 0.0, 0.0, 0.0], \"type\": \"scatter\", \"uid\": \"f6b97278-3633-11ea-9c5e-79fdfc20b759\"}, {\"line\": {\"color\": \"#648177\", \"dash\": \"dash\", \"width\": 4}, \"mode\": \"lines+markers\", \"name\": \"Sevir.5G129000\", \"x\": [\"Drought_Control_L\", \"Drought_Control_S\", \"Drought_50_L\", \"Drought_50_S\", \"Drought_50_R\", \"Drought_20_L\", \"Drought_20_S\"], \"y\": [4.6604149999999995, 2.4530933333333333, 4.983448, 3.328518, 0.0, 12.086766, 7.985983999999999], \"type\": \"scatter\", \"uid\": \"f6b97368-3633-11ea-9c5e-79fdfc20b759\"}, {\"line\": {\"color\": \"#0d5ac1\", \"dash\": \"solid\", \"width\": 4}, \"mode\": \"lines+markers\", \"name\": \"Sevir.2G354400\", \"x\": [\"Drought_Control_L\", \"Drought_Control_S\", \"Drought_50_L\", \"Drought_50_S\", \"Drought_50_R\", \"Drought_20_L\", \"Drought_20_S\"], \"y\": [0.0, 0.0, 0.0, 0.0, 0.0, 0.0, 0.0], \"type\": \"scatter\", \"uid\": \"f6b97458-3633-11ea-9c5e-79fdfc20b759\"}, {\"line\": {\"color\": \"#f205e6\", \"dash\": \"dot\", \"width\": 4}, \"mode\": \"lines+markers\", \"name\": \"Sevir.2G152600\", \"x\": [\"Drought_Control_L\", \"Drought_Control_S\", \"Drought_50_L\", \"Drought_50_S\", \"Drought_50_R\", \"Drought_20_L\", \"Drought_20_S\"], \"y\": [0.1, 0.2222222222222222, 0.2, 0.6, 0.0, 0.0, 0.2], \"type\": \"scatter\", \"uid\": \"f6b97548-3633-11ea-9c5e-79fdfc20b759\"}, {\"line\": {\"color\": \"#1c0365\", \"dash\": \"dash\", \"width\": 4}, \"mode\": \"lines+markers\", \"name\": \"Sevir.7G023700\", \"x\": [\"Drought_Control_L\", \"Drought_Control_S\", \"Drought_50_L\", \"Drought_50_S\", \"Drought_50_R\", \"Drought_20_L\", \"Drought_20_S\"], \"y\": [0.0, 0.5663990333333334, 0.4, 0.9444025999999999, 0.0, 0.0, 1.7821840000000002], \"type\": \"scatter\", \"uid\": \"f6b976e2-3633-11ea-9c5e-79fdfc20b759\"}, {\"line\": {\"color\": \"#14a9ad\", \"dash\": \"solid\", \"width\": 4}, \"mode\": \"lines+markers\", \"name\": \"Sevir.4G118900\", \"x\": [\"Drought_Control_L\", \"Drought_Control_S\", \"Drought_50_L\", \"Drought_50_S\", \"Drought_50_R\", \"Drought_20_L\", \"Drought_20_S\"], \"y\": [0.2, 0.0, 0.0, 0.0, 0.0, 0.0, 0.2], \"type\": \"scatter\", \"uid\": \"f6b977f0-3633-11ea-9c5e-79fdfc20b759\"}, {\"line\": {\"color\": \"#4ca2f9\", \"dash\": \"dot\", \"width\": 4}, \"mode\": \"lines+markers\", \"name\": \"Sevir.8G081600\", \"x\": [\"Drought_Control_L\", \"Drought_Control_S\", \"Drought_50_L\", \"Drought_50_S\", \"Drought_50_R\", \"Drought_20_L\", \"Drought_20_S\"], \"y\": [0.0, 0.0, 0.0, 0.0, 0.0, 0.0, 0.0], \"type\": \"scatter\", \"uid\": \"f6b978e0-3633-11ea-9c5e-79fdfc20b759\"}, {\"line\": {\"color\": \"#a4e43f\", \"dash\": \"dash\", \"width\": 4}, \"mode\": \"lines+markers\", \"name\": \"Sevir.5G364132\", \"x\": [\"Drought_Control_L\", \"Drought_Control_S\", \"Drought_50_L\", \"Drought_50_S\", \"Drought_50_R\", \"Drought_20_L\", \"Drought_20_S\"], \"y\": [0.0, 0.2222222222222222, 0.2, 0.2, 0.0, 0.0, 0.2], \"type\": \"scatter\", \"uid\": \"f6b979c6-3633-11ea-9c5e-79fdfc20b759\"}, {\"line\": {\"color\": \"#d298e2\", \"dash\": \"solid\", \"width\": 4}, \"mode\": \"lines+markers\", \"name\": \"Sevir.4G263301\", \"x\": [\"Drought_Control_L\", \"Drought_Control_S\", \"Drought_50_L\", \"Drought_50_S\", \"Drought_50_R\", \"Drought_20_L\", \"Drought_20_S\"], \"y\": [0.0, 0.2222222222222222, 0.0, 0.6, 0.0, 0.0, 0.0], \"type\": \"scatter\", \"uid\": \"f6b97aac-3633-11ea-9c5e-79fdfc20b759\"}, {\"line\": {\"color\": \"#6119d0\", \"dash\": \"dot\", \"width\": 4}, \"mode\": \"lines+markers\", \"name\": \"Sevir.9G099466\", \"x\": [\"Drought_Control_L\", \"Drought_Control_S\", \"Drought_50_L\", \"Drought_50_S\", \"Drought_50_R\", \"Drought_20_L\", \"Drought_20_S\"], \"y\": [0.1, 0.1111111111111111, 0.0, 0.2, 0.0, 0.2, 0.0], \"type\": \"scatter\", \"uid\": \"f6b97b92-3633-11ea-9c5e-79fdfc20b759\"}, {\"line\": {\"color\": \"#d2737d\", \"dash\": \"dash\", \"width\": 4}, \"mode\": \"lines+markers\", \"name\": \"Sevir.9G078500\", \"x\": [\"Drought_Control_L\", \"Drought_Control_S\", \"Drought_50_L\", \"Drought_50_S\", \"Drought_50_R\", \"Drought_20_L\", \"Drought_20_S\"], \"y\": [0.4, 0.0, 0.0, 0.0, 0.0, 0.0, 0.4], \"type\": \"scatter\", \"uid\": \"f6b97c78-3633-11ea-9c5e-79fdfc20b759\"}, {\"line\": {\"color\": \"#c0a43c\", \"dash\": \"solid\", \"width\": 4}, \"mode\": \"lines+markers\", \"name\": \"Sevir.2G263800\", \"x\": [\"Drought_Control_L\", \"Drought_Control_S\", \"Drought_50_L\", \"Drought_50_S\", \"Drought_50_R\", \"Drought_20_L\", \"Drought_20_S\"], \"y\": [0.0, 0.0, 0.0, 0.0, 0.0, 0.0, 0.0], \"type\": \"scatter\", \"uid\": \"f6b97d54-3633-11ea-9c5e-79fdfc20b759\"}, {\"line\": {\"color\": \"#f2510e\", \"dash\": \"dot\", \"width\": 4}, \"mode\": \"lines+markers\", \"name\": \"Sevir.8G218520\", \"x\": [\"Drought_Control_L\", \"Drought_Control_S\", \"Drought_50_L\", \"Drought_50_S\", \"Drought_50_R\", \"Drought_20_L\", \"Drought_20_S\"], \"y\": [0.1, 0.0, 0.0, 0.0, 0.0, 0.0, 0.0], \"type\": \"scatter\", \"uid\": \"f6b97e3a-3633-11ea-9c5e-79fdfc20b759\"}, {\"line\": {\"color\": \"#651be6\", \"dash\": \"dash\", \"width\": 4}, \"mode\": \"lines+markers\", \"name\": \"Sevir.3G390900\", \"x\": [\"Drought_Control_L\", \"Drought_Control_S\", \"Drought_50_L\", \"Drought_50_S\", \"Drought_50_R\", \"Drought_20_L\", \"Drought_20_S\"], \"y\": [0.0, 0.0, 0.0, 0.0, 0.0, 0.0, 0.0], \"type\": \"scatter\", \"uid\": \"f6b97f20-3633-11ea-9c5e-79fdfc20b759\"}, {\"line\": {\"color\": \"#79806e\", \"dash\": \"solid\", \"width\": 4}, \"mode\": \"lines+markers\", \"name\": \"Sevir.9G165400\", \"x\": [\"Drought_Control_L\", \"Drought_Control_S\", \"Drought_50_L\", \"Drought_50_S\", \"Drought_50_R\", \"Drought_20_L\", \"Drought_20_S\"], \"y\": [0.0, 0.0, 0.0, 0.0, 0.0, 0.0, 0.0], \"type\": \"scatter\", \"uid\": \"f6b98006-3633-11ea-9c5e-79fdfc20b759\"}, {\"line\": {\"color\": \"#61da5e\", \"dash\": \"dot\", \"width\": 4}, \"mode\": \"lines+markers\", \"name\": \"Sevir.8G245140\", \"x\": [\"Drought_Control_L\", \"Drought_Control_S\", \"Drought_50_L\", \"Drought_50_S\", \"Drought_50_R\", \"Drought_20_L\", \"Drought_20_S\"], \"y\": [0.0, 0.0, 0.0, 0.0, 0.0, 0.4, 0.0], \"type\": \"scatter\", \"uid\": \"f6b980e2-3633-11ea-9c5e-79fdfc20b759\"}, {\"line\": {\"color\": \"#cd2f00\", \"dash\": \"dash\", \"width\": 4}, \"mode\": \"lines+markers\", \"name\": \"Sevir.8G087000\", \"x\": [\"Drought_Control_L\", \"Drought_Control_S\", \"Drought_50_L\", \"Drought_50_S\", \"Drought_50_R\", \"Drought_20_L\", \"Drought_20_S\"], \"y\": [0.0, 0.0, 0.0, 0.0, 0.0, 0.0, 0.0], \"type\": \"scatter\", \"uid\": \"f6b981d2-3633-11ea-9c5e-79fdfc20b759\"}, {\"line\": {\"color\": \"#9348af\", \"dash\": \"solid\", \"width\": 4}, \"mode\": \"lines+markers\", \"name\": \"Sevir.9G576201\", \"x\": [\"Drought_Control_L\", \"Drought_Control_S\", \"Drought_50_L\", \"Drought_50_S\", \"Drought_50_R\", \"Drought_20_L\", \"Drought_20_S\"], \"y\": [0.0, 0.0, 0.0, 0.0, 0.0, 0.0, 0.0], \"type\": \"scatter\", \"uid\": \"f6b982ae-3633-11ea-9c5e-79fdfc20b759\"}, {\"line\": {\"color\": \"#01ac53\", \"dash\": \"dot\", \"width\": 4}, \"mode\": \"lines+markers\", \"name\": \"Sevir.5G470750\", \"x\": [\"Drought_Control_L\", \"Drought_Control_S\", \"Drought_50_L\", \"Drought_50_S\", \"Drought_50_R\", \"Drought_20_L\", \"Drought_20_S\"], \"y\": [0.1, 0.1111111111111111, 0.2, 0.8, 0.0, 0.0, 0.6], \"type\": \"scatter\", \"uid\": \"f6b98394-3633-11ea-9c5e-79fdfc20b759\"}, {\"line\": {\"color\": \"#c5a4fb\", \"dash\": \"dash\", \"width\": 4}, \"mode\": \"lines+markers\", \"name\": \"Sevir.1G060850\", \"x\": [\"Drought_Control_L\", \"Drought_Control_S\", \"Drought_50_L\", \"Drought_50_S\", \"Drought_50_R\", \"Drought_20_L\", \"Drought_20_S\"], \"y\": [0.0, 0.0, 0.0, 0.0, 0.0, 0.0, 0.0], \"type\": \"scatter\", \"uid\": \"f6b9847a-3633-11ea-9c5e-79fdfc20b759\"}, {\"line\": {\"color\": \"#996635\", \"dash\": \"solid\", \"width\": 4}, \"mode\": \"lines+markers\", \"name\": \"Sevir.2G280500\", \"x\": [\"Drought_Control_L\", \"Drought_Control_S\", \"Drought_50_L\", \"Drought_50_S\", \"Drought_50_R\", \"Drought_20_L\", \"Drought_20_S\"], \"y\": [0.1, 0.22222235280666666, 0.0, 0.4614416, 0.0, 0.0, 0.36634], \"type\": \"scatter\", \"uid\": \"f6b98556-3633-11ea-9c5e-79fdfc20b759\"}, {\"line\": {\"color\": \"#b11573\", \"dash\": \"dot\", \"width\": 4}, \"mode\": \"lines+markers\", \"name\": \"Sevir.9G268200\", \"x\": [\"Drought_Control_L\", \"Drought_Control_S\", \"Drought_50_L\", \"Drought_50_S\", \"Drought_50_R\", \"Drought_20_L\", \"Drought_20_S\"], \"y\": [0.0, 0.0, 0.0, 0.6, 0.0, 0.0, 1.0], \"type\": \"scatter\", \"uid\": \"f6b9863c-3633-11ea-9c5e-79fdfc20b759\"}, {\"line\": {\"color\": \"#4bb473\", \"dash\": \"dash\", \"width\": 4}, \"mode\": \"lines+markers\", \"name\": \"Sevir.4G143101\", \"x\": [\"Drought_Control_L\", \"Drought_Control_S\", \"Drought_50_L\", \"Drought_50_S\", \"Drought_50_R\", \"Drought_20_L\", \"Drought_20_S\"], \"y\": [0.0, 0.0, 0.0, 0.0, 0.0, 0.0, 0.0], \"type\": \"scatter\", \"uid\": \"f6b98722-3633-11ea-9c5e-79fdfc20b759\"}, {\"line\": {\"color\": \"#75d89e\", \"dash\": \"solid\", \"width\": 4}, \"mode\": \"lines+markers\", \"name\": \"Sevir.2G342800\", \"x\": [\"Drought_Control_L\", \"Drought_Control_S\", \"Drought_50_L\", \"Drought_50_S\", \"Drought_50_R\", \"Drought_20_L\", \"Drought_20_S\"], \"y\": [0.0, 0.1111111111111111, 0.0, 0.0, 0.0, 0.0, 0.0], \"type\": \"scatter\", \"uid\": \"f6b987fe-3633-11ea-9c5e-79fdfc20b759\"}, {\"line\": {\"color\": \"#2f3f94\", \"dash\": \"dot\", \"width\": 4}, \"mode\": \"lines+markers\", \"name\": \"Sevir.1G019900\", \"x\": [\"Drought_Control_L\", \"Drought_Control_S\", \"Drought_50_L\", \"Drought_50_S\", \"Drought_50_R\", \"Drought_20_L\", \"Drought_20_S\"], \"y\": [0.0, 0.0, 0.0, 0.0, 0.0, 0.0, 0.0], \"type\": \"scatter\", \"uid\": \"f6b988ee-3633-11ea-9c5e-79fdfc20b759\"}, {\"line\": {\"color\": \"#2f7b99\", \"dash\": \"dash\", \"width\": 4}, \"mode\": \"lines+markers\", \"name\": \"Sevir.3G353500\", \"x\": [\"Drought_Control_L\", \"Drought_Control_S\", \"Drought_50_L\", \"Drought_50_S\", \"Drought_50_R\", \"Drought_20_L\", \"Drought_20_S\"], \"y\": [0.0, 0.1111111111111111, 0.0, 0.0, 0.0, 0.0, 0.0], \"type\": \"scatter\", \"uid\": \"f6b989ca-3633-11ea-9c5e-79fdfc20b759\"}, {\"line\": {\"color\": \"#da967d\", \"dash\": \"solid\", \"width\": 4}, \"mode\": \"lines+markers\", \"name\": \"Sevir.7G189700\", \"x\": [\"Drought_Control_L\", \"Drought_Control_S\", \"Drought_50_L\", \"Drought_50_S\", \"Drought_50_R\", \"Drought_20_L\", \"Drought_20_S\"], \"y\": [0.0, 0.1111111111111111, 0.0, 0.6, 0.0, 0.4, 0.0], \"type\": \"scatter\", \"uid\": \"f6b98aba-3633-11ea-9c5e-79fdfc20b759\"}, {\"line\": {\"color\": \"#34891f\", \"dash\": \"dot\", \"width\": 4}, \"mode\": \"lines+markers\", \"name\": \"Sevir.4G118600\", \"x\": [\"Drought_Control_L\", \"Drought_Control_S\", \"Drought_50_L\", \"Drought_50_S\", \"Drought_50_R\", \"Drought_20_L\", \"Drought_20_S\"], \"y\": [0.1, 0.11309444444444444, 0.0, 0.0, 0.0, 0.0, 0.0], \"type\": \"scatter\", \"uid\": \"f6b98ba0-3633-11ea-9c5e-79fdfc20b759\"}, {\"line\": {\"color\": \"#b0d87b\", \"dash\": \"dash\", \"width\": 4}, \"mode\": \"lines+markers\", \"name\": \"Sevir.5G315900\", \"x\": [\"Drought_Control_L\", \"Drought_Control_S\", \"Drought_50_L\", \"Drought_50_S\", \"Drought_50_R\", \"Drought_20_L\", \"Drought_20_S\"], \"y\": [0.0, 0.4444444444444444, 0.0, 0.0, 0.0, 0.0, 0.0], \"type\": \"scatter\", \"uid\": \"f6b98c7c-3633-11ea-9c5e-79fdfc20b759\"}, {\"line\": {\"color\": \"#ca4751\", \"dash\": \"solid\", \"width\": 4}, \"mode\": \"lines+markers\", \"name\": \"Sevir.1G110232\", \"x\": [\"Drought_Control_L\", \"Drought_Control_S\", \"Drought_50_L\", \"Drought_50_S\", \"Drought_50_R\", \"Drought_20_L\", \"Drought_20_S\"], \"y\": [0.0, 0.0, 0.0, 0.6, 0.0, 0.0, 0.2], \"type\": \"scatter\", \"uid\": \"f6b98d62-3633-11ea-9c5e-79fdfc20b759\"}, {\"line\": {\"color\": \"#7e50a8\", \"dash\": \"dot\", \"width\": 4}, \"mode\": \"lines+markers\", \"name\": \"Sevir.5G206100\", \"x\": [\"Drought_Control_L\", \"Drought_Control_S\", \"Drought_50_L\", \"Drought_50_S\", \"Drought_50_R\", \"Drought_20_L\", \"Drought_20_S\"], \"y\": [0.2, 0.3333333333333333, 0.0, 0.0, 0.0, 0.0, 0.4], \"type\": \"scatter\", \"uid\": \"f6b98e3e-3633-11ea-9c5e-79fdfc20b759\"}, {\"line\": {\"color\": \"#c4d647\", \"dash\": \"dash\", \"width\": 4}, \"mode\": \"lines+markers\", \"name\": \"Sevir.3G353200\", \"x\": [\"Drought_Control_L\", \"Drought_Control_S\", \"Drought_50_L\", \"Drought_50_S\", \"Drought_50_R\", \"Drought_20_L\", \"Drought_20_S\"], \"y\": [0.0, 0.0, 0.0, 0.2, 0.0, 0.0, 0.8], \"type\": \"scatter\", \"uid\": \"f6b98f24-3633-11ea-9c5e-79fdfc20b759\"}, {\"line\": {\"color\": \"#e0eeb8\", \"dash\": \"solid\", \"width\": 4}, \"mode\": \"lines+markers\", \"name\": \"Sevir.4G093300\", \"x\": [\"Drought_Control_L\", \"Drought_Control_S\", \"Drought_50_L\", \"Drought_50_S\", \"Drought_50_R\", \"Drought_20_L\", \"Drought_20_S\"], \"y\": [0.4, 0.6666666666666666, 0.2, 0.2, 0.0, 1.2, 1.4], \"type\": \"scatter\", \"uid\": \"f6b9900a-3633-11ea-9c5e-79fdfc20b759\"}, {\"line\": {\"color\": \"#11dec1\", \"dash\": \"dot\", \"width\": 4}, \"mode\": \"lines+markers\", \"name\": \"Sevir.1G171100\", \"x\": [\"Drought_Control_L\", \"Drought_Control_S\", \"Drought_50_L\", \"Drought_50_S\", \"Drought_50_R\", \"Drought_20_L\", \"Drought_20_S\"], \"y\": [0.0, 0.2222222222222222, 0.0, 0.0, 0.0, 0.0, 0.2], \"type\": \"scatter\", \"uid\": \"f6b990e6-3633-11ea-9c5e-79fdfc20b759\"}, {\"line\": {\"color\": \"#289812\", \"dash\": \"dash\", \"width\": 4}, \"mode\": \"lines+markers\", \"name\": \"Sevir.2G305750\", \"x\": [\"Drought_Control_L\", \"Drought_Control_S\", \"Drought_50_L\", \"Drought_50_S\", \"Drought_50_R\", \"Drought_20_L\", \"Drought_20_S\"], \"y\": [0.5557130000000001, 0.5196755555555556, 1.713518, 0.255306, 0.0, 0.0, 0.0], \"type\": \"scatter\", \"uid\": \"f6b991c2-3633-11ea-9c5e-79fdfc20b759\"}, {\"line\": {\"color\": \"#566ca0\", \"dash\": \"solid\", \"width\": 4}, \"mode\": \"lines+markers\", \"name\": \"Sevir.9G169700\", \"x\": [\"Drought_Control_L\", \"Drought_Control_S\", \"Drought_50_L\", \"Drought_50_S\", \"Drought_50_R\", \"Drought_20_L\", \"Drought_20_S\"], \"y\": [0.0, 0.0, 0.0, 0.0, 0.0, 0.0, 0.0], \"type\": \"scatter\", \"uid\": \"f6b992b2-3633-11ea-9c5e-79fdfc20b759\"}, {\"line\": {\"color\": \"#ffdbe1\", \"dash\": \"dot\", \"width\": 4}, \"mode\": \"lines+markers\", \"name\": \"Sevir.1G020800\", \"x\": [\"Drought_Control_L\", \"Drought_Control_S\", \"Drought_50_L\", \"Drought_50_S\", \"Drought_50_R\", \"Drought_20_L\", \"Drought_20_S\"], \"y\": [0.0, 0.0, 0.0, 0.0, 0.0, 0.4, 0.0], \"type\": \"scatter\", \"uid\": \"f6b993ca-3633-11ea-9c5e-79fdfc20b759\"}, {\"line\": {\"color\": \"#2f1179\", \"dash\": \"dash\", \"width\": 4}, \"mode\": \"lines+markers\", \"name\": \"Sevir.5G194900\", \"x\": [\"Drought_Control_L\", \"Drought_Control_S\", \"Drought_50_L\", \"Drought_50_S\", \"Drought_50_R\", \"Drought_20_L\", \"Drought_20_S\"], \"y\": [0.0, 0.0, 0.0, 0.0, 0.0, 0.0, 0.0], \"type\": \"scatter\", \"uid\": \"f6b994ba-3633-11ea-9c5e-79fdfc20b759\"}, {\"line\": {\"color\": \"#935b6d\", \"dash\": \"solid\", \"width\": 4}, \"mode\": \"lines+markers\", \"name\": \"Sevir.6G028050\", \"x\": [\"Drought_Control_L\", \"Drought_Control_S\", \"Drought_50_L\", \"Drought_50_S\", \"Drought_50_R\", \"Drought_20_L\", \"Drought_20_S\"], \"y\": [0.0, 0.0, 0.0, 0.0, 0.0, 0.0, 0.0], \"type\": \"scatter\", \"uid\": \"f6b99596-3633-11ea-9c5e-79fdfc20b759\"}, {\"line\": {\"color\": \"#916988\", \"dash\": \"dot\", \"width\": 4}, \"mode\": \"lines+markers\", \"name\": \"Sevir.2G003200\", \"x\": [\"Drought_Control_L\", \"Drought_Control_S\", \"Drought_50_L\", \"Drought_50_S\", \"Drought_50_R\", \"Drought_20_L\", \"Drought_20_S\"], \"y\": [0.0, 0.1111111111111111, 0.0, 0.4, 0.0, 0.0, 0.0], \"type\": \"scatter\", \"uid\": \"f6b9967c-3633-11ea-9c5e-79fdfc20b759\"}, {\"line\": {\"color\": \"#513d98\", \"dash\": \"dash\", \"width\": 4}, \"mode\": \"lines+markers\", \"name\": \"Sevir.8G079100\", \"x\": [\"Drought_Control_L\", \"Drought_Control_S\", \"Drought_50_L\", \"Drought_50_S\", \"Drought_50_R\", \"Drought_20_L\", \"Drought_20_S\"], \"y\": [0.0, 0.0, 0.0, 0.0, 0.0, 0.0, 0.0], \"type\": \"scatter\", \"uid\": \"f6b99758-3633-11ea-9c5e-79fdfc20b759\"}, {\"line\": {\"color\": \"#aead3a\", \"dash\": \"solid\", \"width\": 4}, \"mode\": \"lines+markers\", \"name\": \"Sevir.4G293501\", \"x\": [\"Drought_Control_L\", \"Drought_Control_S\", \"Drought_50_L\", \"Drought_50_S\", \"Drought_50_R\", \"Drought_20_L\", \"Drought_20_S\"], \"y\": [0.0, 0.0, 0.0, 0.0, 0.0, 0.0, 0.0], \"type\": \"scatter\", \"uid\": \"f6b99834-3633-11ea-9c5e-79fdfc20b759\"}, {\"line\": {\"color\": \"#9e6d71\", \"dash\": \"dot\", \"width\": 4}, \"mode\": \"lines+markers\", \"name\": \"Sevir.7G022900\", \"x\": [\"Drought_Control_L\", \"Drought_Control_S\", \"Drought_50_L\", \"Drought_50_S\", \"Drought_50_R\", \"Drought_20_L\", \"Drought_20_S\"], \"y\": [0.0, 0.0, 0.0, 0.0, 0.0, 0.0, 0.0], \"type\": \"scatter\", \"uid\": \"f6b99910-3633-11ea-9c5e-79fdfc20b759\"}, {\"line\": {\"color\": \"#4b5bdc\", \"dash\": \"dash\", \"width\": 4}, \"mode\": \"lines+markers\", \"name\": \"Sevir.8G165900\", \"x\": [\"Drought_Control_L\", \"Drought_Control_S\", \"Drought_50_L\", \"Drought_50_S\", \"Drought_50_R\", \"Drought_20_L\", \"Drought_20_S\"], \"y\": [0.0, 0.0, 0.0, 0.0, 0.0, 0.0, 0.0], \"type\": \"scatter\", \"uid\": \"f6b999ec-3633-11ea-9c5e-79fdfc20b759\"}, {\"line\": {\"color\": \"#0cd36d\", \"dash\": \"solid\", \"width\": 4}, \"mode\": \"lines+markers\", \"name\": \"Sevir.9G092300\", \"x\": [\"Drought_Control_L\", \"Drought_Control_S\", \"Drought_50_L\", \"Drought_50_S\", \"Drought_50_R\", \"Drought_20_L\", \"Drought_20_S\"], \"y\": [0.0, 0.0, 0.0, 0.0, 0.0, 0.0, 0.0], \"type\": \"scatter\", \"uid\": \"f6b99ad2-3633-11ea-9c5e-79fdfc20b759\"}, {\"line\": {\"color\": \"#250662\", \"dash\": \"dot\", \"width\": 4}, \"mode\": \"lines+markers\", \"name\": \"Sevir.6G113200\", \"x\": [\"Drought_Control_L\", \"Drought_Control_S\", \"Drought_50_L\", \"Drought_50_S\", \"Drought_50_R\", \"Drought_20_L\", \"Drought_20_S\"], \"y\": [0.0, 0.0, 0.0, 0.0, 0.0, 0.0, 0.0], \"type\": \"scatter\", \"uid\": \"f6b99bb8-3633-11ea-9c5e-79fdfc20b759\"}, {\"line\": {\"color\": \"#cb5bea\", \"dash\": \"dash\", \"width\": 4}, \"mode\": \"lines+markers\", \"name\": \"Sevir.4G160200\", \"x\": [\"Drought_Control_L\", \"Drought_Control_S\", \"Drought_50_L\", \"Drought_50_S\", \"Drought_50_R\", \"Drought_20_L\", \"Drought_20_S\"], \"y\": [0.0, 0.0, 0.0, 0.0, 0.0, 0.0, 0.0], \"type\": \"scatter\", \"uid\": \"f6b99c94-3633-11ea-9c5e-79fdfc20b759\"}, {\"line\": {\"color\": \"#228916\", \"dash\": \"solid\", \"width\": 4}, \"mode\": \"lines+markers\", \"name\": \"Sevir.5G037400\", \"x\": [\"Drought_Control_L\", \"Drought_Control_S\", \"Drought_50_L\", \"Drought_50_S\", \"Drought_50_R\", \"Drought_20_L\", \"Drought_20_S\"], \"y\": [0.0, 0.0, 0.0, 0.0, 0.0, 0.0, 0.0], \"type\": \"scatter\", \"uid\": \"f6b99e10-3633-11ea-9c5e-79fdfc20b759\"}, {\"line\": {\"color\": \"#ac3e1b\", \"dash\": \"dot\", \"width\": 4}, \"mode\": \"lines+markers\", \"name\": \"Sevir.3G298200\", \"x\": [\"Drought_Control_L\", \"Drought_Control_S\", \"Drought_50_L\", \"Drought_50_S\", \"Drought_50_R\", \"Drought_20_L\", \"Drought_20_S\"], \"y\": [0.0, 0.0, 0.0, 0.0, 0.0, 0.0, 0.0], \"type\": \"scatter\", \"uid\": \"f6b99f00-3633-11ea-9c5e-79fdfc20b759\"}, {\"line\": {\"color\": \"#df514a\", \"dash\": \"dash\", \"width\": 4}, \"mode\": \"lines+markers\", \"name\": \"Sevir.2G437300\", \"x\": [\"Drought_Control_L\", \"Drought_Control_S\", \"Drought_50_L\", \"Drought_50_S\", \"Drought_50_R\", \"Drought_20_L\", \"Drought_20_S\"], \"y\": [0.0, 0.0, 0.0, 0.0, 0.0, 0.0, 0.0], \"type\": \"scatter\", \"uid\": \"f6b99fe6-3633-11ea-9c5e-79fdfc20b759\"}, {\"line\": {\"color\": \"#539397\", \"dash\": \"solid\", \"width\": 4}, \"mode\": \"lines+markers\", \"name\": \"Sevir.9G095700\", \"x\": [\"Drought_Control_L\", \"Drought_Control_S\", \"Drought_50_L\", \"Drought_50_S\", \"Drought_50_R\", \"Drought_20_L\", \"Drought_20_S\"], \"y\": [0.46411199999999997, 0.4550088888888888, 0.5813159999999999, 0.613828, 0.0, 0.28449599999999997, 0.406346], \"type\": \"scatter\", \"uid\": \"f6b9a0c2-3633-11ea-9c5e-79fdfc20b759\"}, {\"line\": {\"color\": \"#880977\", \"dash\": \"dot\", \"width\": 4}, \"mode\": \"lines+markers\", \"name\": \"Sevir.1G265000\", \"x\": [\"Drought_Control_L\", \"Drought_Control_S\", \"Drought_50_L\", \"Drought_50_S\", \"Drought_50_R\", \"Drought_20_L\", \"Drought_20_S\"], \"y\": [0.0, 0.0, 0.0, 0.0, 0.0, 0.0, 0.0], \"type\": \"scatter\", \"uid\": \"f6b9a19e-3633-11ea-9c5e-79fdfc20b759\"}, {\"line\": {\"color\": \"#f697c1\", \"dash\": \"dash\", \"width\": 4}, \"mode\": \"lines+markers\", \"name\": \"Sevir.5G418900\", \"x\": [\"Drought_Control_L\", \"Drought_Control_S\", \"Drought_50_L\", \"Drought_50_S\", \"Drought_50_R\", \"Drought_20_L\", \"Drought_20_S\"], \"y\": [0.0, 0.0, 0.0, 0.0, 0.0, 0.0, 0.0], \"type\": \"scatter\", \"uid\": \"f6b9a27a-3633-11ea-9c5e-79fdfc20b759\"}, {\"line\": {\"color\": \"#ba96ce\", \"dash\": \"solid\", \"width\": 4}, \"mode\": \"lines+markers\", \"name\": \"Sevir.8G237700\", \"x\": [\"Drought_Control_L\", \"Drought_Control_S\", \"Drought_50_L\", \"Drought_50_S\", \"Drought_50_R\", \"Drought_20_L\", \"Drought_20_S\"], \"y\": [0.0, 0.0, 0.0, 0.0, 0.0, 0.0, 0.0], \"type\": \"scatter\", \"uid\": \"f6b9a360-3633-11ea-9c5e-79fdfc20b759\"}, {\"line\": {\"color\": \"#679c9d\", \"dash\": \"dot\", \"width\": 4}, \"mode\": \"lines+markers\", \"name\": \"Sevir.2G177600\", \"x\": [\"Drought_Control_L\", \"Drought_Control_S\", \"Drought_50_L\", \"Drought_50_S\", \"Drought_50_R\", \"Drought_20_L\", \"Drought_20_S\"], \"y\": [0.1, 0.0, 0.0, 0.0, 0.0, 0.0, 0.0], \"type\": \"scatter\", \"uid\": \"f6b9a446-3633-11ea-9c5e-79fdfc20b759\"}, {\"line\": {\"color\": \"#c6c42c\", \"dash\": \"dash\", \"width\": 4}, \"mode\": \"lines+markers\", \"name\": \"Sevir.9G253801\", \"x\": [\"Drought_Control_L\", \"Drought_Control_S\", \"Drought_50_L\", \"Drought_50_S\", \"Drought_50_R\", \"Drought_20_L\", \"Drought_20_S\"], \"y\": [0.0, 0.0, 0.0, 0.0, 0.0, 0.0, 0.0], \"type\": \"scatter\", \"uid\": \"f6b9a522-3633-11ea-9c5e-79fdfc20b759\"}, {\"line\": {\"color\": \"#5d2c52\", \"dash\": \"solid\", \"width\": 4}, \"mode\": \"lines+markers\", \"name\": \"Sevir.6G183566\", \"x\": [\"Drought_Control_L\", \"Drought_Control_S\", \"Drought_50_L\", \"Drought_50_S\", \"Drought_50_R\", \"Drought_20_L\", \"Drought_20_S\"], \"y\": [0.0, 0.0, 0.0, 0.0, 0.0, 0.0, 0.0], \"type\": \"scatter\", \"uid\": \"f6b9a608-3633-11ea-9c5e-79fdfc20b759\"}, {\"line\": {\"color\": \"#48b41b\", \"dash\": \"dot\", \"width\": 4}, \"mode\": \"lines+markers\", \"name\": \"Sevir.8G259500\", \"x\": [\"Drought_Control_L\", \"Drought_Control_S\", \"Drought_50_L\", \"Drought_50_S\", \"Drought_50_R\", \"Drought_20_L\", \"Drought_20_S\"], \"y\": [0.500767, 1.2324877777777778, 0.2, 1.2047, 0.0, 0.76663, 0.204122], \"type\": \"scatter\", \"uid\": \"f6b9a6ee-3633-11ea-9c5e-79fdfc20b759\"}, {\"line\": {\"color\": \"#e1cf3b\", \"dash\": \"dash\", \"width\": 4}, \"mode\": \"lines+markers\", \"name\": \"Sevir.5G036550\", \"x\": [\"Drought_Control_L\", \"Drought_Control_S\", \"Drought_50_L\", \"Drought_50_S\", \"Drought_50_R\", \"Drought_20_L\", \"Drought_20_S\"], \"y\": [0.0, 0.1111111111111111, 0.0, 0.4, 0.0, 0.0, 0.0], \"type\": \"scatter\", \"uid\": \"f6b9a7ca-3633-11ea-9c5e-79fdfc20b759\"}, {\"line\": {\"color\": \"#5be4f0\", \"dash\": \"solid\", \"width\": 4}, \"mode\": \"lines+markers\", \"name\": \"Sevir.7G279700\", \"x\": [\"Drought_Control_L\", \"Drought_Control_S\", \"Drought_50_L\", \"Drought_50_S\", \"Drought_50_R\", \"Drought_20_L\", \"Drought_20_S\"], \"y\": [0.3, 0.3333333333333333, 0.0, 1.0, 0.0, 0.0, 0.0], \"type\": \"scatter\", \"uid\": \"f6b9a8a6-3633-11ea-9c5e-79fdfc20b759\"}, {\"line\": {\"color\": \"#57c4d8\", \"dash\": \"dot\", \"width\": 4}, \"mode\": \"lines+markers\", \"name\": \"Sevir.8G068450\", \"x\": [\"Drought_Control_L\", \"Drought_Control_S\", \"Drought_50_L\", \"Drought_50_S\", \"Drought_50_R\", \"Drought_20_L\", \"Drought_20_S\"], \"y\": [0.0, 0.0, 0.0, 0.125752, 0.0, 0.0, 0.0], \"type\": \"scatter\", \"uid\": \"f6b9a982-3633-11ea-9c5e-79fdfc20b759\"}, {\"line\": {\"color\": \"#a4d17a\", \"dash\": \"dash\", \"width\": 4}, \"mode\": \"lines+markers\", \"name\": \"Sevir.9G576750\", \"x\": [\"Drought_Control_L\", \"Drought_Control_S\", \"Drought_50_L\", \"Drought_50_S\", \"Drought_50_R\", \"Drought_20_L\", \"Drought_20_S\"], \"y\": [0.5, 0.3333333333333333, 0.8, 1.2, 0.0, 1.0, 1.4], \"type\": \"scatter\", \"uid\": \"f6b9aa5e-3633-11ea-9c5e-79fdfc20b759\"}, {\"line\": {\"color\": \"#225b8e\", \"dash\": \"solid\", \"width\": 4}, \"mode\": \"lines+markers\", \"name\": \"Sevir.9G248533\", \"x\": [\"Drought_Control_L\", \"Drought_Control_S\", \"Drought_50_L\", \"Drought_50_S\", \"Drought_50_R\", \"Drought_20_L\", \"Drought_20_S\"], \"y\": [0.1, 0.0, 0.4, 1.6, 0.0, 0.4, 0.2], \"type\": \"scatter\", \"uid\": \"f6b9ab3a-3633-11ea-9c5e-79fdfc20b759\"}, {\"line\": {\"color\": \"#be608b\", \"dash\": \"dot\", \"width\": 4}, \"mode\": \"lines+markers\", \"name\": \"Sevir.1G379100\", \"x\": [\"Drought_Control_L\", \"Drought_Control_S\", \"Drought_50_L\", \"Drought_50_S\", \"Drought_50_R\", \"Drought_20_L\", \"Drought_20_S\"], \"y\": [4.920848000000001, 4.855225555555555, 1.405614, 2.1131539999999998, 2.01594, 4.2488280000000005, 7.991448], \"type\": \"scatter\", \"uid\": \"f6b9ac16-3633-11ea-9c5e-79fdfc20b759\"}, {\"line\": {\"color\": \"#96b00c\", \"dash\": \"dash\", \"width\": 4}, \"mode\": \"lines+markers\", \"name\": \"Sevir.8G222414\", \"x\": [\"Drought_Control_L\", \"Drought_Control_S\", \"Drought_50_L\", \"Drought_50_S\", \"Drought_50_R\", \"Drought_20_L\", \"Drought_20_S\"], \"y\": [0.1, 1.1111111111111112, 1.4, 0.0, 0.0, 0.0, 1.0], \"type\": \"scatter\", \"uid\": \"f6b9ace8-3633-11ea-9c5e-79fdfc20b759\"}, {\"line\": {\"color\": \"#088baf\", \"dash\": \"solid\", \"width\": 4}, \"mode\": \"lines+markers\", \"name\": \"Sevir.6G039200\", \"x\": [\"Drought_Control_L\", \"Drought_Control_S\", \"Drought_50_L\", \"Drought_50_S\", \"Drought_50_R\", \"Drought_20_L\", \"Drought_20_S\"], \"y\": [1.278126, 0.47057888888888894, 1.7401119999999999, 2.811732, 0.0, 4.437488, 0.303562], \"type\": \"scatter\", \"uid\": \"f6b9adc4-3633-11ea-9c5e-79fdfc20b759\"}, {\"line\": {\"color\": \"#f158bf\", \"dash\": \"dot\", \"width\": 4}, \"mode\": \"lines+markers\", \"name\": \"Sevir.6G075100\", \"x\": [\"Drought_Control_L\", \"Drought_Control_S\", \"Drought_50_L\", \"Drought_50_S\", \"Drought_50_R\", \"Drought_20_L\", \"Drought_20_S\"], \"y\": [0.0, 0.0, 0.0, 0.0, 0.0, 0.0, 0.0], \"type\": \"scatter\", \"uid\": \"f6b9aea0-3633-11ea-9c5e-79fdfc20b759\"}, {\"line\": {\"color\": \"#e145ba\", \"dash\": \"dash\", \"width\": 4}, \"mode\": \"lines+markers\", \"name\": \"Sevir.3G331800\", \"x\": [\"Drought_Control_L\", \"Drought_Control_S\", \"Drought_50_L\", \"Drought_50_S\", \"Drought_50_R\", \"Drought_20_L\", \"Drought_20_S\"], \"y\": [0.0, 0.5555555555555556, 0.2, 0.2, 0.0, 0.0, 0.2], \"type\": \"scatter\", \"uid\": \"f6b9af72-3633-11ea-9c5e-79fdfc20b759\"}, {\"line\": {\"color\": \"#ee91e3\", \"dash\": \"solid\", \"width\": 4}, \"mode\": \"lines+markers\", \"name\": \"Sevir.4G164200\", \"x\": [\"Drought_Control_L\", \"Drought_Control_S\", \"Drought_50_L\", \"Drought_50_S\", \"Drought_50_R\", \"Drought_20_L\", \"Drought_20_S\"], \"y\": [0.0, 0.0, 0.0, 0.0, 0.0, 0.0, 0.0], \"type\": \"scatter\", \"uid\": \"f6b9b04e-3633-11ea-9c5e-79fdfc20b759\"}, {\"line\": {\"color\": \"#05d371\", \"dash\": \"dot\", \"width\": 4}, \"mode\": \"lines+markers\", \"name\": \"Sevir.9G347733\", \"x\": [\"Drought_Control_L\", \"Drought_Control_S\", \"Drought_50_L\", \"Drought_50_S\", \"Drought_50_R\", \"Drought_20_L\", \"Drought_20_S\"], \"y\": [0.2, 0.8888888888888888, 0.4, 0.0, 0.0, 0.4, 0.6], \"type\": \"scatter\", \"uid\": \"f6b9b120-3633-11ea-9c5e-79fdfc20b759\"}, {\"line\": {\"color\": \"#5426e0\", \"dash\": \"dash\", \"width\": 4}, \"mode\": \"lines+markers\", \"name\": \"Sevir.2G396750\", \"x\": [\"Drought_Control_L\", \"Drought_Control_S\", \"Drought_50_L\", \"Drought_50_S\", \"Drought_50_R\", \"Drought_20_L\", \"Drought_20_S\"], \"y\": [0.0, 0.0, 0.0, 0.0, 0.0, 0.2, 0.0], \"type\": \"scatter\", \"uid\": \"f6b9b288-3633-11ea-9c5e-79fdfc20b759\"}, {\"line\": {\"color\": \"#4834d0\", \"dash\": \"solid\", \"width\": 4}, \"mode\": \"lines+markers\", \"name\": \"Sevir.3G116100\", \"x\": [\"Drought_Control_L\", \"Drought_Control_S\", \"Drought_50_L\", \"Drought_50_S\", \"Drought_50_R\", \"Drought_20_L\", \"Drought_20_S\"], \"y\": [0.2, 0.0, 0.2, 0.0, 0.0, 0.0, 0.4], \"type\": \"scatter\", \"uid\": \"f6b9b364-3633-11ea-9c5e-79fdfc20b759\"}, {\"line\": {\"color\": \"#802234\", \"dash\": \"dot\", \"width\": 4}, \"mode\": \"lines+markers\", \"name\": \"Sevir.7G061100\", \"x\": [\"Drought_Control_L\", \"Drought_Control_S\", \"Drought_50_L\", \"Drought_50_S\", \"Drought_50_R\", \"Drought_20_L\", \"Drought_20_S\"], \"y\": [0.0, 0.0, 0.0, 0.0, 0.0, 0.0, 0.0], \"type\": \"scatter\", \"uid\": \"f6b9b436-3633-11ea-9c5e-79fdfc20b759\"}, {\"line\": {\"color\": \"#6749e8\", \"dash\": \"dash\", \"width\": 4}, \"mode\": \"lines+markers\", \"name\": \"Sevir.2G307100\", \"x\": [\"Drought_Control_L\", \"Drought_Control_S\", \"Drought_50_L\", \"Drought_50_S\", \"Drought_50_R\", \"Drought_20_L\", \"Drought_20_S\"], \"y\": [0.0, 0.2222222222222222, 0.0, 0.0, 0.0, 0.0, 0.0], \"type\": \"scatter\", \"uid\": \"f6b9b512-3633-11ea-9c5e-79fdfc20b759\"}, {\"line\": {\"color\": \"#0971f0\", \"dash\": \"solid\", \"width\": 4}, \"mode\": \"lines+markers\", \"name\": \"Sevir.5G087400\", \"x\": [\"Drought_Control_L\", \"Drought_Control_S\", \"Drought_50_L\", \"Drought_50_S\", \"Drought_50_R\", \"Drought_20_L\", \"Drought_20_S\"], \"y\": [0.2, 0.1111111111111111, 0.0, 0.0, 0.0, 1.2, 0.0], \"type\": \"scatter\", \"uid\": \"f6b9b5e4-3633-11ea-9c5e-79fdfc20b759\"}, {\"line\": {\"color\": \"#8fb413\", \"dash\": \"dot\", \"width\": 4}, \"mode\": \"lines+markers\", \"name\": \"Sevir.7G005300\", \"x\": [\"Drought_Control_L\", \"Drought_Control_S\", \"Drought_50_L\", \"Drought_50_S\", \"Drought_50_R\", \"Drought_20_L\", \"Drought_20_S\"], \"y\": [0.0, 0.5555555555555556, 0.0, 0.0, 0.0, 0.0, 0.0], \"type\": \"scatter\", \"uid\": \"f6b9b6b6-3633-11ea-9c5e-79fdfc20b759\"}, {\"line\": {\"color\": \"#b2b4f0\", \"dash\": \"dash\", \"width\": 4}, \"mode\": \"lines+markers\", \"name\": \"Sevir.2G026100\", \"x\": [\"Drought_Control_L\", \"Drought_Control_S\", \"Drought_50_L\", \"Drought_50_S\", \"Drought_50_R\", \"Drought_20_L\", \"Drought_20_S\"], \"y\": [0.0, 0.1111111111111111, 0.0, 0.866666, 0.0, 0.0, 0.8], \"type\": \"scatter\", \"uid\": \"f6b9b788-3633-11ea-9c5e-79fdfc20b759\"}, {\"line\": {\"color\": \"#c3c89d\", \"dash\": \"solid\", \"width\": 4}, \"mode\": \"lines+markers\", \"name\": \"Sevir.9G072900\", \"x\": [\"Drought_Control_L\", \"Drought_Control_S\", \"Drought_50_L\", \"Drought_50_S\", \"Drought_50_R\", \"Drought_20_L\", \"Drought_20_S\"], \"y\": [0.4, 0.1111111111111111, 0.0, 0.0, 0.0, 1.2, 0.0], \"type\": \"scatter\", \"uid\": \"f6b9b850-3633-11ea-9c5e-79fdfc20b759\"}], {\"dragmode\": \"select\", \"plot_bgcolor\": \"white\", \"title\": \"Average Gene Expression - Drought\", \"xaxis\": {\"gridcolor\": \"whitesmoke\", \"showgrid\": true, \"title\": \"Experimental Conditions\"}, \"yaxis\": {\"gridcolor\": \"whitesmoke\", \"showgrid\": true, \"title\": \"Expression\"}}, {\"showLink\": true, \"linkText\": \"Export to plot.ly\"})});</script>"
      ],
      "text/vnd.plotly.v1+html": [
       "<div id=\"54329460-502b-4166-8ceb-5a3b4b6aed24\" style=\"height: 525px; width: 100%;\" class=\"plotly-graph-div\"></div><script type=\"text/javascript\">require([\"plotly\"], function(Plotly) { window.PLOTLYENV=window.PLOTLYENV || {};window.PLOTLYENV.BASE_URL=\"https://plot.ly\";Plotly.newPlot(\"54329460-502b-4166-8ceb-5a3b4b6aed24\", [{\"line\": {\"color\": \"#ce7d78\", \"dash\": \"dot\", \"width\": 4}, \"mode\": \"lines+markers\", \"name\": \"Sevir.9G282425\", \"x\": [\"Drought_Control_L\", \"Drought_Control_S\", \"Drought_50_L\", \"Drought_50_S\", \"Drought_50_R\", \"Drought_20_L\", \"Drought_20_S\"], \"y\": [0.0, 0.13874333333333333, 0.4, 0.0, 0.0, 0.0, 0.0], \"type\": \"scatter\", \"uid\": \"f6b96de6-3633-11ea-9c5e-79fdfc20b759\"}, {\"line\": {\"color\": \"#ea9e70\", \"dash\": \"dash\", \"width\": 4}, \"mode\": \"lines+markers\", \"name\": \"Sevir.7G018910\", \"x\": [\"Drought_Control_L\", \"Drought_Control_S\", \"Drought_50_L\", \"Drought_50_S\", \"Drought_50_R\", \"Drought_20_L\", \"Drought_20_S\"], \"y\": [0.0, 0.1111111111111111, 0.0, 0.6, 0.0, 0.0, 0.0], \"type\": \"scatter\", \"uid\": \"f6b9703e-3633-11ea-9c5e-79fdfc20b759\"}, {\"line\": {\"color\": \"#a48a9e\", \"dash\": \"solid\", \"width\": 4}, \"mode\": \"lines+markers\", \"name\": \"Sevir.5G044500\", \"x\": [\"Drought_Control_L\", \"Drought_Control_S\", \"Drought_50_L\", \"Drought_50_S\", \"Drought_50_R\", \"Drought_20_L\", \"Drought_20_S\"], \"y\": [0.0, 0.0, 0.0, 0.0, 0.0, 0.0, 0.0], \"type\": \"scatter\", \"uid\": \"f6b97174-3633-11ea-9c5e-79fdfc20b759\"}, {\"line\": {\"color\": \"#c6e1e8\", \"dash\": \"dot\", \"width\": 4}, \"mode\": \"lines+markers\", \"name\": \"Sevir.2G127900\", \"x\": [\"Drought_Control_L\", \"Drought_Control_S\", \"Drought_50_L\", \"Drought_50_S\", \"Drought_50_R\", \"Drought_20_L\", \"Drought_20_S\"], \"y\": [0.7, 0.0, 0.2, 0.0, 0.0, 0.0, 0.0], \"type\": \"scatter\", \"uid\": \"f6b97278-3633-11ea-9c5e-79fdfc20b759\"}, {\"line\": {\"color\": \"#648177\", \"dash\": \"dash\", \"width\": 4}, \"mode\": \"lines+markers\", \"name\": \"Sevir.5G129000\", \"x\": [\"Drought_Control_L\", \"Drought_Control_S\", \"Drought_50_L\", \"Drought_50_S\", \"Drought_50_R\", \"Drought_20_L\", \"Drought_20_S\"], \"y\": [4.6604149999999995, 2.4530933333333333, 4.983448, 3.328518, 0.0, 12.086766, 7.985983999999999], \"type\": \"scatter\", \"uid\": \"f6b97368-3633-11ea-9c5e-79fdfc20b759\"}, {\"line\": {\"color\": \"#0d5ac1\", \"dash\": \"solid\", \"width\": 4}, \"mode\": \"lines+markers\", \"name\": \"Sevir.2G354400\", \"x\": [\"Drought_Control_L\", \"Drought_Control_S\", \"Drought_50_L\", \"Drought_50_S\", \"Drought_50_R\", \"Drought_20_L\", \"Drought_20_S\"], \"y\": [0.0, 0.0, 0.0, 0.0, 0.0, 0.0, 0.0], \"type\": \"scatter\", \"uid\": \"f6b97458-3633-11ea-9c5e-79fdfc20b759\"}, {\"line\": {\"color\": \"#f205e6\", \"dash\": \"dot\", \"width\": 4}, \"mode\": \"lines+markers\", \"name\": \"Sevir.2G152600\", \"x\": [\"Drought_Control_L\", \"Drought_Control_S\", \"Drought_50_L\", \"Drought_50_S\", \"Drought_50_R\", \"Drought_20_L\", \"Drought_20_S\"], \"y\": [0.1, 0.2222222222222222, 0.2, 0.6, 0.0, 0.0, 0.2], \"type\": \"scatter\", \"uid\": \"f6b97548-3633-11ea-9c5e-79fdfc20b759\"}, {\"line\": {\"color\": \"#1c0365\", \"dash\": \"dash\", \"width\": 4}, \"mode\": \"lines+markers\", \"name\": \"Sevir.7G023700\", \"x\": [\"Drought_Control_L\", \"Drought_Control_S\", \"Drought_50_L\", \"Drought_50_S\", \"Drought_50_R\", \"Drought_20_L\", \"Drought_20_S\"], \"y\": [0.0, 0.5663990333333334, 0.4, 0.9444025999999999, 0.0, 0.0, 1.7821840000000002], \"type\": \"scatter\", \"uid\": \"f6b976e2-3633-11ea-9c5e-79fdfc20b759\"}, {\"line\": {\"color\": \"#14a9ad\", \"dash\": \"solid\", \"width\": 4}, \"mode\": \"lines+markers\", \"name\": \"Sevir.4G118900\", \"x\": [\"Drought_Control_L\", \"Drought_Control_S\", \"Drought_50_L\", \"Drought_50_S\", \"Drought_50_R\", \"Drought_20_L\", \"Drought_20_S\"], \"y\": [0.2, 0.0, 0.0, 0.0, 0.0, 0.0, 0.2], \"type\": \"scatter\", \"uid\": \"f6b977f0-3633-11ea-9c5e-79fdfc20b759\"}, {\"line\": {\"color\": \"#4ca2f9\", \"dash\": \"dot\", \"width\": 4}, \"mode\": \"lines+markers\", \"name\": \"Sevir.8G081600\", \"x\": [\"Drought_Control_L\", \"Drought_Control_S\", \"Drought_50_L\", \"Drought_50_S\", \"Drought_50_R\", \"Drought_20_L\", \"Drought_20_S\"], \"y\": [0.0, 0.0, 0.0, 0.0, 0.0, 0.0, 0.0], \"type\": \"scatter\", \"uid\": \"f6b978e0-3633-11ea-9c5e-79fdfc20b759\"}, {\"line\": {\"color\": \"#a4e43f\", \"dash\": \"dash\", \"width\": 4}, \"mode\": \"lines+markers\", \"name\": \"Sevir.5G364132\", \"x\": [\"Drought_Control_L\", \"Drought_Control_S\", \"Drought_50_L\", \"Drought_50_S\", \"Drought_50_R\", \"Drought_20_L\", \"Drought_20_S\"], \"y\": [0.0, 0.2222222222222222, 0.2, 0.2, 0.0, 0.0, 0.2], \"type\": \"scatter\", \"uid\": \"f6b979c6-3633-11ea-9c5e-79fdfc20b759\"}, {\"line\": {\"color\": \"#d298e2\", \"dash\": \"solid\", \"width\": 4}, \"mode\": \"lines+markers\", \"name\": \"Sevir.4G263301\", \"x\": [\"Drought_Control_L\", \"Drought_Control_S\", \"Drought_50_L\", \"Drought_50_S\", \"Drought_50_R\", \"Drought_20_L\", \"Drought_20_S\"], \"y\": [0.0, 0.2222222222222222, 0.0, 0.6, 0.0, 0.0, 0.0], \"type\": \"scatter\", \"uid\": \"f6b97aac-3633-11ea-9c5e-79fdfc20b759\"}, {\"line\": {\"color\": \"#6119d0\", \"dash\": \"dot\", \"width\": 4}, \"mode\": \"lines+markers\", \"name\": \"Sevir.9G099466\", \"x\": [\"Drought_Control_L\", \"Drought_Control_S\", \"Drought_50_L\", \"Drought_50_S\", \"Drought_50_R\", \"Drought_20_L\", \"Drought_20_S\"], \"y\": [0.1, 0.1111111111111111, 0.0, 0.2, 0.0, 0.2, 0.0], \"type\": \"scatter\", \"uid\": \"f6b97b92-3633-11ea-9c5e-79fdfc20b759\"}, {\"line\": {\"color\": \"#d2737d\", \"dash\": \"dash\", \"width\": 4}, \"mode\": \"lines+markers\", \"name\": \"Sevir.9G078500\", \"x\": [\"Drought_Control_L\", \"Drought_Control_S\", \"Drought_50_L\", \"Drought_50_S\", \"Drought_50_R\", \"Drought_20_L\", \"Drought_20_S\"], \"y\": [0.4, 0.0, 0.0, 0.0, 0.0, 0.0, 0.4], \"type\": \"scatter\", \"uid\": \"f6b97c78-3633-11ea-9c5e-79fdfc20b759\"}, {\"line\": {\"color\": \"#c0a43c\", \"dash\": \"solid\", \"width\": 4}, \"mode\": \"lines+markers\", \"name\": \"Sevir.2G263800\", \"x\": [\"Drought_Control_L\", \"Drought_Control_S\", \"Drought_50_L\", \"Drought_50_S\", \"Drought_50_R\", \"Drought_20_L\", \"Drought_20_S\"], \"y\": [0.0, 0.0, 0.0, 0.0, 0.0, 0.0, 0.0], \"type\": \"scatter\", \"uid\": \"f6b97d54-3633-11ea-9c5e-79fdfc20b759\"}, {\"line\": {\"color\": \"#f2510e\", \"dash\": \"dot\", \"width\": 4}, \"mode\": \"lines+markers\", \"name\": \"Sevir.8G218520\", \"x\": [\"Drought_Control_L\", \"Drought_Control_S\", \"Drought_50_L\", \"Drought_50_S\", \"Drought_50_R\", \"Drought_20_L\", \"Drought_20_S\"], \"y\": [0.1, 0.0, 0.0, 0.0, 0.0, 0.0, 0.0], \"type\": \"scatter\", \"uid\": \"f6b97e3a-3633-11ea-9c5e-79fdfc20b759\"}, {\"line\": {\"color\": \"#651be6\", \"dash\": \"dash\", \"width\": 4}, \"mode\": \"lines+markers\", \"name\": \"Sevir.3G390900\", \"x\": [\"Drought_Control_L\", \"Drought_Control_S\", \"Drought_50_L\", \"Drought_50_S\", \"Drought_50_R\", \"Drought_20_L\", \"Drought_20_S\"], \"y\": [0.0, 0.0, 0.0, 0.0, 0.0, 0.0, 0.0], \"type\": \"scatter\", \"uid\": \"f6b97f20-3633-11ea-9c5e-79fdfc20b759\"}, {\"line\": {\"color\": \"#79806e\", \"dash\": \"solid\", \"width\": 4}, \"mode\": \"lines+markers\", \"name\": \"Sevir.9G165400\", \"x\": [\"Drought_Control_L\", \"Drought_Control_S\", \"Drought_50_L\", \"Drought_50_S\", \"Drought_50_R\", \"Drought_20_L\", \"Drought_20_S\"], \"y\": [0.0, 0.0, 0.0, 0.0, 0.0, 0.0, 0.0], \"type\": \"scatter\", \"uid\": \"f6b98006-3633-11ea-9c5e-79fdfc20b759\"}, {\"line\": {\"color\": \"#61da5e\", \"dash\": \"dot\", \"width\": 4}, \"mode\": \"lines+markers\", \"name\": \"Sevir.8G245140\", \"x\": [\"Drought_Control_L\", \"Drought_Control_S\", \"Drought_50_L\", \"Drought_50_S\", \"Drought_50_R\", \"Drought_20_L\", \"Drought_20_S\"], \"y\": [0.0, 0.0, 0.0, 0.0, 0.0, 0.4, 0.0], \"type\": \"scatter\", \"uid\": \"f6b980e2-3633-11ea-9c5e-79fdfc20b759\"}, {\"line\": {\"color\": \"#cd2f00\", \"dash\": \"dash\", \"width\": 4}, \"mode\": \"lines+markers\", \"name\": \"Sevir.8G087000\", \"x\": [\"Drought_Control_L\", \"Drought_Control_S\", \"Drought_50_L\", \"Drought_50_S\", \"Drought_50_R\", \"Drought_20_L\", \"Drought_20_S\"], \"y\": [0.0, 0.0, 0.0, 0.0, 0.0, 0.0, 0.0], \"type\": \"scatter\", \"uid\": \"f6b981d2-3633-11ea-9c5e-79fdfc20b759\"}, {\"line\": {\"color\": \"#9348af\", \"dash\": \"solid\", \"width\": 4}, \"mode\": \"lines+markers\", \"name\": \"Sevir.9G576201\", \"x\": [\"Drought_Control_L\", \"Drought_Control_S\", \"Drought_50_L\", \"Drought_50_S\", \"Drought_50_R\", \"Drought_20_L\", \"Drought_20_S\"], \"y\": [0.0, 0.0, 0.0, 0.0, 0.0, 0.0, 0.0], \"type\": \"scatter\", \"uid\": \"f6b982ae-3633-11ea-9c5e-79fdfc20b759\"}, {\"line\": {\"color\": \"#01ac53\", \"dash\": \"dot\", \"width\": 4}, \"mode\": \"lines+markers\", \"name\": \"Sevir.5G470750\", \"x\": [\"Drought_Control_L\", \"Drought_Control_S\", \"Drought_50_L\", \"Drought_50_S\", \"Drought_50_R\", \"Drought_20_L\", \"Drought_20_S\"], \"y\": [0.1, 0.1111111111111111, 0.2, 0.8, 0.0, 0.0, 0.6], \"type\": \"scatter\", \"uid\": \"f6b98394-3633-11ea-9c5e-79fdfc20b759\"}, {\"line\": {\"color\": \"#c5a4fb\", \"dash\": \"dash\", \"width\": 4}, \"mode\": \"lines+markers\", \"name\": \"Sevir.1G060850\", \"x\": [\"Drought_Control_L\", \"Drought_Control_S\", \"Drought_50_L\", \"Drought_50_S\", \"Drought_50_R\", \"Drought_20_L\", \"Drought_20_S\"], \"y\": [0.0, 0.0, 0.0, 0.0, 0.0, 0.0, 0.0], \"type\": \"scatter\", \"uid\": \"f6b9847a-3633-11ea-9c5e-79fdfc20b759\"}, {\"line\": {\"color\": \"#996635\", \"dash\": \"solid\", \"width\": 4}, \"mode\": \"lines+markers\", \"name\": \"Sevir.2G280500\", \"x\": [\"Drought_Control_L\", \"Drought_Control_S\", \"Drought_50_L\", \"Drought_50_S\", \"Drought_50_R\", \"Drought_20_L\", \"Drought_20_S\"], \"y\": [0.1, 0.22222235280666666, 0.0, 0.4614416, 0.0, 0.0, 0.36634], \"type\": \"scatter\", \"uid\": \"f6b98556-3633-11ea-9c5e-79fdfc20b759\"}, {\"line\": {\"color\": \"#b11573\", \"dash\": \"dot\", \"width\": 4}, \"mode\": \"lines+markers\", \"name\": \"Sevir.9G268200\", \"x\": [\"Drought_Control_L\", \"Drought_Control_S\", \"Drought_50_L\", \"Drought_50_S\", \"Drought_50_R\", \"Drought_20_L\", \"Drought_20_S\"], \"y\": [0.0, 0.0, 0.0, 0.6, 0.0, 0.0, 1.0], \"type\": \"scatter\", \"uid\": \"f6b9863c-3633-11ea-9c5e-79fdfc20b759\"}, {\"line\": {\"color\": \"#4bb473\", \"dash\": \"dash\", \"width\": 4}, \"mode\": \"lines+markers\", \"name\": \"Sevir.4G143101\", \"x\": [\"Drought_Control_L\", \"Drought_Control_S\", \"Drought_50_L\", \"Drought_50_S\", \"Drought_50_R\", \"Drought_20_L\", \"Drought_20_S\"], \"y\": [0.0, 0.0, 0.0, 0.0, 0.0, 0.0, 0.0], \"type\": \"scatter\", \"uid\": \"f6b98722-3633-11ea-9c5e-79fdfc20b759\"}, {\"line\": {\"color\": \"#75d89e\", \"dash\": \"solid\", \"width\": 4}, \"mode\": \"lines+markers\", \"name\": \"Sevir.2G342800\", \"x\": [\"Drought_Control_L\", \"Drought_Control_S\", \"Drought_50_L\", \"Drought_50_S\", \"Drought_50_R\", \"Drought_20_L\", \"Drought_20_S\"], \"y\": [0.0, 0.1111111111111111, 0.0, 0.0, 0.0, 0.0, 0.0], \"type\": \"scatter\", \"uid\": \"f6b987fe-3633-11ea-9c5e-79fdfc20b759\"}, {\"line\": {\"color\": \"#2f3f94\", \"dash\": \"dot\", \"width\": 4}, \"mode\": \"lines+markers\", \"name\": \"Sevir.1G019900\", \"x\": [\"Drought_Control_L\", \"Drought_Control_S\", \"Drought_50_L\", \"Drought_50_S\", \"Drought_50_R\", \"Drought_20_L\", \"Drought_20_S\"], \"y\": [0.0, 0.0, 0.0, 0.0, 0.0, 0.0, 0.0], \"type\": \"scatter\", \"uid\": \"f6b988ee-3633-11ea-9c5e-79fdfc20b759\"}, {\"line\": {\"color\": \"#2f7b99\", \"dash\": \"dash\", \"width\": 4}, \"mode\": \"lines+markers\", \"name\": \"Sevir.3G353500\", \"x\": [\"Drought_Control_L\", \"Drought_Control_S\", \"Drought_50_L\", \"Drought_50_S\", \"Drought_50_R\", \"Drought_20_L\", \"Drought_20_S\"], \"y\": [0.0, 0.1111111111111111, 0.0, 0.0, 0.0, 0.0, 0.0], \"type\": \"scatter\", \"uid\": \"f6b989ca-3633-11ea-9c5e-79fdfc20b759\"}, {\"line\": {\"color\": \"#da967d\", \"dash\": \"solid\", \"width\": 4}, \"mode\": \"lines+markers\", \"name\": \"Sevir.7G189700\", \"x\": [\"Drought_Control_L\", \"Drought_Control_S\", \"Drought_50_L\", \"Drought_50_S\", \"Drought_50_R\", \"Drought_20_L\", \"Drought_20_S\"], \"y\": [0.0, 0.1111111111111111, 0.0, 0.6, 0.0, 0.4, 0.0], \"type\": \"scatter\", \"uid\": \"f6b98aba-3633-11ea-9c5e-79fdfc20b759\"}, {\"line\": {\"color\": \"#34891f\", \"dash\": \"dot\", \"width\": 4}, \"mode\": \"lines+markers\", \"name\": \"Sevir.4G118600\", \"x\": [\"Drought_Control_L\", \"Drought_Control_S\", \"Drought_50_L\", \"Drought_50_S\", \"Drought_50_R\", \"Drought_20_L\", \"Drought_20_S\"], \"y\": [0.1, 0.11309444444444444, 0.0, 0.0, 0.0, 0.0, 0.0], \"type\": \"scatter\", \"uid\": \"f6b98ba0-3633-11ea-9c5e-79fdfc20b759\"}, {\"line\": {\"color\": \"#b0d87b\", \"dash\": \"dash\", \"width\": 4}, \"mode\": \"lines+markers\", \"name\": \"Sevir.5G315900\", \"x\": [\"Drought_Control_L\", \"Drought_Control_S\", \"Drought_50_L\", \"Drought_50_S\", \"Drought_50_R\", \"Drought_20_L\", \"Drought_20_S\"], \"y\": [0.0, 0.4444444444444444, 0.0, 0.0, 0.0, 0.0, 0.0], \"type\": \"scatter\", \"uid\": \"f6b98c7c-3633-11ea-9c5e-79fdfc20b759\"}, {\"line\": {\"color\": \"#ca4751\", \"dash\": \"solid\", \"width\": 4}, \"mode\": \"lines+markers\", \"name\": \"Sevir.1G110232\", \"x\": [\"Drought_Control_L\", \"Drought_Control_S\", \"Drought_50_L\", \"Drought_50_S\", \"Drought_50_R\", \"Drought_20_L\", \"Drought_20_S\"], \"y\": [0.0, 0.0, 0.0, 0.6, 0.0, 0.0, 0.2], \"type\": \"scatter\", \"uid\": \"f6b98d62-3633-11ea-9c5e-79fdfc20b759\"}, {\"line\": {\"color\": \"#7e50a8\", \"dash\": \"dot\", \"width\": 4}, \"mode\": \"lines+markers\", \"name\": \"Sevir.5G206100\", \"x\": [\"Drought_Control_L\", \"Drought_Control_S\", \"Drought_50_L\", \"Drought_50_S\", \"Drought_50_R\", \"Drought_20_L\", \"Drought_20_S\"], \"y\": [0.2, 0.3333333333333333, 0.0, 0.0, 0.0, 0.0, 0.4], \"type\": \"scatter\", \"uid\": \"f6b98e3e-3633-11ea-9c5e-79fdfc20b759\"}, {\"line\": {\"color\": \"#c4d647\", \"dash\": \"dash\", \"width\": 4}, \"mode\": \"lines+markers\", \"name\": \"Sevir.3G353200\", \"x\": [\"Drought_Control_L\", \"Drought_Control_S\", \"Drought_50_L\", \"Drought_50_S\", \"Drought_50_R\", \"Drought_20_L\", \"Drought_20_S\"], \"y\": [0.0, 0.0, 0.0, 0.2, 0.0, 0.0, 0.8], \"type\": \"scatter\", \"uid\": \"f6b98f24-3633-11ea-9c5e-79fdfc20b759\"}, {\"line\": {\"color\": \"#e0eeb8\", \"dash\": \"solid\", \"width\": 4}, \"mode\": \"lines+markers\", \"name\": \"Sevir.4G093300\", \"x\": [\"Drought_Control_L\", \"Drought_Control_S\", \"Drought_50_L\", \"Drought_50_S\", \"Drought_50_R\", \"Drought_20_L\", \"Drought_20_S\"], \"y\": [0.4, 0.6666666666666666, 0.2, 0.2, 0.0, 1.2, 1.4], \"type\": \"scatter\", \"uid\": \"f6b9900a-3633-11ea-9c5e-79fdfc20b759\"}, {\"line\": {\"color\": \"#11dec1\", \"dash\": \"dot\", \"width\": 4}, \"mode\": \"lines+markers\", \"name\": \"Sevir.1G171100\", \"x\": [\"Drought_Control_L\", \"Drought_Control_S\", \"Drought_50_L\", \"Drought_50_S\", \"Drought_50_R\", \"Drought_20_L\", \"Drought_20_S\"], \"y\": [0.0, 0.2222222222222222, 0.0, 0.0, 0.0, 0.0, 0.2], \"type\": \"scatter\", \"uid\": \"f6b990e6-3633-11ea-9c5e-79fdfc20b759\"}, {\"line\": {\"color\": \"#289812\", \"dash\": \"dash\", \"width\": 4}, \"mode\": \"lines+markers\", \"name\": \"Sevir.2G305750\", \"x\": [\"Drought_Control_L\", \"Drought_Control_S\", \"Drought_50_L\", \"Drought_50_S\", \"Drought_50_R\", \"Drought_20_L\", \"Drought_20_S\"], \"y\": [0.5557130000000001, 0.5196755555555556, 1.713518, 0.255306, 0.0, 0.0, 0.0], \"type\": \"scatter\", \"uid\": \"f6b991c2-3633-11ea-9c5e-79fdfc20b759\"}, {\"line\": {\"color\": \"#566ca0\", \"dash\": \"solid\", \"width\": 4}, \"mode\": \"lines+markers\", \"name\": \"Sevir.9G169700\", \"x\": [\"Drought_Control_L\", \"Drought_Control_S\", \"Drought_50_L\", \"Drought_50_S\", \"Drought_50_R\", \"Drought_20_L\", \"Drought_20_S\"], \"y\": [0.0, 0.0, 0.0, 0.0, 0.0, 0.0, 0.0], \"type\": \"scatter\", \"uid\": \"f6b992b2-3633-11ea-9c5e-79fdfc20b759\"}, {\"line\": {\"color\": \"#ffdbe1\", \"dash\": \"dot\", \"width\": 4}, \"mode\": \"lines+markers\", \"name\": \"Sevir.1G020800\", \"x\": [\"Drought_Control_L\", \"Drought_Control_S\", \"Drought_50_L\", \"Drought_50_S\", \"Drought_50_R\", \"Drought_20_L\", \"Drought_20_S\"], \"y\": [0.0, 0.0, 0.0, 0.0, 0.0, 0.4, 0.0], \"type\": \"scatter\", \"uid\": \"f6b993ca-3633-11ea-9c5e-79fdfc20b759\"}, {\"line\": {\"color\": \"#2f1179\", \"dash\": \"dash\", \"width\": 4}, \"mode\": \"lines+markers\", \"name\": \"Sevir.5G194900\", \"x\": [\"Drought_Control_L\", \"Drought_Control_S\", \"Drought_50_L\", \"Drought_50_S\", \"Drought_50_R\", \"Drought_20_L\", \"Drought_20_S\"], \"y\": [0.0, 0.0, 0.0, 0.0, 0.0, 0.0, 0.0], \"type\": \"scatter\", \"uid\": \"f6b994ba-3633-11ea-9c5e-79fdfc20b759\"}, {\"line\": {\"color\": \"#935b6d\", \"dash\": \"solid\", \"width\": 4}, \"mode\": \"lines+markers\", \"name\": \"Sevir.6G028050\", \"x\": [\"Drought_Control_L\", \"Drought_Control_S\", \"Drought_50_L\", \"Drought_50_S\", \"Drought_50_R\", \"Drought_20_L\", \"Drought_20_S\"], \"y\": [0.0, 0.0, 0.0, 0.0, 0.0, 0.0, 0.0], \"type\": \"scatter\", \"uid\": \"f6b99596-3633-11ea-9c5e-79fdfc20b759\"}, {\"line\": {\"color\": \"#916988\", \"dash\": \"dot\", \"width\": 4}, \"mode\": \"lines+markers\", \"name\": \"Sevir.2G003200\", \"x\": [\"Drought_Control_L\", \"Drought_Control_S\", \"Drought_50_L\", \"Drought_50_S\", \"Drought_50_R\", \"Drought_20_L\", \"Drought_20_S\"], \"y\": [0.0, 0.1111111111111111, 0.0, 0.4, 0.0, 0.0, 0.0], \"type\": \"scatter\", \"uid\": \"f6b9967c-3633-11ea-9c5e-79fdfc20b759\"}, {\"line\": {\"color\": \"#513d98\", \"dash\": \"dash\", \"width\": 4}, \"mode\": \"lines+markers\", \"name\": \"Sevir.8G079100\", \"x\": [\"Drought_Control_L\", \"Drought_Control_S\", \"Drought_50_L\", \"Drought_50_S\", \"Drought_50_R\", \"Drought_20_L\", \"Drought_20_S\"], \"y\": [0.0, 0.0, 0.0, 0.0, 0.0, 0.0, 0.0], \"type\": \"scatter\", \"uid\": \"f6b99758-3633-11ea-9c5e-79fdfc20b759\"}, {\"line\": {\"color\": \"#aead3a\", \"dash\": \"solid\", \"width\": 4}, \"mode\": \"lines+markers\", \"name\": \"Sevir.4G293501\", \"x\": [\"Drought_Control_L\", \"Drought_Control_S\", \"Drought_50_L\", \"Drought_50_S\", \"Drought_50_R\", \"Drought_20_L\", \"Drought_20_S\"], \"y\": [0.0, 0.0, 0.0, 0.0, 0.0, 0.0, 0.0], \"type\": \"scatter\", \"uid\": \"f6b99834-3633-11ea-9c5e-79fdfc20b759\"}, {\"line\": {\"color\": \"#9e6d71\", \"dash\": \"dot\", \"width\": 4}, \"mode\": \"lines+markers\", \"name\": \"Sevir.7G022900\", \"x\": [\"Drought_Control_L\", \"Drought_Control_S\", \"Drought_50_L\", \"Drought_50_S\", \"Drought_50_R\", \"Drought_20_L\", \"Drought_20_S\"], \"y\": [0.0, 0.0, 0.0, 0.0, 0.0, 0.0, 0.0], \"type\": \"scatter\", \"uid\": \"f6b99910-3633-11ea-9c5e-79fdfc20b759\"}, {\"line\": {\"color\": \"#4b5bdc\", \"dash\": \"dash\", \"width\": 4}, \"mode\": \"lines+markers\", \"name\": \"Sevir.8G165900\", \"x\": [\"Drought_Control_L\", \"Drought_Control_S\", \"Drought_50_L\", \"Drought_50_S\", \"Drought_50_R\", \"Drought_20_L\", \"Drought_20_S\"], \"y\": [0.0, 0.0, 0.0, 0.0, 0.0, 0.0, 0.0], \"type\": \"scatter\", \"uid\": \"f6b999ec-3633-11ea-9c5e-79fdfc20b759\"}, {\"line\": {\"color\": \"#0cd36d\", \"dash\": \"solid\", \"width\": 4}, \"mode\": \"lines+markers\", \"name\": \"Sevir.9G092300\", \"x\": [\"Drought_Control_L\", \"Drought_Control_S\", \"Drought_50_L\", \"Drought_50_S\", \"Drought_50_R\", \"Drought_20_L\", \"Drought_20_S\"], \"y\": [0.0, 0.0, 0.0, 0.0, 0.0, 0.0, 0.0], \"type\": \"scatter\", \"uid\": \"f6b99ad2-3633-11ea-9c5e-79fdfc20b759\"}, {\"line\": {\"color\": \"#250662\", \"dash\": \"dot\", \"width\": 4}, \"mode\": \"lines+markers\", \"name\": \"Sevir.6G113200\", \"x\": [\"Drought_Control_L\", \"Drought_Control_S\", \"Drought_50_L\", \"Drought_50_S\", \"Drought_50_R\", \"Drought_20_L\", \"Drought_20_S\"], \"y\": [0.0, 0.0, 0.0, 0.0, 0.0, 0.0, 0.0], \"type\": \"scatter\", \"uid\": \"f6b99bb8-3633-11ea-9c5e-79fdfc20b759\"}, {\"line\": {\"color\": \"#cb5bea\", \"dash\": \"dash\", \"width\": 4}, \"mode\": \"lines+markers\", \"name\": \"Sevir.4G160200\", \"x\": [\"Drought_Control_L\", \"Drought_Control_S\", \"Drought_50_L\", \"Drought_50_S\", \"Drought_50_R\", \"Drought_20_L\", \"Drought_20_S\"], \"y\": [0.0, 0.0, 0.0, 0.0, 0.0, 0.0, 0.0], \"type\": \"scatter\", \"uid\": \"f6b99c94-3633-11ea-9c5e-79fdfc20b759\"}, {\"line\": {\"color\": \"#228916\", \"dash\": \"solid\", \"width\": 4}, \"mode\": \"lines+markers\", \"name\": \"Sevir.5G037400\", \"x\": [\"Drought_Control_L\", \"Drought_Control_S\", \"Drought_50_L\", \"Drought_50_S\", \"Drought_50_R\", \"Drought_20_L\", \"Drought_20_S\"], \"y\": [0.0, 0.0, 0.0, 0.0, 0.0, 0.0, 0.0], \"type\": \"scatter\", \"uid\": \"f6b99e10-3633-11ea-9c5e-79fdfc20b759\"}, {\"line\": {\"color\": \"#ac3e1b\", \"dash\": \"dot\", \"width\": 4}, \"mode\": \"lines+markers\", \"name\": \"Sevir.3G298200\", \"x\": [\"Drought_Control_L\", \"Drought_Control_S\", \"Drought_50_L\", \"Drought_50_S\", \"Drought_50_R\", \"Drought_20_L\", \"Drought_20_S\"], \"y\": [0.0, 0.0, 0.0, 0.0, 0.0, 0.0, 0.0], \"type\": \"scatter\", \"uid\": \"f6b99f00-3633-11ea-9c5e-79fdfc20b759\"}, {\"line\": {\"color\": \"#df514a\", \"dash\": \"dash\", \"width\": 4}, \"mode\": \"lines+markers\", \"name\": \"Sevir.2G437300\", \"x\": [\"Drought_Control_L\", \"Drought_Control_S\", \"Drought_50_L\", \"Drought_50_S\", \"Drought_50_R\", \"Drought_20_L\", \"Drought_20_S\"], \"y\": [0.0, 0.0, 0.0, 0.0, 0.0, 0.0, 0.0], \"type\": \"scatter\", \"uid\": \"f6b99fe6-3633-11ea-9c5e-79fdfc20b759\"}, {\"line\": {\"color\": \"#539397\", \"dash\": \"solid\", \"width\": 4}, \"mode\": \"lines+markers\", \"name\": \"Sevir.9G095700\", \"x\": [\"Drought_Control_L\", \"Drought_Control_S\", \"Drought_50_L\", \"Drought_50_S\", \"Drought_50_R\", \"Drought_20_L\", \"Drought_20_S\"], \"y\": [0.46411199999999997, 0.4550088888888888, 0.5813159999999999, 0.613828, 0.0, 0.28449599999999997, 0.406346], \"type\": \"scatter\", \"uid\": \"f6b9a0c2-3633-11ea-9c5e-79fdfc20b759\"}, {\"line\": {\"color\": \"#880977\", \"dash\": \"dot\", \"width\": 4}, \"mode\": \"lines+markers\", \"name\": \"Sevir.1G265000\", \"x\": [\"Drought_Control_L\", \"Drought_Control_S\", \"Drought_50_L\", \"Drought_50_S\", \"Drought_50_R\", \"Drought_20_L\", \"Drought_20_S\"], \"y\": [0.0, 0.0, 0.0, 0.0, 0.0, 0.0, 0.0], \"type\": \"scatter\", \"uid\": \"f6b9a19e-3633-11ea-9c5e-79fdfc20b759\"}, {\"line\": {\"color\": \"#f697c1\", \"dash\": \"dash\", \"width\": 4}, \"mode\": \"lines+markers\", \"name\": \"Sevir.5G418900\", \"x\": [\"Drought_Control_L\", \"Drought_Control_S\", \"Drought_50_L\", \"Drought_50_S\", \"Drought_50_R\", \"Drought_20_L\", \"Drought_20_S\"], \"y\": [0.0, 0.0, 0.0, 0.0, 0.0, 0.0, 0.0], \"type\": \"scatter\", \"uid\": \"f6b9a27a-3633-11ea-9c5e-79fdfc20b759\"}, {\"line\": {\"color\": \"#ba96ce\", \"dash\": \"solid\", \"width\": 4}, \"mode\": \"lines+markers\", \"name\": \"Sevir.8G237700\", \"x\": [\"Drought_Control_L\", \"Drought_Control_S\", \"Drought_50_L\", \"Drought_50_S\", \"Drought_50_R\", \"Drought_20_L\", \"Drought_20_S\"], \"y\": [0.0, 0.0, 0.0, 0.0, 0.0, 0.0, 0.0], \"type\": \"scatter\", \"uid\": \"f6b9a360-3633-11ea-9c5e-79fdfc20b759\"}, {\"line\": {\"color\": \"#679c9d\", \"dash\": \"dot\", \"width\": 4}, \"mode\": \"lines+markers\", \"name\": \"Sevir.2G177600\", \"x\": [\"Drought_Control_L\", \"Drought_Control_S\", \"Drought_50_L\", \"Drought_50_S\", \"Drought_50_R\", \"Drought_20_L\", \"Drought_20_S\"], \"y\": [0.1, 0.0, 0.0, 0.0, 0.0, 0.0, 0.0], \"type\": \"scatter\", \"uid\": \"f6b9a446-3633-11ea-9c5e-79fdfc20b759\"}, {\"line\": {\"color\": \"#c6c42c\", \"dash\": \"dash\", \"width\": 4}, \"mode\": \"lines+markers\", \"name\": \"Sevir.9G253801\", \"x\": [\"Drought_Control_L\", \"Drought_Control_S\", \"Drought_50_L\", \"Drought_50_S\", \"Drought_50_R\", \"Drought_20_L\", \"Drought_20_S\"], \"y\": [0.0, 0.0, 0.0, 0.0, 0.0, 0.0, 0.0], \"type\": \"scatter\", \"uid\": \"f6b9a522-3633-11ea-9c5e-79fdfc20b759\"}, {\"line\": {\"color\": \"#5d2c52\", \"dash\": \"solid\", \"width\": 4}, \"mode\": \"lines+markers\", \"name\": \"Sevir.6G183566\", \"x\": [\"Drought_Control_L\", \"Drought_Control_S\", \"Drought_50_L\", \"Drought_50_S\", \"Drought_50_R\", \"Drought_20_L\", \"Drought_20_S\"], \"y\": [0.0, 0.0, 0.0, 0.0, 0.0, 0.0, 0.0], \"type\": \"scatter\", \"uid\": \"f6b9a608-3633-11ea-9c5e-79fdfc20b759\"}, {\"line\": {\"color\": \"#48b41b\", \"dash\": \"dot\", \"width\": 4}, \"mode\": \"lines+markers\", \"name\": \"Sevir.8G259500\", \"x\": [\"Drought_Control_L\", \"Drought_Control_S\", \"Drought_50_L\", \"Drought_50_S\", \"Drought_50_R\", \"Drought_20_L\", \"Drought_20_S\"], \"y\": [0.500767, 1.2324877777777778, 0.2, 1.2047, 0.0, 0.76663, 0.204122], \"type\": \"scatter\", \"uid\": \"f6b9a6ee-3633-11ea-9c5e-79fdfc20b759\"}, {\"line\": {\"color\": \"#e1cf3b\", \"dash\": \"dash\", \"width\": 4}, \"mode\": \"lines+markers\", \"name\": \"Sevir.5G036550\", \"x\": [\"Drought_Control_L\", \"Drought_Control_S\", \"Drought_50_L\", \"Drought_50_S\", \"Drought_50_R\", \"Drought_20_L\", \"Drought_20_S\"], \"y\": [0.0, 0.1111111111111111, 0.0, 0.4, 0.0, 0.0, 0.0], \"type\": \"scatter\", \"uid\": \"f6b9a7ca-3633-11ea-9c5e-79fdfc20b759\"}, {\"line\": {\"color\": \"#5be4f0\", \"dash\": \"solid\", \"width\": 4}, \"mode\": \"lines+markers\", \"name\": \"Sevir.7G279700\", \"x\": [\"Drought_Control_L\", \"Drought_Control_S\", \"Drought_50_L\", \"Drought_50_S\", \"Drought_50_R\", \"Drought_20_L\", \"Drought_20_S\"], \"y\": [0.3, 0.3333333333333333, 0.0, 1.0, 0.0, 0.0, 0.0], \"type\": \"scatter\", \"uid\": \"f6b9a8a6-3633-11ea-9c5e-79fdfc20b759\"}, {\"line\": {\"color\": \"#57c4d8\", \"dash\": \"dot\", \"width\": 4}, \"mode\": \"lines+markers\", \"name\": \"Sevir.8G068450\", \"x\": [\"Drought_Control_L\", \"Drought_Control_S\", \"Drought_50_L\", \"Drought_50_S\", \"Drought_50_R\", \"Drought_20_L\", \"Drought_20_S\"], \"y\": [0.0, 0.0, 0.0, 0.125752, 0.0, 0.0, 0.0], \"type\": \"scatter\", \"uid\": \"f6b9a982-3633-11ea-9c5e-79fdfc20b759\"}, {\"line\": {\"color\": \"#a4d17a\", \"dash\": \"dash\", \"width\": 4}, \"mode\": \"lines+markers\", \"name\": \"Sevir.9G576750\", \"x\": [\"Drought_Control_L\", \"Drought_Control_S\", \"Drought_50_L\", \"Drought_50_S\", \"Drought_50_R\", \"Drought_20_L\", \"Drought_20_S\"], \"y\": [0.5, 0.3333333333333333, 0.8, 1.2, 0.0, 1.0, 1.4], \"type\": \"scatter\", \"uid\": \"f6b9aa5e-3633-11ea-9c5e-79fdfc20b759\"}, {\"line\": {\"color\": \"#225b8e\", \"dash\": \"solid\", \"width\": 4}, \"mode\": \"lines+markers\", \"name\": \"Sevir.9G248533\", \"x\": [\"Drought_Control_L\", \"Drought_Control_S\", \"Drought_50_L\", \"Drought_50_S\", \"Drought_50_R\", \"Drought_20_L\", \"Drought_20_S\"], \"y\": [0.1, 0.0, 0.4, 1.6, 0.0, 0.4, 0.2], \"type\": \"scatter\", \"uid\": \"f6b9ab3a-3633-11ea-9c5e-79fdfc20b759\"}, {\"line\": {\"color\": \"#be608b\", \"dash\": \"dot\", \"width\": 4}, \"mode\": \"lines+markers\", \"name\": \"Sevir.1G379100\", \"x\": [\"Drought_Control_L\", \"Drought_Control_S\", \"Drought_50_L\", \"Drought_50_S\", \"Drought_50_R\", \"Drought_20_L\", \"Drought_20_S\"], \"y\": [4.920848000000001, 4.855225555555555, 1.405614, 2.1131539999999998, 2.01594, 4.2488280000000005, 7.991448], \"type\": \"scatter\", \"uid\": \"f6b9ac16-3633-11ea-9c5e-79fdfc20b759\"}, {\"line\": {\"color\": \"#96b00c\", \"dash\": \"dash\", \"width\": 4}, \"mode\": \"lines+markers\", \"name\": \"Sevir.8G222414\", \"x\": [\"Drought_Control_L\", \"Drought_Control_S\", \"Drought_50_L\", \"Drought_50_S\", \"Drought_50_R\", \"Drought_20_L\", \"Drought_20_S\"], \"y\": [0.1, 1.1111111111111112, 1.4, 0.0, 0.0, 0.0, 1.0], \"type\": \"scatter\", \"uid\": \"f6b9ace8-3633-11ea-9c5e-79fdfc20b759\"}, {\"line\": {\"color\": \"#088baf\", \"dash\": \"solid\", \"width\": 4}, \"mode\": \"lines+markers\", \"name\": \"Sevir.6G039200\", \"x\": [\"Drought_Control_L\", \"Drought_Control_S\", \"Drought_50_L\", \"Drought_50_S\", \"Drought_50_R\", \"Drought_20_L\", \"Drought_20_S\"], \"y\": [1.278126, 0.47057888888888894, 1.7401119999999999, 2.811732, 0.0, 4.437488, 0.303562], \"type\": \"scatter\", \"uid\": \"f6b9adc4-3633-11ea-9c5e-79fdfc20b759\"}, {\"line\": {\"color\": \"#f158bf\", \"dash\": \"dot\", \"width\": 4}, \"mode\": \"lines+markers\", \"name\": \"Sevir.6G075100\", \"x\": [\"Drought_Control_L\", \"Drought_Control_S\", \"Drought_50_L\", \"Drought_50_S\", \"Drought_50_R\", \"Drought_20_L\", \"Drought_20_S\"], \"y\": [0.0, 0.0, 0.0, 0.0, 0.0, 0.0, 0.0], \"type\": \"scatter\", \"uid\": \"f6b9aea0-3633-11ea-9c5e-79fdfc20b759\"}, {\"line\": {\"color\": \"#e145ba\", \"dash\": \"dash\", \"width\": 4}, \"mode\": \"lines+markers\", \"name\": \"Sevir.3G331800\", \"x\": [\"Drought_Control_L\", \"Drought_Control_S\", \"Drought_50_L\", \"Drought_50_S\", \"Drought_50_R\", \"Drought_20_L\", \"Drought_20_S\"], \"y\": [0.0, 0.5555555555555556, 0.2, 0.2, 0.0, 0.0, 0.2], \"type\": \"scatter\", \"uid\": \"f6b9af72-3633-11ea-9c5e-79fdfc20b759\"}, {\"line\": {\"color\": \"#ee91e3\", \"dash\": \"solid\", \"width\": 4}, \"mode\": \"lines+markers\", \"name\": \"Sevir.4G164200\", \"x\": [\"Drought_Control_L\", \"Drought_Control_S\", \"Drought_50_L\", \"Drought_50_S\", \"Drought_50_R\", \"Drought_20_L\", \"Drought_20_S\"], \"y\": [0.0, 0.0, 0.0, 0.0, 0.0, 0.0, 0.0], \"type\": \"scatter\", \"uid\": \"f6b9b04e-3633-11ea-9c5e-79fdfc20b759\"}, {\"line\": {\"color\": \"#05d371\", \"dash\": \"dot\", \"width\": 4}, \"mode\": \"lines+markers\", \"name\": \"Sevir.9G347733\", \"x\": [\"Drought_Control_L\", \"Drought_Control_S\", \"Drought_50_L\", \"Drought_50_S\", \"Drought_50_R\", \"Drought_20_L\", \"Drought_20_S\"], \"y\": [0.2, 0.8888888888888888, 0.4, 0.0, 0.0, 0.4, 0.6], \"type\": \"scatter\", \"uid\": \"f6b9b120-3633-11ea-9c5e-79fdfc20b759\"}, {\"line\": {\"color\": \"#5426e0\", \"dash\": \"dash\", \"width\": 4}, \"mode\": \"lines+markers\", \"name\": \"Sevir.2G396750\", \"x\": [\"Drought_Control_L\", \"Drought_Control_S\", \"Drought_50_L\", \"Drought_50_S\", \"Drought_50_R\", \"Drought_20_L\", \"Drought_20_S\"], \"y\": [0.0, 0.0, 0.0, 0.0, 0.0, 0.2, 0.0], \"type\": \"scatter\", \"uid\": \"f6b9b288-3633-11ea-9c5e-79fdfc20b759\"}, {\"line\": {\"color\": \"#4834d0\", \"dash\": \"solid\", \"width\": 4}, \"mode\": \"lines+markers\", \"name\": \"Sevir.3G116100\", \"x\": [\"Drought_Control_L\", \"Drought_Control_S\", \"Drought_50_L\", \"Drought_50_S\", \"Drought_50_R\", \"Drought_20_L\", \"Drought_20_S\"], \"y\": [0.2, 0.0, 0.2, 0.0, 0.0, 0.0, 0.4], \"type\": \"scatter\", \"uid\": \"f6b9b364-3633-11ea-9c5e-79fdfc20b759\"}, {\"line\": {\"color\": \"#802234\", \"dash\": \"dot\", \"width\": 4}, \"mode\": \"lines+markers\", \"name\": \"Sevir.7G061100\", \"x\": [\"Drought_Control_L\", \"Drought_Control_S\", \"Drought_50_L\", \"Drought_50_S\", \"Drought_50_R\", \"Drought_20_L\", \"Drought_20_S\"], \"y\": [0.0, 0.0, 0.0, 0.0, 0.0, 0.0, 0.0], \"type\": \"scatter\", \"uid\": \"f6b9b436-3633-11ea-9c5e-79fdfc20b759\"}, {\"line\": {\"color\": \"#6749e8\", \"dash\": \"dash\", \"width\": 4}, \"mode\": \"lines+markers\", \"name\": \"Sevir.2G307100\", \"x\": [\"Drought_Control_L\", \"Drought_Control_S\", \"Drought_50_L\", \"Drought_50_S\", \"Drought_50_R\", \"Drought_20_L\", \"Drought_20_S\"], \"y\": [0.0, 0.2222222222222222, 0.0, 0.0, 0.0, 0.0, 0.0], \"type\": \"scatter\", \"uid\": \"f6b9b512-3633-11ea-9c5e-79fdfc20b759\"}, {\"line\": {\"color\": \"#0971f0\", \"dash\": \"solid\", \"width\": 4}, \"mode\": \"lines+markers\", \"name\": \"Sevir.5G087400\", \"x\": [\"Drought_Control_L\", \"Drought_Control_S\", \"Drought_50_L\", \"Drought_50_S\", \"Drought_50_R\", \"Drought_20_L\", \"Drought_20_S\"], \"y\": [0.2, 0.1111111111111111, 0.0, 0.0, 0.0, 1.2, 0.0], \"type\": \"scatter\", \"uid\": \"f6b9b5e4-3633-11ea-9c5e-79fdfc20b759\"}, {\"line\": {\"color\": \"#8fb413\", \"dash\": \"dot\", \"width\": 4}, \"mode\": \"lines+markers\", \"name\": \"Sevir.7G005300\", \"x\": [\"Drought_Control_L\", \"Drought_Control_S\", \"Drought_50_L\", \"Drought_50_S\", \"Drought_50_R\", \"Drought_20_L\", \"Drought_20_S\"], \"y\": [0.0, 0.5555555555555556, 0.0, 0.0, 0.0, 0.0, 0.0], \"type\": \"scatter\", \"uid\": \"f6b9b6b6-3633-11ea-9c5e-79fdfc20b759\"}, {\"line\": {\"color\": \"#b2b4f0\", \"dash\": \"dash\", \"width\": 4}, \"mode\": \"lines+markers\", \"name\": \"Sevir.2G026100\", \"x\": [\"Drought_Control_L\", \"Drought_Control_S\", \"Drought_50_L\", \"Drought_50_S\", \"Drought_50_R\", \"Drought_20_L\", \"Drought_20_S\"], \"y\": [0.0, 0.1111111111111111, 0.0, 0.866666, 0.0, 0.0, 0.8], \"type\": \"scatter\", \"uid\": \"f6b9b788-3633-11ea-9c5e-79fdfc20b759\"}, {\"line\": {\"color\": \"#c3c89d\", \"dash\": \"solid\", \"width\": 4}, \"mode\": \"lines+markers\", \"name\": \"Sevir.9G072900\", \"x\": [\"Drought_Control_L\", \"Drought_Control_S\", \"Drought_50_L\", \"Drought_50_S\", \"Drought_50_R\", \"Drought_20_L\", \"Drought_20_S\"], \"y\": [0.4, 0.1111111111111111, 0.0, 0.0, 0.0, 1.2, 0.0], \"type\": \"scatter\", \"uid\": \"f6b9b850-3633-11ea-9c5e-79fdfc20b759\"}], {\"dragmode\": \"select\", \"plot_bgcolor\": \"white\", \"title\": \"Average Gene Expression - Drought\", \"xaxis\": {\"gridcolor\": \"whitesmoke\", \"showgrid\": true, \"title\": \"Experimental Conditions\"}, \"yaxis\": {\"gridcolor\": \"whitesmoke\", \"showgrid\": true, \"title\": \"Expression\"}}, {\"showLink\": true, \"linkText\": \"Export to plot.ly\"})});</script>"
      ]
     },
     "metadata": {},
     "output_type": "display_data"
    },
    {
     "data": {
      "application/vnd.plotly.v1+json": {
       "data": [
        {
         "line": {
          "color": "#ce7d78",
          "dash": "dot",
          "width": 4
         },
         "mode": "lines+markers",
         "name": "Sevir.9G282425",
         "type": "scatter",
         "uid": "f7a675f0-3633-11ea-9c5e-79fdfc20b759",
         "x": [
          "HappyLeaf_Purdue_L",
          "HappyLeaf_APL_L",
          "HappyLeaf_UMN_L",
          "HappyLeaf_Cornell_L",
          "HappyLeaf_BTI_L"
         ],
         "y": [
          0.25,
          0.3333333333333333,
          0.375,
          0,
          0.25
         ]
        },
        {
         "line": {
          "color": "#ea9e70",
          "dash": "dash",
          "width": 4
         },
         "mode": "lines+markers",
         "name": "Sevir.7G018910",
         "type": "scatter",
         "uid": "f7a6785c-3633-11ea-9c5e-79fdfc20b759",
         "x": [
          "HappyLeaf_Purdue_L",
          "HappyLeaf_APL_L",
          "HappyLeaf_UMN_L",
          "HappyLeaf_Cornell_L",
          "HappyLeaf_BTI_L"
         ],
         "y": [
          0.125,
          0.06476833333333333,
          0,
          0.125,
          0.25
         ]
        },
        {
         "line": {
          "color": "#a48a9e",
          "dash": "solid",
          "width": 4
         },
         "mode": "lines+markers",
         "name": "Sevir.5G044500",
         "type": "scatter",
         "uid": "f7a67988-3633-11ea-9c5e-79fdfc20b759",
         "x": [
          "HappyLeaf_Purdue_L",
          "HappyLeaf_APL_L",
          "HappyLeaf_UMN_L",
          "HappyLeaf_Cornell_L",
          "HappyLeaf_BTI_L"
         ],
         "y": [
          0.125,
          0,
          0,
          0,
          0
         ]
        },
        {
         "line": {
          "color": "#c6e1e8",
          "dash": "dot",
          "width": 4
         },
         "mode": "lines+markers",
         "name": "Sevir.2G127900",
         "type": "scatter",
         "uid": "f7a67a96-3633-11ea-9c5e-79fdfc20b759",
         "x": [
          "HappyLeaf_Purdue_L",
          "HappyLeaf_APL_L",
          "HappyLeaf_UMN_L",
          "HappyLeaf_Cornell_L",
          "HappyLeaf_BTI_L"
         ],
         "y": [
          1.25,
          0,
          0.5,
          0.625,
          0.125
         ]
        },
        {
         "line": {
          "color": "#648177",
          "dash": "dash",
          "width": 4
         },
         "mode": "lines+markers",
         "name": "Sevir.5G129000",
         "type": "scatter",
         "uid": "f7a67b86-3633-11ea-9c5e-79fdfc20b759",
         "x": [
          "HappyLeaf_Purdue_L",
          "HappyLeaf_APL_L",
          "HappyLeaf_UMN_L",
          "HappyLeaf_Cornell_L",
          "HappyLeaf_BTI_L"
         ],
         "y": [
          0.76841875,
          4.05706,
          0.27578875,
          0.8300075,
          2.16982
         ]
        },
        {
         "line": {
          "color": "#0d5ac1",
          "dash": "solid",
          "width": 4
         },
         "mode": "lines+markers",
         "name": "Sevir.2G354400",
         "type": "scatter",
         "uid": "f7a67c76-3633-11ea-9c5e-79fdfc20b759",
         "x": [
          "HappyLeaf_Purdue_L",
          "HappyLeaf_APL_L",
          "HappyLeaf_UMN_L",
          "HappyLeaf_Cornell_L",
          "HappyLeaf_BTI_L"
         ],
         "y": [
          0,
          0.16666666666666666,
          0.125,
          0,
          0
         ]
        },
        {
         "line": {
          "color": "#f205e6",
          "dash": "dot",
          "width": 4
         },
         "mode": "lines+markers",
         "name": "Sevir.2G152600",
         "type": "scatter",
         "uid": "f7a67d5c-3633-11ea-9c5e-79fdfc20b759",
         "x": [
          "HappyLeaf_Purdue_L",
          "HappyLeaf_APL_L",
          "HappyLeaf_UMN_L",
          "HappyLeaf_Cornell_L",
          "HappyLeaf_BTI_L"
         ],
         "y": [
          0,
          0,
          0.125,
          0,
          0.08326575
         ]
        },
        {
         "line": {
          "color": "#1c0365",
          "dash": "dash",
          "width": 4
         },
         "mode": "lines+markers",
         "name": "Sevir.7G023700",
         "type": "scatter",
         "uid": "f7a67e4c-3633-11ea-9c5e-79fdfc20b759",
         "x": [
          "HappyLeaf_Purdue_L",
          "HappyLeaf_APL_L",
          "HappyLeaf_UMN_L",
          "HappyLeaf_Cornell_L",
          "HappyLeaf_BTI_L"
         ],
         "y": [
          0.25,
          1,
          0,
          0.2928095,
          0.51405375
         ]
        },
        {
         "line": {
          "color": "#14a9ad",
          "dash": "solid",
          "width": 4
         },
         "mode": "lines+markers",
         "name": "Sevir.4G118900",
         "type": "scatter",
         "uid": "f7a67f32-3633-11ea-9c5e-79fdfc20b759",
         "x": [
          "HappyLeaf_Purdue_L",
          "HappyLeaf_APL_L",
          "HappyLeaf_UMN_L",
          "HappyLeaf_Cornell_L",
          "HappyLeaf_BTI_L"
         ],
         "y": [
          0.375,
          1,
          0.125,
          0.125,
          1
         ]
        },
        {
         "line": {
          "color": "#4ca2f9",
          "dash": "dot",
          "width": 4
         },
         "mode": "lines+markers",
         "name": "Sevir.8G081600",
         "type": "scatter",
         "uid": "f7a68018-3633-11ea-9c5e-79fdfc20b759",
         "x": [
          "HappyLeaf_Purdue_L",
          "HappyLeaf_APL_L",
          "HappyLeaf_UMN_L",
          "HappyLeaf_Cornell_L",
          "HappyLeaf_BTI_L"
         ],
         "y": [
          0.124932375,
          0,
          0,
          0,
          0.99915875
         ]
        },
        {
         "line": {
          "color": "#a4e43f",
          "dash": "dash",
          "width": 4
         },
         "mode": "lines+markers",
         "name": "Sevir.5G364132",
         "type": "scatter",
         "uid": "f7a680fe-3633-11ea-9c5e-79fdfc20b759",
         "x": [
          "HappyLeaf_Purdue_L",
          "HappyLeaf_APL_L",
          "HappyLeaf_UMN_L",
          "HappyLeaf_Cornell_L",
          "HappyLeaf_BTI_L"
         ],
         "y": [
          0.125,
          0.37114166666666665,
          0.25,
          0,
          0.185031625
         ]
        },
        {
         "line": {
          "color": "#d298e2",
          "dash": "solid",
          "width": 4
         },
         "mode": "lines+markers",
         "name": "Sevir.4G263301",
         "type": "scatter",
         "uid": "f7a68248-3633-11ea-9c5e-79fdfc20b759",
         "x": [
          "HappyLeaf_Purdue_L",
          "HappyLeaf_APL_L",
          "HappyLeaf_UMN_L",
          "HappyLeaf_Cornell_L",
          "HappyLeaf_BTI_L"
         ],
         "y": [
          0,
          0,
          0,
          0,
          0.375
         ]
        },
        {
         "line": {
          "color": "#6119d0",
          "dash": "dot",
          "width": 4
         },
         "mode": "lines+markers",
         "name": "Sevir.9G099466",
         "type": "scatter",
         "uid": "f7a6834c-3633-11ea-9c5e-79fdfc20b759",
         "x": [
          "HappyLeaf_Purdue_L",
          "HappyLeaf_APL_L",
          "HappyLeaf_UMN_L",
          "HappyLeaf_Cornell_L",
          "HappyLeaf_BTI_L"
         ],
         "y": [
          0,
          0,
          0.125,
          0.25,
          0.375
         ]
        },
        {
         "line": {
          "color": "#d2737d",
          "dash": "dash",
          "width": 4
         },
         "mode": "lines+markers",
         "name": "Sevir.9G078500",
         "type": "scatter",
         "uid": "f7a68432-3633-11ea-9c5e-79fdfc20b759",
         "x": [
          "HappyLeaf_Purdue_L",
          "HappyLeaf_APL_L",
          "HappyLeaf_UMN_L",
          "HappyLeaf_Cornell_L",
          "HappyLeaf_BTI_L"
         ],
         "y": [
          0,
          0.3333333333333333,
          0,
          0.375,
          0.125
         ]
        },
        {
         "line": {
          "color": "#c0a43c",
          "dash": "solid",
          "width": 4
         },
         "mode": "lines+markers",
         "name": "Sevir.2G263800",
         "type": "scatter",
         "uid": "f7a68518-3633-11ea-9c5e-79fdfc20b759",
         "x": [
          "HappyLeaf_Purdue_L",
          "HappyLeaf_APL_L",
          "HappyLeaf_UMN_L",
          "HappyLeaf_Cornell_L",
          "HappyLeaf_BTI_L"
         ],
         "y": [
          0,
          0,
          0,
          0,
          0
         ]
        },
        {
         "line": {
          "color": "#f2510e",
          "dash": "dot",
          "width": 4
         },
         "mode": "lines+markers",
         "name": "Sevir.8G218520",
         "type": "scatter",
         "uid": "f7a685fe-3633-11ea-9c5e-79fdfc20b759",
         "x": [
          "HappyLeaf_Purdue_L",
          "HappyLeaf_APL_L",
          "HappyLeaf_UMN_L",
          "HappyLeaf_Cornell_L",
          "HappyLeaf_BTI_L"
         ],
         "y": [
          0,
          0,
          0,
          0.125,
          0
         ]
        },
        {
         "line": {
          "color": "#651be6",
          "dash": "dash",
          "width": 4
         },
         "mode": "lines+markers",
         "name": "Sevir.3G390900",
         "type": "scatter",
         "uid": "f7a686e4-3633-11ea-9c5e-79fdfc20b759",
         "x": [
          "HappyLeaf_Purdue_L",
          "HappyLeaf_APL_L",
          "HappyLeaf_UMN_L",
          "HappyLeaf_Cornell_L",
          "HappyLeaf_BTI_L"
         ],
         "y": [
          0,
          0.16666666666666666,
          0,
          0,
          0
         ]
        },
        {
         "line": {
          "color": "#79806e",
          "dash": "solid",
          "width": 4
         },
         "mode": "lines+markers",
         "name": "Sevir.9G165400",
         "type": "scatter",
         "uid": "f7a687ca-3633-11ea-9c5e-79fdfc20b759",
         "x": [
          "HappyLeaf_Purdue_L",
          "HappyLeaf_APL_L",
          "HappyLeaf_UMN_L",
          "HappyLeaf_Cornell_L",
          "HappyLeaf_BTI_L"
         ],
         "y": [
          0,
          0.16666666666666666,
          0.125,
          0,
          0.827285
         ]
        },
        {
         "line": {
          "color": "#61da5e",
          "dash": "dot",
          "width": 4
         },
         "mode": "lines+markers",
         "name": "Sevir.8G245140",
         "type": "scatter",
         "uid": "f7a688b0-3633-11ea-9c5e-79fdfc20b759",
         "x": [
          "HappyLeaf_Purdue_L",
          "HappyLeaf_APL_L",
          "HappyLeaf_UMN_L",
          "HappyLeaf_Cornell_L",
          "HappyLeaf_BTI_L"
         ],
         "y": [
          0.125,
          0,
          0.125,
          0.125,
          0.375
         ]
        },
        {
         "line": {
          "color": "#cd2f00",
          "dash": "dash",
          "width": 4
         },
         "mode": "lines+markers",
         "name": "Sevir.8G087000",
         "type": "scatter",
         "uid": "f7a68996-3633-11ea-9c5e-79fdfc20b759",
         "x": [
          "HappyLeaf_Purdue_L",
          "HappyLeaf_APL_L",
          "HappyLeaf_UMN_L",
          "HappyLeaf_Cornell_L",
          "HappyLeaf_BTI_L"
         ],
         "y": [
          0,
          0,
          0,
          0,
          0
         ]
        },
        {
         "line": {
          "color": "#9348af",
          "dash": "solid",
          "width": 4
         },
         "mode": "lines+markers",
         "name": "Sevir.9G576201",
         "type": "scatter",
         "uid": "f7a68a7c-3633-11ea-9c5e-79fdfc20b759",
         "x": [
          "HappyLeaf_Purdue_L",
          "HappyLeaf_APL_L",
          "HappyLeaf_UMN_L",
          "HappyLeaf_Cornell_L",
          "HappyLeaf_BTI_L"
         ],
         "y": [
          0,
          0.16666666666666666,
          0,
          0,
          0
         ]
        },
        {
         "line": {
          "color": "#01ac53",
          "dash": "dot",
          "width": 4
         },
         "mode": "lines+markers",
         "name": "Sevir.5G470750",
         "type": "scatter",
         "uid": "f7a68b6c-3633-11ea-9c5e-79fdfc20b759",
         "x": [
          "HappyLeaf_Purdue_L",
          "HappyLeaf_APL_L",
          "HappyLeaf_UMN_L",
          "HappyLeaf_Cornell_L",
          "HappyLeaf_BTI_L"
         ],
         "y": [
          0.375,
          1.0033283333333334,
          0.75,
          0.125,
          0.5
         ]
        },
        {
         "line": {
          "color": "#c5a4fb",
          "dash": "dash",
          "width": 4
         },
         "mode": "lines+markers",
         "name": "Sevir.1G060850",
         "type": "scatter",
         "uid": "f7a68c52-3633-11ea-9c5e-79fdfc20b759",
         "x": [
          "HappyLeaf_Purdue_L",
          "HappyLeaf_APL_L",
          "HappyLeaf_UMN_L",
          "HappyLeaf_Cornell_L",
          "HappyLeaf_BTI_L"
         ],
         "y": [
          0,
          0,
          0,
          0,
          0
         ]
        },
        {
         "line": {
          "color": "#996635",
          "dash": "solid",
          "width": 4
         },
         "mode": "lines+markers",
         "name": "Sevir.2G280500",
         "type": "scatter",
         "uid": "f7a68d38-3633-11ea-9c5e-79fdfc20b759",
         "x": [
          "HappyLeaf_Purdue_L",
          "HappyLeaf_APL_L",
          "HappyLeaf_UMN_L",
          "HappyLeaf_Cornell_L",
          "HappyLeaf_BTI_L"
         ],
         "y": [
          0.019813,
          0.16666666666666666,
          0,
          0,
          0.040850375
         ]
        },
        {
         "line": {
          "color": "#b11573",
          "dash": "dot",
          "width": 4
         },
         "mode": "lines+markers",
         "name": "Sevir.9G268200",
         "type": "scatter",
         "uid": "f7a68e1e-3633-11ea-9c5e-79fdfc20b759",
         "x": [
          "HappyLeaf_Purdue_L",
          "HappyLeaf_APL_L",
          "HappyLeaf_UMN_L",
          "HappyLeaf_Cornell_L",
          "HappyLeaf_BTI_L"
         ],
         "y": [
          0.5,
          0.16666666666666666,
          0.625,
          0.125,
          0.5
         ]
        },
        {
         "line": {
          "color": "#4bb473",
          "dash": "dash",
          "width": 4
         },
         "mode": "lines+markers",
         "name": "Sevir.4G143101",
         "type": "scatter",
         "uid": "f7a68efa-3633-11ea-9c5e-79fdfc20b759",
         "x": [
          "HappyLeaf_Purdue_L",
          "HappyLeaf_APL_L",
          "HappyLeaf_UMN_L",
          "HappyLeaf_Cornell_L",
          "HappyLeaf_BTI_L"
         ],
         "y": [
          0.125,
          0,
          0,
          0,
          0.125
         ]
        },
        {
         "line": {
          "color": "#75d89e",
          "dash": "solid",
          "width": 4
         },
         "mode": "lines+markers",
         "name": "Sevir.2G342800",
         "type": "scatter",
         "uid": "f7a68fe0-3633-11ea-9c5e-79fdfc20b759",
         "x": [
          "HappyLeaf_Purdue_L",
          "HappyLeaf_APL_L",
          "HappyLeaf_UMN_L",
          "HappyLeaf_Cornell_L",
          "HappyLeaf_BTI_L"
         ],
         "y": [
          0,
          0,
          0,
          0,
          0
         ]
        },
        {
         "line": {
          "color": "#2f3f94",
          "dash": "dot",
          "width": 4
         },
         "mode": "lines+markers",
         "name": "Sevir.1G019900",
         "type": "scatter",
         "uid": "f7a690c6-3633-11ea-9c5e-79fdfc20b759",
         "x": [
          "HappyLeaf_Purdue_L",
          "HappyLeaf_APL_L",
          "HappyLeaf_UMN_L",
          "HappyLeaf_Cornell_L",
          "HappyLeaf_BTI_L"
         ],
         "y": [
          0.125,
          0.16666666666666666,
          0.25,
          0,
          0
         ]
        },
        {
         "line": {
          "color": "#2f7b99",
          "dash": "dash",
          "width": 4
         },
         "mode": "lines+markers",
         "name": "Sevir.3G353500",
         "type": "scatter",
         "uid": "f7a691a2-3633-11ea-9c5e-79fdfc20b759",
         "x": [
          "HappyLeaf_Purdue_L",
          "HappyLeaf_APL_L",
          "HappyLeaf_UMN_L",
          "HappyLeaf_Cornell_L",
          "HappyLeaf_BTI_L"
         ],
         "y": [
          0,
          0,
          0,
          0,
          0
         ]
        },
        {
         "line": {
          "color": "#da967d",
          "dash": "solid",
          "width": 4
         },
         "mode": "lines+markers",
         "name": "Sevir.7G189700",
         "type": "scatter",
         "uid": "f7a69288-3633-11ea-9c5e-79fdfc20b759",
         "x": [
          "HappyLeaf_Purdue_L",
          "HappyLeaf_APL_L",
          "HappyLeaf_UMN_L",
          "HappyLeaf_Cornell_L",
          "HappyLeaf_BTI_L"
         ],
         "y": [
          0,
          0,
          0,
          0,
          0
         ]
        },
        {
         "line": {
          "color": "#34891f",
          "dash": "dot",
          "width": 4
         },
         "mode": "lines+markers",
         "name": "Sevir.4G118600",
         "type": "scatter",
         "uid": "f7a6936e-3633-11ea-9c5e-79fdfc20b759",
         "x": [
          "HappyLeaf_Purdue_L",
          "HappyLeaf_APL_L",
          "HappyLeaf_UMN_L",
          "HappyLeaf_Cornell_L",
          "HappyLeaf_BTI_L"
         ],
         "y": [
          0,
          0,
          0,
          0.375,
          0.125
         ]
        },
        {
         "line": {
          "color": "#b0d87b",
          "dash": "dash",
          "width": 4
         },
         "mode": "lines+markers",
         "name": "Sevir.5G315900",
         "type": "scatter",
         "uid": "f7a69454-3633-11ea-9c5e-79fdfc20b759",
         "x": [
          "HappyLeaf_Purdue_L",
          "HappyLeaf_APL_L",
          "HappyLeaf_UMN_L",
          "HappyLeaf_Cornell_L",
          "HappyLeaf_BTI_L"
         ],
         "y": [
          0,
          0,
          0,
          0,
          0
         ]
        },
        {
         "line": {
          "color": "#ca4751",
          "dash": "solid",
          "width": 4
         },
         "mode": "lines+markers",
         "name": "Sevir.1G110232",
         "type": "scatter",
         "uid": "f7a695da-3633-11ea-9c5e-79fdfc20b759",
         "x": [
          "HappyLeaf_Purdue_L",
          "HappyLeaf_APL_L",
          "HappyLeaf_UMN_L",
          "HappyLeaf_Cornell_L",
          "HappyLeaf_BTI_L"
         ],
         "y": [
          0,
          0.3333333333333333,
          0,
          0,
          0
         ]
        },
        {
         "line": {
          "color": "#7e50a8",
          "dash": "dot",
          "width": 4
         },
         "mode": "lines+markers",
         "name": "Sevir.5G206100",
         "type": "scatter",
         "uid": "f7a696de-3633-11ea-9c5e-79fdfc20b759",
         "x": [
          "HappyLeaf_Purdue_L",
          "HappyLeaf_APL_L",
          "HappyLeaf_UMN_L",
          "HappyLeaf_Cornell_L",
          "HappyLeaf_BTI_L"
         ],
         "y": [
          0,
          0,
          0,
          0,
          0
         ]
        },
        {
         "line": {
          "color": "#c4d647",
          "dash": "dash",
          "width": 4
         },
         "mode": "lines+markers",
         "name": "Sevir.3G353200",
         "type": "scatter",
         "uid": "f7a697c4-3633-11ea-9c5e-79fdfc20b759",
         "x": [
          "HappyLeaf_Purdue_L",
          "HappyLeaf_APL_L",
          "HappyLeaf_UMN_L",
          "HappyLeaf_Cornell_L",
          "HappyLeaf_BTI_L"
         ],
         "y": [
          0.125,
          0.16666666666666666,
          0.125,
          0,
          0.5
         ]
        },
        {
         "line": {
          "color": "#e0eeb8",
          "dash": "solid",
          "width": 4
         },
         "mode": "lines+markers",
         "name": "Sevir.4G093300",
         "type": "scatter",
         "uid": "f7a698a0-3633-11ea-9c5e-79fdfc20b759",
         "x": [
          "HappyLeaf_Purdue_L",
          "HappyLeaf_APL_L",
          "HappyLeaf_UMN_L",
          "HappyLeaf_Cornell_L",
          "HappyLeaf_BTI_L"
         ],
         "y": [
          0.375,
          1.1666666666666667,
          0.5,
          0.375,
          2
         ]
        },
        {
         "line": {
          "color": "#11dec1",
          "dash": "dot",
          "width": 4
         },
         "mode": "lines+markers",
         "name": "Sevir.1G171100",
         "type": "scatter",
         "uid": "f7a69986-3633-11ea-9c5e-79fdfc20b759",
         "x": [
          "HappyLeaf_Purdue_L",
          "HappyLeaf_APL_L",
          "HappyLeaf_UMN_L",
          "HappyLeaf_Cornell_L",
          "HappyLeaf_BTI_L"
         ],
         "y": [
          0,
          0.16666666666666666,
          0,
          0,
          0.6470975
         ]
        },
        {
         "line": {
          "color": "#289812",
          "dash": "dash",
          "width": 4
         },
         "mode": "lines+markers",
         "name": "Sevir.2G305750",
         "type": "scatter",
         "uid": "f7a69a6c-3633-11ea-9c5e-79fdfc20b759",
         "x": [
          "HappyLeaf_Purdue_L",
          "HappyLeaf_APL_L",
          "HappyLeaf_UMN_L",
          "HappyLeaf_Cornell_L",
          "HappyLeaf_BTI_L"
         ],
         "y": [
          1.021757625,
          2.4069788333333335,
          1.111612125,
          0.17570425,
          5.1662325000000004
         ]
        },
        {
         "line": {
          "color": "#566ca0",
          "dash": "solid",
          "width": 4
         },
         "mode": "lines+markers",
         "name": "Sevir.9G169700",
         "type": "scatter",
         "uid": "f7a69b52-3633-11ea-9c5e-79fdfc20b759",
         "x": [
          "HappyLeaf_Purdue_L",
          "HappyLeaf_APL_L",
          "HappyLeaf_UMN_L",
          "HappyLeaf_Cornell_L",
          "HappyLeaf_BTI_L"
         ],
         "y": [
          0,
          0,
          0,
          0,
          0
         ]
        },
        {
         "line": {
          "color": "#ffdbe1",
          "dash": "dot",
          "width": 4
         },
         "mode": "lines+markers",
         "name": "Sevir.1G020800",
         "type": "scatter",
         "uid": "f7a69c38-3633-11ea-9c5e-79fdfc20b759",
         "x": [
          "HappyLeaf_Purdue_L",
          "HappyLeaf_APL_L",
          "HappyLeaf_UMN_L",
          "HappyLeaf_Cornell_L",
          "HappyLeaf_BTI_L"
         ],
         "y": [
          0,
          0.16666666666666666,
          0,
          0.375,
          0.5
         ]
        },
        {
         "line": {
          "color": "#2f1179",
          "dash": "dash",
          "width": 4
         },
         "mode": "lines+markers",
         "name": "Sevir.5G194900",
         "type": "scatter",
         "uid": "f7a69d1e-3633-11ea-9c5e-79fdfc20b759",
         "x": [
          "HappyLeaf_Purdue_L",
          "HappyLeaf_APL_L",
          "HappyLeaf_UMN_L",
          "HappyLeaf_Cornell_L",
          "HappyLeaf_BTI_L"
         ],
         "y": [
          0,
          0,
          0,
          0,
          0
         ]
        },
        {
         "line": {
          "color": "#935b6d",
          "dash": "solid",
          "width": 4
         },
         "mode": "lines+markers",
         "name": "Sevir.6G028050",
         "type": "scatter",
         "uid": "f7a69dfa-3633-11ea-9c5e-79fdfc20b759",
         "x": [
          "HappyLeaf_Purdue_L",
          "HappyLeaf_APL_L",
          "HappyLeaf_UMN_L",
          "HappyLeaf_Cornell_L",
          "HappyLeaf_BTI_L"
         ],
         "y": [
          0,
          0,
          0.125,
          0.375,
          0.125
         ]
        },
        {
         "line": {
          "color": "#916988",
          "dash": "dot",
          "width": 4
         },
         "mode": "lines+markers",
         "name": "Sevir.2G003200",
         "type": "scatter",
         "uid": "f7a69ee0-3633-11ea-9c5e-79fdfc20b759",
         "x": [
          "HappyLeaf_Purdue_L",
          "HappyLeaf_APL_L",
          "HappyLeaf_UMN_L",
          "HappyLeaf_Cornell_L",
          "HappyLeaf_BTI_L"
         ],
         "y": [
          0,
          0.16666666666666666,
          0.25,
          0.125,
          0
         ]
        },
        {
         "line": {
          "color": "#513d98",
          "dash": "dash",
          "width": 4
         },
         "mode": "lines+markers",
         "name": "Sevir.8G079100",
         "type": "scatter",
         "uid": "f7a69fbc-3633-11ea-9c5e-79fdfc20b759",
         "x": [
          "HappyLeaf_Purdue_L",
          "HappyLeaf_APL_L",
          "HappyLeaf_UMN_L",
          "HappyLeaf_Cornell_L",
          "HappyLeaf_BTI_L"
         ],
         "y": [
          0,
          0,
          0,
          0,
          0.25
         ]
        },
        {
         "line": {
          "color": "#aead3a",
          "dash": "solid",
          "width": 4
         },
         "mode": "lines+markers",
         "name": "Sevir.4G293501",
         "type": "scatter",
         "uid": "f7a6a0a2-3633-11ea-9c5e-79fdfc20b759",
         "x": [
          "HappyLeaf_Purdue_L",
          "HappyLeaf_APL_L",
          "HappyLeaf_UMN_L",
          "HappyLeaf_Cornell_L",
          "HappyLeaf_BTI_L"
         ],
         "y": [
          0,
          0,
          0,
          0,
          0
         ]
        },
        {
         "line": {
          "color": "#9e6d71",
          "dash": "dot",
          "width": 4
         },
         "mode": "lines+markers",
         "name": "Sevir.7G022900",
         "type": "scatter",
         "uid": "f7a6a188-3633-11ea-9c5e-79fdfc20b759",
         "x": [
          "HappyLeaf_Purdue_L",
          "HappyLeaf_APL_L",
          "HappyLeaf_UMN_L",
          "HappyLeaf_Cornell_L",
          "HappyLeaf_BTI_L"
         ],
         "y": [
          0,
          0,
          0,
          0,
          0
         ]
        },
        {
         "line": {
          "color": "#4b5bdc",
          "dash": "dash",
          "width": 4
         },
         "mode": "lines+markers",
         "name": "Sevir.8G165900",
         "type": "scatter",
         "uid": "f7a6a264-3633-11ea-9c5e-79fdfc20b759",
         "x": [
          "HappyLeaf_Purdue_L",
          "HappyLeaf_APL_L",
          "HappyLeaf_UMN_L",
          "HappyLeaf_Cornell_L",
          "HappyLeaf_BTI_L"
         ],
         "y": [
          0,
          0,
          0,
          0,
          0
         ]
        },
        {
         "line": {
          "color": "#0cd36d",
          "dash": "solid",
          "width": 4
         },
         "mode": "lines+markers",
         "name": "Sevir.9G092300",
         "type": "scatter",
         "uid": "f7a6a34a-3633-11ea-9c5e-79fdfc20b759",
         "x": [
          "HappyLeaf_Purdue_L",
          "HappyLeaf_APL_L",
          "HappyLeaf_UMN_L",
          "HappyLeaf_Cornell_L",
          "HappyLeaf_BTI_L"
         ],
         "y": [
          0,
          0,
          0,
          0,
          0
         ]
        },
        {
         "line": {
          "color": "#250662",
          "dash": "dot",
          "width": 4
         },
         "mode": "lines+markers",
         "name": "Sevir.6G113200",
         "type": "scatter",
         "uid": "f7a6a426-3633-11ea-9c5e-79fdfc20b759",
         "x": [
          "HappyLeaf_Purdue_L",
          "HappyLeaf_APL_L",
          "HappyLeaf_UMN_L",
          "HappyLeaf_Cornell_L",
          "HappyLeaf_BTI_L"
         ],
         "y": [
          0,
          0,
          0,
          0,
          0
         ]
        },
        {
         "line": {
          "color": "#cb5bea",
          "dash": "dash",
          "width": 4
         },
         "mode": "lines+markers",
         "name": "Sevir.4G160200",
         "type": "scatter",
         "uid": "f7a6a502-3633-11ea-9c5e-79fdfc20b759",
         "x": [
          "HappyLeaf_Purdue_L",
          "HappyLeaf_APL_L",
          "HappyLeaf_UMN_L",
          "HappyLeaf_Cornell_L",
          "HappyLeaf_BTI_L"
         ],
         "y": [
          0,
          0,
          0,
          0,
          0
         ]
        },
        {
         "line": {
          "color": "#228916",
          "dash": "solid",
          "width": 4
         },
         "mode": "lines+markers",
         "name": "Sevir.5G037400",
         "type": "scatter",
         "uid": "f7a6a5e8-3633-11ea-9c5e-79fdfc20b759",
         "x": [
          "HappyLeaf_Purdue_L",
          "HappyLeaf_APL_L",
          "HappyLeaf_UMN_L",
          "HappyLeaf_Cornell_L",
          "HappyLeaf_BTI_L"
         ],
         "y": [
          0,
          0,
          0,
          0,
          0
         ]
        },
        {
         "line": {
          "color": "#ac3e1b",
          "dash": "dot",
          "width": 4
         },
         "mode": "lines+markers",
         "name": "Sevir.3G298200",
         "type": "scatter",
         "uid": "f7a6a6c4-3633-11ea-9c5e-79fdfc20b759",
         "x": [
          "HappyLeaf_Purdue_L",
          "HappyLeaf_APL_L",
          "HappyLeaf_UMN_L",
          "HappyLeaf_Cornell_L",
          "HappyLeaf_BTI_L"
         ],
         "y": [
          0,
          0,
          0,
          0,
          0.375
         ]
        },
        {
         "line": {
          "color": "#df514a",
          "dash": "dash",
          "width": 4
         },
         "mode": "lines+markers",
         "name": "Sevir.2G437300",
         "type": "scatter",
         "uid": "f7a6a7aa-3633-11ea-9c5e-79fdfc20b759",
         "x": [
          "HappyLeaf_Purdue_L",
          "HappyLeaf_APL_L",
          "HappyLeaf_UMN_L",
          "HappyLeaf_Cornell_L",
          "HappyLeaf_BTI_L"
         ],
         "y": [
          0,
          0,
          0,
          0,
          0
         ]
        },
        {
         "line": {
          "color": "#539397",
          "dash": "solid",
          "width": 4
         },
         "mode": "lines+markers",
         "name": "Sevir.9G095700",
         "type": "scatter",
         "uid": "f7a6a886-3633-11ea-9c5e-79fdfc20b759",
         "x": [
          "HappyLeaf_Purdue_L",
          "HappyLeaf_APL_L",
          "HappyLeaf_UMN_L",
          "HappyLeaf_Cornell_L",
          "HappyLeaf_BTI_L"
         ],
         "y": [
          0.1635225,
          0.20075666666666667,
          0,
          0.3172625,
          0
         ]
        },
        {
         "line": {
          "color": "#880977",
          "dash": "dot",
          "width": 4
         },
         "mode": "lines+markers",
         "name": "Sevir.1G265000",
         "type": "scatter",
         "uid": "f7a6a962-3633-11ea-9c5e-79fdfc20b759",
         "x": [
          "HappyLeaf_Purdue_L",
          "HappyLeaf_APL_L",
          "HappyLeaf_UMN_L",
          "HappyLeaf_Cornell_L",
          "HappyLeaf_BTI_L"
         ],
         "y": [
          0,
          0,
          0,
          0,
          0.25
         ]
        },
        {
         "line": {
          "color": "#f697c1",
          "dash": "dash",
          "width": 4
         },
         "mode": "lines+markers",
         "name": "Sevir.5G418900",
         "type": "scatter",
         "uid": "f7a6aa48-3633-11ea-9c5e-79fdfc20b759",
         "x": [
          "HappyLeaf_Purdue_L",
          "HappyLeaf_APL_L",
          "HappyLeaf_UMN_L",
          "HappyLeaf_Cornell_L",
          "HappyLeaf_BTI_L"
         ],
         "y": [
          0,
          0,
          0,
          0,
          0.125
         ]
        },
        {
         "line": {
          "color": "#ba96ce",
          "dash": "solid",
          "width": 4
         },
         "mode": "lines+markers",
         "name": "Sevir.8G237700",
         "type": "scatter",
         "uid": "f7a6ab24-3633-11ea-9c5e-79fdfc20b759",
         "x": [
          "HappyLeaf_Purdue_L",
          "HappyLeaf_APL_L",
          "HappyLeaf_UMN_L",
          "HappyLeaf_Cornell_L",
          "HappyLeaf_BTI_L"
         ],
         "y": [
          0,
          0,
          0,
          0,
          0
         ]
        },
        {
         "line": {
          "color": "#679c9d",
          "dash": "dot",
          "width": 4
         },
         "mode": "lines+markers",
         "name": "Sevir.2G177600",
         "type": "scatter",
         "uid": "f7a6ac00-3633-11ea-9c5e-79fdfc20b759",
         "x": [
          "HappyLeaf_Purdue_L",
          "HappyLeaf_APL_L",
          "HappyLeaf_UMN_L",
          "HappyLeaf_Cornell_L",
          "HappyLeaf_BTI_L"
         ],
         "y": [
          0,
          0,
          0,
          0,
          0
         ]
        },
        {
         "line": {
          "color": "#c6c42c",
          "dash": "dash",
          "width": 4
         },
         "mode": "lines+markers",
         "name": "Sevir.9G253801",
         "type": "scatter",
         "uid": "f7a6ace6-3633-11ea-9c5e-79fdfc20b759",
         "x": [
          "HappyLeaf_Purdue_L",
          "HappyLeaf_APL_L",
          "HappyLeaf_UMN_L",
          "HappyLeaf_Cornell_L",
          "HappyLeaf_BTI_L"
         ],
         "y": [
          0.125,
          0,
          0.5,
          0,
          0.5
         ]
        },
        {
         "line": {
          "color": "#5d2c52",
          "dash": "solid",
          "width": 4
         },
         "mode": "lines+markers",
         "name": "Sevir.6G183566",
         "type": "scatter",
         "uid": "f7a6adcc-3633-11ea-9c5e-79fdfc20b759",
         "x": [
          "HappyLeaf_Purdue_L",
          "HappyLeaf_APL_L",
          "HappyLeaf_UMN_L",
          "HappyLeaf_Cornell_L",
          "HappyLeaf_BTI_L"
         ],
         "y": [
          0,
          0.16666666666666666,
          0,
          0,
          0
         ]
        },
        {
         "line": {
          "color": "#48b41b",
          "dash": "dot",
          "width": 4
         },
         "mode": "lines+markers",
         "name": "Sevir.8G259500",
         "type": "scatter",
         "uid": "f7a6aea8-3633-11ea-9c5e-79fdfc20b759",
         "x": [
          "HappyLeaf_Purdue_L",
          "HappyLeaf_APL_L",
          "HappyLeaf_UMN_L",
          "HappyLeaf_Cornell_L",
          "HappyLeaf_BTI_L"
         ],
         "y": [
          0.875,
          1.6688516666666668,
          0.75,
          0.125,
          1.44858625
         ]
        },
        {
         "line": {
          "color": "#e1cf3b",
          "dash": "dash",
          "width": 4
         },
         "mode": "lines+markers",
         "name": "Sevir.5G036550",
         "type": "scatter",
         "uid": "f7a6af8e-3633-11ea-9c5e-79fdfc20b759",
         "x": [
          "HappyLeaf_Purdue_L",
          "HappyLeaf_APL_L",
          "HappyLeaf_UMN_L",
          "HappyLeaf_Cornell_L",
          "HappyLeaf_BTI_L"
         ],
         "y": [
          0.5,
          0,
          0,
          0,
          0.125
         ]
        },
        {
         "line": {
          "color": "#5be4f0",
          "dash": "solid",
          "width": 4
         },
         "mode": "lines+markers",
         "name": "Sevir.7G279700",
         "type": "scatter",
         "uid": "f7a6b06a-3633-11ea-9c5e-79fdfc20b759",
         "x": [
          "HappyLeaf_Purdue_L",
          "HappyLeaf_APL_L",
          "HappyLeaf_UMN_L",
          "HappyLeaf_Cornell_L",
          "HappyLeaf_BTI_L"
         ],
         "y": [
          0.25,
          0.16666666666666666,
          0,
          0,
          0.125
         ]
        },
        {
         "line": {
          "color": "#57c4d8",
          "dash": "dot",
          "width": 4
         },
         "mode": "lines+markers",
         "name": "Sevir.8G068450",
         "type": "scatter",
         "uid": "f7a6b146-3633-11ea-9c5e-79fdfc20b759",
         "x": [
          "HappyLeaf_Purdue_L",
          "HappyLeaf_APL_L",
          "HappyLeaf_UMN_L",
          "HappyLeaf_Cornell_L",
          "HappyLeaf_BTI_L"
         ],
         "y": [
          0,
          0,
          0,
          0,
          0
         ]
        },
        {
         "line": {
          "color": "#a4d17a",
          "dash": "dash",
          "width": 4
         },
         "mode": "lines+markers",
         "name": "Sevir.9G576750",
         "type": "scatter",
         "uid": "f7a6b222-3633-11ea-9c5e-79fdfc20b759",
         "x": [
          "HappyLeaf_Purdue_L",
          "HappyLeaf_APL_L",
          "HappyLeaf_UMN_L",
          "HappyLeaf_Cornell_L",
          "HappyLeaf_BTI_L"
         ],
         "y": [
          0.25,
          1,
          0.375,
          0.25,
          0.375
         ]
        },
        {
         "line": {
          "color": "#225b8e",
          "dash": "solid",
          "width": 4
         },
         "mode": "lines+markers",
         "name": "Sevir.9G248533",
         "type": "scatter",
         "uid": "f7a6b308-3633-11ea-9c5e-79fdfc20b759",
         "x": [
          "HappyLeaf_Purdue_L",
          "HappyLeaf_APL_L",
          "HappyLeaf_UMN_L",
          "HappyLeaf_Cornell_L",
          "HappyLeaf_BTI_L"
         ],
         "y": [
          0.76960625,
          1.6666666666666667,
          0.625,
          1.00358375,
          0.75
         ]
        },
        {
         "line": {
          "color": "#be608b",
          "dash": "dot",
          "width": 4
         },
         "mode": "lines+markers",
         "name": "Sevir.1G379100",
         "type": "scatter",
         "uid": "f7a6b3e4-3633-11ea-9c5e-79fdfc20b759",
         "x": [
          "HappyLeaf_Purdue_L",
          "HappyLeaf_APL_L",
          "HappyLeaf_UMN_L",
          "HappyLeaf_Cornell_L",
          "HappyLeaf_BTI_L"
         ],
         "y": [
          2.93425125,
          2.535571666666667,
          1.867565,
          2.6472937500000002,
          2.3015749999999997
         ]
        },
        {
         "line": {
          "color": "#96b00c",
          "dash": "dash",
          "width": 4
         },
         "mode": "lines+markers",
         "name": "Sevir.8G222414",
         "type": "scatter",
         "uid": "f7a6b4c0-3633-11ea-9c5e-79fdfc20b759",
         "x": [
          "HappyLeaf_Purdue_L",
          "HappyLeaf_APL_L",
          "HappyLeaf_UMN_L",
          "HappyLeaf_Cornell_L",
          "HappyLeaf_BTI_L"
         ],
         "y": [
          0.125,
          1.2550116666666666,
          0.5,
          0.375,
          0.125
         ]
        },
        {
         "line": {
          "color": "#088baf",
          "dash": "solid",
          "width": 4
         },
         "mode": "lines+markers",
         "name": "Sevir.6G039200",
         "type": "scatter",
         "uid": "f7a6b59c-3633-11ea-9c5e-79fdfc20b759",
         "x": [
          "HappyLeaf_Purdue_L",
          "HappyLeaf_APL_L",
          "HappyLeaf_UMN_L",
          "HappyLeaf_Cornell_L",
          "HappyLeaf_BTI_L"
         ],
         "y": [
          1.27600375,
          1.467155,
          1.44987875,
          1.62424375,
          5.36894125
         ]
        },
        {
         "line": {
          "color": "#f158bf",
          "dash": "dot",
          "width": 4
         },
         "mode": "lines+markers",
         "name": "Sevir.6G075100",
         "type": "scatter",
         "uid": "f7a6b682-3633-11ea-9c5e-79fdfc20b759",
         "x": [
          "HappyLeaf_Purdue_L",
          "HappyLeaf_APL_L",
          "HappyLeaf_UMN_L",
          "HappyLeaf_Cornell_L",
          "HappyLeaf_BTI_L"
         ],
         "y": [
          0,
          0.16666666666666666,
          0,
          0,
          0.125
         ]
        },
        {
         "line": {
          "color": "#e145ba",
          "dash": "dash",
          "width": 4
         },
         "mode": "lines+markers",
         "name": "Sevir.3G331800",
         "type": "scatter",
         "uid": "f7a6b75e-3633-11ea-9c5e-79fdfc20b759",
         "x": [
          "HappyLeaf_Purdue_L",
          "HappyLeaf_APL_L",
          "HappyLeaf_UMN_L",
          "HappyLeaf_Cornell_L",
          "HappyLeaf_BTI_L"
         ],
         "y": [
          0,
          0,
          0.25,
          0.125,
          0.625
         ]
        },
        {
         "line": {
          "color": "#ee91e3",
          "dash": "solid",
          "width": 4
         },
         "mode": "lines+markers",
         "name": "Sevir.4G164200",
         "type": "scatter",
         "uid": "f7a6b83a-3633-11ea-9c5e-79fdfc20b759",
         "x": [
          "HappyLeaf_Purdue_L",
          "HappyLeaf_APL_L",
          "HappyLeaf_UMN_L",
          "HappyLeaf_Cornell_L",
          "HappyLeaf_BTI_L"
         ],
         "y": [
          0,
          0,
          0,
          0,
          0.125
         ]
        },
        {
         "line": {
          "color": "#05d371",
          "dash": "dot",
          "width": 4
         },
         "mode": "lines+markers",
         "name": "Sevir.9G347733",
         "type": "scatter",
         "uid": "f7a6b920-3633-11ea-9c5e-79fdfc20b759",
         "x": [
          "HappyLeaf_Purdue_L",
          "HappyLeaf_APL_L",
          "HappyLeaf_UMN_L",
          "HappyLeaf_Cornell_L",
          "HappyLeaf_BTI_L"
         ],
         "y": [
          1.5,
          0.8333333333333334,
          1.5,
          1.125,
          0.25
         ]
        },
        {
         "line": {
          "color": "#5426e0",
          "dash": "dash",
          "width": 4
         },
         "mode": "lines+markers",
         "name": "Sevir.2G396750",
         "type": "scatter",
         "uid": "f7a6b9fc-3633-11ea-9c5e-79fdfc20b759",
         "x": [
          "HappyLeaf_Purdue_L",
          "HappyLeaf_APL_L",
          "HappyLeaf_UMN_L",
          "HappyLeaf_Cornell_L",
          "HappyLeaf_BTI_L"
         ],
         "y": [
          0,
          0,
          0.25,
          0.125,
          0.25
         ]
        },
        {
         "line": {
          "color": "#4834d0",
          "dash": "solid",
          "width": 4
         },
         "mode": "lines+markers",
         "name": "Sevir.3G116100",
         "type": "scatter",
         "uid": "f7a6bae2-3633-11ea-9c5e-79fdfc20b759",
         "x": [
          "HappyLeaf_Purdue_L",
          "HappyLeaf_APL_L",
          "HappyLeaf_UMN_L",
          "HappyLeaf_Cornell_L",
          "HappyLeaf_BTI_L"
         ],
         "y": [
          0,
          0.8333333333333334,
          0.375,
          0,
          0.25
         ]
        },
        {
         "line": {
          "color": "#802234",
          "dash": "dot",
          "width": 4
         },
         "mode": "lines+markers",
         "name": "Sevir.7G061100",
         "type": "scatter",
         "uid": "f7a6bbbe-3633-11ea-9c5e-79fdfc20b759",
         "x": [
          "HappyLeaf_Purdue_L",
          "HappyLeaf_APL_L",
          "HappyLeaf_UMN_L",
          "HappyLeaf_Cornell_L",
          "HappyLeaf_BTI_L"
         ],
         "y": [
          0,
          0,
          0,
          0,
          0
         ]
        },
        {
         "line": {
          "color": "#6749e8",
          "dash": "dash",
          "width": 4
         },
         "mode": "lines+markers",
         "name": "Sevir.2G307100",
         "type": "scatter",
         "uid": "f7a6bd30-3633-11ea-9c5e-79fdfc20b759",
         "x": [
          "HappyLeaf_Purdue_L",
          "HappyLeaf_APL_L",
          "HappyLeaf_UMN_L",
          "HappyLeaf_Cornell_L",
          "HappyLeaf_BTI_L"
         ],
         "y": [
          0.125,
          0,
          0,
          0,
          0.125
         ]
        },
        {
         "line": {
          "color": "#0971f0",
          "dash": "solid",
          "width": 4
         },
         "mode": "lines+markers",
         "name": "Sevir.5G087400",
         "type": "scatter",
         "uid": "f7a6be16-3633-11ea-9c5e-79fdfc20b759",
         "x": [
          "HappyLeaf_Purdue_L",
          "HappyLeaf_APL_L",
          "HappyLeaf_UMN_L",
          "HappyLeaf_Cornell_L",
          "HappyLeaf_BTI_L"
         ],
         "y": [
          0,
          0,
          0.5,
          0,
          1
         ]
        },
        {
         "line": {
          "color": "#8fb413",
          "dash": "dot",
          "width": 4
         },
         "mode": "lines+markers",
         "name": "Sevir.7G005300",
         "type": "scatter",
         "uid": "f7a6bef2-3633-11ea-9c5e-79fdfc20b759",
         "x": [
          "HappyLeaf_Purdue_L",
          "HappyLeaf_APL_L",
          "HappyLeaf_UMN_L",
          "HappyLeaf_Cornell_L",
          "HappyLeaf_BTI_L"
         ],
         "y": [
          0,
          0.5,
          0,
          0,
          0.625
         ]
        },
        {
         "line": {
          "color": "#b2b4f0",
          "dash": "dash",
          "width": 4
         },
         "mode": "lines+markers",
         "name": "Sevir.2G026100",
         "type": "scatter",
         "uid": "f7a6bfc4-3633-11ea-9c5e-79fdfc20b759",
         "x": [
          "HappyLeaf_Purdue_L",
          "HappyLeaf_APL_L",
          "HappyLeaf_UMN_L",
          "HappyLeaf_Cornell_L",
          "HappyLeaf_BTI_L"
         ],
         "y": [
          0.125,
          0,
          0.625,
          0,
          0.25
         ]
        },
        {
         "line": {
          "color": "#c3c89d",
          "dash": "solid",
          "width": 4
         },
         "mode": "lines+markers",
         "name": "Sevir.9G072900",
         "type": "scatter",
         "uid": "f7a6c096-3633-11ea-9c5e-79fdfc20b759",
         "x": [
          "HappyLeaf_Purdue_L",
          "HappyLeaf_APL_L",
          "HappyLeaf_UMN_L",
          "HappyLeaf_Cornell_L",
          "HappyLeaf_BTI_L"
         ],
         "y": [
          0.125,
          0.8333333333333334,
          0.125,
          0.125,
          0.125
         ]
        }
       ],
       "layout": {
        "dragmode": "select",
        "plot_bgcolor": "white",
        "title": "Average Gene Expression - Happy Plants",
        "xaxis": {
         "gridcolor": "whitesmoke",
         "showgrid": true,
         "title": "Experimental Conditions"
        },
        "yaxis": {
         "gridcolor": "whitesmoke",
         "showgrid": true,
         "title": "Expression"
        }
       }
      },
      "text/html": [
       "<div id=\"cd894c36-2be1-4362-bee1-79db1bdce3a6\" style=\"height: 525px; width: 100%;\" class=\"plotly-graph-div\"></div><script type=\"text/javascript\">require([\"plotly\"], function(Plotly) { window.PLOTLYENV=window.PLOTLYENV || {};window.PLOTLYENV.BASE_URL=\"https://plot.ly\";Plotly.newPlot(\"cd894c36-2be1-4362-bee1-79db1bdce3a6\", [{\"line\": {\"color\": \"#ce7d78\", \"dash\": \"dot\", \"width\": 4}, \"mode\": \"lines+markers\", \"name\": \"Sevir.9G282425\", \"x\": [\"HappyLeaf_Purdue_L\", \"HappyLeaf_APL_L\", \"HappyLeaf_UMN_L\", \"HappyLeaf_Cornell_L\", \"HappyLeaf_BTI_L\"], \"y\": [0.25, 0.3333333333333333, 0.375, 0.0, 0.25], \"type\": \"scatter\", \"uid\": \"f7f02bbe-3633-11ea-9c5e-79fdfc20b759\"}, {\"line\": {\"color\": \"#ea9e70\", \"dash\": \"dash\", \"width\": 4}, \"mode\": \"lines+markers\", \"name\": \"Sevir.7G018910\", \"x\": [\"HappyLeaf_Purdue_L\", \"HappyLeaf_APL_L\", \"HappyLeaf_UMN_L\", \"HappyLeaf_Cornell_L\", \"HappyLeaf_BTI_L\"], \"y\": [0.125, 0.06476833333333333, 0.0, 0.125, 0.25], \"type\": \"scatter\", \"uid\": \"f7f02e20-3633-11ea-9c5e-79fdfc20b759\"}, {\"line\": {\"color\": \"#a48a9e\", \"dash\": \"solid\", \"width\": 4}, \"mode\": \"lines+markers\", \"name\": \"Sevir.5G044500\", \"x\": [\"HappyLeaf_Purdue_L\", \"HappyLeaf_APL_L\", \"HappyLeaf_UMN_L\", \"HappyLeaf_Cornell_L\", \"HappyLeaf_BTI_L\"], \"y\": [0.125, 0.0, 0.0, 0.0, 0.0], \"type\": \"scatter\", \"uid\": \"f7f02f56-3633-11ea-9c5e-79fdfc20b759\"}, {\"line\": {\"color\": \"#c6e1e8\", \"dash\": \"dot\", \"width\": 4}, \"mode\": \"lines+markers\", \"name\": \"Sevir.2G127900\", \"x\": [\"HappyLeaf_Purdue_L\", \"HappyLeaf_APL_L\", \"HappyLeaf_UMN_L\", \"HappyLeaf_Cornell_L\", \"HappyLeaf_BTI_L\"], \"y\": [1.25, 0.0, 0.5, 0.625, 0.125], \"type\": \"scatter\", \"uid\": \"f7f03064-3633-11ea-9c5e-79fdfc20b759\"}, {\"line\": {\"color\": \"#648177\", \"dash\": \"dash\", \"width\": 4}, \"mode\": \"lines+markers\", \"name\": \"Sevir.5G129000\", \"x\": [\"HappyLeaf_Purdue_L\", \"HappyLeaf_APL_L\", \"HappyLeaf_UMN_L\", \"HappyLeaf_Cornell_L\", \"HappyLeaf_BTI_L\"], \"y\": [0.76841875, 4.05706, 0.27578875, 0.8300075, 2.16982], \"type\": \"scatter\", \"uid\": \"f7f0315e-3633-11ea-9c5e-79fdfc20b759\"}, {\"line\": {\"color\": \"#0d5ac1\", \"dash\": \"solid\", \"width\": 4}, \"mode\": \"lines+markers\", \"name\": \"Sevir.2G354400\", \"x\": [\"HappyLeaf_Purdue_L\", \"HappyLeaf_APL_L\", \"HappyLeaf_UMN_L\", \"HappyLeaf_Cornell_L\", \"HappyLeaf_BTI_L\"], \"y\": [0.0, 0.16666666666666666, 0.125, 0.0, 0.0], \"type\": \"scatter\", \"uid\": \"f7f03244-3633-11ea-9c5e-79fdfc20b759\"}, {\"line\": {\"color\": \"#f205e6\", \"dash\": \"dot\", \"width\": 4}, \"mode\": \"lines+markers\", \"name\": \"Sevir.2G152600\", \"x\": [\"HappyLeaf_Purdue_L\", \"HappyLeaf_APL_L\", \"HappyLeaf_UMN_L\", \"HappyLeaf_Cornell_L\", \"HappyLeaf_BTI_L\"], \"y\": [0.0, 0.0, 0.125, 0.0, 0.08326575], \"type\": \"scatter\", \"uid\": \"f7f03334-3633-11ea-9c5e-79fdfc20b759\"}, {\"line\": {\"color\": \"#1c0365\", \"dash\": \"dash\", \"width\": 4}, \"mode\": \"lines+markers\", \"name\": \"Sevir.7G023700\", \"x\": [\"HappyLeaf_Purdue_L\", \"HappyLeaf_APL_L\", \"HappyLeaf_UMN_L\", \"HappyLeaf_Cornell_L\", \"HappyLeaf_BTI_L\"], \"y\": [0.25, 1.0, 0.0, 0.2928095, 0.51405375], \"type\": \"scatter\", \"uid\": \"f7f0341a-3633-11ea-9c5e-79fdfc20b759\"}, {\"line\": {\"color\": \"#14a9ad\", \"dash\": \"solid\", \"width\": 4}, \"mode\": \"lines+markers\", \"name\": \"Sevir.4G118900\", \"x\": [\"HappyLeaf_Purdue_L\", \"HappyLeaf_APL_L\", \"HappyLeaf_UMN_L\", \"HappyLeaf_Cornell_L\", \"HappyLeaf_BTI_L\"], \"y\": [0.375, 1.0, 0.125, 0.125, 1.0], \"type\": \"scatter\", \"uid\": \"f7f0350a-3633-11ea-9c5e-79fdfc20b759\"}, {\"line\": {\"color\": \"#4ca2f9\", \"dash\": \"dot\", \"width\": 4}, \"mode\": \"lines+markers\", \"name\": \"Sevir.8G081600\", \"x\": [\"HappyLeaf_Purdue_L\", \"HappyLeaf_APL_L\", \"HappyLeaf_UMN_L\", \"HappyLeaf_Cornell_L\", \"HappyLeaf_BTI_L\"], \"y\": [0.124932375, 0.0, 0.0, 0.0, 0.99915875], \"type\": \"scatter\", \"uid\": \"f7f035f0-3633-11ea-9c5e-79fdfc20b759\"}, {\"line\": {\"color\": \"#a4e43f\", \"dash\": \"dash\", \"width\": 4}, \"mode\": \"lines+markers\", \"name\": \"Sevir.5G364132\", \"x\": [\"HappyLeaf_Purdue_L\", \"HappyLeaf_APL_L\", \"HappyLeaf_UMN_L\", \"HappyLeaf_Cornell_L\", \"HappyLeaf_BTI_L\"], \"y\": [0.125, 0.37114166666666665, 0.25, 0.0, 0.185031625], \"type\": \"scatter\", \"uid\": \"f7f036d6-3633-11ea-9c5e-79fdfc20b759\"}, {\"line\": {\"color\": \"#d298e2\", \"dash\": \"solid\", \"width\": 4}, \"mode\": \"lines+markers\", \"name\": \"Sevir.4G263301\", \"x\": [\"HappyLeaf_Purdue_L\", \"HappyLeaf_APL_L\", \"HappyLeaf_UMN_L\", \"HappyLeaf_Cornell_L\", \"HappyLeaf_BTI_L\"], \"y\": [0.0, 0.0, 0.0, 0.0, 0.375], \"type\": \"scatter\", \"uid\": \"f7f037c6-3633-11ea-9c5e-79fdfc20b759\"}, {\"line\": {\"color\": \"#6119d0\", \"dash\": \"dot\", \"width\": 4}, \"mode\": \"lines+markers\", \"name\": \"Sevir.9G099466\", \"x\": [\"HappyLeaf_Purdue_L\", \"HappyLeaf_APL_L\", \"HappyLeaf_UMN_L\", \"HappyLeaf_Cornell_L\", \"HappyLeaf_BTI_L\"], \"y\": [0.0, 0.0, 0.125, 0.25, 0.375], \"type\": \"scatter\", \"uid\": \"f7f038ac-3633-11ea-9c5e-79fdfc20b759\"}, {\"line\": {\"color\": \"#d2737d\", \"dash\": \"dash\", \"width\": 4}, \"mode\": \"lines+markers\", \"name\": \"Sevir.9G078500\", \"x\": [\"HappyLeaf_Purdue_L\", \"HappyLeaf_APL_L\", \"HappyLeaf_UMN_L\", \"HappyLeaf_Cornell_L\", \"HappyLeaf_BTI_L\"], \"y\": [0.0, 0.3333333333333333, 0.0, 0.375, 0.125], \"type\": \"scatter\", \"uid\": \"f7f03988-3633-11ea-9c5e-79fdfc20b759\"}, {\"line\": {\"color\": \"#c0a43c\", \"dash\": \"solid\", \"width\": 4}, \"mode\": \"lines+markers\", \"name\": \"Sevir.2G263800\", \"x\": [\"HappyLeaf_Purdue_L\", \"HappyLeaf_APL_L\", \"HappyLeaf_UMN_L\", \"HappyLeaf_Cornell_L\", \"HappyLeaf_BTI_L\"], \"y\": [0.0, 0.0, 0.0, 0.0, 0.0], \"type\": \"scatter\", \"uid\": \"f7f03a6e-3633-11ea-9c5e-79fdfc20b759\"}, {\"line\": {\"color\": \"#f2510e\", \"dash\": \"dot\", \"width\": 4}, \"mode\": \"lines+markers\", \"name\": \"Sevir.8G218520\", \"x\": [\"HappyLeaf_Purdue_L\", \"HappyLeaf_APL_L\", \"HappyLeaf_UMN_L\", \"HappyLeaf_Cornell_L\", \"HappyLeaf_BTI_L\"], \"y\": [0.0, 0.0, 0.0, 0.125, 0.0], \"type\": \"scatter\", \"uid\": \"f7f03b54-3633-11ea-9c5e-79fdfc20b759\"}, {\"line\": {\"color\": \"#651be6\", \"dash\": \"dash\", \"width\": 4}, \"mode\": \"lines+markers\", \"name\": \"Sevir.3G390900\", \"x\": [\"HappyLeaf_Purdue_L\", \"HappyLeaf_APL_L\", \"HappyLeaf_UMN_L\", \"HappyLeaf_Cornell_L\", \"HappyLeaf_BTI_L\"], \"y\": [0.0, 0.16666666666666666, 0.0, 0.0, 0.0], \"type\": \"scatter\", \"uid\": \"f7f03c44-3633-11ea-9c5e-79fdfc20b759\"}, {\"line\": {\"color\": \"#79806e\", \"dash\": \"solid\", \"width\": 4}, \"mode\": \"lines+markers\", \"name\": \"Sevir.9G165400\", \"x\": [\"HappyLeaf_Purdue_L\", \"HappyLeaf_APL_L\", \"HappyLeaf_UMN_L\", \"HappyLeaf_Cornell_L\", \"HappyLeaf_BTI_L\"], \"y\": [0.0, 0.16666666666666666, 0.125, 0.0, 0.827285], \"type\": \"scatter\", \"uid\": \"f7f03d20-3633-11ea-9c5e-79fdfc20b759\"}, {\"line\": {\"color\": \"#61da5e\", \"dash\": \"dot\", \"width\": 4}, \"mode\": \"lines+markers\", \"name\": \"Sevir.8G245140\", \"x\": [\"HappyLeaf_Purdue_L\", \"HappyLeaf_APL_L\", \"HappyLeaf_UMN_L\", \"HappyLeaf_Cornell_L\", \"HappyLeaf_BTI_L\"], \"y\": [0.125, 0.0, 0.125, 0.125, 0.375], \"type\": \"scatter\", \"uid\": \"f7f03e06-3633-11ea-9c5e-79fdfc20b759\"}, {\"line\": {\"color\": \"#cd2f00\", \"dash\": \"dash\", \"width\": 4}, \"mode\": \"lines+markers\", \"name\": \"Sevir.8G087000\", \"x\": [\"HappyLeaf_Purdue_L\", \"HappyLeaf_APL_L\", \"HappyLeaf_UMN_L\", \"HappyLeaf_Cornell_L\", \"HappyLeaf_BTI_L\"], \"y\": [0.0, 0.0, 0.0, 0.0, 0.0], \"type\": \"scatter\", \"uid\": \"f7f03eec-3633-11ea-9c5e-79fdfc20b759\"}, {\"line\": {\"color\": \"#9348af\", \"dash\": \"solid\", \"width\": 4}, \"mode\": \"lines+markers\", \"name\": \"Sevir.9G576201\", \"x\": [\"HappyLeaf_Purdue_L\", \"HappyLeaf_APL_L\", \"HappyLeaf_UMN_L\", \"HappyLeaf_Cornell_L\", \"HappyLeaf_BTI_L\"], \"y\": [0.0, 0.16666666666666666, 0.0, 0.0, 0.0], \"type\": \"scatter\", \"uid\": \"f7f03fc8-3633-11ea-9c5e-79fdfc20b759\"}, {\"line\": {\"color\": \"#01ac53\", \"dash\": \"dot\", \"width\": 4}, \"mode\": \"lines+markers\", \"name\": \"Sevir.5G470750\", \"x\": [\"HappyLeaf_Purdue_L\", \"HappyLeaf_APL_L\", \"HappyLeaf_UMN_L\", \"HappyLeaf_Cornell_L\", \"HappyLeaf_BTI_L\"], \"y\": [0.375, 1.0033283333333334, 0.75, 0.125, 0.5], \"type\": \"scatter\", \"uid\": \"f7f040b8-3633-11ea-9c5e-79fdfc20b759\"}, {\"line\": {\"color\": \"#c5a4fb\", \"dash\": \"dash\", \"width\": 4}, \"mode\": \"lines+markers\", \"name\": \"Sevir.1G060850\", \"x\": [\"HappyLeaf_Purdue_L\", \"HappyLeaf_APL_L\", \"HappyLeaf_UMN_L\", \"HappyLeaf_Cornell_L\", \"HappyLeaf_BTI_L\"], \"y\": [0.0, 0.0, 0.0, 0.0, 0.0], \"type\": \"scatter\", \"uid\": \"f7f0419e-3633-11ea-9c5e-79fdfc20b759\"}, {\"line\": {\"color\": \"#996635\", \"dash\": \"solid\", \"width\": 4}, \"mode\": \"lines+markers\", \"name\": \"Sevir.2G280500\", \"x\": [\"HappyLeaf_Purdue_L\", \"HappyLeaf_APL_L\", \"HappyLeaf_UMN_L\", \"HappyLeaf_Cornell_L\", \"HappyLeaf_BTI_L\"], \"y\": [0.019813, 0.16666666666666666, 0.0, 0.0, 0.040850375], \"type\": \"scatter\", \"uid\": \"f7f0428e-3633-11ea-9c5e-79fdfc20b759\"}, {\"line\": {\"color\": \"#b11573\", \"dash\": \"dot\", \"width\": 4}, \"mode\": \"lines+markers\", \"name\": \"Sevir.9G268200\", \"x\": [\"HappyLeaf_Purdue_L\", \"HappyLeaf_APL_L\", \"HappyLeaf_UMN_L\", \"HappyLeaf_Cornell_L\", \"HappyLeaf_BTI_L\"], \"y\": [0.5, 0.16666666666666666, 0.625, 0.125, 0.5], \"type\": \"scatter\", \"uid\": \"f7f0437e-3633-11ea-9c5e-79fdfc20b759\"}, {\"line\": {\"color\": \"#4bb473\", \"dash\": \"dash\", \"width\": 4}, \"mode\": \"lines+markers\", \"name\": \"Sevir.4G143101\", \"x\": [\"HappyLeaf_Purdue_L\", \"HappyLeaf_APL_L\", \"HappyLeaf_UMN_L\", \"HappyLeaf_Cornell_L\", \"HappyLeaf_BTI_L\"], \"y\": [0.125, 0.0, 0.0, 0.0, 0.125], \"type\": \"scatter\", \"uid\": \"f7f0445a-3633-11ea-9c5e-79fdfc20b759\"}, {\"line\": {\"color\": \"#75d89e\", \"dash\": \"solid\", \"width\": 4}, \"mode\": \"lines+markers\", \"name\": \"Sevir.2G342800\", \"x\": [\"HappyLeaf_Purdue_L\", \"HappyLeaf_APL_L\", \"HappyLeaf_UMN_L\", \"HappyLeaf_Cornell_L\", \"HappyLeaf_BTI_L\"], \"y\": [0.0, 0.0, 0.0, 0.0, 0.0], \"type\": \"scatter\", \"uid\": \"f7f04540-3633-11ea-9c5e-79fdfc20b759\"}, {\"line\": {\"color\": \"#2f3f94\", \"dash\": \"dot\", \"width\": 4}, \"mode\": \"lines+markers\", \"name\": \"Sevir.1G019900\", \"x\": [\"HappyLeaf_Purdue_L\", \"HappyLeaf_APL_L\", \"HappyLeaf_UMN_L\", \"HappyLeaf_Cornell_L\", \"HappyLeaf_BTI_L\"], \"y\": [0.125, 0.16666666666666666, 0.25, 0.0, 0.0], \"type\": \"scatter\", \"uid\": \"f7f04630-3633-11ea-9c5e-79fdfc20b759\"}, {\"line\": {\"color\": \"#2f7b99\", \"dash\": \"dash\", \"width\": 4}, \"mode\": \"lines+markers\", \"name\": \"Sevir.3G353500\", \"x\": [\"HappyLeaf_Purdue_L\", \"HappyLeaf_APL_L\", \"HappyLeaf_UMN_L\", \"HappyLeaf_Cornell_L\", \"HappyLeaf_BTI_L\"], \"y\": [0.0, 0.0, 0.0, 0.0, 0.0], \"type\": \"scatter\", \"uid\": \"f7f04716-3633-11ea-9c5e-79fdfc20b759\"}, {\"line\": {\"color\": \"#da967d\", \"dash\": \"solid\", \"width\": 4}, \"mode\": \"lines+markers\", \"name\": \"Sevir.7G189700\", \"x\": [\"HappyLeaf_Purdue_L\", \"HappyLeaf_APL_L\", \"HappyLeaf_UMN_L\", \"HappyLeaf_Cornell_L\", \"HappyLeaf_BTI_L\"], \"y\": [0.0, 0.0, 0.0, 0.0, 0.0], \"type\": \"scatter\", \"uid\": \"f7f04892-3633-11ea-9c5e-79fdfc20b759\"}, {\"line\": {\"color\": \"#34891f\", \"dash\": \"dot\", \"width\": 4}, \"mode\": \"lines+markers\", \"name\": \"Sevir.4G118600\", \"x\": [\"HappyLeaf_Purdue_L\", \"HappyLeaf_APL_L\", \"HappyLeaf_UMN_L\", \"HappyLeaf_Cornell_L\", \"HappyLeaf_BTI_L\"], \"y\": [0.0, 0.0, 0.0, 0.375, 0.125], \"type\": \"scatter\", \"uid\": \"f7f049a0-3633-11ea-9c5e-79fdfc20b759\"}, {\"line\": {\"color\": \"#b0d87b\", \"dash\": \"dash\", \"width\": 4}, \"mode\": \"lines+markers\", \"name\": \"Sevir.5G315900\", \"x\": [\"HappyLeaf_Purdue_L\", \"HappyLeaf_APL_L\", \"HappyLeaf_UMN_L\", \"HappyLeaf_Cornell_L\", \"HappyLeaf_BTI_L\"], \"y\": [0.0, 0.0, 0.0, 0.0, 0.0], \"type\": \"scatter\", \"uid\": \"f7f04a86-3633-11ea-9c5e-79fdfc20b759\"}, {\"line\": {\"color\": \"#ca4751\", \"dash\": \"solid\", \"width\": 4}, \"mode\": \"lines+markers\", \"name\": \"Sevir.1G110232\", \"x\": [\"HappyLeaf_Purdue_L\", \"HappyLeaf_APL_L\", \"HappyLeaf_UMN_L\", \"HappyLeaf_Cornell_L\", \"HappyLeaf_BTI_L\"], \"y\": [0.0, 0.3333333333333333, 0.0, 0.0, 0.0], \"type\": \"scatter\", \"uid\": \"f7f04b6c-3633-11ea-9c5e-79fdfc20b759\"}, {\"line\": {\"color\": \"#7e50a8\", \"dash\": \"dot\", \"width\": 4}, \"mode\": \"lines+markers\", \"name\": \"Sevir.5G206100\", \"x\": [\"HappyLeaf_Purdue_L\", \"HappyLeaf_APL_L\", \"HappyLeaf_UMN_L\", \"HappyLeaf_Cornell_L\", \"HappyLeaf_BTI_L\"], \"y\": [0.0, 0.0, 0.0, 0.0, 0.0], \"type\": \"scatter\", \"uid\": \"f7f04c52-3633-11ea-9c5e-79fdfc20b759\"}, {\"line\": {\"color\": \"#c4d647\", \"dash\": \"dash\", \"width\": 4}, \"mode\": \"lines+markers\", \"name\": \"Sevir.3G353200\", \"x\": [\"HappyLeaf_Purdue_L\", \"HappyLeaf_APL_L\", \"HappyLeaf_UMN_L\", \"HappyLeaf_Cornell_L\", \"HappyLeaf_BTI_L\"], \"y\": [0.125, 0.16666666666666666, 0.125, 0.0, 0.5], \"type\": \"scatter\", \"uid\": \"f7f04d2e-3633-11ea-9c5e-79fdfc20b759\"}, {\"line\": {\"color\": \"#e0eeb8\", \"dash\": \"solid\", \"width\": 4}, \"mode\": \"lines+markers\", \"name\": \"Sevir.4G093300\", \"x\": [\"HappyLeaf_Purdue_L\", \"HappyLeaf_APL_L\", \"HappyLeaf_UMN_L\", \"HappyLeaf_Cornell_L\", \"HappyLeaf_BTI_L\"], \"y\": [0.375, 1.1666666666666667, 0.5, 0.375, 2.0], \"type\": \"scatter\", \"uid\": \"f7f04e14-3633-11ea-9c5e-79fdfc20b759\"}, {\"line\": {\"color\": \"#11dec1\", \"dash\": \"dot\", \"width\": 4}, \"mode\": \"lines+markers\", \"name\": \"Sevir.1G171100\", \"x\": [\"HappyLeaf_Purdue_L\", \"HappyLeaf_APL_L\", \"HappyLeaf_UMN_L\", \"HappyLeaf_Cornell_L\", \"HappyLeaf_BTI_L\"], \"y\": [0.0, 0.16666666666666666, 0.0, 0.0, 0.6470975], \"type\": \"scatter\", \"uid\": \"f7f04efa-3633-11ea-9c5e-79fdfc20b759\"}, {\"line\": {\"color\": \"#289812\", \"dash\": \"dash\", \"width\": 4}, \"mode\": \"lines+markers\", \"name\": \"Sevir.2G305750\", \"x\": [\"HappyLeaf_Purdue_L\", \"HappyLeaf_APL_L\", \"HappyLeaf_UMN_L\", \"HappyLeaf_Cornell_L\", \"HappyLeaf_BTI_L\"], \"y\": [1.021757625, 2.4069788333333335, 1.111612125, 0.17570425, 5.1662325000000004], \"type\": \"scatter\", \"uid\": \"f7f04fd6-3633-11ea-9c5e-79fdfc20b759\"}, {\"line\": {\"color\": \"#566ca0\", \"dash\": \"solid\", \"width\": 4}, \"mode\": \"lines+markers\", \"name\": \"Sevir.9G169700\", \"x\": [\"HappyLeaf_Purdue_L\", \"HappyLeaf_APL_L\", \"HappyLeaf_UMN_L\", \"HappyLeaf_Cornell_L\", \"HappyLeaf_BTI_L\"], \"y\": [0.0, 0.0, 0.0, 0.0, 0.0], \"type\": \"scatter\", \"uid\": \"f7f050bc-3633-11ea-9c5e-79fdfc20b759\"}, {\"line\": {\"color\": \"#ffdbe1\", \"dash\": \"dot\", \"width\": 4}, \"mode\": \"lines+markers\", \"name\": \"Sevir.1G020800\", \"x\": [\"HappyLeaf_Purdue_L\", \"HappyLeaf_APL_L\", \"HappyLeaf_UMN_L\", \"HappyLeaf_Cornell_L\", \"HappyLeaf_BTI_L\"], \"y\": [0.0, 0.16666666666666666, 0.0, 0.375, 0.5], \"type\": \"scatter\", \"uid\": \"f7f051e8-3633-11ea-9c5e-79fdfc20b759\"}, {\"line\": {\"color\": \"#2f1179\", \"dash\": \"dash\", \"width\": 4}, \"mode\": \"lines+markers\", \"name\": \"Sevir.5G194900\", \"x\": [\"HappyLeaf_Purdue_L\", \"HappyLeaf_APL_L\", \"HappyLeaf_UMN_L\", \"HappyLeaf_Cornell_L\", \"HappyLeaf_BTI_L\"], \"y\": [0.0, 0.0, 0.0, 0.0, 0.0], \"type\": \"scatter\", \"uid\": \"f7f052ce-3633-11ea-9c5e-79fdfc20b759\"}, {\"line\": {\"color\": \"#935b6d\", \"dash\": \"solid\", \"width\": 4}, \"mode\": \"lines+markers\", \"name\": \"Sevir.6G028050\", \"x\": [\"HappyLeaf_Purdue_L\", \"HappyLeaf_APL_L\", \"HappyLeaf_UMN_L\", \"HappyLeaf_Cornell_L\", \"HappyLeaf_BTI_L\"], \"y\": [0.0, 0.0, 0.125, 0.375, 0.125], \"type\": \"scatter\", \"uid\": \"f7f053b4-3633-11ea-9c5e-79fdfc20b759\"}, {\"line\": {\"color\": \"#916988\", \"dash\": \"dot\", \"width\": 4}, \"mode\": \"lines+markers\", \"name\": \"Sevir.2G003200\", \"x\": [\"HappyLeaf_Purdue_L\", \"HappyLeaf_APL_L\", \"HappyLeaf_UMN_L\", \"HappyLeaf_Cornell_L\", \"HappyLeaf_BTI_L\"], \"y\": [0.0, 0.16666666666666666, 0.25, 0.125, 0.0], \"type\": \"scatter\", \"uid\": \"f7f05490-3633-11ea-9c5e-79fdfc20b759\"}, {\"line\": {\"color\": \"#513d98\", \"dash\": \"dash\", \"width\": 4}, \"mode\": \"lines+markers\", \"name\": \"Sevir.8G079100\", \"x\": [\"HappyLeaf_Purdue_L\", \"HappyLeaf_APL_L\", \"HappyLeaf_UMN_L\", \"HappyLeaf_Cornell_L\", \"HappyLeaf_BTI_L\"], \"y\": [0.0, 0.0, 0.0, 0.0, 0.25], \"type\": \"scatter\", \"uid\": \"f7f05576-3633-11ea-9c5e-79fdfc20b759\"}, {\"line\": {\"color\": \"#aead3a\", \"dash\": \"solid\", \"width\": 4}, \"mode\": \"lines+markers\", \"name\": \"Sevir.4G293501\", \"x\": [\"HappyLeaf_Purdue_L\", \"HappyLeaf_APL_L\", \"HappyLeaf_UMN_L\", \"HappyLeaf_Cornell_L\", \"HappyLeaf_BTI_L\"], \"y\": [0.0, 0.0, 0.0, 0.0, 0.0], \"type\": \"scatter\", \"uid\": \"f7f0565c-3633-11ea-9c5e-79fdfc20b759\"}, {\"line\": {\"color\": \"#9e6d71\", \"dash\": \"dot\", \"width\": 4}, \"mode\": \"lines+markers\", \"name\": \"Sevir.7G022900\", \"x\": [\"HappyLeaf_Purdue_L\", \"HappyLeaf_APL_L\", \"HappyLeaf_UMN_L\", \"HappyLeaf_Cornell_L\", \"HappyLeaf_BTI_L\"], \"y\": [0.0, 0.0, 0.0, 0.0, 0.0], \"type\": \"scatter\", \"uid\": \"f7f05738-3633-11ea-9c5e-79fdfc20b759\"}, {\"line\": {\"color\": \"#4b5bdc\", \"dash\": \"dash\", \"width\": 4}, \"mode\": \"lines+markers\", \"name\": \"Sevir.8G165900\", \"x\": [\"HappyLeaf_Purdue_L\", \"HappyLeaf_APL_L\", \"HappyLeaf_UMN_L\", \"HappyLeaf_Cornell_L\", \"HappyLeaf_BTI_L\"], \"y\": [0.0, 0.0, 0.0, 0.0, 0.0], \"type\": \"scatter\", \"uid\": \"f7f05814-3633-11ea-9c5e-79fdfc20b759\"}, {\"line\": {\"color\": \"#0cd36d\", \"dash\": \"solid\", \"width\": 4}, \"mode\": \"lines+markers\", \"name\": \"Sevir.9G092300\", \"x\": [\"HappyLeaf_Purdue_L\", \"HappyLeaf_APL_L\", \"HappyLeaf_UMN_L\", \"HappyLeaf_Cornell_L\", \"HappyLeaf_BTI_L\"], \"y\": [0.0, 0.0, 0.0, 0.0, 0.0], \"type\": \"scatter\", \"uid\": \"f7f058fa-3633-11ea-9c5e-79fdfc20b759\"}, {\"line\": {\"color\": \"#250662\", \"dash\": \"dot\", \"width\": 4}, \"mode\": \"lines+markers\", \"name\": \"Sevir.6G113200\", \"x\": [\"HappyLeaf_Purdue_L\", \"HappyLeaf_APL_L\", \"HappyLeaf_UMN_L\", \"HappyLeaf_Cornell_L\", \"HappyLeaf_BTI_L\"], \"y\": [0.0, 0.0, 0.0, 0.0, 0.0], \"type\": \"scatter\", \"uid\": \"f7f059d6-3633-11ea-9c5e-79fdfc20b759\"}, {\"line\": {\"color\": \"#cb5bea\", \"dash\": \"dash\", \"width\": 4}, \"mode\": \"lines+markers\", \"name\": \"Sevir.4G160200\", \"x\": [\"HappyLeaf_Purdue_L\", \"HappyLeaf_APL_L\", \"HappyLeaf_UMN_L\", \"HappyLeaf_Cornell_L\", \"HappyLeaf_BTI_L\"], \"y\": [0.0, 0.0, 0.0, 0.0, 0.0], \"type\": \"scatter\", \"uid\": \"f7f05abc-3633-11ea-9c5e-79fdfc20b759\"}, {\"line\": {\"color\": \"#228916\", \"dash\": \"solid\", \"width\": 4}, \"mode\": \"lines+markers\", \"name\": \"Sevir.5G037400\", \"x\": [\"HappyLeaf_Purdue_L\", \"HappyLeaf_APL_L\", \"HappyLeaf_UMN_L\", \"HappyLeaf_Cornell_L\", \"HappyLeaf_BTI_L\"], \"y\": [0.0, 0.0, 0.0, 0.0, 0.0], \"type\": \"scatter\", \"uid\": \"f7f05ba2-3633-11ea-9c5e-79fdfc20b759\"}, {\"line\": {\"color\": \"#ac3e1b\", \"dash\": \"dot\", \"width\": 4}, \"mode\": \"lines+markers\", \"name\": \"Sevir.3G298200\", \"x\": [\"HappyLeaf_Purdue_L\", \"HappyLeaf_APL_L\", \"HappyLeaf_UMN_L\", \"HappyLeaf_Cornell_L\", \"HappyLeaf_BTI_L\"], \"y\": [0.0, 0.0, 0.0, 0.0, 0.375], \"type\": \"scatter\", \"uid\": \"f7f05c7e-3633-11ea-9c5e-79fdfc20b759\"}, {\"line\": {\"color\": \"#df514a\", \"dash\": \"dash\", \"width\": 4}, \"mode\": \"lines+markers\", \"name\": \"Sevir.2G437300\", \"x\": [\"HappyLeaf_Purdue_L\", \"HappyLeaf_APL_L\", \"HappyLeaf_UMN_L\", \"HappyLeaf_Cornell_L\", \"HappyLeaf_BTI_L\"], \"y\": [0.0, 0.0, 0.0, 0.0, 0.0], \"type\": \"scatter\", \"uid\": \"f7f05d64-3633-11ea-9c5e-79fdfc20b759\"}, {\"line\": {\"color\": \"#539397\", \"dash\": \"solid\", \"width\": 4}, \"mode\": \"lines+markers\", \"name\": \"Sevir.9G095700\", \"x\": [\"HappyLeaf_Purdue_L\", \"HappyLeaf_APL_L\", \"HappyLeaf_UMN_L\", \"HappyLeaf_Cornell_L\", \"HappyLeaf_BTI_L\"], \"y\": [0.1635225, 0.20075666666666667, 0.0, 0.3172625, 0.0], \"type\": \"scatter\", \"uid\": \"f7f05e4a-3633-11ea-9c5e-79fdfc20b759\"}, {\"line\": {\"color\": \"#880977\", \"dash\": \"dot\", \"width\": 4}, \"mode\": \"lines+markers\", \"name\": \"Sevir.1G265000\", \"x\": [\"HappyLeaf_Purdue_L\", \"HappyLeaf_APL_L\", \"HappyLeaf_UMN_L\", \"HappyLeaf_Cornell_L\", \"HappyLeaf_BTI_L\"], \"y\": [0.0, 0.0, 0.0, 0.0, 0.25], \"type\": \"scatter\", \"uid\": \"f7f05f30-3633-11ea-9c5e-79fdfc20b759\"}, {\"line\": {\"color\": \"#f697c1\", \"dash\": \"dash\", \"width\": 4}, \"mode\": \"lines+markers\", \"name\": \"Sevir.5G418900\", \"x\": [\"HappyLeaf_Purdue_L\", \"HappyLeaf_APL_L\", \"HappyLeaf_UMN_L\", \"HappyLeaf_Cornell_L\", \"HappyLeaf_BTI_L\"], \"y\": [0.0, 0.0, 0.0, 0.0, 0.125], \"type\": \"scatter\", \"uid\": \"f7f06016-3633-11ea-9c5e-79fdfc20b759\"}, {\"line\": {\"color\": \"#ba96ce\", \"dash\": \"solid\", \"width\": 4}, \"mode\": \"lines+markers\", \"name\": \"Sevir.8G237700\", \"x\": [\"HappyLeaf_Purdue_L\", \"HappyLeaf_APL_L\", \"HappyLeaf_UMN_L\", \"HappyLeaf_Cornell_L\", \"HappyLeaf_BTI_L\"], \"y\": [0.0, 0.0, 0.0, 0.0, 0.0], \"type\": \"scatter\", \"uid\": \"f7f060fc-3633-11ea-9c5e-79fdfc20b759\"}, {\"line\": {\"color\": \"#679c9d\", \"dash\": \"dot\", \"width\": 4}, \"mode\": \"lines+markers\", \"name\": \"Sevir.2G177600\", \"x\": [\"HappyLeaf_Purdue_L\", \"HappyLeaf_APL_L\", \"HappyLeaf_UMN_L\", \"HappyLeaf_Cornell_L\", \"HappyLeaf_BTI_L\"], \"y\": [0.0, 0.0, 0.0, 0.0, 0.0], \"type\": \"scatter\", \"uid\": \"f7f061d8-3633-11ea-9c5e-79fdfc20b759\"}, {\"line\": {\"color\": \"#c6c42c\", \"dash\": \"dash\", \"width\": 4}, \"mode\": \"lines+markers\", \"name\": \"Sevir.9G253801\", \"x\": [\"HappyLeaf_Purdue_L\", \"HappyLeaf_APL_L\", \"HappyLeaf_UMN_L\", \"HappyLeaf_Cornell_L\", \"HappyLeaf_BTI_L\"], \"y\": [0.125, 0.0, 0.5, 0.0, 0.5], \"type\": \"scatter\", \"uid\": \"f7f062be-3633-11ea-9c5e-79fdfc20b759\"}, {\"line\": {\"color\": \"#5d2c52\", \"dash\": \"solid\", \"width\": 4}, \"mode\": \"lines+markers\", \"name\": \"Sevir.6G183566\", \"x\": [\"HappyLeaf_Purdue_L\", \"HappyLeaf_APL_L\", \"HappyLeaf_UMN_L\", \"HappyLeaf_Cornell_L\", \"HappyLeaf_BTI_L\"], \"y\": [0.0, 0.16666666666666666, 0.0, 0.0, 0.0], \"type\": \"scatter\", \"uid\": \"f7f0639a-3633-11ea-9c5e-79fdfc20b759\"}, {\"line\": {\"color\": \"#48b41b\", \"dash\": \"dot\", \"width\": 4}, \"mode\": \"lines+markers\", \"name\": \"Sevir.8G259500\", \"x\": [\"HappyLeaf_Purdue_L\", \"HappyLeaf_APL_L\", \"HappyLeaf_UMN_L\", \"HappyLeaf_Cornell_L\", \"HappyLeaf_BTI_L\"], \"y\": [0.875, 1.6688516666666668, 0.75, 0.125, 1.44858625], \"type\": \"scatter\", \"uid\": \"f7f06476-3633-11ea-9c5e-79fdfc20b759\"}, {\"line\": {\"color\": \"#e1cf3b\", \"dash\": \"dash\", \"width\": 4}, \"mode\": \"lines+markers\", \"name\": \"Sevir.5G036550\", \"x\": [\"HappyLeaf_Purdue_L\", \"HappyLeaf_APL_L\", \"HappyLeaf_UMN_L\", \"HappyLeaf_Cornell_L\", \"HappyLeaf_BTI_L\"], \"y\": [0.5, 0.0, 0.0, 0.0, 0.125], \"type\": \"scatter\", \"uid\": \"f7f06552-3633-11ea-9c5e-79fdfc20b759\"}, {\"line\": {\"color\": \"#5be4f0\", \"dash\": \"solid\", \"width\": 4}, \"mode\": \"lines+markers\", \"name\": \"Sevir.7G279700\", \"x\": [\"HappyLeaf_Purdue_L\", \"HappyLeaf_APL_L\", \"HappyLeaf_UMN_L\", \"HappyLeaf_Cornell_L\", \"HappyLeaf_BTI_L\"], \"y\": [0.25, 0.16666666666666666, 0.0, 0.0, 0.125], \"type\": \"scatter\", \"uid\": \"f7f06638-3633-11ea-9c5e-79fdfc20b759\"}, {\"line\": {\"color\": \"#57c4d8\", \"dash\": \"dot\", \"width\": 4}, \"mode\": \"lines+markers\", \"name\": \"Sevir.8G068450\", \"x\": [\"HappyLeaf_Purdue_L\", \"HappyLeaf_APL_L\", \"HappyLeaf_UMN_L\", \"HappyLeaf_Cornell_L\", \"HappyLeaf_BTI_L\"], \"y\": [0.0, 0.0, 0.0, 0.0, 0.0], \"type\": \"scatter\", \"uid\": \"f7f06714-3633-11ea-9c5e-79fdfc20b759\"}, {\"line\": {\"color\": \"#a4d17a\", \"dash\": \"dash\", \"width\": 4}, \"mode\": \"lines+markers\", \"name\": \"Sevir.9G576750\", \"x\": [\"HappyLeaf_Purdue_L\", \"HappyLeaf_APL_L\", \"HappyLeaf_UMN_L\", \"HappyLeaf_Cornell_L\", \"HappyLeaf_BTI_L\"], \"y\": [0.25, 1.0, 0.375, 0.25, 0.375], \"type\": \"scatter\", \"uid\": \"f7f067fa-3633-11ea-9c5e-79fdfc20b759\"}, {\"line\": {\"color\": \"#225b8e\", \"dash\": \"solid\", \"width\": 4}, \"mode\": \"lines+markers\", \"name\": \"Sevir.9G248533\", \"x\": [\"HappyLeaf_Purdue_L\", \"HappyLeaf_APL_L\", \"HappyLeaf_UMN_L\", \"HappyLeaf_Cornell_L\", \"HappyLeaf_BTI_L\"], \"y\": [0.76960625, 1.6666666666666667, 0.625, 1.00358375, 0.75], \"type\": \"scatter\", \"uid\": \"f7f068e0-3633-11ea-9c5e-79fdfc20b759\"}, {\"line\": {\"color\": \"#be608b\", \"dash\": \"dot\", \"width\": 4}, \"mode\": \"lines+markers\", \"name\": \"Sevir.1G379100\", \"x\": [\"HappyLeaf_Purdue_L\", \"HappyLeaf_APL_L\", \"HappyLeaf_UMN_L\", \"HappyLeaf_Cornell_L\", \"HappyLeaf_BTI_L\"], \"y\": [2.93425125, 2.535571666666667, 1.867565, 2.6472937500000002, 2.3015749999999997], \"type\": \"scatter\", \"uid\": \"f7f069c6-3633-11ea-9c5e-79fdfc20b759\"}, {\"line\": {\"color\": \"#96b00c\", \"dash\": \"dash\", \"width\": 4}, \"mode\": \"lines+markers\", \"name\": \"Sevir.8G222414\", \"x\": [\"HappyLeaf_Purdue_L\", \"HappyLeaf_APL_L\", \"HappyLeaf_UMN_L\", \"HappyLeaf_Cornell_L\", \"HappyLeaf_BTI_L\"], \"y\": [0.125, 1.2550116666666666, 0.5, 0.375, 0.125], \"type\": \"scatter\", \"uid\": \"f7f06aa2-3633-11ea-9c5e-79fdfc20b759\"}, {\"line\": {\"color\": \"#088baf\", \"dash\": \"solid\", \"width\": 4}, \"mode\": \"lines+markers\", \"name\": \"Sevir.6G039200\", \"x\": [\"HappyLeaf_Purdue_L\", \"HappyLeaf_APL_L\", \"HappyLeaf_UMN_L\", \"HappyLeaf_Cornell_L\", \"HappyLeaf_BTI_L\"], \"y\": [1.27600375, 1.467155, 1.44987875, 1.62424375, 5.36894125], \"type\": \"scatter\", \"uid\": \"f7f06b88-3633-11ea-9c5e-79fdfc20b759\"}, {\"line\": {\"color\": \"#f158bf\", \"dash\": \"dot\", \"width\": 4}, \"mode\": \"lines+markers\", \"name\": \"Sevir.6G075100\", \"x\": [\"HappyLeaf_Purdue_L\", \"HappyLeaf_APL_L\", \"HappyLeaf_UMN_L\", \"HappyLeaf_Cornell_L\", \"HappyLeaf_BTI_L\"], \"y\": [0.0, 0.16666666666666666, 0.0, 0.0, 0.125], \"type\": \"scatter\", \"uid\": \"f7f06c64-3633-11ea-9c5e-79fdfc20b759\"}, {\"line\": {\"color\": \"#e145ba\", \"dash\": \"dash\", \"width\": 4}, \"mode\": \"lines+markers\", \"name\": \"Sevir.3G331800\", \"x\": [\"HappyLeaf_Purdue_L\", \"HappyLeaf_APL_L\", \"HappyLeaf_UMN_L\", \"HappyLeaf_Cornell_L\", \"HappyLeaf_BTI_L\"], \"y\": [0.0, 0.0, 0.25, 0.125, 0.625], \"type\": \"scatter\", \"uid\": \"f7f06d4a-3633-11ea-9c5e-79fdfc20b759\"}, {\"line\": {\"color\": \"#ee91e3\", \"dash\": \"solid\", \"width\": 4}, \"mode\": \"lines+markers\", \"name\": \"Sevir.4G164200\", \"x\": [\"HappyLeaf_Purdue_L\", \"HappyLeaf_APL_L\", \"HappyLeaf_UMN_L\", \"HappyLeaf_Cornell_L\", \"HappyLeaf_BTI_L\"], \"y\": [0.0, 0.0, 0.0, 0.0, 0.125], \"type\": \"scatter\", \"uid\": \"f7f06e26-3633-11ea-9c5e-79fdfc20b759\"}, {\"line\": {\"color\": \"#05d371\", \"dash\": \"dot\", \"width\": 4}, \"mode\": \"lines+markers\", \"name\": \"Sevir.9G347733\", \"x\": [\"HappyLeaf_Purdue_L\", \"HappyLeaf_APL_L\", \"HappyLeaf_UMN_L\", \"HappyLeaf_Cornell_L\", \"HappyLeaf_BTI_L\"], \"y\": [1.5, 0.8333333333333334, 1.5, 1.125, 0.25], \"type\": \"scatter\", \"uid\": \"f7f06f7a-3633-11ea-9c5e-79fdfc20b759\"}, {\"line\": {\"color\": \"#5426e0\", \"dash\": \"dash\", \"width\": 4}, \"mode\": \"lines+markers\", \"name\": \"Sevir.2G396750\", \"x\": [\"HappyLeaf_Purdue_L\", \"HappyLeaf_APL_L\", \"HappyLeaf_UMN_L\", \"HappyLeaf_Cornell_L\", \"HappyLeaf_BTI_L\"], \"y\": [0.0, 0.0, 0.25, 0.125, 0.25], \"type\": \"scatter\", \"uid\": \"f7f07088-3633-11ea-9c5e-79fdfc20b759\"}, {\"line\": {\"color\": \"#4834d0\", \"dash\": \"solid\", \"width\": 4}, \"mode\": \"lines+markers\", \"name\": \"Sevir.3G116100\", \"x\": [\"HappyLeaf_Purdue_L\", \"HappyLeaf_APL_L\", \"HappyLeaf_UMN_L\", \"HappyLeaf_Cornell_L\", \"HappyLeaf_BTI_L\"], \"y\": [0.0, 0.8333333333333334, 0.375, 0.0, 0.25], \"type\": \"scatter\", \"uid\": \"f7f0716e-3633-11ea-9c5e-79fdfc20b759\"}, {\"line\": {\"color\": \"#802234\", \"dash\": \"dot\", \"width\": 4}, \"mode\": \"lines+markers\", \"name\": \"Sevir.7G061100\", \"x\": [\"HappyLeaf_Purdue_L\", \"HappyLeaf_APL_L\", \"HappyLeaf_UMN_L\", \"HappyLeaf_Cornell_L\", \"HappyLeaf_BTI_L\"], \"y\": [0.0, 0.0, 0.0, 0.0, 0.0], \"type\": \"scatter\", \"uid\": \"f7f0724a-3633-11ea-9c5e-79fdfc20b759\"}, {\"line\": {\"color\": \"#6749e8\", \"dash\": \"dash\", \"width\": 4}, \"mode\": \"lines+markers\", \"name\": \"Sevir.2G307100\", \"x\": [\"HappyLeaf_Purdue_L\", \"HappyLeaf_APL_L\", \"HappyLeaf_UMN_L\", \"HappyLeaf_Cornell_L\", \"HappyLeaf_BTI_L\"], \"y\": [0.125, 0.0, 0.0, 0.0, 0.125], \"type\": \"scatter\", \"uid\": \"f7f07330-3633-11ea-9c5e-79fdfc20b759\"}, {\"line\": {\"color\": \"#0971f0\", \"dash\": \"solid\", \"width\": 4}, \"mode\": \"lines+markers\", \"name\": \"Sevir.5G087400\", \"x\": [\"HappyLeaf_Purdue_L\", \"HappyLeaf_APL_L\", \"HappyLeaf_UMN_L\", \"HappyLeaf_Cornell_L\", \"HappyLeaf_BTI_L\"], \"y\": [0.0, 0.0, 0.5, 0.0, 1.0], \"type\": \"scatter\", \"uid\": \"f7f07416-3633-11ea-9c5e-79fdfc20b759\"}, {\"line\": {\"color\": \"#8fb413\", \"dash\": \"dot\", \"width\": 4}, \"mode\": \"lines+markers\", \"name\": \"Sevir.7G005300\", \"x\": [\"HappyLeaf_Purdue_L\", \"HappyLeaf_APL_L\", \"HappyLeaf_UMN_L\", \"HappyLeaf_Cornell_L\", \"HappyLeaf_BTI_L\"], \"y\": [0.0, 0.5, 0.0, 0.0, 0.625], \"type\": \"scatter\", \"uid\": \"f7f074f2-3633-11ea-9c5e-79fdfc20b759\"}, {\"line\": {\"color\": \"#b2b4f0\", \"dash\": \"dash\", \"width\": 4}, \"mode\": \"lines+markers\", \"name\": \"Sevir.2G026100\", \"x\": [\"HappyLeaf_Purdue_L\", \"HappyLeaf_APL_L\", \"HappyLeaf_UMN_L\", \"HappyLeaf_Cornell_L\", \"HappyLeaf_BTI_L\"], \"y\": [0.125, 0.0, 0.625, 0.0, 0.25], \"type\": \"scatter\", \"uid\": \"f7f075c4-3633-11ea-9c5e-79fdfc20b759\"}, {\"line\": {\"color\": \"#c3c89d\", \"dash\": \"solid\", \"width\": 4}, \"mode\": \"lines+markers\", \"name\": \"Sevir.9G072900\", \"x\": [\"HappyLeaf_Purdue_L\", \"HappyLeaf_APL_L\", \"HappyLeaf_UMN_L\", \"HappyLeaf_Cornell_L\", \"HappyLeaf_BTI_L\"], \"y\": [0.125, 0.8333333333333334, 0.125, 0.125, 0.125], \"type\": \"scatter\", \"uid\": \"f7f07696-3633-11ea-9c5e-79fdfc20b759\"}], {\"dragmode\": \"select\", \"plot_bgcolor\": \"white\", \"title\": \"Average Gene Expression - Happy Plants\", \"xaxis\": {\"gridcolor\": \"whitesmoke\", \"showgrid\": true, \"title\": \"Experimental Conditions\"}, \"yaxis\": {\"gridcolor\": \"whitesmoke\", \"showgrid\": true, \"title\": \"Expression\"}}, {\"showLink\": true, \"linkText\": \"Export to plot.ly\"})});</script>"
      ],
      "text/vnd.plotly.v1+html": [
       "<div id=\"cd894c36-2be1-4362-bee1-79db1bdce3a6\" style=\"height: 525px; width: 100%;\" class=\"plotly-graph-div\"></div><script type=\"text/javascript\">require([\"plotly\"], function(Plotly) { window.PLOTLYENV=window.PLOTLYENV || {};window.PLOTLYENV.BASE_URL=\"https://plot.ly\";Plotly.newPlot(\"cd894c36-2be1-4362-bee1-79db1bdce3a6\", [{\"line\": {\"color\": \"#ce7d78\", \"dash\": \"dot\", \"width\": 4}, \"mode\": \"lines+markers\", \"name\": \"Sevir.9G282425\", \"x\": [\"HappyLeaf_Purdue_L\", \"HappyLeaf_APL_L\", \"HappyLeaf_UMN_L\", \"HappyLeaf_Cornell_L\", \"HappyLeaf_BTI_L\"], \"y\": [0.25, 0.3333333333333333, 0.375, 0.0, 0.25], \"type\": \"scatter\", \"uid\": \"f7f02bbe-3633-11ea-9c5e-79fdfc20b759\"}, {\"line\": {\"color\": \"#ea9e70\", \"dash\": \"dash\", \"width\": 4}, \"mode\": \"lines+markers\", \"name\": \"Sevir.7G018910\", \"x\": [\"HappyLeaf_Purdue_L\", \"HappyLeaf_APL_L\", \"HappyLeaf_UMN_L\", \"HappyLeaf_Cornell_L\", \"HappyLeaf_BTI_L\"], \"y\": [0.125, 0.06476833333333333, 0.0, 0.125, 0.25], \"type\": \"scatter\", \"uid\": \"f7f02e20-3633-11ea-9c5e-79fdfc20b759\"}, {\"line\": {\"color\": \"#a48a9e\", \"dash\": \"solid\", \"width\": 4}, \"mode\": \"lines+markers\", \"name\": \"Sevir.5G044500\", \"x\": [\"HappyLeaf_Purdue_L\", \"HappyLeaf_APL_L\", \"HappyLeaf_UMN_L\", \"HappyLeaf_Cornell_L\", \"HappyLeaf_BTI_L\"], \"y\": [0.125, 0.0, 0.0, 0.0, 0.0], \"type\": \"scatter\", \"uid\": \"f7f02f56-3633-11ea-9c5e-79fdfc20b759\"}, {\"line\": {\"color\": \"#c6e1e8\", \"dash\": \"dot\", \"width\": 4}, \"mode\": \"lines+markers\", \"name\": \"Sevir.2G127900\", \"x\": [\"HappyLeaf_Purdue_L\", \"HappyLeaf_APL_L\", \"HappyLeaf_UMN_L\", \"HappyLeaf_Cornell_L\", \"HappyLeaf_BTI_L\"], \"y\": [1.25, 0.0, 0.5, 0.625, 0.125], \"type\": \"scatter\", \"uid\": \"f7f03064-3633-11ea-9c5e-79fdfc20b759\"}, {\"line\": {\"color\": \"#648177\", \"dash\": \"dash\", \"width\": 4}, \"mode\": \"lines+markers\", \"name\": \"Sevir.5G129000\", \"x\": [\"HappyLeaf_Purdue_L\", \"HappyLeaf_APL_L\", \"HappyLeaf_UMN_L\", \"HappyLeaf_Cornell_L\", \"HappyLeaf_BTI_L\"], \"y\": [0.76841875, 4.05706, 0.27578875, 0.8300075, 2.16982], \"type\": \"scatter\", \"uid\": \"f7f0315e-3633-11ea-9c5e-79fdfc20b759\"}, {\"line\": {\"color\": \"#0d5ac1\", \"dash\": \"solid\", \"width\": 4}, \"mode\": \"lines+markers\", \"name\": \"Sevir.2G354400\", \"x\": [\"HappyLeaf_Purdue_L\", \"HappyLeaf_APL_L\", \"HappyLeaf_UMN_L\", \"HappyLeaf_Cornell_L\", \"HappyLeaf_BTI_L\"], \"y\": [0.0, 0.16666666666666666, 0.125, 0.0, 0.0], \"type\": \"scatter\", \"uid\": \"f7f03244-3633-11ea-9c5e-79fdfc20b759\"}, {\"line\": {\"color\": \"#f205e6\", \"dash\": \"dot\", \"width\": 4}, \"mode\": \"lines+markers\", \"name\": \"Sevir.2G152600\", \"x\": [\"HappyLeaf_Purdue_L\", \"HappyLeaf_APL_L\", \"HappyLeaf_UMN_L\", \"HappyLeaf_Cornell_L\", \"HappyLeaf_BTI_L\"], \"y\": [0.0, 0.0, 0.125, 0.0, 0.08326575], \"type\": \"scatter\", \"uid\": \"f7f03334-3633-11ea-9c5e-79fdfc20b759\"}, {\"line\": {\"color\": \"#1c0365\", \"dash\": \"dash\", \"width\": 4}, \"mode\": \"lines+markers\", \"name\": \"Sevir.7G023700\", \"x\": [\"HappyLeaf_Purdue_L\", \"HappyLeaf_APL_L\", \"HappyLeaf_UMN_L\", \"HappyLeaf_Cornell_L\", \"HappyLeaf_BTI_L\"], \"y\": [0.25, 1.0, 0.0, 0.2928095, 0.51405375], \"type\": \"scatter\", \"uid\": \"f7f0341a-3633-11ea-9c5e-79fdfc20b759\"}, {\"line\": {\"color\": \"#14a9ad\", \"dash\": \"solid\", \"width\": 4}, \"mode\": \"lines+markers\", \"name\": \"Sevir.4G118900\", \"x\": [\"HappyLeaf_Purdue_L\", \"HappyLeaf_APL_L\", \"HappyLeaf_UMN_L\", \"HappyLeaf_Cornell_L\", \"HappyLeaf_BTI_L\"], \"y\": [0.375, 1.0, 0.125, 0.125, 1.0], \"type\": \"scatter\", \"uid\": \"f7f0350a-3633-11ea-9c5e-79fdfc20b759\"}, {\"line\": {\"color\": \"#4ca2f9\", \"dash\": \"dot\", \"width\": 4}, \"mode\": \"lines+markers\", \"name\": \"Sevir.8G081600\", \"x\": [\"HappyLeaf_Purdue_L\", \"HappyLeaf_APL_L\", \"HappyLeaf_UMN_L\", \"HappyLeaf_Cornell_L\", \"HappyLeaf_BTI_L\"], \"y\": [0.124932375, 0.0, 0.0, 0.0, 0.99915875], \"type\": \"scatter\", \"uid\": \"f7f035f0-3633-11ea-9c5e-79fdfc20b759\"}, {\"line\": {\"color\": \"#a4e43f\", \"dash\": \"dash\", \"width\": 4}, \"mode\": \"lines+markers\", \"name\": \"Sevir.5G364132\", \"x\": [\"HappyLeaf_Purdue_L\", \"HappyLeaf_APL_L\", \"HappyLeaf_UMN_L\", \"HappyLeaf_Cornell_L\", \"HappyLeaf_BTI_L\"], \"y\": [0.125, 0.37114166666666665, 0.25, 0.0, 0.185031625], \"type\": \"scatter\", \"uid\": \"f7f036d6-3633-11ea-9c5e-79fdfc20b759\"}, {\"line\": {\"color\": \"#d298e2\", \"dash\": \"solid\", \"width\": 4}, \"mode\": \"lines+markers\", \"name\": \"Sevir.4G263301\", \"x\": [\"HappyLeaf_Purdue_L\", \"HappyLeaf_APL_L\", \"HappyLeaf_UMN_L\", \"HappyLeaf_Cornell_L\", \"HappyLeaf_BTI_L\"], \"y\": [0.0, 0.0, 0.0, 0.0, 0.375], \"type\": \"scatter\", \"uid\": \"f7f037c6-3633-11ea-9c5e-79fdfc20b759\"}, {\"line\": {\"color\": \"#6119d0\", \"dash\": \"dot\", \"width\": 4}, \"mode\": \"lines+markers\", \"name\": \"Sevir.9G099466\", \"x\": [\"HappyLeaf_Purdue_L\", \"HappyLeaf_APL_L\", \"HappyLeaf_UMN_L\", \"HappyLeaf_Cornell_L\", \"HappyLeaf_BTI_L\"], \"y\": [0.0, 0.0, 0.125, 0.25, 0.375], \"type\": \"scatter\", \"uid\": \"f7f038ac-3633-11ea-9c5e-79fdfc20b759\"}, {\"line\": {\"color\": \"#d2737d\", \"dash\": \"dash\", \"width\": 4}, \"mode\": \"lines+markers\", \"name\": \"Sevir.9G078500\", \"x\": [\"HappyLeaf_Purdue_L\", \"HappyLeaf_APL_L\", \"HappyLeaf_UMN_L\", \"HappyLeaf_Cornell_L\", \"HappyLeaf_BTI_L\"], \"y\": [0.0, 0.3333333333333333, 0.0, 0.375, 0.125], \"type\": \"scatter\", \"uid\": \"f7f03988-3633-11ea-9c5e-79fdfc20b759\"}, {\"line\": {\"color\": \"#c0a43c\", \"dash\": \"solid\", \"width\": 4}, \"mode\": \"lines+markers\", \"name\": \"Sevir.2G263800\", \"x\": [\"HappyLeaf_Purdue_L\", \"HappyLeaf_APL_L\", \"HappyLeaf_UMN_L\", \"HappyLeaf_Cornell_L\", \"HappyLeaf_BTI_L\"], \"y\": [0.0, 0.0, 0.0, 0.0, 0.0], \"type\": \"scatter\", \"uid\": \"f7f03a6e-3633-11ea-9c5e-79fdfc20b759\"}, {\"line\": {\"color\": \"#f2510e\", \"dash\": \"dot\", \"width\": 4}, \"mode\": \"lines+markers\", \"name\": \"Sevir.8G218520\", \"x\": [\"HappyLeaf_Purdue_L\", \"HappyLeaf_APL_L\", \"HappyLeaf_UMN_L\", \"HappyLeaf_Cornell_L\", \"HappyLeaf_BTI_L\"], \"y\": [0.0, 0.0, 0.0, 0.125, 0.0], \"type\": \"scatter\", \"uid\": \"f7f03b54-3633-11ea-9c5e-79fdfc20b759\"}, {\"line\": {\"color\": \"#651be6\", \"dash\": \"dash\", \"width\": 4}, \"mode\": \"lines+markers\", \"name\": \"Sevir.3G390900\", \"x\": [\"HappyLeaf_Purdue_L\", \"HappyLeaf_APL_L\", \"HappyLeaf_UMN_L\", \"HappyLeaf_Cornell_L\", \"HappyLeaf_BTI_L\"], \"y\": [0.0, 0.16666666666666666, 0.0, 0.0, 0.0], \"type\": \"scatter\", \"uid\": \"f7f03c44-3633-11ea-9c5e-79fdfc20b759\"}, {\"line\": {\"color\": \"#79806e\", \"dash\": \"solid\", \"width\": 4}, \"mode\": \"lines+markers\", \"name\": \"Sevir.9G165400\", \"x\": [\"HappyLeaf_Purdue_L\", \"HappyLeaf_APL_L\", \"HappyLeaf_UMN_L\", \"HappyLeaf_Cornell_L\", \"HappyLeaf_BTI_L\"], \"y\": [0.0, 0.16666666666666666, 0.125, 0.0, 0.827285], \"type\": \"scatter\", \"uid\": \"f7f03d20-3633-11ea-9c5e-79fdfc20b759\"}, {\"line\": {\"color\": \"#61da5e\", \"dash\": \"dot\", \"width\": 4}, \"mode\": \"lines+markers\", \"name\": \"Sevir.8G245140\", \"x\": [\"HappyLeaf_Purdue_L\", \"HappyLeaf_APL_L\", \"HappyLeaf_UMN_L\", \"HappyLeaf_Cornell_L\", \"HappyLeaf_BTI_L\"], \"y\": [0.125, 0.0, 0.125, 0.125, 0.375], \"type\": \"scatter\", \"uid\": \"f7f03e06-3633-11ea-9c5e-79fdfc20b759\"}, {\"line\": {\"color\": \"#cd2f00\", \"dash\": \"dash\", \"width\": 4}, \"mode\": \"lines+markers\", \"name\": \"Sevir.8G087000\", \"x\": [\"HappyLeaf_Purdue_L\", \"HappyLeaf_APL_L\", \"HappyLeaf_UMN_L\", \"HappyLeaf_Cornell_L\", \"HappyLeaf_BTI_L\"], \"y\": [0.0, 0.0, 0.0, 0.0, 0.0], \"type\": \"scatter\", \"uid\": \"f7f03eec-3633-11ea-9c5e-79fdfc20b759\"}, {\"line\": {\"color\": \"#9348af\", \"dash\": \"solid\", \"width\": 4}, \"mode\": \"lines+markers\", \"name\": \"Sevir.9G576201\", \"x\": [\"HappyLeaf_Purdue_L\", \"HappyLeaf_APL_L\", \"HappyLeaf_UMN_L\", \"HappyLeaf_Cornell_L\", \"HappyLeaf_BTI_L\"], \"y\": [0.0, 0.16666666666666666, 0.0, 0.0, 0.0], \"type\": \"scatter\", \"uid\": \"f7f03fc8-3633-11ea-9c5e-79fdfc20b759\"}, {\"line\": {\"color\": \"#01ac53\", \"dash\": \"dot\", \"width\": 4}, \"mode\": \"lines+markers\", \"name\": \"Sevir.5G470750\", \"x\": [\"HappyLeaf_Purdue_L\", \"HappyLeaf_APL_L\", \"HappyLeaf_UMN_L\", \"HappyLeaf_Cornell_L\", \"HappyLeaf_BTI_L\"], \"y\": [0.375, 1.0033283333333334, 0.75, 0.125, 0.5], \"type\": \"scatter\", \"uid\": \"f7f040b8-3633-11ea-9c5e-79fdfc20b759\"}, {\"line\": {\"color\": \"#c5a4fb\", \"dash\": \"dash\", \"width\": 4}, \"mode\": \"lines+markers\", \"name\": \"Sevir.1G060850\", \"x\": [\"HappyLeaf_Purdue_L\", \"HappyLeaf_APL_L\", \"HappyLeaf_UMN_L\", \"HappyLeaf_Cornell_L\", \"HappyLeaf_BTI_L\"], \"y\": [0.0, 0.0, 0.0, 0.0, 0.0], \"type\": \"scatter\", \"uid\": \"f7f0419e-3633-11ea-9c5e-79fdfc20b759\"}, {\"line\": {\"color\": \"#996635\", \"dash\": \"solid\", \"width\": 4}, \"mode\": \"lines+markers\", \"name\": \"Sevir.2G280500\", \"x\": [\"HappyLeaf_Purdue_L\", \"HappyLeaf_APL_L\", \"HappyLeaf_UMN_L\", \"HappyLeaf_Cornell_L\", \"HappyLeaf_BTI_L\"], \"y\": [0.019813, 0.16666666666666666, 0.0, 0.0, 0.040850375], \"type\": \"scatter\", \"uid\": \"f7f0428e-3633-11ea-9c5e-79fdfc20b759\"}, {\"line\": {\"color\": \"#b11573\", \"dash\": \"dot\", \"width\": 4}, \"mode\": \"lines+markers\", \"name\": \"Sevir.9G268200\", \"x\": [\"HappyLeaf_Purdue_L\", \"HappyLeaf_APL_L\", \"HappyLeaf_UMN_L\", \"HappyLeaf_Cornell_L\", \"HappyLeaf_BTI_L\"], \"y\": [0.5, 0.16666666666666666, 0.625, 0.125, 0.5], \"type\": \"scatter\", \"uid\": \"f7f0437e-3633-11ea-9c5e-79fdfc20b759\"}, {\"line\": {\"color\": \"#4bb473\", \"dash\": \"dash\", \"width\": 4}, \"mode\": \"lines+markers\", \"name\": \"Sevir.4G143101\", \"x\": [\"HappyLeaf_Purdue_L\", \"HappyLeaf_APL_L\", \"HappyLeaf_UMN_L\", \"HappyLeaf_Cornell_L\", \"HappyLeaf_BTI_L\"], \"y\": [0.125, 0.0, 0.0, 0.0, 0.125], \"type\": \"scatter\", \"uid\": \"f7f0445a-3633-11ea-9c5e-79fdfc20b759\"}, {\"line\": {\"color\": \"#75d89e\", \"dash\": \"solid\", \"width\": 4}, \"mode\": \"lines+markers\", \"name\": \"Sevir.2G342800\", \"x\": [\"HappyLeaf_Purdue_L\", \"HappyLeaf_APL_L\", \"HappyLeaf_UMN_L\", \"HappyLeaf_Cornell_L\", \"HappyLeaf_BTI_L\"], \"y\": [0.0, 0.0, 0.0, 0.0, 0.0], \"type\": \"scatter\", \"uid\": \"f7f04540-3633-11ea-9c5e-79fdfc20b759\"}, {\"line\": {\"color\": \"#2f3f94\", \"dash\": \"dot\", \"width\": 4}, \"mode\": \"lines+markers\", \"name\": \"Sevir.1G019900\", \"x\": [\"HappyLeaf_Purdue_L\", \"HappyLeaf_APL_L\", \"HappyLeaf_UMN_L\", \"HappyLeaf_Cornell_L\", \"HappyLeaf_BTI_L\"], \"y\": [0.125, 0.16666666666666666, 0.25, 0.0, 0.0], \"type\": \"scatter\", \"uid\": \"f7f04630-3633-11ea-9c5e-79fdfc20b759\"}, {\"line\": {\"color\": \"#2f7b99\", \"dash\": \"dash\", \"width\": 4}, \"mode\": \"lines+markers\", \"name\": \"Sevir.3G353500\", \"x\": [\"HappyLeaf_Purdue_L\", \"HappyLeaf_APL_L\", \"HappyLeaf_UMN_L\", \"HappyLeaf_Cornell_L\", \"HappyLeaf_BTI_L\"], \"y\": [0.0, 0.0, 0.0, 0.0, 0.0], \"type\": \"scatter\", \"uid\": \"f7f04716-3633-11ea-9c5e-79fdfc20b759\"}, {\"line\": {\"color\": \"#da967d\", \"dash\": \"solid\", \"width\": 4}, \"mode\": \"lines+markers\", \"name\": \"Sevir.7G189700\", \"x\": [\"HappyLeaf_Purdue_L\", \"HappyLeaf_APL_L\", \"HappyLeaf_UMN_L\", \"HappyLeaf_Cornell_L\", \"HappyLeaf_BTI_L\"], \"y\": [0.0, 0.0, 0.0, 0.0, 0.0], \"type\": \"scatter\", \"uid\": \"f7f04892-3633-11ea-9c5e-79fdfc20b759\"}, {\"line\": {\"color\": \"#34891f\", \"dash\": \"dot\", \"width\": 4}, \"mode\": \"lines+markers\", \"name\": \"Sevir.4G118600\", \"x\": [\"HappyLeaf_Purdue_L\", \"HappyLeaf_APL_L\", \"HappyLeaf_UMN_L\", \"HappyLeaf_Cornell_L\", \"HappyLeaf_BTI_L\"], \"y\": [0.0, 0.0, 0.0, 0.375, 0.125], \"type\": \"scatter\", \"uid\": \"f7f049a0-3633-11ea-9c5e-79fdfc20b759\"}, {\"line\": {\"color\": \"#b0d87b\", \"dash\": \"dash\", \"width\": 4}, \"mode\": \"lines+markers\", \"name\": \"Sevir.5G315900\", \"x\": [\"HappyLeaf_Purdue_L\", \"HappyLeaf_APL_L\", \"HappyLeaf_UMN_L\", \"HappyLeaf_Cornell_L\", \"HappyLeaf_BTI_L\"], \"y\": [0.0, 0.0, 0.0, 0.0, 0.0], \"type\": \"scatter\", \"uid\": \"f7f04a86-3633-11ea-9c5e-79fdfc20b759\"}, {\"line\": {\"color\": \"#ca4751\", \"dash\": \"solid\", \"width\": 4}, \"mode\": \"lines+markers\", \"name\": \"Sevir.1G110232\", \"x\": [\"HappyLeaf_Purdue_L\", \"HappyLeaf_APL_L\", \"HappyLeaf_UMN_L\", \"HappyLeaf_Cornell_L\", \"HappyLeaf_BTI_L\"], \"y\": [0.0, 0.3333333333333333, 0.0, 0.0, 0.0], \"type\": \"scatter\", \"uid\": \"f7f04b6c-3633-11ea-9c5e-79fdfc20b759\"}, {\"line\": {\"color\": \"#7e50a8\", \"dash\": \"dot\", \"width\": 4}, \"mode\": \"lines+markers\", \"name\": \"Sevir.5G206100\", \"x\": [\"HappyLeaf_Purdue_L\", \"HappyLeaf_APL_L\", \"HappyLeaf_UMN_L\", \"HappyLeaf_Cornell_L\", \"HappyLeaf_BTI_L\"], \"y\": [0.0, 0.0, 0.0, 0.0, 0.0], \"type\": \"scatter\", \"uid\": \"f7f04c52-3633-11ea-9c5e-79fdfc20b759\"}, {\"line\": {\"color\": \"#c4d647\", \"dash\": \"dash\", \"width\": 4}, \"mode\": \"lines+markers\", \"name\": \"Sevir.3G353200\", \"x\": [\"HappyLeaf_Purdue_L\", \"HappyLeaf_APL_L\", \"HappyLeaf_UMN_L\", \"HappyLeaf_Cornell_L\", \"HappyLeaf_BTI_L\"], \"y\": [0.125, 0.16666666666666666, 0.125, 0.0, 0.5], \"type\": \"scatter\", \"uid\": \"f7f04d2e-3633-11ea-9c5e-79fdfc20b759\"}, {\"line\": {\"color\": \"#e0eeb8\", \"dash\": \"solid\", \"width\": 4}, \"mode\": \"lines+markers\", \"name\": \"Sevir.4G093300\", \"x\": [\"HappyLeaf_Purdue_L\", \"HappyLeaf_APL_L\", \"HappyLeaf_UMN_L\", \"HappyLeaf_Cornell_L\", \"HappyLeaf_BTI_L\"], \"y\": [0.375, 1.1666666666666667, 0.5, 0.375, 2.0], \"type\": \"scatter\", \"uid\": \"f7f04e14-3633-11ea-9c5e-79fdfc20b759\"}, {\"line\": {\"color\": \"#11dec1\", \"dash\": \"dot\", \"width\": 4}, \"mode\": \"lines+markers\", \"name\": \"Sevir.1G171100\", \"x\": [\"HappyLeaf_Purdue_L\", \"HappyLeaf_APL_L\", \"HappyLeaf_UMN_L\", \"HappyLeaf_Cornell_L\", \"HappyLeaf_BTI_L\"], \"y\": [0.0, 0.16666666666666666, 0.0, 0.0, 0.6470975], \"type\": \"scatter\", \"uid\": \"f7f04efa-3633-11ea-9c5e-79fdfc20b759\"}, {\"line\": {\"color\": \"#289812\", \"dash\": \"dash\", \"width\": 4}, \"mode\": \"lines+markers\", \"name\": \"Sevir.2G305750\", \"x\": [\"HappyLeaf_Purdue_L\", \"HappyLeaf_APL_L\", \"HappyLeaf_UMN_L\", \"HappyLeaf_Cornell_L\", \"HappyLeaf_BTI_L\"], \"y\": [1.021757625, 2.4069788333333335, 1.111612125, 0.17570425, 5.1662325000000004], \"type\": \"scatter\", \"uid\": \"f7f04fd6-3633-11ea-9c5e-79fdfc20b759\"}, {\"line\": {\"color\": \"#566ca0\", \"dash\": \"solid\", \"width\": 4}, \"mode\": \"lines+markers\", \"name\": \"Sevir.9G169700\", \"x\": [\"HappyLeaf_Purdue_L\", \"HappyLeaf_APL_L\", \"HappyLeaf_UMN_L\", \"HappyLeaf_Cornell_L\", \"HappyLeaf_BTI_L\"], \"y\": [0.0, 0.0, 0.0, 0.0, 0.0], \"type\": \"scatter\", \"uid\": \"f7f050bc-3633-11ea-9c5e-79fdfc20b759\"}, {\"line\": {\"color\": \"#ffdbe1\", \"dash\": \"dot\", \"width\": 4}, \"mode\": \"lines+markers\", \"name\": \"Sevir.1G020800\", \"x\": [\"HappyLeaf_Purdue_L\", \"HappyLeaf_APL_L\", \"HappyLeaf_UMN_L\", \"HappyLeaf_Cornell_L\", \"HappyLeaf_BTI_L\"], \"y\": [0.0, 0.16666666666666666, 0.0, 0.375, 0.5], \"type\": \"scatter\", \"uid\": \"f7f051e8-3633-11ea-9c5e-79fdfc20b759\"}, {\"line\": {\"color\": \"#2f1179\", \"dash\": \"dash\", \"width\": 4}, \"mode\": \"lines+markers\", \"name\": \"Sevir.5G194900\", \"x\": [\"HappyLeaf_Purdue_L\", \"HappyLeaf_APL_L\", \"HappyLeaf_UMN_L\", \"HappyLeaf_Cornell_L\", \"HappyLeaf_BTI_L\"], \"y\": [0.0, 0.0, 0.0, 0.0, 0.0], \"type\": \"scatter\", \"uid\": \"f7f052ce-3633-11ea-9c5e-79fdfc20b759\"}, {\"line\": {\"color\": \"#935b6d\", \"dash\": \"solid\", \"width\": 4}, \"mode\": \"lines+markers\", \"name\": \"Sevir.6G028050\", \"x\": [\"HappyLeaf_Purdue_L\", \"HappyLeaf_APL_L\", \"HappyLeaf_UMN_L\", \"HappyLeaf_Cornell_L\", \"HappyLeaf_BTI_L\"], \"y\": [0.0, 0.0, 0.125, 0.375, 0.125], \"type\": \"scatter\", \"uid\": \"f7f053b4-3633-11ea-9c5e-79fdfc20b759\"}, {\"line\": {\"color\": \"#916988\", \"dash\": \"dot\", \"width\": 4}, \"mode\": \"lines+markers\", \"name\": \"Sevir.2G003200\", \"x\": [\"HappyLeaf_Purdue_L\", \"HappyLeaf_APL_L\", \"HappyLeaf_UMN_L\", \"HappyLeaf_Cornell_L\", \"HappyLeaf_BTI_L\"], \"y\": [0.0, 0.16666666666666666, 0.25, 0.125, 0.0], \"type\": \"scatter\", \"uid\": \"f7f05490-3633-11ea-9c5e-79fdfc20b759\"}, {\"line\": {\"color\": \"#513d98\", \"dash\": \"dash\", \"width\": 4}, \"mode\": \"lines+markers\", \"name\": \"Sevir.8G079100\", \"x\": [\"HappyLeaf_Purdue_L\", \"HappyLeaf_APL_L\", \"HappyLeaf_UMN_L\", \"HappyLeaf_Cornell_L\", \"HappyLeaf_BTI_L\"], \"y\": [0.0, 0.0, 0.0, 0.0, 0.25], \"type\": \"scatter\", \"uid\": \"f7f05576-3633-11ea-9c5e-79fdfc20b759\"}, {\"line\": {\"color\": \"#aead3a\", \"dash\": \"solid\", \"width\": 4}, \"mode\": \"lines+markers\", \"name\": \"Sevir.4G293501\", \"x\": [\"HappyLeaf_Purdue_L\", \"HappyLeaf_APL_L\", \"HappyLeaf_UMN_L\", \"HappyLeaf_Cornell_L\", \"HappyLeaf_BTI_L\"], \"y\": [0.0, 0.0, 0.0, 0.0, 0.0], \"type\": \"scatter\", \"uid\": \"f7f0565c-3633-11ea-9c5e-79fdfc20b759\"}, {\"line\": {\"color\": \"#9e6d71\", \"dash\": \"dot\", \"width\": 4}, \"mode\": \"lines+markers\", \"name\": \"Sevir.7G022900\", \"x\": [\"HappyLeaf_Purdue_L\", \"HappyLeaf_APL_L\", \"HappyLeaf_UMN_L\", \"HappyLeaf_Cornell_L\", \"HappyLeaf_BTI_L\"], \"y\": [0.0, 0.0, 0.0, 0.0, 0.0], \"type\": \"scatter\", \"uid\": \"f7f05738-3633-11ea-9c5e-79fdfc20b759\"}, {\"line\": {\"color\": \"#4b5bdc\", \"dash\": \"dash\", \"width\": 4}, \"mode\": \"lines+markers\", \"name\": \"Sevir.8G165900\", \"x\": [\"HappyLeaf_Purdue_L\", \"HappyLeaf_APL_L\", \"HappyLeaf_UMN_L\", \"HappyLeaf_Cornell_L\", \"HappyLeaf_BTI_L\"], \"y\": [0.0, 0.0, 0.0, 0.0, 0.0], \"type\": \"scatter\", \"uid\": \"f7f05814-3633-11ea-9c5e-79fdfc20b759\"}, {\"line\": {\"color\": \"#0cd36d\", \"dash\": \"solid\", \"width\": 4}, \"mode\": \"lines+markers\", \"name\": \"Sevir.9G092300\", \"x\": [\"HappyLeaf_Purdue_L\", \"HappyLeaf_APL_L\", \"HappyLeaf_UMN_L\", \"HappyLeaf_Cornell_L\", \"HappyLeaf_BTI_L\"], \"y\": [0.0, 0.0, 0.0, 0.0, 0.0], \"type\": \"scatter\", \"uid\": \"f7f058fa-3633-11ea-9c5e-79fdfc20b759\"}, {\"line\": {\"color\": \"#250662\", \"dash\": \"dot\", \"width\": 4}, \"mode\": \"lines+markers\", \"name\": \"Sevir.6G113200\", \"x\": [\"HappyLeaf_Purdue_L\", \"HappyLeaf_APL_L\", \"HappyLeaf_UMN_L\", \"HappyLeaf_Cornell_L\", \"HappyLeaf_BTI_L\"], \"y\": [0.0, 0.0, 0.0, 0.0, 0.0], \"type\": \"scatter\", \"uid\": \"f7f059d6-3633-11ea-9c5e-79fdfc20b759\"}, {\"line\": {\"color\": \"#cb5bea\", \"dash\": \"dash\", \"width\": 4}, \"mode\": \"lines+markers\", \"name\": \"Sevir.4G160200\", \"x\": [\"HappyLeaf_Purdue_L\", \"HappyLeaf_APL_L\", \"HappyLeaf_UMN_L\", \"HappyLeaf_Cornell_L\", \"HappyLeaf_BTI_L\"], \"y\": [0.0, 0.0, 0.0, 0.0, 0.0], \"type\": \"scatter\", \"uid\": \"f7f05abc-3633-11ea-9c5e-79fdfc20b759\"}, {\"line\": {\"color\": \"#228916\", \"dash\": \"solid\", \"width\": 4}, \"mode\": \"lines+markers\", \"name\": \"Sevir.5G037400\", \"x\": [\"HappyLeaf_Purdue_L\", \"HappyLeaf_APL_L\", \"HappyLeaf_UMN_L\", \"HappyLeaf_Cornell_L\", \"HappyLeaf_BTI_L\"], \"y\": [0.0, 0.0, 0.0, 0.0, 0.0], \"type\": \"scatter\", \"uid\": \"f7f05ba2-3633-11ea-9c5e-79fdfc20b759\"}, {\"line\": {\"color\": \"#ac3e1b\", \"dash\": \"dot\", \"width\": 4}, \"mode\": \"lines+markers\", \"name\": \"Sevir.3G298200\", \"x\": [\"HappyLeaf_Purdue_L\", \"HappyLeaf_APL_L\", \"HappyLeaf_UMN_L\", \"HappyLeaf_Cornell_L\", \"HappyLeaf_BTI_L\"], \"y\": [0.0, 0.0, 0.0, 0.0, 0.375], \"type\": \"scatter\", \"uid\": \"f7f05c7e-3633-11ea-9c5e-79fdfc20b759\"}, {\"line\": {\"color\": \"#df514a\", \"dash\": \"dash\", \"width\": 4}, \"mode\": \"lines+markers\", \"name\": \"Sevir.2G437300\", \"x\": [\"HappyLeaf_Purdue_L\", \"HappyLeaf_APL_L\", \"HappyLeaf_UMN_L\", \"HappyLeaf_Cornell_L\", \"HappyLeaf_BTI_L\"], \"y\": [0.0, 0.0, 0.0, 0.0, 0.0], \"type\": \"scatter\", \"uid\": \"f7f05d64-3633-11ea-9c5e-79fdfc20b759\"}, {\"line\": {\"color\": \"#539397\", \"dash\": \"solid\", \"width\": 4}, \"mode\": \"lines+markers\", \"name\": \"Sevir.9G095700\", \"x\": [\"HappyLeaf_Purdue_L\", \"HappyLeaf_APL_L\", \"HappyLeaf_UMN_L\", \"HappyLeaf_Cornell_L\", \"HappyLeaf_BTI_L\"], \"y\": [0.1635225, 0.20075666666666667, 0.0, 0.3172625, 0.0], \"type\": \"scatter\", \"uid\": \"f7f05e4a-3633-11ea-9c5e-79fdfc20b759\"}, {\"line\": {\"color\": \"#880977\", \"dash\": \"dot\", \"width\": 4}, \"mode\": \"lines+markers\", \"name\": \"Sevir.1G265000\", \"x\": [\"HappyLeaf_Purdue_L\", \"HappyLeaf_APL_L\", \"HappyLeaf_UMN_L\", \"HappyLeaf_Cornell_L\", \"HappyLeaf_BTI_L\"], \"y\": [0.0, 0.0, 0.0, 0.0, 0.25], \"type\": \"scatter\", \"uid\": \"f7f05f30-3633-11ea-9c5e-79fdfc20b759\"}, {\"line\": {\"color\": \"#f697c1\", \"dash\": \"dash\", \"width\": 4}, \"mode\": \"lines+markers\", \"name\": \"Sevir.5G418900\", \"x\": [\"HappyLeaf_Purdue_L\", \"HappyLeaf_APL_L\", \"HappyLeaf_UMN_L\", \"HappyLeaf_Cornell_L\", \"HappyLeaf_BTI_L\"], \"y\": [0.0, 0.0, 0.0, 0.0, 0.125], \"type\": \"scatter\", \"uid\": \"f7f06016-3633-11ea-9c5e-79fdfc20b759\"}, {\"line\": {\"color\": \"#ba96ce\", \"dash\": \"solid\", \"width\": 4}, \"mode\": \"lines+markers\", \"name\": \"Sevir.8G237700\", \"x\": [\"HappyLeaf_Purdue_L\", \"HappyLeaf_APL_L\", \"HappyLeaf_UMN_L\", \"HappyLeaf_Cornell_L\", \"HappyLeaf_BTI_L\"], \"y\": [0.0, 0.0, 0.0, 0.0, 0.0], \"type\": \"scatter\", \"uid\": \"f7f060fc-3633-11ea-9c5e-79fdfc20b759\"}, {\"line\": {\"color\": \"#679c9d\", \"dash\": \"dot\", \"width\": 4}, \"mode\": \"lines+markers\", \"name\": \"Sevir.2G177600\", \"x\": [\"HappyLeaf_Purdue_L\", \"HappyLeaf_APL_L\", \"HappyLeaf_UMN_L\", \"HappyLeaf_Cornell_L\", \"HappyLeaf_BTI_L\"], \"y\": [0.0, 0.0, 0.0, 0.0, 0.0], \"type\": \"scatter\", \"uid\": \"f7f061d8-3633-11ea-9c5e-79fdfc20b759\"}, {\"line\": {\"color\": \"#c6c42c\", \"dash\": \"dash\", \"width\": 4}, \"mode\": \"lines+markers\", \"name\": \"Sevir.9G253801\", \"x\": [\"HappyLeaf_Purdue_L\", \"HappyLeaf_APL_L\", \"HappyLeaf_UMN_L\", \"HappyLeaf_Cornell_L\", \"HappyLeaf_BTI_L\"], \"y\": [0.125, 0.0, 0.5, 0.0, 0.5], \"type\": \"scatter\", \"uid\": \"f7f062be-3633-11ea-9c5e-79fdfc20b759\"}, {\"line\": {\"color\": \"#5d2c52\", \"dash\": \"solid\", \"width\": 4}, \"mode\": \"lines+markers\", \"name\": \"Sevir.6G183566\", \"x\": [\"HappyLeaf_Purdue_L\", \"HappyLeaf_APL_L\", \"HappyLeaf_UMN_L\", \"HappyLeaf_Cornell_L\", \"HappyLeaf_BTI_L\"], \"y\": [0.0, 0.16666666666666666, 0.0, 0.0, 0.0], \"type\": \"scatter\", \"uid\": \"f7f0639a-3633-11ea-9c5e-79fdfc20b759\"}, {\"line\": {\"color\": \"#48b41b\", \"dash\": \"dot\", \"width\": 4}, \"mode\": \"lines+markers\", \"name\": \"Sevir.8G259500\", \"x\": [\"HappyLeaf_Purdue_L\", \"HappyLeaf_APL_L\", \"HappyLeaf_UMN_L\", \"HappyLeaf_Cornell_L\", \"HappyLeaf_BTI_L\"], \"y\": [0.875, 1.6688516666666668, 0.75, 0.125, 1.44858625], \"type\": \"scatter\", \"uid\": \"f7f06476-3633-11ea-9c5e-79fdfc20b759\"}, {\"line\": {\"color\": \"#e1cf3b\", \"dash\": \"dash\", \"width\": 4}, \"mode\": \"lines+markers\", \"name\": \"Sevir.5G036550\", \"x\": [\"HappyLeaf_Purdue_L\", \"HappyLeaf_APL_L\", \"HappyLeaf_UMN_L\", \"HappyLeaf_Cornell_L\", \"HappyLeaf_BTI_L\"], \"y\": [0.5, 0.0, 0.0, 0.0, 0.125], \"type\": \"scatter\", \"uid\": \"f7f06552-3633-11ea-9c5e-79fdfc20b759\"}, {\"line\": {\"color\": \"#5be4f0\", \"dash\": \"solid\", \"width\": 4}, \"mode\": \"lines+markers\", \"name\": \"Sevir.7G279700\", \"x\": [\"HappyLeaf_Purdue_L\", \"HappyLeaf_APL_L\", \"HappyLeaf_UMN_L\", \"HappyLeaf_Cornell_L\", \"HappyLeaf_BTI_L\"], \"y\": [0.25, 0.16666666666666666, 0.0, 0.0, 0.125], \"type\": \"scatter\", \"uid\": \"f7f06638-3633-11ea-9c5e-79fdfc20b759\"}, {\"line\": {\"color\": \"#57c4d8\", \"dash\": \"dot\", \"width\": 4}, \"mode\": \"lines+markers\", \"name\": \"Sevir.8G068450\", \"x\": [\"HappyLeaf_Purdue_L\", \"HappyLeaf_APL_L\", \"HappyLeaf_UMN_L\", \"HappyLeaf_Cornell_L\", \"HappyLeaf_BTI_L\"], \"y\": [0.0, 0.0, 0.0, 0.0, 0.0], \"type\": \"scatter\", \"uid\": \"f7f06714-3633-11ea-9c5e-79fdfc20b759\"}, {\"line\": {\"color\": \"#a4d17a\", \"dash\": \"dash\", \"width\": 4}, \"mode\": \"lines+markers\", \"name\": \"Sevir.9G576750\", \"x\": [\"HappyLeaf_Purdue_L\", \"HappyLeaf_APL_L\", \"HappyLeaf_UMN_L\", \"HappyLeaf_Cornell_L\", \"HappyLeaf_BTI_L\"], \"y\": [0.25, 1.0, 0.375, 0.25, 0.375], \"type\": \"scatter\", \"uid\": \"f7f067fa-3633-11ea-9c5e-79fdfc20b759\"}, {\"line\": {\"color\": \"#225b8e\", \"dash\": \"solid\", \"width\": 4}, \"mode\": \"lines+markers\", \"name\": \"Sevir.9G248533\", \"x\": [\"HappyLeaf_Purdue_L\", \"HappyLeaf_APL_L\", \"HappyLeaf_UMN_L\", \"HappyLeaf_Cornell_L\", \"HappyLeaf_BTI_L\"], \"y\": [0.76960625, 1.6666666666666667, 0.625, 1.00358375, 0.75], \"type\": \"scatter\", \"uid\": \"f7f068e0-3633-11ea-9c5e-79fdfc20b759\"}, {\"line\": {\"color\": \"#be608b\", \"dash\": \"dot\", \"width\": 4}, \"mode\": \"lines+markers\", \"name\": \"Sevir.1G379100\", \"x\": [\"HappyLeaf_Purdue_L\", \"HappyLeaf_APL_L\", \"HappyLeaf_UMN_L\", \"HappyLeaf_Cornell_L\", \"HappyLeaf_BTI_L\"], \"y\": [2.93425125, 2.535571666666667, 1.867565, 2.6472937500000002, 2.3015749999999997], \"type\": \"scatter\", \"uid\": \"f7f069c6-3633-11ea-9c5e-79fdfc20b759\"}, {\"line\": {\"color\": \"#96b00c\", \"dash\": \"dash\", \"width\": 4}, \"mode\": \"lines+markers\", \"name\": \"Sevir.8G222414\", \"x\": [\"HappyLeaf_Purdue_L\", \"HappyLeaf_APL_L\", \"HappyLeaf_UMN_L\", \"HappyLeaf_Cornell_L\", \"HappyLeaf_BTI_L\"], \"y\": [0.125, 1.2550116666666666, 0.5, 0.375, 0.125], \"type\": \"scatter\", \"uid\": \"f7f06aa2-3633-11ea-9c5e-79fdfc20b759\"}, {\"line\": {\"color\": \"#088baf\", \"dash\": \"solid\", \"width\": 4}, \"mode\": \"lines+markers\", \"name\": \"Sevir.6G039200\", \"x\": [\"HappyLeaf_Purdue_L\", \"HappyLeaf_APL_L\", \"HappyLeaf_UMN_L\", \"HappyLeaf_Cornell_L\", \"HappyLeaf_BTI_L\"], \"y\": [1.27600375, 1.467155, 1.44987875, 1.62424375, 5.36894125], \"type\": \"scatter\", \"uid\": \"f7f06b88-3633-11ea-9c5e-79fdfc20b759\"}, {\"line\": {\"color\": \"#f158bf\", \"dash\": \"dot\", \"width\": 4}, \"mode\": \"lines+markers\", \"name\": \"Sevir.6G075100\", \"x\": [\"HappyLeaf_Purdue_L\", \"HappyLeaf_APL_L\", \"HappyLeaf_UMN_L\", \"HappyLeaf_Cornell_L\", \"HappyLeaf_BTI_L\"], \"y\": [0.0, 0.16666666666666666, 0.0, 0.0, 0.125], \"type\": \"scatter\", \"uid\": \"f7f06c64-3633-11ea-9c5e-79fdfc20b759\"}, {\"line\": {\"color\": \"#e145ba\", \"dash\": \"dash\", \"width\": 4}, \"mode\": \"lines+markers\", \"name\": \"Sevir.3G331800\", \"x\": [\"HappyLeaf_Purdue_L\", \"HappyLeaf_APL_L\", \"HappyLeaf_UMN_L\", \"HappyLeaf_Cornell_L\", \"HappyLeaf_BTI_L\"], \"y\": [0.0, 0.0, 0.25, 0.125, 0.625], \"type\": \"scatter\", \"uid\": \"f7f06d4a-3633-11ea-9c5e-79fdfc20b759\"}, {\"line\": {\"color\": \"#ee91e3\", \"dash\": \"solid\", \"width\": 4}, \"mode\": \"lines+markers\", \"name\": \"Sevir.4G164200\", \"x\": [\"HappyLeaf_Purdue_L\", \"HappyLeaf_APL_L\", \"HappyLeaf_UMN_L\", \"HappyLeaf_Cornell_L\", \"HappyLeaf_BTI_L\"], \"y\": [0.0, 0.0, 0.0, 0.0, 0.125], \"type\": \"scatter\", \"uid\": \"f7f06e26-3633-11ea-9c5e-79fdfc20b759\"}, {\"line\": {\"color\": \"#05d371\", \"dash\": \"dot\", \"width\": 4}, \"mode\": \"lines+markers\", \"name\": \"Sevir.9G347733\", \"x\": [\"HappyLeaf_Purdue_L\", \"HappyLeaf_APL_L\", \"HappyLeaf_UMN_L\", \"HappyLeaf_Cornell_L\", \"HappyLeaf_BTI_L\"], \"y\": [1.5, 0.8333333333333334, 1.5, 1.125, 0.25], \"type\": \"scatter\", \"uid\": \"f7f06f7a-3633-11ea-9c5e-79fdfc20b759\"}, {\"line\": {\"color\": \"#5426e0\", \"dash\": \"dash\", \"width\": 4}, \"mode\": \"lines+markers\", \"name\": \"Sevir.2G396750\", \"x\": [\"HappyLeaf_Purdue_L\", \"HappyLeaf_APL_L\", \"HappyLeaf_UMN_L\", \"HappyLeaf_Cornell_L\", \"HappyLeaf_BTI_L\"], \"y\": [0.0, 0.0, 0.25, 0.125, 0.25], \"type\": \"scatter\", \"uid\": \"f7f07088-3633-11ea-9c5e-79fdfc20b759\"}, {\"line\": {\"color\": \"#4834d0\", \"dash\": \"solid\", \"width\": 4}, \"mode\": \"lines+markers\", \"name\": \"Sevir.3G116100\", \"x\": [\"HappyLeaf_Purdue_L\", \"HappyLeaf_APL_L\", \"HappyLeaf_UMN_L\", \"HappyLeaf_Cornell_L\", \"HappyLeaf_BTI_L\"], \"y\": [0.0, 0.8333333333333334, 0.375, 0.0, 0.25], \"type\": \"scatter\", \"uid\": \"f7f0716e-3633-11ea-9c5e-79fdfc20b759\"}, {\"line\": {\"color\": \"#802234\", \"dash\": \"dot\", \"width\": 4}, \"mode\": \"lines+markers\", \"name\": \"Sevir.7G061100\", \"x\": [\"HappyLeaf_Purdue_L\", \"HappyLeaf_APL_L\", \"HappyLeaf_UMN_L\", \"HappyLeaf_Cornell_L\", \"HappyLeaf_BTI_L\"], \"y\": [0.0, 0.0, 0.0, 0.0, 0.0], \"type\": \"scatter\", \"uid\": \"f7f0724a-3633-11ea-9c5e-79fdfc20b759\"}, {\"line\": {\"color\": \"#6749e8\", \"dash\": \"dash\", \"width\": 4}, \"mode\": \"lines+markers\", \"name\": \"Sevir.2G307100\", \"x\": [\"HappyLeaf_Purdue_L\", \"HappyLeaf_APL_L\", \"HappyLeaf_UMN_L\", \"HappyLeaf_Cornell_L\", \"HappyLeaf_BTI_L\"], \"y\": [0.125, 0.0, 0.0, 0.0, 0.125], \"type\": \"scatter\", \"uid\": \"f7f07330-3633-11ea-9c5e-79fdfc20b759\"}, {\"line\": {\"color\": \"#0971f0\", \"dash\": \"solid\", \"width\": 4}, \"mode\": \"lines+markers\", \"name\": \"Sevir.5G087400\", \"x\": [\"HappyLeaf_Purdue_L\", \"HappyLeaf_APL_L\", \"HappyLeaf_UMN_L\", \"HappyLeaf_Cornell_L\", \"HappyLeaf_BTI_L\"], \"y\": [0.0, 0.0, 0.5, 0.0, 1.0], \"type\": \"scatter\", \"uid\": \"f7f07416-3633-11ea-9c5e-79fdfc20b759\"}, {\"line\": {\"color\": \"#8fb413\", \"dash\": \"dot\", \"width\": 4}, \"mode\": \"lines+markers\", \"name\": \"Sevir.7G005300\", \"x\": [\"HappyLeaf_Purdue_L\", \"HappyLeaf_APL_L\", \"HappyLeaf_UMN_L\", \"HappyLeaf_Cornell_L\", \"HappyLeaf_BTI_L\"], \"y\": [0.0, 0.5, 0.0, 0.0, 0.625], \"type\": \"scatter\", \"uid\": \"f7f074f2-3633-11ea-9c5e-79fdfc20b759\"}, {\"line\": {\"color\": \"#b2b4f0\", \"dash\": \"dash\", \"width\": 4}, \"mode\": \"lines+markers\", \"name\": \"Sevir.2G026100\", \"x\": [\"HappyLeaf_Purdue_L\", \"HappyLeaf_APL_L\", \"HappyLeaf_UMN_L\", \"HappyLeaf_Cornell_L\", \"HappyLeaf_BTI_L\"], \"y\": [0.125, 0.0, 0.625, 0.0, 0.25], \"type\": \"scatter\", \"uid\": \"f7f075c4-3633-11ea-9c5e-79fdfc20b759\"}, {\"line\": {\"color\": \"#c3c89d\", \"dash\": \"solid\", \"width\": 4}, \"mode\": \"lines+markers\", \"name\": \"Sevir.9G072900\", \"x\": [\"HappyLeaf_Purdue_L\", \"HappyLeaf_APL_L\", \"HappyLeaf_UMN_L\", \"HappyLeaf_Cornell_L\", \"HappyLeaf_BTI_L\"], \"y\": [0.125, 0.8333333333333334, 0.125, 0.125, 0.125], \"type\": \"scatter\", \"uid\": \"f7f07696-3633-11ea-9c5e-79fdfc20b759\"}], {\"dragmode\": \"select\", \"plot_bgcolor\": \"white\", \"title\": \"Average Gene Expression - Happy Plants\", \"xaxis\": {\"gridcolor\": \"whitesmoke\", \"showgrid\": true, \"title\": \"Experimental Conditions\"}, \"yaxis\": {\"gridcolor\": \"whitesmoke\", \"showgrid\": true, \"title\": \"Expression\"}}, {\"showLink\": true, \"linkText\": \"Export to plot.ly\"})});</script>"
      ]
     },
     "metadata": {},
     "output_type": "display_data"
    },
    {
     "data": {
      "application/vnd.plotly.v1+json": {
       "data": [
        {
         "line": {
          "color": "#ce7d78",
          "dash": "dot",
          "width": 4
         },
         "mode": "lines+markers",
         "name": "Sevir.9G282425",
         "type": "scatter",
         "uid": "f8cf80ac-3633-11ea-9c5e-79fdfc20b759",
         "x": [
          "Herbivory_0h_L",
          "Herbivory_1h_L",
          "Herbivory_4h_L",
          "Herbivory_8h_L",
          "Herbivory_24h_L",
          "Herbivory_48h_L"
         ],
         "y": [
          0.25,
          0,
          0,
          0.4,
          0,
          0.4
         ]
        },
        {
         "line": {
          "color": "#ea9e70",
          "dash": "dash",
          "width": 4
         },
         "mode": "lines+markers",
         "name": "Sevir.7G018910",
         "type": "scatter",
         "uid": "f8cf82fa-3633-11ea-9c5e-79fdfc20b759",
         "x": [
          "Herbivory_0h_L",
          "Herbivory_1h_L",
          "Herbivory_4h_L",
          "Herbivory_8h_L",
          "Herbivory_24h_L",
          "Herbivory_48h_L"
         ],
         "y": [
          0,
          0,
          0.0297604,
          0.077722,
          0,
          0
         ]
        },
        {
         "line": {
          "color": "#a48a9e",
          "dash": "solid",
          "width": 4
         },
         "mode": "lines+markers",
         "name": "Sevir.5G044500",
         "type": "scatter",
         "uid": "f8cf8444-3633-11ea-9c5e-79fdfc20b759",
         "x": [
          "Herbivory_0h_L",
          "Herbivory_1h_L",
          "Herbivory_4h_L",
          "Herbivory_8h_L",
          "Herbivory_24h_L",
          "Herbivory_48h_L"
         ],
         "y": [
          0,
          0.2,
          0,
          0,
          0,
          0
         ]
        },
        {
         "line": {
          "color": "#c6e1e8",
          "dash": "dot",
          "width": 4
         },
         "mode": "lines+markers",
         "name": "Sevir.2G127900",
         "type": "scatter",
         "uid": "f8cf8624-3633-11ea-9c5e-79fdfc20b759",
         "x": [
          "Herbivory_0h_L",
          "Herbivory_1h_L",
          "Herbivory_4h_L",
          "Herbivory_8h_L",
          "Herbivory_24h_L",
          "Herbivory_48h_L"
         ],
         "y": [
          0.25,
          0,
          0.4,
          0,
          0,
          0.2
         ]
        },
        {
         "line": {
          "color": "#648177",
          "dash": "dash",
          "width": 4
         },
         "mode": "lines+markers",
         "name": "Sevir.5G129000",
         "type": "scatter",
         "uid": "f8cf8732-3633-11ea-9c5e-79fdfc20b759",
         "x": [
          "Herbivory_0h_L",
          "Herbivory_1h_L",
          "Herbivory_4h_L",
          "Herbivory_8h_L",
          "Herbivory_24h_L",
          "Herbivory_48h_L"
         ],
         "y": [
          5.6590975,
          5.06602,
          3.5116300000000003,
          3.85864,
          5.924737499999999,
          4.511216
         ]
        },
        {
         "line": {
          "color": "#0d5ac1",
          "dash": "solid",
          "width": 4
         },
         "mode": "lines+markers",
         "name": "Sevir.2G354400",
         "type": "scatter",
         "uid": "f8cf8822-3633-11ea-9c5e-79fdfc20b759",
         "x": [
          "Herbivory_0h_L",
          "Herbivory_1h_L",
          "Herbivory_4h_L",
          "Herbivory_8h_L",
          "Herbivory_24h_L",
          "Herbivory_48h_L"
         ],
         "y": [
          0,
          0,
          0,
          0,
          0,
          0
         ]
        },
        {
         "line": {
          "color": "#f205e6",
          "dash": "dot",
          "width": 4
         },
         "mode": "lines+markers",
         "name": "Sevir.2G152600",
         "type": "scatter",
         "uid": "f8cf8908-3633-11ea-9c5e-79fdfc20b759",
         "x": [
          "Herbivory_0h_L",
          "Herbivory_1h_L",
          "Herbivory_4h_L",
          "Herbivory_8h_L",
          "Herbivory_24h_L",
          "Herbivory_48h_L"
         ],
         "y": [
          0.25,
          0.2,
          0.2,
          0.2,
          0,
          0
         ]
        },
        {
         "line": {
          "color": "#1c0365",
          "dash": "dash",
          "width": 4
         },
         "mode": "lines+markers",
         "name": "Sevir.7G023700",
         "type": "scatter",
         "uid": "f8cf8a16-3633-11ea-9c5e-79fdfc20b759",
         "x": [
          "Herbivory_0h_L",
          "Herbivory_1h_L",
          "Herbivory_4h_L",
          "Herbivory_8h_L",
          "Herbivory_24h_L",
          "Herbivory_48h_L"
         ],
         "y": [
          0.901805,
          0,
          0.48381539999999995,
          1.405588,
          0.25,
          0
         ]
        },
        {
         "line": {
          "color": "#14a9ad",
          "dash": "solid",
          "width": 4
         },
         "mode": "lines+markers",
         "name": "Sevir.4G118900",
         "type": "scatter",
         "uid": "f8cf8b4c-3633-11ea-9c5e-79fdfc20b759",
         "x": [
          "Herbivory_0h_L",
          "Herbivory_1h_L",
          "Herbivory_4h_L",
          "Herbivory_8h_L",
          "Herbivory_24h_L",
          "Herbivory_48h_L"
         ],
         "y": [
          0.25,
          2,
          0,
          0.4,
          1.75,
          0.2
         ]
        },
        {
         "line": {
          "color": "#4ca2f9",
          "dash": "dot",
          "width": 4
         },
         "mode": "lines+markers",
         "name": "Sevir.8G081600",
         "type": "scatter",
         "uid": "f8cf8c82-3633-11ea-9c5e-79fdfc20b759",
         "x": [
          "Herbivory_0h_L",
          "Herbivory_1h_L",
          "Herbivory_4h_L",
          "Herbivory_8h_L",
          "Herbivory_24h_L",
          "Herbivory_48h_L"
         ],
         "y": [
          0,
          0,
          0,
          0,
          0,
          0
         ]
        },
        {
         "line": {
          "color": "#a4e43f",
          "dash": "dash",
          "width": 4
         },
         "mode": "lines+markers",
         "name": "Sevir.5G364132",
         "type": "scatter",
         "uid": "f8cf8dc2-3633-11ea-9c5e-79fdfc20b759",
         "x": [
          "Herbivory_0h_L",
          "Herbivory_1h_L",
          "Herbivory_4h_L",
          "Herbivory_8h_L",
          "Herbivory_24h_L",
          "Herbivory_48h_L"
         ],
         "y": [
          0.5,
          0.2,
          0.2,
          1,
          0.25,
          0.736112
         ]
        },
        {
         "line": {
          "color": "#d298e2",
          "dash": "solid",
          "width": 4
         },
         "mode": "lines+markers",
         "name": "Sevir.4G263301",
         "type": "scatter",
         "uid": "f8cf8eee-3633-11ea-9c5e-79fdfc20b759",
         "x": [
          "Herbivory_0h_L",
          "Herbivory_1h_L",
          "Herbivory_4h_L",
          "Herbivory_8h_L",
          "Herbivory_24h_L",
          "Herbivory_48h_L"
         ],
         "y": [
          0,
          0.2,
          0,
          0.2,
          0.5,
          0
         ]
        },
        {
         "line": {
          "color": "#6119d0",
          "dash": "dot",
          "width": 4
         },
         "mode": "lines+markers",
         "name": "Sevir.9G099466",
         "type": "scatter",
         "uid": "f8cf9024-3633-11ea-9c5e-79fdfc20b759",
         "x": [
          "Herbivory_0h_L",
          "Herbivory_1h_L",
          "Herbivory_4h_L",
          "Herbivory_8h_L",
          "Herbivory_24h_L",
          "Herbivory_48h_L"
         ],
         "y": [
          0.5,
          0,
          0.4,
          0.4,
          0,
          0.2
         ]
        },
        {
         "line": {
          "color": "#d2737d",
          "dash": "dash",
          "width": 4
         },
         "mode": "lines+markers",
         "name": "Sevir.9G078500",
         "type": "scatter",
         "uid": "f8cf915a-3633-11ea-9c5e-79fdfc20b759",
         "x": [
          "Herbivory_0h_L",
          "Herbivory_1h_L",
          "Herbivory_4h_L",
          "Herbivory_8h_L",
          "Herbivory_24h_L",
          "Herbivory_48h_L"
         ],
         "y": [
          0,
          0,
          0.2,
          0.2,
          0.25,
          1.6
         ]
        },
        {
         "line": {
          "color": "#c0a43c",
          "dash": "solid",
          "width": 4
         },
         "mode": "lines+markers",
         "name": "Sevir.2G263800",
         "type": "scatter",
         "uid": "f8cf9290-3633-11ea-9c5e-79fdfc20b759",
         "x": [
          "Herbivory_0h_L",
          "Herbivory_1h_L",
          "Herbivory_4h_L",
          "Herbivory_8h_L",
          "Herbivory_24h_L",
          "Herbivory_48h_L"
         ],
         "y": [
          0,
          0,
          0,
          0,
          0.5,
          0
         ]
        },
        {
         "line": {
          "color": "#f2510e",
          "dash": "dot",
          "width": 4
         },
         "mode": "lines+markers",
         "name": "Sevir.8G218520",
         "type": "scatter",
         "uid": "f8cf93bc-3633-11ea-9c5e-79fdfc20b759",
         "x": [
          "Herbivory_0h_L",
          "Herbivory_1h_L",
          "Herbivory_4h_L",
          "Herbivory_8h_L",
          "Herbivory_24h_L",
          "Herbivory_48h_L"
         ],
         "y": [
          0,
          0,
          0,
          0.2,
          0,
          0.6
         ]
        },
        {
         "line": {
          "color": "#651be6",
          "dash": "dash",
          "width": 4
         },
         "mode": "lines+markers",
         "name": "Sevir.3G390900",
         "type": "scatter",
         "uid": "f8cf94f2-3633-11ea-9c5e-79fdfc20b759",
         "x": [
          "Herbivory_0h_L",
          "Herbivory_1h_L",
          "Herbivory_4h_L",
          "Herbivory_8h_L",
          "Herbivory_24h_L",
          "Herbivory_48h_L"
         ],
         "y": [
          0,
          0,
          0,
          0.4,
          0,
          0.2
         ]
        },
        {
         "line": {
          "color": "#79806e",
          "dash": "solid",
          "width": 4
         },
         "mode": "lines+markers",
         "name": "Sevir.9G165400",
         "type": "scatter",
         "uid": "f8cf9628-3633-11ea-9c5e-79fdfc20b759",
         "x": [
          "Herbivory_0h_L",
          "Herbivory_1h_L",
          "Herbivory_4h_L",
          "Herbivory_8h_L",
          "Herbivory_24h_L",
          "Herbivory_48h_L"
         ],
         "y": [
          0.25,
          0,
          0,
          0.4,
          0.25,
          0
         ]
        },
        {
         "line": {
          "color": "#61da5e",
          "dash": "dot",
          "width": 4
         },
         "mode": "lines+markers",
         "name": "Sevir.8G245140",
         "type": "scatter",
         "uid": "f8cf975e-3633-11ea-9c5e-79fdfc20b759",
         "x": [
          "Herbivory_0h_L",
          "Herbivory_1h_L",
          "Herbivory_4h_L",
          "Herbivory_8h_L",
          "Herbivory_24h_L",
          "Herbivory_48h_L"
         ],
         "y": [
          0.75,
          0.6,
          0.4,
          0.2,
          0.5,
          1.2
         ]
        },
        {
         "line": {
          "color": "#cd2f00",
          "dash": "dash",
          "width": 4
         },
         "mode": "lines+markers",
         "name": "Sevir.8G087000",
         "type": "scatter",
         "uid": "f8cf9894-3633-11ea-9c5e-79fdfc20b759",
         "x": [
          "Herbivory_0h_L",
          "Herbivory_1h_L",
          "Herbivory_4h_L",
          "Herbivory_8h_L",
          "Herbivory_24h_L",
          "Herbivory_48h_L"
         ],
         "y": [
          0,
          0,
          0,
          0,
          0,
          0.2
         ]
        },
        {
         "line": {
          "color": "#9348af",
          "dash": "solid",
          "width": 4
         },
         "mode": "lines+markers",
         "name": "Sevir.9G576201",
         "type": "scatter",
         "uid": "f8cf99ca-3633-11ea-9c5e-79fdfc20b759",
         "x": [
          "Herbivory_0h_L",
          "Herbivory_1h_L",
          "Herbivory_4h_L",
          "Herbivory_8h_L",
          "Herbivory_24h_L",
          "Herbivory_48h_L"
         ],
         "y": [
          0,
          0,
          0.3924134,
          0,
          0,
          0
         ]
        },
        {
         "line": {
          "color": "#01ac53",
          "dash": "dot",
          "width": 4
         },
         "mode": "lines+markers",
         "name": "Sevir.5G470750",
         "type": "scatter",
         "uid": "f8cf9b00-3633-11ea-9c5e-79fdfc20b759",
         "x": [
          "Herbivory_0h_L",
          "Herbivory_1h_L",
          "Herbivory_4h_L",
          "Herbivory_8h_L",
          "Herbivory_24h_L",
          "Herbivory_48h_L"
         ],
         "y": [
          0,
          0.6,
          1.2,
          0.2,
          0,
          0
         ]
        },
        {
         "line": {
          "color": "#c5a4fb",
          "dash": "dash",
          "width": 4
         },
         "mode": "lines+markers",
         "name": "Sevir.1G060850",
         "type": "scatter",
         "uid": "f8cf9c36-3633-11ea-9c5e-79fdfc20b759",
         "x": [
          "Herbivory_0h_L",
          "Herbivory_1h_L",
          "Herbivory_4h_L",
          "Herbivory_8h_L",
          "Herbivory_24h_L",
          "Herbivory_48h_L"
         ],
         "y": [
          0,
          0,
          0,
          0,
          0,
          0
         ]
        },
        {
         "line": {
          "color": "#996635",
          "dash": "solid",
          "width": 4
         },
         "mode": "lines+markers",
         "name": "Sevir.2G280500",
         "type": "scatter",
         "uid": "f8cf9d6c-3633-11ea-9c5e-79fdfc20b759",
         "x": [
          "Herbivory_0h_L",
          "Herbivory_1h_L",
          "Herbivory_4h_L",
          "Herbivory_8h_L",
          "Herbivory_24h_L",
          "Herbivory_48h_L"
         ],
         "y": [
          0,
          0,
          0,
          0.305666,
          0.07680325,
          0
         ]
        },
        {
         "line": {
          "color": "#b11573",
          "dash": "dot",
          "width": 4
         },
         "mode": "lines+markers",
         "name": "Sevir.9G268200",
         "type": "scatter",
         "uid": "f8cf9e98-3633-11ea-9c5e-79fdfc20b759",
         "x": [
          "Herbivory_0h_L",
          "Herbivory_1h_L",
          "Herbivory_4h_L",
          "Herbivory_8h_L",
          "Herbivory_24h_L",
          "Herbivory_48h_L"
         ],
         "y": [
          0,
          0.6,
          0.2,
          0,
          0,
          1.2
         ]
        },
        {
         "line": {
          "color": "#4bb473",
          "dash": "dash",
          "width": 4
         },
         "mode": "lines+markers",
         "name": "Sevir.4G143101",
         "type": "scatter",
         "uid": "f8cf9fce-3633-11ea-9c5e-79fdfc20b759",
         "x": [
          "Herbivory_0h_L",
          "Herbivory_1h_L",
          "Herbivory_4h_L",
          "Herbivory_8h_L",
          "Herbivory_24h_L",
          "Herbivory_48h_L"
         ],
         "y": [
          0,
          0.20807799999999999,
          0,
          0,
          0,
          0
         ]
        },
        {
         "line": {
          "color": "#75d89e",
          "dash": "solid",
          "width": 4
         },
         "mode": "lines+markers",
         "name": "Sevir.2G342800",
         "type": "scatter",
         "uid": "f8cfa104-3633-11ea-9c5e-79fdfc20b759",
         "x": [
          "Herbivory_0h_L",
          "Herbivory_1h_L",
          "Herbivory_4h_L",
          "Herbivory_8h_L",
          "Herbivory_24h_L",
          "Herbivory_48h_L"
         ],
         "y": [
          0,
          0,
          0,
          0.4,
          0,
          0
         ]
        },
        {
         "line": {
          "color": "#2f3f94",
          "dash": "dot",
          "width": 4
         },
         "mode": "lines+markers",
         "name": "Sevir.1G019900",
         "type": "scatter",
         "uid": "f8cfa23a-3633-11ea-9c5e-79fdfc20b759",
         "x": [
          "Herbivory_0h_L",
          "Herbivory_1h_L",
          "Herbivory_4h_L",
          "Herbivory_8h_L",
          "Herbivory_24h_L",
          "Herbivory_48h_L"
         ],
         "y": [
          0,
          0,
          0,
          0,
          0,
          0
         ]
        },
        {
         "line": {
          "color": "#2f7b99",
          "dash": "dash",
          "width": 4
         },
         "mode": "lines+markers",
         "name": "Sevir.3G353500",
         "type": "scatter",
         "uid": "f8cfa370-3633-11ea-9c5e-79fdfc20b759",
         "x": [
          "Herbivory_0h_L",
          "Herbivory_1h_L",
          "Herbivory_4h_L",
          "Herbivory_8h_L",
          "Herbivory_24h_L",
          "Herbivory_48h_L"
         ],
         "y": [
          0,
          0,
          0,
          0,
          0,
          0
         ]
        },
        {
         "line": {
          "color": "#da967d",
          "dash": "solid",
          "width": 4
         },
         "mode": "lines+markers",
         "name": "Sevir.7G189700",
         "type": "scatter",
         "uid": "f8cfa49c-3633-11ea-9c5e-79fdfc20b759",
         "x": [
          "Herbivory_0h_L",
          "Herbivory_1h_L",
          "Herbivory_4h_L",
          "Herbivory_8h_L",
          "Herbivory_24h_L",
          "Herbivory_48h_L"
         ],
         "y": [
          0.25,
          0,
          0,
          0,
          0,
          0.4
         ]
        },
        {
         "line": {
          "color": "#34891f",
          "dash": "dot",
          "width": 4
         },
         "mode": "lines+markers",
         "name": "Sevir.4G118600",
         "type": "scatter",
         "uid": "f8cfa5d2-3633-11ea-9c5e-79fdfc20b759",
         "x": [
          "Herbivory_0h_L",
          "Herbivory_1h_L",
          "Herbivory_4h_L",
          "Herbivory_8h_L",
          "Herbivory_24h_L",
          "Herbivory_48h_L"
         ],
         "y": [
          0.2727046,
          0,
          0,
          0,
          0.25,
          0
         ]
        },
        {
         "line": {
          "color": "#b0d87b",
          "dash": "dash",
          "width": 4
         },
         "mode": "lines+markers",
         "name": "Sevir.5G315900",
         "type": "scatter",
         "uid": "f8cfa6fe-3633-11ea-9c5e-79fdfc20b759",
         "x": [
          "Herbivory_0h_L",
          "Herbivory_1h_L",
          "Herbivory_4h_L",
          "Herbivory_8h_L",
          "Herbivory_24h_L",
          "Herbivory_48h_L"
         ],
         "y": [
          0,
          0,
          0,
          0,
          0,
          0
         ]
        },
        {
         "line": {
          "color": "#ca4751",
          "dash": "solid",
          "width": 4
         },
         "mode": "lines+markers",
         "name": "Sevir.1G110232",
         "type": "scatter",
         "uid": "f8cfa834-3633-11ea-9c5e-79fdfc20b759",
         "x": [
          "Herbivory_0h_L",
          "Herbivory_1h_L",
          "Herbivory_4h_L",
          "Herbivory_8h_L",
          "Herbivory_24h_L",
          "Herbivory_48h_L"
         ],
         "y": [
          0.25,
          0,
          0,
          0,
          0,
          0
         ]
        },
        {
         "line": {
          "color": "#7e50a8",
          "dash": "dot",
          "width": 4
         },
         "mode": "lines+markers",
         "name": "Sevir.5G206100",
         "type": "scatter",
         "uid": "f8cfa96a-3633-11ea-9c5e-79fdfc20b759",
         "x": [
          "Herbivory_0h_L",
          "Herbivory_1h_L",
          "Herbivory_4h_L",
          "Herbivory_8h_L",
          "Herbivory_24h_L",
          "Herbivory_48h_L"
         ],
         "y": [
          0,
          0,
          0.2,
          0.2,
          0,
          0.4
         ]
        },
        {
         "line": {
          "color": "#c4d647",
          "dash": "dash",
          "width": 4
         },
         "mode": "lines+markers",
         "name": "Sevir.3G353200",
         "type": "scatter",
         "uid": "f8cfaa96-3633-11ea-9c5e-79fdfc20b759",
         "x": [
          "Herbivory_0h_L",
          "Herbivory_1h_L",
          "Herbivory_4h_L",
          "Herbivory_8h_L",
          "Herbivory_24h_L",
          "Herbivory_48h_L"
         ],
         "y": [
          0,
          0,
          0,
          0,
          0,
          0.2
         ]
        },
        {
         "line": {
          "color": "#e0eeb8",
          "dash": "solid",
          "width": 4
         },
         "mode": "lines+markers",
         "name": "Sevir.4G093300",
         "type": "scatter",
         "uid": "f8cfadfc-3633-11ea-9c5e-79fdfc20b759",
         "x": [
          "Herbivory_0h_L",
          "Herbivory_1h_L",
          "Herbivory_4h_L",
          "Herbivory_8h_L",
          "Herbivory_24h_L",
          "Herbivory_48h_L"
         ],
         "y": [
          0.75,
          0.8,
          0.6,
          0.6,
          0,
          0.4
         ]
        },
        {
         "line": {
          "color": "#11dec1",
          "dash": "dot",
          "width": 4
         },
         "mode": "lines+markers",
         "name": "Sevir.1G171100",
         "type": "scatter",
         "uid": "f8cfaf46-3633-11ea-9c5e-79fdfc20b759",
         "x": [
          "Herbivory_0h_L",
          "Herbivory_1h_L",
          "Herbivory_4h_L",
          "Herbivory_8h_L",
          "Herbivory_24h_L",
          "Herbivory_48h_L"
         ],
         "y": [
          0,
          0,
          0,
          0.4,
          0,
          0
         ]
        },
        {
         "line": {
          "color": "#289812",
          "dash": "dash",
          "width": 4
         },
         "mode": "lines+markers",
         "name": "Sevir.2G305750",
         "type": "scatter",
         "uid": "f8cfb02c-3633-11ea-9c5e-79fdfc20b759",
         "x": [
          "Herbivory_0h_L",
          "Herbivory_1h_L",
          "Herbivory_4h_L",
          "Herbivory_8h_L",
          "Herbivory_24h_L",
          "Herbivory_48h_L"
         ],
         "y": [
          0,
          4.1097554,
          0,
          0.4459254,
          0.4626375,
          0.802336
         ]
        },
        {
         "line": {
          "color": "#566ca0",
          "dash": "solid",
          "width": 4
         },
         "mode": "lines+markers",
         "name": "Sevir.9G169700",
         "type": "scatter",
         "uid": "f8cfb112-3633-11ea-9c5e-79fdfc20b759",
         "x": [
          "Herbivory_0h_L",
          "Herbivory_1h_L",
          "Herbivory_4h_L",
          "Herbivory_8h_L",
          "Herbivory_24h_L",
          "Herbivory_48h_L"
         ],
         "y": [
          0,
          0,
          0,
          0,
          0,
          0
         ]
        },
        {
         "line": {
          "color": "#ffdbe1",
          "dash": "dot",
          "width": 4
         },
         "mode": "lines+markers",
         "name": "Sevir.1G020800",
         "type": "scatter",
         "uid": "f8cfb1ee-3633-11ea-9c5e-79fdfc20b759",
         "x": [
          "Herbivory_0h_L",
          "Herbivory_1h_L",
          "Herbivory_4h_L",
          "Herbivory_8h_L",
          "Herbivory_24h_L",
          "Herbivory_48h_L"
         ],
         "y": [
          0.5,
          0,
          0.4,
          0.4,
          0,
          0.2
         ]
        },
        {
         "line": {
          "color": "#2f1179",
          "dash": "dash",
          "width": 4
         },
         "mode": "lines+markers",
         "name": "Sevir.5G194900",
         "type": "scatter",
         "uid": "f8cfb2d4-3633-11ea-9c5e-79fdfc20b759",
         "x": [
          "Herbivory_0h_L",
          "Herbivory_1h_L",
          "Herbivory_4h_L",
          "Herbivory_8h_L",
          "Herbivory_24h_L",
          "Herbivory_48h_L"
         ],
         "y": [
          0,
          0,
          0,
          0,
          0,
          0
         ]
        },
        {
         "line": {
          "color": "#935b6d",
          "dash": "solid",
          "width": 4
         },
         "mode": "lines+markers",
         "name": "Sevir.6G028050",
         "type": "scatter",
         "uid": "f8cfb3b0-3633-11ea-9c5e-79fdfc20b759",
         "x": [
          "Herbivory_0h_L",
          "Herbivory_1h_L",
          "Herbivory_4h_L",
          "Herbivory_8h_L",
          "Herbivory_24h_L",
          "Herbivory_48h_L"
         ],
         "y": [
          0.25,
          0,
          0.2,
          0,
          0,
          0
         ]
        },
        {
         "line": {
          "color": "#916988",
          "dash": "dot",
          "width": 4
         },
         "mode": "lines+markers",
         "name": "Sevir.2G003200",
         "type": "scatter",
         "uid": "f8cfb496-3633-11ea-9c5e-79fdfc20b759",
         "x": [
          "Herbivory_0h_L",
          "Herbivory_1h_L",
          "Herbivory_4h_L",
          "Herbivory_8h_L",
          "Herbivory_24h_L",
          "Herbivory_48h_L"
         ],
         "y": [
          0,
          0,
          0,
          0,
          0,
          0
         ]
        },
        {
         "line": {
          "color": "#513d98",
          "dash": "dash",
          "width": 4
         },
         "mode": "lines+markers",
         "name": "Sevir.8G079100",
         "type": "scatter",
         "uid": "f8cfb57c-3633-11ea-9c5e-79fdfc20b759",
         "x": [
          "Herbivory_0h_L",
          "Herbivory_1h_L",
          "Herbivory_4h_L",
          "Herbivory_8h_L",
          "Herbivory_24h_L",
          "Herbivory_48h_L"
         ],
         "y": [
          0,
          0,
          0,
          0,
          0,
          0
         ]
        },
        {
         "line": {
          "color": "#aead3a",
          "dash": "solid",
          "width": 4
         },
         "mode": "lines+markers",
         "name": "Sevir.4G293501",
         "type": "scatter",
         "uid": "f8cfb658-3633-11ea-9c5e-79fdfc20b759",
         "x": [
          "Herbivory_0h_L",
          "Herbivory_1h_L",
          "Herbivory_4h_L",
          "Herbivory_8h_L",
          "Herbivory_24h_L",
          "Herbivory_48h_L"
         ],
         "y": [
          0,
          0,
          0,
          0,
          0,
          0
         ]
        },
        {
         "line": {
          "color": "#9e6d71",
          "dash": "dot",
          "width": 4
         },
         "mode": "lines+markers",
         "name": "Sevir.7G022900",
         "type": "scatter",
         "uid": "f8cfb748-3633-11ea-9c5e-79fdfc20b759",
         "x": [
          "Herbivory_0h_L",
          "Herbivory_1h_L",
          "Herbivory_4h_L",
          "Herbivory_8h_L",
          "Herbivory_24h_L",
          "Herbivory_48h_L"
         ],
         "y": [
          0,
          0,
          0,
          0,
          0,
          0
         ]
        },
        {
         "line": {
          "color": "#4b5bdc",
          "dash": "dash",
          "width": 4
         },
         "mode": "lines+markers",
         "name": "Sevir.8G165900",
         "type": "scatter",
         "uid": "f8cfb82e-3633-11ea-9c5e-79fdfc20b759",
         "x": [
          "Herbivory_0h_L",
          "Herbivory_1h_L",
          "Herbivory_4h_L",
          "Herbivory_8h_L",
          "Herbivory_24h_L",
          "Herbivory_48h_L"
         ],
         "y": [
          0,
          0,
          0,
          0,
          0,
          0
         ]
        },
        {
         "line": {
          "color": "#0cd36d",
          "dash": "solid",
          "width": 4
         },
         "mode": "lines+markers",
         "name": "Sevir.9G092300",
         "type": "scatter",
         "uid": "f8cfb90a-3633-11ea-9c5e-79fdfc20b759",
         "x": [
          "Herbivory_0h_L",
          "Herbivory_1h_L",
          "Herbivory_4h_L",
          "Herbivory_8h_L",
          "Herbivory_24h_L",
          "Herbivory_48h_L"
         ],
         "y": [
          0,
          0,
          0,
          0,
          0,
          0
         ]
        },
        {
         "line": {
          "color": "#250662",
          "dash": "dot",
          "width": 4
         },
         "mode": "lines+markers",
         "name": "Sevir.6G113200",
         "type": "scatter",
         "uid": "f8cfb9f0-3633-11ea-9c5e-79fdfc20b759",
         "x": [
          "Herbivory_0h_L",
          "Herbivory_1h_L",
          "Herbivory_4h_L",
          "Herbivory_8h_L",
          "Herbivory_24h_L",
          "Herbivory_48h_L"
         ],
         "y": [
          0,
          0,
          0.010769860000000001,
          0,
          0,
          0
         ]
        },
        {
         "line": {
          "color": "#cb5bea",
          "dash": "dash",
          "width": 4
         },
         "mode": "lines+markers",
         "name": "Sevir.4G160200",
         "type": "scatter",
         "uid": "f8cfbacc-3633-11ea-9c5e-79fdfc20b759",
         "x": [
          "Herbivory_0h_L",
          "Herbivory_1h_L",
          "Herbivory_4h_L",
          "Herbivory_8h_L",
          "Herbivory_24h_L",
          "Herbivory_48h_L"
         ],
         "y": [
          0,
          0,
          0,
          0,
          0,
          0.2
         ]
        },
        {
         "line": {
          "color": "#228916",
          "dash": "solid",
          "width": 4
         },
         "mode": "lines+markers",
         "name": "Sevir.5G037400",
         "type": "scatter",
         "uid": "f8cfbbb2-3633-11ea-9c5e-79fdfc20b759",
         "x": [
          "Herbivory_0h_L",
          "Herbivory_1h_L",
          "Herbivory_4h_L",
          "Herbivory_8h_L",
          "Herbivory_24h_L",
          "Herbivory_48h_L"
         ],
         "y": [
          0,
          0,
          0,
          0,
          0,
          0.4
         ]
        },
        {
         "line": {
          "color": "#ac3e1b",
          "dash": "dot",
          "width": 4
         },
         "mode": "lines+markers",
         "name": "Sevir.3G298200",
         "type": "scatter",
         "uid": "f8cfbc8e-3633-11ea-9c5e-79fdfc20b759",
         "x": [
          "Herbivory_0h_L",
          "Herbivory_1h_L",
          "Herbivory_4h_L",
          "Herbivory_8h_L",
          "Herbivory_24h_L",
          "Herbivory_48h_L"
         ],
         "y": [
          0,
          0.4,
          0,
          0,
          0,
          0
         ]
        },
        {
         "line": {
          "color": "#df514a",
          "dash": "dash",
          "width": 4
         },
         "mode": "lines+markers",
         "name": "Sevir.2G437300",
         "type": "scatter",
         "uid": "f8cfbd6a-3633-11ea-9c5e-79fdfc20b759",
         "x": [
          "Herbivory_0h_L",
          "Herbivory_1h_L",
          "Herbivory_4h_L",
          "Herbivory_8h_L",
          "Herbivory_24h_L",
          "Herbivory_48h_L"
         ],
         "y": [
          0,
          0,
          0,
          0,
          0,
          0.2
         ]
        },
        {
         "line": {
          "color": "#539397",
          "dash": "solid",
          "width": 4
         },
         "mode": "lines+markers",
         "name": "Sevir.9G095700",
         "type": "scatter",
         "uid": "f8cfbe50-3633-11ea-9c5e-79fdfc20b759",
         "x": [
          "Herbivory_0h_L",
          "Herbivory_1h_L",
          "Herbivory_4h_L",
          "Herbivory_8h_L",
          "Herbivory_24h_L",
          "Herbivory_48h_L"
         ],
         "y": [
          0.2962975,
          0.301068,
          0.318444,
          0.348366,
          2.0681025,
          0.61451
         ]
        },
        {
         "line": {
          "color": "#880977",
          "dash": "dot",
          "width": 4
         },
         "mode": "lines+markers",
         "name": "Sevir.1G265000",
         "type": "scatter",
         "uid": "f8cfbf86-3633-11ea-9c5e-79fdfc20b759",
         "x": [
          "Herbivory_0h_L",
          "Herbivory_1h_L",
          "Herbivory_4h_L",
          "Herbivory_8h_L",
          "Herbivory_24h_L",
          "Herbivory_48h_L"
         ],
         "y": [
          0,
          0,
          0,
          0,
          0,
          0
         ]
        },
        {
         "line": {
          "color": "#f697c1",
          "dash": "dash",
          "width": 4
         },
         "mode": "lines+markers",
         "name": "Sevir.5G418900",
         "type": "scatter",
         "uid": "f8cfc080-3633-11ea-9c5e-79fdfc20b759",
         "x": [
          "Herbivory_0h_L",
          "Herbivory_1h_L",
          "Herbivory_4h_L",
          "Herbivory_8h_L",
          "Herbivory_24h_L",
          "Herbivory_48h_L"
         ],
         "y": [
          0,
          0,
          0.4,
          0,
          0,
          0
         ]
        },
        {
         "line": {
          "color": "#ba96ce",
          "dash": "solid",
          "width": 4
         },
         "mode": "lines+markers",
         "name": "Sevir.8G237700",
         "type": "scatter",
         "uid": "f8cfc15c-3633-11ea-9c5e-79fdfc20b759",
         "x": [
          "Herbivory_0h_L",
          "Herbivory_1h_L",
          "Herbivory_4h_L",
          "Herbivory_8h_L",
          "Herbivory_24h_L",
          "Herbivory_48h_L"
         ],
         "y": [
          0,
          0,
          0,
          0,
          0,
          0
         ]
        },
        {
         "line": {
          "color": "#679c9d",
          "dash": "dot",
          "width": 4
         },
         "mode": "lines+markers",
         "name": "Sevir.2G177600",
         "type": "scatter",
         "uid": "f8cfc242-3633-11ea-9c5e-79fdfc20b759",
         "x": [
          "Herbivory_0h_L",
          "Herbivory_1h_L",
          "Herbivory_4h_L",
          "Herbivory_8h_L",
          "Herbivory_24h_L",
          "Herbivory_48h_L"
         ],
         "y": [
          0,
          0,
          0.2,
          0,
          0.5,
          0
         ]
        },
        {
         "line": {
          "color": "#c6c42c",
          "dash": "dash",
          "width": 4
         },
         "mode": "lines+markers",
         "name": "Sevir.9G253801",
         "type": "scatter",
         "uid": "f8cfc31e-3633-11ea-9c5e-79fdfc20b759",
         "x": [
          "Herbivory_0h_L",
          "Herbivory_1h_L",
          "Herbivory_4h_L",
          "Herbivory_8h_L",
          "Herbivory_24h_L",
          "Herbivory_48h_L"
         ],
         "y": [
          0,
          0,
          0,
          0.4,
          0,
          0
         ]
        },
        {
         "line": {
          "color": "#5d2c52",
          "dash": "solid",
          "width": 4
         },
         "mode": "lines+markers",
         "name": "Sevir.6G183566",
         "type": "scatter",
         "uid": "f8cfc404-3633-11ea-9c5e-79fdfc20b759",
         "x": [
          "Herbivory_0h_L",
          "Herbivory_1h_L",
          "Herbivory_4h_L",
          "Herbivory_8h_L",
          "Herbivory_24h_L",
          "Herbivory_48h_L"
         ],
         "y": [
          0,
          0,
          0,
          0,
          0,
          0
         ]
        },
        {
         "line": {
          "color": "#48b41b",
          "dash": "dot",
          "width": 4
         },
         "mode": "lines+markers",
         "name": "Sevir.8G259500",
         "type": "scatter",
         "uid": "f8cfc4e0-3633-11ea-9c5e-79fdfc20b759",
         "x": [
          "Herbivory_0h_L",
          "Herbivory_1h_L",
          "Herbivory_4h_L",
          "Herbivory_8h_L",
          "Herbivory_24h_L",
          "Herbivory_48h_L"
         ],
         "y": [
          0.250795,
          0.5419974,
          0.401332,
          1.002706,
          0.75094,
          0.486672
         ]
        },
        {
         "line": {
          "color": "#e1cf3b",
          "dash": "dash",
          "width": 4
         },
         "mode": "lines+markers",
         "name": "Sevir.5G036550",
         "type": "scatter",
         "uid": "f8cfc5c6-3633-11ea-9c5e-79fdfc20b759",
         "x": [
          "Herbivory_0h_L",
          "Herbivory_1h_L",
          "Herbivory_4h_L",
          "Herbivory_8h_L",
          "Herbivory_24h_L",
          "Herbivory_48h_L"
         ],
         "y": [
          0,
          0.4,
          0.4,
          0.6,
          1,
          1.402342
         ]
        },
        {
         "line": {
          "color": "#5be4f0",
          "dash": "solid",
          "width": 4
         },
         "mode": "lines+markers",
         "name": "Sevir.7G279700",
         "type": "scatter",
         "uid": "f8cfc6a2-3633-11ea-9c5e-79fdfc20b759",
         "x": [
          "Herbivory_0h_L",
          "Herbivory_1h_L",
          "Herbivory_4h_L",
          "Herbivory_8h_L",
          "Herbivory_24h_L",
          "Herbivory_48h_L"
         ],
         "y": [
          0,
          0.8,
          0,
          0.2,
          0.5,
          0.2
         ]
        },
        {
         "line": {
          "color": "#57c4d8",
          "dash": "dot",
          "width": 4
         },
         "mode": "lines+markers",
         "name": "Sevir.8G068450",
         "type": "scatter",
         "uid": "f8cfc788-3633-11ea-9c5e-79fdfc20b759",
         "x": [
          "Herbivory_0h_L",
          "Herbivory_1h_L",
          "Herbivory_4h_L",
          "Herbivory_8h_L",
          "Herbivory_24h_L",
          "Herbivory_48h_L"
         ],
         "y": [
          0,
          0,
          0,
          0,
          0,
          0
         ]
        },
        {
         "line": {
          "color": "#a4d17a",
          "dash": "dash",
          "width": 4
         },
         "mode": "lines+markers",
         "name": "Sevir.9G576750",
         "type": "scatter",
         "uid": "f8cfc864-3633-11ea-9c5e-79fdfc20b759",
         "x": [
          "Herbivory_0h_L",
          "Herbivory_1h_L",
          "Herbivory_4h_L",
          "Herbivory_8h_L",
          "Herbivory_24h_L",
          "Herbivory_48h_L"
         ],
         "y": [
          1,
          1,
          0.4,
          2.6,
          1.25,
          2.2
         ]
        },
        {
         "line": {
          "color": "#225b8e",
          "dash": "solid",
          "width": 4
         },
         "mode": "lines+markers",
         "name": "Sevir.9G248533",
         "type": "scatter",
         "uid": "f8cfc94a-3633-11ea-9c5e-79fdfc20b759",
         "x": [
          "Herbivory_0h_L",
          "Herbivory_1h_L",
          "Herbivory_4h_L",
          "Herbivory_8h_L",
          "Herbivory_24h_L",
          "Herbivory_48h_L"
         ],
         "y": [
          1.25,
          1,
          2.2,
          1.8,
          2,
          3.6
         ]
        },
        {
         "line": {
          "color": "#be608b",
          "dash": "dot",
          "width": 4
         },
         "mode": "lines+markers",
         "name": "Sevir.1G379100",
         "type": "scatter",
         "uid": "f8cfca26-3633-11ea-9c5e-79fdfc20b759",
         "x": [
          "Herbivory_0h_L",
          "Herbivory_1h_L",
          "Herbivory_4h_L",
          "Herbivory_8h_L",
          "Herbivory_24h_L",
          "Herbivory_48h_L"
         ],
         "y": [
          5.2859475,
          7.04516,
          8.576972,
          8.869028,
          7.8366925,
          12.17082
         ]
        },
        {
         "line": {
          "color": "#96b00c",
          "dash": "dash",
          "width": 4
         },
         "mode": "lines+markers",
         "name": "Sevir.8G222414",
         "type": "scatter",
         "uid": "f8cfcb02-3633-11ea-9c5e-79fdfc20b759",
         "x": [
          "Herbivory_0h_L",
          "Herbivory_1h_L",
          "Herbivory_4h_L",
          "Herbivory_8h_L",
          "Herbivory_24h_L",
          "Herbivory_48h_L"
         ],
         "y": [
          2.192065,
          1.6,
          1.6,
          0.4,
          1.25,
          1.2
         ]
        },
        {
         "line": {
          "color": "#088baf",
          "dash": "solid",
          "width": 4
         },
         "mode": "lines+markers",
         "name": "Sevir.6G039200",
         "type": "scatter",
         "uid": "f8cfcbde-3633-11ea-9c5e-79fdfc20b759",
         "x": [
          "Herbivory_0h_L",
          "Herbivory_1h_L",
          "Herbivory_4h_L",
          "Herbivory_8h_L",
          "Herbivory_24h_L",
          "Herbivory_48h_L"
         ],
         "y": [
          3.5315575,
          5.967819999999999,
          6.768730000000001,
          6.484050000000001,
          7.081980000000001,
          6.5681020000000006
         ]
        },
        {
         "line": {
          "color": "#f158bf",
          "dash": "dot",
          "width": 4
         },
         "mode": "lines+markers",
         "name": "Sevir.6G075100",
         "type": "scatter",
         "uid": "f8cfccc4-3633-11ea-9c5e-79fdfc20b759",
         "x": [
          "Herbivory_0h_L",
          "Herbivory_1h_L",
          "Herbivory_4h_L",
          "Herbivory_8h_L",
          "Herbivory_24h_L",
          "Herbivory_48h_L"
         ],
         "y": [
          0,
          0,
          0,
          0,
          0,
          0
         ]
        },
        {
         "line": {
          "color": "#e145ba",
          "dash": "dash",
          "width": 4
         },
         "mode": "lines+markers",
         "name": "Sevir.3G331800",
         "type": "scatter",
         "uid": "f8cfcda0-3633-11ea-9c5e-79fdfc20b759",
         "x": [
          "Herbivory_0h_L",
          "Herbivory_1h_L",
          "Herbivory_4h_L",
          "Herbivory_8h_L",
          "Herbivory_24h_L",
          "Herbivory_48h_L"
         ],
         "y": [
          0.25,
          0,
          0.8,
          0.2,
          0.75,
          0.2
         ]
        },
        {
         "line": {
          "color": "#ee91e3",
          "dash": "solid",
          "width": 4
         },
         "mode": "lines+markers",
         "name": "Sevir.4G164200",
         "type": "scatter",
         "uid": "f8cfce7c-3633-11ea-9c5e-79fdfc20b759",
         "x": [
          "Herbivory_0h_L",
          "Herbivory_1h_L",
          "Herbivory_4h_L",
          "Herbivory_8h_L",
          "Herbivory_24h_L",
          "Herbivory_48h_L"
         ],
         "y": [
          0,
          0,
          0.2,
          0,
          0,
          0
         ]
        },
        {
         "line": {
          "color": "#05d371",
          "dash": "dot",
          "width": 4
         },
         "mode": "lines+markers",
         "name": "Sevir.9G347733",
         "type": "scatter",
         "uid": "f8cfcf58-3633-11ea-9c5e-79fdfc20b759",
         "x": [
          "Herbivory_0h_L",
          "Herbivory_1h_L",
          "Herbivory_4h_L",
          "Herbivory_8h_L",
          "Herbivory_24h_L",
          "Herbivory_48h_L"
         ],
         "y": [
          0.25,
          0.2,
          1.4,
          0.6,
          0,
          0.8
         ]
        },
        {
         "line": {
          "color": "#5426e0",
          "dash": "dash",
          "width": 4
         },
         "mode": "lines+markers",
         "name": "Sevir.2G396750",
         "type": "scatter",
         "uid": "f8cfd03e-3633-11ea-9c5e-79fdfc20b759",
         "x": [
          "Herbivory_0h_L",
          "Herbivory_1h_L",
          "Herbivory_4h_L",
          "Herbivory_8h_L",
          "Herbivory_24h_L",
          "Herbivory_48h_L"
         ],
         "y": [
          0,
          0,
          0,
          0,
          0,
          0
         ]
        },
        {
         "line": {
          "color": "#4834d0",
          "dash": "solid",
          "width": 4
         },
         "mode": "lines+markers",
         "name": "Sevir.3G116100",
         "type": "scatter",
         "uid": "f8cfd11a-3633-11ea-9c5e-79fdfc20b759",
         "x": [
          "Herbivory_0h_L",
          "Herbivory_1h_L",
          "Herbivory_4h_L",
          "Herbivory_8h_L",
          "Herbivory_24h_L",
          "Herbivory_48h_L"
         ],
         "y": [
          0,
          0.8,
          0.2,
          0,
          0.25,
          0
         ]
        },
        {
         "line": {
          "color": "#802234",
          "dash": "dot",
          "width": 4
         },
         "mode": "lines+markers",
         "name": "Sevir.7G061100",
         "type": "scatter",
         "uid": "f8cfd1ec-3633-11ea-9c5e-79fdfc20b759",
         "x": [
          "Herbivory_0h_L",
          "Herbivory_1h_L",
          "Herbivory_4h_L",
          "Herbivory_8h_L",
          "Herbivory_24h_L",
          "Herbivory_48h_L"
         ],
         "y": [
          0,
          0,
          0,
          0,
          0,
          0
         ]
        },
        {
         "line": {
          "color": "#6749e8",
          "dash": "dash",
          "width": 4
         },
         "mode": "lines+markers",
         "name": "Sevir.2G307100",
         "type": "scatter",
         "uid": "f8cfd340-3633-11ea-9c5e-79fdfc20b759",
         "x": [
          "Herbivory_0h_L",
          "Herbivory_1h_L",
          "Herbivory_4h_L",
          "Herbivory_8h_L",
          "Herbivory_24h_L",
          "Herbivory_48h_L"
         ],
         "y": [
          0,
          0,
          0.2,
          0,
          0,
          0
         ]
        },
        {
         "line": {
          "color": "#0971f0",
          "dash": "solid",
          "width": 4
         },
         "mode": "lines+markers",
         "name": "Sevir.5G087400",
         "type": "scatter",
         "uid": "f8cfd430-3633-11ea-9c5e-79fdfc20b759",
         "x": [
          "Herbivory_0h_L",
          "Herbivory_1h_L",
          "Herbivory_4h_L",
          "Herbivory_8h_L",
          "Herbivory_24h_L",
          "Herbivory_48h_L"
         ],
         "y": [
          0.25,
          0.6,
          0.8,
          0.6,
          0.5,
          1
         ]
        },
        {
         "line": {
          "color": "#8fb413",
          "dash": "dot",
          "width": 4
         },
         "mode": "lines+markers",
         "name": "Sevir.7G005300",
         "type": "scatter",
         "uid": "f8cfd4f8-3633-11ea-9c5e-79fdfc20b759",
         "x": [
          "Herbivory_0h_L",
          "Herbivory_1h_L",
          "Herbivory_4h_L",
          "Herbivory_8h_L",
          "Herbivory_24h_L",
          "Herbivory_48h_L"
         ],
         "y": [
          0,
          0.4,
          0,
          0,
          0,
          0.2
         ]
        },
        {
         "line": {
          "color": "#b2b4f0",
          "dash": "dash",
          "width": 4
         },
         "mode": "lines+markers",
         "name": "Sevir.2G026100",
         "type": "scatter",
         "uid": "f8cfd5ca-3633-11ea-9c5e-79fdfc20b759",
         "x": [
          "Herbivory_0h_L",
          "Herbivory_1h_L",
          "Herbivory_4h_L",
          "Herbivory_8h_L",
          "Herbivory_24h_L",
          "Herbivory_48h_L"
         ],
         "y": [
          0.25,
          2,
          1.2,
          0.4,
          0.25,
          1.2
         ]
        },
        {
         "line": {
          "color": "#c3c89d",
          "dash": "solid",
          "width": 4
         },
         "mode": "lines+markers",
         "name": "Sevir.9G072900",
         "type": "scatter",
         "uid": "f8cfd692-3633-11ea-9c5e-79fdfc20b759",
         "x": [
          "Herbivory_0h_L",
          "Herbivory_1h_L",
          "Herbivory_4h_L",
          "Herbivory_8h_L",
          "Herbivory_24h_L",
          "Herbivory_48h_L"
         ],
         "y": [
          0,
          0,
          0.4,
          0,
          0,
          0.6
         ]
        }
       ],
       "layout": {
        "dragmode": "select",
        "plot_bgcolor": "white",
        "title": "Average Gene Expression - Herbivory",
        "xaxis": {
         "gridcolor": "whitesmoke",
         "showgrid": true,
         "title": "Experimental Conditions"
        },
        "yaxis": {
         "gridcolor": "whitesmoke",
         "showgrid": true,
         "title": "Expression"
        }
       }
      },
      "text/html": [
       "<div id=\"c810e2c5-4a35-4c02-9f5a-f4bd7532e9d2\" style=\"height: 525px; width: 100%;\" class=\"plotly-graph-div\"></div><script type=\"text/javascript\">require([\"plotly\"], function(Plotly) { window.PLOTLYENV=window.PLOTLYENV || {};window.PLOTLYENV.BASE_URL=\"https://plot.ly\";Plotly.newPlot(\"c810e2c5-4a35-4c02-9f5a-f4bd7532e9d2\", [{\"line\": {\"color\": \"#ce7d78\", \"dash\": \"dot\", \"width\": 4}, \"mode\": \"lines+markers\", \"name\": \"Sevir.9G282425\", \"x\": [\"Herbivory_0h_L\", \"Herbivory_1h_L\", \"Herbivory_4h_L\", \"Herbivory_8h_L\", \"Herbivory_24h_L\", \"Herbivory_48h_L\"], \"y\": [0.25, 0.0, 0.0, 0.4, 0.0, 0.4], \"type\": \"scatter\", \"uid\": \"f961c994-3633-11ea-9c5e-79fdfc20b759\"}, {\"line\": {\"color\": \"#ea9e70\", \"dash\": \"dash\", \"width\": 4}, \"mode\": \"lines+markers\", \"name\": \"Sevir.7G018910\", \"x\": [\"Herbivory_0h_L\", \"Herbivory_1h_L\", \"Herbivory_4h_L\", \"Herbivory_8h_L\", \"Herbivory_24h_L\", \"Herbivory_48h_L\"], \"y\": [0.0, 0.0, 0.0297604, 0.077722, 0.0, 0.0], \"type\": \"scatter\", \"uid\": \"f961cdd6-3633-11ea-9c5e-79fdfc20b759\"}, {\"line\": {\"color\": \"#a48a9e\", \"dash\": \"solid\", \"width\": 4}, \"mode\": \"lines+markers\", \"name\": \"Sevir.5G044500\", \"x\": [\"Herbivory_0h_L\", \"Herbivory_1h_L\", \"Herbivory_4h_L\", \"Herbivory_8h_L\", \"Herbivory_24h_L\", \"Herbivory_48h_L\"], \"y\": [0.0, 0.2, 0.0, 0.0, 0.0, 0.0], \"type\": \"scatter\", \"uid\": \"f961d010-3633-11ea-9c5e-79fdfc20b759\"}, {\"line\": {\"color\": \"#c6e1e8\", \"dash\": \"dot\", \"width\": 4}, \"mode\": \"lines+markers\", \"name\": \"Sevir.2G127900\", \"x\": [\"Herbivory_0h_L\", \"Herbivory_1h_L\", \"Herbivory_4h_L\", \"Herbivory_8h_L\", \"Herbivory_24h_L\", \"Herbivory_48h_L\"], \"y\": [0.25, 0.0, 0.4, 0.0, 0.0, 0.2], \"type\": \"scatter\", \"uid\": \"f961d1e6-3633-11ea-9c5e-79fdfc20b759\"}, {\"line\": {\"color\": \"#648177\", \"dash\": \"dash\", \"width\": 4}, \"mode\": \"lines+markers\", \"name\": \"Sevir.5G129000\", \"x\": [\"Herbivory_0h_L\", \"Herbivory_1h_L\", \"Herbivory_4h_L\", \"Herbivory_8h_L\", \"Herbivory_24h_L\", \"Herbivory_48h_L\"], \"y\": [5.6590975, 5.06602, 3.5116300000000003, 3.85864, 5.924737499999999, 4.511216], \"type\": \"scatter\", \"uid\": \"f961d394-3633-11ea-9c5e-79fdfc20b759\"}, {\"line\": {\"color\": \"#0d5ac1\", \"dash\": \"solid\", \"width\": 4}, \"mode\": \"lines+markers\", \"name\": \"Sevir.2G354400\", \"x\": [\"Herbivory_0h_L\", \"Herbivory_1h_L\", \"Herbivory_4h_L\", \"Herbivory_8h_L\", \"Herbivory_24h_L\", \"Herbivory_48h_L\"], \"y\": [0.0, 0.0, 0.0, 0.0, 0.0, 0.0], \"type\": \"scatter\", \"uid\": \"f961d542-3633-11ea-9c5e-79fdfc20b759\"}, {\"line\": {\"color\": \"#f205e6\", \"dash\": \"dot\", \"width\": 4}, \"mode\": \"lines+markers\", \"name\": \"Sevir.2G152600\", \"x\": [\"Herbivory_0h_L\", \"Herbivory_1h_L\", \"Herbivory_4h_L\", \"Herbivory_8h_L\", \"Herbivory_24h_L\", \"Herbivory_48h_L\"], \"y\": [0.25, 0.2, 0.2, 0.2, 0.0, 0.0], \"type\": \"scatter\", \"uid\": \"f961d6e6-3633-11ea-9c5e-79fdfc20b759\"}, {\"line\": {\"color\": \"#1c0365\", \"dash\": \"dash\", \"width\": 4}, \"mode\": \"lines+markers\", \"name\": \"Sevir.7G023700\", \"x\": [\"Herbivory_0h_L\", \"Herbivory_1h_L\", \"Herbivory_4h_L\", \"Herbivory_8h_L\", \"Herbivory_24h_L\", \"Herbivory_48h_L\"], \"y\": [0.901805, 0.0, 0.48381539999999995, 1.405588, 0.25, 0.0], \"type\": \"scatter\", \"uid\": \"f961d88a-3633-11ea-9c5e-79fdfc20b759\"}, {\"line\": {\"color\": \"#14a9ad\", \"dash\": \"solid\", \"width\": 4}, \"mode\": \"lines+markers\", \"name\": \"Sevir.4G118900\", \"x\": [\"Herbivory_0h_L\", \"Herbivory_1h_L\", \"Herbivory_4h_L\", \"Herbivory_8h_L\", \"Herbivory_24h_L\", \"Herbivory_48h_L\"], \"y\": [0.25, 2.0, 0.0, 0.4, 1.75, 0.2], \"type\": \"scatter\", \"uid\": \"f961db50-3633-11ea-9c5e-79fdfc20b759\"}, {\"line\": {\"color\": \"#4ca2f9\", \"dash\": \"dot\", \"width\": 4}, \"mode\": \"lines+markers\", \"name\": \"Sevir.8G081600\", \"x\": [\"Herbivory_0h_L\", \"Herbivory_1h_L\", \"Herbivory_4h_L\", \"Herbivory_8h_L\", \"Herbivory_24h_L\", \"Herbivory_48h_L\"], \"y\": [0.0, 0.0, 0.0, 0.0, 0.0, 0.0], \"type\": \"scatter\", \"uid\": \"f961dd30-3633-11ea-9c5e-79fdfc20b759\"}, {\"line\": {\"color\": \"#a4e43f\", \"dash\": \"dash\", \"width\": 4}, \"mode\": \"lines+markers\", \"name\": \"Sevir.5G364132\", \"x\": [\"Herbivory_0h_L\", \"Herbivory_1h_L\", \"Herbivory_4h_L\", \"Herbivory_8h_L\", \"Herbivory_24h_L\", \"Herbivory_48h_L\"], \"y\": [0.5, 0.2, 0.2, 1.0, 0.25, 0.736112], \"type\": \"scatter\", \"uid\": \"f961ded4-3633-11ea-9c5e-79fdfc20b759\"}, {\"line\": {\"color\": \"#d298e2\", \"dash\": \"solid\", \"width\": 4}, \"mode\": \"lines+markers\", \"name\": \"Sevir.4G263301\", \"x\": [\"Herbivory_0h_L\", \"Herbivory_1h_L\", \"Herbivory_4h_L\", \"Herbivory_8h_L\", \"Herbivory_24h_L\", \"Herbivory_48h_L\"], \"y\": [0.0, 0.2, 0.0, 0.2, 0.5, 0.0], \"type\": \"scatter\", \"uid\": \"f961e078-3633-11ea-9c5e-79fdfc20b759\"}, {\"line\": {\"color\": \"#6119d0\", \"dash\": \"dot\", \"width\": 4}, \"mode\": \"lines+markers\", \"name\": \"Sevir.9G099466\", \"x\": [\"Herbivory_0h_L\", \"Herbivory_1h_L\", \"Herbivory_4h_L\", \"Herbivory_8h_L\", \"Herbivory_24h_L\", \"Herbivory_48h_L\"], \"y\": [0.5, 0.0, 0.4, 0.4, 0.0, 0.2], \"type\": \"scatter\", \"uid\": \"f961e212-3633-11ea-9c5e-79fdfc20b759\"}, {\"line\": {\"color\": \"#d2737d\", \"dash\": \"dash\", \"width\": 4}, \"mode\": \"lines+markers\", \"name\": \"Sevir.9G078500\", \"x\": [\"Herbivory_0h_L\", \"Herbivory_1h_L\", \"Herbivory_4h_L\", \"Herbivory_8h_L\", \"Herbivory_24h_L\", \"Herbivory_48h_L\"], \"y\": [0.0, 0.0, 0.2, 0.2, 0.25, 1.6], \"type\": \"scatter\", \"uid\": \"f961e3ac-3633-11ea-9c5e-79fdfc20b759\"}, {\"line\": {\"color\": \"#c0a43c\", \"dash\": \"solid\", \"width\": 4}, \"mode\": \"lines+markers\", \"name\": \"Sevir.2G263800\", \"x\": [\"Herbivory_0h_L\", \"Herbivory_1h_L\", \"Herbivory_4h_L\", \"Herbivory_8h_L\", \"Herbivory_24h_L\", \"Herbivory_48h_L\"], \"y\": [0.0, 0.0, 0.0, 0.0, 0.5, 0.0], \"type\": \"scatter\", \"uid\": \"f961e53c-3633-11ea-9c5e-79fdfc20b759\"}, {\"line\": {\"color\": \"#f2510e\", \"dash\": \"dot\", \"width\": 4}, \"mode\": \"lines+markers\", \"name\": \"Sevir.8G218520\", \"x\": [\"Herbivory_0h_L\", \"Herbivory_1h_L\", \"Herbivory_4h_L\", \"Herbivory_8h_L\", \"Herbivory_24h_L\", \"Herbivory_48h_L\"], \"y\": [0.0, 0.0, 0.0, 0.2, 0.0, 0.6], \"type\": \"scatter\", \"uid\": \"f961e6d6-3633-11ea-9c5e-79fdfc20b759\"}, {\"line\": {\"color\": \"#651be6\", \"dash\": \"dash\", \"width\": 4}, \"mode\": \"lines+markers\", \"name\": \"Sevir.3G390900\", \"x\": [\"Herbivory_0h_L\", \"Herbivory_1h_L\", \"Herbivory_4h_L\", \"Herbivory_8h_L\", \"Herbivory_24h_L\", \"Herbivory_48h_L\"], \"y\": [0.0, 0.0, 0.0, 0.4, 0.0, 0.2], \"type\": \"scatter\", \"uid\": \"f961e87a-3633-11ea-9c5e-79fdfc20b759\"}, {\"line\": {\"color\": \"#79806e\", \"dash\": \"solid\", \"width\": 4}, \"mode\": \"lines+markers\", \"name\": \"Sevir.9G165400\", \"x\": [\"Herbivory_0h_L\", \"Herbivory_1h_L\", \"Herbivory_4h_L\", \"Herbivory_8h_L\", \"Herbivory_24h_L\", \"Herbivory_48h_L\"], \"y\": [0.25, 0.0, 0.0, 0.4, 0.25, 0.0], \"type\": \"scatter\", \"uid\": \"f961ea14-3633-11ea-9c5e-79fdfc20b759\"}, {\"line\": {\"color\": \"#61da5e\", \"dash\": \"dot\", \"width\": 4}, \"mode\": \"lines+markers\", \"name\": \"Sevir.8G245140\", \"x\": [\"Herbivory_0h_L\", \"Herbivory_1h_L\", \"Herbivory_4h_L\", \"Herbivory_8h_L\", \"Herbivory_24h_L\", \"Herbivory_48h_L\"], \"y\": [0.75, 0.6, 0.4, 0.2, 0.5, 1.2], \"type\": \"scatter\", \"uid\": \"f961ebae-3633-11ea-9c5e-79fdfc20b759\"}, {\"line\": {\"color\": \"#cd2f00\", \"dash\": \"dash\", \"width\": 4}, \"mode\": \"lines+markers\", \"name\": \"Sevir.8G087000\", \"x\": [\"Herbivory_0h_L\", \"Herbivory_1h_L\", \"Herbivory_4h_L\", \"Herbivory_8h_L\", \"Herbivory_24h_L\", \"Herbivory_48h_L\"], \"y\": [0.0, 0.0, 0.0, 0.0, 0.0, 0.2], \"type\": \"scatter\", \"uid\": \"f961ed48-3633-11ea-9c5e-79fdfc20b759\"}, {\"line\": {\"color\": \"#9348af\", \"dash\": \"solid\", \"width\": 4}, \"mode\": \"lines+markers\", \"name\": \"Sevir.9G576201\", \"x\": [\"Herbivory_0h_L\", \"Herbivory_1h_L\", \"Herbivory_4h_L\", \"Herbivory_8h_L\", \"Herbivory_24h_L\", \"Herbivory_48h_L\"], \"y\": [0.0, 0.0, 0.3924134, 0.0, 0.0, 0.0], \"type\": \"scatter\", \"uid\": \"f961eee2-3633-11ea-9c5e-79fdfc20b759\"}, {\"line\": {\"color\": \"#01ac53\", \"dash\": \"dot\", \"width\": 4}, \"mode\": \"lines+markers\", \"name\": \"Sevir.5G470750\", \"x\": [\"Herbivory_0h_L\", \"Herbivory_1h_L\", \"Herbivory_4h_L\", \"Herbivory_8h_L\", \"Herbivory_24h_L\", \"Herbivory_48h_L\"], \"y\": [0.0, 0.6, 1.2, 0.2, 0.0, 0.0], \"type\": \"scatter\", \"uid\": \"f961f086-3633-11ea-9c5e-79fdfc20b759\"}, {\"line\": {\"color\": \"#c5a4fb\", \"dash\": \"dash\", \"width\": 4}, \"mode\": \"lines+markers\", \"name\": \"Sevir.1G060850\", \"x\": [\"Herbivory_0h_L\", \"Herbivory_1h_L\", \"Herbivory_4h_L\", \"Herbivory_8h_L\", \"Herbivory_24h_L\", \"Herbivory_48h_L\"], \"y\": [0.0, 0.0, 0.0, 0.0, 0.0, 0.0], \"type\": \"scatter\", \"uid\": \"f961f220-3633-11ea-9c5e-79fdfc20b759\"}, {\"line\": {\"color\": \"#996635\", \"dash\": \"solid\", \"width\": 4}, \"mode\": \"lines+markers\", \"name\": \"Sevir.2G280500\", \"x\": [\"Herbivory_0h_L\", \"Herbivory_1h_L\", \"Herbivory_4h_L\", \"Herbivory_8h_L\", \"Herbivory_24h_L\", \"Herbivory_48h_L\"], \"y\": [0.0, 0.0, 0.0, 0.305666, 0.07680325, 0.0], \"type\": \"scatter\", \"uid\": \"f961f3ba-3633-11ea-9c5e-79fdfc20b759\"}, {\"line\": {\"color\": \"#b11573\", \"dash\": \"dot\", \"width\": 4}, \"mode\": \"lines+markers\", \"name\": \"Sevir.9G268200\", \"x\": [\"Herbivory_0h_L\", \"Herbivory_1h_L\", \"Herbivory_4h_L\", \"Herbivory_8h_L\", \"Herbivory_24h_L\", \"Herbivory_48h_L\"], \"y\": [0.0, 0.6, 0.2, 0.0, 0.0, 1.2], \"type\": \"scatter\", \"uid\": \"f961f55e-3633-11ea-9c5e-79fdfc20b759\"}, {\"line\": {\"color\": \"#4bb473\", \"dash\": \"dash\", \"width\": 4}, \"mode\": \"lines+markers\", \"name\": \"Sevir.4G143101\", \"x\": [\"Herbivory_0h_L\", \"Herbivory_1h_L\", \"Herbivory_4h_L\", \"Herbivory_8h_L\", \"Herbivory_24h_L\", \"Herbivory_48h_L\"], \"y\": [0.0, 0.20807799999999999, 0.0, 0.0, 0.0, 0.0], \"type\": \"scatter\", \"uid\": \"f961f6f8-3633-11ea-9c5e-79fdfc20b759\"}, {\"line\": {\"color\": \"#75d89e\", \"dash\": \"solid\", \"width\": 4}, \"mode\": \"lines+markers\", \"name\": \"Sevir.2G342800\", \"x\": [\"Herbivory_0h_L\", \"Herbivory_1h_L\", \"Herbivory_4h_L\", \"Herbivory_8h_L\", \"Herbivory_24h_L\", \"Herbivory_48h_L\"], \"y\": [0.0, 0.0, 0.0, 0.4, 0.0, 0.0], \"type\": \"scatter\", \"uid\": \"f961f892-3633-11ea-9c5e-79fdfc20b759\"}, {\"line\": {\"color\": \"#2f3f94\", \"dash\": \"dot\", \"width\": 4}, \"mode\": \"lines+markers\", \"name\": \"Sevir.1G019900\", \"x\": [\"Herbivory_0h_L\", \"Herbivory_1h_L\", \"Herbivory_4h_L\", \"Herbivory_8h_L\", \"Herbivory_24h_L\", \"Herbivory_48h_L\"], \"y\": [0.0, 0.0, 0.0, 0.0, 0.0, 0.0], \"type\": \"scatter\", \"uid\": \"f961fa2c-3633-11ea-9c5e-79fdfc20b759\"}, {\"line\": {\"color\": \"#2f7b99\", \"dash\": \"dash\", \"width\": 4}, \"mode\": \"lines+markers\", \"name\": \"Sevir.3G353500\", \"x\": [\"Herbivory_0h_L\", \"Herbivory_1h_L\", \"Herbivory_4h_L\", \"Herbivory_8h_L\", \"Herbivory_24h_L\", \"Herbivory_48h_L\"], \"y\": [0.0, 0.0, 0.0, 0.0, 0.0, 0.0], \"type\": \"scatter\", \"uid\": \"f961fbc6-3633-11ea-9c5e-79fdfc20b759\"}, {\"line\": {\"color\": \"#da967d\", \"dash\": \"solid\", \"width\": 4}, \"mode\": \"lines+markers\", \"name\": \"Sevir.7G189700\", \"x\": [\"Herbivory_0h_L\", \"Herbivory_1h_L\", \"Herbivory_4h_L\", \"Herbivory_8h_L\", \"Herbivory_24h_L\", \"Herbivory_48h_L\"], \"y\": [0.25, 0.0, 0.0, 0.0, 0.0, 0.4], \"type\": \"scatter\", \"uid\": \"f961fd60-3633-11ea-9c5e-79fdfc20b759\"}, {\"line\": {\"color\": \"#34891f\", \"dash\": \"dot\", \"width\": 4}, \"mode\": \"lines+markers\", \"name\": \"Sevir.4G118600\", \"x\": [\"Herbivory_0h_L\", \"Herbivory_1h_L\", \"Herbivory_4h_L\", \"Herbivory_8h_L\", \"Herbivory_24h_L\", \"Herbivory_48h_L\"], \"y\": [0.2727046, 0.0, 0.0, 0.0, 0.25, 0.0], \"type\": \"scatter\", \"uid\": \"f961fefa-3633-11ea-9c5e-79fdfc20b759\"}, {\"line\": {\"color\": \"#b0d87b\", \"dash\": \"dash\", \"width\": 4}, \"mode\": \"lines+markers\", \"name\": \"Sevir.5G315900\", \"x\": [\"Herbivory_0h_L\", \"Herbivory_1h_L\", \"Herbivory_4h_L\", \"Herbivory_8h_L\", \"Herbivory_24h_L\", \"Herbivory_48h_L\"], \"y\": [0.0, 0.0, 0.0, 0.0, 0.0, 0.0], \"type\": \"scatter\", \"uid\": \"f9620148-3633-11ea-9c5e-79fdfc20b759\"}, {\"line\": {\"color\": \"#ca4751\", \"dash\": \"solid\", \"width\": 4}, \"mode\": \"lines+markers\", \"name\": \"Sevir.1G110232\", \"x\": [\"Herbivory_0h_L\", \"Herbivory_1h_L\", \"Herbivory_4h_L\", \"Herbivory_8h_L\", \"Herbivory_24h_L\", \"Herbivory_48h_L\"], \"y\": [0.25, 0.0, 0.0, 0.0, 0.0, 0.0], \"type\": \"scatter\", \"uid\": \"f9620300-3633-11ea-9c5e-79fdfc20b759\"}, {\"line\": {\"color\": \"#7e50a8\", \"dash\": \"dot\", \"width\": 4}, \"mode\": \"lines+markers\", \"name\": \"Sevir.5G206100\", \"x\": [\"Herbivory_0h_L\", \"Herbivory_1h_L\", \"Herbivory_4h_L\", \"Herbivory_8h_L\", \"Herbivory_24h_L\", \"Herbivory_48h_L\"], \"y\": [0.0, 0.0, 0.2, 0.2, 0.0, 0.4], \"type\": \"scatter\", \"uid\": \"f96204a4-3633-11ea-9c5e-79fdfc20b759\"}, {\"line\": {\"color\": \"#c4d647\", \"dash\": \"dash\", \"width\": 4}, \"mode\": \"lines+markers\", \"name\": \"Sevir.3G353200\", \"x\": [\"Herbivory_0h_L\", \"Herbivory_1h_L\", \"Herbivory_4h_L\", \"Herbivory_8h_L\", \"Herbivory_24h_L\", \"Herbivory_48h_L\"], \"y\": [0.0, 0.0, 0.0, 0.0, 0.0, 0.2], \"type\": \"scatter\", \"uid\": \"f9620634-3633-11ea-9c5e-79fdfc20b759\"}, {\"line\": {\"color\": \"#e0eeb8\", \"dash\": \"solid\", \"width\": 4}, \"mode\": \"lines+markers\", \"name\": \"Sevir.4G093300\", \"x\": [\"Herbivory_0h_L\", \"Herbivory_1h_L\", \"Herbivory_4h_L\", \"Herbivory_8h_L\", \"Herbivory_24h_L\", \"Herbivory_48h_L\"], \"y\": [0.75, 0.8, 0.6, 0.6, 0.0, 0.4], \"type\": \"scatter\", \"uid\": \"f96207c4-3633-11ea-9c5e-79fdfc20b759\"}, {\"line\": {\"color\": \"#11dec1\", \"dash\": \"dot\", \"width\": 4}, \"mode\": \"lines+markers\", \"name\": \"Sevir.1G171100\", \"x\": [\"Herbivory_0h_L\", \"Herbivory_1h_L\", \"Herbivory_4h_L\", \"Herbivory_8h_L\", \"Herbivory_24h_L\", \"Herbivory_48h_L\"], \"y\": [0.0, 0.0, 0.0, 0.4, 0.0, 0.0], \"type\": \"scatter\", \"uid\": \"f9620954-3633-11ea-9c5e-79fdfc20b759\"}, {\"line\": {\"color\": \"#289812\", \"dash\": \"dash\", \"width\": 4}, \"mode\": \"lines+markers\", \"name\": \"Sevir.2G305750\", \"x\": [\"Herbivory_0h_L\", \"Herbivory_1h_L\", \"Herbivory_4h_L\", \"Herbivory_8h_L\", \"Herbivory_24h_L\", \"Herbivory_48h_L\"], \"y\": [0.0, 4.1097554, 0.0, 0.4459254, 0.4626375, 0.802336], \"type\": \"scatter\", \"uid\": \"f9620ae4-3633-11ea-9c5e-79fdfc20b759\"}, {\"line\": {\"color\": \"#566ca0\", \"dash\": \"solid\", \"width\": 4}, \"mode\": \"lines+markers\", \"name\": \"Sevir.9G169700\", \"x\": [\"Herbivory_0h_L\", \"Herbivory_1h_L\", \"Herbivory_4h_L\", \"Herbivory_8h_L\", \"Herbivory_24h_L\", \"Herbivory_48h_L\"], \"y\": [0.0, 0.0, 0.0, 0.0, 0.0, 0.0], \"type\": \"scatter\", \"uid\": \"f9620c74-3633-11ea-9c5e-79fdfc20b759\"}, {\"line\": {\"color\": \"#ffdbe1\", \"dash\": \"dot\", \"width\": 4}, \"mode\": \"lines+markers\", \"name\": \"Sevir.1G020800\", \"x\": [\"Herbivory_0h_L\", \"Herbivory_1h_L\", \"Herbivory_4h_L\", \"Herbivory_8h_L\", \"Herbivory_24h_L\", \"Herbivory_48h_L\"], \"y\": [0.5, 0.0, 0.4, 0.4, 0.0, 0.2], \"type\": \"scatter\", \"uid\": \"f9620e04-3633-11ea-9c5e-79fdfc20b759\"}, {\"line\": {\"color\": \"#2f1179\", \"dash\": \"dash\", \"width\": 4}, \"mode\": \"lines+markers\", \"name\": \"Sevir.5G194900\", \"x\": [\"Herbivory_0h_L\", \"Herbivory_1h_L\", \"Herbivory_4h_L\", \"Herbivory_8h_L\", \"Herbivory_24h_L\", \"Herbivory_48h_L\"], \"y\": [0.0, 0.0, 0.0, 0.0, 0.0, 0.0], \"type\": \"scatter\", \"uid\": \"f9620f94-3633-11ea-9c5e-79fdfc20b759\"}, {\"line\": {\"color\": \"#935b6d\", \"dash\": \"solid\", \"width\": 4}, \"mode\": \"lines+markers\", \"name\": \"Sevir.6G028050\", \"x\": [\"Herbivory_0h_L\", \"Herbivory_1h_L\", \"Herbivory_4h_L\", \"Herbivory_8h_L\", \"Herbivory_24h_L\", \"Herbivory_48h_L\"], \"y\": [0.25, 0.0, 0.2, 0.0, 0.0, 0.0], \"type\": \"scatter\", \"uid\": \"f962112e-3633-11ea-9c5e-79fdfc20b759\"}, {\"line\": {\"color\": \"#916988\", \"dash\": \"dot\", \"width\": 4}, \"mode\": \"lines+markers\", \"name\": \"Sevir.2G003200\", \"x\": [\"Herbivory_0h_L\", \"Herbivory_1h_L\", \"Herbivory_4h_L\", \"Herbivory_8h_L\", \"Herbivory_24h_L\", \"Herbivory_48h_L\"], \"y\": [0.0, 0.0, 0.0, 0.0, 0.0, 0.0], \"type\": \"scatter\", \"uid\": \"f96212be-3633-11ea-9c5e-79fdfc20b759\"}, {\"line\": {\"color\": \"#513d98\", \"dash\": \"dash\", \"width\": 4}, \"mode\": \"lines+markers\", \"name\": \"Sevir.8G079100\", \"x\": [\"Herbivory_0h_L\", \"Herbivory_1h_L\", \"Herbivory_4h_L\", \"Herbivory_8h_L\", \"Herbivory_24h_L\", \"Herbivory_48h_L\"], \"y\": [0.0, 0.0, 0.0, 0.0, 0.0, 0.0], \"type\": \"scatter\", \"uid\": \"f962144e-3633-11ea-9c5e-79fdfc20b759\"}, {\"line\": {\"color\": \"#aead3a\", \"dash\": \"solid\", \"width\": 4}, \"mode\": \"lines+markers\", \"name\": \"Sevir.4G293501\", \"x\": [\"Herbivory_0h_L\", \"Herbivory_1h_L\", \"Herbivory_4h_L\", \"Herbivory_8h_L\", \"Herbivory_24h_L\", \"Herbivory_48h_L\"], \"y\": [0.0, 0.0, 0.0, 0.0, 0.0, 0.0], \"type\": \"scatter\", \"uid\": \"f96215e8-3633-11ea-9c5e-79fdfc20b759\"}, {\"line\": {\"color\": \"#9e6d71\", \"dash\": \"dot\", \"width\": 4}, \"mode\": \"lines+markers\", \"name\": \"Sevir.7G022900\", \"x\": [\"Herbivory_0h_L\", \"Herbivory_1h_L\", \"Herbivory_4h_L\", \"Herbivory_8h_L\", \"Herbivory_24h_L\", \"Herbivory_48h_L\"], \"y\": [0.0, 0.0, 0.0, 0.0, 0.0, 0.0], \"type\": \"scatter\", \"uid\": \"f9621782-3633-11ea-9c5e-79fdfc20b759\"}, {\"line\": {\"color\": \"#4b5bdc\", \"dash\": \"dash\", \"width\": 4}, \"mode\": \"lines+markers\", \"name\": \"Sevir.8G165900\", \"x\": [\"Herbivory_0h_L\", \"Herbivory_1h_L\", \"Herbivory_4h_L\", \"Herbivory_8h_L\", \"Herbivory_24h_L\", \"Herbivory_48h_L\"], \"y\": [0.0, 0.0, 0.0, 0.0, 0.0, 0.0], \"type\": \"scatter\", \"uid\": \"f962191c-3633-11ea-9c5e-79fdfc20b759\"}, {\"line\": {\"color\": \"#0cd36d\", \"dash\": \"solid\", \"width\": 4}, \"mode\": \"lines+markers\", \"name\": \"Sevir.9G092300\", \"x\": [\"Herbivory_0h_L\", \"Herbivory_1h_L\", \"Herbivory_4h_L\", \"Herbivory_8h_L\", \"Herbivory_24h_L\", \"Herbivory_48h_L\"], \"y\": [0.0, 0.0, 0.0, 0.0, 0.0, 0.0], \"type\": \"scatter\", \"uid\": \"f9621aac-3633-11ea-9c5e-79fdfc20b759\"}, {\"line\": {\"color\": \"#250662\", \"dash\": \"dot\", \"width\": 4}, \"mode\": \"lines+markers\", \"name\": \"Sevir.6G113200\", \"x\": [\"Herbivory_0h_L\", \"Herbivory_1h_L\", \"Herbivory_4h_L\", \"Herbivory_8h_L\", \"Herbivory_24h_L\", \"Herbivory_48h_L\"], \"y\": [0.0, 0.0, 0.010769860000000001, 0.0, 0.0, 0.0], \"type\": \"scatter\", \"uid\": \"f9621c46-3633-11ea-9c5e-79fdfc20b759\"}, {\"line\": {\"color\": \"#cb5bea\", \"dash\": \"dash\", \"width\": 4}, \"mode\": \"lines+markers\", \"name\": \"Sevir.4G160200\", \"x\": [\"Herbivory_0h_L\", \"Herbivory_1h_L\", \"Herbivory_4h_L\", \"Herbivory_8h_L\", \"Herbivory_24h_L\", \"Herbivory_48h_L\"], \"y\": [0.0, 0.0, 0.0, 0.0, 0.0, 0.2], \"type\": \"scatter\", \"uid\": \"f9621dd6-3633-11ea-9c5e-79fdfc20b759\"}, {\"line\": {\"color\": \"#228916\", \"dash\": \"solid\", \"width\": 4}, \"mode\": \"lines+markers\", \"name\": \"Sevir.5G037400\", \"x\": [\"Herbivory_0h_L\", \"Herbivory_1h_L\", \"Herbivory_4h_L\", \"Herbivory_8h_L\", \"Herbivory_24h_L\", \"Herbivory_48h_L\"], \"y\": [0.0, 0.0, 0.0, 0.0, 0.0, 0.4], \"type\": \"scatter\", \"uid\": \"f9621f66-3633-11ea-9c5e-79fdfc20b759\"}, {\"line\": {\"color\": \"#ac3e1b\", \"dash\": \"dot\", \"width\": 4}, \"mode\": \"lines+markers\", \"name\": \"Sevir.3G298200\", \"x\": [\"Herbivory_0h_L\", \"Herbivory_1h_L\", \"Herbivory_4h_L\", \"Herbivory_8h_L\", \"Herbivory_24h_L\", \"Herbivory_48h_L\"], \"y\": [0.0, 0.4, 0.0, 0.0, 0.0, 0.0], \"type\": \"scatter\", \"uid\": \"f9622100-3633-11ea-9c5e-79fdfc20b759\"}, {\"line\": {\"color\": \"#df514a\", \"dash\": \"dash\", \"width\": 4}, \"mode\": \"lines+markers\", \"name\": \"Sevir.2G437300\", \"x\": [\"Herbivory_0h_L\", \"Herbivory_1h_L\", \"Herbivory_4h_L\", \"Herbivory_8h_L\", \"Herbivory_24h_L\", \"Herbivory_48h_L\"], \"y\": [0.0, 0.0, 0.0, 0.0, 0.0, 0.2], \"type\": \"scatter\", \"uid\": \"f962229a-3633-11ea-9c5e-79fdfc20b759\"}, {\"line\": {\"color\": \"#539397\", \"dash\": \"solid\", \"width\": 4}, \"mode\": \"lines+markers\", \"name\": \"Sevir.9G095700\", \"x\": [\"Herbivory_0h_L\", \"Herbivory_1h_L\", \"Herbivory_4h_L\", \"Herbivory_8h_L\", \"Herbivory_24h_L\", \"Herbivory_48h_L\"], \"y\": [0.2962975, 0.301068, 0.318444, 0.348366, 2.0681025, 0.61451], \"type\": \"scatter\", \"uid\": \"f962243e-3633-11ea-9c5e-79fdfc20b759\"}, {\"line\": {\"color\": \"#880977\", \"dash\": \"dot\", \"width\": 4}, \"mode\": \"lines+markers\", \"name\": \"Sevir.1G265000\", \"x\": [\"Herbivory_0h_L\", \"Herbivory_1h_L\", \"Herbivory_4h_L\", \"Herbivory_8h_L\", \"Herbivory_24h_L\", \"Herbivory_48h_L\"], \"y\": [0.0, 0.0, 0.0, 0.0, 0.0, 0.0], \"type\": \"scatter\", \"uid\": \"f96225d8-3633-11ea-9c5e-79fdfc20b759\"}, {\"line\": {\"color\": \"#f697c1\", \"dash\": \"dash\", \"width\": 4}, \"mode\": \"lines+markers\", \"name\": \"Sevir.5G418900\", \"x\": [\"Herbivory_0h_L\", \"Herbivory_1h_L\", \"Herbivory_4h_L\", \"Herbivory_8h_L\", \"Herbivory_24h_L\", \"Herbivory_48h_L\"], \"y\": [0.0, 0.0, 0.4, 0.0, 0.0, 0.0], \"type\": \"scatter\", \"uid\": \"f9622812-3633-11ea-9c5e-79fdfc20b759\"}, {\"line\": {\"color\": \"#ba96ce\", \"dash\": \"solid\", \"width\": 4}, \"mode\": \"lines+markers\", \"name\": \"Sevir.8G237700\", \"x\": [\"Herbivory_0h_L\", \"Herbivory_1h_L\", \"Herbivory_4h_L\", \"Herbivory_8h_L\", \"Herbivory_24h_L\", \"Herbivory_48h_L\"], \"y\": [0.0, 0.0, 0.0, 0.0, 0.0, 0.0], \"type\": \"scatter\", \"uid\": \"f96229fc-3633-11ea-9c5e-79fdfc20b759\"}, {\"line\": {\"color\": \"#679c9d\", \"dash\": \"dot\", \"width\": 4}, \"mode\": \"lines+markers\", \"name\": \"Sevir.2G177600\", \"x\": [\"Herbivory_0h_L\", \"Herbivory_1h_L\", \"Herbivory_4h_L\", \"Herbivory_8h_L\", \"Herbivory_24h_L\", \"Herbivory_48h_L\"], \"y\": [0.0, 0.0, 0.2, 0.0, 0.5, 0.0], \"type\": \"scatter\", \"uid\": \"f9622ba0-3633-11ea-9c5e-79fdfc20b759\"}, {\"line\": {\"color\": \"#c6c42c\", \"dash\": \"dash\", \"width\": 4}, \"mode\": \"lines+markers\", \"name\": \"Sevir.9G253801\", \"x\": [\"Herbivory_0h_L\", \"Herbivory_1h_L\", \"Herbivory_4h_L\", \"Herbivory_8h_L\", \"Herbivory_24h_L\", \"Herbivory_48h_L\"], \"y\": [0.0, 0.0, 0.0, 0.4, 0.0, 0.0], \"type\": \"scatter\", \"uid\": \"f9622d44-3633-11ea-9c5e-79fdfc20b759\"}, {\"line\": {\"color\": \"#5d2c52\", \"dash\": \"solid\", \"width\": 4}, \"mode\": \"lines+markers\", \"name\": \"Sevir.6G183566\", \"x\": [\"Herbivory_0h_L\", \"Herbivory_1h_L\", \"Herbivory_4h_L\", \"Herbivory_8h_L\", \"Herbivory_24h_L\", \"Herbivory_48h_L\"], \"y\": [0.0, 0.0, 0.0, 0.0, 0.0, 0.0], \"type\": \"scatter\", \"uid\": \"f9622ede-3633-11ea-9c5e-79fdfc20b759\"}, {\"line\": {\"color\": \"#48b41b\", \"dash\": \"dot\", \"width\": 4}, \"mode\": \"lines+markers\", \"name\": \"Sevir.8G259500\", \"x\": [\"Herbivory_0h_L\", \"Herbivory_1h_L\", \"Herbivory_4h_L\", \"Herbivory_8h_L\", \"Herbivory_24h_L\", \"Herbivory_48h_L\"], \"y\": [0.250795, 0.5419974, 0.401332, 1.002706, 0.75094, 0.486672], \"type\": \"scatter\", \"uid\": \"f9623078-3633-11ea-9c5e-79fdfc20b759\"}, {\"line\": {\"color\": \"#e1cf3b\", \"dash\": \"dash\", \"width\": 4}, \"mode\": \"lines+markers\", \"name\": \"Sevir.5G036550\", \"x\": [\"Herbivory_0h_L\", \"Herbivory_1h_L\", \"Herbivory_4h_L\", \"Herbivory_8h_L\", \"Herbivory_24h_L\", \"Herbivory_48h_L\"], \"y\": [0.0, 0.4, 0.4, 0.6, 1.0, 1.402342], \"type\": \"scatter\", \"uid\": \"f962321c-3633-11ea-9c5e-79fdfc20b759\"}, {\"line\": {\"color\": \"#5be4f0\", \"dash\": \"solid\", \"width\": 4}, \"mode\": \"lines+markers\", \"name\": \"Sevir.7G279700\", \"x\": [\"Herbivory_0h_L\", \"Herbivory_1h_L\", \"Herbivory_4h_L\", \"Herbivory_8h_L\", \"Herbivory_24h_L\", \"Herbivory_48h_L\"], \"y\": [0.0, 0.8, 0.0, 0.2, 0.5, 0.2], \"type\": \"scatter\", \"uid\": \"f96233c0-3633-11ea-9c5e-79fdfc20b759\"}, {\"line\": {\"color\": \"#57c4d8\", \"dash\": \"dot\", \"width\": 4}, \"mode\": \"lines+markers\", \"name\": \"Sevir.8G068450\", \"x\": [\"Herbivory_0h_L\", \"Herbivory_1h_L\", \"Herbivory_4h_L\", \"Herbivory_8h_L\", \"Herbivory_24h_L\", \"Herbivory_48h_L\"], \"y\": [0.0, 0.0, 0.0, 0.0, 0.0, 0.0], \"type\": \"scatter\", \"uid\": \"f962355a-3633-11ea-9c5e-79fdfc20b759\"}, {\"line\": {\"color\": \"#a4d17a\", \"dash\": \"dash\", \"width\": 4}, \"mode\": \"lines+markers\", \"name\": \"Sevir.9G576750\", \"x\": [\"Herbivory_0h_L\", \"Herbivory_1h_L\", \"Herbivory_4h_L\", \"Herbivory_8h_L\", \"Herbivory_24h_L\", \"Herbivory_48h_L\"], \"y\": [1.0, 1.0, 0.4, 2.6, 1.25, 2.2], \"type\": \"scatter\", \"uid\": \"f96236f4-3633-11ea-9c5e-79fdfc20b759\"}, {\"line\": {\"color\": \"#225b8e\", \"dash\": \"solid\", \"width\": 4}, \"mode\": \"lines+markers\", \"name\": \"Sevir.9G248533\", \"x\": [\"Herbivory_0h_L\", \"Herbivory_1h_L\", \"Herbivory_4h_L\", \"Herbivory_8h_L\", \"Herbivory_24h_L\", \"Herbivory_48h_L\"], \"y\": [1.25, 1.0, 2.2, 1.8, 2.0, 3.6], \"type\": \"scatter\", \"uid\": \"f962388e-3633-11ea-9c5e-79fdfc20b759\"}, {\"line\": {\"color\": \"#be608b\", \"dash\": \"dot\", \"width\": 4}, \"mode\": \"lines+markers\", \"name\": \"Sevir.1G379100\", \"x\": [\"Herbivory_0h_L\", \"Herbivory_1h_L\", \"Herbivory_4h_L\", \"Herbivory_8h_L\", \"Herbivory_24h_L\", \"Herbivory_48h_L\"], \"y\": [5.2859475, 7.04516, 8.576972, 8.869028, 7.8366925, 12.17082], \"type\": \"scatter\", \"uid\": \"f9623a28-3633-11ea-9c5e-79fdfc20b759\"}, {\"line\": {\"color\": \"#96b00c\", \"dash\": \"dash\", \"width\": 4}, \"mode\": \"lines+markers\", \"name\": \"Sevir.8G222414\", \"x\": [\"Herbivory_0h_L\", \"Herbivory_1h_L\", \"Herbivory_4h_L\", \"Herbivory_8h_L\", \"Herbivory_24h_L\", \"Herbivory_48h_L\"], \"y\": [2.192065, 1.6, 1.6, 0.4, 1.25, 1.2], \"type\": \"scatter\", \"uid\": \"f9623c6c-3633-11ea-9c5e-79fdfc20b759\"}, {\"line\": {\"color\": \"#088baf\", \"dash\": \"solid\", \"width\": 4}, \"mode\": \"lines+markers\", \"name\": \"Sevir.6G039200\", \"x\": [\"Herbivory_0h_L\", \"Herbivory_1h_L\", \"Herbivory_4h_L\", \"Herbivory_8h_L\", \"Herbivory_24h_L\", \"Herbivory_48h_L\"], \"y\": [3.5315575, 5.967819999999999, 6.768730000000001, 6.484050000000001, 7.081980000000001, 6.5681020000000006], \"type\": \"scatter\", \"uid\": \"f9623e1a-3633-11ea-9c5e-79fdfc20b759\"}, {\"line\": {\"color\": \"#f158bf\", \"dash\": \"dot\", \"width\": 4}, \"mode\": \"lines+markers\", \"name\": \"Sevir.6G075100\", \"x\": [\"Herbivory_0h_L\", \"Herbivory_1h_L\", \"Herbivory_4h_L\", \"Herbivory_8h_L\", \"Herbivory_24h_L\", \"Herbivory_48h_L\"], \"y\": [0.0, 0.0, 0.0, 0.0, 0.0, 0.0], \"type\": \"scatter\", \"uid\": \"f9623fb4-3633-11ea-9c5e-79fdfc20b759\"}, {\"line\": {\"color\": \"#e145ba\", \"dash\": \"dash\", \"width\": 4}, \"mode\": \"lines+markers\", \"name\": \"Sevir.3G331800\", \"x\": [\"Herbivory_0h_L\", \"Herbivory_1h_L\", \"Herbivory_4h_L\", \"Herbivory_8h_L\", \"Herbivory_24h_L\", \"Herbivory_48h_L\"], \"y\": [0.25, 0.0, 0.8, 0.2, 0.75, 0.2], \"type\": \"scatter\", \"uid\": \"f962414e-3633-11ea-9c5e-79fdfc20b759\"}, {\"line\": {\"color\": \"#ee91e3\", \"dash\": \"solid\", \"width\": 4}, \"mode\": \"lines+markers\", \"name\": \"Sevir.4G164200\", \"x\": [\"Herbivory_0h_L\", \"Herbivory_1h_L\", \"Herbivory_4h_L\", \"Herbivory_8h_L\", \"Herbivory_24h_L\", \"Herbivory_48h_L\"], \"y\": [0.0, 0.0, 0.2, 0.0, 0.0, 0.0], \"type\": \"scatter\", \"uid\": \"f96242e8-3633-11ea-9c5e-79fdfc20b759\"}, {\"line\": {\"color\": \"#05d371\", \"dash\": \"dot\", \"width\": 4}, \"mode\": \"lines+markers\", \"name\": \"Sevir.9G347733\", \"x\": [\"Herbivory_0h_L\", \"Herbivory_1h_L\", \"Herbivory_4h_L\", \"Herbivory_8h_L\", \"Herbivory_24h_L\", \"Herbivory_48h_L\"], \"y\": [0.25, 0.2, 1.4, 0.6, 0.0, 0.8], \"type\": \"scatter\", \"uid\": \"f9624478-3633-11ea-9c5e-79fdfc20b759\"}, {\"line\": {\"color\": \"#5426e0\", \"dash\": \"dash\", \"width\": 4}, \"mode\": \"lines+markers\", \"name\": \"Sevir.2G396750\", \"x\": [\"Herbivory_0h_L\", \"Herbivory_1h_L\", \"Herbivory_4h_L\", \"Herbivory_8h_L\", \"Herbivory_24h_L\", \"Herbivory_48h_L\"], \"y\": [0.0, 0.0, 0.0, 0.0, 0.0, 0.0], \"type\": \"scatter\", \"uid\": \"f9624608-3633-11ea-9c5e-79fdfc20b759\"}, {\"line\": {\"color\": \"#4834d0\", \"dash\": \"solid\", \"width\": 4}, \"mode\": \"lines+markers\", \"name\": \"Sevir.3G116100\", \"x\": [\"Herbivory_0h_L\", \"Herbivory_1h_L\", \"Herbivory_4h_L\", \"Herbivory_8h_L\", \"Herbivory_24h_L\", \"Herbivory_48h_L\"], \"y\": [0.0, 0.8, 0.2, 0.0, 0.25, 0.0], \"type\": \"scatter\", \"uid\": \"f96247a2-3633-11ea-9c5e-79fdfc20b759\"}, {\"line\": {\"color\": \"#802234\", \"dash\": \"dot\", \"width\": 4}, \"mode\": \"lines+markers\", \"name\": \"Sevir.7G061100\", \"x\": [\"Herbivory_0h_L\", \"Herbivory_1h_L\", \"Herbivory_4h_L\", \"Herbivory_8h_L\", \"Herbivory_24h_L\", \"Herbivory_48h_L\"], \"y\": [0.0, 0.0, 0.0, 0.0, 0.0, 0.0], \"type\": \"scatter\", \"uid\": \"f9624932-3633-11ea-9c5e-79fdfc20b759\"}, {\"line\": {\"color\": \"#6749e8\", \"dash\": \"dash\", \"width\": 4}, \"mode\": \"lines+markers\", \"name\": \"Sevir.2G307100\", \"x\": [\"Herbivory_0h_L\", \"Herbivory_1h_L\", \"Herbivory_4h_L\", \"Herbivory_8h_L\", \"Herbivory_24h_L\", \"Herbivory_48h_L\"], \"y\": [0.0, 0.0, 0.2, 0.0, 0.0, 0.0], \"type\": \"scatter\", \"uid\": \"f9624ac2-3633-11ea-9c5e-79fdfc20b759\"}, {\"line\": {\"color\": \"#0971f0\", \"dash\": \"solid\", \"width\": 4}, \"mode\": \"lines+markers\", \"name\": \"Sevir.5G087400\", \"x\": [\"Herbivory_0h_L\", \"Herbivory_1h_L\", \"Herbivory_4h_L\", \"Herbivory_8h_L\", \"Herbivory_24h_L\", \"Herbivory_48h_L\"], \"y\": [0.25, 0.6, 0.8, 0.6, 0.5, 1.0], \"type\": \"scatter\", \"uid\": \"f9624c52-3633-11ea-9c5e-79fdfc20b759\"}, {\"line\": {\"color\": \"#8fb413\", \"dash\": \"dot\", \"width\": 4}, \"mode\": \"lines+markers\", \"name\": \"Sevir.7G005300\", \"x\": [\"Herbivory_0h_L\", \"Herbivory_1h_L\", \"Herbivory_4h_L\", \"Herbivory_8h_L\", \"Herbivory_24h_L\", \"Herbivory_48h_L\"], \"y\": [0.0, 0.4, 0.0, 0.0, 0.0, 0.2], \"type\": \"scatter\", \"uid\": \"f9624de2-3633-11ea-9c5e-79fdfc20b759\"}, {\"line\": {\"color\": \"#b2b4f0\", \"dash\": \"dash\", \"width\": 4}, \"mode\": \"lines+markers\", \"name\": \"Sevir.2G026100\", \"x\": [\"Herbivory_0h_L\", \"Herbivory_1h_L\", \"Herbivory_4h_L\", \"Herbivory_8h_L\", \"Herbivory_24h_L\", \"Herbivory_48h_L\"], \"y\": [0.25, 2.0, 1.2, 0.4, 0.25, 1.2], \"type\": \"scatter\", \"uid\": \"f9625044-3633-11ea-9c5e-79fdfc20b759\"}, {\"line\": {\"color\": \"#c3c89d\", \"dash\": \"solid\", \"width\": 4}, \"mode\": \"lines+markers\", \"name\": \"Sevir.9G072900\", \"x\": [\"Herbivory_0h_L\", \"Herbivory_1h_L\", \"Herbivory_4h_L\", \"Herbivory_8h_L\", \"Herbivory_24h_L\", \"Herbivory_48h_L\"], \"y\": [0.0, 0.0, 0.4, 0.0, 0.0, 0.6], \"type\": \"scatter\", \"uid\": \"f96251e8-3633-11ea-9c5e-79fdfc20b759\"}], {\"dragmode\": \"select\", \"plot_bgcolor\": \"white\", \"title\": \"Average Gene Expression - Herbivory\", \"xaxis\": {\"gridcolor\": \"whitesmoke\", \"showgrid\": true, \"title\": \"Experimental Conditions\"}, \"yaxis\": {\"gridcolor\": \"whitesmoke\", \"showgrid\": true, \"title\": \"Expression\"}}, {\"showLink\": true, \"linkText\": \"Export to plot.ly\"})});</script>"
      ],
      "text/vnd.plotly.v1+html": [
       "<div id=\"c810e2c5-4a35-4c02-9f5a-f4bd7532e9d2\" style=\"height: 525px; width: 100%;\" class=\"plotly-graph-div\"></div><script type=\"text/javascript\">require([\"plotly\"], function(Plotly) { window.PLOTLYENV=window.PLOTLYENV || {};window.PLOTLYENV.BASE_URL=\"https://plot.ly\";Plotly.newPlot(\"c810e2c5-4a35-4c02-9f5a-f4bd7532e9d2\", [{\"line\": {\"color\": \"#ce7d78\", \"dash\": \"dot\", \"width\": 4}, \"mode\": \"lines+markers\", \"name\": \"Sevir.9G282425\", \"x\": [\"Herbivory_0h_L\", \"Herbivory_1h_L\", \"Herbivory_4h_L\", \"Herbivory_8h_L\", \"Herbivory_24h_L\", \"Herbivory_48h_L\"], \"y\": [0.25, 0.0, 0.0, 0.4, 0.0, 0.4], \"type\": \"scatter\", \"uid\": \"f961c994-3633-11ea-9c5e-79fdfc20b759\"}, {\"line\": {\"color\": \"#ea9e70\", \"dash\": \"dash\", \"width\": 4}, \"mode\": \"lines+markers\", \"name\": \"Sevir.7G018910\", \"x\": [\"Herbivory_0h_L\", \"Herbivory_1h_L\", \"Herbivory_4h_L\", \"Herbivory_8h_L\", \"Herbivory_24h_L\", \"Herbivory_48h_L\"], \"y\": [0.0, 0.0, 0.0297604, 0.077722, 0.0, 0.0], \"type\": \"scatter\", \"uid\": \"f961cdd6-3633-11ea-9c5e-79fdfc20b759\"}, {\"line\": {\"color\": \"#a48a9e\", \"dash\": \"solid\", \"width\": 4}, \"mode\": \"lines+markers\", \"name\": \"Sevir.5G044500\", \"x\": [\"Herbivory_0h_L\", \"Herbivory_1h_L\", \"Herbivory_4h_L\", \"Herbivory_8h_L\", \"Herbivory_24h_L\", \"Herbivory_48h_L\"], \"y\": [0.0, 0.2, 0.0, 0.0, 0.0, 0.0], \"type\": \"scatter\", \"uid\": \"f961d010-3633-11ea-9c5e-79fdfc20b759\"}, {\"line\": {\"color\": \"#c6e1e8\", \"dash\": \"dot\", \"width\": 4}, \"mode\": \"lines+markers\", \"name\": \"Sevir.2G127900\", \"x\": [\"Herbivory_0h_L\", \"Herbivory_1h_L\", \"Herbivory_4h_L\", \"Herbivory_8h_L\", \"Herbivory_24h_L\", \"Herbivory_48h_L\"], \"y\": [0.25, 0.0, 0.4, 0.0, 0.0, 0.2], \"type\": \"scatter\", \"uid\": \"f961d1e6-3633-11ea-9c5e-79fdfc20b759\"}, {\"line\": {\"color\": \"#648177\", \"dash\": \"dash\", \"width\": 4}, \"mode\": \"lines+markers\", \"name\": \"Sevir.5G129000\", \"x\": [\"Herbivory_0h_L\", \"Herbivory_1h_L\", \"Herbivory_4h_L\", \"Herbivory_8h_L\", \"Herbivory_24h_L\", \"Herbivory_48h_L\"], \"y\": [5.6590975, 5.06602, 3.5116300000000003, 3.85864, 5.924737499999999, 4.511216], \"type\": \"scatter\", \"uid\": \"f961d394-3633-11ea-9c5e-79fdfc20b759\"}, {\"line\": {\"color\": \"#0d5ac1\", \"dash\": \"solid\", \"width\": 4}, \"mode\": \"lines+markers\", \"name\": \"Sevir.2G354400\", \"x\": [\"Herbivory_0h_L\", \"Herbivory_1h_L\", \"Herbivory_4h_L\", \"Herbivory_8h_L\", \"Herbivory_24h_L\", \"Herbivory_48h_L\"], \"y\": [0.0, 0.0, 0.0, 0.0, 0.0, 0.0], \"type\": \"scatter\", \"uid\": \"f961d542-3633-11ea-9c5e-79fdfc20b759\"}, {\"line\": {\"color\": \"#f205e6\", \"dash\": \"dot\", \"width\": 4}, \"mode\": \"lines+markers\", \"name\": \"Sevir.2G152600\", \"x\": [\"Herbivory_0h_L\", \"Herbivory_1h_L\", \"Herbivory_4h_L\", \"Herbivory_8h_L\", \"Herbivory_24h_L\", \"Herbivory_48h_L\"], \"y\": [0.25, 0.2, 0.2, 0.2, 0.0, 0.0], \"type\": \"scatter\", \"uid\": \"f961d6e6-3633-11ea-9c5e-79fdfc20b759\"}, {\"line\": {\"color\": \"#1c0365\", \"dash\": \"dash\", \"width\": 4}, \"mode\": \"lines+markers\", \"name\": \"Sevir.7G023700\", \"x\": [\"Herbivory_0h_L\", \"Herbivory_1h_L\", \"Herbivory_4h_L\", \"Herbivory_8h_L\", \"Herbivory_24h_L\", \"Herbivory_48h_L\"], \"y\": [0.901805, 0.0, 0.48381539999999995, 1.405588, 0.25, 0.0], \"type\": \"scatter\", \"uid\": \"f961d88a-3633-11ea-9c5e-79fdfc20b759\"}, {\"line\": {\"color\": \"#14a9ad\", \"dash\": \"solid\", \"width\": 4}, \"mode\": \"lines+markers\", \"name\": \"Sevir.4G118900\", \"x\": [\"Herbivory_0h_L\", \"Herbivory_1h_L\", \"Herbivory_4h_L\", \"Herbivory_8h_L\", \"Herbivory_24h_L\", \"Herbivory_48h_L\"], \"y\": [0.25, 2.0, 0.0, 0.4, 1.75, 0.2], \"type\": \"scatter\", \"uid\": \"f961db50-3633-11ea-9c5e-79fdfc20b759\"}, {\"line\": {\"color\": \"#4ca2f9\", \"dash\": \"dot\", \"width\": 4}, \"mode\": \"lines+markers\", \"name\": \"Sevir.8G081600\", \"x\": [\"Herbivory_0h_L\", \"Herbivory_1h_L\", \"Herbivory_4h_L\", \"Herbivory_8h_L\", \"Herbivory_24h_L\", \"Herbivory_48h_L\"], \"y\": [0.0, 0.0, 0.0, 0.0, 0.0, 0.0], \"type\": \"scatter\", \"uid\": \"f961dd30-3633-11ea-9c5e-79fdfc20b759\"}, {\"line\": {\"color\": \"#a4e43f\", \"dash\": \"dash\", \"width\": 4}, \"mode\": \"lines+markers\", \"name\": \"Sevir.5G364132\", \"x\": [\"Herbivory_0h_L\", \"Herbivory_1h_L\", \"Herbivory_4h_L\", \"Herbivory_8h_L\", \"Herbivory_24h_L\", \"Herbivory_48h_L\"], \"y\": [0.5, 0.2, 0.2, 1.0, 0.25, 0.736112], \"type\": \"scatter\", \"uid\": \"f961ded4-3633-11ea-9c5e-79fdfc20b759\"}, {\"line\": {\"color\": \"#d298e2\", \"dash\": \"solid\", \"width\": 4}, \"mode\": \"lines+markers\", \"name\": \"Sevir.4G263301\", \"x\": [\"Herbivory_0h_L\", \"Herbivory_1h_L\", \"Herbivory_4h_L\", \"Herbivory_8h_L\", \"Herbivory_24h_L\", \"Herbivory_48h_L\"], \"y\": [0.0, 0.2, 0.0, 0.2, 0.5, 0.0], \"type\": \"scatter\", \"uid\": \"f961e078-3633-11ea-9c5e-79fdfc20b759\"}, {\"line\": {\"color\": \"#6119d0\", \"dash\": \"dot\", \"width\": 4}, \"mode\": \"lines+markers\", \"name\": \"Sevir.9G099466\", \"x\": [\"Herbivory_0h_L\", \"Herbivory_1h_L\", \"Herbivory_4h_L\", \"Herbivory_8h_L\", \"Herbivory_24h_L\", \"Herbivory_48h_L\"], \"y\": [0.5, 0.0, 0.4, 0.4, 0.0, 0.2], \"type\": \"scatter\", \"uid\": \"f961e212-3633-11ea-9c5e-79fdfc20b759\"}, {\"line\": {\"color\": \"#d2737d\", \"dash\": \"dash\", \"width\": 4}, \"mode\": \"lines+markers\", \"name\": \"Sevir.9G078500\", \"x\": [\"Herbivory_0h_L\", \"Herbivory_1h_L\", \"Herbivory_4h_L\", \"Herbivory_8h_L\", \"Herbivory_24h_L\", \"Herbivory_48h_L\"], \"y\": [0.0, 0.0, 0.2, 0.2, 0.25, 1.6], \"type\": \"scatter\", \"uid\": \"f961e3ac-3633-11ea-9c5e-79fdfc20b759\"}, {\"line\": {\"color\": \"#c0a43c\", \"dash\": \"solid\", \"width\": 4}, \"mode\": \"lines+markers\", \"name\": \"Sevir.2G263800\", \"x\": [\"Herbivory_0h_L\", \"Herbivory_1h_L\", \"Herbivory_4h_L\", \"Herbivory_8h_L\", \"Herbivory_24h_L\", \"Herbivory_48h_L\"], \"y\": [0.0, 0.0, 0.0, 0.0, 0.5, 0.0], \"type\": \"scatter\", \"uid\": \"f961e53c-3633-11ea-9c5e-79fdfc20b759\"}, {\"line\": {\"color\": \"#f2510e\", \"dash\": \"dot\", \"width\": 4}, \"mode\": \"lines+markers\", \"name\": \"Sevir.8G218520\", \"x\": [\"Herbivory_0h_L\", \"Herbivory_1h_L\", \"Herbivory_4h_L\", \"Herbivory_8h_L\", \"Herbivory_24h_L\", \"Herbivory_48h_L\"], \"y\": [0.0, 0.0, 0.0, 0.2, 0.0, 0.6], \"type\": \"scatter\", \"uid\": \"f961e6d6-3633-11ea-9c5e-79fdfc20b759\"}, {\"line\": {\"color\": \"#651be6\", \"dash\": \"dash\", \"width\": 4}, \"mode\": \"lines+markers\", \"name\": \"Sevir.3G390900\", \"x\": [\"Herbivory_0h_L\", \"Herbivory_1h_L\", \"Herbivory_4h_L\", \"Herbivory_8h_L\", \"Herbivory_24h_L\", \"Herbivory_48h_L\"], \"y\": [0.0, 0.0, 0.0, 0.4, 0.0, 0.2], \"type\": \"scatter\", \"uid\": \"f961e87a-3633-11ea-9c5e-79fdfc20b759\"}, {\"line\": {\"color\": \"#79806e\", \"dash\": \"solid\", \"width\": 4}, \"mode\": \"lines+markers\", \"name\": \"Sevir.9G165400\", \"x\": [\"Herbivory_0h_L\", \"Herbivory_1h_L\", \"Herbivory_4h_L\", \"Herbivory_8h_L\", \"Herbivory_24h_L\", \"Herbivory_48h_L\"], \"y\": [0.25, 0.0, 0.0, 0.4, 0.25, 0.0], \"type\": \"scatter\", \"uid\": \"f961ea14-3633-11ea-9c5e-79fdfc20b759\"}, {\"line\": {\"color\": \"#61da5e\", \"dash\": \"dot\", \"width\": 4}, \"mode\": \"lines+markers\", \"name\": \"Sevir.8G245140\", \"x\": [\"Herbivory_0h_L\", \"Herbivory_1h_L\", \"Herbivory_4h_L\", \"Herbivory_8h_L\", \"Herbivory_24h_L\", \"Herbivory_48h_L\"], \"y\": [0.75, 0.6, 0.4, 0.2, 0.5, 1.2], \"type\": \"scatter\", \"uid\": \"f961ebae-3633-11ea-9c5e-79fdfc20b759\"}, {\"line\": {\"color\": \"#cd2f00\", \"dash\": \"dash\", \"width\": 4}, \"mode\": \"lines+markers\", \"name\": \"Sevir.8G087000\", \"x\": [\"Herbivory_0h_L\", \"Herbivory_1h_L\", \"Herbivory_4h_L\", \"Herbivory_8h_L\", \"Herbivory_24h_L\", \"Herbivory_48h_L\"], \"y\": [0.0, 0.0, 0.0, 0.0, 0.0, 0.2], \"type\": \"scatter\", \"uid\": \"f961ed48-3633-11ea-9c5e-79fdfc20b759\"}, {\"line\": {\"color\": \"#9348af\", \"dash\": \"solid\", \"width\": 4}, \"mode\": \"lines+markers\", \"name\": \"Sevir.9G576201\", \"x\": [\"Herbivory_0h_L\", \"Herbivory_1h_L\", \"Herbivory_4h_L\", \"Herbivory_8h_L\", \"Herbivory_24h_L\", \"Herbivory_48h_L\"], \"y\": [0.0, 0.0, 0.3924134, 0.0, 0.0, 0.0], \"type\": \"scatter\", \"uid\": \"f961eee2-3633-11ea-9c5e-79fdfc20b759\"}, {\"line\": {\"color\": \"#01ac53\", \"dash\": \"dot\", \"width\": 4}, \"mode\": \"lines+markers\", \"name\": \"Sevir.5G470750\", \"x\": [\"Herbivory_0h_L\", \"Herbivory_1h_L\", \"Herbivory_4h_L\", \"Herbivory_8h_L\", \"Herbivory_24h_L\", \"Herbivory_48h_L\"], \"y\": [0.0, 0.6, 1.2, 0.2, 0.0, 0.0], \"type\": \"scatter\", \"uid\": \"f961f086-3633-11ea-9c5e-79fdfc20b759\"}, {\"line\": {\"color\": \"#c5a4fb\", \"dash\": \"dash\", \"width\": 4}, \"mode\": \"lines+markers\", \"name\": \"Sevir.1G060850\", \"x\": [\"Herbivory_0h_L\", \"Herbivory_1h_L\", \"Herbivory_4h_L\", \"Herbivory_8h_L\", \"Herbivory_24h_L\", \"Herbivory_48h_L\"], \"y\": [0.0, 0.0, 0.0, 0.0, 0.0, 0.0], \"type\": \"scatter\", \"uid\": \"f961f220-3633-11ea-9c5e-79fdfc20b759\"}, {\"line\": {\"color\": \"#996635\", \"dash\": \"solid\", \"width\": 4}, \"mode\": \"lines+markers\", \"name\": \"Sevir.2G280500\", \"x\": [\"Herbivory_0h_L\", \"Herbivory_1h_L\", \"Herbivory_4h_L\", \"Herbivory_8h_L\", \"Herbivory_24h_L\", \"Herbivory_48h_L\"], \"y\": [0.0, 0.0, 0.0, 0.305666, 0.07680325, 0.0], \"type\": \"scatter\", \"uid\": \"f961f3ba-3633-11ea-9c5e-79fdfc20b759\"}, {\"line\": {\"color\": \"#b11573\", \"dash\": \"dot\", \"width\": 4}, \"mode\": \"lines+markers\", \"name\": \"Sevir.9G268200\", \"x\": [\"Herbivory_0h_L\", \"Herbivory_1h_L\", \"Herbivory_4h_L\", \"Herbivory_8h_L\", \"Herbivory_24h_L\", \"Herbivory_48h_L\"], \"y\": [0.0, 0.6, 0.2, 0.0, 0.0, 1.2], \"type\": \"scatter\", \"uid\": \"f961f55e-3633-11ea-9c5e-79fdfc20b759\"}, {\"line\": {\"color\": \"#4bb473\", \"dash\": \"dash\", \"width\": 4}, \"mode\": \"lines+markers\", \"name\": \"Sevir.4G143101\", \"x\": [\"Herbivory_0h_L\", \"Herbivory_1h_L\", \"Herbivory_4h_L\", \"Herbivory_8h_L\", \"Herbivory_24h_L\", \"Herbivory_48h_L\"], \"y\": [0.0, 0.20807799999999999, 0.0, 0.0, 0.0, 0.0], \"type\": \"scatter\", \"uid\": \"f961f6f8-3633-11ea-9c5e-79fdfc20b759\"}, {\"line\": {\"color\": \"#75d89e\", \"dash\": \"solid\", \"width\": 4}, \"mode\": \"lines+markers\", \"name\": \"Sevir.2G342800\", \"x\": [\"Herbivory_0h_L\", \"Herbivory_1h_L\", \"Herbivory_4h_L\", \"Herbivory_8h_L\", \"Herbivory_24h_L\", \"Herbivory_48h_L\"], \"y\": [0.0, 0.0, 0.0, 0.4, 0.0, 0.0], \"type\": \"scatter\", \"uid\": \"f961f892-3633-11ea-9c5e-79fdfc20b759\"}, {\"line\": {\"color\": \"#2f3f94\", \"dash\": \"dot\", \"width\": 4}, \"mode\": \"lines+markers\", \"name\": \"Sevir.1G019900\", \"x\": [\"Herbivory_0h_L\", \"Herbivory_1h_L\", \"Herbivory_4h_L\", \"Herbivory_8h_L\", \"Herbivory_24h_L\", \"Herbivory_48h_L\"], \"y\": [0.0, 0.0, 0.0, 0.0, 0.0, 0.0], \"type\": \"scatter\", \"uid\": \"f961fa2c-3633-11ea-9c5e-79fdfc20b759\"}, {\"line\": {\"color\": \"#2f7b99\", \"dash\": \"dash\", \"width\": 4}, \"mode\": \"lines+markers\", \"name\": \"Sevir.3G353500\", \"x\": [\"Herbivory_0h_L\", \"Herbivory_1h_L\", \"Herbivory_4h_L\", \"Herbivory_8h_L\", \"Herbivory_24h_L\", \"Herbivory_48h_L\"], \"y\": [0.0, 0.0, 0.0, 0.0, 0.0, 0.0], \"type\": \"scatter\", \"uid\": \"f961fbc6-3633-11ea-9c5e-79fdfc20b759\"}, {\"line\": {\"color\": \"#da967d\", \"dash\": \"solid\", \"width\": 4}, \"mode\": \"lines+markers\", \"name\": \"Sevir.7G189700\", \"x\": [\"Herbivory_0h_L\", \"Herbivory_1h_L\", \"Herbivory_4h_L\", \"Herbivory_8h_L\", \"Herbivory_24h_L\", \"Herbivory_48h_L\"], \"y\": [0.25, 0.0, 0.0, 0.0, 0.0, 0.4], \"type\": \"scatter\", \"uid\": \"f961fd60-3633-11ea-9c5e-79fdfc20b759\"}, {\"line\": {\"color\": \"#34891f\", \"dash\": \"dot\", \"width\": 4}, \"mode\": \"lines+markers\", \"name\": \"Sevir.4G118600\", \"x\": [\"Herbivory_0h_L\", \"Herbivory_1h_L\", \"Herbivory_4h_L\", \"Herbivory_8h_L\", \"Herbivory_24h_L\", \"Herbivory_48h_L\"], \"y\": [0.2727046, 0.0, 0.0, 0.0, 0.25, 0.0], \"type\": \"scatter\", \"uid\": \"f961fefa-3633-11ea-9c5e-79fdfc20b759\"}, {\"line\": {\"color\": \"#b0d87b\", \"dash\": \"dash\", \"width\": 4}, \"mode\": \"lines+markers\", \"name\": \"Sevir.5G315900\", \"x\": [\"Herbivory_0h_L\", \"Herbivory_1h_L\", \"Herbivory_4h_L\", \"Herbivory_8h_L\", \"Herbivory_24h_L\", \"Herbivory_48h_L\"], \"y\": [0.0, 0.0, 0.0, 0.0, 0.0, 0.0], \"type\": \"scatter\", \"uid\": \"f9620148-3633-11ea-9c5e-79fdfc20b759\"}, {\"line\": {\"color\": \"#ca4751\", \"dash\": \"solid\", \"width\": 4}, \"mode\": \"lines+markers\", \"name\": \"Sevir.1G110232\", \"x\": [\"Herbivory_0h_L\", \"Herbivory_1h_L\", \"Herbivory_4h_L\", \"Herbivory_8h_L\", \"Herbivory_24h_L\", \"Herbivory_48h_L\"], \"y\": [0.25, 0.0, 0.0, 0.0, 0.0, 0.0], \"type\": \"scatter\", \"uid\": \"f9620300-3633-11ea-9c5e-79fdfc20b759\"}, {\"line\": {\"color\": \"#7e50a8\", \"dash\": \"dot\", \"width\": 4}, \"mode\": \"lines+markers\", \"name\": \"Sevir.5G206100\", \"x\": [\"Herbivory_0h_L\", \"Herbivory_1h_L\", \"Herbivory_4h_L\", \"Herbivory_8h_L\", \"Herbivory_24h_L\", \"Herbivory_48h_L\"], \"y\": [0.0, 0.0, 0.2, 0.2, 0.0, 0.4], \"type\": \"scatter\", \"uid\": \"f96204a4-3633-11ea-9c5e-79fdfc20b759\"}, {\"line\": {\"color\": \"#c4d647\", \"dash\": \"dash\", \"width\": 4}, \"mode\": \"lines+markers\", \"name\": \"Sevir.3G353200\", \"x\": [\"Herbivory_0h_L\", \"Herbivory_1h_L\", \"Herbivory_4h_L\", \"Herbivory_8h_L\", \"Herbivory_24h_L\", \"Herbivory_48h_L\"], \"y\": [0.0, 0.0, 0.0, 0.0, 0.0, 0.2], \"type\": \"scatter\", \"uid\": \"f9620634-3633-11ea-9c5e-79fdfc20b759\"}, {\"line\": {\"color\": \"#e0eeb8\", \"dash\": \"solid\", \"width\": 4}, \"mode\": \"lines+markers\", \"name\": \"Sevir.4G093300\", \"x\": [\"Herbivory_0h_L\", \"Herbivory_1h_L\", \"Herbivory_4h_L\", \"Herbivory_8h_L\", \"Herbivory_24h_L\", \"Herbivory_48h_L\"], \"y\": [0.75, 0.8, 0.6, 0.6, 0.0, 0.4], \"type\": \"scatter\", \"uid\": \"f96207c4-3633-11ea-9c5e-79fdfc20b759\"}, {\"line\": {\"color\": \"#11dec1\", \"dash\": \"dot\", \"width\": 4}, \"mode\": \"lines+markers\", \"name\": \"Sevir.1G171100\", \"x\": [\"Herbivory_0h_L\", \"Herbivory_1h_L\", \"Herbivory_4h_L\", \"Herbivory_8h_L\", \"Herbivory_24h_L\", \"Herbivory_48h_L\"], \"y\": [0.0, 0.0, 0.0, 0.4, 0.0, 0.0], \"type\": \"scatter\", \"uid\": \"f9620954-3633-11ea-9c5e-79fdfc20b759\"}, {\"line\": {\"color\": \"#289812\", \"dash\": \"dash\", \"width\": 4}, \"mode\": \"lines+markers\", \"name\": \"Sevir.2G305750\", \"x\": [\"Herbivory_0h_L\", \"Herbivory_1h_L\", \"Herbivory_4h_L\", \"Herbivory_8h_L\", \"Herbivory_24h_L\", \"Herbivory_48h_L\"], \"y\": [0.0, 4.1097554, 0.0, 0.4459254, 0.4626375, 0.802336], \"type\": \"scatter\", \"uid\": \"f9620ae4-3633-11ea-9c5e-79fdfc20b759\"}, {\"line\": {\"color\": \"#566ca0\", \"dash\": \"solid\", \"width\": 4}, \"mode\": \"lines+markers\", \"name\": \"Sevir.9G169700\", \"x\": [\"Herbivory_0h_L\", \"Herbivory_1h_L\", \"Herbivory_4h_L\", \"Herbivory_8h_L\", \"Herbivory_24h_L\", \"Herbivory_48h_L\"], \"y\": [0.0, 0.0, 0.0, 0.0, 0.0, 0.0], \"type\": \"scatter\", \"uid\": \"f9620c74-3633-11ea-9c5e-79fdfc20b759\"}, {\"line\": {\"color\": \"#ffdbe1\", \"dash\": \"dot\", \"width\": 4}, \"mode\": \"lines+markers\", \"name\": \"Sevir.1G020800\", \"x\": [\"Herbivory_0h_L\", \"Herbivory_1h_L\", \"Herbivory_4h_L\", \"Herbivory_8h_L\", \"Herbivory_24h_L\", \"Herbivory_48h_L\"], \"y\": [0.5, 0.0, 0.4, 0.4, 0.0, 0.2], \"type\": \"scatter\", \"uid\": \"f9620e04-3633-11ea-9c5e-79fdfc20b759\"}, {\"line\": {\"color\": \"#2f1179\", \"dash\": \"dash\", \"width\": 4}, \"mode\": \"lines+markers\", \"name\": \"Sevir.5G194900\", \"x\": [\"Herbivory_0h_L\", \"Herbivory_1h_L\", \"Herbivory_4h_L\", \"Herbivory_8h_L\", \"Herbivory_24h_L\", \"Herbivory_48h_L\"], \"y\": [0.0, 0.0, 0.0, 0.0, 0.0, 0.0], \"type\": \"scatter\", \"uid\": \"f9620f94-3633-11ea-9c5e-79fdfc20b759\"}, {\"line\": {\"color\": \"#935b6d\", \"dash\": \"solid\", \"width\": 4}, \"mode\": \"lines+markers\", \"name\": \"Sevir.6G028050\", \"x\": [\"Herbivory_0h_L\", \"Herbivory_1h_L\", \"Herbivory_4h_L\", \"Herbivory_8h_L\", \"Herbivory_24h_L\", \"Herbivory_48h_L\"], \"y\": [0.25, 0.0, 0.2, 0.0, 0.0, 0.0], \"type\": \"scatter\", \"uid\": \"f962112e-3633-11ea-9c5e-79fdfc20b759\"}, {\"line\": {\"color\": \"#916988\", \"dash\": \"dot\", \"width\": 4}, \"mode\": \"lines+markers\", \"name\": \"Sevir.2G003200\", \"x\": [\"Herbivory_0h_L\", \"Herbivory_1h_L\", \"Herbivory_4h_L\", \"Herbivory_8h_L\", \"Herbivory_24h_L\", \"Herbivory_48h_L\"], \"y\": [0.0, 0.0, 0.0, 0.0, 0.0, 0.0], \"type\": \"scatter\", \"uid\": \"f96212be-3633-11ea-9c5e-79fdfc20b759\"}, {\"line\": {\"color\": \"#513d98\", \"dash\": \"dash\", \"width\": 4}, \"mode\": \"lines+markers\", \"name\": \"Sevir.8G079100\", \"x\": [\"Herbivory_0h_L\", \"Herbivory_1h_L\", \"Herbivory_4h_L\", \"Herbivory_8h_L\", \"Herbivory_24h_L\", \"Herbivory_48h_L\"], \"y\": [0.0, 0.0, 0.0, 0.0, 0.0, 0.0], \"type\": \"scatter\", \"uid\": \"f962144e-3633-11ea-9c5e-79fdfc20b759\"}, {\"line\": {\"color\": \"#aead3a\", \"dash\": \"solid\", \"width\": 4}, \"mode\": \"lines+markers\", \"name\": \"Sevir.4G293501\", \"x\": [\"Herbivory_0h_L\", \"Herbivory_1h_L\", \"Herbivory_4h_L\", \"Herbivory_8h_L\", \"Herbivory_24h_L\", \"Herbivory_48h_L\"], \"y\": [0.0, 0.0, 0.0, 0.0, 0.0, 0.0], \"type\": \"scatter\", \"uid\": \"f96215e8-3633-11ea-9c5e-79fdfc20b759\"}, {\"line\": {\"color\": \"#9e6d71\", \"dash\": \"dot\", \"width\": 4}, \"mode\": \"lines+markers\", \"name\": \"Sevir.7G022900\", \"x\": [\"Herbivory_0h_L\", \"Herbivory_1h_L\", \"Herbivory_4h_L\", \"Herbivory_8h_L\", \"Herbivory_24h_L\", \"Herbivory_48h_L\"], \"y\": [0.0, 0.0, 0.0, 0.0, 0.0, 0.0], \"type\": \"scatter\", \"uid\": \"f9621782-3633-11ea-9c5e-79fdfc20b759\"}, {\"line\": {\"color\": \"#4b5bdc\", \"dash\": \"dash\", \"width\": 4}, \"mode\": \"lines+markers\", \"name\": \"Sevir.8G165900\", \"x\": [\"Herbivory_0h_L\", \"Herbivory_1h_L\", \"Herbivory_4h_L\", \"Herbivory_8h_L\", \"Herbivory_24h_L\", \"Herbivory_48h_L\"], \"y\": [0.0, 0.0, 0.0, 0.0, 0.0, 0.0], \"type\": \"scatter\", \"uid\": \"f962191c-3633-11ea-9c5e-79fdfc20b759\"}, {\"line\": {\"color\": \"#0cd36d\", \"dash\": \"solid\", \"width\": 4}, \"mode\": \"lines+markers\", \"name\": \"Sevir.9G092300\", \"x\": [\"Herbivory_0h_L\", \"Herbivory_1h_L\", \"Herbivory_4h_L\", \"Herbivory_8h_L\", \"Herbivory_24h_L\", \"Herbivory_48h_L\"], \"y\": [0.0, 0.0, 0.0, 0.0, 0.0, 0.0], \"type\": \"scatter\", \"uid\": \"f9621aac-3633-11ea-9c5e-79fdfc20b759\"}, {\"line\": {\"color\": \"#250662\", \"dash\": \"dot\", \"width\": 4}, \"mode\": \"lines+markers\", \"name\": \"Sevir.6G113200\", \"x\": [\"Herbivory_0h_L\", \"Herbivory_1h_L\", \"Herbivory_4h_L\", \"Herbivory_8h_L\", \"Herbivory_24h_L\", \"Herbivory_48h_L\"], \"y\": [0.0, 0.0, 0.010769860000000001, 0.0, 0.0, 0.0], \"type\": \"scatter\", \"uid\": \"f9621c46-3633-11ea-9c5e-79fdfc20b759\"}, {\"line\": {\"color\": \"#cb5bea\", \"dash\": \"dash\", \"width\": 4}, \"mode\": \"lines+markers\", \"name\": \"Sevir.4G160200\", \"x\": [\"Herbivory_0h_L\", \"Herbivory_1h_L\", \"Herbivory_4h_L\", \"Herbivory_8h_L\", \"Herbivory_24h_L\", \"Herbivory_48h_L\"], \"y\": [0.0, 0.0, 0.0, 0.0, 0.0, 0.2], \"type\": \"scatter\", \"uid\": \"f9621dd6-3633-11ea-9c5e-79fdfc20b759\"}, {\"line\": {\"color\": \"#228916\", \"dash\": \"solid\", \"width\": 4}, \"mode\": \"lines+markers\", \"name\": \"Sevir.5G037400\", \"x\": [\"Herbivory_0h_L\", \"Herbivory_1h_L\", \"Herbivory_4h_L\", \"Herbivory_8h_L\", \"Herbivory_24h_L\", \"Herbivory_48h_L\"], \"y\": [0.0, 0.0, 0.0, 0.0, 0.0, 0.4], \"type\": \"scatter\", \"uid\": \"f9621f66-3633-11ea-9c5e-79fdfc20b759\"}, {\"line\": {\"color\": \"#ac3e1b\", \"dash\": \"dot\", \"width\": 4}, \"mode\": \"lines+markers\", \"name\": \"Sevir.3G298200\", \"x\": [\"Herbivory_0h_L\", \"Herbivory_1h_L\", \"Herbivory_4h_L\", \"Herbivory_8h_L\", \"Herbivory_24h_L\", \"Herbivory_48h_L\"], \"y\": [0.0, 0.4, 0.0, 0.0, 0.0, 0.0], \"type\": \"scatter\", \"uid\": \"f9622100-3633-11ea-9c5e-79fdfc20b759\"}, {\"line\": {\"color\": \"#df514a\", \"dash\": \"dash\", \"width\": 4}, \"mode\": \"lines+markers\", \"name\": \"Sevir.2G437300\", \"x\": [\"Herbivory_0h_L\", \"Herbivory_1h_L\", \"Herbivory_4h_L\", \"Herbivory_8h_L\", \"Herbivory_24h_L\", \"Herbivory_48h_L\"], \"y\": [0.0, 0.0, 0.0, 0.0, 0.0, 0.2], \"type\": \"scatter\", \"uid\": \"f962229a-3633-11ea-9c5e-79fdfc20b759\"}, {\"line\": {\"color\": \"#539397\", \"dash\": \"solid\", \"width\": 4}, \"mode\": \"lines+markers\", \"name\": \"Sevir.9G095700\", \"x\": [\"Herbivory_0h_L\", \"Herbivory_1h_L\", \"Herbivory_4h_L\", \"Herbivory_8h_L\", \"Herbivory_24h_L\", \"Herbivory_48h_L\"], \"y\": [0.2962975, 0.301068, 0.318444, 0.348366, 2.0681025, 0.61451], \"type\": \"scatter\", \"uid\": \"f962243e-3633-11ea-9c5e-79fdfc20b759\"}, {\"line\": {\"color\": \"#880977\", \"dash\": \"dot\", \"width\": 4}, \"mode\": \"lines+markers\", \"name\": \"Sevir.1G265000\", \"x\": [\"Herbivory_0h_L\", \"Herbivory_1h_L\", \"Herbivory_4h_L\", \"Herbivory_8h_L\", \"Herbivory_24h_L\", \"Herbivory_48h_L\"], \"y\": [0.0, 0.0, 0.0, 0.0, 0.0, 0.0], \"type\": \"scatter\", \"uid\": \"f96225d8-3633-11ea-9c5e-79fdfc20b759\"}, {\"line\": {\"color\": \"#f697c1\", \"dash\": \"dash\", \"width\": 4}, \"mode\": \"lines+markers\", \"name\": \"Sevir.5G418900\", \"x\": [\"Herbivory_0h_L\", \"Herbivory_1h_L\", \"Herbivory_4h_L\", \"Herbivory_8h_L\", \"Herbivory_24h_L\", \"Herbivory_48h_L\"], \"y\": [0.0, 0.0, 0.4, 0.0, 0.0, 0.0], \"type\": \"scatter\", \"uid\": \"f9622812-3633-11ea-9c5e-79fdfc20b759\"}, {\"line\": {\"color\": \"#ba96ce\", \"dash\": \"solid\", \"width\": 4}, \"mode\": \"lines+markers\", \"name\": \"Sevir.8G237700\", \"x\": [\"Herbivory_0h_L\", \"Herbivory_1h_L\", \"Herbivory_4h_L\", \"Herbivory_8h_L\", \"Herbivory_24h_L\", \"Herbivory_48h_L\"], \"y\": [0.0, 0.0, 0.0, 0.0, 0.0, 0.0], \"type\": \"scatter\", \"uid\": \"f96229fc-3633-11ea-9c5e-79fdfc20b759\"}, {\"line\": {\"color\": \"#679c9d\", \"dash\": \"dot\", \"width\": 4}, \"mode\": \"lines+markers\", \"name\": \"Sevir.2G177600\", \"x\": [\"Herbivory_0h_L\", \"Herbivory_1h_L\", \"Herbivory_4h_L\", \"Herbivory_8h_L\", \"Herbivory_24h_L\", \"Herbivory_48h_L\"], \"y\": [0.0, 0.0, 0.2, 0.0, 0.5, 0.0], \"type\": \"scatter\", \"uid\": \"f9622ba0-3633-11ea-9c5e-79fdfc20b759\"}, {\"line\": {\"color\": \"#c6c42c\", \"dash\": \"dash\", \"width\": 4}, \"mode\": \"lines+markers\", \"name\": \"Sevir.9G253801\", \"x\": [\"Herbivory_0h_L\", \"Herbivory_1h_L\", \"Herbivory_4h_L\", \"Herbivory_8h_L\", \"Herbivory_24h_L\", \"Herbivory_48h_L\"], \"y\": [0.0, 0.0, 0.0, 0.4, 0.0, 0.0], \"type\": \"scatter\", \"uid\": \"f9622d44-3633-11ea-9c5e-79fdfc20b759\"}, {\"line\": {\"color\": \"#5d2c52\", \"dash\": \"solid\", \"width\": 4}, \"mode\": \"lines+markers\", \"name\": \"Sevir.6G183566\", \"x\": [\"Herbivory_0h_L\", \"Herbivory_1h_L\", \"Herbivory_4h_L\", \"Herbivory_8h_L\", \"Herbivory_24h_L\", \"Herbivory_48h_L\"], \"y\": [0.0, 0.0, 0.0, 0.0, 0.0, 0.0], \"type\": \"scatter\", \"uid\": \"f9622ede-3633-11ea-9c5e-79fdfc20b759\"}, {\"line\": {\"color\": \"#48b41b\", \"dash\": \"dot\", \"width\": 4}, \"mode\": \"lines+markers\", \"name\": \"Sevir.8G259500\", \"x\": [\"Herbivory_0h_L\", \"Herbivory_1h_L\", \"Herbivory_4h_L\", \"Herbivory_8h_L\", \"Herbivory_24h_L\", \"Herbivory_48h_L\"], \"y\": [0.250795, 0.5419974, 0.401332, 1.002706, 0.75094, 0.486672], \"type\": \"scatter\", \"uid\": \"f9623078-3633-11ea-9c5e-79fdfc20b759\"}, {\"line\": {\"color\": \"#e1cf3b\", \"dash\": \"dash\", \"width\": 4}, \"mode\": \"lines+markers\", \"name\": \"Sevir.5G036550\", \"x\": [\"Herbivory_0h_L\", \"Herbivory_1h_L\", \"Herbivory_4h_L\", \"Herbivory_8h_L\", \"Herbivory_24h_L\", \"Herbivory_48h_L\"], \"y\": [0.0, 0.4, 0.4, 0.6, 1.0, 1.402342], \"type\": \"scatter\", \"uid\": \"f962321c-3633-11ea-9c5e-79fdfc20b759\"}, {\"line\": {\"color\": \"#5be4f0\", \"dash\": \"solid\", \"width\": 4}, \"mode\": \"lines+markers\", \"name\": \"Sevir.7G279700\", \"x\": [\"Herbivory_0h_L\", \"Herbivory_1h_L\", \"Herbivory_4h_L\", \"Herbivory_8h_L\", \"Herbivory_24h_L\", \"Herbivory_48h_L\"], \"y\": [0.0, 0.8, 0.0, 0.2, 0.5, 0.2], \"type\": \"scatter\", \"uid\": \"f96233c0-3633-11ea-9c5e-79fdfc20b759\"}, {\"line\": {\"color\": \"#57c4d8\", \"dash\": \"dot\", \"width\": 4}, \"mode\": \"lines+markers\", \"name\": \"Sevir.8G068450\", \"x\": [\"Herbivory_0h_L\", \"Herbivory_1h_L\", \"Herbivory_4h_L\", \"Herbivory_8h_L\", \"Herbivory_24h_L\", \"Herbivory_48h_L\"], \"y\": [0.0, 0.0, 0.0, 0.0, 0.0, 0.0], \"type\": \"scatter\", \"uid\": \"f962355a-3633-11ea-9c5e-79fdfc20b759\"}, {\"line\": {\"color\": \"#a4d17a\", \"dash\": \"dash\", \"width\": 4}, \"mode\": \"lines+markers\", \"name\": \"Sevir.9G576750\", \"x\": [\"Herbivory_0h_L\", \"Herbivory_1h_L\", \"Herbivory_4h_L\", \"Herbivory_8h_L\", \"Herbivory_24h_L\", \"Herbivory_48h_L\"], \"y\": [1.0, 1.0, 0.4, 2.6, 1.25, 2.2], \"type\": \"scatter\", \"uid\": \"f96236f4-3633-11ea-9c5e-79fdfc20b759\"}, {\"line\": {\"color\": \"#225b8e\", \"dash\": \"solid\", \"width\": 4}, \"mode\": \"lines+markers\", \"name\": \"Sevir.9G248533\", \"x\": [\"Herbivory_0h_L\", \"Herbivory_1h_L\", \"Herbivory_4h_L\", \"Herbivory_8h_L\", \"Herbivory_24h_L\", \"Herbivory_48h_L\"], \"y\": [1.25, 1.0, 2.2, 1.8, 2.0, 3.6], \"type\": \"scatter\", \"uid\": \"f962388e-3633-11ea-9c5e-79fdfc20b759\"}, {\"line\": {\"color\": \"#be608b\", \"dash\": \"dot\", \"width\": 4}, \"mode\": \"lines+markers\", \"name\": \"Sevir.1G379100\", \"x\": [\"Herbivory_0h_L\", \"Herbivory_1h_L\", \"Herbivory_4h_L\", \"Herbivory_8h_L\", \"Herbivory_24h_L\", \"Herbivory_48h_L\"], \"y\": [5.2859475, 7.04516, 8.576972, 8.869028, 7.8366925, 12.17082], \"type\": \"scatter\", \"uid\": \"f9623a28-3633-11ea-9c5e-79fdfc20b759\"}, {\"line\": {\"color\": \"#96b00c\", \"dash\": \"dash\", \"width\": 4}, \"mode\": \"lines+markers\", \"name\": \"Sevir.8G222414\", \"x\": [\"Herbivory_0h_L\", \"Herbivory_1h_L\", \"Herbivory_4h_L\", \"Herbivory_8h_L\", \"Herbivory_24h_L\", \"Herbivory_48h_L\"], \"y\": [2.192065, 1.6, 1.6, 0.4, 1.25, 1.2], \"type\": \"scatter\", \"uid\": \"f9623c6c-3633-11ea-9c5e-79fdfc20b759\"}, {\"line\": {\"color\": \"#088baf\", \"dash\": \"solid\", \"width\": 4}, \"mode\": \"lines+markers\", \"name\": \"Sevir.6G039200\", \"x\": [\"Herbivory_0h_L\", \"Herbivory_1h_L\", \"Herbivory_4h_L\", \"Herbivory_8h_L\", \"Herbivory_24h_L\", \"Herbivory_48h_L\"], \"y\": [3.5315575, 5.967819999999999, 6.768730000000001, 6.484050000000001, 7.081980000000001, 6.5681020000000006], \"type\": \"scatter\", \"uid\": \"f9623e1a-3633-11ea-9c5e-79fdfc20b759\"}, {\"line\": {\"color\": \"#f158bf\", \"dash\": \"dot\", \"width\": 4}, \"mode\": \"lines+markers\", \"name\": \"Sevir.6G075100\", \"x\": [\"Herbivory_0h_L\", \"Herbivory_1h_L\", \"Herbivory_4h_L\", \"Herbivory_8h_L\", \"Herbivory_24h_L\", \"Herbivory_48h_L\"], \"y\": [0.0, 0.0, 0.0, 0.0, 0.0, 0.0], \"type\": \"scatter\", \"uid\": \"f9623fb4-3633-11ea-9c5e-79fdfc20b759\"}, {\"line\": {\"color\": \"#e145ba\", \"dash\": \"dash\", \"width\": 4}, \"mode\": \"lines+markers\", \"name\": \"Sevir.3G331800\", \"x\": [\"Herbivory_0h_L\", \"Herbivory_1h_L\", \"Herbivory_4h_L\", \"Herbivory_8h_L\", \"Herbivory_24h_L\", \"Herbivory_48h_L\"], \"y\": [0.25, 0.0, 0.8, 0.2, 0.75, 0.2], \"type\": \"scatter\", \"uid\": \"f962414e-3633-11ea-9c5e-79fdfc20b759\"}, {\"line\": {\"color\": \"#ee91e3\", \"dash\": \"solid\", \"width\": 4}, \"mode\": \"lines+markers\", \"name\": \"Sevir.4G164200\", \"x\": [\"Herbivory_0h_L\", \"Herbivory_1h_L\", \"Herbivory_4h_L\", \"Herbivory_8h_L\", \"Herbivory_24h_L\", \"Herbivory_48h_L\"], \"y\": [0.0, 0.0, 0.2, 0.0, 0.0, 0.0], \"type\": \"scatter\", \"uid\": \"f96242e8-3633-11ea-9c5e-79fdfc20b759\"}, {\"line\": {\"color\": \"#05d371\", \"dash\": \"dot\", \"width\": 4}, \"mode\": \"lines+markers\", \"name\": \"Sevir.9G347733\", \"x\": [\"Herbivory_0h_L\", \"Herbivory_1h_L\", \"Herbivory_4h_L\", \"Herbivory_8h_L\", \"Herbivory_24h_L\", \"Herbivory_48h_L\"], \"y\": [0.25, 0.2, 1.4, 0.6, 0.0, 0.8], \"type\": \"scatter\", \"uid\": \"f9624478-3633-11ea-9c5e-79fdfc20b759\"}, {\"line\": {\"color\": \"#5426e0\", \"dash\": \"dash\", \"width\": 4}, \"mode\": \"lines+markers\", \"name\": \"Sevir.2G396750\", \"x\": [\"Herbivory_0h_L\", \"Herbivory_1h_L\", \"Herbivory_4h_L\", \"Herbivory_8h_L\", \"Herbivory_24h_L\", \"Herbivory_48h_L\"], \"y\": [0.0, 0.0, 0.0, 0.0, 0.0, 0.0], \"type\": \"scatter\", \"uid\": \"f9624608-3633-11ea-9c5e-79fdfc20b759\"}, {\"line\": {\"color\": \"#4834d0\", \"dash\": \"solid\", \"width\": 4}, \"mode\": \"lines+markers\", \"name\": \"Sevir.3G116100\", \"x\": [\"Herbivory_0h_L\", \"Herbivory_1h_L\", \"Herbivory_4h_L\", \"Herbivory_8h_L\", \"Herbivory_24h_L\", \"Herbivory_48h_L\"], \"y\": [0.0, 0.8, 0.2, 0.0, 0.25, 0.0], \"type\": \"scatter\", \"uid\": \"f96247a2-3633-11ea-9c5e-79fdfc20b759\"}, {\"line\": {\"color\": \"#802234\", \"dash\": \"dot\", \"width\": 4}, \"mode\": \"lines+markers\", \"name\": \"Sevir.7G061100\", \"x\": [\"Herbivory_0h_L\", \"Herbivory_1h_L\", \"Herbivory_4h_L\", \"Herbivory_8h_L\", \"Herbivory_24h_L\", \"Herbivory_48h_L\"], \"y\": [0.0, 0.0, 0.0, 0.0, 0.0, 0.0], \"type\": \"scatter\", \"uid\": \"f9624932-3633-11ea-9c5e-79fdfc20b759\"}, {\"line\": {\"color\": \"#6749e8\", \"dash\": \"dash\", \"width\": 4}, \"mode\": \"lines+markers\", \"name\": \"Sevir.2G307100\", \"x\": [\"Herbivory_0h_L\", \"Herbivory_1h_L\", \"Herbivory_4h_L\", \"Herbivory_8h_L\", \"Herbivory_24h_L\", \"Herbivory_48h_L\"], \"y\": [0.0, 0.0, 0.2, 0.0, 0.0, 0.0], \"type\": \"scatter\", \"uid\": \"f9624ac2-3633-11ea-9c5e-79fdfc20b759\"}, {\"line\": {\"color\": \"#0971f0\", \"dash\": \"solid\", \"width\": 4}, \"mode\": \"lines+markers\", \"name\": \"Sevir.5G087400\", \"x\": [\"Herbivory_0h_L\", \"Herbivory_1h_L\", \"Herbivory_4h_L\", \"Herbivory_8h_L\", \"Herbivory_24h_L\", \"Herbivory_48h_L\"], \"y\": [0.25, 0.6, 0.8, 0.6, 0.5, 1.0], \"type\": \"scatter\", \"uid\": \"f9624c52-3633-11ea-9c5e-79fdfc20b759\"}, {\"line\": {\"color\": \"#8fb413\", \"dash\": \"dot\", \"width\": 4}, \"mode\": \"lines+markers\", \"name\": \"Sevir.7G005300\", \"x\": [\"Herbivory_0h_L\", \"Herbivory_1h_L\", \"Herbivory_4h_L\", \"Herbivory_8h_L\", \"Herbivory_24h_L\", \"Herbivory_48h_L\"], \"y\": [0.0, 0.4, 0.0, 0.0, 0.0, 0.2], \"type\": \"scatter\", \"uid\": \"f9624de2-3633-11ea-9c5e-79fdfc20b759\"}, {\"line\": {\"color\": \"#b2b4f0\", \"dash\": \"dash\", \"width\": 4}, \"mode\": \"lines+markers\", \"name\": \"Sevir.2G026100\", \"x\": [\"Herbivory_0h_L\", \"Herbivory_1h_L\", \"Herbivory_4h_L\", \"Herbivory_8h_L\", \"Herbivory_24h_L\", \"Herbivory_48h_L\"], \"y\": [0.25, 2.0, 1.2, 0.4, 0.25, 1.2], \"type\": \"scatter\", \"uid\": \"f9625044-3633-11ea-9c5e-79fdfc20b759\"}, {\"line\": {\"color\": \"#c3c89d\", \"dash\": \"solid\", \"width\": 4}, \"mode\": \"lines+markers\", \"name\": \"Sevir.9G072900\", \"x\": [\"Herbivory_0h_L\", \"Herbivory_1h_L\", \"Herbivory_4h_L\", \"Herbivory_8h_L\", \"Herbivory_24h_L\", \"Herbivory_48h_L\"], \"y\": [0.0, 0.0, 0.4, 0.0, 0.0, 0.6], \"type\": \"scatter\", \"uid\": \"f96251e8-3633-11ea-9c5e-79fdfc20b759\"}], {\"dragmode\": \"select\", \"plot_bgcolor\": \"white\", \"title\": \"Average Gene Expression - Herbivory\", \"xaxis\": {\"gridcolor\": \"whitesmoke\", \"showgrid\": true, \"title\": \"Experimental Conditions\"}, \"yaxis\": {\"gridcolor\": \"whitesmoke\", \"showgrid\": true, \"title\": \"Expression\"}}, {\"showLink\": true, \"linkText\": \"Export to plot.ly\"})});</script>"
      ]
     },
     "metadata": {},
     "output_type": "display_data"
    },
    {
     "data": {
      "application/vnd.plotly.v1+json": {
       "data": [
        {
         "line": {
          "color": "#ce7d78",
          "dash": "dot",
          "width": 4
         },
         "mode": "lines+markers",
         "name": "Sevir.9G282425",
         "type": "scatter",
         "uid": "fa911126-3633-11ea-9c5e-79fdfc20b759",
         "x": [
          "Light_High_L",
          "Light_Control_L",
          "Light_Control_S",
          "Light_High_S",
          "Light_Low_L",
          "Light_Low_S"
         ],
         "y": [
          0.2,
          0.6,
          0,
          0,
          0,
          0.4
         ]
        },
        {
         "line": {
          "color": "#ea9e70",
          "dash": "dash",
          "width": 4
         },
         "mode": "lines+markers",
         "name": "Sevir.7G018910",
         "type": "scatter",
         "uid": "fa91157c-3633-11ea-9c5e-79fdfc20b759",
         "x": [
          "Light_High_L",
          "Light_Control_L",
          "Light_Control_S",
          "Light_High_S",
          "Light_Low_L",
          "Light_Low_S"
         ],
         "y": [
          0.691678,
          0,
          0.4,
          0,
          0.2,
          0
         ]
        },
        {
         "line": {
          "color": "#a48a9e",
          "dash": "solid",
          "width": 4
         },
         "mode": "lines+markers",
         "name": "Sevir.5G044500",
         "type": "scatter",
         "uid": "fa9117ca-3633-11ea-9c5e-79fdfc20b759",
         "x": [
          "Light_High_L",
          "Light_Control_L",
          "Light_Control_S",
          "Light_High_S",
          "Light_Low_L",
          "Light_Low_S"
         ],
         "y": [
          0,
          0,
          0,
          0,
          0,
          0
         ]
        },
        {
         "line": {
          "color": "#c6e1e8",
          "dash": "dot",
          "width": 4
         },
         "mode": "lines+markers",
         "name": "Sevir.2G127900",
         "type": "scatter",
         "uid": "fa9119be-3633-11ea-9c5e-79fdfc20b759",
         "x": [
          "Light_High_L",
          "Light_Control_L",
          "Light_Control_S",
          "Light_High_S",
          "Light_Low_L",
          "Light_Low_S"
         ],
         "y": [
          1,
          2.4,
          0,
          0,
          0.6,
          0
         ]
        },
        {
         "line": {
          "color": "#648177",
          "dash": "dash",
          "width": 4
         },
         "mode": "lines+markers",
         "name": "Sevir.5G129000",
         "type": "scatter",
         "uid": "fa911b94-3633-11ea-9c5e-79fdfc20b759",
         "x": [
          "Light_High_L",
          "Light_Control_L",
          "Light_Control_S",
          "Light_High_S",
          "Light_Low_L",
          "Light_Low_S"
         ],
         "y": [
          0.9858339999999999,
          7.232830000000002,
          8.29787,
          1.46794,
          3.0126359999999996,
          1.283858
         ]
        },
        {
         "line": {
          "color": "#0d5ac1",
          "dash": "solid",
          "width": 4
         },
         "mode": "lines+markers",
         "name": "Sevir.2G354400",
         "type": "scatter",
         "uid": "fa911d4c-3633-11ea-9c5e-79fdfc20b759",
         "x": [
          "Light_High_L",
          "Light_Control_L",
          "Light_Control_S",
          "Light_High_S",
          "Light_Low_L",
          "Light_Low_S"
         ],
         "y": [
          0,
          0,
          0,
          0,
          0,
          0
         ]
        },
        {
         "line": {
          "color": "#f205e6",
          "dash": "dot",
          "width": 4
         },
         "mode": "lines+markers",
         "name": "Sevir.2G152600",
         "type": "scatter",
         "uid": "fa911efa-3633-11ea-9c5e-79fdfc20b759",
         "x": [
          "Light_High_L",
          "Light_Control_L",
          "Light_Control_S",
          "Light_High_S",
          "Light_Low_L",
          "Light_Low_S"
         ],
         "y": [
          0.8,
          0,
          0.4,
          0,
          0,
          0
         ]
        },
        {
         "line": {
          "color": "#1c0365",
          "dash": "dash",
          "width": 4
         },
         "mode": "lines+markers",
         "name": "Sevir.7G023700",
         "type": "scatter",
         "uid": "fa9120b2-3633-11ea-9c5e-79fdfc20b759",
         "x": [
          "Light_High_L",
          "Light_Control_L",
          "Light_Control_S",
          "Light_High_S",
          "Light_Low_L",
          "Light_Low_S"
         ],
         "y": [
          2.841168,
          0.69912,
          0.11163780000000001,
          3.7564839999999995,
          0.2,
          0.1516574
         ]
        },
        {
         "line": {
          "color": "#14a9ad",
          "dash": "solid",
          "width": 4
         },
         "mode": "lines+markers",
         "name": "Sevir.4G118900",
         "type": "scatter",
         "uid": "fa912260-3633-11ea-9c5e-79fdfc20b759",
         "x": [
          "Light_High_L",
          "Light_Control_L",
          "Light_Control_S",
          "Light_High_S",
          "Light_Low_L",
          "Light_Low_S"
         ],
         "y": [
          2.2,
          0,
          0,
          0,
          0,
          0.8
         ]
        },
        {
         "line": {
          "color": "#4ca2f9",
          "dash": "dot",
          "width": 4
         },
         "mode": "lines+markers",
         "name": "Sevir.8G081600",
         "type": "scatter",
         "uid": "fa912418-3633-11ea-9c5e-79fdfc20b759",
         "x": [
          "Light_High_L",
          "Light_Control_L",
          "Light_Control_S",
          "Light_High_S",
          "Light_Low_L",
          "Light_Low_S"
         ],
         "y": [
          0,
          0,
          0,
          0,
          0,
          0.1997104
         ]
        },
        {
         "line": {
          "color": "#a4e43f",
          "dash": "dash",
          "width": 4
         },
         "mode": "lines+markers",
         "name": "Sevir.5G364132",
         "type": "scatter",
         "uid": "fa9125d0-3633-11ea-9c5e-79fdfc20b759",
         "x": [
          "Light_High_L",
          "Light_Control_L",
          "Light_Control_S",
          "Light_High_S",
          "Light_Low_L",
          "Light_Low_S"
         ],
         "y": [
          0.6,
          0,
          0,
          0,
          0,
          0
         ]
        },
        {
         "line": {
          "color": "#d298e2",
          "dash": "solid",
          "width": 4
         },
         "mode": "lines+markers",
         "name": "Sevir.4G263301",
         "type": "scatter",
         "uid": "fa91277e-3633-11ea-9c5e-79fdfc20b759",
         "x": [
          "Light_High_L",
          "Light_Control_L",
          "Light_Control_S",
          "Light_High_S",
          "Light_Low_L",
          "Light_Low_S"
         ],
         "y": [
          0.2,
          0.2,
          0,
          0.2,
          0,
          0.4
         ]
        },
        {
         "line": {
          "color": "#6119d0",
          "dash": "dot",
          "width": 4
         },
         "mode": "lines+markers",
         "name": "Sevir.9G099466",
         "type": "scatter",
         "uid": "fa91292c-3633-11ea-9c5e-79fdfc20b759",
         "x": [
          "Light_High_L",
          "Light_Control_L",
          "Light_Control_S",
          "Light_High_S",
          "Light_Low_L",
          "Light_Low_S"
         ],
         "y": [
          0.2,
          0,
          0.4,
          0,
          0,
          0
         ]
        },
        {
         "line": {
          "color": "#d2737d",
          "dash": "dash",
          "width": 4
         },
         "mode": "lines+markers",
         "name": "Sevir.9G078500",
         "type": "scatter",
         "uid": "fa912ada-3633-11ea-9c5e-79fdfc20b759",
         "x": [
          "Light_High_L",
          "Light_Control_L",
          "Light_Control_S",
          "Light_High_S",
          "Light_Low_L",
          "Light_Low_S"
         ],
         "y": [
          0.4,
          0.2,
          0,
          0,
          0,
          0
         ]
        },
        {
         "line": {
          "color": "#c0a43c",
          "dash": "solid",
          "width": 4
         },
         "mode": "lines+markers",
         "name": "Sevir.2G263800",
         "type": "scatter",
         "uid": "fa912c88-3633-11ea-9c5e-79fdfc20b759",
         "x": [
          "Light_High_L",
          "Light_Control_L",
          "Light_Control_S",
          "Light_High_S",
          "Light_Low_L",
          "Light_Low_S"
         ],
         "y": [
          0,
          0,
          0,
          0,
          0,
          0
         ]
        },
        {
         "line": {
          "color": "#f2510e",
          "dash": "dot",
          "width": 4
         },
         "mode": "lines+markers",
         "name": "Sevir.8G218520",
         "type": "scatter",
         "uid": "fa912e36-3633-11ea-9c5e-79fdfc20b759",
         "x": [
          "Light_High_L",
          "Light_Control_L",
          "Light_Control_S",
          "Light_High_S",
          "Light_Low_L",
          "Light_Low_S"
         ],
         "y": [
          0,
          0,
          0,
          0,
          0,
          0
         ]
        },
        {
         "line": {
          "color": "#651be6",
          "dash": "dash",
          "width": 4
         },
         "mode": "lines+markers",
         "name": "Sevir.3G390900",
         "type": "scatter",
         "uid": "fa912fe4-3633-11ea-9c5e-79fdfc20b759",
         "x": [
          "Light_High_L",
          "Light_Control_L",
          "Light_Control_S",
          "Light_High_S",
          "Light_Low_L",
          "Light_Low_S"
         ],
         "y": [
          0,
          0.6,
          0,
          0,
          0,
          0
         ]
        },
        {
         "line": {
          "color": "#79806e",
          "dash": "solid",
          "width": 4
         },
         "mode": "lines+markers",
         "name": "Sevir.9G165400",
         "type": "scatter",
         "uid": "fa913278-3633-11ea-9c5e-79fdfc20b759",
         "x": [
          "Light_High_L",
          "Light_Control_L",
          "Light_Control_S",
          "Light_High_S",
          "Light_Low_L",
          "Light_Low_S"
         ],
         "y": [
          0.25095,
          0,
          0,
          0,
          0,
          0
         ]
        },
        {
         "line": {
          "color": "#61da5e",
          "dash": "dot",
          "width": 4
         },
         "mode": "lines+markers",
         "name": "Sevir.8G245140",
         "type": "scatter",
         "uid": "fa913494-3633-11ea-9c5e-79fdfc20b759",
         "x": [
          "Light_High_L",
          "Light_Control_L",
          "Light_Control_S",
          "Light_High_S",
          "Light_Low_L",
          "Light_Low_S"
         ],
         "y": [
          0.2,
          1,
          0.2,
          0.2,
          0,
          0.2
         ]
        },
        {
         "line": {
          "color": "#cd2f00",
          "dash": "dash",
          "width": 4
         },
         "mode": "lines+markers",
         "name": "Sevir.8G087000",
         "type": "scatter",
         "uid": "fa91364c-3633-11ea-9c5e-79fdfc20b759",
         "x": [
          "Light_High_L",
          "Light_Control_L",
          "Light_Control_S",
          "Light_High_S",
          "Light_Low_L",
          "Light_Low_S"
         ],
         "y": [
          0,
          0,
          0,
          0,
          0,
          0
         ]
        },
        {
         "line": {
          "color": "#9348af",
          "dash": "solid",
          "width": 4
         },
         "mode": "lines+markers",
         "name": "Sevir.9G576201",
         "type": "scatter",
         "uid": "fa9137fa-3633-11ea-9c5e-79fdfc20b759",
         "x": [
          "Light_High_L",
          "Light_Control_L",
          "Light_Control_S",
          "Light_High_S",
          "Light_Low_L",
          "Light_Low_S"
         ],
         "y": [
          0,
          0,
          0,
          0,
          0,
          0
         ]
        },
        {
         "line": {
          "color": "#01ac53",
          "dash": "dot",
          "width": 4
         },
         "mode": "lines+markers",
         "name": "Sevir.5G470750",
         "type": "scatter",
         "uid": "fa9139b2-3633-11ea-9c5e-79fdfc20b759",
         "x": [
          "Light_High_L",
          "Light_Control_L",
          "Light_Control_S",
          "Light_High_S",
          "Light_Low_L",
          "Light_Low_S"
         ],
         "y": [
          0,
          0.4,
          0.4,
          1.8,
          0.2,
          1
         ]
        },
        {
         "line": {
          "color": "#c5a4fb",
          "dash": "dash",
          "width": 4
         },
         "mode": "lines+markers",
         "name": "Sevir.1G060850",
         "type": "scatter",
         "uid": "fa913b60-3633-11ea-9c5e-79fdfc20b759",
         "x": [
          "Light_High_L",
          "Light_Control_L",
          "Light_Control_S",
          "Light_High_S",
          "Light_Low_L",
          "Light_Low_S"
         ],
         "y": [
          0,
          0,
          0,
          0,
          0,
          0
         ]
        },
        {
         "line": {
          "color": "#996635",
          "dash": "solid",
          "width": 4
         },
         "mode": "lines+markers",
         "name": "Sevir.2G280500",
         "type": "scatter",
         "uid": "fa913d04-3633-11ea-9c5e-79fdfc20b759",
         "x": [
          "Light_High_L",
          "Light_Control_L",
          "Light_Control_S",
          "Light_High_S",
          "Light_Low_L",
          "Light_Low_S"
         ],
         "y": [
          0.23170079999999998,
          0.36634,
          0,
          0,
          0,
          9.2116e-07
         ]
        },
        {
         "line": {
          "color": "#b11573",
          "dash": "dot",
          "width": 4
         },
         "mode": "lines+markers",
         "name": "Sevir.9G268200",
         "type": "scatter",
         "uid": "fa913eb2-3633-11ea-9c5e-79fdfc20b759",
         "x": [
          "Light_High_L",
          "Light_Control_L",
          "Light_Control_S",
          "Light_High_S",
          "Light_Low_L",
          "Light_Low_S"
         ],
         "y": [
          0.2,
          0.6,
          0,
          0,
          0,
          0.2
         ]
        },
        {
         "line": {
          "color": "#4bb473",
          "dash": "dash",
          "width": 4
         },
         "mode": "lines+markers",
         "name": "Sevir.4G143101",
         "type": "scatter",
         "uid": "fa91406a-3633-11ea-9c5e-79fdfc20b759",
         "x": [
          "Light_High_L",
          "Light_Control_L",
          "Light_Control_S",
          "Light_High_S",
          "Light_Low_L",
          "Light_Low_S"
         ],
         "y": [
          0.4,
          0,
          0,
          0,
          0,
          0
         ]
        },
        {
         "line": {
          "color": "#75d89e",
          "dash": "solid",
          "width": 4
         },
         "mode": "lines+markers",
         "name": "Sevir.2G342800",
         "type": "scatter",
         "uid": "fa91420e-3633-11ea-9c5e-79fdfc20b759",
         "x": [
          "Light_High_L",
          "Light_Control_L",
          "Light_Control_S",
          "Light_High_S",
          "Light_Low_L",
          "Light_Low_S"
         ],
         "y": [
          0,
          0,
          0.2,
          0.4,
          0,
          0.4
         ]
        },
        {
         "line": {
          "color": "#2f3f94",
          "dash": "dot",
          "width": 4
         },
         "mode": "lines+markers",
         "name": "Sevir.1G019900",
         "type": "scatter",
         "uid": "fa9143c6-3633-11ea-9c5e-79fdfc20b759",
         "x": [
          "Light_High_L",
          "Light_Control_L",
          "Light_Control_S",
          "Light_High_S",
          "Light_Low_L",
          "Light_Low_S"
         ],
         "y": [
          0,
          0.6,
          0,
          0,
          0,
          0.4
         ]
        },
        {
         "line": {
          "color": "#2f7b99",
          "dash": "dash",
          "width": 4
         },
         "mode": "lines+markers",
         "name": "Sevir.3G353500",
         "type": "scatter",
         "uid": "fa91456a-3633-11ea-9c5e-79fdfc20b759",
         "x": [
          "Light_High_L",
          "Light_Control_L",
          "Light_Control_S",
          "Light_High_S",
          "Light_Low_L",
          "Light_Low_S"
         ],
         "y": [
          0,
          0,
          0,
          0,
          0,
          0
         ]
        },
        {
         "line": {
          "color": "#da967d",
          "dash": "solid",
          "width": 4
         },
         "mode": "lines+markers",
         "name": "Sevir.7G189700",
         "type": "scatter",
         "uid": "fa914718-3633-11ea-9c5e-79fdfc20b759",
         "x": [
          "Light_High_L",
          "Light_Control_L",
          "Light_Control_S",
          "Light_High_S",
          "Light_Low_L",
          "Light_Low_S"
         ],
         "y": [
          0,
          0,
          0,
          0,
          0,
          0
         ]
        },
        {
         "line": {
          "color": "#34891f",
          "dash": "dot",
          "width": 4
         },
         "mode": "lines+markers",
         "name": "Sevir.4G118600",
         "type": "scatter",
         "uid": "fa9148c6-3633-11ea-9c5e-79fdfc20b759",
         "x": [
          "Light_High_L",
          "Light_Control_L",
          "Light_Control_S",
          "Light_High_S",
          "Light_Low_L",
          "Light_Low_S"
         ],
         "y": [
          0,
          0,
          0,
          0,
          0,
          0
         ]
        },
        {
         "line": {
          "color": "#b0d87b",
          "dash": "dash",
          "width": 4
         },
         "mode": "lines+markers",
         "name": "Sevir.5G315900",
         "type": "scatter",
         "uid": "fa914a7e-3633-11ea-9c5e-79fdfc20b759",
         "x": [
          "Light_High_L",
          "Light_Control_L",
          "Light_Control_S",
          "Light_High_S",
          "Light_Low_L",
          "Light_Low_S"
         ],
         "y": [
          0,
          0,
          0.2,
          0,
          0,
          0
         ]
        },
        {
         "line": {
          "color": "#ca4751",
          "dash": "solid",
          "width": 4
         },
         "mode": "lines+markers",
         "name": "Sevir.1G110232",
         "type": "scatter",
         "uid": "fa914c22-3633-11ea-9c5e-79fdfc20b759",
         "x": [
          "Light_High_L",
          "Light_Control_L",
          "Light_Control_S",
          "Light_High_S",
          "Light_Low_L",
          "Light_Low_S"
         ],
         "y": [
          0,
          0,
          0.2,
          0,
          0,
          0.2
         ]
        },
        {
         "line": {
          "color": "#7e50a8",
          "dash": "dot",
          "width": 4
         },
         "mode": "lines+markers",
         "name": "Sevir.5G206100",
         "type": "scatter",
         "uid": "fa914dc6-3633-11ea-9c5e-79fdfc20b759",
         "x": [
          "Light_High_L",
          "Light_Control_L",
          "Light_Control_S",
          "Light_High_S",
          "Light_Low_L",
          "Light_Low_S"
         ],
         "y": [
          0,
          0,
          0.2,
          0,
          0,
          0.4
         ]
        },
        {
         "line": {
          "color": "#c4d647",
          "dash": "dash",
          "width": 4
         },
         "mode": "lines+markers",
         "name": "Sevir.3G353200",
         "type": "scatter",
         "uid": "fa914f74-3633-11ea-9c5e-79fdfc20b759",
         "x": [
          "Light_High_L",
          "Light_Control_L",
          "Light_Control_S",
          "Light_High_S",
          "Light_Low_L",
          "Light_Low_S"
         ],
         "y": [
          0,
          0,
          1,
          0,
          0,
          0.2
         ]
        },
        {
         "line": {
          "color": "#e0eeb8",
          "dash": "solid",
          "width": 4
         },
         "mode": "lines+markers",
         "name": "Sevir.4G093300",
         "type": "scatter",
         "uid": "fa915118-3633-11ea-9c5e-79fdfc20b759",
         "x": [
          "Light_High_L",
          "Light_Control_L",
          "Light_Control_S",
          "Light_High_S",
          "Light_Low_L",
          "Light_Low_S"
         ],
         "y": [
          0,
          0.6,
          1,
          0.2,
          0.6,
          0.6
         ]
        },
        {
         "line": {
          "color": "#11dec1",
          "dash": "dot",
          "width": 4
         },
         "mode": "lines+markers",
         "name": "Sevir.1G171100",
         "type": "scatter",
         "uid": "fa9152d0-3633-11ea-9c5e-79fdfc20b759",
         "x": [
          "Light_High_L",
          "Light_Control_L",
          "Light_Control_S",
          "Light_High_S",
          "Light_Low_L",
          "Light_Low_S"
         ],
         "y": [
          0.8,
          0,
          0.2,
          0,
          0,
          0
         ]
        },
        {
         "line": {
          "color": "#289812",
          "dash": "dash",
          "width": 4
         },
         "mode": "lines+markers",
         "name": "Sevir.2G305750",
         "type": "scatter",
         "uid": "fa91547e-3633-11ea-9c5e-79fdfc20b759",
         "x": [
          "Light_High_L",
          "Light_Control_L",
          "Light_Control_S",
          "Light_High_S",
          "Light_Low_L",
          "Light_Low_S"
         ],
         "y": [
          0,
          0.739994,
          0,
          0.596136,
          0.754728,
          0.263638
         ]
        },
        {
         "line": {
          "color": "#566ca0",
          "dash": "solid",
          "width": 4
         },
         "mode": "lines+markers",
         "name": "Sevir.9G169700",
         "type": "scatter",
         "uid": "fa915834-3633-11ea-9c5e-79fdfc20b759",
         "x": [
          "Light_High_L",
          "Light_Control_L",
          "Light_Control_S",
          "Light_High_S",
          "Light_Low_L",
          "Light_Low_S"
         ],
         "y": [
          0,
          0,
          0,
          0,
          0,
          0
         ]
        },
        {
         "line": {
          "color": "#ffdbe1",
          "dash": "dot",
          "width": 4
         },
         "mode": "lines+markers",
         "name": "Sevir.1G020800",
         "type": "scatter",
         "uid": "fa915b68-3633-11ea-9c5e-79fdfc20b759",
         "x": [
          "Light_High_L",
          "Light_Control_L",
          "Light_Control_S",
          "Light_High_S",
          "Light_Low_L",
          "Light_Low_S"
         ],
         "y": [
          0,
          0.4,
          0,
          0.6,
          0,
          0
         ]
        },
        {
         "line": {
          "color": "#2f1179",
          "dash": "dash",
          "width": 4
         },
         "mode": "lines+markers",
         "name": "Sevir.5G194900",
         "type": "scatter",
         "uid": "fa915d3e-3633-11ea-9c5e-79fdfc20b759",
         "x": [
          "Light_High_L",
          "Light_Control_L",
          "Light_Control_S",
          "Light_High_S",
          "Light_Low_L",
          "Light_Low_S"
         ],
         "y": [
          0,
          0,
          0.534106,
          0,
          0,
          0
         ]
        },
        {
         "line": {
          "color": "#935b6d",
          "dash": "solid",
          "width": 4
         },
         "mode": "lines+markers",
         "name": "Sevir.6G028050",
         "type": "scatter",
         "uid": "fa915eec-3633-11ea-9c5e-79fdfc20b759",
         "x": [
          "Light_High_L",
          "Light_Control_L",
          "Light_Control_S",
          "Light_High_S",
          "Light_Low_L",
          "Light_Low_S"
         ],
         "y": [
          0,
          0,
          0,
          0,
          0,
          0
         ]
        },
        {
         "line": {
          "color": "#916988",
          "dash": "dot",
          "width": 4
         },
         "mode": "lines+markers",
         "name": "Sevir.2G003200",
         "type": "scatter",
         "uid": "fa91609a-3633-11ea-9c5e-79fdfc20b759",
         "x": [
          "Light_High_L",
          "Light_Control_L",
          "Light_Control_S",
          "Light_High_S",
          "Light_Low_L",
          "Light_Low_S"
         ],
         "y": [
          0,
          0,
          0,
          0.2,
          0,
          0
         ]
        },
        {
         "line": {
          "color": "#513d98",
          "dash": "dash",
          "width": 4
         },
         "mode": "lines+markers",
         "name": "Sevir.8G079100",
         "type": "scatter",
         "uid": "fa91623e-3633-11ea-9c5e-79fdfc20b759",
         "x": [
          "Light_High_L",
          "Light_Control_L",
          "Light_Control_S",
          "Light_High_S",
          "Light_Low_L",
          "Light_Low_S"
         ],
         "y": [
          0,
          0,
          0,
          0,
          0,
          0
         ]
        },
        {
         "line": {
          "color": "#aead3a",
          "dash": "solid",
          "width": 4
         },
         "mode": "lines+markers",
         "name": "Sevir.4G293501",
         "type": "scatter",
         "uid": "fa9163f6-3633-11ea-9c5e-79fdfc20b759",
         "x": [
          "Light_High_L",
          "Light_Control_L",
          "Light_Control_S",
          "Light_High_S",
          "Light_Low_L",
          "Light_Low_S"
         ],
         "y": [
          0,
          0,
          0.0858748,
          0,
          0,
          0
         ]
        },
        {
         "line": {
          "color": "#9e6d71",
          "dash": "dot",
          "width": 4
         },
         "mode": "lines+markers",
         "name": "Sevir.7G022900",
         "type": "scatter",
         "uid": "fa9165a4-3633-11ea-9c5e-79fdfc20b759",
         "x": [
          "Light_High_L",
          "Light_Control_L",
          "Light_Control_S",
          "Light_High_S",
          "Light_Low_L",
          "Light_Low_S"
         ],
         "y": [
          0,
          0,
          0,
          0,
          0,
          0
         ]
        },
        {
         "line": {
          "color": "#4b5bdc",
          "dash": "dash",
          "width": 4
         },
         "mode": "lines+markers",
         "name": "Sevir.8G165900",
         "type": "scatter",
         "uid": "fa916752-3633-11ea-9c5e-79fdfc20b759",
         "x": [
          "Light_High_L",
          "Light_Control_L",
          "Light_Control_S",
          "Light_High_S",
          "Light_Low_L",
          "Light_Low_S"
         ],
         "y": [
          0,
          0,
          0,
          0,
          0,
          0
         ]
        },
        {
         "line": {
          "color": "#0cd36d",
          "dash": "solid",
          "width": 4
         },
         "mode": "lines+markers",
         "name": "Sevir.9G092300",
         "type": "scatter",
         "uid": "fa916900-3633-11ea-9c5e-79fdfc20b759",
         "x": [
          "Light_High_L",
          "Light_Control_L",
          "Light_Control_S",
          "Light_High_S",
          "Light_Low_L",
          "Light_Low_S"
         ],
         "y": [
          0,
          0,
          0,
          0,
          0,
          0
         ]
        },
        {
         "line": {
          "color": "#250662",
          "dash": "dot",
          "width": 4
         },
         "mode": "lines+markers",
         "name": "Sevir.6G113200",
         "type": "scatter",
         "uid": "fa916aae-3633-11ea-9c5e-79fdfc20b759",
         "x": [
          "Light_High_L",
          "Light_Control_L",
          "Light_Control_S",
          "Light_High_S",
          "Light_Low_L",
          "Light_Low_S"
         ],
         "y": [
          0,
          0,
          0,
          0,
          0,
          0
         ]
        },
        {
         "line": {
          "color": "#cb5bea",
          "dash": "dash",
          "width": 4
         },
         "mode": "lines+markers",
         "name": "Sevir.4G160200",
         "type": "scatter",
         "uid": "fa916c66-3633-11ea-9c5e-79fdfc20b759",
         "x": [
          "Light_High_L",
          "Light_Control_L",
          "Light_Control_S",
          "Light_High_S",
          "Light_Low_L",
          "Light_Low_S"
         ],
         "y": [
          0,
          0,
          0,
          0,
          0,
          0
         ]
        },
        {
         "line": {
          "color": "#228916",
          "dash": "solid",
          "width": 4
         },
         "mode": "lines+markers",
         "name": "Sevir.5G037400",
         "type": "scatter",
         "uid": "fa916e14-3633-11ea-9c5e-79fdfc20b759",
         "x": [
          "Light_High_L",
          "Light_Control_L",
          "Light_Control_S",
          "Light_High_S",
          "Light_Low_L",
          "Light_Low_S"
         ],
         "y": [
          0,
          0,
          0,
          0,
          0,
          0
         ]
        },
        {
         "line": {
          "color": "#ac3e1b",
          "dash": "dot",
          "width": 4
         },
         "mode": "lines+markers",
         "name": "Sevir.3G298200",
         "type": "scatter",
         "uid": "fa916fc2-3633-11ea-9c5e-79fdfc20b759",
         "x": [
          "Light_High_L",
          "Light_Control_L",
          "Light_Control_S",
          "Light_High_S",
          "Light_Low_L",
          "Light_Low_S"
         ],
         "y": [
          0,
          0,
          0,
          0,
          0,
          0
         ]
        },
        {
         "line": {
          "color": "#df514a",
          "dash": "dash",
          "width": 4
         },
         "mode": "lines+markers",
         "name": "Sevir.2G437300",
         "type": "scatter",
         "uid": "fa917170-3633-11ea-9c5e-79fdfc20b759",
         "x": [
          "Light_High_L",
          "Light_Control_L",
          "Light_Control_S",
          "Light_High_S",
          "Light_Low_L",
          "Light_Low_S"
         ],
         "y": [
          0,
          0,
          0,
          0,
          0,
          0
         ]
        },
        {
         "line": {
          "color": "#539397",
          "dash": "solid",
          "width": 4
         },
         "mode": "lines+markers",
         "name": "Sevir.9G095700",
         "type": "scatter",
         "uid": "fa91731e-3633-11ea-9c5e-79fdfc20b759",
         "x": [
          "Light_High_L",
          "Light_Control_L",
          "Light_Control_S",
          "Light_High_S",
          "Light_Low_L",
          "Light_Low_S"
         ],
         "y": [
          0.40854999999999997,
          0.28139,
          0.205896,
          0.408022,
          0,
          0
         ]
        },
        {
         "line": {
          "color": "#880977",
          "dash": "dot",
          "width": 4
         },
         "mode": "lines+markers",
         "name": "Sevir.1G265000",
         "type": "scatter",
         "uid": "fa9174cc-3633-11ea-9c5e-79fdfc20b759",
         "x": [
          "Light_High_L",
          "Light_Control_L",
          "Light_Control_S",
          "Light_High_S",
          "Light_Low_L",
          "Light_Low_S"
         ],
         "y": [
          0,
          0,
          0,
          0,
          0,
          0
         ]
        },
        {
         "line": {
          "color": "#f697c1",
          "dash": "dash",
          "width": 4
         },
         "mode": "lines+markers",
         "name": "Sevir.5G418900",
         "type": "scatter",
         "uid": "fa917684-3633-11ea-9c5e-79fdfc20b759",
         "x": [
          "Light_High_L",
          "Light_Control_L",
          "Light_Control_S",
          "Light_High_S",
          "Light_Low_L",
          "Light_Low_S"
         ],
         "y": [
          0.2,
          0,
          0,
          0,
          0.2,
          0
         ]
        },
        {
         "line": {
          "color": "#ba96ce",
          "dash": "solid",
          "width": 4
         },
         "mode": "lines+markers",
         "name": "Sevir.8G237700",
         "type": "scatter",
         "uid": "fa917832-3633-11ea-9c5e-79fdfc20b759",
         "x": [
          "Light_High_L",
          "Light_Control_L",
          "Light_Control_S",
          "Light_High_S",
          "Light_Low_L",
          "Light_Low_S"
         ],
         "y": [
          0,
          0,
          0.2,
          0,
          0,
          0
         ]
        },
        {
         "line": {
          "color": "#679c9d",
          "dash": "dot",
          "width": 4
         },
         "mode": "lines+markers",
         "name": "Sevir.2G177600",
         "type": "scatter",
         "uid": "fa9179e0-3633-11ea-9c5e-79fdfc20b759",
         "x": [
          "Light_High_L",
          "Light_Control_L",
          "Light_Control_S",
          "Light_High_S",
          "Light_Low_L",
          "Light_Low_S"
         ],
         "y": [
          0,
          0,
          0,
          0,
          0,
          0
         ]
        },
        {
         "line": {
          "color": "#c6c42c",
          "dash": "dash",
          "width": 4
         },
         "mode": "lines+markers",
         "name": "Sevir.9G253801",
         "type": "scatter",
         "uid": "fa917b8e-3633-11ea-9c5e-79fdfc20b759",
         "x": [
          "Light_High_L",
          "Light_Control_L",
          "Light_Control_S",
          "Light_High_S",
          "Light_Low_L",
          "Light_Low_S"
         ],
         "y": [
          0,
          0.2,
          0,
          0,
          0.2,
          0
         ]
        },
        {
         "line": {
          "color": "#5d2c52",
          "dash": "solid",
          "width": 4
         },
         "mode": "lines+markers",
         "name": "Sevir.6G183566",
         "type": "scatter",
         "uid": "fa917d3c-3633-11ea-9c5e-79fdfc20b759",
         "x": [
          "Light_High_L",
          "Light_Control_L",
          "Light_Control_S",
          "Light_High_S",
          "Light_Low_L",
          "Light_Low_S"
         ],
         "y": [
          0,
          0,
          0,
          0,
          0,
          0
         ]
        },
        {
         "line": {
          "color": "#48b41b",
          "dash": "dot",
          "width": 4
         },
         "mode": "lines+markers",
         "name": "Sevir.8G259500",
         "type": "scatter",
         "uid": "fa917ee0-3633-11ea-9c5e-79fdfc20b759",
         "x": [
          "Light_High_L",
          "Light_Control_L",
          "Light_Control_S",
          "Light_High_S",
          "Light_Low_L",
          "Light_Low_S"
         ],
         "y": [
          0.2,
          0,
          0.8,
          0.8030839999999999,
          0,
          0.2
         ]
        },
        {
         "line": {
          "color": "#e1cf3b",
          "dash": "dash",
          "width": 4
         },
         "mode": "lines+markers",
         "name": "Sevir.5G036550",
         "type": "scatter",
         "uid": "fa91817e-3633-11ea-9c5e-79fdfc20b759",
         "x": [
          "Light_High_L",
          "Light_Control_L",
          "Light_Control_S",
          "Light_High_S",
          "Light_Low_L",
          "Light_Low_S"
         ],
         "y": [
          0.4,
          0,
          0.2,
          0.6,
          0,
          0.4
         ]
        },
        {
         "line": {
          "color": "#5be4f0",
          "dash": "solid",
          "width": 4
         },
         "mode": "lines+markers",
         "name": "Sevir.7G279700",
         "type": "scatter",
         "uid": "fa91835e-3633-11ea-9c5e-79fdfc20b759",
         "x": [
          "Light_High_L",
          "Light_Control_L",
          "Light_Control_S",
          "Light_High_S",
          "Light_Low_L",
          "Light_Low_S"
         ],
         "y": [
          0.2,
          0.4,
          0.4,
          0.2,
          0,
          0.4
         ]
        },
        {
         "line": {
          "color": "#57c4d8",
          "dash": "dot",
          "width": 4
         },
         "mode": "lines+markers",
         "name": "Sevir.8G068450",
         "type": "scatter",
         "uid": "fa918520-3633-11ea-9c5e-79fdfc20b759",
         "x": [
          "Light_High_L",
          "Light_Control_L",
          "Light_Control_S",
          "Light_High_S",
          "Light_Low_L",
          "Light_Low_S"
         ],
         "y": [
          0,
          0,
          0,
          0,
          0,
          0
         ]
        },
        {
         "line": {
          "color": "#a4d17a",
          "dash": "dash",
          "width": 4
         },
         "mode": "lines+markers",
         "name": "Sevir.9G576750",
         "type": "scatter",
         "uid": "fa9186ce-3633-11ea-9c5e-79fdfc20b759",
         "x": [
          "Light_High_L",
          "Light_Control_L",
          "Light_Control_S",
          "Light_High_S",
          "Light_Low_L",
          "Light_Low_S"
         ],
         "y": [
          0.4,
          0.4,
          0.8,
          0.2,
          0.8,
          1.981042
         ]
        },
        {
         "line": {
          "color": "#225b8e",
          "dash": "solid",
          "width": 4
         },
         "mode": "lines+markers",
         "name": "Sevir.9G248533",
         "type": "scatter",
         "uid": "fa918872-3633-11ea-9c5e-79fdfc20b759",
         "x": [
          "Light_High_L",
          "Light_Control_L",
          "Light_Control_S",
          "Light_High_S",
          "Light_Low_L",
          "Light_Low_S"
         ],
         "y": [
          0,
          0.2,
          0.2,
          0.8,
          0,
          1
         ]
        },
        {
         "line": {
          "color": "#be608b",
          "dash": "dot",
          "width": 4
         },
         "mode": "lines+markers",
         "name": "Sevir.1G379100",
         "type": "scatter",
         "uid": "fa918a20-3633-11ea-9c5e-79fdfc20b759",
         "x": [
          "Light_High_L",
          "Light_Control_L",
          "Light_Control_S",
          "Light_High_S",
          "Light_Low_L",
          "Light_Low_S"
         ],
         "y": [
          5.888456,
          5.505462,
          8.181664000000001,
          3.98101,
          4.513772,
          5.115679999999999
         ]
        },
        {
         "line": {
          "color": "#96b00c",
          "dash": "dash",
          "width": 4
         },
         "mode": "lines+markers",
         "name": "Sevir.8G222414",
         "type": "scatter",
         "uid": "fa918bc4-3633-11ea-9c5e-79fdfc20b759",
         "x": [
          "Light_High_L",
          "Light_Control_L",
          "Light_Control_S",
          "Light_High_S",
          "Light_Low_L",
          "Light_Low_S"
         ],
         "y": [
          1.506014,
          2,
          3.4,
          1,
          0,
          0.4
         ]
        },
        {
         "line": {
          "color": "#088baf",
          "dash": "solid",
          "width": 4
         },
         "mode": "lines+markers",
         "name": "Sevir.6G039200",
         "type": "scatter",
         "uid": "fa918d5e-3633-11ea-9c5e-79fdfc20b759",
         "x": [
          "Light_High_L",
          "Light_Control_L",
          "Light_Control_S",
          "Light_High_S",
          "Light_Low_L",
          "Light_Low_S"
         ],
         "y": [
          2.2427140000000003,
          2.78191,
          2.130776,
          0.851558,
          1.9582819999999999,
          1.12951
         ]
        },
        {
         "line": {
          "color": "#f158bf",
          "dash": "dot",
          "width": 4
         },
         "mode": "lines+markers",
         "name": "Sevir.6G075100",
         "type": "scatter",
         "uid": "fa918f0c-3633-11ea-9c5e-79fdfc20b759",
         "x": [
          "Light_High_L",
          "Light_Control_L",
          "Light_Control_S",
          "Light_High_S",
          "Light_Low_L",
          "Light_Low_S"
         ],
         "y": [
          0,
          0,
          0,
          0,
          0,
          0
         ]
        },
        {
         "line": {
          "color": "#e145ba",
          "dash": "dash",
          "width": 4
         },
         "mode": "lines+markers",
         "name": "Sevir.3G331800",
         "type": "scatter",
         "uid": "fa919132-3633-11ea-9c5e-79fdfc20b759",
         "x": [
          "Light_High_L",
          "Light_Control_L",
          "Light_Control_S",
          "Light_High_S",
          "Light_Low_L",
          "Light_Low_S"
         ],
         "y": [
          1.6,
          0.2,
          0.4,
          1,
          0,
          0.8
         ]
        },
        {
         "line": {
          "color": "#ee91e3",
          "dash": "solid",
          "width": 4
         },
         "mode": "lines+markers",
         "name": "Sevir.4G164200",
         "type": "scatter",
         "uid": "fa91938a-3633-11ea-9c5e-79fdfc20b759",
         "x": [
          "Light_High_L",
          "Light_Control_L",
          "Light_Control_S",
          "Light_High_S",
          "Light_Low_L",
          "Light_Low_S"
         ],
         "y": [
          0.4,
          0,
          0,
          0,
          0,
          0
         ]
        },
        {
         "line": {
          "color": "#05d371",
          "dash": "dot",
          "width": 4
         },
         "mode": "lines+markers",
         "name": "Sevir.9G347733",
         "type": "scatter",
         "uid": "fa9195d8-3633-11ea-9c5e-79fdfc20b759",
         "x": [
          "Light_High_L",
          "Light_Control_L",
          "Light_Control_S",
          "Light_High_S",
          "Light_Low_L",
          "Light_Low_S"
         ],
         "y": [
          0.2,
          0.2,
          0.2,
          0.8,
          0.8,
          0
         ]
        },
        {
         "line": {
          "color": "#5426e0",
          "dash": "dash",
          "width": 4
         },
         "mode": "lines+markers",
         "name": "Sevir.2G396750",
         "type": "scatter",
         "uid": "fa91981c-3633-11ea-9c5e-79fdfc20b759",
         "x": [
          "Light_High_L",
          "Light_Control_L",
          "Light_Control_S",
          "Light_High_S",
          "Light_Low_L",
          "Light_Low_S"
         ],
         "y": [
          0,
          0,
          0,
          0,
          0,
          0
         ]
        },
        {
         "line": {
          "color": "#4834d0",
          "dash": "solid",
          "width": 4
         },
         "mode": "lines+markers",
         "name": "Sevir.3G116100",
         "type": "scatter",
         "uid": "fa919a6a-3633-11ea-9c5e-79fdfc20b759",
         "x": [
          "Light_High_L",
          "Light_Control_L",
          "Light_Control_S",
          "Light_High_S",
          "Light_Low_L",
          "Light_Low_S"
         ],
         "y": [
          0.4,
          0,
          0,
          0,
          0,
          0
         ]
        },
        {
         "line": {
          "color": "#802234",
          "dash": "dot",
          "width": 4
         },
         "mode": "lines+markers",
         "name": "Sevir.7G061100",
         "type": "scatter",
         "uid": "fa919cae-3633-11ea-9c5e-79fdfc20b759",
         "x": [
          "Light_High_L",
          "Light_Control_L",
          "Light_Control_S",
          "Light_High_S",
          "Light_Low_L",
          "Light_Low_S"
         ],
         "y": [
          0.2,
          0,
          0,
          0,
          0,
          0
         ]
        },
        {
         "line": {
          "color": "#6749e8",
          "dash": "dash",
          "width": 4
         },
         "mode": "lines+markers",
         "name": "Sevir.2G307100",
         "type": "scatter",
         "uid": "fa919ef2-3633-11ea-9c5e-79fdfc20b759",
         "x": [
          "Light_High_L",
          "Light_Control_L",
          "Light_Control_S",
          "Light_High_S",
          "Light_Low_L",
          "Light_Low_S"
         ],
         "y": [
          0,
          0,
          0.4,
          0,
          0,
          0.2
         ]
        },
        {
         "line": {
          "color": "#0971f0",
          "dash": "solid",
          "width": 4
         },
         "mode": "lines+markers",
         "name": "Sevir.5G087400",
         "type": "scatter",
         "uid": "fa91a140-3633-11ea-9c5e-79fdfc20b759",
         "x": [
          "Light_High_L",
          "Light_Control_L",
          "Light_Control_S",
          "Light_High_S",
          "Light_Low_L",
          "Light_Low_S"
         ],
         "y": [
          0,
          0,
          0,
          0,
          0,
          0
         ]
        },
        {
         "line": {
          "color": "#8fb413",
          "dash": "dot",
          "width": 4
         },
         "mode": "lines+markers",
         "name": "Sevir.7G005300",
         "type": "scatter",
         "uid": "fa91a37a-3633-11ea-9c5e-79fdfc20b759",
         "x": [
          "Light_High_L",
          "Light_Control_L",
          "Light_Control_S",
          "Light_High_S",
          "Light_Low_L",
          "Light_Low_S"
         ],
         "y": [
          0,
          0,
          0,
          0,
          0,
          0
         ]
        },
        {
         "line": {
          "color": "#b2b4f0",
          "dash": "dash",
          "width": 4
         },
         "mode": "lines+markers",
         "name": "Sevir.2G026100",
         "type": "scatter",
         "uid": "fa91a5be-3633-11ea-9c5e-79fdfc20b759",
         "x": [
          "Light_High_L",
          "Light_Control_L",
          "Light_Control_S",
          "Light_High_S",
          "Light_Low_L",
          "Light_Low_S"
         ],
         "y": [
          0.2,
          0,
          0,
          0.8,
          0,
          1.6
         ]
        },
        {
         "line": {
          "color": "#c3c89d",
          "dash": "solid",
          "width": 4
         },
         "mode": "lines+markers",
         "name": "Sevir.9G072900",
         "type": "scatter",
         "uid": "fa91ae60-3633-11ea-9c5e-79fdfc20b759",
         "x": [
          "Light_High_L",
          "Light_Control_L",
          "Light_Control_S",
          "Light_High_S",
          "Light_Low_L",
          "Light_Low_S"
         ],
         "y": [
          0.2,
          0,
          1.4,
          0.2,
          0.2,
          0.4
         ]
        }
       ],
       "layout": {
        "dragmode": "select",
        "plot_bgcolor": "white",
        "title": "Average Gene Expression - Light",
        "xaxis": {
         "gridcolor": "whitesmoke",
         "showgrid": true,
         "title": "Experimental Conditions"
        },
        "yaxis": {
         "gridcolor": "whitesmoke",
         "showgrid": true,
         "title": "Expression"
        }
       }
      },
      "text/html": [
       "<div id=\"b4d1e399-2bad-4649-9a3a-a9071e751f41\" style=\"height: 525px; width: 100%;\" class=\"plotly-graph-div\"></div><script type=\"text/javascript\">require([\"plotly\"], function(Plotly) { window.PLOTLYENV=window.PLOTLYENV || {};window.PLOTLYENV.BASE_URL=\"https://plot.ly\";Plotly.newPlot(\"b4d1e399-2bad-4649-9a3a-a9071e751f41\", [{\"line\": {\"color\": \"#ce7d78\", \"dash\": \"dot\", \"width\": 4}, \"mode\": \"lines+markers\", \"name\": \"Sevir.9G282425\", \"x\": [\"Light_High_L\", \"Light_Control_L\", \"Light_Control_S\", \"Light_High_S\", \"Light_Low_L\", \"Light_Low_S\"], \"y\": [0.2, 0.6, 0.0, 0.0, 0.0, 0.4], \"type\": \"scatter\", \"uid\": \"fb0759da-3633-11ea-9c5e-79fdfc20b759\"}, {\"line\": {\"color\": \"#ea9e70\", \"dash\": \"dash\", \"width\": 4}, \"mode\": \"lines+markers\", \"name\": \"Sevir.7G018910\", \"x\": [\"Light_High_L\", \"Light_Control_L\", \"Light_Control_S\", \"Light_High_S\", \"Light_Low_L\", \"Light_Low_S\"], \"y\": [0.691678, 0.0, 0.4, 0.0, 0.2, 0.0], \"type\": \"scatter\", \"uid\": \"fb075cfa-3633-11ea-9c5e-79fdfc20b759\"}, {\"line\": {\"color\": \"#a48a9e\", \"dash\": \"solid\", \"width\": 4}, \"mode\": \"lines+markers\", \"name\": \"Sevir.5G044500\", \"x\": [\"Light_High_L\", \"Light_Control_L\", \"Light_Control_S\", \"Light_High_S\", \"Light_Low_L\", \"Light_Low_S\"], \"y\": [0.0, 0.0, 0.0, 0.0, 0.0, 0.0], \"type\": \"scatter\", \"uid\": \"fb075f5c-3633-11ea-9c5e-79fdfc20b759\"}, {\"line\": {\"color\": \"#c6e1e8\", \"dash\": \"dot\", \"width\": 4}, \"mode\": \"lines+markers\", \"name\": \"Sevir.2G127900\", \"x\": [\"Light_High_L\", \"Light_Control_L\", \"Light_Control_S\", \"Light_High_S\", \"Light_Low_L\", \"Light_Low_S\"], \"y\": [1.0, 2.4, 0.0, 0.0, 0.6, 0.0], \"type\": \"scatter\", \"uid\": \"fb0760f6-3633-11ea-9c5e-79fdfc20b759\"}, {\"line\": {\"color\": \"#648177\", \"dash\": \"dash\", \"width\": 4}, \"mode\": \"lines+markers\", \"name\": \"Sevir.5G129000\", \"x\": [\"Light_High_L\", \"Light_Control_L\", \"Light_Control_S\", \"Light_High_S\", \"Light_Low_L\", \"Light_Low_S\"], \"y\": [0.9858339999999999, 7.232830000000002, 8.29787, 1.46794, 3.0126359999999996, 1.283858], \"type\": \"scatter\", \"uid\": \"fb07624a-3633-11ea-9c5e-79fdfc20b759\"}, {\"line\": {\"color\": \"#0d5ac1\", \"dash\": \"solid\", \"width\": 4}, \"mode\": \"lines+markers\", \"name\": \"Sevir.2G354400\", \"x\": [\"Light_High_L\", \"Light_Control_L\", \"Light_Control_S\", \"Light_High_S\", \"Light_Low_L\", \"Light_Low_S\"], \"y\": [0.0, 0.0, 0.0, 0.0, 0.0, 0.0], \"type\": \"scatter\", \"uid\": \"fb07639e-3633-11ea-9c5e-79fdfc20b759\"}, {\"line\": {\"color\": \"#f205e6\", \"dash\": \"dot\", \"width\": 4}, \"mode\": \"lines+markers\", \"name\": \"Sevir.2G152600\", \"x\": [\"Light_High_L\", \"Light_Control_L\", \"Light_Control_S\", \"Light_High_S\", \"Light_Low_L\", \"Light_Low_S\"], \"y\": [0.8, 0.0, 0.4, 0.0, 0.0, 0.0], \"type\": \"scatter\", \"uid\": \"fb0764de-3633-11ea-9c5e-79fdfc20b759\"}, {\"line\": {\"color\": \"#1c0365\", \"dash\": \"dash\", \"width\": 4}, \"mode\": \"lines+markers\", \"name\": \"Sevir.7G023700\", \"x\": [\"Light_High_L\", \"Light_Control_L\", \"Light_Control_S\", \"Light_High_S\", \"Light_Low_L\", \"Light_Low_S\"], \"y\": [2.841168, 0.69912, 0.11163780000000001, 3.7564839999999995, 0.2, 0.1516574], \"type\": \"scatter\", \"uid\": \"fb07661e-3633-11ea-9c5e-79fdfc20b759\"}, {\"line\": {\"color\": \"#14a9ad\", \"dash\": \"solid\", \"width\": 4}, \"mode\": \"lines+markers\", \"name\": \"Sevir.4G118900\", \"x\": [\"Light_High_L\", \"Light_Control_L\", \"Light_Control_S\", \"Light_High_S\", \"Light_Low_L\", \"Light_Low_S\"], \"y\": [2.2, 0.0, 0.0, 0.0, 0.0, 0.8], \"type\": \"scatter\", \"uid\": \"fb076754-3633-11ea-9c5e-79fdfc20b759\"}, {\"line\": {\"color\": \"#4ca2f9\", \"dash\": \"dot\", \"width\": 4}, \"mode\": \"lines+markers\", \"name\": \"Sevir.8G081600\", \"x\": [\"Light_High_L\", \"Light_Control_L\", \"Light_Control_S\", \"Light_High_S\", \"Light_Low_L\", \"Light_Low_S\"], \"y\": [0.0, 0.0, 0.0, 0.0, 0.0, 0.1997104], \"type\": \"scatter\", \"uid\": \"fb07688a-3633-11ea-9c5e-79fdfc20b759\"}, {\"line\": {\"color\": \"#a4e43f\", \"dash\": \"dash\", \"width\": 4}, \"mode\": \"lines+markers\", \"name\": \"Sevir.5G364132\", \"x\": [\"Light_High_L\", \"Light_Control_L\", \"Light_Control_S\", \"Light_High_S\", \"Light_Low_L\", \"Light_Low_S\"], \"y\": [0.6, 0.0, 0.0, 0.0, 0.0, 0.0], \"type\": \"scatter\", \"uid\": \"fb0769c0-3633-11ea-9c5e-79fdfc20b759\"}, {\"line\": {\"color\": \"#d298e2\", \"dash\": \"solid\", \"width\": 4}, \"mode\": \"lines+markers\", \"name\": \"Sevir.4G263301\", \"x\": [\"Light_High_L\", \"Light_Control_L\", \"Light_Control_S\", \"Light_High_S\", \"Light_Low_L\", \"Light_Low_S\"], \"y\": [0.2, 0.2, 0.0, 0.2, 0.0, 0.4], \"type\": \"scatter\", \"uid\": \"fb076b00-3633-11ea-9c5e-79fdfc20b759\"}, {\"line\": {\"color\": \"#6119d0\", \"dash\": \"dot\", \"width\": 4}, \"mode\": \"lines+markers\", \"name\": \"Sevir.9G099466\", \"x\": [\"Light_High_L\", \"Light_Control_L\", \"Light_Control_S\", \"Light_High_S\", \"Light_Low_L\", \"Light_Low_S\"], \"y\": [0.2, 0.0, 0.4, 0.0, 0.0, 0.0], \"type\": \"scatter\", \"uid\": \"fb076c36-3633-11ea-9c5e-79fdfc20b759\"}, {\"line\": {\"color\": \"#d2737d\", \"dash\": \"dash\", \"width\": 4}, \"mode\": \"lines+markers\", \"name\": \"Sevir.9G078500\", \"x\": [\"Light_High_L\", \"Light_Control_L\", \"Light_Control_S\", \"Light_High_S\", \"Light_Low_L\", \"Light_Low_S\"], \"y\": [0.4, 0.2, 0.0, 0.0, 0.0, 0.0], \"type\": \"scatter\", \"uid\": \"fb076d76-3633-11ea-9c5e-79fdfc20b759\"}, {\"line\": {\"color\": \"#c0a43c\", \"dash\": \"solid\", \"width\": 4}, \"mode\": \"lines+markers\", \"name\": \"Sevir.2G263800\", \"x\": [\"Light_High_L\", \"Light_Control_L\", \"Light_Control_S\", \"Light_High_S\", \"Light_Low_L\", \"Light_Low_S\"], \"y\": [0.0, 0.0, 0.0, 0.0, 0.0, 0.0], \"type\": \"scatter\", \"uid\": \"fb076eac-3633-11ea-9c5e-79fdfc20b759\"}, {\"line\": {\"color\": \"#f2510e\", \"dash\": \"dot\", \"width\": 4}, \"mode\": \"lines+markers\", \"name\": \"Sevir.8G218520\", \"x\": [\"Light_High_L\", \"Light_Control_L\", \"Light_Control_S\", \"Light_High_S\", \"Light_Low_L\", \"Light_Low_S\"], \"y\": [0.0, 0.0, 0.0, 0.0, 0.0, 0.0], \"type\": \"scatter\", \"uid\": \"fb076fe2-3633-11ea-9c5e-79fdfc20b759\"}, {\"line\": {\"color\": \"#651be6\", \"dash\": \"dash\", \"width\": 4}, \"mode\": \"lines+markers\", \"name\": \"Sevir.3G390900\", \"x\": [\"Light_High_L\", \"Light_Control_L\", \"Light_Control_S\", \"Light_High_S\", \"Light_Low_L\", \"Light_Low_S\"], \"y\": [0.0, 0.6, 0.0, 0.0, 0.0, 0.0], \"type\": \"scatter\", \"uid\": \"fb077118-3633-11ea-9c5e-79fdfc20b759\"}, {\"line\": {\"color\": \"#79806e\", \"dash\": \"solid\", \"width\": 4}, \"mode\": \"lines+markers\", \"name\": \"Sevir.9G165400\", \"x\": [\"Light_High_L\", \"Light_Control_L\", \"Light_Control_S\", \"Light_High_S\", \"Light_Low_L\", \"Light_Low_S\"], \"y\": [0.25095, 0.0, 0.0, 0.0, 0.0, 0.0], \"type\": \"scatter\", \"uid\": \"fb077244-3633-11ea-9c5e-79fdfc20b759\"}, {\"line\": {\"color\": \"#61da5e\", \"dash\": \"dot\", \"width\": 4}, \"mode\": \"lines+markers\", \"name\": \"Sevir.8G245140\", \"x\": [\"Light_High_L\", \"Light_Control_L\", \"Light_Control_S\", \"Light_High_S\", \"Light_Low_L\", \"Light_Low_S\"], \"y\": [0.2, 1.0, 0.2, 0.2, 0.0, 0.2], \"type\": \"scatter\", \"uid\": \"fb07744c-3633-11ea-9c5e-79fdfc20b759\"}, {\"line\": {\"color\": \"#cd2f00\", \"dash\": \"dash\", \"width\": 4}, \"mode\": \"lines+markers\", \"name\": \"Sevir.8G087000\", \"x\": [\"Light_High_L\", \"Light_Control_L\", \"Light_Control_S\", \"Light_High_S\", \"Light_Low_L\", \"Light_Low_S\"], \"y\": [0.0, 0.0, 0.0, 0.0, 0.0, 0.0], \"type\": \"scatter\", \"uid\": \"fb0775b4-3633-11ea-9c5e-79fdfc20b759\"}, {\"line\": {\"color\": \"#9348af\", \"dash\": \"solid\", \"width\": 4}, \"mode\": \"lines+markers\", \"name\": \"Sevir.9G576201\", \"x\": [\"Light_High_L\", \"Light_Control_L\", \"Light_Control_S\", \"Light_High_S\", \"Light_Low_L\", \"Light_Low_S\"], \"y\": [0.0, 0.0, 0.0, 0.0, 0.0, 0.0], \"type\": \"scatter\", \"uid\": \"fb0776ea-3633-11ea-9c5e-79fdfc20b759\"}, {\"line\": {\"color\": \"#01ac53\", \"dash\": \"dot\", \"width\": 4}, \"mode\": \"lines+markers\", \"name\": \"Sevir.5G470750\", \"x\": [\"Light_High_L\", \"Light_Control_L\", \"Light_Control_S\", \"Light_High_S\", \"Light_Low_L\", \"Light_Low_S\"], \"y\": [0.0, 0.4, 0.4, 1.8, 0.2, 1.0], \"type\": \"scatter\", \"uid\": \"fb077820-3633-11ea-9c5e-79fdfc20b759\"}, {\"line\": {\"color\": \"#c5a4fb\", \"dash\": \"dash\", \"width\": 4}, \"mode\": \"lines+markers\", \"name\": \"Sevir.1G060850\", \"x\": [\"Light_High_L\", \"Light_Control_L\", \"Light_Control_S\", \"Light_High_S\", \"Light_Low_L\", \"Light_Low_S\"], \"y\": [0.0, 0.0, 0.0, 0.0, 0.0, 0.0], \"type\": \"scatter\", \"uid\": \"fb07794c-3633-11ea-9c5e-79fdfc20b759\"}, {\"line\": {\"color\": \"#996635\", \"dash\": \"solid\", \"width\": 4}, \"mode\": \"lines+markers\", \"name\": \"Sevir.2G280500\", \"x\": [\"Light_High_L\", \"Light_Control_L\", \"Light_Control_S\", \"Light_High_S\", \"Light_Low_L\", \"Light_Low_S\"], \"y\": [0.23170079999999998, 0.36634, 0.0, 0.0, 0.0, 9.2116e-07], \"type\": \"scatter\", \"uid\": \"fb077a82-3633-11ea-9c5e-79fdfc20b759\"}, {\"line\": {\"color\": \"#b11573\", \"dash\": \"dot\", \"width\": 4}, \"mode\": \"lines+markers\", \"name\": \"Sevir.9G268200\", \"x\": [\"Light_High_L\", \"Light_Control_L\", \"Light_Control_S\", \"Light_High_S\", \"Light_Low_L\", \"Light_Low_S\"], \"y\": [0.2, 0.6, 0.0, 0.0, 0.0, 0.2], \"type\": \"scatter\", \"uid\": \"fb077bb8-3633-11ea-9c5e-79fdfc20b759\"}, {\"line\": {\"color\": \"#4bb473\", \"dash\": \"dash\", \"width\": 4}, \"mode\": \"lines+markers\", \"name\": \"Sevir.4G143101\", \"x\": [\"Light_High_L\", \"Light_Control_L\", \"Light_Control_S\", \"Light_High_S\", \"Light_Low_L\", \"Light_Low_S\"], \"y\": [0.4, 0.0, 0.0, 0.0, 0.0, 0.0], \"type\": \"scatter\", \"uid\": \"fb077ce4-3633-11ea-9c5e-79fdfc20b759\"}, {\"line\": {\"color\": \"#75d89e\", \"dash\": \"solid\", \"width\": 4}, \"mode\": \"lines+markers\", \"name\": \"Sevir.2G342800\", \"x\": [\"Light_High_L\", \"Light_Control_L\", \"Light_Control_S\", \"Light_High_S\", \"Light_Low_L\", \"Light_Low_S\"], \"y\": [0.0, 0.0, 0.2, 0.4, 0.0, 0.4], \"type\": \"scatter\", \"uid\": \"fb077e1a-3633-11ea-9c5e-79fdfc20b759\"}, {\"line\": {\"color\": \"#2f3f94\", \"dash\": \"dot\", \"width\": 4}, \"mode\": \"lines+markers\", \"name\": \"Sevir.1G019900\", \"x\": [\"Light_High_L\", \"Light_Control_L\", \"Light_Control_S\", \"Light_High_S\", \"Light_Low_L\", \"Light_Low_S\"], \"y\": [0.0, 0.6, 0.0, 0.0, 0.0, 0.4], \"type\": \"scatter\", \"uid\": \"fb077f50-3633-11ea-9c5e-79fdfc20b759\"}, {\"line\": {\"color\": \"#2f7b99\", \"dash\": \"dash\", \"width\": 4}, \"mode\": \"lines+markers\", \"name\": \"Sevir.3G353500\", \"x\": [\"Light_High_L\", \"Light_Control_L\", \"Light_Control_S\", \"Light_High_S\", \"Light_Low_L\", \"Light_Low_S\"], \"y\": [0.0, 0.0, 0.0, 0.0, 0.0, 0.0], \"type\": \"scatter\", \"uid\": \"fb078086-3633-11ea-9c5e-79fdfc20b759\"}, {\"line\": {\"color\": \"#da967d\", \"dash\": \"solid\", \"width\": 4}, \"mode\": \"lines+markers\", \"name\": \"Sevir.7G189700\", \"x\": [\"Light_High_L\", \"Light_Control_L\", \"Light_Control_S\", \"Light_High_S\", \"Light_Low_L\", \"Light_Low_S\"], \"y\": [0.0, 0.0, 0.0, 0.0, 0.0, 0.0], \"type\": \"scatter\", \"uid\": \"fb0781bc-3633-11ea-9c5e-79fdfc20b759\"}, {\"line\": {\"color\": \"#34891f\", \"dash\": \"dot\", \"width\": 4}, \"mode\": \"lines+markers\", \"name\": \"Sevir.4G118600\", \"x\": [\"Light_High_L\", \"Light_Control_L\", \"Light_Control_S\", \"Light_High_S\", \"Light_Low_L\", \"Light_Low_S\"], \"y\": [0.0, 0.0, 0.0, 0.0, 0.0, 0.0], \"type\": \"scatter\", \"uid\": \"fb0782f2-3633-11ea-9c5e-79fdfc20b759\"}, {\"line\": {\"color\": \"#b0d87b\", \"dash\": \"dash\", \"width\": 4}, \"mode\": \"lines+markers\", \"name\": \"Sevir.5G315900\", \"x\": [\"Light_High_L\", \"Light_Control_L\", \"Light_Control_S\", \"Light_High_S\", \"Light_Low_L\", \"Light_Low_S\"], \"y\": [0.0, 0.0, 0.2, 0.0, 0.0, 0.0], \"type\": \"scatter\", \"uid\": \"fb078428-3633-11ea-9c5e-79fdfc20b759\"}, {\"line\": {\"color\": \"#ca4751\", \"dash\": \"solid\", \"width\": 4}, \"mode\": \"lines+markers\", \"name\": \"Sevir.1G110232\", \"x\": [\"Light_High_L\", \"Light_Control_L\", \"Light_Control_S\", \"Light_High_S\", \"Light_Low_L\", \"Light_Low_S\"], \"y\": [0.0, 0.0, 0.2, 0.0, 0.0, 0.2], \"type\": \"scatter\", \"uid\": \"fb07855e-3633-11ea-9c5e-79fdfc20b759\"}, {\"line\": {\"color\": \"#7e50a8\", \"dash\": \"dot\", \"width\": 4}, \"mode\": \"lines+markers\", \"name\": \"Sevir.5G206100\", \"x\": [\"Light_High_L\", \"Light_Control_L\", \"Light_Control_S\", \"Light_High_S\", \"Light_Low_L\", \"Light_Low_S\"], \"y\": [0.0, 0.0, 0.2, 0.0, 0.0, 0.4], \"type\": \"scatter\", \"uid\": \"fb07868a-3633-11ea-9c5e-79fdfc20b759\"}, {\"line\": {\"color\": \"#c4d647\", \"dash\": \"dash\", \"width\": 4}, \"mode\": \"lines+markers\", \"name\": \"Sevir.3G353200\", \"x\": [\"Light_High_L\", \"Light_Control_L\", \"Light_Control_S\", \"Light_High_S\", \"Light_Low_L\", \"Light_Low_S\"], \"y\": [0.0, 0.0, 1.0, 0.0, 0.0, 0.2], \"type\": \"scatter\", \"uid\": \"fb0787b6-3633-11ea-9c5e-79fdfc20b759\"}, {\"line\": {\"color\": \"#e0eeb8\", \"dash\": \"solid\", \"width\": 4}, \"mode\": \"lines+markers\", \"name\": \"Sevir.4G093300\", \"x\": [\"Light_High_L\", \"Light_Control_L\", \"Light_Control_S\", \"Light_High_S\", \"Light_Low_L\", \"Light_Low_S\"], \"y\": [0.0, 0.6, 1.0, 0.2, 0.6, 0.6], \"type\": \"scatter\", \"uid\": \"fb0788ec-3633-11ea-9c5e-79fdfc20b759\"}, {\"line\": {\"color\": \"#11dec1\", \"dash\": \"dot\", \"width\": 4}, \"mode\": \"lines+markers\", \"name\": \"Sevir.1G171100\", \"x\": [\"Light_High_L\", \"Light_Control_L\", \"Light_Control_S\", \"Light_High_S\", \"Light_Low_L\", \"Light_Low_S\"], \"y\": [0.8, 0.0, 0.2, 0.0, 0.0, 0.0], \"type\": \"scatter\", \"uid\": \"fb078a18-3633-11ea-9c5e-79fdfc20b759\"}, {\"line\": {\"color\": \"#289812\", \"dash\": \"dash\", \"width\": 4}, \"mode\": \"lines+markers\", \"name\": \"Sevir.2G305750\", \"x\": [\"Light_High_L\", \"Light_Control_L\", \"Light_Control_S\", \"Light_High_S\", \"Light_Low_L\", \"Light_Low_S\"], \"y\": [0.0, 0.739994, 0.0, 0.596136, 0.754728, 0.263638], \"type\": \"scatter\", \"uid\": \"fb078b44-3633-11ea-9c5e-79fdfc20b759\"}, {\"line\": {\"color\": \"#566ca0\", \"dash\": \"solid\", \"width\": 4}, \"mode\": \"lines+markers\", \"name\": \"Sevir.9G169700\", \"x\": [\"Light_High_L\", \"Light_Control_L\", \"Light_Control_S\", \"Light_High_S\", \"Light_Low_L\", \"Light_Low_S\"], \"y\": [0.0, 0.0, 0.0, 0.0, 0.0, 0.0], \"type\": \"scatter\", \"uid\": \"fb078c7a-3633-11ea-9c5e-79fdfc20b759\"}, {\"line\": {\"color\": \"#ffdbe1\", \"dash\": \"dot\", \"width\": 4}, \"mode\": \"lines+markers\", \"name\": \"Sevir.1G020800\", \"x\": [\"Light_High_L\", \"Light_Control_L\", \"Light_Control_S\", \"Light_High_S\", \"Light_Low_L\", \"Light_Low_S\"], \"y\": [0.0, 0.4, 0.0, 0.6, 0.0, 0.0], \"type\": \"scatter\", \"uid\": \"fb078da6-3633-11ea-9c5e-79fdfc20b759\"}, {\"line\": {\"color\": \"#2f1179\", \"dash\": \"dash\", \"width\": 4}, \"mode\": \"lines+markers\", \"name\": \"Sevir.5G194900\", \"x\": [\"Light_High_L\", \"Light_Control_L\", \"Light_Control_S\", \"Light_High_S\", \"Light_Low_L\", \"Light_Low_S\"], \"y\": [0.0, 0.0, 0.534106, 0.0, 0.0, 0.0], \"type\": \"scatter\", \"uid\": \"fb078edc-3633-11ea-9c5e-79fdfc20b759\"}, {\"line\": {\"color\": \"#935b6d\", \"dash\": \"solid\", \"width\": 4}, \"mode\": \"lines+markers\", \"name\": \"Sevir.6G028050\", \"x\": [\"Light_High_L\", \"Light_Control_L\", \"Light_Control_S\", \"Light_High_S\", \"Light_Low_L\", \"Light_Low_S\"], \"y\": [0.0, 0.0, 0.0, 0.0, 0.0, 0.0], \"type\": \"scatter\", \"uid\": \"fb079012-3633-11ea-9c5e-79fdfc20b759\"}, {\"line\": {\"color\": \"#916988\", \"dash\": \"dot\", \"width\": 4}, \"mode\": \"lines+markers\", \"name\": \"Sevir.2G003200\", \"x\": [\"Light_High_L\", \"Light_Control_L\", \"Light_Control_S\", \"Light_High_S\", \"Light_Low_L\", \"Light_Low_S\"], \"y\": [0.0, 0.0, 0.0, 0.2, 0.0, 0.0], \"type\": \"scatter\", \"uid\": \"fb079148-3633-11ea-9c5e-79fdfc20b759\"}, {\"line\": {\"color\": \"#513d98\", \"dash\": \"dash\", \"width\": 4}, \"mode\": \"lines+markers\", \"name\": \"Sevir.8G079100\", \"x\": [\"Light_High_L\", \"Light_Control_L\", \"Light_Control_S\", \"Light_High_S\", \"Light_Low_L\", \"Light_Low_S\"], \"y\": [0.0, 0.0, 0.0, 0.0, 0.0, 0.0], \"type\": \"scatter\", \"uid\": \"fb07927e-3633-11ea-9c5e-79fdfc20b759\"}, {\"line\": {\"color\": \"#aead3a\", \"dash\": \"solid\", \"width\": 4}, \"mode\": \"lines+markers\", \"name\": \"Sevir.4G293501\", \"x\": [\"Light_High_L\", \"Light_Control_L\", \"Light_Control_S\", \"Light_High_S\", \"Light_Low_L\", \"Light_Low_S\"], \"y\": [0.0, 0.0, 0.0858748, 0.0, 0.0, 0.0], \"type\": \"scatter\", \"uid\": \"fb0793aa-3633-11ea-9c5e-79fdfc20b759\"}, {\"line\": {\"color\": \"#9e6d71\", \"dash\": \"dot\", \"width\": 4}, \"mode\": \"lines+markers\", \"name\": \"Sevir.7G022900\", \"x\": [\"Light_High_L\", \"Light_Control_L\", \"Light_Control_S\", \"Light_High_S\", \"Light_Low_L\", \"Light_Low_S\"], \"y\": [0.0, 0.0, 0.0, 0.0, 0.0, 0.0], \"type\": \"scatter\", \"uid\": \"fb0794d6-3633-11ea-9c5e-79fdfc20b759\"}, {\"line\": {\"color\": \"#4b5bdc\", \"dash\": \"dash\", \"width\": 4}, \"mode\": \"lines+markers\", \"name\": \"Sevir.8G165900\", \"x\": [\"Light_High_L\", \"Light_Control_L\", \"Light_Control_S\", \"Light_High_S\", \"Light_Low_L\", \"Light_Low_S\"], \"y\": [0.0, 0.0, 0.0, 0.0, 0.0, 0.0], \"type\": \"scatter\", \"uid\": \"fb07960c-3633-11ea-9c5e-79fdfc20b759\"}, {\"line\": {\"color\": \"#0cd36d\", \"dash\": \"solid\", \"width\": 4}, \"mode\": \"lines+markers\", \"name\": \"Sevir.9G092300\", \"x\": [\"Light_High_L\", \"Light_Control_L\", \"Light_Control_S\", \"Light_High_S\", \"Light_Low_L\", \"Light_Low_S\"], \"y\": [0.0, 0.0, 0.0, 0.0, 0.0, 0.0], \"type\": \"scatter\", \"uid\": \"fb079738-3633-11ea-9c5e-79fdfc20b759\"}, {\"line\": {\"color\": \"#250662\", \"dash\": \"dot\", \"width\": 4}, \"mode\": \"lines+markers\", \"name\": \"Sevir.6G113200\", \"x\": [\"Light_High_L\", \"Light_Control_L\", \"Light_Control_S\", \"Light_High_S\", \"Light_Low_L\", \"Light_Low_S\"], \"y\": [0.0, 0.0, 0.0, 0.0, 0.0, 0.0], \"type\": \"scatter\", \"uid\": \"fb07986e-3633-11ea-9c5e-79fdfc20b759\"}, {\"line\": {\"color\": \"#cb5bea\", \"dash\": \"dash\", \"width\": 4}, \"mode\": \"lines+markers\", \"name\": \"Sevir.4G160200\", \"x\": [\"Light_High_L\", \"Light_Control_L\", \"Light_Control_S\", \"Light_High_S\", \"Light_Low_L\", \"Light_Low_S\"], \"y\": [0.0, 0.0, 0.0, 0.0, 0.0, 0.0], \"type\": \"scatter\", \"uid\": \"fb07999a-3633-11ea-9c5e-79fdfc20b759\"}, {\"line\": {\"color\": \"#228916\", \"dash\": \"solid\", \"width\": 4}, \"mode\": \"lines+markers\", \"name\": \"Sevir.5G037400\", \"x\": [\"Light_High_L\", \"Light_Control_L\", \"Light_Control_S\", \"Light_High_S\", \"Light_Low_L\", \"Light_Low_S\"], \"y\": [0.0, 0.0, 0.0, 0.0, 0.0, 0.0], \"type\": \"scatter\", \"uid\": \"fb079b7a-3633-11ea-9c5e-79fdfc20b759\"}, {\"line\": {\"color\": \"#ac3e1b\", \"dash\": \"dot\", \"width\": 4}, \"mode\": \"lines+markers\", \"name\": \"Sevir.3G298200\", \"x\": [\"Light_High_L\", \"Light_Control_L\", \"Light_Control_S\", \"Light_High_S\", \"Light_Low_L\", \"Light_Low_S\"], \"y\": [0.0, 0.0, 0.0, 0.0, 0.0, 0.0], \"type\": \"scatter\", \"uid\": \"fb079cc4-3633-11ea-9c5e-79fdfc20b759\"}, {\"line\": {\"color\": \"#df514a\", \"dash\": \"dash\", \"width\": 4}, \"mode\": \"lines+markers\", \"name\": \"Sevir.2G437300\", \"x\": [\"Light_High_L\", \"Light_Control_L\", \"Light_Control_S\", \"Light_High_S\", \"Light_Low_L\", \"Light_Low_S\"], \"y\": [0.0, 0.0, 0.0, 0.0, 0.0, 0.0], \"type\": \"scatter\", \"uid\": \"fb079e04-3633-11ea-9c5e-79fdfc20b759\"}, {\"line\": {\"color\": \"#539397\", \"dash\": \"solid\", \"width\": 4}, \"mode\": \"lines+markers\", \"name\": \"Sevir.9G095700\", \"x\": [\"Light_High_L\", \"Light_Control_L\", \"Light_Control_S\", \"Light_High_S\", \"Light_Low_L\", \"Light_Low_S\"], \"y\": [0.40854999999999997, 0.28139, 0.205896, 0.408022, 0.0, 0.0], \"type\": \"scatter\", \"uid\": \"fb079f30-3633-11ea-9c5e-79fdfc20b759\"}, {\"line\": {\"color\": \"#880977\", \"dash\": \"dot\", \"width\": 4}, \"mode\": \"lines+markers\", \"name\": \"Sevir.1G265000\", \"x\": [\"Light_High_L\", \"Light_Control_L\", \"Light_Control_S\", \"Light_High_S\", \"Light_Low_L\", \"Light_Low_S\"], \"y\": [0.0, 0.0, 0.0, 0.0, 0.0, 0.0], \"type\": \"scatter\", \"uid\": \"fb07a05c-3633-11ea-9c5e-79fdfc20b759\"}, {\"line\": {\"color\": \"#f697c1\", \"dash\": \"dash\", \"width\": 4}, \"mode\": \"lines+markers\", \"name\": \"Sevir.5G418900\", \"x\": [\"Light_High_L\", \"Light_Control_L\", \"Light_Control_S\", \"Light_High_S\", \"Light_Low_L\", \"Light_Low_S\"], \"y\": [0.2, 0.0, 0.0, 0.0, 0.2, 0.0], \"type\": \"scatter\", \"uid\": \"fb07a192-3633-11ea-9c5e-79fdfc20b759\"}, {\"line\": {\"color\": \"#ba96ce\", \"dash\": \"solid\", \"width\": 4}, \"mode\": \"lines+markers\", \"name\": \"Sevir.8G237700\", \"x\": [\"Light_High_L\", \"Light_Control_L\", \"Light_Control_S\", \"Light_High_S\", \"Light_Low_L\", \"Light_Low_S\"], \"y\": [0.0, 0.0, 0.2, 0.0, 0.0, 0.0], \"type\": \"scatter\", \"uid\": \"fb07a2be-3633-11ea-9c5e-79fdfc20b759\"}, {\"line\": {\"color\": \"#679c9d\", \"dash\": \"dot\", \"width\": 4}, \"mode\": \"lines+markers\", \"name\": \"Sevir.2G177600\", \"x\": [\"Light_High_L\", \"Light_Control_L\", \"Light_Control_S\", \"Light_High_S\", \"Light_Low_L\", \"Light_Low_S\"], \"y\": [0.0, 0.0, 0.0, 0.0, 0.0, 0.0], \"type\": \"scatter\", \"uid\": \"fb07a3f4-3633-11ea-9c5e-79fdfc20b759\"}, {\"line\": {\"color\": \"#c6c42c\", \"dash\": \"dash\", \"width\": 4}, \"mode\": \"lines+markers\", \"name\": \"Sevir.9G253801\", \"x\": [\"Light_High_L\", \"Light_Control_L\", \"Light_Control_S\", \"Light_High_S\", \"Light_Low_L\", \"Light_Low_S\"], \"y\": [0.0, 0.2, 0.0, 0.0, 0.2, 0.0], \"type\": \"scatter\", \"uid\": \"fb07a520-3633-11ea-9c5e-79fdfc20b759\"}, {\"line\": {\"color\": \"#5d2c52\", \"dash\": \"solid\", \"width\": 4}, \"mode\": \"lines+markers\", \"name\": \"Sevir.6G183566\", \"x\": [\"Light_High_L\", \"Light_Control_L\", \"Light_Control_S\", \"Light_High_S\", \"Light_Low_L\", \"Light_Low_S\"], \"y\": [0.0, 0.0, 0.0, 0.0, 0.0, 0.0], \"type\": \"scatter\", \"uid\": \"fb07a64c-3633-11ea-9c5e-79fdfc20b759\"}, {\"line\": {\"color\": \"#48b41b\", \"dash\": \"dot\", \"width\": 4}, \"mode\": \"lines+markers\", \"name\": \"Sevir.8G259500\", \"x\": [\"Light_High_L\", \"Light_Control_L\", \"Light_Control_S\", \"Light_High_S\", \"Light_Low_L\", \"Light_Low_S\"], \"y\": [0.2, 0.0, 0.8, 0.8030839999999999, 0.0, 0.2], \"type\": \"scatter\", \"uid\": \"fb07a782-3633-11ea-9c5e-79fdfc20b759\"}, {\"line\": {\"color\": \"#e1cf3b\", \"dash\": \"dash\", \"width\": 4}, \"mode\": \"lines+markers\", \"name\": \"Sevir.5G036550\", \"x\": [\"Light_High_L\", \"Light_Control_L\", \"Light_Control_S\", \"Light_High_S\", \"Light_Low_L\", \"Light_Low_S\"], \"y\": [0.4, 0.0, 0.2, 0.6, 0.0, 0.4], \"type\": \"scatter\", \"uid\": \"fb07a8ae-3633-11ea-9c5e-79fdfc20b759\"}, {\"line\": {\"color\": \"#5be4f0\", \"dash\": \"solid\", \"width\": 4}, \"mode\": \"lines+markers\", \"name\": \"Sevir.7G279700\", \"x\": [\"Light_High_L\", \"Light_Control_L\", \"Light_Control_S\", \"Light_High_S\", \"Light_Low_L\", \"Light_Low_S\"], \"y\": [0.2, 0.4, 0.4, 0.2, 0.0, 0.4], \"type\": \"scatter\", \"uid\": \"fb07a9e4-3633-11ea-9c5e-79fdfc20b759\"}, {\"line\": {\"color\": \"#57c4d8\", \"dash\": \"dot\", \"width\": 4}, \"mode\": \"lines+markers\", \"name\": \"Sevir.8G068450\", \"x\": [\"Light_High_L\", \"Light_Control_L\", \"Light_Control_S\", \"Light_High_S\", \"Light_Low_L\", \"Light_Low_S\"], \"y\": [0.0, 0.0, 0.0, 0.0, 0.0, 0.0], \"type\": \"scatter\", \"uid\": \"fb07ab10-3633-11ea-9c5e-79fdfc20b759\"}, {\"line\": {\"color\": \"#a4d17a\", \"dash\": \"dash\", \"width\": 4}, \"mode\": \"lines+markers\", \"name\": \"Sevir.9G576750\", \"x\": [\"Light_High_L\", \"Light_Control_L\", \"Light_Control_S\", \"Light_High_S\", \"Light_Low_L\", \"Light_Low_S\"], \"y\": [0.4, 0.4, 0.8, 0.2, 0.8, 1.981042], \"type\": \"scatter\", \"uid\": \"fb07ac3c-3633-11ea-9c5e-79fdfc20b759\"}, {\"line\": {\"color\": \"#225b8e\", \"dash\": \"solid\", \"width\": 4}, \"mode\": \"lines+markers\", \"name\": \"Sevir.9G248533\", \"x\": [\"Light_High_L\", \"Light_Control_L\", \"Light_Control_S\", \"Light_High_S\", \"Light_Low_L\", \"Light_Low_S\"], \"y\": [0.0, 0.2, 0.2, 0.8, 0.0, 1.0], \"type\": \"scatter\", \"uid\": \"fb07ad68-3633-11ea-9c5e-79fdfc20b759\"}, {\"line\": {\"color\": \"#be608b\", \"dash\": \"dot\", \"width\": 4}, \"mode\": \"lines+markers\", \"name\": \"Sevir.1G379100\", \"x\": [\"Light_High_L\", \"Light_Control_L\", \"Light_Control_S\", \"Light_High_S\", \"Light_Low_L\", \"Light_Low_S\"], \"y\": [5.888456, 5.505462, 8.181664000000001, 3.98101, 4.513772, 5.115679999999999], \"type\": \"scatter\", \"uid\": \"fb07ae94-3633-11ea-9c5e-79fdfc20b759\"}, {\"line\": {\"color\": \"#96b00c\", \"dash\": \"dash\", \"width\": 4}, \"mode\": \"lines+markers\", \"name\": \"Sevir.8G222414\", \"x\": [\"Light_High_L\", \"Light_Control_L\", \"Light_Control_S\", \"Light_High_S\", \"Light_Low_L\", \"Light_Low_S\"], \"y\": [1.506014, 2.0, 3.4, 1.0, 0.0, 0.4], \"type\": \"scatter\", \"uid\": \"fb07afb6-3633-11ea-9c5e-79fdfc20b759\"}, {\"line\": {\"color\": \"#088baf\", \"dash\": \"solid\", \"width\": 4}, \"mode\": \"lines+markers\", \"name\": \"Sevir.6G039200\", \"x\": [\"Light_High_L\", \"Light_Control_L\", \"Light_Control_S\", \"Light_High_S\", \"Light_Low_L\", \"Light_Low_S\"], \"y\": [2.2427140000000003, 2.78191, 2.130776, 0.851558, 1.9582819999999999, 1.12951], \"type\": \"scatter\", \"uid\": \"fb07b0e2-3633-11ea-9c5e-79fdfc20b759\"}, {\"line\": {\"color\": \"#f158bf\", \"dash\": \"dot\", \"width\": 4}, \"mode\": \"lines+markers\", \"name\": \"Sevir.6G075100\", \"x\": [\"Light_High_L\", \"Light_Control_L\", \"Light_Control_S\", \"Light_High_S\", \"Light_Low_L\", \"Light_Low_S\"], \"y\": [0.0, 0.0, 0.0, 0.0, 0.0, 0.0], \"type\": \"scatter\", \"uid\": \"fb07b204-3633-11ea-9c5e-79fdfc20b759\"}, {\"line\": {\"color\": \"#e145ba\", \"dash\": \"dash\", \"width\": 4}, \"mode\": \"lines+markers\", \"name\": \"Sevir.3G331800\", \"x\": [\"Light_High_L\", \"Light_Control_L\", \"Light_Control_S\", \"Light_High_S\", \"Light_Low_L\", \"Light_Low_S\"], \"y\": [1.6, 0.2, 0.4, 1.0, 0.0, 0.8], \"type\": \"scatter\", \"uid\": \"fb07b326-3633-11ea-9c5e-79fdfc20b759\"}, {\"line\": {\"color\": \"#ee91e3\", \"dash\": \"solid\", \"width\": 4}, \"mode\": \"lines+markers\", \"name\": \"Sevir.4G164200\", \"x\": [\"Light_High_L\", \"Light_Control_L\", \"Light_Control_S\", \"Light_High_S\", \"Light_Low_L\", \"Light_Low_S\"], \"y\": [0.4, 0.0, 0.0, 0.0, 0.0, 0.0], \"type\": \"scatter\", \"uid\": \"fb07b448-3633-11ea-9c5e-79fdfc20b759\"}, {\"line\": {\"color\": \"#05d371\", \"dash\": \"dot\", \"width\": 4}, \"mode\": \"lines+markers\", \"name\": \"Sevir.9G347733\", \"x\": [\"Light_High_L\", \"Light_Control_L\", \"Light_Control_S\", \"Light_High_S\", \"Light_Low_L\", \"Light_Low_S\"], \"y\": [0.2, 0.2, 0.2, 0.8, 0.8, 0.0], \"type\": \"scatter\", \"uid\": \"fb07b574-3633-11ea-9c5e-79fdfc20b759\"}, {\"line\": {\"color\": \"#5426e0\", \"dash\": \"dash\", \"width\": 4}, \"mode\": \"lines+markers\", \"name\": \"Sevir.2G396750\", \"x\": [\"Light_High_L\", \"Light_Control_L\", \"Light_Control_S\", \"Light_High_S\", \"Light_Low_L\", \"Light_Low_S\"], \"y\": [0.0, 0.0, 0.0, 0.0, 0.0, 0.0], \"type\": \"scatter\", \"uid\": \"fb07b696-3633-11ea-9c5e-79fdfc20b759\"}, {\"line\": {\"color\": \"#4834d0\", \"dash\": \"solid\", \"width\": 4}, \"mode\": \"lines+markers\", \"name\": \"Sevir.3G116100\", \"x\": [\"Light_High_L\", \"Light_Control_L\", \"Light_Control_S\", \"Light_High_S\", \"Light_Low_L\", \"Light_Low_S\"], \"y\": [0.4, 0.0, 0.0, 0.0, 0.0, 0.0], \"type\": \"scatter\", \"uid\": \"fb07b7c2-3633-11ea-9c5e-79fdfc20b759\"}, {\"line\": {\"color\": \"#802234\", \"dash\": \"dot\", \"width\": 4}, \"mode\": \"lines+markers\", \"name\": \"Sevir.7G061100\", \"x\": [\"Light_High_L\", \"Light_Control_L\", \"Light_Control_S\", \"Light_High_S\", \"Light_Low_L\", \"Light_Low_S\"], \"y\": [0.2, 0.0, 0.0, 0.0, 0.0, 0.0], \"type\": \"scatter\", \"uid\": \"fb07b8ee-3633-11ea-9c5e-79fdfc20b759\"}, {\"line\": {\"color\": \"#6749e8\", \"dash\": \"dash\", \"width\": 4}, \"mode\": \"lines+markers\", \"name\": \"Sevir.2G307100\", \"x\": [\"Light_High_L\", \"Light_Control_L\", \"Light_Control_S\", \"Light_High_S\", \"Light_Low_L\", \"Light_Low_S\"], \"y\": [0.0, 0.0, 0.4, 0.0, 0.0, 0.2], \"type\": \"scatter\", \"uid\": \"fb07ba10-3633-11ea-9c5e-79fdfc20b759\"}, {\"line\": {\"color\": \"#0971f0\", \"dash\": \"solid\", \"width\": 4}, \"mode\": \"lines+markers\", \"name\": \"Sevir.5G087400\", \"x\": [\"Light_High_L\", \"Light_Control_L\", \"Light_Control_S\", \"Light_High_S\", \"Light_Low_L\", \"Light_Low_S\"], \"y\": [0.0, 0.0, 0.0, 0.0, 0.0, 0.0], \"type\": \"scatter\", \"uid\": \"fb07bb32-3633-11ea-9c5e-79fdfc20b759\"}, {\"line\": {\"color\": \"#8fb413\", \"dash\": \"dot\", \"width\": 4}, \"mode\": \"lines+markers\", \"name\": \"Sevir.7G005300\", \"x\": [\"Light_High_L\", \"Light_Control_L\", \"Light_Control_S\", \"Light_High_S\", \"Light_Low_L\", \"Light_Low_S\"], \"y\": [0.0, 0.0, 0.0, 0.0, 0.0, 0.0], \"type\": \"scatter\", \"uid\": \"fb07bc5e-3633-11ea-9c5e-79fdfc20b759\"}, {\"line\": {\"color\": \"#b2b4f0\", \"dash\": \"dash\", \"width\": 4}, \"mode\": \"lines+markers\", \"name\": \"Sevir.2G026100\", \"x\": [\"Light_High_L\", \"Light_Control_L\", \"Light_Control_S\", \"Light_High_S\", \"Light_Low_L\", \"Light_Low_S\"], \"y\": [0.2, 0.0, 0.0, 0.8, 0.0, 1.6], \"type\": \"scatter\", \"uid\": \"fb07bd80-3633-11ea-9c5e-79fdfc20b759\"}, {\"line\": {\"color\": \"#c3c89d\", \"dash\": \"solid\", \"width\": 4}, \"mode\": \"lines+markers\", \"name\": \"Sevir.9G072900\", \"x\": [\"Light_High_L\", \"Light_Control_L\", \"Light_Control_S\", \"Light_High_S\", \"Light_Low_L\", \"Light_Low_S\"], \"y\": [0.2, 0.0, 1.4, 0.2, 0.2, 0.4], \"type\": \"scatter\", \"uid\": \"fb07be98-3633-11ea-9c5e-79fdfc20b759\"}], {\"dragmode\": \"select\", \"plot_bgcolor\": \"white\", \"title\": \"Average Gene Expression - Light\", \"xaxis\": {\"gridcolor\": \"whitesmoke\", \"showgrid\": true, \"title\": \"Experimental Conditions\"}, \"yaxis\": {\"gridcolor\": \"whitesmoke\", \"showgrid\": true, \"title\": \"Expression\"}}, {\"showLink\": true, \"linkText\": \"Export to plot.ly\"})});</script>"
      ],
      "text/vnd.plotly.v1+html": [
       "<div id=\"b4d1e399-2bad-4649-9a3a-a9071e751f41\" style=\"height: 525px; width: 100%;\" class=\"plotly-graph-div\"></div><script type=\"text/javascript\">require([\"plotly\"], function(Plotly) { window.PLOTLYENV=window.PLOTLYENV || {};window.PLOTLYENV.BASE_URL=\"https://plot.ly\";Plotly.newPlot(\"b4d1e399-2bad-4649-9a3a-a9071e751f41\", [{\"line\": {\"color\": \"#ce7d78\", \"dash\": \"dot\", \"width\": 4}, \"mode\": \"lines+markers\", \"name\": \"Sevir.9G282425\", \"x\": [\"Light_High_L\", \"Light_Control_L\", \"Light_Control_S\", \"Light_High_S\", \"Light_Low_L\", \"Light_Low_S\"], \"y\": [0.2, 0.6, 0.0, 0.0, 0.0, 0.4], \"type\": \"scatter\", \"uid\": \"fb0759da-3633-11ea-9c5e-79fdfc20b759\"}, {\"line\": {\"color\": \"#ea9e70\", \"dash\": \"dash\", \"width\": 4}, \"mode\": \"lines+markers\", \"name\": \"Sevir.7G018910\", \"x\": [\"Light_High_L\", \"Light_Control_L\", \"Light_Control_S\", \"Light_High_S\", \"Light_Low_L\", \"Light_Low_S\"], \"y\": [0.691678, 0.0, 0.4, 0.0, 0.2, 0.0], \"type\": \"scatter\", \"uid\": \"fb075cfa-3633-11ea-9c5e-79fdfc20b759\"}, {\"line\": {\"color\": \"#a48a9e\", \"dash\": \"solid\", \"width\": 4}, \"mode\": \"lines+markers\", \"name\": \"Sevir.5G044500\", \"x\": [\"Light_High_L\", \"Light_Control_L\", \"Light_Control_S\", \"Light_High_S\", \"Light_Low_L\", \"Light_Low_S\"], \"y\": [0.0, 0.0, 0.0, 0.0, 0.0, 0.0], \"type\": \"scatter\", \"uid\": \"fb075f5c-3633-11ea-9c5e-79fdfc20b759\"}, {\"line\": {\"color\": \"#c6e1e8\", \"dash\": \"dot\", \"width\": 4}, \"mode\": \"lines+markers\", \"name\": \"Sevir.2G127900\", \"x\": [\"Light_High_L\", \"Light_Control_L\", \"Light_Control_S\", \"Light_High_S\", \"Light_Low_L\", \"Light_Low_S\"], \"y\": [1.0, 2.4, 0.0, 0.0, 0.6, 0.0], \"type\": \"scatter\", \"uid\": \"fb0760f6-3633-11ea-9c5e-79fdfc20b759\"}, {\"line\": {\"color\": \"#648177\", \"dash\": \"dash\", \"width\": 4}, \"mode\": \"lines+markers\", \"name\": \"Sevir.5G129000\", \"x\": [\"Light_High_L\", \"Light_Control_L\", \"Light_Control_S\", \"Light_High_S\", \"Light_Low_L\", \"Light_Low_S\"], \"y\": [0.9858339999999999, 7.232830000000002, 8.29787, 1.46794, 3.0126359999999996, 1.283858], \"type\": \"scatter\", \"uid\": \"fb07624a-3633-11ea-9c5e-79fdfc20b759\"}, {\"line\": {\"color\": \"#0d5ac1\", \"dash\": \"solid\", \"width\": 4}, \"mode\": \"lines+markers\", \"name\": \"Sevir.2G354400\", \"x\": [\"Light_High_L\", \"Light_Control_L\", \"Light_Control_S\", \"Light_High_S\", \"Light_Low_L\", \"Light_Low_S\"], \"y\": [0.0, 0.0, 0.0, 0.0, 0.0, 0.0], \"type\": \"scatter\", \"uid\": \"fb07639e-3633-11ea-9c5e-79fdfc20b759\"}, {\"line\": {\"color\": \"#f205e6\", \"dash\": \"dot\", \"width\": 4}, \"mode\": \"lines+markers\", \"name\": \"Sevir.2G152600\", \"x\": [\"Light_High_L\", \"Light_Control_L\", \"Light_Control_S\", \"Light_High_S\", \"Light_Low_L\", \"Light_Low_S\"], \"y\": [0.8, 0.0, 0.4, 0.0, 0.0, 0.0], \"type\": \"scatter\", \"uid\": \"fb0764de-3633-11ea-9c5e-79fdfc20b759\"}, {\"line\": {\"color\": \"#1c0365\", \"dash\": \"dash\", \"width\": 4}, \"mode\": \"lines+markers\", \"name\": \"Sevir.7G023700\", \"x\": [\"Light_High_L\", \"Light_Control_L\", \"Light_Control_S\", \"Light_High_S\", \"Light_Low_L\", \"Light_Low_S\"], \"y\": [2.841168, 0.69912, 0.11163780000000001, 3.7564839999999995, 0.2, 0.1516574], \"type\": \"scatter\", \"uid\": \"fb07661e-3633-11ea-9c5e-79fdfc20b759\"}, {\"line\": {\"color\": \"#14a9ad\", \"dash\": \"solid\", \"width\": 4}, \"mode\": \"lines+markers\", \"name\": \"Sevir.4G118900\", \"x\": [\"Light_High_L\", \"Light_Control_L\", \"Light_Control_S\", \"Light_High_S\", \"Light_Low_L\", \"Light_Low_S\"], \"y\": [2.2, 0.0, 0.0, 0.0, 0.0, 0.8], \"type\": \"scatter\", \"uid\": \"fb076754-3633-11ea-9c5e-79fdfc20b759\"}, {\"line\": {\"color\": \"#4ca2f9\", \"dash\": \"dot\", \"width\": 4}, \"mode\": \"lines+markers\", \"name\": \"Sevir.8G081600\", \"x\": [\"Light_High_L\", \"Light_Control_L\", \"Light_Control_S\", \"Light_High_S\", \"Light_Low_L\", \"Light_Low_S\"], \"y\": [0.0, 0.0, 0.0, 0.0, 0.0, 0.1997104], \"type\": \"scatter\", \"uid\": \"fb07688a-3633-11ea-9c5e-79fdfc20b759\"}, {\"line\": {\"color\": \"#a4e43f\", \"dash\": \"dash\", \"width\": 4}, \"mode\": \"lines+markers\", \"name\": \"Sevir.5G364132\", \"x\": [\"Light_High_L\", \"Light_Control_L\", \"Light_Control_S\", \"Light_High_S\", \"Light_Low_L\", \"Light_Low_S\"], \"y\": [0.6, 0.0, 0.0, 0.0, 0.0, 0.0], \"type\": \"scatter\", \"uid\": \"fb0769c0-3633-11ea-9c5e-79fdfc20b759\"}, {\"line\": {\"color\": \"#d298e2\", \"dash\": \"solid\", \"width\": 4}, \"mode\": \"lines+markers\", \"name\": \"Sevir.4G263301\", \"x\": [\"Light_High_L\", \"Light_Control_L\", \"Light_Control_S\", \"Light_High_S\", \"Light_Low_L\", \"Light_Low_S\"], \"y\": [0.2, 0.2, 0.0, 0.2, 0.0, 0.4], \"type\": \"scatter\", \"uid\": \"fb076b00-3633-11ea-9c5e-79fdfc20b759\"}, {\"line\": {\"color\": \"#6119d0\", \"dash\": \"dot\", \"width\": 4}, \"mode\": \"lines+markers\", \"name\": \"Sevir.9G099466\", \"x\": [\"Light_High_L\", \"Light_Control_L\", \"Light_Control_S\", \"Light_High_S\", \"Light_Low_L\", \"Light_Low_S\"], \"y\": [0.2, 0.0, 0.4, 0.0, 0.0, 0.0], \"type\": \"scatter\", \"uid\": \"fb076c36-3633-11ea-9c5e-79fdfc20b759\"}, {\"line\": {\"color\": \"#d2737d\", \"dash\": \"dash\", \"width\": 4}, \"mode\": \"lines+markers\", \"name\": \"Sevir.9G078500\", \"x\": [\"Light_High_L\", \"Light_Control_L\", \"Light_Control_S\", \"Light_High_S\", \"Light_Low_L\", \"Light_Low_S\"], \"y\": [0.4, 0.2, 0.0, 0.0, 0.0, 0.0], \"type\": \"scatter\", \"uid\": \"fb076d76-3633-11ea-9c5e-79fdfc20b759\"}, {\"line\": {\"color\": \"#c0a43c\", \"dash\": \"solid\", \"width\": 4}, \"mode\": \"lines+markers\", \"name\": \"Sevir.2G263800\", \"x\": [\"Light_High_L\", \"Light_Control_L\", \"Light_Control_S\", \"Light_High_S\", \"Light_Low_L\", \"Light_Low_S\"], \"y\": [0.0, 0.0, 0.0, 0.0, 0.0, 0.0], \"type\": \"scatter\", \"uid\": \"fb076eac-3633-11ea-9c5e-79fdfc20b759\"}, {\"line\": {\"color\": \"#f2510e\", \"dash\": \"dot\", \"width\": 4}, \"mode\": \"lines+markers\", \"name\": \"Sevir.8G218520\", \"x\": [\"Light_High_L\", \"Light_Control_L\", \"Light_Control_S\", \"Light_High_S\", \"Light_Low_L\", \"Light_Low_S\"], \"y\": [0.0, 0.0, 0.0, 0.0, 0.0, 0.0], \"type\": \"scatter\", \"uid\": \"fb076fe2-3633-11ea-9c5e-79fdfc20b759\"}, {\"line\": {\"color\": \"#651be6\", \"dash\": \"dash\", \"width\": 4}, \"mode\": \"lines+markers\", \"name\": \"Sevir.3G390900\", \"x\": [\"Light_High_L\", \"Light_Control_L\", \"Light_Control_S\", \"Light_High_S\", \"Light_Low_L\", \"Light_Low_S\"], \"y\": [0.0, 0.6, 0.0, 0.0, 0.0, 0.0], \"type\": \"scatter\", \"uid\": \"fb077118-3633-11ea-9c5e-79fdfc20b759\"}, {\"line\": {\"color\": \"#79806e\", \"dash\": \"solid\", \"width\": 4}, \"mode\": \"lines+markers\", \"name\": \"Sevir.9G165400\", \"x\": [\"Light_High_L\", \"Light_Control_L\", \"Light_Control_S\", \"Light_High_S\", \"Light_Low_L\", \"Light_Low_S\"], \"y\": [0.25095, 0.0, 0.0, 0.0, 0.0, 0.0], \"type\": \"scatter\", \"uid\": \"fb077244-3633-11ea-9c5e-79fdfc20b759\"}, {\"line\": {\"color\": \"#61da5e\", \"dash\": \"dot\", \"width\": 4}, \"mode\": \"lines+markers\", \"name\": \"Sevir.8G245140\", \"x\": [\"Light_High_L\", \"Light_Control_L\", \"Light_Control_S\", \"Light_High_S\", \"Light_Low_L\", \"Light_Low_S\"], \"y\": [0.2, 1.0, 0.2, 0.2, 0.0, 0.2], \"type\": \"scatter\", \"uid\": \"fb07744c-3633-11ea-9c5e-79fdfc20b759\"}, {\"line\": {\"color\": \"#cd2f00\", \"dash\": \"dash\", \"width\": 4}, \"mode\": \"lines+markers\", \"name\": \"Sevir.8G087000\", \"x\": [\"Light_High_L\", \"Light_Control_L\", \"Light_Control_S\", \"Light_High_S\", \"Light_Low_L\", \"Light_Low_S\"], \"y\": [0.0, 0.0, 0.0, 0.0, 0.0, 0.0], \"type\": \"scatter\", \"uid\": \"fb0775b4-3633-11ea-9c5e-79fdfc20b759\"}, {\"line\": {\"color\": \"#9348af\", \"dash\": \"solid\", \"width\": 4}, \"mode\": \"lines+markers\", \"name\": \"Sevir.9G576201\", \"x\": [\"Light_High_L\", \"Light_Control_L\", \"Light_Control_S\", \"Light_High_S\", \"Light_Low_L\", \"Light_Low_S\"], \"y\": [0.0, 0.0, 0.0, 0.0, 0.0, 0.0], \"type\": \"scatter\", \"uid\": \"fb0776ea-3633-11ea-9c5e-79fdfc20b759\"}, {\"line\": {\"color\": \"#01ac53\", \"dash\": \"dot\", \"width\": 4}, \"mode\": \"lines+markers\", \"name\": \"Sevir.5G470750\", \"x\": [\"Light_High_L\", \"Light_Control_L\", \"Light_Control_S\", \"Light_High_S\", \"Light_Low_L\", \"Light_Low_S\"], \"y\": [0.0, 0.4, 0.4, 1.8, 0.2, 1.0], \"type\": \"scatter\", \"uid\": \"fb077820-3633-11ea-9c5e-79fdfc20b759\"}, {\"line\": {\"color\": \"#c5a4fb\", \"dash\": \"dash\", \"width\": 4}, \"mode\": \"lines+markers\", \"name\": \"Sevir.1G060850\", \"x\": [\"Light_High_L\", \"Light_Control_L\", \"Light_Control_S\", \"Light_High_S\", \"Light_Low_L\", \"Light_Low_S\"], \"y\": [0.0, 0.0, 0.0, 0.0, 0.0, 0.0], \"type\": \"scatter\", \"uid\": \"fb07794c-3633-11ea-9c5e-79fdfc20b759\"}, {\"line\": {\"color\": \"#996635\", \"dash\": \"solid\", \"width\": 4}, \"mode\": \"lines+markers\", \"name\": \"Sevir.2G280500\", \"x\": [\"Light_High_L\", \"Light_Control_L\", \"Light_Control_S\", \"Light_High_S\", \"Light_Low_L\", \"Light_Low_S\"], \"y\": [0.23170079999999998, 0.36634, 0.0, 0.0, 0.0, 9.2116e-07], \"type\": \"scatter\", \"uid\": \"fb077a82-3633-11ea-9c5e-79fdfc20b759\"}, {\"line\": {\"color\": \"#b11573\", \"dash\": \"dot\", \"width\": 4}, \"mode\": \"lines+markers\", \"name\": \"Sevir.9G268200\", \"x\": [\"Light_High_L\", \"Light_Control_L\", \"Light_Control_S\", \"Light_High_S\", \"Light_Low_L\", \"Light_Low_S\"], \"y\": [0.2, 0.6, 0.0, 0.0, 0.0, 0.2], \"type\": \"scatter\", \"uid\": \"fb077bb8-3633-11ea-9c5e-79fdfc20b759\"}, {\"line\": {\"color\": \"#4bb473\", \"dash\": \"dash\", \"width\": 4}, \"mode\": \"lines+markers\", \"name\": \"Sevir.4G143101\", \"x\": [\"Light_High_L\", \"Light_Control_L\", \"Light_Control_S\", \"Light_High_S\", \"Light_Low_L\", \"Light_Low_S\"], \"y\": [0.4, 0.0, 0.0, 0.0, 0.0, 0.0], \"type\": \"scatter\", \"uid\": \"fb077ce4-3633-11ea-9c5e-79fdfc20b759\"}, {\"line\": {\"color\": \"#75d89e\", \"dash\": \"solid\", \"width\": 4}, \"mode\": \"lines+markers\", \"name\": \"Sevir.2G342800\", \"x\": [\"Light_High_L\", \"Light_Control_L\", \"Light_Control_S\", \"Light_High_S\", \"Light_Low_L\", \"Light_Low_S\"], \"y\": [0.0, 0.0, 0.2, 0.4, 0.0, 0.4], \"type\": \"scatter\", \"uid\": \"fb077e1a-3633-11ea-9c5e-79fdfc20b759\"}, {\"line\": {\"color\": \"#2f3f94\", \"dash\": \"dot\", \"width\": 4}, \"mode\": \"lines+markers\", \"name\": \"Sevir.1G019900\", \"x\": [\"Light_High_L\", \"Light_Control_L\", \"Light_Control_S\", \"Light_High_S\", \"Light_Low_L\", \"Light_Low_S\"], \"y\": [0.0, 0.6, 0.0, 0.0, 0.0, 0.4], \"type\": \"scatter\", \"uid\": \"fb077f50-3633-11ea-9c5e-79fdfc20b759\"}, {\"line\": {\"color\": \"#2f7b99\", \"dash\": \"dash\", \"width\": 4}, \"mode\": \"lines+markers\", \"name\": \"Sevir.3G353500\", \"x\": [\"Light_High_L\", \"Light_Control_L\", \"Light_Control_S\", \"Light_High_S\", \"Light_Low_L\", \"Light_Low_S\"], \"y\": [0.0, 0.0, 0.0, 0.0, 0.0, 0.0], \"type\": \"scatter\", \"uid\": \"fb078086-3633-11ea-9c5e-79fdfc20b759\"}, {\"line\": {\"color\": \"#da967d\", \"dash\": \"solid\", \"width\": 4}, \"mode\": \"lines+markers\", \"name\": \"Sevir.7G189700\", \"x\": [\"Light_High_L\", \"Light_Control_L\", \"Light_Control_S\", \"Light_High_S\", \"Light_Low_L\", \"Light_Low_S\"], \"y\": [0.0, 0.0, 0.0, 0.0, 0.0, 0.0], \"type\": \"scatter\", \"uid\": \"fb0781bc-3633-11ea-9c5e-79fdfc20b759\"}, {\"line\": {\"color\": \"#34891f\", \"dash\": \"dot\", \"width\": 4}, \"mode\": \"lines+markers\", \"name\": \"Sevir.4G118600\", \"x\": [\"Light_High_L\", \"Light_Control_L\", \"Light_Control_S\", \"Light_High_S\", \"Light_Low_L\", \"Light_Low_S\"], \"y\": [0.0, 0.0, 0.0, 0.0, 0.0, 0.0], \"type\": \"scatter\", \"uid\": \"fb0782f2-3633-11ea-9c5e-79fdfc20b759\"}, {\"line\": {\"color\": \"#b0d87b\", \"dash\": \"dash\", \"width\": 4}, \"mode\": \"lines+markers\", \"name\": \"Sevir.5G315900\", \"x\": [\"Light_High_L\", \"Light_Control_L\", \"Light_Control_S\", \"Light_High_S\", \"Light_Low_L\", \"Light_Low_S\"], \"y\": [0.0, 0.0, 0.2, 0.0, 0.0, 0.0], \"type\": \"scatter\", \"uid\": \"fb078428-3633-11ea-9c5e-79fdfc20b759\"}, {\"line\": {\"color\": \"#ca4751\", \"dash\": \"solid\", \"width\": 4}, \"mode\": \"lines+markers\", \"name\": \"Sevir.1G110232\", \"x\": [\"Light_High_L\", \"Light_Control_L\", \"Light_Control_S\", \"Light_High_S\", \"Light_Low_L\", \"Light_Low_S\"], \"y\": [0.0, 0.0, 0.2, 0.0, 0.0, 0.2], \"type\": \"scatter\", \"uid\": \"fb07855e-3633-11ea-9c5e-79fdfc20b759\"}, {\"line\": {\"color\": \"#7e50a8\", \"dash\": \"dot\", \"width\": 4}, \"mode\": \"lines+markers\", \"name\": \"Sevir.5G206100\", \"x\": [\"Light_High_L\", \"Light_Control_L\", \"Light_Control_S\", \"Light_High_S\", \"Light_Low_L\", \"Light_Low_S\"], \"y\": [0.0, 0.0, 0.2, 0.0, 0.0, 0.4], \"type\": \"scatter\", \"uid\": \"fb07868a-3633-11ea-9c5e-79fdfc20b759\"}, {\"line\": {\"color\": \"#c4d647\", \"dash\": \"dash\", \"width\": 4}, \"mode\": \"lines+markers\", \"name\": \"Sevir.3G353200\", \"x\": [\"Light_High_L\", \"Light_Control_L\", \"Light_Control_S\", \"Light_High_S\", \"Light_Low_L\", \"Light_Low_S\"], \"y\": [0.0, 0.0, 1.0, 0.0, 0.0, 0.2], \"type\": \"scatter\", \"uid\": \"fb0787b6-3633-11ea-9c5e-79fdfc20b759\"}, {\"line\": {\"color\": \"#e0eeb8\", \"dash\": \"solid\", \"width\": 4}, \"mode\": \"lines+markers\", \"name\": \"Sevir.4G093300\", \"x\": [\"Light_High_L\", \"Light_Control_L\", \"Light_Control_S\", \"Light_High_S\", \"Light_Low_L\", \"Light_Low_S\"], \"y\": [0.0, 0.6, 1.0, 0.2, 0.6, 0.6], \"type\": \"scatter\", \"uid\": \"fb0788ec-3633-11ea-9c5e-79fdfc20b759\"}, {\"line\": {\"color\": \"#11dec1\", \"dash\": \"dot\", \"width\": 4}, \"mode\": \"lines+markers\", \"name\": \"Sevir.1G171100\", \"x\": [\"Light_High_L\", \"Light_Control_L\", \"Light_Control_S\", \"Light_High_S\", \"Light_Low_L\", \"Light_Low_S\"], \"y\": [0.8, 0.0, 0.2, 0.0, 0.0, 0.0], \"type\": \"scatter\", \"uid\": \"fb078a18-3633-11ea-9c5e-79fdfc20b759\"}, {\"line\": {\"color\": \"#289812\", \"dash\": \"dash\", \"width\": 4}, \"mode\": \"lines+markers\", \"name\": \"Sevir.2G305750\", \"x\": [\"Light_High_L\", \"Light_Control_L\", \"Light_Control_S\", \"Light_High_S\", \"Light_Low_L\", \"Light_Low_S\"], \"y\": [0.0, 0.739994, 0.0, 0.596136, 0.754728, 0.263638], \"type\": \"scatter\", \"uid\": \"fb078b44-3633-11ea-9c5e-79fdfc20b759\"}, {\"line\": {\"color\": \"#566ca0\", \"dash\": \"solid\", \"width\": 4}, \"mode\": \"lines+markers\", \"name\": \"Sevir.9G169700\", \"x\": [\"Light_High_L\", \"Light_Control_L\", \"Light_Control_S\", \"Light_High_S\", \"Light_Low_L\", \"Light_Low_S\"], \"y\": [0.0, 0.0, 0.0, 0.0, 0.0, 0.0], \"type\": \"scatter\", \"uid\": \"fb078c7a-3633-11ea-9c5e-79fdfc20b759\"}, {\"line\": {\"color\": \"#ffdbe1\", \"dash\": \"dot\", \"width\": 4}, \"mode\": \"lines+markers\", \"name\": \"Sevir.1G020800\", \"x\": [\"Light_High_L\", \"Light_Control_L\", \"Light_Control_S\", \"Light_High_S\", \"Light_Low_L\", \"Light_Low_S\"], \"y\": [0.0, 0.4, 0.0, 0.6, 0.0, 0.0], \"type\": \"scatter\", \"uid\": \"fb078da6-3633-11ea-9c5e-79fdfc20b759\"}, {\"line\": {\"color\": \"#2f1179\", \"dash\": \"dash\", \"width\": 4}, \"mode\": \"lines+markers\", \"name\": \"Sevir.5G194900\", \"x\": [\"Light_High_L\", \"Light_Control_L\", \"Light_Control_S\", \"Light_High_S\", \"Light_Low_L\", \"Light_Low_S\"], \"y\": [0.0, 0.0, 0.534106, 0.0, 0.0, 0.0], \"type\": \"scatter\", \"uid\": \"fb078edc-3633-11ea-9c5e-79fdfc20b759\"}, {\"line\": {\"color\": \"#935b6d\", \"dash\": \"solid\", \"width\": 4}, \"mode\": \"lines+markers\", \"name\": \"Sevir.6G028050\", \"x\": [\"Light_High_L\", \"Light_Control_L\", \"Light_Control_S\", \"Light_High_S\", \"Light_Low_L\", \"Light_Low_S\"], \"y\": [0.0, 0.0, 0.0, 0.0, 0.0, 0.0], \"type\": \"scatter\", \"uid\": \"fb079012-3633-11ea-9c5e-79fdfc20b759\"}, {\"line\": {\"color\": \"#916988\", \"dash\": \"dot\", \"width\": 4}, \"mode\": \"lines+markers\", \"name\": \"Sevir.2G003200\", \"x\": [\"Light_High_L\", \"Light_Control_L\", \"Light_Control_S\", \"Light_High_S\", \"Light_Low_L\", \"Light_Low_S\"], \"y\": [0.0, 0.0, 0.0, 0.2, 0.0, 0.0], \"type\": \"scatter\", \"uid\": \"fb079148-3633-11ea-9c5e-79fdfc20b759\"}, {\"line\": {\"color\": \"#513d98\", \"dash\": \"dash\", \"width\": 4}, \"mode\": \"lines+markers\", \"name\": \"Sevir.8G079100\", \"x\": [\"Light_High_L\", \"Light_Control_L\", \"Light_Control_S\", \"Light_High_S\", \"Light_Low_L\", \"Light_Low_S\"], \"y\": [0.0, 0.0, 0.0, 0.0, 0.0, 0.0], \"type\": \"scatter\", \"uid\": \"fb07927e-3633-11ea-9c5e-79fdfc20b759\"}, {\"line\": {\"color\": \"#aead3a\", \"dash\": \"solid\", \"width\": 4}, \"mode\": \"lines+markers\", \"name\": \"Sevir.4G293501\", \"x\": [\"Light_High_L\", \"Light_Control_L\", \"Light_Control_S\", \"Light_High_S\", \"Light_Low_L\", \"Light_Low_S\"], \"y\": [0.0, 0.0, 0.0858748, 0.0, 0.0, 0.0], \"type\": \"scatter\", \"uid\": \"fb0793aa-3633-11ea-9c5e-79fdfc20b759\"}, {\"line\": {\"color\": \"#9e6d71\", \"dash\": \"dot\", \"width\": 4}, \"mode\": \"lines+markers\", \"name\": \"Sevir.7G022900\", \"x\": [\"Light_High_L\", \"Light_Control_L\", \"Light_Control_S\", \"Light_High_S\", \"Light_Low_L\", \"Light_Low_S\"], \"y\": [0.0, 0.0, 0.0, 0.0, 0.0, 0.0], \"type\": \"scatter\", \"uid\": \"fb0794d6-3633-11ea-9c5e-79fdfc20b759\"}, {\"line\": {\"color\": \"#4b5bdc\", \"dash\": \"dash\", \"width\": 4}, \"mode\": \"lines+markers\", \"name\": \"Sevir.8G165900\", \"x\": [\"Light_High_L\", \"Light_Control_L\", \"Light_Control_S\", \"Light_High_S\", \"Light_Low_L\", \"Light_Low_S\"], \"y\": [0.0, 0.0, 0.0, 0.0, 0.0, 0.0], \"type\": \"scatter\", \"uid\": \"fb07960c-3633-11ea-9c5e-79fdfc20b759\"}, {\"line\": {\"color\": \"#0cd36d\", \"dash\": \"solid\", \"width\": 4}, \"mode\": \"lines+markers\", \"name\": \"Sevir.9G092300\", \"x\": [\"Light_High_L\", \"Light_Control_L\", \"Light_Control_S\", \"Light_High_S\", \"Light_Low_L\", \"Light_Low_S\"], \"y\": [0.0, 0.0, 0.0, 0.0, 0.0, 0.0], \"type\": \"scatter\", \"uid\": \"fb079738-3633-11ea-9c5e-79fdfc20b759\"}, {\"line\": {\"color\": \"#250662\", \"dash\": \"dot\", \"width\": 4}, \"mode\": \"lines+markers\", \"name\": \"Sevir.6G113200\", \"x\": [\"Light_High_L\", \"Light_Control_L\", \"Light_Control_S\", \"Light_High_S\", \"Light_Low_L\", \"Light_Low_S\"], \"y\": [0.0, 0.0, 0.0, 0.0, 0.0, 0.0], \"type\": \"scatter\", \"uid\": \"fb07986e-3633-11ea-9c5e-79fdfc20b759\"}, {\"line\": {\"color\": \"#cb5bea\", \"dash\": \"dash\", \"width\": 4}, \"mode\": \"lines+markers\", \"name\": \"Sevir.4G160200\", \"x\": [\"Light_High_L\", \"Light_Control_L\", \"Light_Control_S\", \"Light_High_S\", \"Light_Low_L\", \"Light_Low_S\"], \"y\": [0.0, 0.0, 0.0, 0.0, 0.0, 0.0], \"type\": \"scatter\", \"uid\": \"fb07999a-3633-11ea-9c5e-79fdfc20b759\"}, {\"line\": {\"color\": \"#228916\", \"dash\": \"solid\", \"width\": 4}, \"mode\": \"lines+markers\", \"name\": \"Sevir.5G037400\", \"x\": [\"Light_High_L\", \"Light_Control_L\", \"Light_Control_S\", \"Light_High_S\", \"Light_Low_L\", \"Light_Low_S\"], \"y\": [0.0, 0.0, 0.0, 0.0, 0.0, 0.0], \"type\": \"scatter\", \"uid\": \"fb079b7a-3633-11ea-9c5e-79fdfc20b759\"}, {\"line\": {\"color\": \"#ac3e1b\", \"dash\": \"dot\", \"width\": 4}, \"mode\": \"lines+markers\", \"name\": \"Sevir.3G298200\", \"x\": [\"Light_High_L\", \"Light_Control_L\", \"Light_Control_S\", \"Light_High_S\", \"Light_Low_L\", \"Light_Low_S\"], \"y\": [0.0, 0.0, 0.0, 0.0, 0.0, 0.0], \"type\": \"scatter\", \"uid\": \"fb079cc4-3633-11ea-9c5e-79fdfc20b759\"}, {\"line\": {\"color\": \"#df514a\", \"dash\": \"dash\", \"width\": 4}, \"mode\": \"lines+markers\", \"name\": \"Sevir.2G437300\", \"x\": [\"Light_High_L\", \"Light_Control_L\", \"Light_Control_S\", \"Light_High_S\", \"Light_Low_L\", \"Light_Low_S\"], \"y\": [0.0, 0.0, 0.0, 0.0, 0.0, 0.0], \"type\": \"scatter\", \"uid\": \"fb079e04-3633-11ea-9c5e-79fdfc20b759\"}, {\"line\": {\"color\": \"#539397\", \"dash\": \"solid\", \"width\": 4}, \"mode\": \"lines+markers\", \"name\": \"Sevir.9G095700\", \"x\": [\"Light_High_L\", \"Light_Control_L\", \"Light_Control_S\", \"Light_High_S\", \"Light_Low_L\", \"Light_Low_S\"], \"y\": [0.40854999999999997, 0.28139, 0.205896, 0.408022, 0.0, 0.0], \"type\": \"scatter\", \"uid\": \"fb079f30-3633-11ea-9c5e-79fdfc20b759\"}, {\"line\": {\"color\": \"#880977\", \"dash\": \"dot\", \"width\": 4}, \"mode\": \"lines+markers\", \"name\": \"Sevir.1G265000\", \"x\": [\"Light_High_L\", \"Light_Control_L\", \"Light_Control_S\", \"Light_High_S\", \"Light_Low_L\", \"Light_Low_S\"], \"y\": [0.0, 0.0, 0.0, 0.0, 0.0, 0.0], \"type\": \"scatter\", \"uid\": \"fb07a05c-3633-11ea-9c5e-79fdfc20b759\"}, {\"line\": {\"color\": \"#f697c1\", \"dash\": \"dash\", \"width\": 4}, \"mode\": \"lines+markers\", \"name\": \"Sevir.5G418900\", \"x\": [\"Light_High_L\", \"Light_Control_L\", \"Light_Control_S\", \"Light_High_S\", \"Light_Low_L\", \"Light_Low_S\"], \"y\": [0.2, 0.0, 0.0, 0.0, 0.2, 0.0], \"type\": \"scatter\", \"uid\": \"fb07a192-3633-11ea-9c5e-79fdfc20b759\"}, {\"line\": {\"color\": \"#ba96ce\", \"dash\": \"solid\", \"width\": 4}, \"mode\": \"lines+markers\", \"name\": \"Sevir.8G237700\", \"x\": [\"Light_High_L\", \"Light_Control_L\", \"Light_Control_S\", \"Light_High_S\", \"Light_Low_L\", \"Light_Low_S\"], \"y\": [0.0, 0.0, 0.2, 0.0, 0.0, 0.0], \"type\": \"scatter\", \"uid\": \"fb07a2be-3633-11ea-9c5e-79fdfc20b759\"}, {\"line\": {\"color\": \"#679c9d\", \"dash\": \"dot\", \"width\": 4}, \"mode\": \"lines+markers\", \"name\": \"Sevir.2G177600\", \"x\": [\"Light_High_L\", \"Light_Control_L\", \"Light_Control_S\", \"Light_High_S\", \"Light_Low_L\", \"Light_Low_S\"], \"y\": [0.0, 0.0, 0.0, 0.0, 0.0, 0.0], \"type\": \"scatter\", \"uid\": \"fb07a3f4-3633-11ea-9c5e-79fdfc20b759\"}, {\"line\": {\"color\": \"#c6c42c\", \"dash\": \"dash\", \"width\": 4}, \"mode\": \"lines+markers\", \"name\": \"Sevir.9G253801\", \"x\": [\"Light_High_L\", \"Light_Control_L\", \"Light_Control_S\", \"Light_High_S\", \"Light_Low_L\", \"Light_Low_S\"], \"y\": [0.0, 0.2, 0.0, 0.0, 0.2, 0.0], \"type\": \"scatter\", \"uid\": \"fb07a520-3633-11ea-9c5e-79fdfc20b759\"}, {\"line\": {\"color\": \"#5d2c52\", \"dash\": \"solid\", \"width\": 4}, \"mode\": \"lines+markers\", \"name\": \"Sevir.6G183566\", \"x\": [\"Light_High_L\", \"Light_Control_L\", \"Light_Control_S\", \"Light_High_S\", \"Light_Low_L\", \"Light_Low_S\"], \"y\": [0.0, 0.0, 0.0, 0.0, 0.0, 0.0], \"type\": \"scatter\", \"uid\": \"fb07a64c-3633-11ea-9c5e-79fdfc20b759\"}, {\"line\": {\"color\": \"#48b41b\", \"dash\": \"dot\", \"width\": 4}, \"mode\": \"lines+markers\", \"name\": \"Sevir.8G259500\", \"x\": [\"Light_High_L\", \"Light_Control_L\", \"Light_Control_S\", \"Light_High_S\", \"Light_Low_L\", \"Light_Low_S\"], \"y\": [0.2, 0.0, 0.8, 0.8030839999999999, 0.0, 0.2], \"type\": \"scatter\", \"uid\": \"fb07a782-3633-11ea-9c5e-79fdfc20b759\"}, {\"line\": {\"color\": \"#e1cf3b\", \"dash\": \"dash\", \"width\": 4}, \"mode\": \"lines+markers\", \"name\": \"Sevir.5G036550\", \"x\": [\"Light_High_L\", \"Light_Control_L\", \"Light_Control_S\", \"Light_High_S\", \"Light_Low_L\", \"Light_Low_S\"], \"y\": [0.4, 0.0, 0.2, 0.6, 0.0, 0.4], \"type\": \"scatter\", \"uid\": \"fb07a8ae-3633-11ea-9c5e-79fdfc20b759\"}, {\"line\": {\"color\": \"#5be4f0\", \"dash\": \"solid\", \"width\": 4}, \"mode\": \"lines+markers\", \"name\": \"Sevir.7G279700\", \"x\": [\"Light_High_L\", \"Light_Control_L\", \"Light_Control_S\", \"Light_High_S\", \"Light_Low_L\", \"Light_Low_S\"], \"y\": [0.2, 0.4, 0.4, 0.2, 0.0, 0.4], \"type\": \"scatter\", \"uid\": \"fb07a9e4-3633-11ea-9c5e-79fdfc20b759\"}, {\"line\": {\"color\": \"#57c4d8\", \"dash\": \"dot\", \"width\": 4}, \"mode\": \"lines+markers\", \"name\": \"Sevir.8G068450\", \"x\": [\"Light_High_L\", \"Light_Control_L\", \"Light_Control_S\", \"Light_High_S\", \"Light_Low_L\", \"Light_Low_S\"], \"y\": [0.0, 0.0, 0.0, 0.0, 0.0, 0.0], \"type\": \"scatter\", \"uid\": \"fb07ab10-3633-11ea-9c5e-79fdfc20b759\"}, {\"line\": {\"color\": \"#a4d17a\", \"dash\": \"dash\", \"width\": 4}, \"mode\": \"lines+markers\", \"name\": \"Sevir.9G576750\", \"x\": [\"Light_High_L\", \"Light_Control_L\", \"Light_Control_S\", \"Light_High_S\", \"Light_Low_L\", \"Light_Low_S\"], \"y\": [0.4, 0.4, 0.8, 0.2, 0.8, 1.981042], \"type\": \"scatter\", \"uid\": \"fb07ac3c-3633-11ea-9c5e-79fdfc20b759\"}, {\"line\": {\"color\": \"#225b8e\", \"dash\": \"solid\", \"width\": 4}, \"mode\": \"lines+markers\", \"name\": \"Sevir.9G248533\", \"x\": [\"Light_High_L\", \"Light_Control_L\", \"Light_Control_S\", \"Light_High_S\", \"Light_Low_L\", \"Light_Low_S\"], \"y\": [0.0, 0.2, 0.2, 0.8, 0.0, 1.0], \"type\": \"scatter\", \"uid\": \"fb07ad68-3633-11ea-9c5e-79fdfc20b759\"}, {\"line\": {\"color\": \"#be608b\", \"dash\": \"dot\", \"width\": 4}, \"mode\": \"lines+markers\", \"name\": \"Sevir.1G379100\", \"x\": [\"Light_High_L\", \"Light_Control_L\", \"Light_Control_S\", \"Light_High_S\", \"Light_Low_L\", \"Light_Low_S\"], \"y\": [5.888456, 5.505462, 8.181664000000001, 3.98101, 4.513772, 5.115679999999999], \"type\": \"scatter\", \"uid\": \"fb07ae94-3633-11ea-9c5e-79fdfc20b759\"}, {\"line\": {\"color\": \"#96b00c\", \"dash\": \"dash\", \"width\": 4}, \"mode\": \"lines+markers\", \"name\": \"Sevir.8G222414\", \"x\": [\"Light_High_L\", \"Light_Control_L\", \"Light_Control_S\", \"Light_High_S\", \"Light_Low_L\", \"Light_Low_S\"], \"y\": [1.506014, 2.0, 3.4, 1.0, 0.0, 0.4], \"type\": \"scatter\", \"uid\": \"fb07afb6-3633-11ea-9c5e-79fdfc20b759\"}, {\"line\": {\"color\": \"#088baf\", \"dash\": \"solid\", \"width\": 4}, \"mode\": \"lines+markers\", \"name\": \"Sevir.6G039200\", \"x\": [\"Light_High_L\", \"Light_Control_L\", \"Light_Control_S\", \"Light_High_S\", \"Light_Low_L\", \"Light_Low_S\"], \"y\": [2.2427140000000003, 2.78191, 2.130776, 0.851558, 1.9582819999999999, 1.12951], \"type\": \"scatter\", \"uid\": \"fb07b0e2-3633-11ea-9c5e-79fdfc20b759\"}, {\"line\": {\"color\": \"#f158bf\", \"dash\": \"dot\", \"width\": 4}, \"mode\": \"lines+markers\", \"name\": \"Sevir.6G075100\", \"x\": [\"Light_High_L\", \"Light_Control_L\", \"Light_Control_S\", \"Light_High_S\", \"Light_Low_L\", \"Light_Low_S\"], \"y\": [0.0, 0.0, 0.0, 0.0, 0.0, 0.0], \"type\": \"scatter\", \"uid\": \"fb07b204-3633-11ea-9c5e-79fdfc20b759\"}, {\"line\": {\"color\": \"#e145ba\", \"dash\": \"dash\", \"width\": 4}, \"mode\": \"lines+markers\", \"name\": \"Sevir.3G331800\", \"x\": [\"Light_High_L\", \"Light_Control_L\", \"Light_Control_S\", \"Light_High_S\", \"Light_Low_L\", \"Light_Low_S\"], \"y\": [1.6, 0.2, 0.4, 1.0, 0.0, 0.8], \"type\": \"scatter\", \"uid\": \"fb07b326-3633-11ea-9c5e-79fdfc20b759\"}, {\"line\": {\"color\": \"#ee91e3\", \"dash\": \"solid\", \"width\": 4}, \"mode\": \"lines+markers\", \"name\": \"Sevir.4G164200\", \"x\": [\"Light_High_L\", \"Light_Control_L\", \"Light_Control_S\", \"Light_High_S\", \"Light_Low_L\", \"Light_Low_S\"], \"y\": [0.4, 0.0, 0.0, 0.0, 0.0, 0.0], \"type\": \"scatter\", \"uid\": \"fb07b448-3633-11ea-9c5e-79fdfc20b759\"}, {\"line\": {\"color\": \"#05d371\", \"dash\": \"dot\", \"width\": 4}, \"mode\": \"lines+markers\", \"name\": \"Sevir.9G347733\", \"x\": [\"Light_High_L\", \"Light_Control_L\", \"Light_Control_S\", \"Light_High_S\", \"Light_Low_L\", \"Light_Low_S\"], \"y\": [0.2, 0.2, 0.2, 0.8, 0.8, 0.0], \"type\": \"scatter\", \"uid\": \"fb07b574-3633-11ea-9c5e-79fdfc20b759\"}, {\"line\": {\"color\": \"#5426e0\", \"dash\": \"dash\", \"width\": 4}, \"mode\": \"lines+markers\", \"name\": \"Sevir.2G396750\", \"x\": [\"Light_High_L\", \"Light_Control_L\", \"Light_Control_S\", \"Light_High_S\", \"Light_Low_L\", \"Light_Low_S\"], \"y\": [0.0, 0.0, 0.0, 0.0, 0.0, 0.0], \"type\": \"scatter\", \"uid\": \"fb07b696-3633-11ea-9c5e-79fdfc20b759\"}, {\"line\": {\"color\": \"#4834d0\", \"dash\": \"solid\", \"width\": 4}, \"mode\": \"lines+markers\", \"name\": \"Sevir.3G116100\", \"x\": [\"Light_High_L\", \"Light_Control_L\", \"Light_Control_S\", \"Light_High_S\", \"Light_Low_L\", \"Light_Low_S\"], \"y\": [0.4, 0.0, 0.0, 0.0, 0.0, 0.0], \"type\": \"scatter\", \"uid\": \"fb07b7c2-3633-11ea-9c5e-79fdfc20b759\"}, {\"line\": {\"color\": \"#802234\", \"dash\": \"dot\", \"width\": 4}, \"mode\": \"lines+markers\", \"name\": \"Sevir.7G061100\", \"x\": [\"Light_High_L\", \"Light_Control_L\", \"Light_Control_S\", \"Light_High_S\", \"Light_Low_L\", \"Light_Low_S\"], \"y\": [0.2, 0.0, 0.0, 0.0, 0.0, 0.0], \"type\": \"scatter\", \"uid\": \"fb07b8ee-3633-11ea-9c5e-79fdfc20b759\"}, {\"line\": {\"color\": \"#6749e8\", \"dash\": \"dash\", \"width\": 4}, \"mode\": \"lines+markers\", \"name\": \"Sevir.2G307100\", \"x\": [\"Light_High_L\", \"Light_Control_L\", \"Light_Control_S\", \"Light_High_S\", \"Light_Low_L\", \"Light_Low_S\"], \"y\": [0.0, 0.0, 0.4, 0.0, 0.0, 0.2], \"type\": \"scatter\", \"uid\": \"fb07ba10-3633-11ea-9c5e-79fdfc20b759\"}, {\"line\": {\"color\": \"#0971f0\", \"dash\": \"solid\", \"width\": 4}, \"mode\": \"lines+markers\", \"name\": \"Sevir.5G087400\", \"x\": [\"Light_High_L\", \"Light_Control_L\", \"Light_Control_S\", \"Light_High_S\", \"Light_Low_L\", \"Light_Low_S\"], \"y\": [0.0, 0.0, 0.0, 0.0, 0.0, 0.0], \"type\": \"scatter\", \"uid\": \"fb07bb32-3633-11ea-9c5e-79fdfc20b759\"}, {\"line\": {\"color\": \"#8fb413\", \"dash\": \"dot\", \"width\": 4}, \"mode\": \"lines+markers\", \"name\": \"Sevir.7G005300\", \"x\": [\"Light_High_L\", \"Light_Control_L\", \"Light_Control_S\", \"Light_High_S\", \"Light_Low_L\", \"Light_Low_S\"], \"y\": [0.0, 0.0, 0.0, 0.0, 0.0, 0.0], \"type\": \"scatter\", \"uid\": \"fb07bc5e-3633-11ea-9c5e-79fdfc20b759\"}, {\"line\": {\"color\": \"#b2b4f0\", \"dash\": \"dash\", \"width\": 4}, \"mode\": \"lines+markers\", \"name\": \"Sevir.2G026100\", \"x\": [\"Light_High_L\", \"Light_Control_L\", \"Light_Control_S\", \"Light_High_S\", \"Light_Low_L\", \"Light_Low_S\"], \"y\": [0.2, 0.0, 0.0, 0.8, 0.0, 1.6], \"type\": \"scatter\", \"uid\": \"fb07bd80-3633-11ea-9c5e-79fdfc20b759\"}, {\"line\": {\"color\": \"#c3c89d\", \"dash\": \"solid\", \"width\": 4}, \"mode\": \"lines+markers\", \"name\": \"Sevir.9G072900\", \"x\": [\"Light_High_L\", \"Light_Control_L\", \"Light_Control_S\", \"Light_High_S\", \"Light_Low_L\", \"Light_Low_S\"], \"y\": [0.2, 0.0, 1.4, 0.2, 0.2, 0.4], \"type\": \"scatter\", \"uid\": \"fb07be98-3633-11ea-9c5e-79fdfc20b759\"}], {\"dragmode\": \"select\", \"plot_bgcolor\": \"white\", \"title\": \"Average Gene Expression - Light\", \"xaxis\": {\"gridcolor\": \"whitesmoke\", \"showgrid\": true, \"title\": \"Experimental Conditions\"}, \"yaxis\": {\"gridcolor\": \"whitesmoke\", \"showgrid\": true, \"title\": \"Expression\"}}, {\"showLink\": true, \"linkText\": \"Export to plot.ly\"})});</script>"
      ]
     },
     "metadata": {},
     "output_type": "display_data"
    },
    {
     "data": {
      "application/vnd.plotly.v1+json": {
       "data": [
        {
         "line": {
          "color": "#ce7d78",
          "dash": "dot",
          "width": 4
         },
         "mode": "lines+markers",
         "name": "Sevir.9G282425",
         "type": "scatter",
         "uid": "fbe2b0de-3633-11ea-9c5e-79fdfc20b759",
         "x": [
          "MeJA_Control-48h_L",
          "MeJA_MeJA-1h_L",
          "MeJA_MeJA-4h_L",
          "MeJA_MeJA-8h_L",
          "MeJA_MeJA-24h_L",
          "MeJA_MeJA-48h_L",
          "MeJA_Control-1h_L",
          "MeJA_Control-4h_L",
          "MeJA_Control-8h_L",
          "MeJA_Control-24h_L"
         ],
         "y": [
          0.4,
          1.2,
          2,
          0.4,
          1,
          0.6,
          1.2,
          0.6,
          0.4,
          1.8
         ]
        },
        {
         "line": {
          "color": "#ea9e70",
          "dash": "dash",
          "width": 4
         },
         "mode": "lines+markers",
         "name": "Sevir.7G018910",
         "type": "scatter",
         "uid": "fbe2b32c-3633-11ea-9c5e-79fdfc20b759",
         "x": [
          "MeJA_Control-48h_L",
          "MeJA_MeJA-1h_L",
          "MeJA_MeJA-4h_L",
          "MeJA_MeJA-8h_L",
          "MeJA_MeJA-24h_L",
          "MeJA_MeJA-48h_L",
          "MeJA_Control-1h_L",
          "MeJA_Control-4h_L",
          "MeJA_Control-8h_L",
          "MeJA_Control-24h_L"
         ],
         "y": [
          0,
          0,
          0.5,
          0.077722,
          0,
          0,
          0.417748,
          0,
          0,
          0
         ]
        },
        {
         "line": {
          "color": "#a48a9e",
          "dash": "solid",
          "width": 4
         },
         "mode": "lines+markers",
         "name": "Sevir.5G044500",
         "type": "scatter",
         "uid": "fbe2b46c-3633-11ea-9c5e-79fdfc20b759",
         "x": [
          "MeJA_Control-48h_L",
          "MeJA_MeJA-1h_L",
          "MeJA_MeJA-4h_L",
          "MeJA_MeJA-8h_L",
          "MeJA_MeJA-24h_L",
          "MeJA_MeJA-48h_L",
          "MeJA_Control-1h_L",
          "MeJA_Control-4h_L",
          "MeJA_Control-8h_L",
          "MeJA_Control-24h_L"
         ],
         "y": [
          0.6,
          0,
          0.75,
          0,
          0.2,
          0,
          0,
          0.2,
          0,
          0.2
         ]
        },
        {
         "line": {
          "color": "#c6e1e8",
          "dash": "dot",
          "width": 4
         },
         "mode": "lines+markers",
         "name": "Sevir.2G127900",
         "type": "scatter",
         "uid": "fbe2b57a-3633-11ea-9c5e-79fdfc20b759",
         "x": [
          "MeJA_Control-48h_L",
          "MeJA_MeJA-1h_L",
          "MeJA_MeJA-4h_L",
          "MeJA_MeJA-8h_L",
          "MeJA_MeJA-24h_L",
          "MeJA_MeJA-48h_L",
          "MeJA_Control-1h_L",
          "MeJA_Control-4h_L",
          "MeJA_Control-8h_L",
          "MeJA_Control-24h_L"
         ],
         "y": [
          0,
          0.2,
          2,
          0,
          0,
          0,
          0,
          0,
          0,
          0
         ]
        },
        {
         "line": {
          "color": "#648177",
          "dash": "dash",
          "width": 4
         },
         "mode": "lines+markers",
         "name": "Sevir.5G129000",
         "type": "scatter",
         "uid": "fbe2b674-3633-11ea-9c5e-79fdfc20b759",
         "x": [
          "MeJA_Control-48h_L",
          "MeJA_MeJA-1h_L",
          "MeJA_MeJA-4h_L",
          "MeJA_MeJA-8h_L",
          "MeJA_MeJA-24h_L",
          "MeJA_MeJA-48h_L",
          "MeJA_Control-1h_L",
          "MeJA_Control-4h_L",
          "MeJA_Control-8h_L",
          "MeJA_Control-24h_L"
         ],
         "y": [
          1.960642,
          0.590782,
          6.4625425000000005,
          3.0665000000000004,
          3.7955059999999996,
          3.5512799999999998,
          2.763682,
          4.797856,
          0.811788,
          2.357076
         ]
        },
        {
         "line": {
          "color": "#0d5ac1",
          "dash": "solid",
          "width": 4
         },
         "mode": "lines+markers",
         "name": "Sevir.2G354400",
         "type": "scatter",
         "uid": "fbe2b764-3633-11ea-9c5e-79fdfc20b759",
         "x": [
          "MeJA_Control-48h_L",
          "MeJA_MeJA-1h_L",
          "MeJA_MeJA-4h_L",
          "MeJA_MeJA-8h_L",
          "MeJA_MeJA-24h_L",
          "MeJA_MeJA-48h_L",
          "MeJA_Control-1h_L",
          "MeJA_Control-4h_L",
          "MeJA_Control-8h_L",
          "MeJA_Control-24h_L"
         ],
         "y": [
          0.2,
          0,
          1,
          0,
          1,
          0.2,
          0,
          0.2,
          0,
          0.4
         ]
        },
        {
         "line": {
          "color": "#f205e6",
          "dash": "dot",
          "width": 4
         },
         "mode": "lines+markers",
         "name": "Sevir.2G152600",
         "type": "scatter",
         "uid": "fbe2b908-3633-11ea-9c5e-79fdfc20b759",
         "x": [
          "MeJA_Control-48h_L",
          "MeJA_MeJA-1h_L",
          "MeJA_MeJA-4h_L",
          "MeJA_MeJA-8h_L",
          "MeJA_MeJA-24h_L",
          "MeJA_MeJA-48h_L",
          "MeJA_Control-1h_L",
          "MeJA_Control-4h_L",
          "MeJA_Control-8h_L",
          "MeJA_Control-24h_L"
         ],
         "y": [
          0.2,
          0,
          0.75,
          0,
          0.4,
          0.2,
          0,
          0,
          0,
          0.4
         ]
        },
        {
         "line": {
          "color": "#1c0365",
          "dash": "dash",
          "width": 4
         },
         "mode": "lines+markers",
         "name": "Sevir.7G023700",
         "type": "scatter",
         "uid": "fbe2ba0c-3633-11ea-9c5e-79fdfc20b759",
         "x": [
          "MeJA_Control-48h_L",
          "MeJA_MeJA-1h_L",
          "MeJA_MeJA-4h_L",
          "MeJA_MeJA-8h_L",
          "MeJA_MeJA-24h_L",
          "MeJA_MeJA-48h_L",
          "MeJA_Control-1h_L",
          "MeJA_Control-4h_L",
          "MeJA_Control-8h_L",
          "MeJA_Control-24h_L"
         ],
         "y": [
          0.4,
          1.362008,
          2.44656025,
          0.927106,
          0.560828,
          0,
          0,
          0.2,
          0,
          0.6533979999999999
         ]
        },
        {
         "line": {
          "color": "#14a9ad",
          "dash": "solid",
          "width": 4
         },
         "mode": "lines+markers",
         "name": "Sevir.4G118900",
         "type": "scatter",
         "uid": "fbe2bafc-3633-11ea-9c5e-79fdfc20b759",
         "x": [
          "MeJA_Control-48h_L",
          "MeJA_MeJA-1h_L",
          "MeJA_MeJA-4h_L",
          "MeJA_MeJA-8h_L",
          "MeJA_MeJA-24h_L",
          "MeJA_MeJA-48h_L",
          "MeJA_Control-1h_L",
          "MeJA_Control-4h_L",
          "MeJA_Control-8h_L",
          "MeJA_Control-24h_L"
         ],
         "y": [
          0.4,
          1,
          3,
          0.8,
          0.8,
          1.6,
          0.8,
          0.8,
          0.6,
          0.6
         ]
        },
        {
         "line": {
          "color": "#4ca2f9",
          "dash": "dot",
          "width": 4
         },
         "mode": "lines+markers",
         "name": "Sevir.8G081600",
         "type": "scatter",
         "uid": "fbe2bbe2-3633-11ea-9c5e-79fdfc20b759",
         "x": [
          "MeJA_Control-48h_L",
          "MeJA_MeJA-1h_L",
          "MeJA_MeJA-4h_L",
          "MeJA_MeJA-8h_L",
          "MeJA_MeJA-24h_L",
          "MeJA_MeJA-48h_L",
          "MeJA_Control-1h_L",
          "MeJA_Control-4h_L",
          "MeJA_Control-8h_L",
          "MeJA_Control-24h_L"
         ],
         "y": [
          0,
          0.1998328,
          1.9972375,
          0.1997066,
          0.399752,
          0.598986,
          0,
          0.1997662,
          0.1998642,
          0
         ]
        },
        {
         "line": {
          "color": "#a4e43f",
          "dash": "dash",
          "width": 4
         },
         "mode": "lines+markers",
         "name": "Sevir.5G364132",
         "type": "scatter",
         "uid": "fbe2bcd2-3633-11ea-9c5e-79fdfc20b759",
         "x": [
          "MeJA_Control-48h_L",
          "MeJA_MeJA-1h_L",
          "MeJA_MeJA-4h_L",
          "MeJA_MeJA-8h_L",
          "MeJA_MeJA-24h_L",
          "MeJA_MeJA-48h_L",
          "MeJA_Control-1h_L",
          "MeJA_Control-4h_L",
          "MeJA_Control-8h_L",
          "MeJA_Control-24h_L"
         ],
         "y": [
          0.981484,
          0.8,
          1.5,
          0.2,
          0.2,
          0.2,
          0.2,
          0.2,
          0,
          0
         ]
        },
        {
         "line": {
          "color": "#d298e2",
          "dash": "solid",
          "width": 4
         },
         "mode": "lines+markers",
         "name": "Sevir.4G263301",
         "type": "scatter",
         "uid": "fbe2bdb8-3633-11ea-9c5e-79fdfc20b759",
         "x": [
          "MeJA_Control-48h_L",
          "MeJA_MeJA-1h_L",
          "MeJA_MeJA-4h_L",
          "MeJA_MeJA-8h_L",
          "MeJA_MeJA-24h_L",
          "MeJA_MeJA-48h_L",
          "MeJA_Control-1h_L",
          "MeJA_Control-4h_L",
          "MeJA_Control-8h_L",
          "MeJA_Control-24h_L"
         ],
         "y": [
          0,
          0.6,
          1,
          0.2,
          0.6,
          0,
          0,
          0.2,
          0.4,
          0.2
         ]
        },
        {
         "line": {
          "color": "#6119d0",
          "dash": "dot",
          "width": 4
         },
         "mode": "lines+markers",
         "name": "Sevir.9G099466",
         "type": "scatter",
         "uid": "fbe2be94-3633-11ea-9c5e-79fdfc20b759",
         "x": [
          "MeJA_Control-48h_L",
          "MeJA_MeJA-1h_L",
          "MeJA_MeJA-4h_L",
          "MeJA_MeJA-8h_L",
          "MeJA_MeJA-24h_L",
          "MeJA_MeJA-48h_L",
          "MeJA_Control-1h_L",
          "MeJA_Control-4h_L",
          "MeJA_Control-8h_L",
          "MeJA_Control-24h_L"
         ],
         "y": [
          0,
          0.2,
          0.5,
          0,
          0,
          0,
          0,
          0,
          0,
          0.2
         ]
        },
        {
         "line": {
          "color": "#d2737d",
          "dash": "dash",
          "width": 4
         },
         "mode": "lines+markers",
         "name": "Sevir.9G078500",
         "type": "scatter",
         "uid": "fbe2bf7a-3633-11ea-9c5e-79fdfc20b759",
         "x": [
          "MeJA_Control-48h_L",
          "MeJA_MeJA-1h_L",
          "MeJA_MeJA-4h_L",
          "MeJA_MeJA-8h_L",
          "MeJA_MeJA-24h_L",
          "MeJA_MeJA-48h_L",
          "MeJA_Control-1h_L",
          "MeJA_Control-4h_L",
          "MeJA_Control-8h_L",
          "MeJA_Control-24h_L"
         ],
         "y": [
          0,
          0,
          0.75,
          0,
          0.2,
          0,
          0.2,
          0,
          0,
          0.2
         ]
        },
        {
         "line": {
          "color": "#c0a43c",
          "dash": "solid",
          "width": 4
         },
         "mode": "lines+markers",
         "name": "Sevir.2G263800",
         "type": "scatter",
         "uid": "fbe2c060-3633-11ea-9c5e-79fdfc20b759",
         "x": [
          "MeJA_Control-48h_L",
          "MeJA_MeJA-1h_L",
          "MeJA_MeJA-4h_L",
          "MeJA_MeJA-8h_L",
          "MeJA_MeJA-24h_L",
          "MeJA_MeJA-48h_L",
          "MeJA_Control-1h_L",
          "MeJA_Control-4h_L",
          "MeJA_Control-8h_L",
          "MeJA_Control-24h_L"
         ],
         "y": [
          0,
          0,
          0.25,
          0,
          0,
          0,
          0,
          0,
          0,
          0
         ]
        },
        {
         "line": {
          "color": "#f2510e",
          "dash": "dot",
          "width": 4
         },
         "mode": "lines+markers",
         "name": "Sevir.8G218520",
         "type": "scatter",
         "uid": "fbe2c146-3633-11ea-9c5e-79fdfc20b759",
         "x": [
          "MeJA_Control-48h_L",
          "MeJA_MeJA-1h_L",
          "MeJA_MeJA-4h_L",
          "MeJA_MeJA-8h_L",
          "MeJA_MeJA-24h_L",
          "MeJA_MeJA-48h_L",
          "MeJA_Control-1h_L",
          "MeJA_Control-4h_L",
          "MeJA_Control-8h_L",
          "MeJA_Control-24h_L"
         ],
         "y": [
          0,
          0,
          0.75,
          0,
          0.2,
          0,
          0,
          0.2,
          0,
          0.2
         ]
        },
        {
         "line": {
          "color": "#651be6",
          "dash": "dash",
          "width": 4
         },
         "mode": "lines+markers",
         "name": "Sevir.3G390900",
         "type": "scatter",
         "uid": "fbe2c22c-3633-11ea-9c5e-79fdfc20b759",
         "x": [
          "MeJA_Control-48h_L",
          "MeJA_MeJA-1h_L",
          "MeJA_MeJA-4h_L",
          "MeJA_MeJA-8h_L",
          "MeJA_MeJA-24h_L",
          "MeJA_MeJA-48h_L",
          "MeJA_Control-1h_L",
          "MeJA_Control-4h_L",
          "MeJA_Control-8h_L",
          "MeJA_Control-24h_L"
         ],
         "y": [
          0.2,
          0,
          1,
          0,
          0.2,
          0,
          0,
          0.2,
          0,
          0
         ]
        },
        {
         "line": {
          "color": "#79806e",
          "dash": "solid",
          "width": 4
         },
         "mode": "lines+markers",
         "name": "Sevir.9G165400",
         "type": "scatter",
         "uid": "fbe2c31c-3633-11ea-9c5e-79fdfc20b759",
         "x": [
          "MeJA_Control-48h_L",
          "MeJA_MeJA-1h_L",
          "MeJA_MeJA-4h_L",
          "MeJA_MeJA-8h_L",
          "MeJA_MeJA-24h_L",
          "MeJA_MeJA-48h_L",
          "MeJA_Control-1h_L",
          "MeJA_Control-4h_L",
          "MeJA_Control-8h_L",
          "MeJA_Control-24h_L"
         ],
         "y": [
          0,
          0.47497,
          0.5,
          0.2,
          0.231468,
          0,
          0,
          0,
          0,
          0.6
         ]
        },
        {
         "line": {
          "color": "#61da5e",
          "dash": "dot",
          "width": 4
         },
         "mode": "lines+markers",
         "name": "Sevir.8G245140",
         "type": "scatter",
         "uid": "fbe2c402-3633-11ea-9c5e-79fdfc20b759",
         "x": [
          "MeJA_Control-48h_L",
          "MeJA_MeJA-1h_L",
          "MeJA_MeJA-4h_L",
          "MeJA_MeJA-8h_L",
          "MeJA_MeJA-24h_L",
          "MeJA_MeJA-48h_L",
          "MeJA_Control-1h_L",
          "MeJA_Control-4h_L",
          "MeJA_Control-8h_L",
          "MeJA_Control-24h_L"
         ],
         "y": [
          0.4,
          0.6,
          0.75,
          0.4,
          0.2,
          0,
          0,
          0.2,
          0,
          0.4
         ]
        },
        {
         "line": {
          "color": "#cd2f00",
          "dash": "dash",
          "width": 4
         },
         "mode": "lines+markers",
         "name": "Sevir.8G087000",
         "type": "scatter",
         "uid": "fbe2c4e8-3633-11ea-9c5e-79fdfc20b759",
         "x": [
          "MeJA_Control-48h_L",
          "MeJA_MeJA-1h_L",
          "MeJA_MeJA-4h_L",
          "MeJA_MeJA-8h_L",
          "MeJA_MeJA-24h_L",
          "MeJA_MeJA-48h_L",
          "MeJA_Control-1h_L",
          "MeJA_Control-4h_L",
          "MeJA_Control-8h_L",
          "MeJA_Control-24h_L"
         ],
         "y": [
          0,
          0,
          0.5,
          0,
          0,
          0,
          0,
          0,
          0,
          0
         ]
        },
        {
         "line": {
          "color": "#9348af",
          "dash": "solid",
          "width": 4
         },
         "mode": "lines+markers",
         "name": "Sevir.9G576201",
         "type": "scatter",
         "uid": "fbe2c5ce-3633-11ea-9c5e-79fdfc20b759",
         "x": [
          "MeJA_Control-48h_L",
          "MeJA_MeJA-1h_L",
          "MeJA_MeJA-4h_L",
          "MeJA_MeJA-8h_L",
          "MeJA_MeJA-24h_L",
          "MeJA_MeJA-48h_L",
          "MeJA_Control-1h_L",
          "MeJA_Control-4h_L",
          "MeJA_Control-8h_L",
          "MeJA_Control-24h_L"
         ],
         "y": [
          0,
          0,
          1,
          0,
          0.1966706,
          0,
          0,
          1.4,
          0,
          0
         ]
        },
        {
         "line": {
          "color": "#01ac53",
          "dash": "dot",
          "width": 4
         },
         "mode": "lines+markers",
         "name": "Sevir.5G470750",
         "type": "scatter",
         "uid": "fbe2c6b4-3633-11ea-9c5e-79fdfc20b759",
         "x": [
          "MeJA_Control-48h_L",
          "MeJA_MeJA-1h_L",
          "MeJA_MeJA-4h_L",
          "MeJA_MeJA-8h_L",
          "MeJA_MeJA-24h_L",
          "MeJA_MeJA-48h_L",
          "MeJA_Control-1h_L",
          "MeJA_Control-4h_L",
          "MeJA_Control-8h_L",
          "MeJA_Control-24h_L"
         ],
         "y": [
          1.840924,
          0.6,
          2,
          1.688164,
          2.73893,
          1.2,
          0,
          0.6,
          1.0198779999999998,
          1.611558
         ]
        },
        {
         "line": {
          "color": "#c5a4fb",
          "dash": "dash",
          "width": 4
         },
         "mode": "lines+markers",
         "name": "Sevir.1G060850",
         "type": "scatter",
         "uid": "fbe2c79a-3633-11ea-9c5e-79fdfc20b759",
         "x": [
          "MeJA_Control-48h_L",
          "MeJA_MeJA-1h_L",
          "MeJA_MeJA-4h_L",
          "MeJA_MeJA-8h_L",
          "MeJA_MeJA-24h_L",
          "MeJA_MeJA-48h_L",
          "MeJA_Control-1h_L",
          "MeJA_Control-4h_L",
          "MeJA_Control-8h_L",
          "MeJA_Control-24h_L"
         ],
         "y": [
          0.2,
          0,
          0.25,
          0,
          0,
          0,
          0,
          0,
          0,
          0
         ]
        },
        {
         "line": {
          "color": "#996635",
          "dash": "solid",
          "width": 4
         },
         "mode": "lines+markers",
         "name": "Sevir.2G280500",
         "type": "scatter",
         "uid": "fbe2c876-3633-11ea-9c5e-79fdfc20b759",
         "x": [
          "MeJA_Control-48h_L",
          "MeJA_MeJA-1h_L",
          "MeJA_MeJA-4h_L",
          "MeJA_MeJA-8h_L",
          "MeJA_MeJA-24h_L",
          "MeJA_MeJA-48h_L",
          "MeJA_Control-1h_L",
          "MeJA_Control-4h_L",
          "MeJA_Control-8h_L",
          "MeJA_Control-24h_L"
         ],
         "y": [
          0,
          0,
          0.5817,
          0,
          0,
          0,
          0.23170000000000002,
          0,
          0,
          0
         ]
        },
        {
         "line": {
          "color": "#b11573",
          "dash": "dot",
          "width": 4
         },
         "mode": "lines+markers",
         "name": "Sevir.9G268200",
         "type": "scatter",
         "uid": "fbe2c95c-3633-11ea-9c5e-79fdfc20b759",
         "x": [
          "MeJA_Control-48h_L",
          "MeJA_MeJA-1h_L",
          "MeJA_MeJA-4h_L",
          "MeJA_MeJA-8h_L",
          "MeJA_MeJA-24h_L",
          "MeJA_MeJA-48h_L",
          "MeJA_Control-1h_L",
          "MeJA_Control-4h_L",
          "MeJA_Control-8h_L",
          "MeJA_Control-24h_L"
         ],
         "y": [
          0.6,
          1.4,
          1.5,
          0.2,
          0.2,
          0.4,
          0.6,
          0.2,
          0.2,
          0.2
         ]
        },
        {
         "line": {
          "color": "#4bb473",
          "dash": "dash",
          "width": 4
         },
         "mode": "lines+markers",
         "name": "Sevir.4G143101",
         "type": "scatter",
         "uid": "fbe2ca42-3633-11ea-9c5e-79fdfc20b759",
         "x": [
          "MeJA_Control-48h_L",
          "MeJA_MeJA-1h_L",
          "MeJA_MeJA-4h_L",
          "MeJA_MeJA-8h_L",
          "MeJA_MeJA-24h_L",
          "MeJA_MeJA-48h_L",
          "MeJA_Control-1h_L",
          "MeJA_Control-4h_L",
          "MeJA_Control-8h_L",
          "MeJA_Control-24h_L"
         ],
         "y": [
          0,
          0,
          1.3611475,
          0,
          0,
          0.986044,
          0.437806,
          0.44435,
          0,
          0.559822
         ]
        },
        {
         "line": {
          "color": "#75d89e",
          "dash": "solid",
          "width": 4
         },
         "mode": "lines+markers",
         "name": "Sevir.2G342800",
         "type": "scatter",
         "uid": "fbe2cb1e-3633-11ea-9c5e-79fdfc20b759",
         "x": [
          "MeJA_Control-48h_L",
          "MeJA_MeJA-1h_L",
          "MeJA_MeJA-4h_L",
          "MeJA_MeJA-8h_L",
          "MeJA_MeJA-24h_L",
          "MeJA_MeJA-48h_L",
          "MeJA_Control-1h_L",
          "MeJA_Control-4h_L",
          "MeJA_Control-8h_L",
          "MeJA_Control-24h_L"
         ],
         "y": [
          0,
          0,
          0.5,
          0,
          0,
          0,
          0,
          0,
          0,
          0.2
         ]
        },
        {
         "line": {
          "color": "#2f3f94",
          "dash": "dot",
          "width": 4
         },
         "mode": "lines+markers",
         "name": "Sevir.1G019900",
         "type": "scatter",
         "uid": "fbe2cc0e-3633-11ea-9c5e-79fdfc20b759",
         "x": [
          "MeJA_Control-48h_L",
          "MeJA_MeJA-1h_L",
          "MeJA_MeJA-4h_L",
          "MeJA_MeJA-8h_L",
          "MeJA_MeJA-24h_L",
          "MeJA_MeJA-48h_L",
          "MeJA_Control-1h_L",
          "MeJA_Control-4h_L",
          "MeJA_Control-8h_L",
          "MeJA_Control-24h_L"
         ],
         "y": [
          0,
          0.4,
          1.25,
          0.2,
          0.4,
          1,
          0,
          0.8,
          1.2,
          2
         ]
        },
        {
         "line": {
          "color": "#2f7b99",
          "dash": "dash",
          "width": 4
         },
         "mode": "lines+markers",
         "name": "Sevir.3G353500",
         "type": "scatter",
         "uid": "fbe2ccea-3633-11ea-9c5e-79fdfc20b759",
         "x": [
          "MeJA_Control-48h_L",
          "MeJA_MeJA-1h_L",
          "MeJA_MeJA-4h_L",
          "MeJA_MeJA-8h_L",
          "MeJA_MeJA-24h_L",
          "MeJA_MeJA-48h_L",
          "MeJA_Control-1h_L",
          "MeJA_Control-4h_L",
          "MeJA_Control-8h_L",
          "MeJA_Control-24h_L"
         ],
         "y": [
          0,
          0,
          0.25,
          0,
          0,
          0,
          0,
          0,
          0,
          0
         ]
        },
        {
         "line": {
          "color": "#da967d",
          "dash": "solid",
          "width": 4
         },
         "mode": "lines+markers",
         "name": "Sevir.7G189700",
         "type": "scatter",
         "uid": "fbe2cdc6-3633-11ea-9c5e-79fdfc20b759",
         "x": [
          "MeJA_Control-48h_L",
          "MeJA_MeJA-1h_L",
          "MeJA_MeJA-4h_L",
          "MeJA_MeJA-8h_L",
          "MeJA_MeJA-24h_L",
          "MeJA_MeJA-48h_L",
          "MeJA_Control-1h_L",
          "MeJA_Control-4h_L",
          "MeJA_Control-8h_L",
          "MeJA_Control-24h_L"
         ],
         "y": [
          0,
          0,
          1,
          0,
          0,
          0,
          0,
          0,
          0,
          0
         ]
        },
        {
         "line": {
          "color": "#34891f",
          "dash": "dot",
          "width": 4
         },
         "mode": "lines+markers",
         "name": "Sevir.4G118600",
         "type": "scatter",
         "uid": "fbe2ceac-3633-11ea-9c5e-79fdfc20b759",
         "x": [
          "MeJA_Control-48h_L",
          "MeJA_MeJA-1h_L",
          "MeJA_MeJA-4h_L",
          "MeJA_MeJA-8h_L",
          "MeJA_MeJA-24h_L",
          "MeJA_MeJA-48h_L",
          "MeJA_Control-1h_L",
          "MeJA_Control-4h_L",
          "MeJA_Control-8h_L",
          "MeJA_Control-24h_L"
         ],
         "y": [
          0,
          0,
          1.25,
          0,
          0.036327399999999996,
          0,
          0.4,
          0.21816399999999997,
          0,
          0
         ]
        },
        {
         "line": {
          "color": "#b0d87b",
          "dash": "dash",
          "width": 4
         },
         "mode": "lines+markers",
         "name": "Sevir.5G315900",
         "type": "scatter",
         "uid": "fbe2cf88-3633-11ea-9c5e-79fdfc20b759",
         "x": [
          "MeJA_Control-48h_L",
          "MeJA_MeJA-1h_L",
          "MeJA_MeJA-4h_L",
          "MeJA_MeJA-8h_L",
          "MeJA_MeJA-24h_L",
          "MeJA_MeJA-48h_L",
          "MeJA_Control-1h_L",
          "MeJA_Control-4h_L",
          "MeJA_Control-8h_L",
          "MeJA_Control-24h_L"
         ],
         "y": [
          0,
          0.6,
          0.75,
          0,
          0.4,
          0,
          0.2,
          0,
          0,
          0.2
         ]
        },
        {
         "line": {
          "color": "#ca4751",
          "dash": "solid",
          "width": 4
         },
         "mode": "lines+markers",
         "name": "Sevir.1G110232",
         "type": "scatter",
         "uid": "fbe2d06e-3633-11ea-9c5e-79fdfc20b759",
         "x": [
          "MeJA_Control-48h_L",
          "MeJA_MeJA-1h_L",
          "MeJA_MeJA-4h_L",
          "MeJA_MeJA-8h_L",
          "MeJA_MeJA-24h_L",
          "MeJA_MeJA-48h_L",
          "MeJA_Control-1h_L",
          "MeJA_Control-4h_L",
          "MeJA_Control-8h_L",
          "MeJA_Control-24h_L"
         ],
         "y": [
          0,
          0.4,
          0.75,
          0.2,
          0,
          0,
          0,
          0,
          0,
          0
         ]
        },
        {
         "line": {
          "color": "#7e50a8",
          "dash": "dot",
          "width": 4
         },
         "mode": "lines+markers",
         "name": "Sevir.5G206100",
         "type": "scatter",
         "uid": "fbe2d154-3633-11ea-9c5e-79fdfc20b759",
         "x": [
          "MeJA_Control-48h_L",
          "MeJA_MeJA-1h_L",
          "MeJA_MeJA-4h_L",
          "MeJA_MeJA-8h_L",
          "MeJA_MeJA-24h_L",
          "MeJA_MeJA-48h_L",
          "MeJA_Control-1h_L",
          "MeJA_Control-4h_L",
          "MeJA_Control-8h_L",
          "MeJA_Control-24h_L"
         ],
         "y": [
          0,
          0.2,
          1.5,
          0,
          0.4,
          0,
          0.8,
          0,
          0,
          0
         ]
        },
        {
         "line": {
          "color": "#c4d647",
          "dash": "dash",
          "width": 4
         },
         "mode": "lines+markers",
         "name": "Sevir.3G353200",
         "type": "scatter",
         "uid": "fbe2d230-3633-11ea-9c5e-79fdfc20b759",
         "x": [
          "MeJA_Control-48h_L",
          "MeJA_MeJA-1h_L",
          "MeJA_MeJA-4h_L",
          "MeJA_MeJA-8h_L",
          "MeJA_MeJA-24h_L",
          "MeJA_MeJA-48h_L",
          "MeJA_Control-1h_L",
          "MeJA_Control-4h_L",
          "MeJA_Control-8h_L",
          "MeJA_Control-24h_L"
         ],
         "y": [
          0.2,
          0.6,
          0.75,
          0,
          0.2,
          0,
          0,
          0,
          0,
          0
         ]
        },
        {
         "line": {
          "color": "#e0eeb8",
          "dash": "solid",
          "width": 4
         },
         "mode": "lines+markers",
         "name": "Sevir.4G093300",
         "type": "scatter",
         "uid": "fbe2d30c-3633-11ea-9c5e-79fdfc20b759",
         "x": [
          "MeJA_Control-48h_L",
          "MeJA_MeJA-1h_L",
          "MeJA_MeJA-4h_L",
          "MeJA_MeJA-8h_L",
          "MeJA_MeJA-24h_L",
          "MeJA_MeJA-48h_L",
          "MeJA_Control-1h_L",
          "MeJA_Control-4h_L",
          "MeJA_Control-8h_L",
          "MeJA_Control-24h_L"
         ],
         "y": [
          1.2,
          2,
          3.25,
          0.4,
          2.4,
          0.6,
          1.2,
          0.6,
          1,
          1.4
         ]
        },
        {
         "line": {
          "color": "#11dec1",
          "dash": "dot",
          "width": 4
         },
         "mode": "lines+markers",
         "name": "Sevir.1G171100",
         "type": "scatter",
         "uid": "fbe2d3f2-3633-11ea-9c5e-79fdfc20b759",
         "x": [
          "MeJA_Control-48h_L",
          "MeJA_MeJA-1h_L",
          "MeJA_MeJA-4h_L",
          "MeJA_MeJA-8h_L",
          "MeJA_MeJA-24h_L",
          "MeJA_MeJA-48h_L",
          "MeJA_Control-1h_L",
          "MeJA_Control-4h_L",
          "MeJA_Control-8h_L",
          "MeJA_Control-24h_L"
         ],
         "y": [
          0,
          0,
          1.25,
          0,
          0,
          0,
          0,
          0,
          0,
          0.2
         ]
        },
        {
         "line": {
          "color": "#289812",
          "dash": "dash",
          "width": 4
         },
         "mode": "lines+markers",
         "name": "Sevir.2G305750",
         "type": "scatter",
         "uid": "fbe2d4d8-3633-11ea-9c5e-79fdfc20b759",
         "x": [
          "MeJA_Control-48h_L",
          "MeJA_MeJA-1h_L",
          "MeJA_MeJA-4h_L",
          "MeJA_MeJA-8h_L",
          "MeJA_MeJA-24h_L",
          "MeJA_MeJA-48h_L",
          "MeJA_Control-1h_L",
          "MeJA_Control-4h_L",
          "MeJA_Control-8h_L",
          "MeJA_Control-24h_L"
         ],
         "y": [
          0.9642898200000001,
          6.3237879999999995,
          5.023945,
          0.368448,
          0,
          1.5991139999999997,
          0.48827800000000005,
          0,
          0.583416,
          0.309218
         ]
        },
        {
         "line": {
          "color": "#566ca0",
          "dash": "solid",
          "width": 4
         },
         "mode": "lines+markers",
         "name": "Sevir.9G169700",
         "type": "scatter",
         "uid": "fbe2d5be-3633-11ea-9c5e-79fdfc20b759",
         "x": [
          "MeJA_Control-48h_L",
          "MeJA_MeJA-1h_L",
          "MeJA_MeJA-4h_L",
          "MeJA_MeJA-8h_L",
          "MeJA_MeJA-24h_L",
          "MeJA_MeJA-48h_L",
          "MeJA_Control-1h_L",
          "MeJA_Control-4h_L",
          "MeJA_Control-8h_L",
          "MeJA_Control-24h_L"
         ],
         "y": [
          0,
          0,
          0,
          0,
          0,
          0,
          0,
          0,
          0,
          0
         ]
        },
        {
         "line": {
          "color": "#ffdbe1",
          "dash": "dot",
          "width": 4
         },
         "mode": "lines+markers",
         "name": "Sevir.1G020800",
         "type": "scatter",
         "uid": "fbe2d6a4-3633-11ea-9c5e-79fdfc20b759",
         "x": [
          "MeJA_Control-48h_L",
          "MeJA_MeJA-1h_L",
          "MeJA_MeJA-4h_L",
          "MeJA_MeJA-8h_L",
          "MeJA_MeJA-24h_L",
          "MeJA_MeJA-48h_L",
          "MeJA_Control-1h_L",
          "MeJA_Control-4h_L",
          "MeJA_Control-8h_L",
          "MeJA_Control-24h_L"
         ],
         "y": [
          0.2,
          0.2,
          0.5,
          0.2,
          0.2,
          0.2,
          0.4,
          0.8,
          0.2,
          0.4
         ]
        },
        {
         "line": {
          "color": "#2f1179",
          "dash": "dash",
          "width": 4
         },
         "mode": "lines+markers",
         "name": "Sevir.5G194900",
         "type": "scatter",
         "uid": "fbe2d78a-3633-11ea-9c5e-79fdfc20b759",
         "x": [
          "MeJA_Control-48h_L",
          "MeJA_MeJA-1h_L",
          "MeJA_MeJA-4h_L",
          "MeJA_MeJA-8h_L",
          "MeJA_MeJA-24h_L",
          "MeJA_MeJA-48h_L",
          "MeJA_Control-1h_L",
          "MeJA_Control-4h_L",
          "MeJA_Control-8h_L",
          "MeJA_Control-24h_L"
         ],
         "y": [
          0,
          0.2,
          0.5,
          0,
          0,
          0.2,
          0,
          0,
          0,
          0
         ]
        },
        {
         "line": {
          "color": "#935b6d",
          "dash": "solid",
          "width": 4
         },
         "mode": "lines+markers",
         "name": "Sevir.6G028050",
         "type": "scatter",
         "uid": "fbe2d866-3633-11ea-9c5e-79fdfc20b759",
         "x": [
          "MeJA_Control-48h_L",
          "MeJA_MeJA-1h_L",
          "MeJA_MeJA-4h_L",
          "MeJA_MeJA-8h_L",
          "MeJA_MeJA-24h_L",
          "MeJA_MeJA-48h_L",
          "MeJA_Control-1h_L",
          "MeJA_Control-4h_L",
          "MeJA_Control-8h_L",
          "MeJA_Control-24h_L"
         ],
         "y": [
          0,
          0,
          0.75,
          0,
          0.2,
          0.787172,
          0,
          0,
          0,
          0.2
         ]
        },
        {
         "line": {
          "color": "#916988",
          "dash": "dot",
          "width": 4
         },
         "mode": "lines+markers",
         "name": "Sevir.2G003200",
         "type": "scatter",
         "uid": "fbe2d94c-3633-11ea-9c5e-79fdfc20b759",
         "x": [
          "MeJA_Control-48h_L",
          "MeJA_MeJA-1h_L",
          "MeJA_MeJA-4h_L",
          "MeJA_MeJA-8h_L",
          "MeJA_MeJA-24h_L",
          "MeJA_MeJA-48h_L",
          "MeJA_Control-1h_L",
          "MeJA_Control-4h_L",
          "MeJA_Control-8h_L",
          "MeJA_Control-24h_L"
         ],
         "y": [
          0,
          0.2,
          1.25,
          0.2,
          0,
          0.6,
          0,
          0.2,
          0,
          0
         ]
        },
        {
         "line": {
          "color": "#513d98",
          "dash": "dash",
          "width": 4
         },
         "mode": "lines+markers",
         "name": "Sevir.8G079100",
         "type": "scatter",
         "uid": "fbe2da28-3633-11ea-9c5e-79fdfc20b759",
         "x": [
          "MeJA_Control-48h_L",
          "MeJA_MeJA-1h_L",
          "MeJA_MeJA-4h_L",
          "MeJA_MeJA-8h_L",
          "MeJA_MeJA-24h_L",
          "MeJA_MeJA-48h_L",
          "MeJA_Control-1h_L",
          "MeJA_Control-4h_L",
          "MeJA_Control-8h_L",
          "MeJA_Control-24h_L"
         ],
         "y": [
          0,
          0,
          0.75,
          0,
          0,
          0,
          0,
          0,
          0,
          0
         ]
        },
        {
         "line": {
          "color": "#aead3a",
          "dash": "solid",
          "width": 4
         },
         "mode": "lines+markers",
         "name": "Sevir.4G293501",
         "type": "scatter",
         "uid": "fbe2db04-3633-11ea-9c5e-79fdfc20b759",
         "x": [
          "MeJA_Control-48h_L",
          "MeJA_MeJA-1h_L",
          "MeJA_MeJA-4h_L",
          "MeJA_MeJA-8h_L",
          "MeJA_MeJA-24h_L",
          "MeJA_MeJA-48h_L",
          "MeJA_Control-1h_L",
          "MeJA_Control-4h_L",
          "MeJA_Control-8h_L",
          "MeJA_Control-24h_L"
         ],
         "y": [
          0,
          0,
          0.1452915,
          0,
          0,
          0,
          0,
          0.07435,
          0,
          0
         ]
        },
        {
         "line": {
          "color": "#9e6d71",
          "dash": "dot",
          "width": 4
         },
         "mode": "lines+markers",
         "name": "Sevir.7G022900",
         "type": "scatter",
         "uid": "fbe2dbea-3633-11ea-9c5e-79fdfc20b759",
         "x": [
          "MeJA_Control-48h_L",
          "MeJA_MeJA-1h_L",
          "MeJA_MeJA-4h_L",
          "MeJA_MeJA-8h_L",
          "MeJA_MeJA-24h_L",
          "MeJA_MeJA-48h_L",
          "MeJA_Control-1h_L",
          "MeJA_Control-4h_L",
          "MeJA_Control-8h_L",
          "MeJA_Control-24h_L"
         ],
         "y": [
          0,
          0,
          0.25,
          0,
          0,
          0,
          0,
          0,
          0,
          0
         ]
        },
        {
         "line": {
          "color": "#4b5bdc",
          "dash": "dash",
          "width": 4
         },
         "mode": "lines+markers",
         "name": "Sevir.8G165900",
         "type": "scatter",
         "uid": "fbe2dcd0-3633-11ea-9c5e-79fdfc20b759",
         "x": [
          "MeJA_Control-48h_L",
          "MeJA_MeJA-1h_L",
          "MeJA_MeJA-4h_L",
          "MeJA_MeJA-8h_L",
          "MeJA_MeJA-24h_L",
          "MeJA_MeJA-48h_L",
          "MeJA_Control-1h_L",
          "MeJA_Control-4h_L",
          "MeJA_Control-8h_L",
          "MeJA_Control-24h_L"
         ],
         "y": [
          0,
          0,
          0.25,
          0,
          0,
          0,
          0,
          0,
          0,
          0
         ]
        },
        {
         "line": {
          "color": "#0cd36d",
          "dash": "solid",
          "width": 4
         },
         "mode": "lines+markers",
         "name": "Sevir.9G092300",
         "type": "scatter",
         "uid": "fbe2ddb6-3633-11ea-9c5e-79fdfc20b759",
         "x": [
          "MeJA_Control-48h_L",
          "MeJA_MeJA-1h_L",
          "MeJA_MeJA-4h_L",
          "MeJA_MeJA-8h_L",
          "MeJA_MeJA-24h_L",
          "MeJA_MeJA-48h_L",
          "MeJA_Control-1h_L",
          "MeJA_Control-4h_L",
          "MeJA_Control-8h_L",
          "MeJA_Control-24h_L"
         ],
         "y": [
          0,
          0,
          0.25,
          0,
          0,
          0,
          0,
          0,
          0,
          0
         ]
        },
        {
         "line": {
          "color": "#250662",
          "dash": "dot",
          "width": 4
         },
         "mode": "lines+markers",
         "name": "Sevir.6G113200",
         "type": "scatter",
         "uid": "fbe2de92-3633-11ea-9c5e-79fdfc20b759",
         "x": [
          "MeJA_Control-48h_L",
          "MeJA_MeJA-1h_L",
          "MeJA_MeJA-4h_L",
          "MeJA_MeJA-8h_L",
          "MeJA_MeJA-24h_L",
          "MeJA_MeJA-48h_L",
          "MeJA_Control-1h_L",
          "MeJA_Control-4h_L",
          "MeJA_Control-8h_L",
          "MeJA_Control-24h_L"
         ],
         "y": [
          0,
          0,
          1.25,
          0,
          0,
          0,
          0,
          0,
          0,
          0
         ]
        },
        {
         "line": {
          "color": "#cb5bea",
          "dash": "dash",
          "width": 4
         },
         "mode": "lines+markers",
         "name": "Sevir.4G160200",
         "type": "scatter",
         "uid": "fbe2dffa-3633-11ea-9c5e-79fdfc20b759",
         "x": [
          "MeJA_Control-48h_L",
          "MeJA_MeJA-1h_L",
          "MeJA_MeJA-4h_L",
          "MeJA_MeJA-8h_L",
          "MeJA_MeJA-24h_L",
          "MeJA_MeJA-48h_L",
          "MeJA_Control-1h_L",
          "MeJA_Control-4h_L",
          "MeJA_Control-8h_L",
          "MeJA_Control-24h_L"
         ],
         "y": [
          0,
          0,
          0.5,
          0,
          0,
          0,
          0,
          0,
          0,
          0
         ]
        },
        {
         "line": {
          "color": "#228916",
          "dash": "solid",
          "width": 4
         },
         "mode": "lines+markers",
         "name": "Sevir.5G037400",
         "type": "scatter",
         "uid": "fbe2e0f4-3633-11ea-9c5e-79fdfc20b759",
         "x": [
          "MeJA_Control-48h_L",
          "MeJA_MeJA-1h_L",
          "MeJA_MeJA-4h_L",
          "MeJA_MeJA-8h_L",
          "MeJA_MeJA-24h_L",
          "MeJA_MeJA-48h_L",
          "MeJA_Control-1h_L",
          "MeJA_Control-4h_L",
          "MeJA_Control-8h_L",
          "MeJA_Control-24h_L"
         ],
         "y": [
          0,
          0,
          0.5,
          0,
          0,
          0,
          0,
          0,
          0,
          0
         ]
        },
        {
         "line": {
          "color": "#ac3e1b",
          "dash": "dot",
          "width": 4
         },
         "mode": "lines+markers",
         "name": "Sevir.3G298200",
         "type": "scatter",
         "uid": "fbe2e1d0-3633-11ea-9c5e-79fdfc20b759",
         "x": [
          "MeJA_Control-48h_L",
          "MeJA_MeJA-1h_L",
          "MeJA_MeJA-4h_L",
          "MeJA_MeJA-8h_L",
          "MeJA_MeJA-24h_L",
          "MeJA_MeJA-48h_L",
          "MeJA_Control-1h_L",
          "MeJA_Control-4h_L",
          "MeJA_Control-8h_L",
          "MeJA_Control-24h_L"
         ],
         "y": [
          0,
          0,
          1.75,
          0,
          0,
          0,
          0,
          0,
          0,
          0
         ]
        },
        {
         "line": {
          "color": "#df514a",
          "dash": "dash",
          "width": 4
         },
         "mode": "lines+markers",
         "name": "Sevir.2G437300",
         "type": "scatter",
         "uid": "fbe2e2c0-3633-11ea-9c5e-79fdfc20b759",
         "x": [
          "MeJA_Control-48h_L",
          "MeJA_MeJA-1h_L",
          "MeJA_MeJA-4h_L",
          "MeJA_MeJA-8h_L",
          "MeJA_MeJA-24h_L",
          "MeJA_MeJA-48h_L",
          "MeJA_Control-1h_L",
          "MeJA_Control-4h_L",
          "MeJA_Control-8h_L",
          "MeJA_Control-24h_L"
         ],
         "y": [
          0,
          0,
          0.5,
          0,
          0,
          0,
          0,
          0,
          0,
          0
         ]
        },
        {
         "line": {
          "color": "#539397",
          "dash": "solid",
          "width": 4
         },
         "mode": "lines+markers",
         "name": "Sevir.9G095700",
         "type": "scatter",
         "uid": "fbe2e39c-3633-11ea-9c5e-79fdfc20b759",
         "x": [
          "MeJA_Control-48h_L",
          "MeJA_MeJA-1h_L",
          "MeJA_MeJA-4h_L",
          "MeJA_MeJA-8h_L",
          "MeJA_MeJA-24h_L",
          "MeJA_MeJA-48h_L",
          "MeJA_Control-1h_L",
          "MeJA_Control-4h_L",
          "MeJA_Control-8h_L",
          "MeJA_Control-24h_L"
         ],
         "y": [
          0.7823840000000001,
          0,
          3.76375,
          0.966526,
          0,
          0,
          1.0054960418719998,
          1.5363859999999998,
          0.397984,
          0.754926
         ]
        },
        {
         "line": {
          "color": "#880977",
          "dash": "dot",
          "width": 4
         },
         "mode": "lines+markers",
         "name": "Sevir.1G265000",
         "type": "scatter",
         "uid": "fbe2e482-3633-11ea-9c5e-79fdfc20b759",
         "x": [
          "MeJA_Control-48h_L",
          "MeJA_MeJA-1h_L",
          "MeJA_MeJA-4h_L",
          "MeJA_MeJA-8h_L",
          "MeJA_MeJA-24h_L",
          "MeJA_MeJA-48h_L",
          "MeJA_Control-1h_L",
          "MeJA_Control-4h_L",
          "MeJA_Control-8h_L",
          "MeJA_Control-24h_L"
         ],
         "y": [
          0,
          0,
          0.25,
          0,
          0,
          0,
          0,
          0,
          0,
          0
         ]
        },
        {
         "line": {
          "color": "#f697c1",
          "dash": "dash",
          "width": 4
         },
         "mode": "lines+markers",
         "name": "Sevir.5G418900",
         "type": "scatter",
         "uid": "fbe2e568-3633-11ea-9c5e-79fdfc20b759",
         "x": [
          "MeJA_Control-48h_L",
          "MeJA_MeJA-1h_L",
          "MeJA_MeJA-4h_L",
          "MeJA_MeJA-8h_L",
          "MeJA_MeJA-24h_L",
          "MeJA_MeJA-48h_L",
          "MeJA_Control-1h_L",
          "MeJA_Control-4h_L",
          "MeJA_Control-8h_L",
          "MeJA_Control-24h_L"
         ],
         "y": [
          0.2,
          0,
          0.75,
          0,
          0,
          0,
          0,
          0,
          0,
          0
         ]
        },
        {
         "line": {
          "color": "#ba96ce",
          "dash": "solid",
          "width": 4
         },
         "mode": "lines+markers",
         "name": "Sevir.8G237700",
         "type": "scatter",
         "uid": "fbe2e63a-3633-11ea-9c5e-79fdfc20b759",
         "x": [
          "MeJA_Control-48h_L",
          "MeJA_MeJA-1h_L",
          "MeJA_MeJA-4h_L",
          "MeJA_MeJA-8h_L",
          "MeJA_MeJA-24h_L",
          "MeJA_MeJA-48h_L",
          "MeJA_Control-1h_L",
          "MeJA_Control-4h_L",
          "MeJA_Control-8h_L",
          "MeJA_Control-24h_L"
         ],
         "y": [
          0.2,
          0,
          0.5,
          0,
          0,
          0,
          0,
          0,
          0,
          0.4
         ]
        },
        {
         "line": {
          "color": "#679c9d",
          "dash": "dot",
          "width": 4
         },
         "mode": "lines+markers",
         "name": "Sevir.2G177600",
         "type": "scatter",
         "uid": "fbe2e720-3633-11ea-9c5e-79fdfc20b759",
         "x": [
          "MeJA_Control-48h_L",
          "MeJA_MeJA-1h_L",
          "MeJA_MeJA-4h_L",
          "MeJA_MeJA-8h_L",
          "MeJA_MeJA-24h_L",
          "MeJA_MeJA-48h_L",
          "MeJA_Control-1h_L",
          "MeJA_Control-4h_L",
          "MeJA_Control-8h_L",
          "MeJA_Control-24h_L"
         ],
         "y": [
          0,
          0.4,
          1.75,
          0,
          0.2,
          0,
          0,
          0,
          0.2,
          0
         ]
        },
        {
         "line": {
          "color": "#c6c42c",
          "dash": "dash",
          "width": 4
         },
         "mode": "lines+markers",
         "name": "Sevir.9G253801",
         "type": "scatter",
         "uid": "fbe2e7fc-3633-11ea-9c5e-79fdfc20b759",
         "x": [
          "MeJA_Control-48h_L",
          "MeJA_MeJA-1h_L",
          "MeJA_MeJA-4h_L",
          "MeJA_MeJA-8h_L",
          "MeJA_MeJA-24h_L",
          "MeJA_MeJA-48h_L",
          "MeJA_Control-1h_L",
          "MeJA_Control-4h_L",
          "MeJA_Control-8h_L",
          "MeJA_Control-24h_L"
         ],
         "y": [
          0,
          0.8,
          1.25,
          0.4,
          0.4,
          0,
          0,
          0,
          0,
          0
         ]
        },
        {
         "line": {
          "color": "#5d2c52",
          "dash": "solid",
          "width": 4
         },
         "mode": "lines+markers",
         "name": "Sevir.6G183566",
         "type": "scatter",
         "uid": "fbe2e8e2-3633-11ea-9c5e-79fdfc20b759",
         "x": [
          "MeJA_Control-48h_L",
          "MeJA_MeJA-1h_L",
          "MeJA_MeJA-4h_L",
          "MeJA_MeJA-8h_L",
          "MeJA_MeJA-24h_L",
          "MeJA_MeJA-48h_L",
          "MeJA_Control-1h_L",
          "MeJA_Control-4h_L",
          "MeJA_Control-8h_L",
          "MeJA_Control-24h_L"
         ],
         "y": [
          0,
          0,
          0.25,
          0,
          0,
          0,
          0,
          0,
          0,
          0
         ]
        },
        {
         "line": {
          "color": "#48b41b",
          "dash": "dot",
          "width": 4
         },
         "mode": "lines+markers",
         "name": "Sevir.8G259500",
         "type": "scatter",
         "uid": "fbe2e9be-3633-11ea-9c5e-79fdfc20b759",
         "x": [
          "MeJA_Control-48h_L",
          "MeJA_MeJA-1h_L",
          "MeJA_MeJA-4h_L",
          "MeJA_MeJA-8h_L",
          "MeJA_MeJA-24h_L",
          "MeJA_MeJA-48h_L",
          "MeJA_Control-1h_L",
          "MeJA_Control-4h_L",
          "MeJA_Control-8h_L",
          "MeJA_Control-24h_L"
         ],
         "y": [
          1.2547899999999998,
          2.217476,
          1.7645225,
          1.090228,
          0.40253999999999995,
          1.5737979999999998,
          1.261546,
          2.037646,
          0.2,
          1.8001919999999998
         ]
        },
        {
         "line": {
          "color": "#e1cf3b",
          "dash": "dash",
          "width": 4
         },
         "mode": "lines+markers",
         "name": "Sevir.5G036550",
         "type": "scatter",
         "uid": "fbe2eaa4-3633-11ea-9c5e-79fdfc20b759",
         "x": [
          "MeJA_Control-48h_L",
          "MeJA_MeJA-1h_L",
          "MeJA_MeJA-4h_L",
          "MeJA_MeJA-8h_L",
          "MeJA_MeJA-24h_L",
          "MeJA_MeJA-48h_L",
          "MeJA_Control-1h_L",
          "MeJA_Control-4h_L",
          "MeJA_Control-8h_L",
          "MeJA_Control-24h_L"
         ],
         "y": [
          1.019524,
          0.6,
          1.75,
          0.2,
          0,
          0,
          0,
          0.8,
          0.6,
          0.2
         ]
        },
        {
         "line": {
          "color": "#5be4f0",
          "dash": "solid",
          "width": 4
         },
         "mode": "lines+markers",
         "name": "Sevir.7G279700",
         "type": "scatter",
         "uid": "fbe2eb8a-3633-11ea-9c5e-79fdfc20b759",
         "x": [
          "MeJA_Control-48h_L",
          "MeJA_MeJA-1h_L",
          "MeJA_MeJA-4h_L",
          "MeJA_MeJA-8h_L",
          "MeJA_MeJA-24h_L",
          "MeJA_MeJA-48h_L",
          "MeJA_Control-1h_L",
          "MeJA_Control-4h_L",
          "MeJA_Control-8h_L",
          "MeJA_Control-24h_L"
         ],
         "y": [
          0.2,
          0,
          1.25,
          0,
          0,
          0,
          0.8,
          0.4,
          0,
          0
         ]
        },
        {
         "line": {
          "color": "#57c4d8",
          "dash": "dot",
          "width": 4
         },
         "mode": "lines+markers",
         "name": "Sevir.8G068450",
         "type": "scatter",
         "uid": "fbe2ec66-3633-11ea-9c5e-79fdfc20b759",
         "x": [
          "MeJA_Control-48h_L",
          "MeJA_MeJA-1h_L",
          "MeJA_MeJA-4h_L",
          "MeJA_MeJA-8h_L",
          "MeJA_MeJA-24h_L",
          "MeJA_MeJA-48h_L",
          "MeJA_Control-1h_L",
          "MeJA_Control-4h_L",
          "MeJA_Control-8h_L",
          "MeJA_Control-24h_L"
         ],
         "y": [
          0,
          0,
          0,
          0,
          0,
          0,
          0,
          0,
          0,
          0
         ]
        },
        {
         "line": {
          "color": "#a4d17a",
          "dash": "dash",
          "width": 4
         },
         "mode": "lines+markers",
         "name": "Sevir.9G576750",
         "type": "scatter",
         "uid": "fbe2ed42-3633-11ea-9c5e-79fdfc20b759",
         "x": [
          "MeJA_Control-48h_L",
          "MeJA_MeJA-1h_L",
          "MeJA_MeJA-4h_L",
          "MeJA_MeJA-8h_L",
          "MeJA_MeJA-24h_L",
          "MeJA_MeJA-48h_L",
          "MeJA_Control-1h_L",
          "MeJA_Control-4h_L",
          "MeJA_Control-8h_L",
          "MeJA_Control-24h_L"
         ],
         "y": [
          0.4,
          0.8,
          2.75,
          0.2,
          0.4,
          0,
          0,
          0.2,
          0.4,
          0
         ]
        },
        {
         "line": {
          "color": "#225b8e",
          "dash": "solid",
          "width": 4
         },
         "mode": "lines+markers",
         "name": "Sevir.9G248533",
         "type": "scatter",
         "uid": "fbe2ee28-3633-11ea-9c5e-79fdfc20b759",
         "x": [
          "MeJA_Control-48h_L",
          "MeJA_MeJA-1h_L",
          "MeJA_MeJA-4h_L",
          "MeJA_MeJA-8h_L",
          "MeJA_MeJA-24h_L",
          "MeJA_MeJA-48h_L",
          "MeJA_Control-1h_L",
          "MeJA_Control-4h_L",
          "MeJA_Control-8h_L",
          "MeJA_Control-24h_L"
         ],
         "y": [
          1,
          3,
          4,
          0.8,
          2.204052,
          0.2,
          0.4,
          2,
          1.6,
          1.6
         ]
        },
        {
         "line": {
          "color": "#be608b",
          "dash": "dot",
          "width": 4
         },
         "mode": "lines+markers",
         "name": "Sevir.1G379100",
         "type": "scatter",
         "uid": "fbe2ef04-3633-11ea-9c5e-79fdfc20b759",
         "x": [
          "MeJA_Control-48h_L",
          "MeJA_MeJA-1h_L",
          "MeJA_MeJA-4h_L",
          "MeJA_MeJA-8h_L",
          "MeJA_MeJA-24h_L",
          "MeJA_MeJA-48h_L",
          "MeJA_Control-1h_L",
          "MeJA_Control-4h_L",
          "MeJA_Control-8h_L",
          "MeJA_Control-24h_L"
         ],
         "y": [
          5.051640000000001,
          6.606816,
          8.665777499999999,
          4.650376,
          10.402284,
          1.846698,
          3.149864,
          6.303012,
          4.9104600000000005,
          11.263650000000002
         ]
        },
        {
         "line": {
          "color": "#96b00c",
          "dash": "dash",
          "width": 4
         },
         "mode": "lines+markers",
         "name": "Sevir.8G222414",
         "type": "scatter",
         "uid": "fbe2efe0-3633-11ea-9c5e-79fdfc20b759",
         "x": [
          "MeJA_Control-48h_L",
          "MeJA_MeJA-1h_L",
          "MeJA_MeJA-4h_L",
          "MeJA_MeJA-8h_L",
          "MeJA_MeJA-24h_L",
          "MeJA_MeJA-48h_L",
          "MeJA_Control-1h_L",
          "MeJA_Control-4h_L",
          "MeJA_Control-8h_L",
          "MeJA_Control-24h_L"
         ],
         "y": [
          1.4,
          1,
          2.25,
          0.8,
          1.7841960000000001,
          0,
          0.8023340000000001,
          2.737984,
          1,
          1.7379840000000002
         ]
        },
        {
         "line": {
          "color": "#088baf",
          "dash": "solid",
          "width": 4
         },
         "mode": "lines+markers",
         "name": "Sevir.6G039200",
         "type": "scatter",
         "uid": "fbe2f0d0-3633-11ea-9c5e-79fdfc20b759",
         "x": [
          "MeJA_Control-48h_L",
          "MeJA_MeJA-1h_L",
          "MeJA_MeJA-4h_L",
          "MeJA_MeJA-8h_L",
          "MeJA_MeJA-24h_L",
          "MeJA_MeJA-48h_L",
          "MeJA_Control-1h_L",
          "MeJA_Control-4h_L",
          "MeJA_Control-8h_L",
          "MeJA_Control-24h_L"
         ],
         "y": [
          4.216468000000001,
          26.262199999999996,
          43.0683875,
          0.570888,
          5.318044,
          13.119755999999999,
          6.462288000000001,
          9.873935999999999,
          4.860116,
          4.536849999999999
         ]
        },
        {
         "line": {
          "color": "#f158bf",
          "dash": "dot",
          "width": 4
         },
         "mode": "lines+markers",
         "name": "Sevir.6G075100",
         "type": "scatter",
         "uid": "fbe2f1b6-3633-11ea-9c5e-79fdfc20b759",
         "x": [
          "MeJA_Control-48h_L",
          "MeJA_MeJA-1h_L",
          "MeJA_MeJA-4h_L",
          "MeJA_MeJA-8h_L",
          "MeJA_MeJA-24h_L",
          "MeJA_MeJA-48h_L",
          "MeJA_Control-1h_L",
          "MeJA_Control-4h_L",
          "MeJA_Control-8h_L",
          "MeJA_Control-24h_L"
         ],
         "y": [
          0,
          0,
          1.5,
          0,
          0.4,
          0,
          0,
          0,
          0,
          0
         ]
        },
        {
         "line": {
          "color": "#e145ba",
          "dash": "dash",
          "width": 4
         },
         "mode": "lines+markers",
         "name": "Sevir.3G331800",
         "type": "scatter",
         "uid": "fbe2f288-3633-11ea-9c5e-79fdfc20b759",
         "x": [
          "MeJA_Control-48h_L",
          "MeJA_MeJA-1h_L",
          "MeJA_MeJA-4h_L",
          "MeJA_MeJA-8h_L",
          "MeJA_MeJA-24h_L",
          "MeJA_MeJA-48h_L",
          "MeJA_Control-1h_L",
          "MeJA_Control-4h_L",
          "MeJA_Control-8h_L",
          "MeJA_Control-24h_L"
         ],
         "y": [
          0.2,
          0,
          1.75,
          0,
          0.6,
          0,
          0.2,
          1.2,
          1,
          0.6
         ]
        },
        {
         "line": {
          "color": "#ee91e3",
          "dash": "solid",
          "width": 4
         },
         "mode": "lines+markers",
         "name": "Sevir.4G164200",
         "type": "scatter",
         "uid": "fbe2f36e-3633-11ea-9c5e-79fdfc20b759",
         "x": [
          "MeJA_Control-48h_L",
          "MeJA_MeJA-1h_L",
          "MeJA_MeJA-4h_L",
          "MeJA_MeJA-8h_L",
          "MeJA_MeJA-24h_L",
          "MeJA_MeJA-48h_L",
          "MeJA_Control-1h_L",
          "MeJA_Control-4h_L",
          "MeJA_Control-8h_L",
          "MeJA_Control-24h_L"
         ],
         "y": [
          0.2378134,
          0,
          1.5,
          0.2,
          0,
          0,
          0.4,
          0,
          0,
          0
         ]
        },
        {
         "line": {
          "color": "#05d371",
          "dash": "dot",
          "width": 4
         },
         "mode": "lines+markers",
         "name": "Sevir.9G347733",
         "type": "scatter",
         "uid": "fbe2f454-3633-11ea-9c5e-79fdfc20b759",
         "x": [
          "MeJA_Control-48h_L",
          "MeJA_MeJA-1h_L",
          "MeJA_MeJA-4h_L",
          "MeJA_MeJA-8h_L",
          "MeJA_MeJA-24h_L",
          "MeJA_MeJA-48h_L",
          "MeJA_Control-1h_L",
          "MeJA_Control-4h_L",
          "MeJA_Control-8h_L",
          "MeJA_Control-24h_L"
         ],
         "y": [
          0.6,
          0.4,
          2,
          0.6,
          2.4,
          0,
          1,
          1.8,
          1.2,
          1.2
         ]
        },
        {
         "line": {
          "color": "#5426e0",
          "dash": "dash",
          "width": 4
         },
         "mode": "lines+markers",
         "name": "Sevir.2G396750",
         "type": "scatter",
         "uid": "fbe2f530-3633-11ea-9c5e-79fdfc20b759",
         "x": [
          "MeJA_Control-48h_L",
          "MeJA_MeJA-1h_L",
          "MeJA_MeJA-4h_L",
          "MeJA_MeJA-8h_L",
          "MeJA_MeJA-24h_L",
          "MeJA_MeJA-48h_L",
          "MeJA_Control-1h_L",
          "MeJA_Control-4h_L",
          "MeJA_Control-8h_L",
          "MeJA_Control-24h_L"
         ],
         "y": [
          0,
          0,
          0.75,
          0,
          0,
          0,
          0,
          0,
          0,
          0
         ]
        },
        {
         "line": {
          "color": "#4834d0",
          "dash": "solid",
          "width": 4
         },
         "mode": "lines+markers",
         "name": "Sevir.3G116100",
         "type": "scatter",
         "uid": "fbe2f60c-3633-11ea-9c5e-79fdfc20b759",
         "x": [
          "MeJA_Control-48h_L",
          "MeJA_MeJA-1h_L",
          "MeJA_MeJA-4h_L",
          "MeJA_MeJA-8h_L",
          "MeJA_MeJA-24h_L",
          "MeJA_MeJA-48h_L",
          "MeJA_Control-1h_L",
          "MeJA_Control-4h_L",
          "MeJA_Control-8h_L",
          "MeJA_Control-24h_L"
         ],
         "y": [
          0.2,
          0,
          1.75,
          0,
          0.4,
          0.6,
          0.2,
          0,
          0.4,
          0
         ]
        },
        {
         "line": {
          "color": "#802234",
          "dash": "dot",
          "width": 4
         },
         "mode": "lines+markers",
         "name": "Sevir.7G061100",
         "type": "scatter",
         "uid": "fbe2f6f2-3633-11ea-9c5e-79fdfc20b759",
         "x": [
          "MeJA_Control-48h_L",
          "MeJA_MeJA-1h_L",
          "MeJA_MeJA-4h_L",
          "MeJA_MeJA-8h_L",
          "MeJA_MeJA-24h_L",
          "MeJA_MeJA-48h_L",
          "MeJA_Control-1h_L",
          "MeJA_Control-4h_L",
          "MeJA_Control-8h_L",
          "MeJA_Control-24h_L"
         ],
         "y": [
          0,
          0.2,
          0.25,
          0.2,
          0,
          0,
          0,
          0,
          0,
          0.2
         ]
        },
        {
         "line": {
          "color": "#6749e8",
          "dash": "dash",
          "width": 4
         },
         "mode": "lines+markers",
         "name": "Sevir.2G307100",
         "type": "scatter",
         "uid": "fbe2f7c4-3633-11ea-9c5e-79fdfc20b759",
         "x": [
          "MeJA_Control-48h_L",
          "MeJA_MeJA-1h_L",
          "MeJA_MeJA-4h_L",
          "MeJA_MeJA-8h_L",
          "MeJA_MeJA-24h_L",
          "MeJA_MeJA-48h_L",
          "MeJA_Control-1h_L",
          "MeJA_Control-4h_L",
          "MeJA_Control-8h_L",
          "MeJA_Control-24h_L"
         ],
         "y": [
          0,
          0,
          1.5,
          0,
          0.8,
          0.2,
          0,
          0,
          1.6,
          0
         ]
        },
        {
         "line": {
          "color": "#0971f0",
          "dash": "solid",
          "width": 4
         },
         "mode": "lines+markers",
         "name": "Sevir.5G087400",
         "type": "scatter",
         "uid": "fbe2f8a0-3633-11ea-9c5e-79fdfc20b759",
         "x": [
          "MeJA_Control-48h_L",
          "MeJA_MeJA-1h_L",
          "MeJA_MeJA-4h_L",
          "MeJA_MeJA-8h_L",
          "MeJA_MeJA-24h_L",
          "MeJA_MeJA-48h_L",
          "MeJA_Control-1h_L",
          "MeJA_Control-4h_L",
          "MeJA_Control-8h_L",
          "MeJA_Control-24h_L"
         ],
         "y": [
          0.8,
          0.2,
          1.5,
          0.6,
          0.4,
          0,
          0,
          0,
          0.4,
          0.4
         ]
        },
        {
         "line": {
          "color": "#8fb413",
          "dash": "dot",
          "width": 4
         },
         "mode": "lines+markers",
         "name": "Sevir.7G005300",
         "type": "scatter",
         "uid": "fbe2f97c-3633-11ea-9c5e-79fdfc20b759",
         "x": [
          "MeJA_Control-48h_L",
          "MeJA_MeJA-1h_L",
          "MeJA_MeJA-4h_L",
          "MeJA_MeJA-8h_L",
          "MeJA_MeJA-24h_L",
          "MeJA_MeJA-48h_L",
          "MeJA_Control-1h_L",
          "MeJA_Control-4h_L",
          "MeJA_Control-8h_L",
          "MeJA_Control-24h_L"
         ],
         "y": [
          0,
          0,
          0.5,
          0,
          0,
          0.2,
          0,
          0,
          0,
          0
         ]
        },
        {
         "line": {
          "color": "#b2b4f0",
          "dash": "dash",
          "width": 4
         },
         "mode": "lines+markers",
         "name": "Sevir.2G026100",
         "type": "scatter",
         "uid": "fbe2fa4e-3633-11ea-9c5e-79fdfc20b759",
         "x": [
          "MeJA_Control-48h_L",
          "MeJA_MeJA-1h_L",
          "MeJA_MeJA-4h_L",
          "MeJA_MeJA-8h_L",
          "MeJA_MeJA-24h_L",
          "MeJA_MeJA-48h_L",
          "MeJA_Control-1h_L",
          "MeJA_Control-4h_L",
          "MeJA_Control-8h_L",
          "MeJA_Control-24h_L"
         ],
         "y": [
          0,
          0,
          1.75,
          0,
          0,
          0,
          0,
          0.4,
          0,
          0.2
         ]
        },
        {
         "line": {
          "color": "#c3c89d",
          "dash": "solid",
          "width": 4
         },
         "mode": "lines+markers",
         "name": "Sevir.9G072900",
         "type": "scatter",
         "uid": "fbe2fb20-3633-11ea-9c5e-79fdfc20b759",
         "x": [
          "MeJA_Control-48h_L",
          "MeJA_MeJA-1h_L",
          "MeJA_MeJA-4h_L",
          "MeJA_MeJA-8h_L",
          "MeJA_MeJA-24h_L",
          "MeJA_MeJA-48h_L",
          "MeJA_Control-1h_L",
          "MeJA_Control-4h_L",
          "MeJA_Control-8h_L",
          "MeJA_Control-24h_L"
         ],
         "y": [
          0,
          0.2,
          0.75,
          0,
          0,
          0,
          0,
          0.2,
          0.2,
          0
         ]
        }
       ],
       "layout": {
        "dragmode": "select",
        "plot_bgcolor": "white",
        "title": "Average Gene Expression - Methyl Jasmonate",
        "xaxis": {
         "gridcolor": "whitesmoke",
         "showgrid": true,
         "title": "Experimental Conditions"
        },
        "yaxis": {
         "gridcolor": "whitesmoke",
         "showgrid": true,
         "title": "Expression"
        }
       }
      },
      "text/html": [
       "<div id=\"d3c0b9b7-fb40-4cb6-9730-759e57f77909\" style=\"height: 525px; width: 100%;\" class=\"plotly-graph-div\"></div><script type=\"text/javascript\">require([\"plotly\"], function(Plotly) { window.PLOTLYENV=window.PLOTLYENV || {};window.PLOTLYENV.BASE_URL=\"https://plot.ly\";Plotly.newPlot(\"d3c0b9b7-fb40-4cb6-9730-759e57f77909\", [{\"line\": {\"color\": \"#ce7d78\", \"dash\": \"dot\", \"width\": 4}, \"mode\": \"lines+markers\", \"name\": \"Sevir.9G282425\", \"x\": [\"MeJA_Control-48h_L\", \"MeJA_MeJA-1h_L\", \"MeJA_MeJA-4h_L\", \"MeJA_MeJA-8h_L\", \"MeJA_MeJA-24h_L\", \"MeJA_MeJA-48h_L\", \"MeJA_Control-1h_L\", \"MeJA_Control-4h_L\", \"MeJA_Control-8h_L\", \"MeJA_Control-24h_L\"], \"y\": [0.4, 1.2, 2.0, 0.4, 1.0, 0.6, 1.2, 0.6, 0.4, 1.8], \"type\": \"scatter\", \"uid\": \"fc3d60a6-3633-11ea-9c5e-79fdfc20b759\"}, {\"line\": {\"color\": \"#ea9e70\", \"dash\": \"dash\", \"width\": 4}, \"mode\": \"lines+markers\", \"name\": \"Sevir.7G018910\", \"x\": [\"MeJA_Control-48h_L\", \"MeJA_MeJA-1h_L\", \"MeJA_MeJA-4h_L\", \"MeJA_MeJA-8h_L\", \"MeJA_MeJA-24h_L\", \"MeJA_MeJA-48h_L\", \"MeJA_Control-1h_L\", \"MeJA_Control-4h_L\", \"MeJA_Control-8h_L\", \"MeJA_Control-24h_L\"], \"y\": [0.0, 0.0, 0.5, 0.077722, 0.0, 0.0, 0.417748, 0.0, 0.0, 0.0], \"type\": \"scatter\", \"uid\": \"fc3d62fe-3633-11ea-9c5e-79fdfc20b759\"}, {\"line\": {\"color\": \"#a48a9e\", \"dash\": \"solid\", \"width\": 4}, \"mode\": \"lines+markers\", \"name\": \"Sevir.5G044500\", \"x\": [\"MeJA_Control-48h_L\", \"MeJA_MeJA-1h_L\", \"MeJA_MeJA-4h_L\", \"MeJA_MeJA-8h_L\", \"MeJA_MeJA-24h_L\", \"MeJA_MeJA-48h_L\", \"MeJA_Control-1h_L\", \"MeJA_Control-4h_L\", \"MeJA_Control-8h_L\", \"MeJA_Control-24h_L\"], \"y\": [0.6, 0.0, 0.75, 0.0, 0.2, 0.0, 0.0, 0.2, 0.0, 0.2], \"type\": \"scatter\", \"uid\": \"fc3d6434-3633-11ea-9c5e-79fdfc20b759\"}, {\"line\": {\"color\": \"#c6e1e8\", \"dash\": \"dot\", \"width\": 4}, \"mode\": \"lines+markers\", \"name\": \"Sevir.2G127900\", \"x\": [\"MeJA_Control-48h_L\", \"MeJA_MeJA-1h_L\", \"MeJA_MeJA-4h_L\", \"MeJA_MeJA-8h_L\", \"MeJA_MeJA-24h_L\", \"MeJA_MeJA-48h_L\", \"MeJA_Control-1h_L\", \"MeJA_Control-4h_L\", \"MeJA_Control-8h_L\", \"MeJA_Control-24h_L\"], \"y\": [0.0, 0.2, 2.0, 0.0, 0.0, 0.0, 0.0, 0.0, 0.0, 0.0], \"type\": \"scatter\", \"uid\": \"fc3d6538-3633-11ea-9c5e-79fdfc20b759\"}, {\"line\": {\"color\": \"#648177\", \"dash\": \"dash\", \"width\": 4}, \"mode\": \"lines+markers\", \"name\": \"Sevir.5G129000\", \"x\": [\"MeJA_Control-48h_L\", \"MeJA_MeJA-1h_L\", \"MeJA_MeJA-4h_L\", \"MeJA_MeJA-8h_L\", \"MeJA_MeJA-24h_L\", \"MeJA_MeJA-48h_L\", \"MeJA_Control-1h_L\", \"MeJA_Control-4h_L\", \"MeJA_Control-8h_L\", \"MeJA_Control-24h_L\"], \"y\": [1.960642, 0.590782, 6.4625425000000005, 3.0665000000000004, 3.7955059999999996, 3.5512799999999998, 2.763682, 4.797856, 0.811788, 2.357076], \"type\": \"scatter\", \"uid\": \"fc3d6632-3633-11ea-9c5e-79fdfc20b759\"}, {\"line\": {\"color\": \"#0d5ac1\", \"dash\": \"solid\", \"width\": 4}, \"mode\": \"lines+markers\", \"name\": \"Sevir.2G354400\", \"x\": [\"MeJA_Control-48h_L\", \"MeJA_MeJA-1h_L\", \"MeJA_MeJA-4h_L\", \"MeJA_MeJA-8h_L\", \"MeJA_MeJA-24h_L\", \"MeJA_MeJA-48h_L\", \"MeJA_Control-1h_L\", \"MeJA_Control-4h_L\", \"MeJA_Control-8h_L\", \"MeJA_Control-24h_L\"], \"y\": [0.2, 0.0, 1.0, 0.0, 1.0, 0.2, 0.0, 0.2, 0.0, 0.4], \"type\": \"scatter\", \"uid\": \"fc3d6718-3633-11ea-9c5e-79fdfc20b759\"}, {\"line\": {\"color\": \"#f205e6\", \"dash\": \"dot\", \"width\": 4}, \"mode\": \"lines+markers\", \"name\": \"Sevir.2G152600\", \"x\": [\"MeJA_Control-48h_L\", \"MeJA_MeJA-1h_L\", \"MeJA_MeJA-4h_L\", \"MeJA_MeJA-8h_L\", \"MeJA_MeJA-24h_L\", \"MeJA_MeJA-48h_L\", \"MeJA_Control-1h_L\", \"MeJA_Control-4h_L\", \"MeJA_Control-8h_L\", \"MeJA_Control-24h_L\"], \"y\": [0.2, 0.0, 0.75, 0.0, 0.4, 0.2, 0.0, 0.0, 0.0, 0.4], \"type\": \"scatter\", \"uid\": \"fc3d67f4-3633-11ea-9c5e-79fdfc20b759\"}, {\"line\": {\"color\": \"#1c0365\", \"dash\": \"dash\", \"width\": 4}, \"mode\": \"lines+markers\", \"name\": \"Sevir.7G023700\", \"x\": [\"MeJA_Control-48h_L\", \"MeJA_MeJA-1h_L\", \"MeJA_MeJA-4h_L\", \"MeJA_MeJA-8h_L\", \"MeJA_MeJA-24h_L\", \"MeJA_MeJA-48h_L\", \"MeJA_Control-1h_L\", \"MeJA_Control-4h_L\", \"MeJA_Control-8h_L\", \"MeJA_Control-24h_L\"], \"y\": [0.4, 1.362008, 2.44656025, 0.927106, 0.560828, 0.0, 0.0, 0.2, 0.0, 0.6533979999999999], \"type\": \"scatter\", \"uid\": \"fc3d68da-3633-11ea-9c5e-79fdfc20b759\"}, {\"line\": {\"color\": \"#14a9ad\", \"dash\": \"solid\", \"width\": 4}, \"mode\": \"lines+markers\", \"name\": \"Sevir.4G118900\", \"x\": [\"MeJA_Control-48h_L\", \"MeJA_MeJA-1h_L\", \"MeJA_MeJA-4h_L\", \"MeJA_MeJA-8h_L\", \"MeJA_MeJA-24h_L\", \"MeJA_MeJA-48h_L\", \"MeJA_Control-1h_L\", \"MeJA_Control-4h_L\", \"MeJA_Control-8h_L\", \"MeJA_Control-24h_L\"], \"y\": [0.4, 1.0, 3.0, 0.8, 0.8, 1.6, 0.8, 0.8, 0.6, 0.6], \"type\": \"scatter\", \"uid\": \"fc3d69c0-3633-11ea-9c5e-79fdfc20b759\"}, {\"line\": {\"color\": \"#4ca2f9\", \"dash\": \"dot\", \"width\": 4}, \"mode\": \"lines+markers\", \"name\": \"Sevir.8G081600\", \"x\": [\"MeJA_Control-48h_L\", \"MeJA_MeJA-1h_L\", \"MeJA_MeJA-4h_L\", \"MeJA_MeJA-8h_L\", \"MeJA_MeJA-24h_L\", \"MeJA_MeJA-48h_L\", \"MeJA_Control-1h_L\", \"MeJA_Control-4h_L\", \"MeJA_Control-8h_L\", \"MeJA_Control-24h_L\"], \"y\": [0.0, 0.1998328, 1.9972375, 0.1997066, 0.399752, 0.598986, 0.0, 0.1997662, 0.1998642, 0.0], \"type\": \"scatter\", \"uid\": \"fc3d6aa6-3633-11ea-9c5e-79fdfc20b759\"}, {\"line\": {\"color\": \"#a4e43f\", \"dash\": \"dash\", \"width\": 4}, \"mode\": \"lines+markers\", \"name\": \"Sevir.5G364132\", \"x\": [\"MeJA_Control-48h_L\", \"MeJA_MeJA-1h_L\", \"MeJA_MeJA-4h_L\", \"MeJA_MeJA-8h_L\", \"MeJA_MeJA-24h_L\", \"MeJA_MeJA-48h_L\", \"MeJA_Control-1h_L\", \"MeJA_Control-4h_L\", \"MeJA_Control-8h_L\", \"MeJA_Control-24h_L\"], \"y\": [0.981484, 0.8, 1.5, 0.2, 0.2, 0.2, 0.2, 0.2, 0.0, 0.0], \"type\": \"scatter\", \"uid\": \"fc3d6b82-3633-11ea-9c5e-79fdfc20b759\"}, {\"line\": {\"color\": \"#d298e2\", \"dash\": \"solid\", \"width\": 4}, \"mode\": \"lines+markers\", \"name\": \"Sevir.4G263301\", \"x\": [\"MeJA_Control-48h_L\", \"MeJA_MeJA-1h_L\", \"MeJA_MeJA-4h_L\", \"MeJA_MeJA-8h_L\", \"MeJA_MeJA-24h_L\", \"MeJA_MeJA-48h_L\", \"MeJA_Control-1h_L\", \"MeJA_Control-4h_L\", \"MeJA_Control-8h_L\", \"MeJA_Control-24h_L\"], \"y\": [0.0, 0.6, 1.0, 0.2, 0.6, 0.0, 0.0, 0.2, 0.4, 0.2], \"type\": \"scatter\", \"uid\": \"fc3d6c68-3633-11ea-9c5e-79fdfc20b759\"}, {\"line\": {\"color\": \"#6119d0\", \"dash\": \"dot\", \"width\": 4}, \"mode\": \"lines+markers\", \"name\": \"Sevir.9G099466\", \"x\": [\"MeJA_Control-48h_L\", \"MeJA_MeJA-1h_L\", \"MeJA_MeJA-4h_L\", \"MeJA_MeJA-8h_L\", \"MeJA_MeJA-24h_L\", \"MeJA_MeJA-48h_L\", \"MeJA_Control-1h_L\", \"MeJA_Control-4h_L\", \"MeJA_Control-8h_L\", \"MeJA_Control-24h_L\"], \"y\": [0.0, 0.2, 0.5, 0.0, 0.0, 0.0, 0.0, 0.0, 0.0, 0.2], \"type\": \"scatter\", \"uid\": \"fc3d6d4e-3633-11ea-9c5e-79fdfc20b759\"}, {\"line\": {\"color\": \"#d2737d\", \"dash\": \"dash\", \"width\": 4}, \"mode\": \"lines+markers\", \"name\": \"Sevir.9G078500\", \"x\": [\"MeJA_Control-48h_L\", \"MeJA_MeJA-1h_L\", \"MeJA_MeJA-4h_L\", \"MeJA_MeJA-8h_L\", \"MeJA_MeJA-24h_L\", \"MeJA_MeJA-48h_L\", \"MeJA_Control-1h_L\", \"MeJA_Control-4h_L\", \"MeJA_Control-8h_L\", \"MeJA_Control-24h_L\"], \"y\": [0.0, 0.0, 0.75, 0.0, 0.2, 0.0, 0.2, 0.0, 0.0, 0.2], \"type\": \"scatter\", \"uid\": \"fc3d6e2a-3633-11ea-9c5e-79fdfc20b759\"}, {\"line\": {\"color\": \"#c0a43c\", \"dash\": \"solid\", \"width\": 4}, \"mode\": \"lines+markers\", \"name\": \"Sevir.2G263800\", \"x\": [\"MeJA_Control-48h_L\", \"MeJA_MeJA-1h_L\", \"MeJA_MeJA-4h_L\", \"MeJA_MeJA-8h_L\", \"MeJA_MeJA-24h_L\", \"MeJA_MeJA-48h_L\", \"MeJA_Control-1h_L\", \"MeJA_Control-4h_L\", \"MeJA_Control-8h_L\", \"MeJA_Control-24h_L\"], \"y\": [0.0, 0.0, 0.25, 0.0, 0.0, 0.0, 0.0, 0.0, 0.0, 0.0], \"type\": \"scatter\", \"uid\": \"fc3d6f10-3633-11ea-9c5e-79fdfc20b759\"}, {\"line\": {\"color\": \"#f2510e\", \"dash\": \"dot\", \"width\": 4}, \"mode\": \"lines+markers\", \"name\": \"Sevir.8G218520\", \"x\": [\"MeJA_Control-48h_L\", \"MeJA_MeJA-1h_L\", \"MeJA_MeJA-4h_L\", \"MeJA_MeJA-8h_L\", \"MeJA_MeJA-24h_L\", \"MeJA_MeJA-48h_L\", \"MeJA_Control-1h_L\", \"MeJA_Control-4h_L\", \"MeJA_Control-8h_L\", \"MeJA_Control-24h_L\"], \"y\": [0.0, 0.0, 0.75, 0.0, 0.2, 0.0, 0.0, 0.2, 0.0, 0.2], \"type\": \"scatter\", \"uid\": \"fc3d6ff6-3633-11ea-9c5e-79fdfc20b759\"}, {\"line\": {\"color\": \"#651be6\", \"dash\": \"dash\", \"width\": 4}, \"mode\": \"lines+markers\", \"name\": \"Sevir.3G390900\", \"x\": [\"MeJA_Control-48h_L\", \"MeJA_MeJA-1h_L\", \"MeJA_MeJA-4h_L\", \"MeJA_MeJA-8h_L\", \"MeJA_MeJA-24h_L\", \"MeJA_MeJA-48h_L\", \"MeJA_Control-1h_L\", \"MeJA_Control-4h_L\", \"MeJA_Control-8h_L\", \"MeJA_Control-24h_L\"], \"y\": [0.2, 0.0, 1.0, 0.0, 0.2, 0.0, 0.0, 0.2, 0.0, 0.0], \"type\": \"scatter\", \"uid\": \"fc3d70d2-3633-11ea-9c5e-79fdfc20b759\"}, {\"line\": {\"color\": \"#79806e\", \"dash\": \"solid\", \"width\": 4}, \"mode\": \"lines+markers\", \"name\": \"Sevir.9G165400\", \"x\": [\"MeJA_Control-48h_L\", \"MeJA_MeJA-1h_L\", \"MeJA_MeJA-4h_L\", \"MeJA_MeJA-8h_L\", \"MeJA_MeJA-24h_L\", \"MeJA_MeJA-48h_L\", \"MeJA_Control-1h_L\", \"MeJA_Control-4h_L\", \"MeJA_Control-8h_L\", \"MeJA_Control-24h_L\"], \"y\": [0.0, 0.47497, 0.5, 0.2, 0.231468, 0.0, 0.0, 0.0, 0.0, 0.6], \"type\": \"scatter\", \"uid\": \"fc3d71b8-3633-11ea-9c5e-79fdfc20b759\"}, {\"line\": {\"color\": \"#61da5e\", \"dash\": \"dot\", \"width\": 4}, \"mode\": \"lines+markers\", \"name\": \"Sevir.8G245140\", \"x\": [\"MeJA_Control-48h_L\", \"MeJA_MeJA-1h_L\", \"MeJA_MeJA-4h_L\", \"MeJA_MeJA-8h_L\", \"MeJA_MeJA-24h_L\", \"MeJA_MeJA-48h_L\", \"MeJA_Control-1h_L\", \"MeJA_Control-4h_L\", \"MeJA_Control-8h_L\", \"MeJA_Control-24h_L\"], \"y\": [0.4, 0.6, 0.75, 0.4, 0.2, 0.0, 0.0, 0.2, 0.0, 0.4], \"type\": \"scatter\", \"uid\": \"fc3d7294-3633-11ea-9c5e-79fdfc20b759\"}, {\"line\": {\"color\": \"#cd2f00\", \"dash\": \"dash\", \"width\": 4}, \"mode\": \"lines+markers\", \"name\": \"Sevir.8G087000\", \"x\": [\"MeJA_Control-48h_L\", \"MeJA_MeJA-1h_L\", \"MeJA_MeJA-4h_L\", \"MeJA_MeJA-8h_L\", \"MeJA_MeJA-24h_L\", \"MeJA_MeJA-48h_L\", \"MeJA_Control-1h_L\", \"MeJA_Control-4h_L\", \"MeJA_Control-8h_L\", \"MeJA_Control-24h_L\"], \"y\": [0.0, 0.0, 0.5, 0.0, 0.0, 0.0, 0.0, 0.0, 0.0, 0.0], \"type\": \"scatter\", \"uid\": \"fc3d737a-3633-11ea-9c5e-79fdfc20b759\"}, {\"line\": {\"color\": \"#9348af\", \"dash\": \"solid\", \"width\": 4}, \"mode\": \"lines+markers\", \"name\": \"Sevir.9G576201\", \"x\": [\"MeJA_Control-48h_L\", \"MeJA_MeJA-1h_L\", \"MeJA_MeJA-4h_L\", \"MeJA_MeJA-8h_L\", \"MeJA_MeJA-24h_L\", \"MeJA_MeJA-48h_L\", \"MeJA_Control-1h_L\", \"MeJA_Control-4h_L\", \"MeJA_Control-8h_L\", \"MeJA_Control-24h_L\"], \"y\": [0.0, 0.0, 1.0, 0.0, 0.1966706, 0.0, 0.0, 1.4, 0.0, 0.0], \"type\": \"scatter\", \"uid\": \"fc3d7456-3633-11ea-9c5e-79fdfc20b759\"}, {\"line\": {\"color\": \"#01ac53\", \"dash\": \"dot\", \"width\": 4}, \"mode\": \"lines+markers\", \"name\": \"Sevir.5G470750\", \"x\": [\"MeJA_Control-48h_L\", \"MeJA_MeJA-1h_L\", \"MeJA_MeJA-4h_L\", \"MeJA_MeJA-8h_L\", \"MeJA_MeJA-24h_L\", \"MeJA_MeJA-48h_L\", \"MeJA_Control-1h_L\", \"MeJA_Control-4h_L\", \"MeJA_Control-8h_L\", \"MeJA_Control-24h_L\"], \"y\": [1.840924, 0.6, 2.0, 1.688164, 2.73893, 1.2, 0.0, 0.6, 1.0198779999999998, 1.611558], \"type\": \"scatter\", \"uid\": \"fc3d7532-3633-11ea-9c5e-79fdfc20b759\"}, {\"line\": {\"color\": \"#c5a4fb\", \"dash\": \"dash\", \"width\": 4}, \"mode\": \"lines+markers\", \"name\": \"Sevir.1G060850\", \"x\": [\"MeJA_Control-48h_L\", \"MeJA_MeJA-1h_L\", \"MeJA_MeJA-4h_L\", \"MeJA_MeJA-8h_L\", \"MeJA_MeJA-24h_L\", \"MeJA_MeJA-48h_L\", \"MeJA_Control-1h_L\", \"MeJA_Control-4h_L\", \"MeJA_Control-8h_L\", \"MeJA_Control-24h_L\"], \"y\": [0.2, 0.0, 0.25, 0.0, 0.0, 0.0, 0.0, 0.0, 0.0, 0.0], \"type\": \"scatter\", \"uid\": \"fc3d7618-3633-11ea-9c5e-79fdfc20b759\"}, {\"line\": {\"color\": \"#996635\", \"dash\": \"solid\", \"width\": 4}, \"mode\": \"lines+markers\", \"name\": \"Sevir.2G280500\", \"x\": [\"MeJA_Control-48h_L\", \"MeJA_MeJA-1h_L\", \"MeJA_MeJA-4h_L\", \"MeJA_MeJA-8h_L\", \"MeJA_MeJA-24h_L\", \"MeJA_MeJA-48h_L\", \"MeJA_Control-1h_L\", \"MeJA_Control-4h_L\", \"MeJA_Control-8h_L\", \"MeJA_Control-24h_L\"], \"y\": [0.0, 0.0, 0.5817, 0.0, 0.0, 0.0, 0.23170000000000002, 0.0, 0.0, 0.0], \"type\": \"scatter\", \"uid\": \"fc3d76ea-3633-11ea-9c5e-79fdfc20b759\"}, {\"line\": {\"color\": \"#b11573\", \"dash\": \"dot\", \"width\": 4}, \"mode\": \"lines+markers\", \"name\": \"Sevir.9G268200\", \"x\": [\"MeJA_Control-48h_L\", \"MeJA_MeJA-1h_L\", \"MeJA_MeJA-4h_L\", \"MeJA_MeJA-8h_L\", \"MeJA_MeJA-24h_L\", \"MeJA_MeJA-48h_L\", \"MeJA_Control-1h_L\", \"MeJA_Control-4h_L\", \"MeJA_Control-8h_L\", \"MeJA_Control-24h_L\"], \"y\": [0.6, 1.4, 1.5, 0.2, 0.2, 0.4, 0.6, 0.2, 0.2, 0.2], \"type\": \"scatter\", \"uid\": \"fc3d77c6-3633-11ea-9c5e-79fdfc20b759\"}, {\"line\": {\"color\": \"#4bb473\", \"dash\": \"dash\", \"width\": 4}, \"mode\": \"lines+markers\", \"name\": \"Sevir.4G143101\", \"x\": [\"MeJA_Control-48h_L\", \"MeJA_MeJA-1h_L\", \"MeJA_MeJA-4h_L\", \"MeJA_MeJA-8h_L\", \"MeJA_MeJA-24h_L\", \"MeJA_MeJA-48h_L\", \"MeJA_Control-1h_L\", \"MeJA_Control-4h_L\", \"MeJA_Control-8h_L\", \"MeJA_Control-24h_L\"], \"y\": [0.0, 0.0, 1.3611475, 0.0, 0.0, 0.986044, 0.437806, 0.44435, 0.0, 0.559822], \"type\": \"scatter\", \"uid\": \"fc3d78ac-3633-11ea-9c5e-79fdfc20b759\"}, {\"line\": {\"color\": \"#75d89e\", \"dash\": \"solid\", \"width\": 4}, \"mode\": \"lines+markers\", \"name\": \"Sevir.2G342800\", \"x\": [\"MeJA_Control-48h_L\", \"MeJA_MeJA-1h_L\", \"MeJA_MeJA-4h_L\", \"MeJA_MeJA-8h_L\", \"MeJA_MeJA-24h_L\", \"MeJA_MeJA-48h_L\", \"MeJA_Control-1h_L\", \"MeJA_Control-4h_L\", \"MeJA_Control-8h_L\", \"MeJA_Control-24h_L\"], \"y\": [0.0, 0.0, 0.5, 0.0, 0.0, 0.0, 0.0, 0.0, 0.0, 0.2], \"type\": \"scatter\", \"uid\": \"fc3d799c-3633-11ea-9c5e-79fdfc20b759\"}, {\"line\": {\"color\": \"#2f3f94\", \"dash\": \"dot\", \"width\": 4}, \"mode\": \"lines+markers\", \"name\": \"Sevir.1G019900\", \"x\": [\"MeJA_Control-48h_L\", \"MeJA_MeJA-1h_L\", \"MeJA_MeJA-4h_L\", \"MeJA_MeJA-8h_L\", \"MeJA_MeJA-24h_L\", \"MeJA_MeJA-48h_L\", \"MeJA_Control-1h_L\", \"MeJA_Control-4h_L\", \"MeJA_Control-8h_L\", \"MeJA_Control-24h_L\"], \"y\": [0.0, 0.4, 1.25, 0.2, 0.4, 1.0, 0.0, 0.8, 1.2, 2.0], \"type\": \"scatter\", \"uid\": \"fc3d7a82-3633-11ea-9c5e-79fdfc20b759\"}, {\"line\": {\"color\": \"#2f7b99\", \"dash\": \"dash\", \"width\": 4}, \"mode\": \"lines+markers\", \"name\": \"Sevir.3G353500\", \"x\": [\"MeJA_Control-48h_L\", \"MeJA_MeJA-1h_L\", \"MeJA_MeJA-4h_L\", \"MeJA_MeJA-8h_L\", \"MeJA_MeJA-24h_L\", \"MeJA_MeJA-48h_L\", \"MeJA_Control-1h_L\", \"MeJA_Control-4h_L\", \"MeJA_Control-8h_L\", \"MeJA_Control-24h_L\"], \"y\": [0.0, 0.0, 0.25, 0.0, 0.0, 0.0, 0.0, 0.0, 0.0, 0.0], \"type\": \"scatter\", \"uid\": \"fc3d7b5e-3633-11ea-9c5e-79fdfc20b759\"}, {\"line\": {\"color\": \"#da967d\", \"dash\": \"solid\", \"width\": 4}, \"mode\": \"lines+markers\", \"name\": \"Sevir.7G189700\", \"x\": [\"MeJA_Control-48h_L\", \"MeJA_MeJA-1h_L\", \"MeJA_MeJA-4h_L\", \"MeJA_MeJA-8h_L\", \"MeJA_MeJA-24h_L\", \"MeJA_MeJA-48h_L\", \"MeJA_Control-1h_L\", \"MeJA_Control-4h_L\", \"MeJA_Control-8h_L\", \"MeJA_Control-24h_L\"], \"y\": [0.0, 0.0, 1.0, 0.0, 0.0, 0.0, 0.0, 0.0, 0.0, 0.0], \"type\": \"scatter\", \"uid\": \"fc3d7c3a-3633-11ea-9c5e-79fdfc20b759\"}, {\"line\": {\"color\": \"#34891f\", \"dash\": \"dot\", \"width\": 4}, \"mode\": \"lines+markers\", \"name\": \"Sevir.4G118600\", \"x\": [\"MeJA_Control-48h_L\", \"MeJA_MeJA-1h_L\", \"MeJA_MeJA-4h_L\", \"MeJA_MeJA-8h_L\", \"MeJA_MeJA-24h_L\", \"MeJA_MeJA-48h_L\", \"MeJA_Control-1h_L\", \"MeJA_Control-4h_L\", \"MeJA_Control-8h_L\", \"MeJA_Control-24h_L\"], \"y\": [0.0, 0.0, 1.25, 0.0, 0.036327399999999996, 0.0, 0.4, 0.21816399999999997, 0.0, 0.0], \"type\": \"scatter\", \"uid\": \"fc3d7d20-3633-11ea-9c5e-79fdfc20b759\"}, {\"line\": {\"color\": \"#b0d87b\", \"dash\": \"dash\", \"width\": 4}, \"mode\": \"lines+markers\", \"name\": \"Sevir.5G315900\", \"x\": [\"MeJA_Control-48h_L\", \"MeJA_MeJA-1h_L\", \"MeJA_MeJA-4h_L\", \"MeJA_MeJA-8h_L\", \"MeJA_MeJA-24h_L\", \"MeJA_MeJA-48h_L\", \"MeJA_Control-1h_L\", \"MeJA_Control-4h_L\", \"MeJA_Control-8h_L\", \"MeJA_Control-24h_L\"], \"y\": [0.0, 0.6, 0.75, 0.0, 0.4, 0.0, 0.2, 0.0, 0.0, 0.2], \"type\": \"scatter\", \"uid\": \"fc3d7dfc-3633-11ea-9c5e-79fdfc20b759\"}, {\"line\": {\"color\": \"#ca4751\", \"dash\": \"solid\", \"width\": 4}, \"mode\": \"lines+markers\", \"name\": \"Sevir.1G110232\", \"x\": [\"MeJA_Control-48h_L\", \"MeJA_MeJA-1h_L\", \"MeJA_MeJA-4h_L\", \"MeJA_MeJA-8h_L\", \"MeJA_MeJA-24h_L\", \"MeJA_MeJA-48h_L\", \"MeJA_Control-1h_L\", \"MeJA_Control-4h_L\", \"MeJA_Control-8h_L\", \"MeJA_Control-24h_L\"], \"y\": [0.0, 0.4, 0.75, 0.2, 0.0, 0.0, 0.0, 0.0, 0.0, 0.0], \"type\": \"scatter\", \"uid\": \"fc3d7ed8-3633-11ea-9c5e-79fdfc20b759\"}, {\"line\": {\"color\": \"#7e50a8\", \"dash\": \"dot\", \"width\": 4}, \"mode\": \"lines+markers\", \"name\": \"Sevir.5G206100\", \"x\": [\"MeJA_Control-48h_L\", \"MeJA_MeJA-1h_L\", \"MeJA_MeJA-4h_L\", \"MeJA_MeJA-8h_L\", \"MeJA_MeJA-24h_L\", \"MeJA_MeJA-48h_L\", \"MeJA_Control-1h_L\", \"MeJA_Control-4h_L\", \"MeJA_Control-8h_L\", \"MeJA_Control-24h_L\"], \"y\": [0.0, 0.2, 1.5, 0.0, 0.4, 0.0, 0.8, 0.0, 0.0, 0.0], \"type\": \"scatter\", \"uid\": \"fc3d7fb4-3633-11ea-9c5e-79fdfc20b759\"}, {\"line\": {\"color\": \"#c4d647\", \"dash\": \"dash\", \"width\": 4}, \"mode\": \"lines+markers\", \"name\": \"Sevir.3G353200\", \"x\": [\"MeJA_Control-48h_L\", \"MeJA_MeJA-1h_L\", \"MeJA_MeJA-4h_L\", \"MeJA_MeJA-8h_L\", \"MeJA_MeJA-24h_L\", \"MeJA_MeJA-48h_L\", \"MeJA_Control-1h_L\", \"MeJA_Control-4h_L\", \"MeJA_Control-8h_L\", \"MeJA_Control-24h_L\"], \"y\": [0.2, 0.6, 0.75, 0.0, 0.2, 0.0, 0.0, 0.0, 0.0, 0.0], \"type\": \"scatter\", \"uid\": \"fc3d809a-3633-11ea-9c5e-79fdfc20b759\"}, {\"line\": {\"color\": \"#e0eeb8\", \"dash\": \"solid\", \"width\": 4}, \"mode\": \"lines+markers\", \"name\": \"Sevir.4G093300\", \"x\": [\"MeJA_Control-48h_L\", \"MeJA_MeJA-1h_L\", \"MeJA_MeJA-4h_L\", \"MeJA_MeJA-8h_L\", \"MeJA_MeJA-24h_L\", \"MeJA_MeJA-48h_L\", \"MeJA_Control-1h_L\", \"MeJA_Control-4h_L\", \"MeJA_Control-8h_L\", \"MeJA_Control-24h_L\"], \"y\": [1.2, 2.0, 3.25, 0.4, 2.4, 0.6, 1.2, 0.6, 1.0, 1.4], \"type\": \"scatter\", \"uid\": \"fc3d8176-3633-11ea-9c5e-79fdfc20b759\"}, {\"line\": {\"color\": \"#11dec1\", \"dash\": \"dot\", \"width\": 4}, \"mode\": \"lines+markers\", \"name\": \"Sevir.1G171100\", \"x\": [\"MeJA_Control-48h_L\", \"MeJA_MeJA-1h_L\", \"MeJA_MeJA-4h_L\", \"MeJA_MeJA-8h_L\", \"MeJA_MeJA-24h_L\", \"MeJA_MeJA-48h_L\", \"MeJA_Control-1h_L\", \"MeJA_Control-4h_L\", \"MeJA_Control-8h_L\", \"MeJA_Control-24h_L\"], \"y\": [0.0, 0.0, 1.25, 0.0, 0.0, 0.0, 0.0, 0.0, 0.0, 0.2], \"type\": \"scatter\", \"uid\": \"fc3d831a-3633-11ea-9c5e-79fdfc20b759\"}, {\"line\": {\"color\": \"#289812\", \"dash\": \"dash\", \"width\": 4}, \"mode\": \"lines+markers\", \"name\": \"Sevir.2G305750\", \"x\": [\"MeJA_Control-48h_L\", \"MeJA_MeJA-1h_L\", \"MeJA_MeJA-4h_L\", \"MeJA_MeJA-8h_L\", \"MeJA_MeJA-24h_L\", \"MeJA_MeJA-48h_L\", \"MeJA_Control-1h_L\", \"MeJA_Control-4h_L\", \"MeJA_Control-8h_L\", \"MeJA_Control-24h_L\"], \"y\": [0.9642898200000001, 6.3237879999999995, 5.023945, 0.368448, 0.0, 1.5991139999999997, 0.48827800000000005, 0.0, 0.583416, 0.309218], \"type\": \"scatter\", \"uid\": \"fc3d8482-3633-11ea-9c5e-79fdfc20b759\"}, {\"line\": {\"color\": \"#566ca0\", \"dash\": \"solid\", \"width\": 4}, \"mode\": \"lines+markers\", \"name\": \"Sevir.9G169700\", \"x\": [\"MeJA_Control-48h_L\", \"MeJA_MeJA-1h_L\", \"MeJA_MeJA-4h_L\", \"MeJA_MeJA-8h_L\", \"MeJA_MeJA-24h_L\", \"MeJA_MeJA-48h_L\", \"MeJA_Control-1h_L\", \"MeJA_Control-4h_L\", \"MeJA_Control-8h_L\", \"MeJA_Control-24h_L\"], \"y\": [0.0, 0.0, 0.0, 0.0, 0.0, 0.0, 0.0, 0.0, 0.0, 0.0], \"type\": \"scatter\", \"uid\": \"fc3d85b8-3633-11ea-9c5e-79fdfc20b759\"}, {\"line\": {\"color\": \"#ffdbe1\", \"dash\": \"dot\", \"width\": 4}, \"mode\": \"lines+markers\", \"name\": \"Sevir.1G020800\", \"x\": [\"MeJA_Control-48h_L\", \"MeJA_MeJA-1h_L\", \"MeJA_MeJA-4h_L\", \"MeJA_MeJA-8h_L\", \"MeJA_MeJA-24h_L\", \"MeJA_MeJA-48h_L\", \"MeJA_Control-1h_L\", \"MeJA_Control-4h_L\", \"MeJA_Control-8h_L\", \"MeJA_Control-24h_L\"], \"y\": [0.2, 0.2, 0.5, 0.2, 0.2, 0.2, 0.4, 0.8, 0.2, 0.4], \"type\": \"scatter\", \"uid\": \"fc3d86ee-3633-11ea-9c5e-79fdfc20b759\"}, {\"line\": {\"color\": \"#2f1179\", \"dash\": \"dash\", \"width\": 4}, \"mode\": \"lines+markers\", \"name\": \"Sevir.5G194900\", \"x\": [\"MeJA_Control-48h_L\", \"MeJA_MeJA-1h_L\", \"MeJA_MeJA-4h_L\", \"MeJA_MeJA-8h_L\", \"MeJA_MeJA-24h_L\", \"MeJA_MeJA-48h_L\", \"MeJA_Control-1h_L\", \"MeJA_Control-4h_L\", \"MeJA_Control-8h_L\", \"MeJA_Control-24h_L\"], \"y\": [0.0, 0.2, 0.5, 0.0, 0.0, 0.2, 0.0, 0.0, 0.0, 0.0], \"type\": \"scatter\", \"uid\": \"fc3d8824-3633-11ea-9c5e-79fdfc20b759\"}, {\"line\": {\"color\": \"#935b6d\", \"dash\": \"solid\", \"width\": 4}, \"mode\": \"lines+markers\", \"name\": \"Sevir.6G028050\", \"x\": [\"MeJA_Control-48h_L\", \"MeJA_MeJA-1h_L\", \"MeJA_MeJA-4h_L\", \"MeJA_MeJA-8h_L\", \"MeJA_MeJA-24h_L\", \"MeJA_MeJA-48h_L\", \"MeJA_Control-1h_L\", \"MeJA_Control-4h_L\", \"MeJA_Control-8h_L\", \"MeJA_Control-24h_L\"], \"y\": [0.0, 0.0, 0.75, 0.0, 0.2, 0.787172, 0.0, 0.0, 0.0, 0.2], \"type\": \"scatter\", \"uid\": \"fc3d895a-3633-11ea-9c5e-79fdfc20b759\"}, {\"line\": {\"color\": \"#916988\", \"dash\": \"dot\", \"width\": 4}, \"mode\": \"lines+markers\", \"name\": \"Sevir.2G003200\", \"x\": [\"MeJA_Control-48h_L\", \"MeJA_MeJA-1h_L\", \"MeJA_MeJA-4h_L\", \"MeJA_MeJA-8h_L\", \"MeJA_MeJA-24h_L\", \"MeJA_MeJA-48h_L\", \"MeJA_Control-1h_L\", \"MeJA_Control-4h_L\", \"MeJA_Control-8h_L\", \"MeJA_Control-24h_L\"], \"y\": [0.0, 0.2, 1.25, 0.2, 0.0, 0.6, 0.0, 0.2, 0.0, 0.0], \"type\": \"scatter\", \"uid\": \"fc3d8a90-3633-11ea-9c5e-79fdfc20b759\"}, {\"line\": {\"color\": \"#513d98\", \"dash\": \"dash\", \"width\": 4}, \"mode\": \"lines+markers\", \"name\": \"Sevir.8G079100\", \"x\": [\"MeJA_Control-48h_L\", \"MeJA_MeJA-1h_L\", \"MeJA_MeJA-4h_L\", \"MeJA_MeJA-8h_L\", \"MeJA_MeJA-24h_L\", \"MeJA_MeJA-48h_L\", \"MeJA_Control-1h_L\", \"MeJA_Control-4h_L\", \"MeJA_Control-8h_L\", \"MeJA_Control-24h_L\"], \"y\": [0.0, 0.0, 0.75, 0.0, 0.0, 0.0, 0.0, 0.0, 0.0, 0.0], \"type\": \"scatter\", \"uid\": \"fc3d8bc6-3633-11ea-9c5e-79fdfc20b759\"}, {\"line\": {\"color\": \"#aead3a\", \"dash\": \"solid\", \"width\": 4}, \"mode\": \"lines+markers\", \"name\": \"Sevir.4G293501\", \"x\": [\"MeJA_Control-48h_L\", \"MeJA_MeJA-1h_L\", \"MeJA_MeJA-4h_L\", \"MeJA_MeJA-8h_L\", \"MeJA_MeJA-24h_L\", \"MeJA_MeJA-48h_L\", \"MeJA_Control-1h_L\", \"MeJA_Control-4h_L\", \"MeJA_Control-8h_L\", \"MeJA_Control-24h_L\"], \"y\": [0.0, 0.0, 0.1452915, 0.0, 0.0, 0.0, 0.0, 0.07435, 0.0, 0.0], \"type\": \"scatter\", \"uid\": \"fc3d8cfc-3633-11ea-9c5e-79fdfc20b759\"}, {\"line\": {\"color\": \"#9e6d71\", \"dash\": \"dot\", \"width\": 4}, \"mode\": \"lines+markers\", \"name\": \"Sevir.7G022900\", \"x\": [\"MeJA_Control-48h_L\", \"MeJA_MeJA-1h_L\", \"MeJA_MeJA-4h_L\", \"MeJA_MeJA-8h_L\", \"MeJA_MeJA-24h_L\", \"MeJA_MeJA-48h_L\", \"MeJA_Control-1h_L\", \"MeJA_Control-4h_L\", \"MeJA_Control-8h_L\", \"MeJA_Control-24h_L\"], \"y\": [0.0, 0.0, 0.25, 0.0, 0.0, 0.0, 0.0, 0.0, 0.0, 0.0], \"type\": \"scatter\", \"uid\": \"fc3d8e32-3633-11ea-9c5e-79fdfc20b759\"}, {\"line\": {\"color\": \"#4b5bdc\", \"dash\": \"dash\", \"width\": 4}, \"mode\": \"lines+markers\", \"name\": \"Sevir.8G165900\", \"x\": [\"MeJA_Control-48h_L\", \"MeJA_MeJA-1h_L\", \"MeJA_MeJA-4h_L\", \"MeJA_MeJA-8h_L\", \"MeJA_MeJA-24h_L\", \"MeJA_MeJA-48h_L\", \"MeJA_Control-1h_L\", \"MeJA_Control-4h_L\", \"MeJA_Control-8h_L\", \"MeJA_Control-24h_L\"], \"y\": [0.0, 0.0, 0.25, 0.0, 0.0, 0.0, 0.0, 0.0, 0.0, 0.0], \"type\": \"scatter\", \"uid\": \"fc3d8f5e-3633-11ea-9c5e-79fdfc20b759\"}, {\"line\": {\"color\": \"#0cd36d\", \"dash\": \"solid\", \"width\": 4}, \"mode\": \"lines+markers\", \"name\": \"Sevir.9G092300\", \"x\": [\"MeJA_Control-48h_L\", \"MeJA_MeJA-1h_L\", \"MeJA_MeJA-4h_L\", \"MeJA_MeJA-8h_L\", \"MeJA_MeJA-24h_L\", \"MeJA_MeJA-48h_L\", \"MeJA_Control-1h_L\", \"MeJA_Control-4h_L\", \"MeJA_Control-8h_L\", \"MeJA_Control-24h_L\"], \"y\": [0.0, 0.0, 0.25, 0.0, 0.0, 0.0, 0.0, 0.0, 0.0, 0.0], \"type\": \"scatter\", \"uid\": \"fc3d9094-3633-11ea-9c5e-79fdfc20b759\"}, {\"line\": {\"color\": \"#250662\", \"dash\": \"dot\", \"width\": 4}, \"mode\": \"lines+markers\", \"name\": \"Sevir.6G113200\", \"x\": [\"MeJA_Control-48h_L\", \"MeJA_MeJA-1h_L\", \"MeJA_MeJA-4h_L\", \"MeJA_MeJA-8h_L\", \"MeJA_MeJA-24h_L\", \"MeJA_MeJA-48h_L\", \"MeJA_Control-1h_L\", \"MeJA_Control-4h_L\", \"MeJA_Control-8h_L\", \"MeJA_Control-24h_L\"], \"y\": [0.0, 0.0, 1.25, 0.0, 0.0, 0.0, 0.0, 0.0, 0.0, 0.0], \"type\": \"scatter\", \"uid\": \"fc3d91c0-3633-11ea-9c5e-79fdfc20b759\"}, {\"line\": {\"color\": \"#cb5bea\", \"dash\": \"dash\", \"width\": 4}, \"mode\": \"lines+markers\", \"name\": \"Sevir.4G160200\", \"x\": [\"MeJA_Control-48h_L\", \"MeJA_MeJA-1h_L\", \"MeJA_MeJA-4h_L\", \"MeJA_MeJA-8h_L\", \"MeJA_MeJA-24h_L\", \"MeJA_MeJA-48h_L\", \"MeJA_Control-1h_L\", \"MeJA_Control-4h_L\", \"MeJA_Control-8h_L\", \"MeJA_Control-24h_L\"], \"y\": [0.0, 0.0, 0.5, 0.0, 0.0, 0.0, 0.0, 0.0, 0.0, 0.0], \"type\": \"scatter\", \"uid\": \"fc3d92f6-3633-11ea-9c5e-79fdfc20b759\"}, {\"line\": {\"color\": \"#228916\", \"dash\": \"solid\", \"width\": 4}, \"mode\": \"lines+markers\", \"name\": \"Sevir.5G037400\", \"x\": [\"MeJA_Control-48h_L\", \"MeJA_MeJA-1h_L\", \"MeJA_MeJA-4h_L\", \"MeJA_MeJA-8h_L\", \"MeJA_MeJA-24h_L\", \"MeJA_MeJA-48h_L\", \"MeJA_Control-1h_L\", \"MeJA_Control-4h_L\", \"MeJA_Control-8h_L\", \"MeJA_Control-24h_L\"], \"y\": [0.0, 0.0, 0.5, 0.0, 0.0, 0.0, 0.0, 0.0, 0.0, 0.0], \"type\": \"scatter\", \"uid\": \"fc3d942c-3633-11ea-9c5e-79fdfc20b759\"}, {\"line\": {\"color\": \"#ac3e1b\", \"dash\": \"dot\", \"width\": 4}, \"mode\": \"lines+markers\", \"name\": \"Sevir.3G298200\", \"x\": [\"MeJA_Control-48h_L\", \"MeJA_MeJA-1h_L\", \"MeJA_MeJA-4h_L\", \"MeJA_MeJA-8h_L\", \"MeJA_MeJA-24h_L\", \"MeJA_MeJA-48h_L\", \"MeJA_Control-1h_L\", \"MeJA_Control-4h_L\", \"MeJA_Control-8h_L\", \"MeJA_Control-24h_L\"], \"y\": [0.0, 0.0, 1.75, 0.0, 0.0, 0.0, 0.0, 0.0, 0.0, 0.0], \"type\": \"scatter\", \"uid\": \"fc3d9562-3633-11ea-9c5e-79fdfc20b759\"}, {\"line\": {\"color\": \"#df514a\", \"dash\": \"dash\", \"width\": 4}, \"mode\": \"lines+markers\", \"name\": \"Sevir.2G437300\", \"x\": [\"MeJA_Control-48h_L\", \"MeJA_MeJA-1h_L\", \"MeJA_MeJA-4h_L\", \"MeJA_MeJA-8h_L\", \"MeJA_MeJA-24h_L\", \"MeJA_MeJA-48h_L\", \"MeJA_Control-1h_L\", \"MeJA_Control-4h_L\", \"MeJA_Control-8h_L\", \"MeJA_Control-24h_L\"], \"y\": [0.0, 0.0, 0.5, 0.0, 0.0, 0.0, 0.0, 0.0, 0.0, 0.0], \"type\": \"scatter\", \"uid\": \"fc3d9698-3633-11ea-9c5e-79fdfc20b759\"}, {\"line\": {\"color\": \"#539397\", \"dash\": \"solid\", \"width\": 4}, \"mode\": \"lines+markers\", \"name\": \"Sevir.9G095700\", \"x\": [\"MeJA_Control-48h_L\", \"MeJA_MeJA-1h_L\", \"MeJA_MeJA-4h_L\", \"MeJA_MeJA-8h_L\", \"MeJA_MeJA-24h_L\", \"MeJA_MeJA-48h_L\", \"MeJA_Control-1h_L\", \"MeJA_Control-4h_L\", \"MeJA_Control-8h_L\", \"MeJA_Control-24h_L\"], \"y\": [0.7823840000000001, 0.0, 3.76375, 0.966526, 0.0, 0.0, 1.0054960418719998, 1.5363859999999998, 0.397984, 0.754926], \"type\": \"scatter\", \"uid\": \"fc3d97ce-3633-11ea-9c5e-79fdfc20b759\"}, {\"line\": {\"color\": \"#880977\", \"dash\": \"dot\", \"width\": 4}, \"mode\": \"lines+markers\", \"name\": \"Sevir.1G265000\", \"x\": [\"MeJA_Control-48h_L\", \"MeJA_MeJA-1h_L\", \"MeJA_MeJA-4h_L\", \"MeJA_MeJA-8h_L\", \"MeJA_MeJA-24h_L\", \"MeJA_MeJA-48h_L\", \"MeJA_Control-1h_L\", \"MeJA_Control-4h_L\", \"MeJA_Control-8h_L\", \"MeJA_Control-24h_L\"], \"y\": [0.0, 0.0, 0.25, 0.0, 0.0, 0.0, 0.0, 0.0, 0.0, 0.0], \"type\": \"scatter\", \"uid\": \"fc3d98fa-3633-11ea-9c5e-79fdfc20b759\"}, {\"line\": {\"color\": \"#f697c1\", \"dash\": \"dash\", \"width\": 4}, \"mode\": \"lines+markers\", \"name\": \"Sevir.5G418900\", \"x\": [\"MeJA_Control-48h_L\", \"MeJA_MeJA-1h_L\", \"MeJA_MeJA-4h_L\", \"MeJA_MeJA-8h_L\", \"MeJA_MeJA-24h_L\", \"MeJA_MeJA-48h_L\", \"MeJA_Control-1h_L\", \"MeJA_Control-4h_L\", \"MeJA_Control-8h_L\", \"MeJA_Control-24h_L\"], \"y\": [0.2, 0.0, 0.75, 0.0, 0.0, 0.0, 0.0, 0.0, 0.0, 0.0], \"type\": \"scatter\", \"uid\": \"fc3d9a30-3633-11ea-9c5e-79fdfc20b759\"}, {\"line\": {\"color\": \"#ba96ce\", \"dash\": \"solid\", \"width\": 4}, \"mode\": \"lines+markers\", \"name\": \"Sevir.8G237700\", \"x\": [\"MeJA_Control-48h_L\", \"MeJA_MeJA-1h_L\", \"MeJA_MeJA-4h_L\", \"MeJA_MeJA-8h_L\", \"MeJA_MeJA-24h_L\", \"MeJA_MeJA-48h_L\", \"MeJA_Control-1h_L\", \"MeJA_Control-4h_L\", \"MeJA_Control-8h_L\", \"MeJA_Control-24h_L\"], \"y\": [0.2, 0.0, 0.5, 0.0, 0.0, 0.0, 0.0, 0.0, 0.0, 0.4], \"type\": \"scatter\", \"uid\": \"fc3d9b5c-3633-11ea-9c5e-79fdfc20b759\"}, {\"line\": {\"color\": \"#679c9d\", \"dash\": \"dot\", \"width\": 4}, \"mode\": \"lines+markers\", \"name\": \"Sevir.2G177600\", \"x\": [\"MeJA_Control-48h_L\", \"MeJA_MeJA-1h_L\", \"MeJA_MeJA-4h_L\", \"MeJA_MeJA-8h_L\", \"MeJA_MeJA-24h_L\", \"MeJA_MeJA-48h_L\", \"MeJA_Control-1h_L\", \"MeJA_Control-4h_L\", \"MeJA_Control-8h_L\", \"MeJA_Control-24h_L\"], \"y\": [0.0, 0.4, 1.75, 0.0, 0.2, 0.0, 0.0, 0.0, 0.2, 0.0], \"type\": \"scatter\", \"uid\": \"fc3d9c92-3633-11ea-9c5e-79fdfc20b759\"}, {\"line\": {\"color\": \"#c6c42c\", \"dash\": \"dash\", \"width\": 4}, \"mode\": \"lines+markers\", \"name\": \"Sevir.9G253801\", \"x\": [\"MeJA_Control-48h_L\", \"MeJA_MeJA-1h_L\", \"MeJA_MeJA-4h_L\", \"MeJA_MeJA-8h_L\", \"MeJA_MeJA-24h_L\", \"MeJA_MeJA-48h_L\", \"MeJA_Control-1h_L\", \"MeJA_Control-4h_L\", \"MeJA_Control-8h_L\", \"MeJA_Control-24h_L\"], \"y\": [0.0, 0.8, 1.25, 0.4, 0.4, 0.0, 0.0, 0.0, 0.0, 0.0], \"type\": \"scatter\", \"uid\": \"fc3d9dc8-3633-11ea-9c5e-79fdfc20b759\"}, {\"line\": {\"color\": \"#5d2c52\", \"dash\": \"solid\", \"width\": 4}, \"mode\": \"lines+markers\", \"name\": \"Sevir.6G183566\", \"x\": [\"MeJA_Control-48h_L\", \"MeJA_MeJA-1h_L\", \"MeJA_MeJA-4h_L\", \"MeJA_MeJA-8h_L\", \"MeJA_MeJA-24h_L\", \"MeJA_MeJA-48h_L\", \"MeJA_Control-1h_L\", \"MeJA_Control-4h_L\", \"MeJA_Control-8h_L\", \"MeJA_Control-24h_L\"], \"y\": [0.0, 0.0, 0.25, 0.0, 0.0, 0.0, 0.0, 0.0, 0.0, 0.0], \"type\": \"scatter\", \"uid\": \"fc3d9ef4-3633-11ea-9c5e-79fdfc20b759\"}, {\"line\": {\"color\": \"#48b41b\", \"dash\": \"dot\", \"width\": 4}, \"mode\": \"lines+markers\", \"name\": \"Sevir.8G259500\", \"x\": [\"MeJA_Control-48h_L\", \"MeJA_MeJA-1h_L\", \"MeJA_MeJA-4h_L\", \"MeJA_MeJA-8h_L\", \"MeJA_MeJA-24h_L\", \"MeJA_MeJA-48h_L\", \"MeJA_Control-1h_L\", \"MeJA_Control-4h_L\", \"MeJA_Control-8h_L\", \"MeJA_Control-24h_L\"], \"y\": [1.2547899999999998, 2.217476, 1.7645225, 1.090228, 0.40253999999999995, 1.5737979999999998, 1.261546, 2.037646, 0.2, 1.8001919999999998], \"type\": \"scatter\", \"uid\": \"fc3da02a-3633-11ea-9c5e-79fdfc20b759\"}, {\"line\": {\"color\": \"#e1cf3b\", \"dash\": \"dash\", \"width\": 4}, \"mode\": \"lines+markers\", \"name\": \"Sevir.5G036550\", \"x\": [\"MeJA_Control-48h_L\", \"MeJA_MeJA-1h_L\", \"MeJA_MeJA-4h_L\", \"MeJA_MeJA-8h_L\", \"MeJA_MeJA-24h_L\", \"MeJA_MeJA-48h_L\", \"MeJA_Control-1h_L\", \"MeJA_Control-4h_L\", \"MeJA_Control-8h_L\", \"MeJA_Control-24h_L\"], \"y\": [1.019524, 0.6, 1.75, 0.2, 0.0, 0.0, 0.0, 0.8, 0.6, 0.2], \"type\": \"scatter\", \"uid\": \"fc3da156-3633-11ea-9c5e-79fdfc20b759\"}, {\"line\": {\"color\": \"#5be4f0\", \"dash\": \"solid\", \"width\": 4}, \"mode\": \"lines+markers\", \"name\": \"Sevir.7G279700\", \"x\": [\"MeJA_Control-48h_L\", \"MeJA_MeJA-1h_L\", \"MeJA_MeJA-4h_L\", \"MeJA_MeJA-8h_L\", \"MeJA_MeJA-24h_L\", \"MeJA_MeJA-48h_L\", \"MeJA_Control-1h_L\", \"MeJA_Control-4h_L\", \"MeJA_Control-8h_L\", \"MeJA_Control-24h_L\"], \"y\": [0.2, 0.0, 1.25, 0.0, 0.0, 0.0, 0.8, 0.4, 0.0, 0.0], \"type\": \"scatter\", \"uid\": \"fc3da28c-3633-11ea-9c5e-79fdfc20b759\"}, {\"line\": {\"color\": \"#57c4d8\", \"dash\": \"dot\", \"width\": 4}, \"mode\": \"lines+markers\", \"name\": \"Sevir.8G068450\", \"x\": [\"MeJA_Control-48h_L\", \"MeJA_MeJA-1h_L\", \"MeJA_MeJA-4h_L\", \"MeJA_MeJA-8h_L\", \"MeJA_MeJA-24h_L\", \"MeJA_MeJA-48h_L\", \"MeJA_Control-1h_L\", \"MeJA_Control-4h_L\", \"MeJA_Control-8h_L\", \"MeJA_Control-24h_L\"], \"y\": [0.0, 0.0, 0.0, 0.0, 0.0, 0.0, 0.0, 0.0, 0.0, 0.0], \"type\": \"scatter\", \"uid\": \"fc3da3c2-3633-11ea-9c5e-79fdfc20b759\"}, {\"line\": {\"color\": \"#a4d17a\", \"dash\": \"dash\", \"width\": 4}, \"mode\": \"lines+markers\", \"name\": \"Sevir.9G576750\", \"x\": [\"MeJA_Control-48h_L\", \"MeJA_MeJA-1h_L\", \"MeJA_MeJA-4h_L\", \"MeJA_MeJA-8h_L\", \"MeJA_MeJA-24h_L\", \"MeJA_MeJA-48h_L\", \"MeJA_Control-1h_L\", \"MeJA_Control-4h_L\", \"MeJA_Control-8h_L\", \"MeJA_Control-24h_L\"], \"y\": [0.4, 0.8, 2.75, 0.2, 0.4, 0.0, 0.0, 0.2, 0.4, 0.0], \"type\": \"scatter\", \"uid\": \"fc3da4ee-3633-11ea-9c5e-79fdfc20b759\"}, {\"line\": {\"color\": \"#225b8e\", \"dash\": \"solid\", \"width\": 4}, \"mode\": \"lines+markers\", \"name\": \"Sevir.9G248533\", \"x\": [\"MeJA_Control-48h_L\", \"MeJA_MeJA-1h_L\", \"MeJA_MeJA-4h_L\", \"MeJA_MeJA-8h_L\", \"MeJA_MeJA-24h_L\", \"MeJA_MeJA-48h_L\", \"MeJA_Control-1h_L\", \"MeJA_Control-4h_L\", \"MeJA_Control-8h_L\", \"MeJA_Control-24h_L\"], \"y\": [1.0, 3.0, 4.0, 0.8, 2.204052, 0.2, 0.4, 2.0, 1.6, 1.6], \"type\": \"scatter\", \"uid\": \"fc3da624-3633-11ea-9c5e-79fdfc20b759\"}, {\"line\": {\"color\": \"#be608b\", \"dash\": \"dot\", \"width\": 4}, \"mode\": \"lines+markers\", \"name\": \"Sevir.1G379100\", \"x\": [\"MeJA_Control-48h_L\", \"MeJA_MeJA-1h_L\", \"MeJA_MeJA-4h_L\", \"MeJA_MeJA-8h_L\", \"MeJA_MeJA-24h_L\", \"MeJA_MeJA-48h_L\", \"MeJA_Control-1h_L\", \"MeJA_Control-4h_L\", \"MeJA_Control-8h_L\", \"MeJA_Control-24h_L\"], \"y\": [5.051640000000001, 6.606816, 8.665777499999999, 4.650376, 10.402284, 1.846698, 3.149864, 6.303012, 4.9104600000000005, 11.263650000000002], \"type\": \"scatter\", \"uid\": \"fc3da750-3633-11ea-9c5e-79fdfc20b759\"}, {\"line\": {\"color\": \"#96b00c\", \"dash\": \"dash\", \"width\": 4}, \"mode\": \"lines+markers\", \"name\": \"Sevir.8G222414\", \"x\": [\"MeJA_Control-48h_L\", \"MeJA_MeJA-1h_L\", \"MeJA_MeJA-4h_L\", \"MeJA_MeJA-8h_L\", \"MeJA_MeJA-24h_L\", \"MeJA_MeJA-48h_L\", \"MeJA_Control-1h_L\", \"MeJA_Control-4h_L\", \"MeJA_Control-8h_L\", \"MeJA_Control-24h_L\"], \"y\": [1.4, 1.0, 2.25, 0.8, 1.7841960000000001, 0.0, 0.8023340000000001, 2.737984, 1.0, 1.7379840000000002], \"type\": \"scatter\", \"uid\": \"fc3da872-3633-11ea-9c5e-79fdfc20b759\"}, {\"line\": {\"color\": \"#088baf\", \"dash\": \"solid\", \"width\": 4}, \"mode\": \"lines+markers\", \"name\": \"Sevir.6G039200\", \"x\": [\"MeJA_Control-48h_L\", \"MeJA_MeJA-1h_L\", \"MeJA_MeJA-4h_L\", \"MeJA_MeJA-8h_L\", \"MeJA_MeJA-24h_L\", \"MeJA_MeJA-48h_L\", \"MeJA_Control-1h_L\", \"MeJA_Control-4h_L\", \"MeJA_Control-8h_L\", \"MeJA_Control-24h_L\"], \"y\": [4.216468000000001, 26.262199999999996, 43.0683875, 0.570888, 5.318044, 13.119755999999999, 6.462288000000001, 9.873935999999999, 4.860116, 4.536849999999999], \"type\": \"scatter\", \"uid\": \"fc3dad4a-3633-11ea-9c5e-79fdfc20b759\"}, {\"line\": {\"color\": \"#f158bf\", \"dash\": \"dot\", \"width\": 4}, \"mode\": \"lines+markers\", \"name\": \"Sevir.6G075100\", \"x\": [\"MeJA_Control-48h_L\", \"MeJA_MeJA-1h_L\", \"MeJA_MeJA-4h_L\", \"MeJA_MeJA-8h_L\", \"MeJA_MeJA-24h_L\", \"MeJA_MeJA-48h_L\", \"MeJA_Control-1h_L\", \"MeJA_Control-4h_L\", \"MeJA_Control-8h_L\", \"MeJA_Control-24h_L\"], \"y\": [0.0, 0.0, 1.5, 0.0, 0.4, 0.0, 0.0, 0.0, 0.0, 0.0], \"type\": \"scatter\", \"uid\": \"fc3daff2-3633-11ea-9c5e-79fdfc20b759\"}, {\"line\": {\"color\": \"#e145ba\", \"dash\": \"dash\", \"width\": 4}, \"mode\": \"lines+markers\", \"name\": \"Sevir.3G331800\", \"x\": [\"MeJA_Control-48h_L\", \"MeJA_MeJA-1h_L\", \"MeJA_MeJA-4h_L\", \"MeJA_MeJA-8h_L\", \"MeJA_MeJA-24h_L\", \"MeJA_MeJA-48h_L\", \"MeJA_Control-1h_L\", \"MeJA_Control-4h_L\", \"MeJA_Control-8h_L\", \"MeJA_Control-24h_L\"], \"y\": [0.2, 0.0, 1.75, 0.0, 0.6, 0.0, 0.2, 1.2, 1.0, 0.6], \"type\": \"scatter\", \"uid\": \"fc3db100-3633-11ea-9c5e-79fdfc20b759\"}, {\"line\": {\"color\": \"#ee91e3\", \"dash\": \"solid\", \"width\": 4}, \"mode\": \"lines+markers\", \"name\": \"Sevir.4G164200\", \"x\": [\"MeJA_Control-48h_L\", \"MeJA_MeJA-1h_L\", \"MeJA_MeJA-4h_L\", \"MeJA_MeJA-8h_L\", \"MeJA_MeJA-24h_L\", \"MeJA_MeJA-48h_L\", \"MeJA_Control-1h_L\", \"MeJA_Control-4h_L\", \"MeJA_Control-8h_L\", \"MeJA_Control-24h_L\"], \"y\": [0.2378134, 0.0, 1.5, 0.2, 0.0, 0.0, 0.4, 0.0, 0.0, 0.0], \"type\": \"scatter\", \"uid\": \"fc3db1dc-3633-11ea-9c5e-79fdfc20b759\"}, {\"line\": {\"color\": \"#05d371\", \"dash\": \"dot\", \"width\": 4}, \"mode\": \"lines+markers\", \"name\": \"Sevir.9G347733\", \"x\": [\"MeJA_Control-48h_L\", \"MeJA_MeJA-1h_L\", \"MeJA_MeJA-4h_L\", \"MeJA_MeJA-8h_L\", \"MeJA_MeJA-24h_L\", \"MeJA_MeJA-48h_L\", \"MeJA_Control-1h_L\", \"MeJA_Control-4h_L\", \"MeJA_Control-8h_L\", \"MeJA_Control-24h_L\"], \"y\": [0.6, 0.4, 2.0, 0.6, 2.4, 0.0, 1.0, 1.8, 1.2, 1.2], \"type\": \"scatter\", \"uid\": \"fc3db2b8-3633-11ea-9c5e-79fdfc20b759\"}, {\"line\": {\"color\": \"#5426e0\", \"dash\": \"dash\", \"width\": 4}, \"mode\": \"lines+markers\", \"name\": \"Sevir.2G396750\", \"x\": [\"MeJA_Control-48h_L\", \"MeJA_MeJA-1h_L\", \"MeJA_MeJA-4h_L\", \"MeJA_MeJA-8h_L\", \"MeJA_MeJA-24h_L\", \"MeJA_MeJA-48h_L\", \"MeJA_Control-1h_L\", \"MeJA_Control-4h_L\", \"MeJA_Control-8h_L\", \"MeJA_Control-24h_L\"], \"y\": [0.0, 0.0, 0.75, 0.0, 0.0, 0.0, 0.0, 0.0, 0.0, 0.0], \"type\": \"scatter\", \"uid\": \"fc3db38a-3633-11ea-9c5e-79fdfc20b759\"}, {\"line\": {\"color\": \"#4834d0\", \"dash\": \"solid\", \"width\": 4}, \"mode\": \"lines+markers\", \"name\": \"Sevir.3G116100\", \"x\": [\"MeJA_Control-48h_L\", \"MeJA_MeJA-1h_L\", \"MeJA_MeJA-4h_L\", \"MeJA_MeJA-8h_L\", \"MeJA_MeJA-24h_L\", \"MeJA_MeJA-48h_L\", \"MeJA_Control-1h_L\", \"MeJA_Control-4h_L\", \"MeJA_Control-8h_L\", \"MeJA_Control-24h_L\"], \"y\": [0.2, 0.0, 1.75, 0.0, 0.4, 0.6, 0.2, 0.0, 0.4, 0.0], \"type\": \"scatter\", \"uid\": \"fc3db45c-3633-11ea-9c5e-79fdfc20b759\"}, {\"line\": {\"color\": \"#802234\", \"dash\": \"dot\", \"width\": 4}, \"mode\": \"lines+markers\", \"name\": \"Sevir.7G061100\", \"x\": [\"MeJA_Control-48h_L\", \"MeJA_MeJA-1h_L\", \"MeJA_MeJA-4h_L\", \"MeJA_MeJA-8h_L\", \"MeJA_MeJA-24h_L\", \"MeJA_MeJA-48h_L\", \"MeJA_Control-1h_L\", \"MeJA_Control-4h_L\", \"MeJA_Control-8h_L\", \"MeJA_Control-24h_L\"], \"y\": [0.0, 0.2, 0.25, 0.2, 0.0, 0.0, 0.0, 0.0, 0.0, 0.2], \"type\": \"scatter\", \"uid\": \"fc3db52e-3633-11ea-9c5e-79fdfc20b759\"}, {\"line\": {\"color\": \"#6749e8\", \"dash\": \"dash\", \"width\": 4}, \"mode\": \"lines+markers\", \"name\": \"Sevir.2G307100\", \"x\": [\"MeJA_Control-48h_L\", \"MeJA_MeJA-1h_L\", \"MeJA_MeJA-4h_L\", \"MeJA_MeJA-8h_L\", \"MeJA_MeJA-24h_L\", \"MeJA_MeJA-48h_L\", \"MeJA_Control-1h_L\", \"MeJA_Control-4h_L\", \"MeJA_Control-8h_L\", \"MeJA_Control-24h_L\"], \"y\": [0.0, 0.0, 1.5, 0.0, 0.8, 0.2, 0.0, 0.0, 1.6, 0.0], \"type\": \"scatter\", \"uid\": \"fc3db600-3633-11ea-9c5e-79fdfc20b759\"}, {\"line\": {\"color\": \"#0971f0\", \"dash\": \"solid\", \"width\": 4}, \"mode\": \"lines+markers\", \"name\": \"Sevir.5G087400\", \"x\": [\"MeJA_Control-48h_L\", \"MeJA_MeJA-1h_L\", \"MeJA_MeJA-4h_L\", \"MeJA_MeJA-8h_L\", \"MeJA_MeJA-24h_L\", \"MeJA_MeJA-48h_L\", \"MeJA_Control-1h_L\", \"MeJA_Control-4h_L\", \"MeJA_Control-8h_L\", \"MeJA_Control-24h_L\"], \"y\": [0.8, 0.2, 1.5, 0.6, 0.4, 0.0, 0.0, 0.0, 0.4, 0.4], \"type\": \"scatter\", \"uid\": \"fc3db6d2-3633-11ea-9c5e-79fdfc20b759\"}, {\"line\": {\"color\": \"#8fb413\", \"dash\": \"dot\", \"width\": 4}, \"mode\": \"lines+markers\", \"name\": \"Sevir.7G005300\", \"x\": [\"MeJA_Control-48h_L\", \"MeJA_MeJA-1h_L\", \"MeJA_MeJA-4h_L\", \"MeJA_MeJA-8h_L\", \"MeJA_MeJA-24h_L\", \"MeJA_MeJA-48h_L\", \"MeJA_Control-1h_L\", \"MeJA_Control-4h_L\", \"MeJA_Control-8h_L\", \"MeJA_Control-24h_L\"], \"y\": [0.0, 0.0, 0.5, 0.0, 0.0, 0.2, 0.0, 0.0, 0.0, 0.0], \"type\": \"scatter\", \"uid\": \"fc3db7a4-3633-11ea-9c5e-79fdfc20b759\"}, {\"line\": {\"color\": \"#b2b4f0\", \"dash\": \"dash\", \"width\": 4}, \"mode\": \"lines+markers\", \"name\": \"Sevir.2G026100\", \"x\": [\"MeJA_Control-48h_L\", \"MeJA_MeJA-1h_L\", \"MeJA_MeJA-4h_L\", \"MeJA_MeJA-8h_L\", \"MeJA_MeJA-24h_L\", \"MeJA_MeJA-48h_L\", \"MeJA_Control-1h_L\", \"MeJA_Control-4h_L\", \"MeJA_Control-8h_L\", \"MeJA_Control-24h_L\"], \"y\": [0.0, 0.0, 1.75, 0.0, 0.0, 0.0, 0.0, 0.4, 0.0, 0.2], \"type\": \"scatter\", \"uid\": \"fc3db876-3633-11ea-9c5e-79fdfc20b759\"}, {\"line\": {\"color\": \"#c3c89d\", \"dash\": \"solid\", \"width\": 4}, \"mode\": \"lines+markers\", \"name\": \"Sevir.9G072900\", \"x\": [\"MeJA_Control-48h_L\", \"MeJA_MeJA-1h_L\", \"MeJA_MeJA-4h_L\", \"MeJA_MeJA-8h_L\", \"MeJA_MeJA-24h_L\", \"MeJA_MeJA-48h_L\", \"MeJA_Control-1h_L\", \"MeJA_Control-4h_L\", \"MeJA_Control-8h_L\", \"MeJA_Control-24h_L\"], \"y\": [0.0, 0.2, 0.75, 0.0, 0.0, 0.0, 0.0, 0.2, 0.2, 0.0], \"type\": \"scatter\", \"uid\": \"fc3db93e-3633-11ea-9c5e-79fdfc20b759\"}], {\"dragmode\": \"select\", \"plot_bgcolor\": \"white\", \"title\": \"Average Gene Expression - Methyl Jasmonate\", \"xaxis\": {\"gridcolor\": \"whitesmoke\", \"showgrid\": true, \"title\": \"Experimental Conditions\"}, \"yaxis\": {\"gridcolor\": \"whitesmoke\", \"showgrid\": true, \"title\": \"Expression\"}}, {\"showLink\": true, \"linkText\": \"Export to plot.ly\"})});</script>"
      ],
      "text/vnd.plotly.v1+html": [
       "<div id=\"d3c0b9b7-fb40-4cb6-9730-759e57f77909\" style=\"height: 525px; width: 100%;\" class=\"plotly-graph-div\"></div><script type=\"text/javascript\">require([\"plotly\"], function(Plotly) { window.PLOTLYENV=window.PLOTLYENV || {};window.PLOTLYENV.BASE_URL=\"https://plot.ly\";Plotly.newPlot(\"d3c0b9b7-fb40-4cb6-9730-759e57f77909\", [{\"line\": {\"color\": \"#ce7d78\", \"dash\": \"dot\", \"width\": 4}, \"mode\": \"lines+markers\", \"name\": \"Sevir.9G282425\", \"x\": [\"MeJA_Control-48h_L\", \"MeJA_MeJA-1h_L\", \"MeJA_MeJA-4h_L\", \"MeJA_MeJA-8h_L\", \"MeJA_MeJA-24h_L\", \"MeJA_MeJA-48h_L\", \"MeJA_Control-1h_L\", \"MeJA_Control-4h_L\", \"MeJA_Control-8h_L\", \"MeJA_Control-24h_L\"], \"y\": [0.4, 1.2, 2.0, 0.4, 1.0, 0.6, 1.2, 0.6, 0.4, 1.8], \"type\": \"scatter\", \"uid\": \"fc3d60a6-3633-11ea-9c5e-79fdfc20b759\"}, {\"line\": {\"color\": \"#ea9e70\", \"dash\": \"dash\", \"width\": 4}, \"mode\": \"lines+markers\", \"name\": \"Sevir.7G018910\", \"x\": [\"MeJA_Control-48h_L\", \"MeJA_MeJA-1h_L\", \"MeJA_MeJA-4h_L\", \"MeJA_MeJA-8h_L\", \"MeJA_MeJA-24h_L\", \"MeJA_MeJA-48h_L\", \"MeJA_Control-1h_L\", \"MeJA_Control-4h_L\", \"MeJA_Control-8h_L\", \"MeJA_Control-24h_L\"], \"y\": [0.0, 0.0, 0.5, 0.077722, 0.0, 0.0, 0.417748, 0.0, 0.0, 0.0], \"type\": \"scatter\", \"uid\": \"fc3d62fe-3633-11ea-9c5e-79fdfc20b759\"}, {\"line\": {\"color\": \"#a48a9e\", \"dash\": \"solid\", \"width\": 4}, \"mode\": \"lines+markers\", \"name\": \"Sevir.5G044500\", \"x\": [\"MeJA_Control-48h_L\", \"MeJA_MeJA-1h_L\", \"MeJA_MeJA-4h_L\", \"MeJA_MeJA-8h_L\", \"MeJA_MeJA-24h_L\", \"MeJA_MeJA-48h_L\", \"MeJA_Control-1h_L\", \"MeJA_Control-4h_L\", \"MeJA_Control-8h_L\", \"MeJA_Control-24h_L\"], \"y\": [0.6, 0.0, 0.75, 0.0, 0.2, 0.0, 0.0, 0.2, 0.0, 0.2], \"type\": \"scatter\", \"uid\": \"fc3d6434-3633-11ea-9c5e-79fdfc20b759\"}, {\"line\": {\"color\": \"#c6e1e8\", \"dash\": \"dot\", \"width\": 4}, \"mode\": \"lines+markers\", \"name\": \"Sevir.2G127900\", \"x\": [\"MeJA_Control-48h_L\", \"MeJA_MeJA-1h_L\", \"MeJA_MeJA-4h_L\", \"MeJA_MeJA-8h_L\", \"MeJA_MeJA-24h_L\", \"MeJA_MeJA-48h_L\", \"MeJA_Control-1h_L\", \"MeJA_Control-4h_L\", \"MeJA_Control-8h_L\", \"MeJA_Control-24h_L\"], \"y\": [0.0, 0.2, 2.0, 0.0, 0.0, 0.0, 0.0, 0.0, 0.0, 0.0], \"type\": \"scatter\", \"uid\": \"fc3d6538-3633-11ea-9c5e-79fdfc20b759\"}, {\"line\": {\"color\": \"#648177\", \"dash\": \"dash\", \"width\": 4}, \"mode\": \"lines+markers\", \"name\": \"Sevir.5G129000\", \"x\": [\"MeJA_Control-48h_L\", \"MeJA_MeJA-1h_L\", \"MeJA_MeJA-4h_L\", \"MeJA_MeJA-8h_L\", \"MeJA_MeJA-24h_L\", \"MeJA_MeJA-48h_L\", \"MeJA_Control-1h_L\", \"MeJA_Control-4h_L\", \"MeJA_Control-8h_L\", \"MeJA_Control-24h_L\"], \"y\": [1.960642, 0.590782, 6.4625425000000005, 3.0665000000000004, 3.7955059999999996, 3.5512799999999998, 2.763682, 4.797856, 0.811788, 2.357076], \"type\": \"scatter\", \"uid\": \"fc3d6632-3633-11ea-9c5e-79fdfc20b759\"}, {\"line\": {\"color\": \"#0d5ac1\", \"dash\": \"solid\", \"width\": 4}, \"mode\": \"lines+markers\", \"name\": \"Sevir.2G354400\", \"x\": [\"MeJA_Control-48h_L\", \"MeJA_MeJA-1h_L\", \"MeJA_MeJA-4h_L\", \"MeJA_MeJA-8h_L\", \"MeJA_MeJA-24h_L\", \"MeJA_MeJA-48h_L\", \"MeJA_Control-1h_L\", \"MeJA_Control-4h_L\", \"MeJA_Control-8h_L\", \"MeJA_Control-24h_L\"], \"y\": [0.2, 0.0, 1.0, 0.0, 1.0, 0.2, 0.0, 0.2, 0.0, 0.4], \"type\": \"scatter\", \"uid\": \"fc3d6718-3633-11ea-9c5e-79fdfc20b759\"}, {\"line\": {\"color\": \"#f205e6\", \"dash\": \"dot\", \"width\": 4}, \"mode\": \"lines+markers\", \"name\": \"Sevir.2G152600\", \"x\": [\"MeJA_Control-48h_L\", \"MeJA_MeJA-1h_L\", \"MeJA_MeJA-4h_L\", \"MeJA_MeJA-8h_L\", \"MeJA_MeJA-24h_L\", \"MeJA_MeJA-48h_L\", \"MeJA_Control-1h_L\", \"MeJA_Control-4h_L\", \"MeJA_Control-8h_L\", \"MeJA_Control-24h_L\"], \"y\": [0.2, 0.0, 0.75, 0.0, 0.4, 0.2, 0.0, 0.0, 0.0, 0.4], \"type\": \"scatter\", \"uid\": \"fc3d67f4-3633-11ea-9c5e-79fdfc20b759\"}, {\"line\": {\"color\": \"#1c0365\", \"dash\": \"dash\", \"width\": 4}, \"mode\": \"lines+markers\", \"name\": \"Sevir.7G023700\", \"x\": [\"MeJA_Control-48h_L\", \"MeJA_MeJA-1h_L\", \"MeJA_MeJA-4h_L\", \"MeJA_MeJA-8h_L\", \"MeJA_MeJA-24h_L\", \"MeJA_MeJA-48h_L\", \"MeJA_Control-1h_L\", \"MeJA_Control-4h_L\", \"MeJA_Control-8h_L\", \"MeJA_Control-24h_L\"], \"y\": [0.4, 1.362008, 2.44656025, 0.927106, 0.560828, 0.0, 0.0, 0.2, 0.0, 0.6533979999999999], \"type\": \"scatter\", \"uid\": \"fc3d68da-3633-11ea-9c5e-79fdfc20b759\"}, {\"line\": {\"color\": \"#14a9ad\", \"dash\": \"solid\", \"width\": 4}, \"mode\": \"lines+markers\", \"name\": \"Sevir.4G118900\", \"x\": [\"MeJA_Control-48h_L\", \"MeJA_MeJA-1h_L\", \"MeJA_MeJA-4h_L\", \"MeJA_MeJA-8h_L\", \"MeJA_MeJA-24h_L\", \"MeJA_MeJA-48h_L\", \"MeJA_Control-1h_L\", \"MeJA_Control-4h_L\", \"MeJA_Control-8h_L\", \"MeJA_Control-24h_L\"], \"y\": [0.4, 1.0, 3.0, 0.8, 0.8, 1.6, 0.8, 0.8, 0.6, 0.6], \"type\": \"scatter\", \"uid\": \"fc3d69c0-3633-11ea-9c5e-79fdfc20b759\"}, {\"line\": {\"color\": \"#4ca2f9\", \"dash\": \"dot\", \"width\": 4}, \"mode\": \"lines+markers\", \"name\": \"Sevir.8G081600\", \"x\": [\"MeJA_Control-48h_L\", \"MeJA_MeJA-1h_L\", \"MeJA_MeJA-4h_L\", \"MeJA_MeJA-8h_L\", \"MeJA_MeJA-24h_L\", \"MeJA_MeJA-48h_L\", \"MeJA_Control-1h_L\", \"MeJA_Control-4h_L\", \"MeJA_Control-8h_L\", \"MeJA_Control-24h_L\"], \"y\": [0.0, 0.1998328, 1.9972375, 0.1997066, 0.399752, 0.598986, 0.0, 0.1997662, 0.1998642, 0.0], \"type\": \"scatter\", \"uid\": \"fc3d6aa6-3633-11ea-9c5e-79fdfc20b759\"}, {\"line\": {\"color\": \"#a4e43f\", \"dash\": \"dash\", \"width\": 4}, \"mode\": \"lines+markers\", \"name\": \"Sevir.5G364132\", \"x\": [\"MeJA_Control-48h_L\", \"MeJA_MeJA-1h_L\", \"MeJA_MeJA-4h_L\", \"MeJA_MeJA-8h_L\", \"MeJA_MeJA-24h_L\", \"MeJA_MeJA-48h_L\", \"MeJA_Control-1h_L\", \"MeJA_Control-4h_L\", \"MeJA_Control-8h_L\", \"MeJA_Control-24h_L\"], \"y\": [0.981484, 0.8, 1.5, 0.2, 0.2, 0.2, 0.2, 0.2, 0.0, 0.0], \"type\": \"scatter\", \"uid\": \"fc3d6b82-3633-11ea-9c5e-79fdfc20b759\"}, {\"line\": {\"color\": \"#d298e2\", \"dash\": \"solid\", \"width\": 4}, \"mode\": \"lines+markers\", \"name\": \"Sevir.4G263301\", \"x\": [\"MeJA_Control-48h_L\", \"MeJA_MeJA-1h_L\", \"MeJA_MeJA-4h_L\", \"MeJA_MeJA-8h_L\", \"MeJA_MeJA-24h_L\", \"MeJA_MeJA-48h_L\", \"MeJA_Control-1h_L\", \"MeJA_Control-4h_L\", \"MeJA_Control-8h_L\", \"MeJA_Control-24h_L\"], \"y\": [0.0, 0.6, 1.0, 0.2, 0.6, 0.0, 0.0, 0.2, 0.4, 0.2], \"type\": \"scatter\", \"uid\": \"fc3d6c68-3633-11ea-9c5e-79fdfc20b759\"}, {\"line\": {\"color\": \"#6119d0\", \"dash\": \"dot\", \"width\": 4}, \"mode\": \"lines+markers\", \"name\": \"Sevir.9G099466\", \"x\": [\"MeJA_Control-48h_L\", \"MeJA_MeJA-1h_L\", \"MeJA_MeJA-4h_L\", \"MeJA_MeJA-8h_L\", \"MeJA_MeJA-24h_L\", \"MeJA_MeJA-48h_L\", \"MeJA_Control-1h_L\", \"MeJA_Control-4h_L\", \"MeJA_Control-8h_L\", \"MeJA_Control-24h_L\"], \"y\": [0.0, 0.2, 0.5, 0.0, 0.0, 0.0, 0.0, 0.0, 0.0, 0.2], \"type\": \"scatter\", \"uid\": \"fc3d6d4e-3633-11ea-9c5e-79fdfc20b759\"}, {\"line\": {\"color\": \"#d2737d\", \"dash\": \"dash\", \"width\": 4}, \"mode\": \"lines+markers\", \"name\": \"Sevir.9G078500\", \"x\": [\"MeJA_Control-48h_L\", \"MeJA_MeJA-1h_L\", \"MeJA_MeJA-4h_L\", \"MeJA_MeJA-8h_L\", \"MeJA_MeJA-24h_L\", \"MeJA_MeJA-48h_L\", \"MeJA_Control-1h_L\", \"MeJA_Control-4h_L\", \"MeJA_Control-8h_L\", \"MeJA_Control-24h_L\"], \"y\": [0.0, 0.0, 0.75, 0.0, 0.2, 0.0, 0.2, 0.0, 0.0, 0.2], \"type\": \"scatter\", \"uid\": \"fc3d6e2a-3633-11ea-9c5e-79fdfc20b759\"}, {\"line\": {\"color\": \"#c0a43c\", \"dash\": \"solid\", \"width\": 4}, \"mode\": \"lines+markers\", \"name\": \"Sevir.2G263800\", \"x\": [\"MeJA_Control-48h_L\", \"MeJA_MeJA-1h_L\", \"MeJA_MeJA-4h_L\", \"MeJA_MeJA-8h_L\", \"MeJA_MeJA-24h_L\", \"MeJA_MeJA-48h_L\", \"MeJA_Control-1h_L\", \"MeJA_Control-4h_L\", \"MeJA_Control-8h_L\", \"MeJA_Control-24h_L\"], \"y\": [0.0, 0.0, 0.25, 0.0, 0.0, 0.0, 0.0, 0.0, 0.0, 0.0], \"type\": \"scatter\", \"uid\": \"fc3d6f10-3633-11ea-9c5e-79fdfc20b759\"}, {\"line\": {\"color\": \"#f2510e\", \"dash\": \"dot\", \"width\": 4}, \"mode\": \"lines+markers\", \"name\": \"Sevir.8G218520\", \"x\": [\"MeJA_Control-48h_L\", \"MeJA_MeJA-1h_L\", \"MeJA_MeJA-4h_L\", \"MeJA_MeJA-8h_L\", \"MeJA_MeJA-24h_L\", \"MeJA_MeJA-48h_L\", \"MeJA_Control-1h_L\", \"MeJA_Control-4h_L\", \"MeJA_Control-8h_L\", \"MeJA_Control-24h_L\"], \"y\": [0.0, 0.0, 0.75, 0.0, 0.2, 0.0, 0.0, 0.2, 0.0, 0.2], \"type\": \"scatter\", \"uid\": \"fc3d6ff6-3633-11ea-9c5e-79fdfc20b759\"}, {\"line\": {\"color\": \"#651be6\", \"dash\": \"dash\", \"width\": 4}, \"mode\": \"lines+markers\", \"name\": \"Sevir.3G390900\", \"x\": [\"MeJA_Control-48h_L\", \"MeJA_MeJA-1h_L\", \"MeJA_MeJA-4h_L\", \"MeJA_MeJA-8h_L\", \"MeJA_MeJA-24h_L\", \"MeJA_MeJA-48h_L\", \"MeJA_Control-1h_L\", \"MeJA_Control-4h_L\", \"MeJA_Control-8h_L\", \"MeJA_Control-24h_L\"], \"y\": [0.2, 0.0, 1.0, 0.0, 0.2, 0.0, 0.0, 0.2, 0.0, 0.0], \"type\": \"scatter\", \"uid\": \"fc3d70d2-3633-11ea-9c5e-79fdfc20b759\"}, {\"line\": {\"color\": \"#79806e\", \"dash\": \"solid\", \"width\": 4}, \"mode\": \"lines+markers\", \"name\": \"Sevir.9G165400\", \"x\": [\"MeJA_Control-48h_L\", \"MeJA_MeJA-1h_L\", \"MeJA_MeJA-4h_L\", \"MeJA_MeJA-8h_L\", \"MeJA_MeJA-24h_L\", \"MeJA_MeJA-48h_L\", \"MeJA_Control-1h_L\", \"MeJA_Control-4h_L\", \"MeJA_Control-8h_L\", \"MeJA_Control-24h_L\"], \"y\": [0.0, 0.47497, 0.5, 0.2, 0.231468, 0.0, 0.0, 0.0, 0.0, 0.6], \"type\": \"scatter\", \"uid\": \"fc3d71b8-3633-11ea-9c5e-79fdfc20b759\"}, {\"line\": {\"color\": \"#61da5e\", \"dash\": \"dot\", \"width\": 4}, \"mode\": \"lines+markers\", \"name\": \"Sevir.8G245140\", \"x\": [\"MeJA_Control-48h_L\", \"MeJA_MeJA-1h_L\", \"MeJA_MeJA-4h_L\", \"MeJA_MeJA-8h_L\", \"MeJA_MeJA-24h_L\", \"MeJA_MeJA-48h_L\", \"MeJA_Control-1h_L\", \"MeJA_Control-4h_L\", \"MeJA_Control-8h_L\", \"MeJA_Control-24h_L\"], \"y\": [0.4, 0.6, 0.75, 0.4, 0.2, 0.0, 0.0, 0.2, 0.0, 0.4], \"type\": \"scatter\", \"uid\": \"fc3d7294-3633-11ea-9c5e-79fdfc20b759\"}, {\"line\": {\"color\": \"#cd2f00\", \"dash\": \"dash\", \"width\": 4}, \"mode\": \"lines+markers\", \"name\": \"Sevir.8G087000\", \"x\": [\"MeJA_Control-48h_L\", \"MeJA_MeJA-1h_L\", \"MeJA_MeJA-4h_L\", \"MeJA_MeJA-8h_L\", \"MeJA_MeJA-24h_L\", \"MeJA_MeJA-48h_L\", \"MeJA_Control-1h_L\", \"MeJA_Control-4h_L\", \"MeJA_Control-8h_L\", \"MeJA_Control-24h_L\"], \"y\": [0.0, 0.0, 0.5, 0.0, 0.0, 0.0, 0.0, 0.0, 0.0, 0.0], \"type\": \"scatter\", \"uid\": \"fc3d737a-3633-11ea-9c5e-79fdfc20b759\"}, {\"line\": {\"color\": \"#9348af\", \"dash\": \"solid\", \"width\": 4}, \"mode\": \"lines+markers\", \"name\": \"Sevir.9G576201\", \"x\": [\"MeJA_Control-48h_L\", \"MeJA_MeJA-1h_L\", \"MeJA_MeJA-4h_L\", \"MeJA_MeJA-8h_L\", \"MeJA_MeJA-24h_L\", \"MeJA_MeJA-48h_L\", \"MeJA_Control-1h_L\", \"MeJA_Control-4h_L\", \"MeJA_Control-8h_L\", \"MeJA_Control-24h_L\"], \"y\": [0.0, 0.0, 1.0, 0.0, 0.1966706, 0.0, 0.0, 1.4, 0.0, 0.0], \"type\": \"scatter\", \"uid\": \"fc3d7456-3633-11ea-9c5e-79fdfc20b759\"}, {\"line\": {\"color\": \"#01ac53\", \"dash\": \"dot\", \"width\": 4}, \"mode\": \"lines+markers\", \"name\": \"Sevir.5G470750\", \"x\": [\"MeJA_Control-48h_L\", \"MeJA_MeJA-1h_L\", \"MeJA_MeJA-4h_L\", \"MeJA_MeJA-8h_L\", \"MeJA_MeJA-24h_L\", \"MeJA_MeJA-48h_L\", \"MeJA_Control-1h_L\", \"MeJA_Control-4h_L\", \"MeJA_Control-8h_L\", \"MeJA_Control-24h_L\"], \"y\": [1.840924, 0.6, 2.0, 1.688164, 2.73893, 1.2, 0.0, 0.6, 1.0198779999999998, 1.611558], \"type\": \"scatter\", \"uid\": \"fc3d7532-3633-11ea-9c5e-79fdfc20b759\"}, {\"line\": {\"color\": \"#c5a4fb\", \"dash\": \"dash\", \"width\": 4}, \"mode\": \"lines+markers\", \"name\": \"Sevir.1G060850\", \"x\": [\"MeJA_Control-48h_L\", \"MeJA_MeJA-1h_L\", \"MeJA_MeJA-4h_L\", \"MeJA_MeJA-8h_L\", \"MeJA_MeJA-24h_L\", \"MeJA_MeJA-48h_L\", \"MeJA_Control-1h_L\", \"MeJA_Control-4h_L\", \"MeJA_Control-8h_L\", \"MeJA_Control-24h_L\"], \"y\": [0.2, 0.0, 0.25, 0.0, 0.0, 0.0, 0.0, 0.0, 0.0, 0.0], \"type\": \"scatter\", \"uid\": \"fc3d7618-3633-11ea-9c5e-79fdfc20b759\"}, {\"line\": {\"color\": \"#996635\", \"dash\": \"solid\", \"width\": 4}, \"mode\": \"lines+markers\", \"name\": \"Sevir.2G280500\", \"x\": [\"MeJA_Control-48h_L\", \"MeJA_MeJA-1h_L\", \"MeJA_MeJA-4h_L\", \"MeJA_MeJA-8h_L\", \"MeJA_MeJA-24h_L\", \"MeJA_MeJA-48h_L\", \"MeJA_Control-1h_L\", \"MeJA_Control-4h_L\", \"MeJA_Control-8h_L\", \"MeJA_Control-24h_L\"], \"y\": [0.0, 0.0, 0.5817, 0.0, 0.0, 0.0, 0.23170000000000002, 0.0, 0.0, 0.0], \"type\": \"scatter\", \"uid\": \"fc3d76ea-3633-11ea-9c5e-79fdfc20b759\"}, {\"line\": {\"color\": \"#b11573\", \"dash\": \"dot\", \"width\": 4}, \"mode\": \"lines+markers\", \"name\": \"Sevir.9G268200\", \"x\": [\"MeJA_Control-48h_L\", \"MeJA_MeJA-1h_L\", \"MeJA_MeJA-4h_L\", \"MeJA_MeJA-8h_L\", \"MeJA_MeJA-24h_L\", \"MeJA_MeJA-48h_L\", \"MeJA_Control-1h_L\", \"MeJA_Control-4h_L\", \"MeJA_Control-8h_L\", \"MeJA_Control-24h_L\"], \"y\": [0.6, 1.4, 1.5, 0.2, 0.2, 0.4, 0.6, 0.2, 0.2, 0.2], \"type\": \"scatter\", \"uid\": \"fc3d77c6-3633-11ea-9c5e-79fdfc20b759\"}, {\"line\": {\"color\": \"#4bb473\", \"dash\": \"dash\", \"width\": 4}, \"mode\": \"lines+markers\", \"name\": \"Sevir.4G143101\", \"x\": [\"MeJA_Control-48h_L\", \"MeJA_MeJA-1h_L\", \"MeJA_MeJA-4h_L\", \"MeJA_MeJA-8h_L\", \"MeJA_MeJA-24h_L\", \"MeJA_MeJA-48h_L\", \"MeJA_Control-1h_L\", \"MeJA_Control-4h_L\", \"MeJA_Control-8h_L\", \"MeJA_Control-24h_L\"], \"y\": [0.0, 0.0, 1.3611475, 0.0, 0.0, 0.986044, 0.437806, 0.44435, 0.0, 0.559822], \"type\": \"scatter\", \"uid\": \"fc3d78ac-3633-11ea-9c5e-79fdfc20b759\"}, {\"line\": {\"color\": \"#75d89e\", \"dash\": \"solid\", \"width\": 4}, \"mode\": \"lines+markers\", \"name\": \"Sevir.2G342800\", \"x\": [\"MeJA_Control-48h_L\", \"MeJA_MeJA-1h_L\", \"MeJA_MeJA-4h_L\", \"MeJA_MeJA-8h_L\", \"MeJA_MeJA-24h_L\", \"MeJA_MeJA-48h_L\", \"MeJA_Control-1h_L\", \"MeJA_Control-4h_L\", \"MeJA_Control-8h_L\", \"MeJA_Control-24h_L\"], \"y\": [0.0, 0.0, 0.5, 0.0, 0.0, 0.0, 0.0, 0.0, 0.0, 0.2], \"type\": \"scatter\", \"uid\": \"fc3d799c-3633-11ea-9c5e-79fdfc20b759\"}, {\"line\": {\"color\": \"#2f3f94\", \"dash\": \"dot\", \"width\": 4}, \"mode\": \"lines+markers\", \"name\": \"Sevir.1G019900\", \"x\": [\"MeJA_Control-48h_L\", \"MeJA_MeJA-1h_L\", \"MeJA_MeJA-4h_L\", \"MeJA_MeJA-8h_L\", \"MeJA_MeJA-24h_L\", \"MeJA_MeJA-48h_L\", \"MeJA_Control-1h_L\", \"MeJA_Control-4h_L\", \"MeJA_Control-8h_L\", \"MeJA_Control-24h_L\"], \"y\": [0.0, 0.4, 1.25, 0.2, 0.4, 1.0, 0.0, 0.8, 1.2, 2.0], \"type\": \"scatter\", \"uid\": \"fc3d7a82-3633-11ea-9c5e-79fdfc20b759\"}, {\"line\": {\"color\": \"#2f7b99\", \"dash\": \"dash\", \"width\": 4}, \"mode\": \"lines+markers\", \"name\": \"Sevir.3G353500\", \"x\": [\"MeJA_Control-48h_L\", \"MeJA_MeJA-1h_L\", \"MeJA_MeJA-4h_L\", \"MeJA_MeJA-8h_L\", \"MeJA_MeJA-24h_L\", \"MeJA_MeJA-48h_L\", \"MeJA_Control-1h_L\", \"MeJA_Control-4h_L\", \"MeJA_Control-8h_L\", \"MeJA_Control-24h_L\"], \"y\": [0.0, 0.0, 0.25, 0.0, 0.0, 0.0, 0.0, 0.0, 0.0, 0.0], \"type\": \"scatter\", \"uid\": \"fc3d7b5e-3633-11ea-9c5e-79fdfc20b759\"}, {\"line\": {\"color\": \"#da967d\", \"dash\": \"solid\", \"width\": 4}, \"mode\": \"lines+markers\", \"name\": \"Sevir.7G189700\", \"x\": [\"MeJA_Control-48h_L\", \"MeJA_MeJA-1h_L\", \"MeJA_MeJA-4h_L\", \"MeJA_MeJA-8h_L\", \"MeJA_MeJA-24h_L\", \"MeJA_MeJA-48h_L\", \"MeJA_Control-1h_L\", \"MeJA_Control-4h_L\", \"MeJA_Control-8h_L\", \"MeJA_Control-24h_L\"], \"y\": [0.0, 0.0, 1.0, 0.0, 0.0, 0.0, 0.0, 0.0, 0.0, 0.0], \"type\": \"scatter\", \"uid\": \"fc3d7c3a-3633-11ea-9c5e-79fdfc20b759\"}, {\"line\": {\"color\": \"#34891f\", \"dash\": \"dot\", \"width\": 4}, \"mode\": \"lines+markers\", \"name\": \"Sevir.4G118600\", \"x\": [\"MeJA_Control-48h_L\", \"MeJA_MeJA-1h_L\", \"MeJA_MeJA-4h_L\", \"MeJA_MeJA-8h_L\", \"MeJA_MeJA-24h_L\", \"MeJA_MeJA-48h_L\", \"MeJA_Control-1h_L\", \"MeJA_Control-4h_L\", \"MeJA_Control-8h_L\", \"MeJA_Control-24h_L\"], \"y\": [0.0, 0.0, 1.25, 0.0, 0.036327399999999996, 0.0, 0.4, 0.21816399999999997, 0.0, 0.0], \"type\": \"scatter\", \"uid\": \"fc3d7d20-3633-11ea-9c5e-79fdfc20b759\"}, {\"line\": {\"color\": \"#b0d87b\", \"dash\": \"dash\", \"width\": 4}, \"mode\": \"lines+markers\", \"name\": \"Sevir.5G315900\", \"x\": [\"MeJA_Control-48h_L\", \"MeJA_MeJA-1h_L\", \"MeJA_MeJA-4h_L\", \"MeJA_MeJA-8h_L\", \"MeJA_MeJA-24h_L\", \"MeJA_MeJA-48h_L\", \"MeJA_Control-1h_L\", \"MeJA_Control-4h_L\", \"MeJA_Control-8h_L\", \"MeJA_Control-24h_L\"], \"y\": [0.0, 0.6, 0.75, 0.0, 0.4, 0.0, 0.2, 0.0, 0.0, 0.2], \"type\": \"scatter\", \"uid\": \"fc3d7dfc-3633-11ea-9c5e-79fdfc20b759\"}, {\"line\": {\"color\": \"#ca4751\", \"dash\": \"solid\", \"width\": 4}, \"mode\": \"lines+markers\", \"name\": \"Sevir.1G110232\", \"x\": [\"MeJA_Control-48h_L\", \"MeJA_MeJA-1h_L\", \"MeJA_MeJA-4h_L\", \"MeJA_MeJA-8h_L\", \"MeJA_MeJA-24h_L\", \"MeJA_MeJA-48h_L\", \"MeJA_Control-1h_L\", \"MeJA_Control-4h_L\", \"MeJA_Control-8h_L\", \"MeJA_Control-24h_L\"], \"y\": [0.0, 0.4, 0.75, 0.2, 0.0, 0.0, 0.0, 0.0, 0.0, 0.0], \"type\": \"scatter\", \"uid\": \"fc3d7ed8-3633-11ea-9c5e-79fdfc20b759\"}, {\"line\": {\"color\": \"#7e50a8\", \"dash\": \"dot\", \"width\": 4}, \"mode\": \"lines+markers\", \"name\": \"Sevir.5G206100\", \"x\": [\"MeJA_Control-48h_L\", \"MeJA_MeJA-1h_L\", \"MeJA_MeJA-4h_L\", \"MeJA_MeJA-8h_L\", \"MeJA_MeJA-24h_L\", \"MeJA_MeJA-48h_L\", \"MeJA_Control-1h_L\", \"MeJA_Control-4h_L\", \"MeJA_Control-8h_L\", \"MeJA_Control-24h_L\"], \"y\": [0.0, 0.2, 1.5, 0.0, 0.4, 0.0, 0.8, 0.0, 0.0, 0.0], \"type\": \"scatter\", \"uid\": \"fc3d7fb4-3633-11ea-9c5e-79fdfc20b759\"}, {\"line\": {\"color\": \"#c4d647\", \"dash\": \"dash\", \"width\": 4}, \"mode\": \"lines+markers\", \"name\": \"Sevir.3G353200\", \"x\": [\"MeJA_Control-48h_L\", \"MeJA_MeJA-1h_L\", \"MeJA_MeJA-4h_L\", \"MeJA_MeJA-8h_L\", \"MeJA_MeJA-24h_L\", \"MeJA_MeJA-48h_L\", \"MeJA_Control-1h_L\", \"MeJA_Control-4h_L\", \"MeJA_Control-8h_L\", \"MeJA_Control-24h_L\"], \"y\": [0.2, 0.6, 0.75, 0.0, 0.2, 0.0, 0.0, 0.0, 0.0, 0.0], \"type\": \"scatter\", \"uid\": \"fc3d809a-3633-11ea-9c5e-79fdfc20b759\"}, {\"line\": {\"color\": \"#e0eeb8\", \"dash\": \"solid\", \"width\": 4}, \"mode\": \"lines+markers\", \"name\": \"Sevir.4G093300\", \"x\": [\"MeJA_Control-48h_L\", \"MeJA_MeJA-1h_L\", \"MeJA_MeJA-4h_L\", \"MeJA_MeJA-8h_L\", \"MeJA_MeJA-24h_L\", \"MeJA_MeJA-48h_L\", \"MeJA_Control-1h_L\", \"MeJA_Control-4h_L\", \"MeJA_Control-8h_L\", \"MeJA_Control-24h_L\"], \"y\": [1.2, 2.0, 3.25, 0.4, 2.4, 0.6, 1.2, 0.6, 1.0, 1.4], \"type\": \"scatter\", \"uid\": \"fc3d8176-3633-11ea-9c5e-79fdfc20b759\"}, {\"line\": {\"color\": \"#11dec1\", \"dash\": \"dot\", \"width\": 4}, \"mode\": \"lines+markers\", \"name\": \"Sevir.1G171100\", \"x\": [\"MeJA_Control-48h_L\", \"MeJA_MeJA-1h_L\", \"MeJA_MeJA-4h_L\", \"MeJA_MeJA-8h_L\", \"MeJA_MeJA-24h_L\", \"MeJA_MeJA-48h_L\", \"MeJA_Control-1h_L\", \"MeJA_Control-4h_L\", \"MeJA_Control-8h_L\", \"MeJA_Control-24h_L\"], \"y\": [0.0, 0.0, 1.25, 0.0, 0.0, 0.0, 0.0, 0.0, 0.0, 0.2], \"type\": \"scatter\", \"uid\": \"fc3d831a-3633-11ea-9c5e-79fdfc20b759\"}, {\"line\": {\"color\": \"#289812\", \"dash\": \"dash\", \"width\": 4}, \"mode\": \"lines+markers\", \"name\": \"Sevir.2G305750\", \"x\": [\"MeJA_Control-48h_L\", \"MeJA_MeJA-1h_L\", \"MeJA_MeJA-4h_L\", \"MeJA_MeJA-8h_L\", \"MeJA_MeJA-24h_L\", \"MeJA_MeJA-48h_L\", \"MeJA_Control-1h_L\", \"MeJA_Control-4h_L\", \"MeJA_Control-8h_L\", \"MeJA_Control-24h_L\"], \"y\": [0.9642898200000001, 6.3237879999999995, 5.023945, 0.368448, 0.0, 1.5991139999999997, 0.48827800000000005, 0.0, 0.583416, 0.309218], \"type\": \"scatter\", \"uid\": \"fc3d8482-3633-11ea-9c5e-79fdfc20b759\"}, {\"line\": {\"color\": \"#566ca0\", \"dash\": \"solid\", \"width\": 4}, \"mode\": \"lines+markers\", \"name\": \"Sevir.9G169700\", \"x\": [\"MeJA_Control-48h_L\", \"MeJA_MeJA-1h_L\", \"MeJA_MeJA-4h_L\", \"MeJA_MeJA-8h_L\", \"MeJA_MeJA-24h_L\", \"MeJA_MeJA-48h_L\", \"MeJA_Control-1h_L\", \"MeJA_Control-4h_L\", \"MeJA_Control-8h_L\", \"MeJA_Control-24h_L\"], \"y\": [0.0, 0.0, 0.0, 0.0, 0.0, 0.0, 0.0, 0.0, 0.0, 0.0], \"type\": \"scatter\", \"uid\": \"fc3d85b8-3633-11ea-9c5e-79fdfc20b759\"}, {\"line\": {\"color\": \"#ffdbe1\", \"dash\": \"dot\", \"width\": 4}, \"mode\": \"lines+markers\", \"name\": \"Sevir.1G020800\", \"x\": [\"MeJA_Control-48h_L\", \"MeJA_MeJA-1h_L\", \"MeJA_MeJA-4h_L\", \"MeJA_MeJA-8h_L\", \"MeJA_MeJA-24h_L\", \"MeJA_MeJA-48h_L\", \"MeJA_Control-1h_L\", \"MeJA_Control-4h_L\", \"MeJA_Control-8h_L\", \"MeJA_Control-24h_L\"], \"y\": [0.2, 0.2, 0.5, 0.2, 0.2, 0.2, 0.4, 0.8, 0.2, 0.4], \"type\": \"scatter\", \"uid\": \"fc3d86ee-3633-11ea-9c5e-79fdfc20b759\"}, {\"line\": {\"color\": \"#2f1179\", \"dash\": \"dash\", \"width\": 4}, \"mode\": \"lines+markers\", \"name\": \"Sevir.5G194900\", \"x\": [\"MeJA_Control-48h_L\", \"MeJA_MeJA-1h_L\", \"MeJA_MeJA-4h_L\", \"MeJA_MeJA-8h_L\", \"MeJA_MeJA-24h_L\", \"MeJA_MeJA-48h_L\", \"MeJA_Control-1h_L\", \"MeJA_Control-4h_L\", \"MeJA_Control-8h_L\", \"MeJA_Control-24h_L\"], \"y\": [0.0, 0.2, 0.5, 0.0, 0.0, 0.2, 0.0, 0.0, 0.0, 0.0], \"type\": \"scatter\", \"uid\": \"fc3d8824-3633-11ea-9c5e-79fdfc20b759\"}, {\"line\": {\"color\": \"#935b6d\", \"dash\": \"solid\", \"width\": 4}, \"mode\": \"lines+markers\", \"name\": \"Sevir.6G028050\", \"x\": [\"MeJA_Control-48h_L\", \"MeJA_MeJA-1h_L\", \"MeJA_MeJA-4h_L\", \"MeJA_MeJA-8h_L\", \"MeJA_MeJA-24h_L\", \"MeJA_MeJA-48h_L\", \"MeJA_Control-1h_L\", \"MeJA_Control-4h_L\", \"MeJA_Control-8h_L\", \"MeJA_Control-24h_L\"], \"y\": [0.0, 0.0, 0.75, 0.0, 0.2, 0.787172, 0.0, 0.0, 0.0, 0.2], \"type\": \"scatter\", \"uid\": \"fc3d895a-3633-11ea-9c5e-79fdfc20b759\"}, {\"line\": {\"color\": \"#916988\", \"dash\": \"dot\", \"width\": 4}, \"mode\": \"lines+markers\", \"name\": \"Sevir.2G003200\", \"x\": [\"MeJA_Control-48h_L\", \"MeJA_MeJA-1h_L\", \"MeJA_MeJA-4h_L\", \"MeJA_MeJA-8h_L\", \"MeJA_MeJA-24h_L\", \"MeJA_MeJA-48h_L\", \"MeJA_Control-1h_L\", \"MeJA_Control-4h_L\", \"MeJA_Control-8h_L\", \"MeJA_Control-24h_L\"], \"y\": [0.0, 0.2, 1.25, 0.2, 0.0, 0.6, 0.0, 0.2, 0.0, 0.0], \"type\": \"scatter\", \"uid\": \"fc3d8a90-3633-11ea-9c5e-79fdfc20b759\"}, {\"line\": {\"color\": \"#513d98\", \"dash\": \"dash\", \"width\": 4}, \"mode\": \"lines+markers\", \"name\": \"Sevir.8G079100\", \"x\": [\"MeJA_Control-48h_L\", \"MeJA_MeJA-1h_L\", \"MeJA_MeJA-4h_L\", \"MeJA_MeJA-8h_L\", \"MeJA_MeJA-24h_L\", \"MeJA_MeJA-48h_L\", \"MeJA_Control-1h_L\", \"MeJA_Control-4h_L\", \"MeJA_Control-8h_L\", \"MeJA_Control-24h_L\"], \"y\": [0.0, 0.0, 0.75, 0.0, 0.0, 0.0, 0.0, 0.0, 0.0, 0.0], \"type\": \"scatter\", \"uid\": \"fc3d8bc6-3633-11ea-9c5e-79fdfc20b759\"}, {\"line\": {\"color\": \"#aead3a\", \"dash\": \"solid\", \"width\": 4}, \"mode\": \"lines+markers\", \"name\": \"Sevir.4G293501\", \"x\": [\"MeJA_Control-48h_L\", \"MeJA_MeJA-1h_L\", \"MeJA_MeJA-4h_L\", \"MeJA_MeJA-8h_L\", \"MeJA_MeJA-24h_L\", \"MeJA_MeJA-48h_L\", \"MeJA_Control-1h_L\", \"MeJA_Control-4h_L\", \"MeJA_Control-8h_L\", \"MeJA_Control-24h_L\"], \"y\": [0.0, 0.0, 0.1452915, 0.0, 0.0, 0.0, 0.0, 0.07435, 0.0, 0.0], \"type\": \"scatter\", \"uid\": \"fc3d8cfc-3633-11ea-9c5e-79fdfc20b759\"}, {\"line\": {\"color\": \"#9e6d71\", \"dash\": \"dot\", \"width\": 4}, \"mode\": \"lines+markers\", \"name\": \"Sevir.7G022900\", \"x\": [\"MeJA_Control-48h_L\", \"MeJA_MeJA-1h_L\", \"MeJA_MeJA-4h_L\", \"MeJA_MeJA-8h_L\", \"MeJA_MeJA-24h_L\", \"MeJA_MeJA-48h_L\", \"MeJA_Control-1h_L\", \"MeJA_Control-4h_L\", \"MeJA_Control-8h_L\", \"MeJA_Control-24h_L\"], \"y\": [0.0, 0.0, 0.25, 0.0, 0.0, 0.0, 0.0, 0.0, 0.0, 0.0], \"type\": \"scatter\", \"uid\": \"fc3d8e32-3633-11ea-9c5e-79fdfc20b759\"}, {\"line\": {\"color\": \"#4b5bdc\", \"dash\": \"dash\", \"width\": 4}, \"mode\": \"lines+markers\", \"name\": \"Sevir.8G165900\", \"x\": [\"MeJA_Control-48h_L\", \"MeJA_MeJA-1h_L\", \"MeJA_MeJA-4h_L\", \"MeJA_MeJA-8h_L\", \"MeJA_MeJA-24h_L\", \"MeJA_MeJA-48h_L\", \"MeJA_Control-1h_L\", \"MeJA_Control-4h_L\", \"MeJA_Control-8h_L\", \"MeJA_Control-24h_L\"], \"y\": [0.0, 0.0, 0.25, 0.0, 0.0, 0.0, 0.0, 0.0, 0.0, 0.0], \"type\": \"scatter\", \"uid\": \"fc3d8f5e-3633-11ea-9c5e-79fdfc20b759\"}, {\"line\": {\"color\": \"#0cd36d\", \"dash\": \"solid\", \"width\": 4}, \"mode\": \"lines+markers\", \"name\": \"Sevir.9G092300\", \"x\": [\"MeJA_Control-48h_L\", \"MeJA_MeJA-1h_L\", \"MeJA_MeJA-4h_L\", \"MeJA_MeJA-8h_L\", \"MeJA_MeJA-24h_L\", \"MeJA_MeJA-48h_L\", \"MeJA_Control-1h_L\", \"MeJA_Control-4h_L\", \"MeJA_Control-8h_L\", \"MeJA_Control-24h_L\"], \"y\": [0.0, 0.0, 0.25, 0.0, 0.0, 0.0, 0.0, 0.0, 0.0, 0.0], \"type\": \"scatter\", \"uid\": \"fc3d9094-3633-11ea-9c5e-79fdfc20b759\"}, {\"line\": {\"color\": \"#250662\", \"dash\": \"dot\", \"width\": 4}, \"mode\": \"lines+markers\", \"name\": \"Sevir.6G113200\", \"x\": [\"MeJA_Control-48h_L\", \"MeJA_MeJA-1h_L\", \"MeJA_MeJA-4h_L\", \"MeJA_MeJA-8h_L\", \"MeJA_MeJA-24h_L\", \"MeJA_MeJA-48h_L\", \"MeJA_Control-1h_L\", \"MeJA_Control-4h_L\", \"MeJA_Control-8h_L\", \"MeJA_Control-24h_L\"], \"y\": [0.0, 0.0, 1.25, 0.0, 0.0, 0.0, 0.0, 0.0, 0.0, 0.0], \"type\": \"scatter\", \"uid\": \"fc3d91c0-3633-11ea-9c5e-79fdfc20b759\"}, {\"line\": {\"color\": \"#cb5bea\", \"dash\": \"dash\", \"width\": 4}, \"mode\": \"lines+markers\", \"name\": \"Sevir.4G160200\", \"x\": [\"MeJA_Control-48h_L\", \"MeJA_MeJA-1h_L\", \"MeJA_MeJA-4h_L\", \"MeJA_MeJA-8h_L\", \"MeJA_MeJA-24h_L\", \"MeJA_MeJA-48h_L\", \"MeJA_Control-1h_L\", \"MeJA_Control-4h_L\", \"MeJA_Control-8h_L\", \"MeJA_Control-24h_L\"], \"y\": [0.0, 0.0, 0.5, 0.0, 0.0, 0.0, 0.0, 0.0, 0.0, 0.0], \"type\": \"scatter\", \"uid\": \"fc3d92f6-3633-11ea-9c5e-79fdfc20b759\"}, {\"line\": {\"color\": \"#228916\", \"dash\": \"solid\", \"width\": 4}, \"mode\": \"lines+markers\", \"name\": \"Sevir.5G037400\", \"x\": [\"MeJA_Control-48h_L\", \"MeJA_MeJA-1h_L\", \"MeJA_MeJA-4h_L\", \"MeJA_MeJA-8h_L\", \"MeJA_MeJA-24h_L\", \"MeJA_MeJA-48h_L\", \"MeJA_Control-1h_L\", \"MeJA_Control-4h_L\", \"MeJA_Control-8h_L\", \"MeJA_Control-24h_L\"], \"y\": [0.0, 0.0, 0.5, 0.0, 0.0, 0.0, 0.0, 0.0, 0.0, 0.0], \"type\": \"scatter\", \"uid\": \"fc3d942c-3633-11ea-9c5e-79fdfc20b759\"}, {\"line\": {\"color\": \"#ac3e1b\", \"dash\": \"dot\", \"width\": 4}, \"mode\": \"lines+markers\", \"name\": \"Sevir.3G298200\", \"x\": [\"MeJA_Control-48h_L\", \"MeJA_MeJA-1h_L\", \"MeJA_MeJA-4h_L\", \"MeJA_MeJA-8h_L\", \"MeJA_MeJA-24h_L\", \"MeJA_MeJA-48h_L\", \"MeJA_Control-1h_L\", \"MeJA_Control-4h_L\", \"MeJA_Control-8h_L\", \"MeJA_Control-24h_L\"], \"y\": [0.0, 0.0, 1.75, 0.0, 0.0, 0.0, 0.0, 0.0, 0.0, 0.0], \"type\": \"scatter\", \"uid\": \"fc3d9562-3633-11ea-9c5e-79fdfc20b759\"}, {\"line\": {\"color\": \"#df514a\", \"dash\": \"dash\", \"width\": 4}, \"mode\": \"lines+markers\", \"name\": \"Sevir.2G437300\", \"x\": [\"MeJA_Control-48h_L\", \"MeJA_MeJA-1h_L\", \"MeJA_MeJA-4h_L\", \"MeJA_MeJA-8h_L\", \"MeJA_MeJA-24h_L\", \"MeJA_MeJA-48h_L\", \"MeJA_Control-1h_L\", \"MeJA_Control-4h_L\", \"MeJA_Control-8h_L\", \"MeJA_Control-24h_L\"], \"y\": [0.0, 0.0, 0.5, 0.0, 0.0, 0.0, 0.0, 0.0, 0.0, 0.0], \"type\": \"scatter\", \"uid\": \"fc3d9698-3633-11ea-9c5e-79fdfc20b759\"}, {\"line\": {\"color\": \"#539397\", \"dash\": \"solid\", \"width\": 4}, \"mode\": \"lines+markers\", \"name\": \"Sevir.9G095700\", \"x\": [\"MeJA_Control-48h_L\", \"MeJA_MeJA-1h_L\", \"MeJA_MeJA-4h_L\", \"MeJA_MeJA-8h_L\", \"MeJA_MeJA-24h_L\", \"MeJA_MeJA-48h_L\", \"MeJA_Control-1h_L\", \"MeJA_Control-4h_L\", \"MeJA_Control-8h_L\", \"MeJA_Control-24h_L\"], \"y\": [0.7823840000000001, 0.0, 3.76375, 0.966526, 0.0, 0.0, 1.0054960418719998, 1.5363859999999998, 0.397984, 0.754926], \"type\": \"scatter\", \"uid\": \"fc3d97ce-3633-11ea-9c5e-79fdfc20b759\"}, {\"line\": {\"color\": \"#880977\", \"dash\": \"dot\", \"width\": 4}, \"mode\": \"lines+markers\", \"name\": \"Sevir.1G265000\", \"x\": [\"MeJA_Control-48h_L\", \"MeJA_MeJA-1h_L\", \"MeJA_MeJA-4h_L\", \"MeJA_MeJA-8h_L\", \"MeJA_MeJA-24h_L\", \"MeJA_MeJA-48h_L\", \"MeJA_Control-1h_L\", \"MeJA_Control-4h_L\", \"MeJA_Control-8h_L\", \"MeJA_Control-24h_L\"], \"y\": [0.0, 0.0, 0.25, 0.0, 0.0, 0.0, 0.0, 0.0, 0.0, 0.0], \"type\": \"scatter\", \"uid\": \"fc3d98fa-3633-11ea-9c5e-79fdfc20b759\"}, {\"line\": {\"color\": \"#f697c1\", \"dash\": \"dash\", \"width\": 4}, \"mode\": \"lines+markers\", \"name\": \"Sevir.5G418900\", \"x\": [\"MeJA_Control-48h_L\", \"MeJA_MeJA-1h_L\", \"MeJA_MeJA-4h_L\", \"MeJA_MeJA-8h_L\", \"MeJA_MeJA-24h_L\", \"MeJA_MeJA-48h_L\", \"MeJA_Control-1h_L\", \"MeJA_Control-4h_L\", \"MeJA_Control-8h_L\", \"MeJA_Control-24h_L\"], \"y\": [0.2, 0.0, 0.75, 0.0, 0.0, 0.0, 0.0, 0.0, 0.0, 0.0], \"type\": \"scatter\", \"uid\": \"fc3d9a30-3633-11ea-9c5e-79fdfc20b759\"}, {\"line\": {\"color\": \"#ba96ce\", \"dash\": \"solid\", \"width\": 4}, \"mode\": \"lines+markers\", \"name\": \"Sevir.8G237700\", \"x\": [\"MeJA_Control-48h_L\", \"MeJA_MeJA-1h_L\", \"MeJA_MeJA-4h_L\", \"MeJA_MeJA-8h_L\", \"MeJA_MeJA-24h_L\", \"MeJA_MeJA-48h_L\", \"MeJA_Control-1h_L\", \"MeJA_Control-4h_L\", \"MeJA_Control-8h_L\", \"MeJA_Control-24h_L\"], \"y\": [0.2, 0.0, 0.5, 0.0, 0.0, 0.0, 0.0, 0.0, 0.0, 0.4], \"type\": \"scatter\", \"uid\": \"fc3d9b5c-3633-11ea-9c5e-79fdfc20b759\"}, {\"line\": {\"color\": \"#679c9d\", \"dash\": \"dot\", \"width\": 4}, \"mode\": \"lines+markers\", \"name\": \"Sevir.2G177600\", \"x\": [\"MeJA_Control-48h_L\", \"MeJA_MeJA-1h_L\", \"MeJA_MeJA-4h_L\", \"MeJA_MeJA-8h_L\", \"MeJA_MeJA-24h_L\", \"MeJA_MeJA-48h_L\", \"MeJA_Control-1h_L\", \"MeJA_Control-4h_L\", \"MeJA_Control-8h_L\", \"MeJA_Control-24h_L\"], \"y\": [0.0, 0.4, 1.75, 0.0, 0.2, 0.0, 0.0, 0.0, 0.2, 0.0], \"type\": \"scatter\", \"uid\": \"fc3d9c92-3633-11ea-9c5e-79fdfc20b759\"}, {\"line\": {\"color\": \"#c6c42c\", \"dash\": \"dash\", \"width\": 4}, \"mode\": \"lines+markers\", \"name\": \"Sevir.9G253801\", \"x\": [\"MeJA_Control-48h_L\", \"MeJA_MeJA-1h_L\", \"MeJA_MeJA-4h_L\", \"MeJA_MeJA-8h_L\", \"MeJA_MeJA-24h_L\", \"MeJA_MeJA-48h_L\", \"MeJA_Control-1h_L\", \"MeJA_Control-4h_L\", \"MeJA_Control-8h_L\", \"MeJA_Control-24h_L\"], \"y\": [0.0, 0.8, 1.25, 0.4, 0.4, 0.0, 0.0, 0.0, 0.0, 0.0], \"type\": \"scatter\", \"uid\": \"fc3d9dc8-3633-11ea-9c5e-79fdfc20b759\"}, {\"line\": {\"color\": \"#5d2c52\", \"dash\": \"solid\", \"width\": 4}, \"mode\": \"lines+markers\", \"name\": \"Sevir.6G183566\", \"x\": [\"MeJA_Control-48h_L\", \"MeJA_MeJA-1h_L\", \"MeJA_MeJA-4h_L\", \"MeJA_MeJA-8h_L\", \"MeJA_MeJA-24h_L\", \"MeJA_MeJA-48h_L\", \"MeJA_Control-1h_L\", \"MeJA_Control-4h_L\", \"MeJA_Control-8h_L\", \"MeJA_Control-24h_L\"], \"y\": [0.0, 0.0, 0.25, 0.0, 0.0, 0.0, 0.0, 0.0, 0.0, 0.0], \"type\": \"scatter\", \"uid\": \"fc3d9ef4-3633-11ea-9c5e-79fdfc20b759\"}, {\"line\": {\"color\": \"#48b41b\", \"dash\": \"dot\", \"width\": 4}, \"mode\": \"lines+markers\", \"name\": \"Sevir.8G259500\", \"x\": [\"MeJA_Control-48h_L\", \"MeJA_MeJA-1h_L\", \"MeJA_MeJA-4h_L\", \"MeJA_MeJA-8h_L\", \"MeJA_MeJA-24h_L\", \"MeJA_MeJA-48h_L\", \"MeJA_Control-1h_L\", \"MeJA_Control-4h_L\", \"MeJA_Control-8h_L\", \"MeJA_Control-24h_L\"], \"y\": [1.2547899999999998, 2.217476, 1.7645225, 1.090228, 0.40253999999999995, 1.5737979999999998, 1.261546, 2.037646, 0.2, 1.8001919999999998], \"type\": \"scatter\", \"uid\": \"fc3da02a-3633-11ea-9c5e-79fdfc20b759\"}, {\"line\": {\"color\": \"#e1cf3b\", \"dash\": \"dash\", \"width\": 4}, \"mode\": \"lines+markers\", \"name\": \"Sevir.5G036550\", \"x\": [\"MeJA_Control-48h_L\", \"MeJA_MeJA-1h_L\", \"MeJA_MeJA-4h_L\", \"MeJA_MeJA-8h_L\", \"MeJA_MeJA-24h_L\", \"MeJA_MeJA-48h_L\", \"MeJA_Control-1h_L\", \"MeJA_Control-4h_L\", \"MeJA_Control-8h_L\", \"MeJA_Control-24h_L\"], \"y\": [1.019524, 0.6, 1.75, 0.2, 0.0, 0.0, 0.0, 0.8, 0.6, 0.2], \"type\": \"scatter\", \"uid\": \"fc3da156-3633-11ea-9c5e-79fdfc20b759\"}, {\"line\": {\"color\": \"#5be4f0\", \"dash\": \"solid\", \"width\": 4}, \"mode\": \"lines+markers\", \"name\": \"Sevir.7G279700\", \"x\": [\"MeJA_Control-48h_L\", \"MeJA_MeJA-1h_L\", \"MeJA_MeJA-4h_L\", \"MeJA_MeJA-8h_L\", \"MeJA_MeJA-24h_L\", \"MeJA_MeJA-48h_L\", \"MeJA_Control-1h_L\", \"MeJA_Control-4h_L\", \"MeJA_Control-8h_L\", \"MeJA_Control-24h_L\"], \"y\": [0.2, 0.0, 1.25, 0.0, 0.0, 0.0, 0.8, 0.4, 0.0, 0.0], \"type\": \"scatter\", \"uid\": \"fc3da28c-3633-11ea-9c5e-79fdfc20b759\"}, {\"line\": {\"color\": \"#57c4d8\", \"dash\": \"dot\", \"width\": 4}, \"mode\": \"lines+markers\", \"name\": \"Sevir.8G068450\", \"x\": [\"MeJA_Control-48h_L\", \"MeJA_MeJA-1h_L\", \"MeJA_MeJA-4h_L\", \"MeJA_MeJA-8h_L\", \"MeJA_MeJA-24h_L\", \"MeJA_MeJA-48h_L\", \"MeJA_Control-1h_L\", \"MeJA_Control-4h_L\", \"MeJA_Control-8h_L\", \"MeJA_Control-24h_L\"], \"y\": [0.0, 0.0, 0.0, 0.0, 0.0, 0.0, 0.0, 0.0, 0.0, 0.0], \"type\": \"scatter\", \"uid\": \"fc3da3c2-3633-11ea-9c5e-79fdfc20b759\"}, {\"line\": {\"color\": \"#a4d17a\", \"dash\": \"dash\", \"width\": 4}, \"mode\": \"lines+markers\", \"name\": \"Sevir.9G576750\", \"x\": [\"MeJA_Control-48h_L\", \"MeJA_MeJA-1h_L\", \"MeJA_MeJA-4h_L\", \"MeJA_MeJA-8h_L\", \"MeJA_MeJA-24h_L\", \"MeJA_MeJA-48h_L\", \"MeJA_Control-1h_L\", \"MeJA_Control-4h_L\", \"MeJA_Control-8h_L\", \"MeJA_Control-24h_L\"], \"y\": [0.4, 0.8, 2.75, 0.2, 0.4, 0.0, 0.0, 0.2, 0.4, 0.0], \"type\": \"scatter\", \"uid\": \"fc3da4ee-3633-11ea-9c5e-79fdfc20b759\"}, {\"line\": {\"color\": \"#225b8e\", \"dash\": \"solid\", \"width\": 4}, \"mode\": \"lines+markers\", \"name\": \"Sevir.9G248533\", \"x\": [\"MeJA_Control-48h_L\", \"MeJA_MeJA-1h_L\", \"MeJA_MeJA-4h_L\", \"MeJA_MeJA-8h_L\", \"MeJA_MeJA-24h_L\", \"MeJA_MeJA-48h_L\", \"MeJA_Control-1h_L\", \"MeJA_Control-4h_L\", \"MeJA_Control-8h_L\", \"MeJA_Control-24h_L\"], \"y\": [1.0, 3.0, 4.0, 0.8, 2.204052, 0.2, 0.4, 2.0, 1.6, 1.6], \"type\": \"scatter\", \"uid\": \"fc3da624-3633-11ea-9c5e-79fdfc20b759\"}, {\"line\": {\"color\": \"#be608b\", \"dash\": \"dot\", \"width\": 4}, \"mode\": \"lines+markers\", \"name\": \"Sevir.1G379100\", \"x\": [\"MeJA_Control-48h_L\", \"MeJA_MeJA-1h_L\", \"MeJA_MeJA-4h_L\", \"MeJA_MeJA-8h_L\", \"MeJA_MeJA-24h_L\", \"MeJA_MeJA-48h_L\", \"MeJA_Control-1h_L\", \"MeJA_Control-4h_L\", \"MeJA_Control-8h_L\", \"MeJA_Control-24h_L\"], \"y\": [5.051640000000001, 6.606816, 8.665777499999999, 4.650376, 10.402284, 1.846698, 3.149864, 6.303012, 4.9104600000000005, 11.263650000000002], \"type\": \"scatter\", \"uid\": \"fc3da750-3633-11ea-9c5e-79fdfc20b759\"}, {\"line\": {\"color\": \"#96b00c\", \"dash\": \"dash\", \"width\": 4}, \"mode\": \"lines+markers\", \"name\": \"Sevir.8G222414\", \"x\": [\"MeJA_Control-48h_L\", \"MeJA_MeJA-1h_L\", \"MeJA_MeJA-4h_L\", \"MeJA_MeJA-8h_L\", \"MeJA_MeJA-24h_L\", \"MeJA_MeJA-48h_L\", \"MeJA_Control-1h_L\", \"MeJA_Control-4h_L\", \"MeJA_Control-8h_L\", \"MeJA_Control-24h_L\"], \"y\": [1.4, 1.0, 2.25, 0.8, 1.7841960000000001, 0.0, 0.8023340000000001, 2.737984, 1.0, 1.7379840000000002], \"type\": \"scatter\", \"uid\": \"fc3da872-3633-11ea-9c5e-79fdfc20b759\"}, {\"line\": {\"color\": \"#088baf\", \"dash\": \"solid\", \"width\": 4}, \"mode\": \"lines+markers\", \"name\": \"Sevir.6G039200\", \"x\": [\"MeJA_Control-48h_L\", \"MeJA_MeJA-1h_L\", \"MeJA_MeJA-4h_L\", \"MeJA_MeJA-8h_L\", \"MeJA_MeJA-24h_L\", \"MeJA_MeJA-48h_L\", \"MeJA_Control-1h_L\", \"MeJA_Control-4h_L\", \"MeJA_Control-8h_L\", \"MeJA_Control-24h_L\"], \"y\": [4.216468000000001, 26.262199999999996, 43.0683875, 0.570888, 5.318044, 13.119755999999999, 6.462288000000001, 9.873935999999999, 4.860116, 4.536849999999999], \"type\": \"scatter\", \"uid\": \"fc3dad4a-3633-11ea-9c5e-79fdfc20b759\"}, {\"line\": {\"color\": \"#f158bf\", \"dash\": \"dot\", \"width\": 4}, \"mode\": \"lines+markers\", \"name\": \"Sevir.6G075100\", \"x\": [\"MeJA_Control-48h_L\", \"MeJA_MeJA-1h_L\", \"MeJA_MeJA-4h_L\", \"MeJA_MeJA-8h_L\", \"MeJA_MeJA-24h_L\", \"MeJA_MeJA-48h_L\", \"MeJA_Control-1h_L\", \"MeJA_Control-4h_L\", \"MeJA_Control-8h_L\", \"MeJA_Control-24h_L\"], \"y\": [0.0, 0.0, 1.5, 0.0, 0.4, 0.0, 0.0, 0.0, 0.0, 0.0], \"type\": \"scatter\", \"uid\": \"fc3daff2-3633-11ea-9c5e-79fdfc20b759\"}, {\"line\": {\"color\": \"#e145ba\", \"dash\": \"dash\", \"width\": 4}, \"mode\": \"lines+markers\", \"name\": \"Sevir.3G331800\", \"x\": [\"MeJA_Control-48h_L\", \"MeJA_MeJA-1h_L\", \"MeJA_MeJA-4h_L\", \"MeJA_MeJA-8h_L\", \"MeJA_MeJA-24h_L\", \"MeJA_MeJA-48h_L\", \"MeJA_Control-1h_L\", \"MeJA_Control-4h_L\", \"MeJA_Control-8h_L\", \"MeJA_Control-24h_L\"], \"y\": [0.2, 0.0, 1.75, 0.0, 0.6, 0.0, 0.2, 1.2, 1.0, 0.6], \"type\": \"scatter\", \"uid\": \"fc3db100-3633-11ea-9c5e-79fdfc20b759\"}, {\"line\": {\"color\": \"#ee91e3\", \"dash\": \"solid\", \"width\": 4}, \"mode\": \"lines+markers\", \"name\": \"Sevir.4G164200\", \"x\": [\"MeJA_Control-48h_L\", \"MeJA_MeJA-1h_L\", \"MeJA_MeJA-4h_L\", \"MeJA_MeJA-8h_L\", \"MeJA_MeJA-24h_L\", \"MeJA_MeJA-48h_L\", \"MeJA_Control-1h_L\", \"MeJA_Control-4h_L\", \"MeJA_Control-8h_L\", \"MeJA_Control-24h_L\"], \"y\": [0.2378134, 0.0, 1.5, 0.2, 0.0, 0.0, 0.4, 0.0, 0.0, 0.0], \"type\": \"scatter\", \"uid\": \"fc3db1dc-3633-11ea-9c5e-79fdfc20b759\"}, {\"line\": {\"color\": \"#05d371\", \"dash\": \"dot\", \"width\": 4}, \"mode\": \"lines+markers\", \"name\": \"Sevir.9G347733\", \"x\": [\"MeJA_Control-48h_L\", \"MeJA_MeJA-1h_L\", \"MeJA_MeJA-4h_L\", \"MeJA_MeJA-8h_L\", \"MeJA_MeJA-24h_L\", \"MeJA_MeJA-48h_L\", \"MeJA_Control-1h_L\", \"MeJA_Control-4h_L\", \"MeJA_Control-8h_L\", \"MeJA_Control-24h_L\"], \"y\": [0.6, 0.4, 2.0, 0.6, 2.4, 0.0, 1.0, 1.8, 1.2, 1.2], \"type\": \"scatter\", \"uid\": \"fc3db2b8-3633-11ea-9c5e-79fdfc20b759\"}, {\"line\": {\"color\": \"#5426e0\", \"dash\": \"dash\", \"width\": 4}, \"mode\": \"lines+markers\", \"name\": \"Sevir.2G396750\", \"x\": [\"MeJA_Control-48h_L\", \"MeJA_MeJA-1h_L\", \"MeJA_MeJA-4h_L\", \"MeJA_MeJA-8h_L\", \"MeJA_MeJA-24h_L\", \"MeJA_MeJA-48h_L\", \"MeJA_Control-1h_L\", \"MeJA_Control-4h_L\", \"MeJA_Control-8h_L\", \"MeJA_Control-24h_L\"], \"y\": [0.0, 0.0, 0.75, 0.0, 0.0, 0.0, 0.0, 0.0, 0.0, 0.0], \"type\": \"scatter\", \"uid\": \"fc3db38a-3633-11ea-9c5e-79fdfc20b759\"}, {\"line\": {\"color\": \"#4834d0\", \"dash\": \"solid\", \"width\": 4}, \"mode\": \"lines+markers\", \"name\": \"Sevir.3G116100\", \"x\": [\"MeJA_Control-48h_L\", \"MeJA_MeJA-1h_L\", \"MeJA_MeJA-4h_L\", \"MeJA_MeJA-8h_L\", \"MeJA_MeJA-24h_L\", \"MeJA_MeJA-48h_L\", \"MeJA_Control-1h_L\", \"MeJA_Control-4h_L\", \"MeJA_Control-8h_L\", \"MeJA_Control-24h_L\"], \"y\": [0.2, 0.0, 1.75, 0.0, 0.4, 0.6, 0.2, 0.0, 0.4, 0.0], \"type\": \"scatter\", \"uid\": \"fc3db45c-3633-11ea-9c5e-79fdfc20b759\"}, {\"line\": {\"color\": \"#802234\", \"dash\": \"dot\", \"width\": 4}, \"mode\": \"lines+markers\", \"name\": \"Sevir.7G061100\", \"x\": [\"MeJA_Control-48h_L\", \"MeJA_MeJA-1h_L\", \"MeJA_MeJA-4h_L\", \"MeJA_MeJA-8h_L\", \"MeJA_MeJA-24h_L\", \"MeJA_MeJA-48h_L\", \"MeJA_Control-1h_L\", \"MeJA_Control-4h_L\", \"MeJA_Control-8h_L\", \"MeJA_Control-24h_L\"], \"y\": [0.0, 0.2, 0.25, 0.2, 0.0, 0.0, 0.0, 0.0, 0.0, 0.2], \"type\": \"scatter\", \"uid\": \"fc3db52e-3633-11ea-9c5e-79fdfc20b759\"}, {\"line\": {\"color\": \"#6749e8\", \"dash\": \"dash\", \"width\": 4}, \"mode\": \"lines+markers\", \"name\": \"Sevir.2G307100\", \"x\": [\"MeJA_Control-48h_L\", \"MeJA_MeJA-1h_L\", \"MeJA_MeJA-4h_L\", \"MeJA_MeJA-8h_L\", \"MeJA_MeJA-24h_L\", \"MeJA_MeJA-48h_L\", \"MeJA_Control-1h_L\", \"MeJA_Control-4h_L\", \"MeJA_Control-8h_L\", \"MeJA_Control-24h_L\"], \"y\": [0.0, 0.0, 1.5, 0.0, 0.8, 0.2, 0.0, 0.0, 1.6, 0.0], \"type\": \"scatter\", \"uid\": \"fc3db600-3633-11ea-9c5e-79fdfc20b759\"}, {\"line\": {\"color\": \"#0971f0\", \"dash\": \"solid\", \"width\": 4}, \"mode\": \"lines+markers\", \"name\": \"Sevir.5G087400\", \"x\": [\"MeJA_Control-48h_L\", \"MeJA_MeJA-1h_L\", \"MeJA_MeJA-4h_L\", \"MeJA_MeJA-8h_L\", \"MeJA_MeJA-24h_L\", \"MeJA_MeJA-48h_L\", \"MeJA_Control-1h_L\", \"MeJA_Control-4h_L\", \"MeJA_Control-8h_L\", \"MeJA_Control-24h_L\"], \"y\": [0.8, 0.2, 1.5, 0.6, 0.4, 0.0, 0.0, 0.0, 0.4, 0.4], \"type\": \"scatter\", \"uid\": \"fc3db6d2-3633-11ea-9c5e-79fdfc20b759\"}, {\"line\": {\"color\": \"#8fb413\", \"dash\": \"dot\", \"width\": 4}, \"mode\": \"lines+markers\", \"name\": \"Sevir.7G005300\", \"x\": [\"MeJA_Control-48h_L\", \"MeJA_MeJA-1h_L\", \"MeJA_MeJA-4h_L\", \"MeJA_MeJA-8h_L\", \"MeJA_MeJA-24h_L\", \"MeJA_MeJA-48h_L\", \"MeJA_Control-1h_L\", \"MeJA_Control-4h_L\", \"MeJA_Control-8h_L\", \"MeJA_Control-24h_L\"], \"y\": [0.0, 0.0, 0.5, 0.0, 0.0, 0.2, 0.0, 0.0, 0.0, 0.0], \"type\": \"scatter\", \"uid\": \"fc3db7a4-3633-11ea-9c5e-79fdfc20b759\"}, {\"line\": {\"color\": \"#b2b4f0\", \"dash\": \"dash\", \"width\": 4}, \"mode\": \"lines+markers\", \"name\": \"Sevir.2G026100\", \"x\": [\"MeJA_Control-48h_L\", \"MeJA_MeJA-1h_L\", \"MeJA_MeJA-4h_L\", \"MeJA_MeJA-8h_L\", \"MeJA_MeJA-24h_L\", \"MeJA_MeJA-48h_L\", \"MeJA_Control-1h_L\", \"MeJA_Control-4h_L\", \"MeJA_Control-8h_L\", \"MeJA_Control-24h_L\"], \"y\": [0.0, 0.0, 1.75, 0.0, 0.0, 0.0, 0.0, 0.4, 0.0, 0.2], \"type\": \"scatter\", \"uid\": \"fc3db876-3633-11ea-9c5e-79fdfc20b759\"}, {\"line\": {\"color\": \"#c3c89d\", \"dash\": \"solid\", \"width\": 4}, \"mode\": \"lines+markers\", \"name\": \"Sevir.9G072900\", \"x\": [\"MeJA_Control-48h_L\", \"MeJA_MeJA-1h_L\", \"MeJA_MeJA-4h_L\", \"MeJA_MeJA-8h_L\", \"MeJA_MeJA-24h_L\", \"MeJA_MeJA-48h_L\", \"MeJA_Control-1h_L\", \"MeJA_Control-4h_L\", \"MeJA_Control-8h_L\", \"MeJA_Control-24h_L\"], \"y\": [0.0, 0.2, 0.75, 0.0, 0.0, 0.0, 0.0, 0.2, 0.2, 0.0], \"type\": \"scatter\", \"uid\": \"fc3db93e-3633-11ea-9c5e-79fdfc20b759\"}], {\"dragmode\": \"select\", \"plot_bgcolor\": \"white\", \"title\": \"Average Gene Expression - Methyl Jasmonate\", \"xaxis\": {\"gridcolor\": \"whitesmoke\", \"showgrid\": true, \"title\": \"Experimental Conditions\"}, \"yaxis\": {\"gridcolor\": \"whitesmoke\", \"showgrid\": true, \"title\": \"Expression\"}}, {\"showLink\": true, \"linkText\": \"Export to plot.ly\"})});</script>"
      ]
     },
     "metadata": {},
     "output_type": "display_data"
    },
    {
     "data": {
      "application/vnd.plotly.v1+json": {
       "data": [
        {
         "line": {
          "color": "#ce7d78",
          "dash": "dot",
          "width": 4
         },
         "mode": "lines+markers",
         "name": "Sevir.9G282425",
         "type": "scatter",
         "uid": "fd5b0c18-3633-11ea-9c5e-79fdfc20b759",
         "x": [
          "Salt_Control_AC_L",
          "Salt_Control_AC_S",
          "Salt_10mM_AC_L",
          "Salt_10mM_AC_S",
          "Salt_100mM_AC_L",
          "Salt_100mM_AC_S",
          "Salt_Control_NAC_L",
          "Salt_Control_NAC_S",
          "Salt_10mM_NAC_L",
          "Salt_10mM_NAC_S",
          "Salt_100mM_NAC_L",
          "Salt_100mM_NAC_S"
         ],
         "y": [
          0.3333333333333333,
          0,
          0.75,
          0,
          1,
          0,
          0,
          0,
          0,
          0,
          0.2,
          0
         ]
        },
        {
         "line": {
          "color": "#ea9e70",
          "dash": "dash",
          "width": 4
         },
         "mode": "lines+markers",
         "name": "Sevir.7G018910",
         "type": "scatter",
         "uid": "fd5b1032-3633-11ea-9c5e-79fdfc20b759",
         "x": [
          "Salt_Control_AC_L",
          "Salt_Control_AC_S",
          "Salt_10mM_AC_L",
          "Salt_10mM_AC_S",
          "Salt_100mM_AC_L",
          "Salt_100mM_AC_S",
          "Salt_Control_NAC_L",
          "Salt_Control_NAC_S",
          "Salt_10mM_NAC_L",
          "Salt_10mM_NAC_S",
          "Salt_100mM_NAC_L",
          "Salt_100mM_NAC_S"
         ],
         "y": [
          0,
          0,
          0,
          0,
          0,
          0,
          0,
          0,
          0,
          0,
          0,
          0
         ]
        },
        {
         "line": {
          "color": "#a48a9e",
          "dash": "solid",
          "width": 4
         },
         "mode": "lines+markers",
         "name": "Sevir.5G044500",
         "type": "scatter",
         "uid": "fd5b1352-3633-11ea-9c5e-79fdfc20b759",
         "x": [
          "Salt_Control_AC_L",
          "Salt_Control_AC_S",
          "Salt_10mM_AC_L",
          "Salt_10mM_AC_S",
          "Salt_100mM_AC_L",
          "Salt_100mM_AC_S",
          "Salt_Control_NAC_L",
          "Salt_Control_NAC_S",
          "Salt_10mM_NAC_L",
          "Salt_10mM_NAC_S",
          "Salt_100mM_NAC_L",
          "Salt_100mM_NAC_S"
         ],
         "y": [
          0,
          0,
          0,
          0,
          0,
          0,
          0,
          0,
          0,
          0,
          0.4,
          0
         ]
        },
        {
         "line": {
          "color": "#c6e1e8",
          "dash": "dot",
          "width": 4
         },
         "mode": "lines+markers",
         "name": "Sevir.2G127900",
         "type": "scatter",
         "uid": "fd5b1546-3633-11ea-9c5e-79fdfc20b759",
         "x": [
          "Salt_Control_AC_L",
          "Salt_Control_AC_S",
          "Salt_10mM_AC_L",
          "Salt_10mM_AC_S",
          "Salt_100mM_AC_L",
          "Salt_100mM_AC_S",
          "Salt_Control_NAC_L",
          "Salt_Control_NAC_S",
          "Salt_10mM_NAC_L",
          "Salt_10mM_NAC_S",
          "Salt_100mM_NAC_L",
          "Salt_100mM_NAC_S"
         ],
         "y": [
          0.3333333333333333,
          0,
          0,
          0,
          0.4,
          0,
          0.2,
          0,
          0,
          0,
          1,
          0
         ]
        },
        {
         "line": {
          "color": "#648177",
          "dash": "dash",
          "width": 4
         },
         "mode": "lines+markers",
         "name": "Sevir.5G129000",
         "type": "scatter",
         "uid": "fd5b1708-3633-11ea-9c5e-79fdfc20b759",
         "x": [
          "Salt_Control_AC_L",
          "Salt_Control_AC_S",
          "Salt_10mM_AC_L",
          "Salt_10mM_AC_S",
          "Salt_100mM_AC_L",
          "Salt_100mM_AC_S",
          "Salt_Control_NAC_L",
          "Salt_Control_NAC_S",
          "Salt_10mM_NAC_L",
          "Salt_10mM_NAC_S",
          "Salt_100mM_NAC_L",
          "Salt_100mM_NAC_S"
         ],
         "y": [
          3.5500666666666665,
          0.6744519999999999,
          0.7901375,
          10.05442,
          3.523276,
          0.435388,
          7.200788,
          0.715742,
          4.8578280000000005,
          0.898112,
          2.703496,
          0.736294
         ]
        },
        {
         "line": {
          "color": "#0d5ac1",
          "dash": "solid",
          "width": 4
         },
         "mode": "lines+markers",
         "name": "Sevir.2G354400",
         "type": "scatter",
         "uid": "fd5b18ca-3633-11ea-9c5e-79fdfc20b759",
         "x": [
          "Salt_Control_AC_L",
          "Salt_Control_AC_S",
          "Salt_10mM_AC_L",
          "Salt_10mM_AC_S",
          "Salt_100mM_AC_L",
          "Salt_100mM_AC_S",
          "Salt_Control_NAC_L",
          "Salt_Control_NAC_S",
          "Salt_10mM_NAC_L",
          "Salt_10mM_NAC_S",
          "Salt_100mM_NAC_L",
          "Salt_100mM_NAC_S"
         ],
         "y": [
          0,
          0,
          0,
          0,
          0,
          0,
          0,
          0,
          0,
          0,
          0,
          0
         ]
        },
        {
         "line": {
          "color": "#f205e6",
          "dash": "dot",
          "width": 4
         },
         "mode": "lines+markers",
         "name": "Sevir.2G152600",
         "type": "scatter",
         "uid": "fd5b1a78-3633-11ea-9c5e-79fdfc20b759",
         "x": [
          "Salt_Control_AC_L",
          "Salt_Control_AC_S",
          "Salt_10mM_AC_L",
          "Salt_10mM_AC_S",
          "Salt_100mM_AC_L",
          "Salt_100mM_AC_S",
          "Salt_Control_NAC_L",
          "Salt_Control_NAC_S",
          "Salt_10mM_NAC_L",
          "Salt_10mM_NAC_S",
          "Salt_100mM_NAC_L",
          "Salt_100mM_NAC_S"
         ],
         "y": [
          0.3333333333333333,
          0,
          0,
          0,
          0,
          0,
          0,
          0,
          0,
          0,
          0,
          0
         ]
        },
        {
         "line": {
          "color": "#1c0365",
          "dash": "dash",
          "width": 4
         },
         "mode": "lines+markers",
         "name": "Sevir.7G023700",
         "type": "scatter",
         "uid": "fd5b1c26-3633-11ea-9c5e-79fdfc20b759",
         "x": [
          "Salt_Control_AC_L",
          "Salt_Control_AC_S",
          "Salt_10mM_AC_L",
          "Salt_10mM_AC_S",
          "Salt_100mM_AC_L",
          "Salt_100mM_AC_S",
          "Salt_Control_NAC_L",
          "Salt_Control_NAC_S",
          "Salt_10mM_NAC_L",
          "Salt_10mM_NAC_S",
          "Salt_100mM_NAC_L",
          "Salt_100mM_NAC_S"
         ],
         "y": [
          0.91036,
          0.26849599999999996,
          0,
          0,
          0,
          0.20067400000000002,
          0,
          0,
          0,
          0.2,
          0.5437540000000001,
          0
         ]
        },
        {
         "line": {
          "color": "#14a9ad",
          "dash": "solid",
          "width": 4
         },
         "mode": "lines+markers",
         "name": "Sevir.4G118900",
         "type": "scatter",
         "uid": "fd5b1dd4-3633-11ea-9c5e-79fdfc20b759",
         "x": [
          "Salt_Control_AC_L",
          "Salt_Control_AC_S",
          "Salt_10mM_AC_L",
          "Salt_10mM_AC_S",
          "Salt_100mM_AC_L",
          "Salt_100mM_AC_S",
          "Salt_Control_NAC_L",
          "Salt_Control_NAC_S",
          "Salt_10mM_NAC_L",
          "Salt_10mM_NAC_S",
          "Salt_100mM_NAC_L",
          "Salt_100mM_NAC_S"
         ],
         "y": [
          0,
          0,
          1,
          1,
          1,
          0.2,
          1.6,
          0,
          0.8,
          0.4,
          1.2,
          0
         ]
        },
        {
         "line": {
          "color": "#4ca2f9",
          "dash": "dot",
          "width": 4
         },
         "mode": "lines+markers",
         "name": "Sevir.8G081600",
         "type": "scatter",
         "uid": "fd5b1f78-3633-11ea-9c5e-79fdfc20b759",
         "x": [
          "Salt_Control_AC_L",
          "Salt_Control_AC_S",
          "Salt_10mM_AC_L",
          "Salt_10mM_AC_S",
          "Salt_100mM_AC_L",
          "Salt_100mM_AC_S",
          "Salt_Control_NAC_L",
          "Salt_Control_NAC_S",
          "Salt_10mM_NAC_L",
          "Salt_10mM_NAC_S",
          "Salt_100mM_NAC_L",
          "Salt_100mM_NAC_S"
         ],
         "y": [
          0,
          0,
          0,
          2.49837,
          0,
          0.1997434,
          0,
          0,
          0,
          0.1998164,
          0,
          1.998478
         ]
        },
        {
         "line": {
          "color": "#a4e43f",
          "dash": "dash",
          "width": 4
         },
         "mode": "lines+markers",
         "name": "Sevir.5G364132",
         "type": "scatter",
         "uid": "fd5b2112-3633-11ea-9c5e-79fdfc20b759",
         "x": [
          "Salt_Control_AC_L",
          "Salt_Control_AC_S",
          "Salt_10mM_AC_L",
          "Salt_10mM_AC_S",
          "Salt_100mM_AC_L",
          "Salt_100mM_AC_S",
          "Salt_Control_NAC_L",
          "Salt_Control_NAC_S",
          "Salt_10mM_NAC_L",
          "Salt_10mM_NAC_S",
          "Salt_100mM_NAC_L",
          "Salt_100mM_NAC_S"
         ],
         "y": [
          0,
          0,
          0,
          0,
          0,
          0,
          0,
          0,
          0,
          1.2,
          1,
          0
         ]
        },
        {
         "line": {
          "color": "#d298e2",
          "dash": "solid",
          "width": 4
         },
         "mode": "lines+markers",
         "name": "Sevir.4G263301",
         "type": "scatter",
         "uid": "fd5b22ac-3633-11ea-9c5e-79fdfc20b759",
         "x": [
          "Salt_Control_AC_L",
          "Salt_Control_AC_S",
          "Salt_10mM_AC_L",
          "Salt_10mM_AC_S",
          "Salt_100mM_AC_L",
          "Salt_100mM_AC_S",
          "Salt_Control_NAC_L",
          "Salt_Control_NAC_S",
          "Salt_10mM_NAC_L",
          "Salt_10mM_NAC_S",
          "Salt_100mM_NAC_L",
          "Salt_100mM_NAC_S"
         ],
         "y": [
          0,
          0,
          0,
          0,
          0.4,
          0,
          0,
          0,
          0.6,
          0.2,
          0,
          0
         ]
        },
        {
         "line": {
          "color": "#6119d0",
          "dash": "dot",
          "width": 4
         },
         "mode": "lines+markers",
         "name": "Sevir.9G099466",
         "type": "scatter",
         "uid": "fd5b2446-3633-11ea-9c5e-79fdfc20b759",
         "x": [
          "Salt_Control_AC_L",
          "Salt_Control_AC_S",
          "Salt_10mM_AC_L",
          "Salt_10mM_AC_S",
          "Salt_100mM_AC_L",
          "Salt_100mM_AC_S",
          "Salt_Control_NAC_L",
          "Salt_Control_NAC_S",
          "Salt_10mM_NAC_L",
          "Salt_10mM_NAC_S",
          "Salt_100mM_NAC_L",
          "Salt_100mM_NAC_S"
         ],
         "y": [
          0,
          0.4,
          0,
          0,
          0,
          0,
          0,
          0,
          0,
          0,
          0,
          0.8
         ]
        },
        {
         "line": {
          "color": "#d2737d",
          "dash": "dash",
          "width": 4
         },
         "mode": "lines+markers",
         "name": "Sevir.9G078500",
         "type": "scatter",
         "uid": "fd5b25ea-3633-11ea-9c5e-79fdfc20b759",
         "x": [
          "Salt_Control_AC_L",
          "Salt_Control_AC_S",
          "Salt_10mM_AC_L",
          "Salt_10mM_AC_S",
          "Salt_100mM_AC_L",
          "Salt_100mM_AC_S",
          "Salt_Control_NAC_L",
          "Salt_Control_NAC_S",
          "Salt_10mM_NAC_L",
          "Salt_10mM_NAC_S",
          "Salt_100mM_NAC_L",
          "Salt_100mM_NAC_S"
         ],
         "y": [
          0,
          0,
          0,
          0,
          0,
          0,
          0,
          0,
          0.6,
          0.2,
          0,
          0
         ]
        },
        {
         "line": {
          "color": "#c0a43c",
          "dash": "solid",
          "width": 4
         },
         "mode": "lines+markers",
         "name": "Sevir.2G263800",
         "type": "scatter",
         "uid": "fd5b2888-3633-11ea-9c5e-79fdfc20b759",
         "x": [
          "Salt_Control_AC_L",
          "Salt_Control_AC_S",
          "Salt_10mM_AC_L",
          "Salt_10mM_AC_S",
          "Salt_100mM_AC_L",
          "Salt_100mM_AC_S",
          "Salt_Control_NAC_L",
          "Salt_Control_NAC_S",
          "Salt_10mM_NAC_L",
          "Salt_10mM_NAC_S",
          "Salt_100mM_NAC_L",
          "Salt_100mM_NAC_S"
         ],
         "y": [
          0,
          0,
          0,
          0,
          0,
          0,
          0,
          0,
          0,
          0,
          0,
          0
         ]
        },
        {
         "line": {
          "color": "#f2510e",
          "dash": "dot",
          "width": 4
         },
         "mode": "lines+markers",
         "name": "Sevir.8G218520",
         "type": "scatter",
         "uid": "fd5b2a68-3633-11ea-9c5e-79fdfc20b759",
         "x": [
          "Salt_Control_AC_L",
          "Salt_Control_AC_S",
          "Salt_10mM_AC_L",
          "Salt_10mM_AC_S",
          "Salt_100mM_AC_L",
          "Salt_100mM_AC_S",
          "Salt_Control_NAC_L",
          "Salt_Control_NAC_S",
          "Salt_10mM_NAC_L",
          "Salt_10mM_NAC_S",
          "Salt_100mM_NAC_L",
          "Salt_100mM_NAC_S"
         ],
         "y": [
          0,
          0,
          0,
          0,
          0,
          0,
          0,
          0,
          0.6,
          0,
          0,
          0
         ]
        },
        {
         "line": {
          "color": "#651be6",
          "dash": "dash",
          "width": 4
         },
         "mode": "lines+markers",
         "name": "Sevir.3G390900",
         "type": "scatter",
         "uid": "fd5b2c16-3633-11ea-9c5e-79fdfc20b759",
         "x": [
          "Salt_Control_AC_L",
          "Salt_Control_AC_S",
          "Salt_10mM_AC_L",
          "Salt_10mM_AC_S",
          "Salt_100mM_AC_L",
          "Salt_100mM_AC_S",
          "Salt_Control_NAC_L",
          "Salt_Control_NAC_S",
          "Salt_10mM_NAC_L",
          "Salt_10mM_NAC_S",
          "Salt_100mM_NAC_L",
          "Salt_100mM_NAC_S"
         ],
         "y": [
          0,
          0,
          0,
          0,
          0,
          0,
          0,
          0,
          0,
          0,
          0,
          0
         ]
        },
        {
         "line": {
          "color": "#79806e",
          "dash": "solid",
          "width": 4
         },
         "mode": "lines+markers",
         "name": "Sevir.9G165400",
         "type": "scatter",
         "uid": "fd5b2db0-3633-11ea-9c5e-79fdfc20b759",
         "x": [
          "Salt_Control_AC_L",
          "Salt_Control_AC_S",
          "Salt_10mM_AC_L",
          "Salt_10mM_AC_S",
          "Salt_100mM_AC_L",
          "Salt_100mM_AC_S",
          "Salt_Control_NAC_L",
          "Salt_Control_NAC_S",
          "Salt_10mM_NAC_L",
          "Salt_10mM_NAC_S",
          "Salt_100mM_NAC_L",
          "Salt_100mM_NAC_S"
         ],
         "y": [
          0,
          0,
          0,
          0,
          0,
          0,
          0,
          0,
          0.4,
          0,
          0,
          0
         ]
        },
        {
         "line": {
          "color": "#61da5e",
          "dash": "dot",
          "width": 4
         },
         "mode": "lines+markers",
         "name": "Sevir.8G245140",
         "type": "scatter",
         "uid": "fd5b2f54-3633-11ea-9c5e-79fdfc20b759",
         "x": [
          "Salt_Control_AC_L",
          "Salt_Control_AC_S",
          "Salt_10mM_AC_L",
          "Salt_10mM_AC_S",
          "Salt_100mM_AC_L",
          "Salt_100mM_AC_S",
          "Salt_Control_NAC_L",
          "Salt_Control_NAC_S",
          "Salt_10mM_NAC_L",
          "Salt_10mM_NAC_S",
          "Salt_100mM_NAC_L",
          "Salt_100mM_NAC_S"
         ],
         "y": [
          0,
          0,
          0,
          0,
          0,
          0,
          0,
          0.2,
          0,
          0.4,
          0,
          1.6
         ]
        },
        {
         "line": {
          "color": "#cd2f00",
          "dash": "dash",
          "width": 4
         },
         "mode": "lines+markers",
         "name": "Sevir.8G087000",
         "type": "scatter",
         "uid": "fd5b30f8-3633-11ea-9c5e-79fdfc20b759",
         "x": [
          "Salt_Control_AC_L",
          "Salt_Control_AC_S",
          "Salt_10mM_AC_L",
          "Salt_10mM_AC_S",
          "Salt_100mM_AC_L",
          "Salt_100mM_AC_S",
          "Salt_Control_NAC_L",
          "Salt_Control_NAC_S",
          "Salt_10mM_NAC_L",
          "Salt_10mM_NAC_S",
          "Salt_100mM_NAC_L",
          "Salt_100mM_NAC_S"
         ],
         "y": [
          0,
          0,
          0,
          0,
          0,
          0,
          0,
          0,
          0,
          0,
          0,
          0
         ]
        },
        {
         "line": {
          "color": "#9348af",
          "dash": "solid",
          "width": 4
         },
         "mode": "lines+markers",
         "name": "Sevir.9G576201",
         "type": "scatter",
         "uid": "fd5b3292-3633-11ea-9c5e-79fdfc20b759",
         "x": [
          "Salt_Control_AC_L",
          "Salt_Control_AC_S",
          "Salt_10mM_AC_L",
          "Salt_10mM_AC_S",
          "Salt_100mM_AC_L",
          "Salt_100mM_AC_S",
          "Salt_Control_NAC_L",
          "Salt_Control_NAC_S",
          "Salt_10mM_NAC_L",
          "Salt_10mM_NAC_S",
          "Salt_100mM_NAC_L",
          "Salt_100mM_NAC_S"
         ],
         "y": [
          0,
          0,
          0,
          2.457371,
          0,
          0,
          0,
          0,
          0,
          0.19686520000000002,
          0,
          0
         ]
        },
        {
         "line": {
          "color": "#01ac53",
          "dash": "dot",
          "width": 4
         },
         "mode": "lines+markers",
         "name": "Sevir.5G470750",
         "type": "scatter",
         "uid": "fd5b3436-3633-11ea-9c5e-79fdfc20b759",
         "x": [
          "Salt_Control_AC_L",
          "Salt_Control_AC_S",
          "Salt_10mM_AC_L",
          "Salt_10mM_AC_S",
          "Salt_100mM_AC_L",
          "Salt_100mM_AC_S",
          "Salt_Control_NAC_L",
          "Salt_Control_NAC_S",
          "Salt_10mM_NAC_L",
          "Salt_10mM_NAC_S",
          "Salt_100mM_NAC_L",
          "Salt_100mM_NAC_S"
         ],
         "y": [
          0.6666666666666666,
          1,
          0.25,
          0,
          1.82664,
          0.2,
          0,
          0,
          0,
          0.8,
          0.8,
          0.2
         ]
        },
        {
         "line": {
          "color": "#c5a4fb",
          "dash": "dash",
          "width": 4
         },
         "mode": "lines+markers",
         "name": "Sevir.1G060850",
         "type": "scatter",
         "uid": "fd5b35d0-3633-11ea-9c5e-79fdfc20b759",
         "x": [
          "Salt_Control_AC_L",
          "Salt_Control_AC_S",
          "Salt_10mM_AC_L",
          "Salt_10mM_AC_S",
          "Salt_100mM_AC_L",
          "Salt_100mM_AC_S",
          "Salt_Control_NAC_L",
          "Salt_Control_NAC_S",
          "Salt_10mM_NAC_L",
          "Salt_10mM_NAC_S",
          "Salt_100mM_NAC_L",
          "Salt_100mM_NAC_S"
         ],
         "y": [
          0,
          0,
          0,
          0,
          0,
          0,
          0,
          0,
          0,
          0,
          0,
          0
         ]
        },
        {
         "line": {
          "color": "#996635",
          "dash": "solid",
          "width": 4
         },
         "mode": "lines+markers",
         "name": "Sevir.2G280500",
         "type": "scatter",
         "uid": "fd5b3760-3633-11ea-9c5e-79fdfc20b759",
         "x": [
          "Salt_Control_AC_L",
          "Salt_Control_AC_S",
          "Salt_10mM_AC_L",
          "Salt_10mM_AC_S",
          "Salt_100mM_AC_L",
          "Salt_100mM_AC_S",
          "Salt_Control_NAC_L",
          "Salt_Control_NAC_S",
          "Salt_10mM_NAC_L",
          "Salt_10mM_NAC_S",
          "Salt_100mM_NAC_L",
          "Salt_100mM_NAC_S"
         ],
         "y": [
          0,
          0,
          0,
          0,
          0,
          0,
          0,
          0,
          0.1326804,
          0,
          0.364382,
          0
         ]
        },
        {
         "line": {
          "color": "#b11573",
          "dash": "dot",
          "width": 4
         },
         "mode": "lines+markers",
         "name": "Sevir.9G268200",
         "type": "scatter",
         "uid": "fd5b38fa-3633-11ea-9c5e-79fdfc20b759",
         "x": [
          "Salt_Control_AC_L",
          "Salt_Control_AC_S",
          "Salt_10mM_AC_L",
          "Salt_10mM_AC_S",
          "Salt_100mM_AC_L",
          "Salt_100mM_AC_S",
          "Salt_Control_NAC_L",
          "Salt_Control_NAC_S",
          "Salt_10mM_NAC_L",
          "Salt_10mM_NAC_S",
          "Salt_100mM_NAC_L",
          "Salt_100mM_NAC_S"
         ],
         "y": [
          0,
          0,
          0,
          0,
          0,
          0,
          0,
          0,
          0,
          0,
          0,
          0
         ]
        },
        {
         "line": {
          "color": "#4bb473",
          "dash": "dash",
          "width": 4
         },
         "mode": "lines+markers",
         "name": "Sevir.4G143101",
         "type": "scatter",
         "uid": "fd5b3a94-3633-11ea-9c5e-79fdfc20b759",
         "x": [
          "Salt_Control_AC_L",
          "Salt_Control_AC_S",
          "Salt_10mM_AC_L",
          "Salt_10mM_AC_S",
          "Salt_100mM_AC_L",
          "Salt_100mM_AC_S",
          "Salt_Control_NAC_L",
          "Salt_Control_NAC_S",
          "Salt_10mM_NAC_L",
          "Salt_10mM_NAC_S",
          "Salt_100mM_NAC_L",
          "Salt_100mM_NAC_S"
         ],
         "y": [
          0,
          0,
          0,
          0,
          0,
          0,
          0,
          0,
          0.4,
          0,
          0.6,
          0
         ]
        },
        {
         "line": {
          "color": "#75d89e",
          "dash": "solid",
          "width": 4
         },
         "mode": "lines+markers",
         "name": "Sevir.2G342800",
         "type": "scatter",
         "uid": "fd5b3c24-3633-11ea-9c5e-79fdfc20b759",
         "x": [
          "Salt_Control_AC_L",
          "Salt_Control_AC_S",
          "Salt_10mM_AC_L",
          "Salt_10mM_AC_S",
          "Salt_100mM_AC_L",
          "Salt_100mM_AC_S",
          "Salt_Control_NAC_L",
          "Salt_Control_NAC_S",
          "Salt_10mM_NAC_L",
          "Salt_10mM_NAC_S",
          "Salt_100mM_NAC_L",
          "Salt_100mM_NAC_S"
         ],
         "y": [
          0,
          0,
          0,
          0,
          0,
          0,
          1,
          0,
          0.6,
          0,
          0,
          0
         ]
        },
        {
         "line": {
          "color": "#2f3f94",
          "dash": "dot",
          "width": 4
         },
         "mode": "lines+markers",
         "name": "Sevir.1G019900",
         "type": "scatter",
         "uid": "fd5b3dbe-3633-11ea-9c5e-79fdfc20b759",
         "x": [
          "Salt_Control_AC_L",
          "Salt_Control_AC_S",
          "Salt_10mM_AC_L",
          "Salt_10mM_AC_S",
          "Salt_100mM_AC_L",
          "Salt_100mM_AC_S",
          "Salt_Control_NAC_L",
          "Salt_Control_NAC_S",
          "Salt_10mM_NAC_L",
          "Salt_10mM_NAC_S",
          "Salt_100mM_NAC_L",
          "Salt_100mM_NAC_S"
         ],
         "y": [
          0,
          0,
          0,
          0,
          0.2,
          0,
          0,
          0,
          0,
          0,
          0,
          0
         ]
        },
        {
         "line": {
          "color": "#2f7b99",
          "dash": "dash",
          "width": 4
         },
         "mode": "lines+markers",
         "name": "Sevir.3G353500",
         "type": "scatter",
         "uid": "fd5b3f58-3633-11ea-9c5e-79fdfc20b759",
         "x": [
          "Salt_Control_AC_L",
          "Salt_Control_AC_S",
          "Salt_10mM_AC_L",
          "Salt_10mM_AC_S",
          "Salt_100mM_AC_L",
          "Salt_100mM_AC_S",
          "Salt_Control_NAC_L",
          "Salt_Control_NAC_S",
          "Salt_10mM_NAC_L",
          "Salt_10mM_NAC_S",
          "Salt_100mM_NAC_L",
          "Salt_100mM_NAC_S"
         ],
         "y": [
          0,
          0,
          0,
          0,
          0,
          0,
          0,
          0.2,
          0,
          0,
          0,
          0
         ]
        },
        {
         "line": {
          "color": "#da967d",
          "dash": "solid",
          "width": 4
         },
         "mode": "lines+markers",
         "name": "Sevir.7G189700",
         "type": "scatter",
         "uid": "fd5b40f2-3633-11ea-9c5e-79fdfc20b759",
         "x": [
          "Salt_Control_AC_L",
          "Salt_Control_AC_S",
          "Salt_10mM_AC_L",
          "Salt_10mM_AC_S",
          "Salt_100mM_AC_L",
          "Salt_100mM_AC_S",
          "Salt_Control_NAC_L",
          "Salt_Control_NAC_S",
          "Salt_10mM_NAC_L",
          "Salt_10mM_NAC_S",
          "Salt_100mM_NAC_L",
          "Salt_100mM_NAC_S"
         ],
         "y": [
          0,
          0,
          0,
          0,
          0,
          0.4,
          0,
          0,
          0,
          0,
          0,
          0
         ]
        },
        {
         "line": {
          "color": "#34891f",
          "dash": "dot",
          "width": 4
         },
         "mode": "lines+markers",
         "name": "Sevir.4G118600",
         "type": "scatter",
         "uid": "fd5b4282-3633-11ea-9c5e-79fdfc20b759",
         "x": [
          "Salt_Control_AC_L",
          "Salt_Control_AC_S",
          "Salt_10mM_AC_L",
          "Salt_10mM_AC_S",
          "Salt_100mM_AC_L",
          "Salt_100mM_AC_S",
          "Salt_Control_NAC_L",
          "Salt_Control_NAC_S",
          "Salt_10mM_NAC_L",
          "Salt_10mM_NAC_S",
          "Salt_100mM_NAC_L",
          "Salt_100mM_NAC_S"
         ],
         "y": [
          0,
          0,
          0,
          1.006,
          0,
          0.4,
          0,
          0,
          0,
          0,
          0,
          0
         ]
        },
        {
         "line": {
          "color": "#b0d87b",
          "dash": "dash",
          "width": 4
         },
         "mode": "lines+markers",
         "name": "Sevir.5G315900",
         "type": "scatter",
         "uid": "fd5b441c-3633-11ea-9c5e-79fdfc20b759",
         "x": [
          "Salt_Control_AC_L",
          "Salt_Control_AC_S",
          "Salt_10mM_AC_L",
          "Salt_10mM_AC_S",
          "Salt_100mM_AC_L",
          "Salt_100mM_AC_S",
          "Salt_Control_NAC_L",
          "Salt_Control_NAC_S",
          "Salt_10mM_NAC_L",
          "Salt_10mM_NAC_S",
          "Salt_100mM_NAC_L",
          "Salt_100mM_NAC_S"
         ],
         "y": [
          0,
          0,
          0,
          0,
          0,
          0,
          0,
          0.2,
          0,
          0,
          0,
          0
         ]
        },
        {
         "line": {
          "color": "#ca4751",
          "dash": "solid",
          "width": 4
         },
         "mode": "lines+markers",
         "name": "Sevir.1G110232",
         "type": "scatter",
         "uid": "fd5b45b6-3633-11ea-9c5e-79fdfc20b759",
         "x": [
          "Salt_Control_AC_L",
          "Salt_Control_AC_S",
          "Salt_10mM_AC_L",
          "Salt_10mM_AC_S",
          "Salt_100mM_AC_L",
          "Salt_100mM_AC_S",
          "Salt_Control_NAC_L",
          "Salt_Control_NAC_S",
          "Salt_10mM_NAC_L",
          "Salt_10mM_NAC_S",
          "Salt_100mM_NAC_L",
          "Salt_100mM_NAC_S"
         ],
         "y": [
          0,
          0,
          0,
          0,
          0,
          0,
          0,
          0.2,
          0,
          0,
          0,
          0
         ]
        },
        {
         "line": {
          "color": "#7e50a8",
          "dash": "dot",
          "width": 4
         },
         "mode": "lines+markers",
         "name": "Sevir.5G206100",
         "type": "scatter",
         "uid": "fd5b4746-3633-11ea-9c5e-79fdfc20b759",
         "x": [
          "Salt_Control_AC_L",
          "Salt_Control_AC_S",
          "Salt_10mM_AC_L",
          "Salt_10mM_AC_S",
          "Salt_100mM_AC_L",
          "Salt_100mM_AC_S",
          "Salt_Control_NAC_L",
          "Salt_Control_NAC_S",
          "Salt_10mM_NAC_L",
          "Salt_10mM_NAC_S",
          "Salt_100mM_NAC_L",
          "Salt_100mM_NAC_S"
         ],
         "y": [
          0,
          0,
          0.25,
          0,
          0,
          0,
          0,
          0,
          0.6,
          0.4,
          0,
          0
         ]
        },
        {
         "line": {
          "color": "#c4d647",
          "dash": "dash",
          "width": 4
         },
         "mode": "lines+markers",
         "name": "Sevir.3G353200",
         "type": "scatter",
         "uid": "fd5b48e0-3633-11ea-9c5e-79fdfc20b759",
         "x": [
          "Salt_Control_AC_L",
          "Salt_Control_AC_S",
          "Salt_10mM_AC_L",
          "Salt_10mM_AC_S",
          "Salt_100mM_AC_L",
          "Salt_100mM_AC_S",
          "Salt_Control_NAC_L",
          "Salt_Control_NAC_S",
          "Salt_10mM_NAC_L",
          "Salt_10mM_NAC_S",
          "Salt_100mM_NAC_L",
          "Salt_100mM_NAC_S"
         ],
         "y": [
          0,
          0.2,
          0,
          1.5,
          0,
          0,
          0,
          0,
          0,
          0,
          0,
          0
         ]
        },
        {
         "line": {
          "color": "#e0eeb8",
          "dash": "solid",
          "width": 4
         },
         "mode": "lines+markers",
         "name": "Sevir.4G093300",
         "type": "scatter",
         "uid": "fd5b4a7a-3633-11ea-9c5e-79fdfc20b759",
         "x": [
          "Salt_Control_AC_L",
          "Salt_Control_AC_S",
          "Salt_10mM_AC_L",
          "Salt_10mM_AC_S",
          "Salt_100mM_AC_L",
          "Salt_100mM_AC_S",
          "Salt_Control_NAC_L",
          "Salt_Control_NAC_S",
          "Salt_10mM_NAC_L",
          "Salt_10mM_NAC_S",
          "Salt_100mM_NAC_L",
          "Salt_100mM_NAC_S"
         ],
         "y": [
          0,
          0.6,
          0.5,
          8,
          1.6,
          0,
          0,
          0,
          0.4,
          0.8,
          2.4,
          2.2
         ]
        },
        {
         "line": {
          "color": "#11dec1",
          "dash": "dot",
          "width": 4
         },
         "mode": "lines+markers",
         "name": "Sevir.1G171100",
         "type": "scatter",
         "uid": "fd5b4c0a-3633-11ea-9c5e-79fdfc20b759",
         "x": [
          "Salt_Control_AC_L",
          "Salt_Control_AC_S",
          "Salt_10mM_AC_L",
          "Salt_10mM_AC_S",
          "Salt_100mM_AC_L",
          "Salt_100mM_AC_S",
          "Salt_Control_NAC_L",
          "Salt_Control_NAC_S",
          "Salt_10mM_NAC_L",
          "Salt_10mM_NAC_S",
          "Salt_100mM_NAC_L",
          "Salt_100mM_NAC_S"
         ],
         "y": [
          0,
          0,
          0,
          0,
          0.6,
          0,
          0.4,
          0,
          0,
          0,
          0,
          0
         ]
        },
        {
         "line": {
          "color": "#289812",
          "dash": "dash",
          "width": 4
         },
         "mode": "lines+markers",
         "name": "Sevir.2G305750",
         "type": "scatter",
         "uid": "fd5b4da4-3633-11ea-9c5e-79fdfc20b759",
         "x": [
          "Salt_Control_AC_L",
          "Salt_Control_AC_S",
          "Salt_10mM_AC_L",
          "Salt_10mM_AC_S",
          "Salt_100mM_AC_L",
          "Salt_100mM_AC_S",
          "Salt_Control_NAC_L",
          "Salt_Control_NAC_S",
          "Salt_10mM_NAC_L",
          "Salt_10mM_NAC_S",
          "Salt_100mM_NAC_L",
          "Salt_100mM_NAC_S"
         ],
         "y": [
          3.9622166666666665,
          0,
          1.6091900000000001,
          0,
          2.8849615999999996,
          1.6771439999999997,
          4.447153999999999,
          0.211456,
          2.97905,
          0.30533,
          1.919032,
          0.36558199999999996
         ]
        },
        {
         "line": {
          "color": "#566ca0",
          "dash": "solid",
          "width": 4
         },
         "mode": "lines+markers",
         "name": "Sevir.9G169700",
         "type": "scatter",
         "uid": "fd5b5010-3633-11ea-9c5e-79fdfc20b759",
         "x": [
          "Salt_Control_AC_L",
          "Salt_Control_AC_S",
          "Salt_10mM_AC_L",
          "Salt_10mM_AC_S",
          "Salt_100mM_AC_L",
          "Salt_100mM_AC_S",
          "Salt_Control_NAC_L",
          "Salt_Control_NAC_S",
          "Salt_10mM_NAC_L",
          "Salt_10mM_NAC_S",
          "Salt_100mM_NAC_L",
          "Salt_100mM_NAC_S"
         ],
         "y": [
          0,
          0,
          0,
          0,
          0,
          0,
          0,
          0,
          0,
          0,
          0,
          0
         ]
        },
        {
         "line": {
          "color": "#ffdbe1",
          "dash": "dot",
          "width": 4
         },
         "mode": "lines+markers",
         "name": "Sevir.1G020800",
         "type": "scatter",
         "uid": "fd5b51be-3633-11ea-9c5e-79fdfc20b759",
         "x": [
          "Salt_Control_AC_L",
          "Salt_Control_AC_S",
          "Salt_10mM_AC_L",
          "Salt_10mM_AC_S",
          "Salt_100mM_AC_L",
          "Salt_100mM_AC_S",
          "Salt_Control_NAC_L",
          "Salt_Control_NAC_S",
          "Salt_10mM_NAC_L",
          "Salt_10mM_NAC_S",
          "Salt_100mM_NAC_L",
          "Salt_100mM_NAC_S"
         ],
         "y": [
          0,
          0,
          0,
          0,
          0,
          0,
          0.4,
          0,
          0,
          0,
          0,
          0
         ]
        },
        {
         "line": {
          "color": "#2f1179",
          "dash": "dash",
          "width": 4
         },
         "mode": "lines+markers",
         "name": "Sevir.5G194900",
         "type": "scatter",
         "uid": "fd5b5358-3633-11ea-9c5e-79fdfc20b759",
         "x": [
          "Salt_Control_AC_L",
          "Salt_Control_AC_S",
          "Salt_10mM_AC_L",
          "Salt_10mM_AC_S",
          "Salt_100mM_AC_L",
          "Salt_100mM_AC_S",
          "Salt_Control_NAC_L",
          "Salt_Control_NAC_S",
          "Salt_10mM_NAC_L",
          "Salt_10mM_NAC_S",
          "Salt_100mM_NAC_L",
          "Salt_100mM_NAC_S"
         ],
         "y": [
          0,
          0,
          0,
          0,
          0,
          0,
          0,
          0,
          0,
          0,
          0,
          0
         ]
        },
        {
         "line": {
          "color": "#935b6d",
          "dash": "solid",
          "width": 4
         },
         "mode": "lines+markers",
         "name": "Sevir.6G028050",
         "type": "scatter",
         "uid": "fd5b54f2-3633-11ea-9c5e-79fdfc20b759",
         "x": [
          "Salt_Control_AC_L",
          "Salt_Control_AC_S",
          "Salt_10mM_AC_L",
          "Salt_10mM_AC_S",
          "Salt_100mM_AC_L",
          "Salt_100mM_AC_S",
          "Salt_Control_NAC_L",
          "Salt_Control_NAC_S",
          "Salt_10mM_NAC_L",
          "Salt_10mM_NAC_S",
          "Salt_100mM_NAC_L",
          "Salt_100mM_NAC_S"
         ],
         "y": [
          0,
          0,
          0.25,
          0,
          0,
          0,
          0,
          0,
          0,
          0,
          0,
          0
         ]
        },
        {
         "line": {
          "color": "#916988",
          "dash": "dot",
          "width": 4
         },
         "mode": "lines+markers",
         "name": "Sevir.2G003200",
         "type": "scatter",
         "uid": "fd5b5682-3633-11ea-9c5e-79fdfc20b759",
         "x": [
          "Salt_Control_AC_L",
          "Salt_Control_AC_S",
          "Salt_10mM_AC_L",
          "Salt_10mM_AC_S",
          "Salt_100mM_AC_L",
          "Salt_100mM_AC_S",
          "Salt_Control_NAC_L",
          "Salt_Control_NAC_S",
          "Salt_10mM_NAC_L",
          "Salt_10mM_NAC_S",
          "Salt_100mM_NAC_L",
          "Salt_100mM_NAC_S"
         ],
         "y": [
          0,
          0,
          0,
          0,
          0,
          0,
          0,
          0,
          0,
          0,
          0,
          0
         ]
        },
        {
         "line": {
          "color": "#513d98",
          "dash": "dash",
          "width": 4
         },
         "mode": "lines+markers",
         "name": "Sevir.8G079100",
         "type": "scatter",
         "uid": "fd5b5812-3633-11ea-9c5e-79fdfc20b759",
         "x": [
          "Salt_Control_AC_L",
          "Salt_Control_AC_S",
          "Salt_10mM_AC_L",
          "Salt_10mM_AC_S",
          "Salt_100mM_AC_L",
          "Salt_100mM_AC_S",
          "Salt_Control_NAC_L",
          "Salt_Control_NAC_S",
          "Salt_10mM_NAC_L",
          "Salt_10mM_NAC_S",
          "Salt_100mM_NAC_L",
          "Salt_100mM_NAC_S"
         ],
         "y": [
          0,
          0,
          0,
          0,
          0,
          0,
          0,
          0,
          0,
          0,
          0,
          0
         ]
        },
        {
         "line": {
          "color": "#aead3a",
          "dash": "solid",
          "width": 4
         },
         "mode": "lines+markers",
         "name": "Sevir.4G293501",
         "type": "scatter",
         "uid": "fd5b59ac-3633-11ea-9c5e-79fdfc20b759",
         "x": [
          "Salt_Control_AC_L",
          "Salt_Control_AC_S",
          "Salt_10mM_AC_L",
          "Salt_10mM_AC_S",
          "Salt_100mM_AC_L",
          "Salt_100mM_AC_S",
          "Salt_Control_NAC_L",
          "Salt_Control_NAC_S",
          "Salt_10mM_NAC_L",
          "Salt_10mM_NAC_S",
          "Salt_100mM_NAC_L",
          "Salt_100mM_NAC_S"
         ],
         "y": [
          0,
          0,
          0,
          0,
          0,
          0,
          0,
          0,
          0,
          0,
          0,
          0
         ]
        },
        {
         "line": {
          "color": "#9e6d71",
          "dash": "dot",
          "width": 4
         },
         "mode": "lines+markers",
         "name": "Sevir.7G022900",
         "type": "scatter",
         "uid": "fd5b5b50-3633-11ea-9c5e-79fdfc20b759",
         "x": [
          "Salt_Control_AC_L",
          "Salt_Control_AC_S",
          "Salt_10mM_AC_L",
          "Salt_10mM_AC_S",
          "Salt_100mM_AC_L",
          "Salt_100mM_AC_S",
          "Salt_Control_NAC_L",
          "Salt_Control_NAC_S",
          "Salt_10mM_NAC_L",
          "Salt_10mM_NAC_S",
          "Salt_100mM_NAC_L",
          "Salt_100mM_NAC_S"
         ],
         "y": [
          0,
          0,
          0,
          0,
          0,
          0,
          0,
          0,
          0,
          0,
          0,
          0
         ]
        },
        {
         "line": {
          "color": "#4b5bdc",
          "dash": "dash",
          "width": 4
         },
         "mode": "lines+markers",
         "name": "Sevir.8G165900",
         "type": "scatter",
         "uid": "fd5b5cf4-3633-11ea-9c5e-79fdfc20b759",
         "x": [
          "Salt_Control_AC_L",
          "Salt_Control_AC_S",
          "Salt_10mM_AC_L",
          "Salt_10mM_AC_S",
          "Salt_100mM_AC_L",
          "Salt_100mM_AC_S",
          "Salt_Control_NAC_L",
          "Salt_Control_NAC_S",
          "Salt_10mM_NAC_L",
          "Salt_10mM_NAC_S",
          "Salt_100mM_NAC_L",
          "Salt_100mM_NAC_S"
         ],
         "y": [
          0,
          0,
          0,
          0,
          0,
          0,
          0,
          0,
          0,
          0,
          0,
          0
         ]
        },
        {
         "line": {
          "color": "#0cd36d",
          "dash": "solid",
          "width": 4
         },
         "mode": "lines+markers",
         "name": "Sevir.9G092300",
         "type": "scatter",
         "uid": "fd5b5e84-3633-11ea-9c5e-79fdfc20b759",
         "x": [
          "Salt_Control_AC_L",
          "Salt_Control_AC_S",
          "Salt_10mM_AC_L",
          "Salt_10mM_AC_S",
          "Salt_100mM_AC_L",
          "Salt_100mM_AC_S",
          "Salt_Control_NAC_L",
          "Salt_Control_NAC_S",
          "Salt_10mM_NAC_L",
          "Salt_10mM_NAC_S",
          "Salt_100mM_NAC_L",
          "Salt_100mM_NAC_S"
         ],
         "y": [
          0,
          0,
          0,
          0,
          0,
          0,
          0,
          0,
          0,
          0,
          0,
          0
         ]
        },
        {
         "line": {
          "color": "#250662",
          "dash": "dot",
          "width": 4
         },
         "mode": "lines+markers",
         "name": "Sevir.6G113200",
         "type": "scatter",
         "uid": "fd5b6014-3633-11ea-9c5e-79fdfc20b759",
         "x": [
          "Salt_Control_AC_L",
          "Salt_Control_AC_S",
          "Salt_10mM_AC_L",
          "Salt_10mM_AC_S",
          "Salt_100mM_AC_L",
          "Salt_100mM_AC_S",
          "Salt_Control_NAC_L",
          "Salt_Control_NAC_S",
          "Salt_10mM_NAC_L",
          "Salt_10mM_NAC_S",
          "Salt_100mM_NAC_L",
          "Salt_100mM_NAC_S"
         ],
         "y": [
          0,
          0,
          0,
          0,
          0,
          0,
          0,
          0,
          0,
          0,
          0,
          0
         ]
        },
        {
         "line": {
          "color": "#cb5bea",
          "dash": "dash",
          "width": 4
         },
         "mode": "lines+markers",
         "name": "Sevir.4G160200",
         "type": "scatter",
         "uid": "fd5b61ae-3633-11ea-9c5e-79fdfc20b759",
         "x": [
          "Salt_Control_AC_L",
          "Salt_Control_AC_S",
          "Salt_10mM_AC_L",
          "Salt_10mM_AC_S",
          "Salt_100mM_AC_L",
          "Salt_100mM_AC_S",
          "Salt_Control_NAC_L",
          "Salt_Control_NAC_S",
          "Salt_10mM_NAC_L",
          "Salt_10mM_NAC_S",
          "Salt_100mM_NAC_L",
          "Salt_100mM_NAC_S"
         ],
         "y": [
          0,
          0,
          0,
          0,
          0,
          0,
          0,
          0,
          0,
          0,
          0,
          0
         ]
        },
        {
         "line": {
          "color": "#228916",
          "dash": "solid",
          "width": 4
         },
         "mode": "lines+markers",
         "name": "Sevir.5G037400",
         "type": "scatter",
         "uid": "fd5b633e-3633-11ea-9c5e-79fdfc20b759",
         "x": [
          "Salt_Control_AC_L",
          "Salt_Control_AC_S",
          "Salt_10mM_AC_L",
          "Salt_10mM_AC_S",
          "Salt_100mM_AC_L",
          "Salt_100mM_AC_S",
          "Salt_Control_NAC_L",
          "Salt_Control_NAC_S",
          "Salt_10mM_NAC_L",
          "Salt_10mM_NAC_S",
          "Salt_100mM_NAC_L",
          "Salt_100mM_NAC_S"
         ],
         "y": [
          0,
          0,
          0,
          0,
          0,
          0,
          0,
          0,
          0,
          0,
          0,
          0
         ]
        },
        {
         "line": {
          "color": "#ac3e1b",
          "dash": "dot",
          "width": 4
         },
         "mode": "lines+markers",
         "name": "Sevir.3G298200",
         "type": "scatter",
         "uid": "fd5b64ce-3633-11ea-9c5e-79fdfc20b759",
         "x": [
          "Salt_Control_AC_L",
          "Salt_Control_AC_S",
          "Salt_10mM_AC_L",
          "Salt_10mM_AC_S",
          "Salt_100mM_AC_L",
          "Salt_100mM_AC_S",
          "Salt_Control_NAC_L",
          "Salt_Control_NAC_S",
          "Salt_10mM_NAC_L",
          "Salt_10mM_NAC_S",
          "Salt_100mM_NAC_L",
          "Salt_100mM_NAC_S"
         ],
         "y": [
          0,
          0,
          0,
          0,
          0,
          0,
          0,
          0,
          0,
          0,
          0,
          0
         ]
        },
        {
         "line": {
          "color": "#df514a",
          "dash": "dash",
          "width": 4
         },
         "mode": "lines+markers",
         "name": "Sevir.2G437300",
         "type": "scatter",
         "uid": "fd5b665e-3633-11ea-9c5e-79fdfc20b759",
         "x": [
          "Salt_Control_AC_L",
          "Salt_Control_AC_S",
          "Salt_10mM_AC_L",
          "Salt_10mM_AC_S",
          "Salt_100mM_AC_L",
          "Salt_100mM_AC_S",
          "Salt_Control_NAC_L",
          "Salt_Control_NAC_S",
          "Salt_10mM_NAC_L",
          "Salt_10mM_NAC_S",
          "Salt_100mM_NAC_L",
          "Salt_100mM_NAC_S"
         ],
         "y": [
          0,
          0,
          0,
          0,
          0,
          0,
          0,
          0,
          0,
          0,
          0,
          0
         ]
        },
        {
         "line": {
          "color": "#539397",
          "dash": "solid",
          "width": 4
         },
         "mode": "lines+markers",
         "name": "Sevir.9G095700",
         "type": "scatter",
         "uid": "fd5b67ee-3633-11ea-9c5e-79fdfc20b759",
         "x": [
          "Salt_Control_AC_L",
          "Salt_Control_AC_S",
          "Salt_10mM_AC_L",
          "Salt_10mM_AC_S",
          "Salt_100mM_AC_L",
          "Salt_100mM_AC_S",
          "Salt_Control_NAC_L",
          "Salt_Control_NAC_S",
          "Salt_10mM_NAC_L",
          "Salt_10mM_NAC_S",
          "Salt_100mM_NAC_L",
          "Salt_100mM_NAC_S"
         ],
         "y": [
          0,
          0,
          0.5566825,
          0,
          0,
          0,
          0,
          0.419088,
          0,
          0.8409039999999999,
          0,
          0
         ]
        },
        {
         "line": {
          "color": "#880977",
          "dash": "dot",
          "width": 4
         },
         "mode": "lines+markers",
         "name": "Sevir.1G265000",
         "type": "scatter",
         "uid": "fd5b6988-3633-11ea-9c5e-79fdfc20b759",
         "x": [
          "Salt_Control_AC_L",
          "Salt_Control_AC_S",
          "Salt_10mM_AC_L",
          "Salt_10mM_AC_S",
          "Salt_100mM_AC_L",
          "Salt_100mM_AC_S",
          "Salt_Control_NAC_L",
          "Salt_Control_NAC_S",
          "Salt_10mM_NAC_L",
          "Salt_10mM_NAC_S",
          "Salt_100mM_NAC_L",
          "Salt_100mM_NAC_S"
         ],
         "y": [
          0,
          0,
          0,
          0,
          0,
          0,
          0,
          0,
          0,
          0,
          0,
          0
         ]
        },
        {
         "line": {
          "color": "#f697c1",
          "dash": "dash",
          "width": 4
         },
         "mode": "lines+markers",
         "name": "Sevir.5G418900",
         "type": "scatter",
         "uid": "fd5b6b18-3633-11ea-9c5e-79fdfc20b759",
         "x": [
          "Salt_Control_AC_L",
          "Salt_Control_AC_S",
          "Salt_10mM_AC_L",
          "Salt_10mM_AC_S",
          "Salt_100mM_AC_L",
          "Salt_100mM_AC_S",
          "Salt_Control_NAC_L",
          "Salt_Control_NAC_S",
          "Salt_10mM_NAC_L",
          "Salt_10mM_NAC_S",
          "Salt_100mM_NAC_L",
          "Salt_100mM_NAC_S"
         ],
         "y": [
          0,
          0,
          0,
          0,
          0,
          0,
          0,
          0,
          0,
          0,
          0.2,
          0
         ]
        },
        {
         "line": {
          "color": "#ba96ce",
          "dash": "solid",
          "width": 4
         },
         "mode": "lines+markers",
         "name": "Sevir.8G237700",
         "type": "scatter",
         "uid": "fd5b6ca8-3633-11ea-9c5e-79fdfc20b759",
         "x": [
          "Salt_Control_AC_L",
          "Salt_Control_AC_S",
          "Salt_10mM_AC_L",
          "Salt_10mM_AC_S",
          "Salt_100mM_AC_L",
          "Salt_100mM_AC_S",
          "Salt_Control_NAC_L",
          "Salt_Control_NAC_S",
          "Salt_10mM_NAC_L",
          "Salt_10mM_NAC_S",
          "Salt_100mM_NAC_L",
          "Salt_100mM_NAC_S"
         ],
         "y": [
          0,
          0,
          0,
          0,
          0,
          0,
          0,
          0,
          0,
          0,
          0,
          0
         ]
        },
        {
         "line": {
          "color": "#679c9d",
          "dash": "dot",
          "width": 4
         },
         "mode": "lines+markers",
         "name": "Sevir.2G177600",
         "type": "scatter",
         "uid": "fd5b6e38-3633-11ea-9c5e-79fdfc20b759",
         "x": [
          "Salt_Control_AC_L",
          "Salt_Control_AC_S",
          "Salt_10mM_AC_L",
          "Salt_10mM_AC_S",
          "Salt_100mM_AC_L",
          "Salt_100mM_AC_S",
          "Salt_Control_NAC_L",
          "Salt_Control_NAC_S",
          "Salt_10mM_NAC_L",
          "Salt_10mM_NAC_S",
          "Salt_100mM_NAC_L",
          "Salt_100mM_NAC_S"
         ],
         "y": [
          0,
          0,
          0,
          0,
          0,
          0,
          0,
          0,
          0,
          0,
          0,
          0
         ]
        },
        {
         "line": {
          "color": "#c6c42c",
          "dash": "dash",
          "width": 4
         },
         "mode": "lines+markers",
         "name": "Sevir.9G253801",
         "type": "scatter",
         "uid": "fd5b6fd2-3633-11ea-9c5e-79fdfc20b759",
         "x": [
          "Salt_Control_AC_L",
          "Salt_Control_AC_S",
          "Salt_10mM_AC_L",
          "Salt_10mM_AC_S",
          "Salt_100mM_AC_L",
          "Salt_100mM_AC_S",
          "Salt_Control_NAC_L",
          "Salt_Control_NAC_S",
          "Salt_10mM_NAC_L",
          "Salt_10mM_NAC_S",
          "Salt_100mM_NAC_L",
          "Salt_100mM_NAC_S"
         ],
         "y": [
          0,
          0,
          0,
          0,
          0,
          0,
          0,
          0,
          0,
          0,
          0,
          0
         ]
        },
        {
         "line": {
          "color": "#5d2c52",
          "dash": "solid",
          "width": 4
         },
         "mode": "lines+markers",
         "name": "Sevir.6G183566",
         "type": "scatter",
         "uid": "fd5b7162-3633-11ea-9c5e-79fdfc20b759",
         "x": [
          "Salt_Control_AC_L",
          "Salt_Control_AC_S",
          "Salt_10mM_AC_L",
          "Salt_10mM_AC_S",
          "Salt_100mM_AC_L",
          "Salt_100mM_AC_S",
          "Salt_Control_NAC_L",
          "Salt_Control_NAC_S",
          "Salt_10mM_NAC_L",
          "Salt_10mM_NAC_S",
          "Salt_100mM_NAC_L",
          "Salt_100mM_NAC_S"
         ],
         "y": [
          0,
          0,
          0,
          0,
          0,
          0,
          0,
          0,
          0,
          0.2,
          0,
          0
         ]
        },
        {
         "line": {
          "color": "#48b41b",
          "dash": "dot",
          "width": 4
         },
         "mode": "lines+markers",
         "name": "Sevir.8G259500",
         "type": "scatter",
         "uid": "fd5b72fc-3633-11ea-9c5e-79fdfc20b759",
         "x": [
          "Salt_Control_AC_L",
          "Salt_Control_AC_S",
          "Salt_10mM_AC_L",
          "Salt_10mM_AC_S",
          "Salt_100mM_AC_L",
          "Salt_100mM_AC_S",
          "Salt_Control_NAC_L",
          "Salt_Control_NAC_S",
          "Salt_10mM_NAC_L",
          "Salt_10mM_NAC_S",
          "Salt_100mM_NAC_L",
          "Salt_100mM_NAC_S"
         ],
         "y": [
          0.6094966666666667,
          0.69501,
          0,
          3.0482549999999997,
          0.2,
          0.2,
          0.2,
          0.4,
          0,
          2.8,
          1,
          1.2
         ]
        },
        {
         "line": {
          "color": "#e1cf3b",
          "dash": "dash",
          "width": 4
         },
         "mode": "lines+markers",
         "name": "Sevir.5G036550",
         "type": "scatter",
         "uid": "fd5b7496-3633-11ea-9c5e-79fdfc20b759",
         "x": [
          "Salt_Control_AC_L",
          "Salt_Control_AC_S",
          "Salt_10mM_AC_L",
          "Salt_10mM_AC_S",
          "Salt_100mM_AC_L",
          "Salt_100mM_AC_S",
          "Salt_Control_NAC_L",
          "Salt_Control_NAC_S",
          "Salt_10mM_NAC_L",
          "Salt_10mM_NAC_S",
          "Salt_100mM_NAC_L",
          "Salt_100mM_NAC_S"
         ],
         "y": [
          0.3333333333333333,
          0.8,
          0.25,
          0,
          0.601234,
          0,
          0,
          0,
          0,
          0,
          0.2,
          0
         ]
        },
        {
         "line": {
          "color": "#5be4f0",
          "dash": "solid",
          "width": 4
         },
         "mode": "lines+markers",
         "name": "Sevir.7G279700",
         "type": "scatter",
         "uid": "fd5b76e4-3633-11ea-9c5e-79fdfc20b759",
         "x": [
          "Salt_Control_AC_L",
          "Salt_Control_AC_S",
          "Salt_10mM_AC_L",
          "Salt_10mM_AC_S",
          "Salt_100mM_AC_L",
          "Salt_100mM_AC_S",
          "Salt_Control_NAC_L",
          "Salt_Control_NAC_S",
          "Salt_10mM_NAC_L",
          "Salt_10mM_NAC_S",
          "Salt_100mM_NAC_L",
          "Salt_100mM_NAC_S"
         ],
         "y": [
          0,
          0,
          0,
          0,
          0,
          0.4,
          0,
          0,
          0,
          0,
          0.2,
          1
         ]
        },
        {
         "line": {
          "color": "#57c4d8",
          "dash": "dot",
          "width": 4
         },
         "mode": "lines+markers",
         "name": "Sevir.8G068450",
         "type": "scatter",
         "uid": "fd5b789c-3633-11ea-9c5e-79fdfc20b759",
         "x": [
          "Salt_Control_AC_L",
          "Salt_Control_AC_S",
          "Salt_10mM_AC_L",
          "Salt_10mM_AC_S",
          "Salt_100mM_AC_L",
          "Salt_100mM_AC_S",
          "Salt_Control_NAC_L",
          "Salt_Control_NAC_S",
          "Salt_10mM_NAC_L",
          "Salt_10mM_NAC_S",
          "Salt_100mM_NAC_L",
          "Salt_100mM_NAC_S"
         ],
         "y": [
          0,
          0,
          0,
          0,
          0,
          0,
          0,
          0,
          0,
          0,
          0,
          0
         ]
        },
        {
         "line": {
          "color": "#a4d17a",
          "dash": "dash",
          "width": 4
         },
         "mode": "lines+markers",
         "name": "Sevir.9G576750",
         "type": "scatter",
         "uid": "fd5b7a40-3633-11ea-9c5e-79fdfc20b759",
         "x": [
          "Salt_Control_AC_L",
          "Salt_Control_AC_S",
          "Salt_10mM_AC_L",
          "Salt_10mM_AC_S",
          "Salt_100mM_AC_L",
          "Salt_100mM_AC_S",
          "Salt_Control_NAC_L",
          "Salt_Control_NAC_S",
          "Salt_10mM_NAC_L",
          "Salt_10mM_NAC_S",
          "Salt_100mM_NAC_L",
          "Salt_100mM_NAC_S"
         ],
         "y": [
          2,
          1.2,
          0,
          9,
          0.6,
          0,
          0.6,
          0.6,
          1,
          0.4,
          0.8,
          1.2
         ]
        },
        {
         "line": {
          "color": "#225b8e",
          "dash": "solid",
          "width": 4
         },
         "mode": "lines+markers",
         "name": "Sevir.9G248533",
         "type": "scatter",
         "uid": "fd5b7bd0-3633-11ea-9c5e-79fdfc20b759",
         "x": [
          "Salt_Control_AC_L",
          "Salt_Control_AC_S",
          "Salt_10mM_AC_L",
          "Salt_10mM_AC_S",
          "Salt_100mM_AC_L",
          "Salt_100mM_AC_S",
          "Salt_Control_NAC_L",
          "Salt_Control_NAC_S",
          "Salt_10mM_NAC_L",
          "Salt_10mM_NAC_S",
          "Salt_100mM_NAC_L",
          "Salt_100mM_NAC_S"
         ],
         "y": [
          0,
          0.4,
          0,
          0,
          0,
          0.2,
          0.2,
          0,
          0.4,
          0.8,
          1.2,
          0.8
         ]
        },
        {
         "line": {
          "color": "#be608b",
          "dash": "dot",
          "width": 4
         },
         "mode": "lines+markers",
         "name": "Sevir.1G379100",
         "type": "scatter",
         "uid": "fd5b7d60-3633-11ea-9c5e-79fdfc20b759",
         "x": [
          "Salt_Control_AC_L",
          "Salt_Control_AC_S",
          "Salt_10mM_AC_L",
          "Salt_10mM_AC_S",
          "Salt_100mM_AC_L",
          "Salt_100mM_AC_S",
          "Salt_Control_NAC_L",
          "Salt_Control_NAC_S",
          "Salt_10mM_NAC_L",
          "Salt_10mM_NAC_S",
          "Salt_100mM_NAC_L",
          "Salt_100mM_NAC_S"
         ],
         "y": [
          4.957846666666666,
          2.792786,
          1.9474025,
          8.485154999999999,
          5.512532,
          1.8272559999999998,
          7.675806,
          0.312352,
          8.920468,
          4.4939480000000005,
          13.577869999999999,
          2.051896
         ]
        },
        {
         "line": {
          "color": "#96b00c",
          "dash": "dash",
          "width": 4
         },
         "mode": "lines+markers",
         "name": "Sevir.8G222414",
         "type": "scatter",
         "uid": "fd5b7efa-3633-11ea-9c5e-79fdfc20b759",
         "x": [
          "Salt_Control_AC_L",
          "Salt_Control_AC_S",
          "Salt_10mM_AC_L",
          "Salt_10mM_AC_S",
          "Salt_100mM_AC_L",
          "Salt_100mM_AC_S",
          "Salt_Control_NAC_L",
          "Salt_Control_NAC_S",
          "Salt_10mM_NAC_L",
          "Salt_10mM_NAC_S",
          "Salt_100mM_NAC_L",
          "Salt_100mM_NAC_S"
         ],
         "y": [
          1.6666666666666667,
          0,
          0.25,
          0,
          0.8,
          0,
          0,
          0,
          0.253878,
          1.37815,
          0.8,
          0.4
         ]
        },
        {
         "line": {
          "color": "#088baf",
          "dash": "solid",
          "width": 4
         },
         "mode": "lines+markers",
         "name": "Sevir.6G039200",
         "type": "scatter",
         "uid": "fd5b8094-3633-11ea-9c5e-79fdfc20b759",
         "x": [
          "Salt_Control_AC_L",
          "Salt_Control_AC_S",
          "Salt_10mM_AC_L",
          "Salt_10mM_AC_S",
          "Salt_100mM_AC_L",
          "Salt_100mM_AC_S",
          "Salt_Control_NAC_L",
          "Salt_Control_NAC_S",
          "Salt_10mM_NAC_L",
          "Salt_10mM_NAC_S",
          "Salt_100mM_NAC_L",
          "Salt_100mM_NAC_S"
         ],
         "y": [
          2.3630766666666667,
          0.49008,
          0,
          0.525995,
          3.422004,
          0.8670920000000001,
          0.51886,
          0.5857140000000001,
          1.9226459999999999,
          0,
          1.378464,
          0.57945
         ]
        },
        {
         "line": {
          "color": "#f158bf",
          "dash": "dot",
          "width": 4
         },
         "mode": "lines+markers",
         "name": "Sevir.6G075100",
         "type": "scatter",
         "uid": "fd5b821a-3633-11ea-9c5e-79fdfc20b759",
         "x": [
          "Salt_Control_AC_L",
          "Salt_Control_AC_S",
          "Salt_10mM_AC_L",
          "Salt_10mM_AC_S",
          "Salt_100mM_AC_L",
          "Salt_100mM_AC_S",
          "Salt_Control_NAC_L",
          "Salt_Control_NAC_S",
          "Salt_10mM_NAC_L",
          "Salt_10mM_NAC_S",
          "Salt_100mM_NAC_L",
          "Salt_100mM_NAC_S"
         ],
         "y": [
          0,
          0,
          0,
          0,
          0,
          0,
          0,
          0,
          0,
          0,
          0,
          0
         ]
        },
        {
         "line": {
          "color": "#e145ba",
          "dash": "dash",
          "width": 4
         },
         "mode": "lines+markers",
         "name": "Sevir.3G331800",
         "type": "scatter",
         "uid": "fd5b83aa-3633-11ea-9c5e-79fdfc20b759",
         "x": [
          "Salt_Control_AC_L",
          "Salt_Control_AC_S",
          "Salt_10mM_AC_L",
          "Salt_10mM_AC_S",
          "Salt_100mM_AC_L",
          "Salt_100mM_AC_S",
          "Salt_Control_NAC_L",
          "Salt_Control_NAC_S",
          "Salt_10mM_NAC_L",
          "Salt_10mM_NAC_S",
          "Salt_100mM_NAC_L",
          "Salt_100mM_NAC_S"
         ],
         "y": [
          0,
          0,
          0.25,
          0,
          0.6,
          0.2,
          1,
          0.6,
          0.8,
          2.2,
          1.2,
          1.4
         ]
        },
        {
         "line": {
          "color": "#ee91e3",
          "dash": "solid",
          "width": 4
         },
         "mode": "lines+markers",
         "name": "Sevir.4G164200",
         "type": "scatter",
         "uid": "fd5b853a-3633-11ea-9c5e-79fdfc20b759",
         "x": [
          "Salt_Control_AC_L",
          "Salt_Control_AC_S",
          "Salt_10mM_AC_L",
          "Salt_10mM_AC_S",
          "Salt_100mM_AC_L",
          "Salt_100mM_AC_S",
          "Salt_Control_NAC_L",
          "Salt_Control_NAC_S",
          "Salt_10mM_NAC_L",
          "Salt_10mM_NAC_S",
          "Salt_100mM_NAC_L",
          "Salt_100mM_NAC_S"
         ],
         "y": [
          0,
          0.2,
          0,
          0,
          0,
          0,
          0.2,
          0,
          0.8,
          0,
          0,
          0
         ]
        },
        {
         "line": {
          "color": "#05d371",
          "dash": "dot",
          "width": 4
         },
         "mode": "lines+markers",
         "name": "Sevir.9G347733",
         "type": "scatter",
         "uid": "fd5b8774-3633-11ea-9c5e-79fdfc20b759",
         "x": [
          "Salt_Control_AC_L",
          "Salt_Control_AC_S",
          "Salt_10mM_AC_L",
          "Salt_10mM_AC_S",
          "Salt_100mM_AC_L",
          "Salt_100mM_AC_S",
          "Salt_Control_NAC_L",
          "Salt_Control_NAC_S",
          "Salt_10mM_NAC_L",
          "Salt_10mM_NAC_S",
          "Salt_100mM_NAC_L",
          "Salt_100mM_NAC_S"
         ],
         "y": [
          1,
          0.4,
          0,
          1,
          0.6,
          0.8,
          0.2,
          0,
          1,
          0.8,
          0.4,
          0.2
         ]
        },
        {
         "line": {
          "color": "#5426e0",
          "dash": "dash",
          "width": 4
         },
         "mode": "lines+markers",
         "name": "Sevir.2G396750",
         "type": "scatter",
         "uid": "fd5b8936-3633-11ea-9c5e-79fdfc20b759",
         "x": [
          "Salt_Control_AC_L",
          "Salt_Control_AC_S",
          "Salt_10mM_AC_L",
          "Salt_10mM_AC_S",
          "Salt_100mM_AC_L",
          "Salt_100mM_AC_S",
          "Salt_Control_NAC_L",
          "Salt_Control_NAC_S",
          "Salt_10mM_NAC_L",
          "Salt_10mM_NAC_S",
          "Salt_100mM_NAC_L",
          "Salt_100mM_NAC_S"
         ],
         "y": [
          0,
          0,
          0,
          0,
          0,
          0,
          0,
          0,
          0,
          0,
          0,
          0.2
         ]
        },
        {
         "line": {
          "color": "#4834d0",
          "dash": "solid",
          "width": 4
         },
         "mode": "lines+markers",
         "name": "Sevir.3G116100",
         "type": "scatter",
         "uid": "fd5b8ad0-3633-11ea-9c5e-79fdfc20b759",
         "x": [
          "Salt_Control_AC_L",
          "Salt_Control_AC_S",
          "Salt_10mM_AC_L",
          "Salt_10mM_AC_S",
          "Salt_100mM_AC_L",
          "Salt_100mM_AC_S",
          "Salt_Control_NAC_L",
          "Salt_Control_NAC_S",
          "Salt_10mM_NAC_L",
          "Salt_10mM_NAC_S",
          "Salt_100mM_NAC_L",
          "Salt_100mM_NAC_S"
         ],
         "y": [
          0,
          0.2,
          0,
          0.5,
          0.2,
          0,
          0,
          0.2,
          0,
          0.2,
          0,
          0
         ]
        },
        {
         "line": {
          "color": "#802234",
          "dash": "dot",
          "width": 4
         },
         "mode": "lines+markers",
         "name": "Sevir.7G061100",
         "type": "scatter",
         "uid": "fd5b8c60-3633-11ea-9c5e-79fdfc20b759",
         "x": [
          "Salt_Control_AC_L",
          "Salt_Control_AC_S",
          "Salt_10mM_AC_L",
          "Salt_10mM_AC_S",
          "Salt_100mM_AC_L",
          "Salt_100mM_AC_S",
          "Salt_Control_NAC_L",
          "Salt_Control_NAC_S",
          "Salt_10mM_NAC_L",
          "Salt_10mM_NAC_S",
          "Salt_100mM_NAC_L",
          "Salt_100mM_NAC_S"
         ],
         "y": [
          0,
          0,
          0,
          0,
          0,
          0,
          0,
          0,
          0,
          0,
          0,
          0
         ]
        },
        {
         "line": {
          "color": "#6749e8",
          "dash": "dash",
          "width": 4
         },
         "mode": "lines+markers",
         "name": "Sevir.2G307100",
         "type": "scatter",
         "uid": "fd5b8df0-3633-11ea-9c5e-79fdfc20b759",
         "x": [
          "Salt_Control_AC_L",
          "Salt_Control_AC_S",
          "Salt_10mM_AC_L",
          "Salt_10mM_AC_S",
          "Salt_100mM_AC_L",
          "Salt_100mM_AC_S",
          "Salt_Control_NAC_L",
          "Salt_Control_NAC_S",
          "Salt_10mM_NAC_L",
          "Salt_10mM_NAC_S",
          "Salt_100mM_NAC_L",
          "Salt_100mM_NAC_S"
         ],
         "y": [
          0,
          0,
          0,
          0,
          1.4,
          1,
          0,
          0,
          0,
          0.2,
          1.8,
          0.4
         ]
        },
        {
         "line": {
          "color": "#0971f0",
          "dash": "solid",
          "width": 4
         },
         "mode": "lines+markers",
         "name": "Sevir.5G087400",
         "type": "scatter",
         "uid": "fd5b8f8a-3633-11ea-9c5e-79fdfc20b759",
         "x": [
          "Salt_Control_AC_L",
          "Salt_Control_AC_S",
          "Salt_10mM_AC_L",
          "Salt_10mM_AC_S",
          "Salt_100mM_AC_L",
          "Salt_100mM_AC_S",
          "Salt_Control_NAC_L",
          "Salt_Control_NAC_S",
          "Salt_10mM_NAC_L",
          "Salt_10mM_NAC_S",
          "Salt_100mM_NAC_L",
          "Salt_100mM_NAC_S"
         ],
         "y": [
          0,
          0,
          0.25,
          0,
          0,
          0,
          0,
          0,
          0,
          0,
          0.2,
          0
         ]
        },
        {
         "line": {
          "color": "#8fb413",
          "dash": "dot",
          "width": 4
         },
         "mode": "lines+markers",
         "name": "Sevir.7G005300",
         "type": "scatter",
         "uid": "fd5b9110-3633-11ea-9c5e-79fdfc20b759",
         "x": [
          "Salt_Control_AC_L",
          "Salt_Control_AC_S",
          "Salt_10mM_AC_L",
          "Salt_10mM_AC_S",
          "Salt_100mM_AC_L",
          "Salt_100mM_AC_S",
          "Salt_Control_NAC_L",
          "Salt_Control_NAC_S",
          "Salt_10mM_NAC_L",
          "Salt_10mM_NAC_S",
          "Salt_100mM_NAC_L",
          "Salt_100mM_NAC_S"
         ],
         "y": [
          0,
          0,
          0,
          0,
          0,
          0.4,
          1.2,
          0,
          0,
          0,
          0,
          0
         ]
        },
        {
         "line": {
          "color": "#b2b4f0",
          "dash": "dash",
          "width": 4
         },
         "mode": "lines+markers",
         "name": "Sevir.2G026100",
         "type": "scatter",
         "uid": "fd5b92a0-3633-11ea-9c5e-79fdfc20b759",
         "x": [
          "Salt_Control_AC_L",
          "Salt_Control_AC_S",
          "Salt_10mM_AC_L",
          "Salt_10mM_AC_S",
          "Salt_100mM_AC_L",
          "Salt_100mM_AC_S",
          "Salt_Control_NAC_L",
          "Salt_Control_NAC_S",
          "Salt_10mM_NAC_L",
          "Salt_10mM_NAC_S",
          "Salt_100mM_NAC_L",
          "Salt_100mM_NAC_S"
         ],
         "y": [
          0,
          0,
          0,
          0.5,
          0.2,
          0.8,
          0.8,
          0,
          0,
          0.8,
          0.6,
          0.2
         ]
        },
        {
         "line": {
          "color": "#c3c89d",
          "dash": "solid",
          "width": 4
         },
         "mode": "lines+markers",
         "name": "Sevir.9G072900",
         "type": "scatter",
         "uid": "fd5b9426-3633-11ea-9c5e-79fdfc20b759",
         "x": [
          "Salt_Control_AC_L",
          "Salt_Control_AC_S",
          "Salt_10mM_AC_L",
          "Salt_10mM_AC_S",
          "Salt_100mM_AC_L",
          "Salt_100mM_AC_S",
          "Salt_Control_NAC_L",
          "Salt_Control_NAC_S",
          "Salt_10mM_NAC_L",
          "Salt_10mM_NAC_S",
          "Salt_100mM_NAC_L",
          "Salt_100mM_NAC_S"
         ],
         "y": [
          0.3333333333333333,
          0,
          0,
          0.5,
          0.4,
          0.8,
          0.4,
          0,
          0.8,
          0,
          0.4,
          0.6
         ]
        }
       ],
       "layout": {
        "dragmode": "select",
        "plot_bgcolor": "white",
        "title": "Average Gene Expression - Salt",
        "xaxis": {
         "gridcolor": "whitesmoke",
         "showgrid": true,
         "title": "Experimental Conditions"
        },
        "yaxis": {
         "gridcolor": "whitesmoke",
         "showgrid": true,
         "title": "Expression"
        }
       }
      },
      "text/html": [
       "<div id=\"787cf7b9-5718-4b87-bf2f-3a1eb1128fd7\" style=\"height: 525px; width: 100%;\" class=\"plotly-graph-div\"></div><script type=\"text/javascript\">require([\"plotly\"], function(Plotly) { window.PLOTLYENV=window.PLOTLYENV || {};window.PLOTLYENV.BASE_URL=\"https://plot.ly\";Plotly.newPlot(\"787cf7b9-5718-4b87-bf2f-3a1eb1128fd7\", [{\"line\": {\"color\": \"#ce7d78\", \"dash\": \"dot\", \"width\": 4}, \"mode\": \"lines+markers\", \"name\": \"Sevir.9G282425\", \"x\": [\"Salt_Control_AC_L\", \"Salt_Control_AC_S\", \"Salt_10mM_AC_L\", \"Salt_10mM_AC_S\", \"Salt_100mM_AC_L\", \"Salt_100mM_AC_S\", \"Salt_Control_NAC_L\", \"Salt_Control_NAC_S\", \"Salt_10mM_NAC_L\", \"Salt_10mM_NAC_S\", \"Salt_100mM_NAC_L\", \"Salt_100mM_NAC_S\"], \"y\": [0.3333333333333333, 0.0, 0.75, 0.0, 1.0, 0.0, 0.0, 0.0, 0.0, 0.0, 0.2, 0.0], \"type\": \"scatter\", \"uid\": \"fe1216a6-3633-11ea-9c5e-79fdfc20b759\"}, {\"line\": {\"color\": \"#ea9e70\", \"dash\": \"dash\", \"width\": 4}, \"mode\": \"lines+markers\", \"name\": \"Sevir.7G018910\", \"x\": [\"Salt_Control_AC_L\", \"Salt_Control_AC_S\", \"Salt_10mM_AC_L\", \"Salt_10mM_AC_S\", \"Salt_100mM_AC_L\", \"Salt_100mM_AC_S\", \"Salt_Control_NAC_L\", \"Salt_Control_NAC_S\", \"Salt_10mM_NAC_L\", \"Salt_10mM_NAC_S\", \"Salt_100mM_NAC_L\", \"Salt_100mM_NAC_S\"], \"y\": [0.0, 0.0, 0.0, 0.0, 0.0, 0.0, 0.0, 0.0, 0.0, 0.0, 0.0, 0.0], \"type\": \"scatter\", \"uid\": \"fe121ad4-3633-11ea-9c5e-79fdfc20b759\"}, {\"line\": {\"color\": \"#a48a9e\", \"dash\": \"solid\", \"width\": 4}, \"mode\": \"lines+markers\", \"name\": \"Sevir.5G044500\", \"x\": [\"Salt_Control_AC_L\", \"Salt_Control_AC_S\", \"Salt_10mM_AC_L\", \"Salt_10mM_AC_S\", \"Salt_100mM_AC_L\", \"Salt_100mM_AC_S\", \"Salt_Control_NAC_L\", \"Salt_Control_NAC_S\", \"Salt_10mM_NAC_L\", \"Salt_10mM_NAC_S\", \"Salt_100mM_NAC_L\", \"Salt_100mM_NAC_S\"], \"y\": [0.0, 0.0, 0.0, 0.0, 0.0, 0.0, 0.0, 0.0, 0.0, 0.0, 0.4, 0.0], \"type\": \"scatter\", \"uid\": \"fe121e80-3633-11ea-9c5e-79fdfc20b759\"}, {\"line\": {\"color\": \"#c6e1e8\", \"dash\": \"dot\", \"width\": 4}, \"mode\": \"lines+markers\", \"name\": \"Sevir.2G127900\", \"x\": [\"Salt_Control_AC_L\", \"Salt_Control_AC_S\", \"Salt_10mM_AC_L\", \"Salt_10mM_AC_S\", \"Salt_100mM_AC_L\", \"Salt_100mM_AC_S\", \"Salt_Control_NAC_L\", \"Salt_Control_NAC_S\", \"Salt_10mM_NAC_L\", \"Salt_10mM_NAC_S\", \"Salt_100mM_NAC_L\", \"Salt_100mM_NAC_S\"], \"y\": [0.3333333333333333, 0.0, 0.0, 0.0, 0.4, 0.0, 0.2, 0.0, 0.0, 0.0, 1.0, 0.0], \"type\": \"scatter\", \"uid\": \"fe122088-3633-11ea-9c5e-79fdfc20b759\"}, {\"line\": {\"color\": \"#648177\", \"dash\": \"dash\", \"width\": 4}, \"mode\": \"lines+markers\", \"name\": \"Sevir.5G129000\", \"x\": [\"Salt_Control_AC_L\", \"Salt_Control_AC_S\", \"Salt_10mM_AC_L\", \"Salt_10mM_AC_S\", \"Salt_100mM_AC_L\", \"Salt_100mM_AC_S\", \"Salt_Control_NAC_L\", \"Salt_Control_NAC_S\", \"Salt_10mM_NAC_L\", \"Salt_10mM_NAC_S\", \"Salt_100mM_NAC_L\", \"Salt_100mM_NAC_S\"], \"y\": [3.5500666666666665, 0.6744519999999999, 0.7901375, 10.05442, 3.523276, 0.435388, 7.200788, 0.715742, 4.8578280000000005, 0.898112, 2.703496, 0.736294], \"type\": \"scatter\", \"uid\": \"fe12224a-3633-11ea-9c5e-79fdfc20b759\"}, {\"line\": {\"color\": \"#0d5ac1\", \"dash\": \"solid\", \"width\": 4}, \"mode\": \"lines+markers\", \"name\": \"Sevir.2G354400\", \"x\": [\"Salt_Control_AC_L\", \"Salt_Control_AC_S\", \"Salt_10mM_AC_L\", \"Salt_10mM_AC_S\", \"Salt_100mM_AC_L\", \"Salt_100mM_AC_S\", \"Salt_Control_NAC_L\", \"Salt_Control_NAC_S\", \"Salt_10mM_NAC_L\", \"Salt_10mM_NAC_S\", \"Salt_100mM_NAC_L\", \"Salt_100mM_NAC_S\"], \"y\": [0.0, 0.0, 0.0, 0.0, 0.0, 0.0, 0.0, 0.0, 0.0, 0.0, 0.0, 0.0], \"type\": \"scatter\", \"uid\": \"fe12240c-3633-11ea-9c5e-79fdfc20b759\"}, {\"line\": {\"color\": \"#f205e6\", \"dash\": \"dot\", \"width\": 4}, \"mode\": \"lines+markers\", \"name\": \"Sevir.2G152600\", \"x\": [\"Salt_Control_AC_L\", \"Salt_Control_AC_S\", \"Salt_10mM_AC_L\", \"Salt_10mM_AC_S\", \"Salt_100mM_AC_L\", \"Salt_100mM_AC_S\", \"Salt_Control_NAC_L\", \"Salt_Control_NAC_S\", \"Salt_10mM_NAC_L\", \"Salt_10mM_NAC_S\", \"Salt_100mM_NAC_L\", \"Salt_100mM_NAC_S\"], \"y\": [0.3333333333333333, 0.0, 0.0, 0.0, 0.0, 0.0, 0.0, 0.0, 0.0, 0.0, 0.0, 0.0], \"type\": \"scatter\", \"uid\": \"fe1225c4-3633-11ea-9c5e-79fdfc20b759\"}, {\"line\": {\"color\": \"#1c0365\", \"dash\": \"dash\", \"width\": 4}, \"mode\": \"lines+markers\", \"name\": \"Sevir.7G023700\", \"x\": [\"Salt_Control_AC_L\", \"Salt_Control_AC_S\", \"Salt_10mM_AC_L\", \"Salt_10mM_AC_S\", \"Salt_100mM_AC_L\", \"Salt_100mM_AC_S\", \"Salt_Control_NAC_L\", \"Salt_Control_NAC_S\", \"Salt_10mM_NAC_L\", \"Salt_10mM_NAC_S\", \"Salt_100mM_NAC_L\", \"Salt_100mM_NAC_S\"], \"y\": [0.91036, 0.26849599999999996, 0.0, 0.0, 0.0, 0.20067400000000002, 0.0, 0.0, 0.0, 0.2, 0.5437540000000001, 0.0], \"type\": \"scatter\", \"uid\": \"fe122768-3633-11ea-9c5e-79fdfc20b759\"}, {\"line\": {\"color\": \"#14a9ad\", \"dash\": \"solid\", \"width\": 4}, \"mode\": \"lines+markers\", \"name\": \"Sevir.4G118900\", \"x\": [\"Salt_Control_AC_L\", \"Salt_Control_AC_S\", \"Salt_10mM_AC_L\", \"Salt_10mM_AC_S\", \"Salt_100mM_AC_L\", \"Salt_100mM_AC_S\", \"Salt_Control_NAC_L\", \"Salt_Control_NAC_S\", \"Salt_10mM_NAC_L\", \"Salt_10mM_NAC_S\", \"Salt_100mM_NAC_L\", \"Salt_100mM_NAC_S\"], \"y\": [0.0, 0.0, 1.0, 1.0, 1.0, 0.2, 1.6, 0.0, 0.8, 0.4, 1.2, 0.0], \"type\": \"scatter\", \"uid\": \"fe122920-3633-11ea-9c5e-79fdfc20b759\"}, {\"line\": {\"color\": \"#4ca2f9\", \"dash\": \"dot\", \"width\": 4}, \"mode\": \"lines+markers\", \"name\": \"Sevir.8G081600\", \"x\": [\"Salt_Control_AC_L\", \"Salt_Control_AC_S\", \"Salt_10mM_AC_L\", \"Salt_10mM_AC_S\", \"Salt_100mM_AC_L\", \"Salt_100mM_AC_S\", \"Salt_Control_NAC_L\", \"Salt_Control_NAC_S\", \"Salt_10mM_NAC_L\", \"Salt_10mM_NAC_S\", \"Salt_100mM_NAC_L\", \"Salt_100mM_NAC_S\"], \"y\": [0.0, 0.0, 0.0, 2.49837, 0.0, 0.1997434, 0.0, 0.0, 0.0, 0.1998164, 0.0, 1.998478], \"type\": \"scatter\", \"uid\": \"fe122ac4-3633-11ea-9c5e-79fdfc20b759\"}, {\"line\": {\"color\": \"#a4e43f\", \"dash\": \"dash\", \"width\": 4}, \"mode\": \"lines+markers\", \"name\": \"Sevir.5G364132\", \"x\": [\"Salt_Control_AC_L\", \"Salt_Control_AC_S\", \"Salt_10mM_AC_L\", \"Salt_10mM_AC_S\", \"Salt_100mM_AC_L\", \"Salt_100mM_AC_S\", \"Salt_Control_NAC_L\", \"Salt_Control_NAC_S\", \"Salt_10mM_NAC_L\", \"Salt_10mM_NAC_S\", \"Salt_100mM_NAC_L\", \"Salt_100mM_NAC_S\"], \"y\": [0.0, 0.0, 0.0, 0.0, 0.0, 0.0, 0.0, 0.0, 0.0, 1.2, 1.0, 0.0], \"type\": \"scatter\", \"uid\": \"fe122d26-3633-11ea-9c5e-79fdfc20b759\"}, {\"line\": {\"color\": \"#d298e2\", \"dash\": \"solid\", \"width\": 4}, \"mode\": \"lines+markers\", \"name\": \"Sevir.4G263301\", \"x\": [\"Salt_Control_AC_L\", \"Salt_Control_AC_S\", \"Salt_10mM_AC_L\", \"Salt_10mM_AC_S\", \"Salt_100mM_AC_L\", \"Salt_100mM_AC_S\", \"Salt_Control_NAC_L\", \"Salt_Control_NAC_S\", \"Salt_10mM_NAC_L\", \"Salt_10mM_NAC_S\", \"Salt_100mM_NAC_L\", \"Salt_100mM_NAC_S\"], \"y\": [0.0, 0.0, 0.0, 0.0, 0.4, 0.0, 0.0, 0.0, 0.6, 0.2, 0.0, 0.0], \"type\": \"scatter\", \"uid\": \"fe122ee8-3633-11ea-9c5e-79fdfc20b759\"}, {\"line\": {\"color\": \"#6119d0\", \"dash\": \"dot\", \"width\": 4}, \"mode\": \"lines+markers\", \"name\": \"Sevir.9G099466\", \"x\": [\"Salt_Control_AC_L\", \"Salt_Control_AC_S\", \"Salt_10mM_AC_L\", \"Salt_10mM_AC_S\", \"Salt_100mM_AC_L\", \"Salt_100mM_AC_S\", \"Salt_Control_NAC_L\", \"Salt_Control_NAC_S\", \"Salt_10mM_NAC_L\", \"Salt_10mM_NAC_S\", \"Salt_100mM_NAC_L\", \"Salt_100mM_NAC_S\"], \"y\": [0.0, 0.4, 0.0, 0.0, 0.0, 0.0, 0.0, 0.0, 0.0, 0.0, 0.0, 0.8], \"type\": \"scatter\", \"uid\": \"fe123096-3633-11ea-9c5e-79fdfc20b759\"}, {\"line\": {\"color\": \"#d2737d\", \"dash\": \"dash\", \"width\": 4}, \"mode\": \"lines+markers\", \"name\": \"Sevir.9G078500\", \"x\": [\"Salt_Control_AC_L\", \"Salt_Control_AC_S\", \"Salt_10mM_AC_L\", \"Salt_10mM_AC_S\", \"Salt_100mM_AC_L\", \"Salt_100mM_AC_S\", \"Salt_Control_NAC_L\", \"Salt_Control_NAC_S\", \"Salt_10mM_NAC_L\", \"Salt_10mM_NAC_S\", \"Salt_100mM_NAC_L\", \"Salt_100mM_NAC_S\"], \"y\": [0.0, 0.0, 0.0, 0.0, 0.0, 0.0, 0.0, 0.0, 0.6, 0.2, 0.0, 0.0], \"type\": \"scatter\", \"uid\": \"fe123230-3633-11ea-9c5e-79fdfc20b759\"}, {\"line\": {\"color\": \"#c0a43c\", \"dash\": \"solid\", \"width\": 4}, \"mode\": \"lines+markers\", \"name\": \"Sevir.2G263800\", \"x\": [\"Salt_Control_AC_L\", \"Salt_Control_AC_S\", \"Salt_10mM_AC_L\", \"Salt_10mM_AC_S\", \"Salt_100mM_AC_L\", \"Salt_100mM_AC_S\", \"Salt_Control_NAC_L\", \"Salt_Control_NAC_S\", \"Salt_10mM_NAC_L\", \"Salt_10mM_NAC_S\", \"Salt_100mM_NAC_L\", \"Salt_100mM_NAC_S\"], \"y\": [0.0, 0.0, 0.0, 0.0, 0.0, 0.0, 0.0, 0.0, 0.0, 0.0, 0.0, 0.0], \"type\": \"scatter\", \"uid\": \"fe1233d4-3633-11ea-9c5e-79fdfc20b759\"}, {\"line\": {\"color\": \"#f2510e\", \"dash\": \"dot\", \"width\": 4}, \"mode\": \"lines+markers\", \"name\": \"Sevir.8G218520\", \"x\": [\"Salt_Control_AC_L\", \"Salt_Control_AC_S\", \"Salt_10mM_AC_L\", \"Salt_10mM_AC_S\", \"Salt_100mM_AC_L\", \"Salt_100mM_AC_S\", \"Salt_Control_NAC_L\", \"Salt_Control_NAC_S\", \"Salt_10mM_NAC_L\", \"Salt_10mM_NAC_S\", \"Salt_100mM_NAC_L\", \"Salt_100mM_NAC_S\"], \"y\": [0.0, 0.0, 0.0, 0.0, 0.0, 0.0, 0.0, 0.0, 0.6, 0.0, 0.0, 0.0], \"type\": \"scatter\", \"uid\": \"fe12356e-3633-11ea-9c5e-79fdfc20b759\"}, {\"line\": {\"color\": \"#651be6\", \"dash\": \"dash\", \"width\": 4}, \"mode\": \"lines+markers\", \"name\": \"Sevir.3G390900\", \"x\": [\"Salt_Control_AC_L\", \"Salt_Control_AC_S\", \"Salt_10mM_AC_L\", \"Salt_10mM_AC_S\", \"Salt_100mM_AC_L\", \"Salt_100mM_AC_S\", \"Salt_Control_NAC_L\", \"Salt_Control_NAC_S\", \"Salt_10mM_NAC_L\", \"Salt_10mM_NAC_S\", \"Salt_100mM_NAC_L\", \"Salt_100mM_NAC_S\"], \"y\": [0.0, 0.0, 0.0, 0.0, 0.0, 0.0, 0.0, 0.0, 0.0, 0.0, 0.0, 0.0], \"type\": \"scatter\", \"uid\": \"fe123708-3633-11ea-9c5e-79fdfc20b759\"}, {\"line\": {\"color\": \"#79806e\", \"dash\": \"solid\", \"width\": 4}, \"mode\": \"lines+markers\", \"name\": \"Sevir.9G165400\", \"x\": [\"Salt_Control_AC_L\", \"Salt_Control_AC_S\", \"Salt_10mM_AC_L\", \"Salt_10mM_AC_S\", \"Salt_100mM_AC_L\", \"Salt_100mM_AC_S\", \"Salt_Control_NAC_L\", \"Salt_Control_NAC_S\", \"Salt_10mM_NAC_L\", \"Salt_10mM_NAC_S\", \"Salt_100mM_NAC_L\", \"Salt_100mM_NAC_S\"], \"y\": [0.0, 0.0, 0.0, 0.0, 0.0, 0.0, 0.0, 0.0, 0.4, 0.0, 0.0, 0.0], \"type\": \"scatter\", \"uid\": \"fe1238a2-3633-11ea-9c5e-79fdfc20b759\"}, {\"line\": {\"color\": \"#61da5e\", \"dash\": \"dot\", \"width\": 4}, \"mode\": \"lines+markers\", \"name\": \"Sevir.8G245140\", \"x\": [\"Salt_Control_AC_L\", \"Salt_Control_AC_S\", \"Salt_10mM_AC_L\", \"Salt_10mM_AC_S\", \"Salt_100mM_AC_L\", \"Salt_100mM_AC_S\", \"Salt_Control_NAC_L\", \"Salt_Control_NAC_S\", \"Salt_10mM_NAC_L\", \"Salt_10mM_NAC_S\", \"Salt_100mM_NAC_L\", \"Salt_100mM_NAC_S\"], \"y\": [0.0, 0.0, 0.0, 0.0, 0.0, 0.0, 0.0, 0.2, 0.0, 0.4, 0.0, 1.6], \"type\": \"scatter\", \"uid\": \"fe123a46-3633-11ea-9c5e-79fdfc20b759\"}, {\"line\": {\"color\": \"#cd2f00\", \"dash\": \"dash\", \"width\": 4}, \"mode\": \"lines+markers\", \"name\": \"Sevir.8G087000\", \"x\": [\"Salt_Control_AC_L\", \"Salt_Control_AC_S\", \"Salt_10mM_AC_L\", \"Salt_10mM_AC_S\", \"Salt_100mM_AC_L\", \"Salt_100mM_AC_S\", \"Salt_Control_NAC_L\", \"Salt_Control_NAC_S\", \"Salt_10mM_NAC_L\", \"Salt_10mM_NAC_S\", \"Salt_100mM_NAC_L\", \"Salt_100mM_NAC_S\"], \"y\": [0.0, 0.0, 0.0, 0.0, 0.0, 0.0, 0.0, 0.0, 0.0, 0.0, 0.0, 0.0], \"type\": \"scatter\", \"uid\": \"fe123be0-3633-11ea-9c5e-79fdfc20b759\"}, {\"line\": {\"color\": \"#9348af\", \"dash\": \"solid\", \"width\": 4}, \"mode\": \"lines+markers\", \"name\": \"Sevir.9G576201\", \"x\": [\"Salt_Control_AC_L\", \"Salt_Control_AC_S\", \"Salt_10mM_AC_L\", \"Salt_10mM_AC_S\", \"Salt_100mM_AC_L\", \"Salt_100mM_AC_S\", \"Salt_Control_NAC_L\", \"Salt_Control_NAC_S\", \"Salt_10mM_NAC_L\", \"Salt_10mM_NAC_S\", \"Salt_100mM_NAC_L\", \"Salt_100mM_NAC_S\"], \"y\": [0.0, 0.0, 0.0, 2.457371, 0.0, 0.0, 0.0, 0.0, 0.0, 0.19686520000000002, 0.0, 0.0], \"type\": \"scatter\", \"uid\": \"fe123d84-3633-11ea-9c5e-79fdfc20b759\"}, {\"line\": {\"color\": \"#01ac53\", \"dash\": \"dot\", \"width\": 4}, \"mode\": \"lines+markers\", \"name\": \"Sevir.5G470750\", \"x\": [\"Salt_Control_AC_L\", \"Salt_Control_AC_S\", \"Salt_10mM_AC_L\", \"Salt_10mM_AC_S\", \"Salt_100mM_AC_L\", \"Salt_100mM_AC_S\", \"Salt_Control_NAC_L\", \"Salt_Control_NAC_S\", \"Salt_10mM_NAC_L\", \"Salt_10mM_NAC_S\", \"Salt_100mM_NAC_L\", \"Salt_100mM_NAC_S\"], \"y\": [0.6666666666666666, 1.0, 0.25, 0.0, 1.82664, 0.2, 0.0, 0.0, 0.0, 0.8, 0.8, 0.2], \"type\": \"scatter\", \"uid\": \"fe123f1e-3633-11ea-9c5e-79fdfc20b759\"}, {\"line\": {\"color\": \"#c5a4fb\", \"dash\": \"dash\", \"width\": 4}, \"mode\": \"lines+markers\", \"name\": \"Sevir.1G060850\", \"x\": [\"Salt_Control_AC_L\", \"Salt_Control_AC_S\", \"Salt_10mM_AC_L\", \"Salt_10mM_AC_S\", \"Salt_100mM_AC_L\", \"Salt_100mM_AC_S\", \"Salt_Control_NAC_L\", \"Salt_Control_NAC_S\", \"Salt_10mM_NAC_L\", \"Salt_10mM_NAC_S\", \"Salt_100mM_NAC_L\", \"Salt_100mM_NAC_S\"], \"y\": [0.0, 0.0, 0.0, 0.0, 0.0, 0.0, 0.0, 0.0, 0.0, 0.0, 0.0, 0.0], \"type\": \"scatter\", \"uid\": \"fe1240cc-3633-11ea-9c5e-79fdfc20b759\"}, {\"line\": {\"color\": \"#996635\", \"dash\": \"solid\", \"width\": 4}, \"mode\": \"lines+markers\", \"name\": \"Sevir.2G280500\", \"x\": [\"Salt_Control_AC_L\", \"Salt_Control_AC_S\", \"Salt_10mM_AC_L\", \"Salt_10mM_AC_S\", \"Salt_100mM_AC_L\", \"Salt_100mM_AC_S\", \"Salt_Control_NAC_L\", \"Salt_Control_NAC_S\", \"Salt_10mM_NAC_L\", \"Salt_10mM_NAC_S\", \"Salt_100mM_NAC_L\", \"Salt_100mM_NAC_S\"], \"y\": [0.0, 0.0, 0.0, 0.0, 0.0, 0.0, 0.0, 0.0, 0.1326804, 0.0, 0.364382, 0.0], \"type\": \"scatter\", \"uid\": \"fe12434c-3633-11ea-9c5e-79fdfc20b759\"}, {\"line\": {\"color\": \"#b11573\", \"dash\": \"dot\", \"width\": 4}, \"mode\": \"lines+markers\", \"name\": \"Sevir.9G268200\", \"x\": [\"Salt_Control_AC_L\", \"Salt_Control_AC_S\", \"Salt_10mM_AC_L\", \"Salt_10mM_AC_S\", \"Salt_100mM_AC_L\", \"Salt_100mM_AC_S\", \"Salt_Control_NAC_L\", \"Salt_Control_NAC_S\", \"Salt_10mM_NAC_L\", \"Salt_10mM_NAC_S\", \"Salt_100mM_NAC_L\", \"Salt_100mM_NAC_S\"], \"y\": [0.0, 0.0, 0.0, 0.0, 0.0, 0.0, 0.0, 0.0, 0.0, 0.0, 0.0, 0.0], \"type\": \"scatter\", \"uid\": \"fe12452c-3633-11ea-9c5e-79fdfc20b759\"}, {\"line\": {\"color\": \"#4bb473\", \"dash\": \"dash\", \"width\": 4}, \"mode\": \"lines+markers\", \"name\": \"Sevir.4G143101\", \"x\": [\"Salt_Control_AC_L\", \"Salt_Control_AC_S\", \"Salt_10mM_AC_L\", \"Salt_10mM_AC_S\", \"Salt_100mM_AC_L\", \"Salt_100mM_AC_S\", \"Salt_Control_NAC_L\", \"Salt_Control_NAC_S\", \"Salt_10mM_NAC_L\", \"Salt_10mM_NAC_S\", \"Salt_100mM_NAC_L\", \"Salt_100mM_NAC_S\"], \"y\": [0.0, 0.0, 0.0, 0.0, 0.0, 0.0, 0.0, 0.0, 0.4, 0.0, 0.6, 0.0], \"type\": \"scatter\", \"uid\": \"fe1246da-3633-11ea-9c5e-79fdfc20b759\"}, {\"line\": {\"color\": \"#75d89e\", \"dash\": \"solid\", \"width\": 4}, \"mode\": \"lines+markers\", \"name\": \"Sevir.2G342800\", \"x\": [\"Salt_Control_AC_L\", \"Salt_Control_AC_S\", \"Salt_10mM_AC_L\", \"Salt_10mM_AC_S\", \"Salt_100mM_AC_L\", \"Salt_100mM_AC_S\", \"Salt_Control_NAC_L\", \"Salt_Control_NAC_S\", \"Salt_10mM_NAC_L\", \"Salt_10mM_NAC_S\", \"Salt_100mM_NAC_L\", \"Salt_100mM_NAC_S\"], \"y\": [0.0, 0.0, 0.0, 0.0, 0.0, 0.0, 1.0, 0.0, 0.6, 0.0, 0.0, 0.0], \"type\": \"scatter\", \"uid\": \"fe12487e-3633-11ea-9c5e-79fdfc20b759\"}, {\"line\": {\"color\": \"#2f3f94\", \"dash\": \"dot\", \"width\": 4}, \"mode\": \"lines+markers\", \"name\": \"Sevir.1G019900\", \"x\": [\"Salt_Control_AC_L\", \"Salt_Control_AC_S\", \"Salt_10mM_AC_L\", \"Salt_10mM_AC_S\", \"Salt_100mM_AC_L\", \"Salt_100mM_AC_S\", \"Salt_Control_NAC_L\", \"Salt_Control_NAC_S\", \"Salt_10mM_NAC_L\", \"Salt_10mM_NAC_S\", \"Salt_100mM_NAC_L\", \"Salt_100mM_NAC_S\"], \"y\": [0.0, 0.0, 0.0, 0.0, 0.2, 0.0, 0.0, 0.0, 0.0, 0.0, 0.0, 0.0], \"type\": \"scatter\", \"uid\": \"fe124a22-3633-11ea-9c5e-79fdfc20b759\"}, {\"line\": {\"color\": \"#2f7b99\", \"dash\": \"dash\", \"width\": 4}, \"mode\": \"lines+markers\", \"name\": \"Sevir.3G353500\", \"x\": [\"Salt_Control_AC_L\", \"Salt_Control_AC_S\", \"Salt_10mM_AC_L\", \"Salt_10mM_AC_S\", \"Salt_100mM_AC_L\", \"Salt_100mM_AC_S\", \"Salt_Control_NAC_L\", \"Salt_Control_NAC_S\", \"Salt_10mM_NAC_L\", \"Salt_10mM_NAC_S\", \"Salt_100mM_NAC_L\", \"Salt_100mM_NAC_S\"], \"y\": [0.0, 0.0, 0.0, 0.0, 0.0, 0.0, 0.0, 0.2, 0.0, 0.0, 0.0, 0.0], \"type\": \"scatter\", \"uid\": \"fe124bd0-3633-11ea-9c5e-79fdfc20b759\"}, {\"line\": {\"color\": \"#da967d\", \"dash\": \"solid\", \"width\": 4}, \"mode\": \"lines+markers\", \"name\": \"Sevir.7G189700\", \"x\": [\"Salt_Control_AC_L\", \"Salt_Control_AC_S\", \"Salt_10mM_AC_L\", \"Salt_10mM_AC_S\", \"Salt_100mM_AC_L\", \"Salt_100mM_AC_S\", \"Salt_Control_NAC_L\", \"Salt_Control_NAC_S\", \"Salt_10mM_NAC_L\", \"Salt_10mM_NAC_S\", \"Salt_100mM_NAC_L\", \"Salt_100mM_NAC_S\"], \"y\": [0.0, 0.0, 0.0, 0.0, 0.0, 0.4, 0.0, 0.0, 0.0, 0.0, 0.0, 0.0], \"type\": \"scatter\", \"uid\": \"fe124d74-3633-11ea-9c5e-79fdfc20b759\"}, {\"line\": {\"color\": \"#34891f\", \"dash\": \"dot\", \"width\": 4}, \"mode\": \"lines+markers\", \"name\": \"Sevir.4G118600\", \"x\": [\"Salt_Control_AC_L\", \"Salt_Control_AC_S\", \"Salt_10mM_AC_L\", \"Salt_10mM_AC_S\", \"Salt_100mM_AC_L\", \"Salt_100mM_AC_S\", \"Salt_Control_NAC_L\", \"Salt_Control_NAC_S\", \"Salt_10mM_NAC_L\", \"Salt_10mM_NAC_S\", \"Salt_100mM_NAC_L\", \"Salt_100mM_NAC_S\"], \"y\": [0.0, 0.0, 0.0, 1.006, 0.0, 0.4, 0.0, 0.0, 0.0, 0.0, 0.0, 0.0], \"type\": \"scatter\", \"uid\": \"fe124f18-3633-11ea-9c5e-79fdfc20b759\"}, {\"line\": {\"color\": \"#b0d87b\", \"dash\": \"dash\", \"width\": 4}, \"mode\": \"lines+markers\", \"name\": \"Sevir.5G315900\", \"x\": [\"Salt_Control_AC_L\", \"Salt_Control_AC_S\", \"Salt_10mM_AC_L\", \"Salt_10mM_AC_S\", \"Salt_100mM_AC_L\", \"Salt_100mM_AC_S\", \"Salt_Control_NAC_L\", \"Salt_Control_NAC_S\", \"Salt_10mM_NAC_L\", \"Salt_10mM_NAC_S\", \"Salt_100mM_NAC_L\", \"Salt_100mM_NAC_S\"], \"y\": [0.0, 0.0, 0.0, 0.0, 0.0, 0.0, 0.0, 0.2, 0.0, 0.0, 0.0, 0.0], \"type\": \"scatter\", \"uid\": \"fe1250bc-3633-11ea-9c5e-79fdfc20b759\"}, {\"line\": {\"color\": \"#ca4751\", \"dash\": \"solid\", \"width\": 4}, \"mode\": \"lines+markers\", \"name\": \"Sevir.1G110232\", \"x\": [\"Salt_Control_AC_L\", \"Salt_Control_AC_S\", \"Salt_10mM_AC_L\", \"Salt_10mM_AC_S\", \"Salt_100mM_AC_L\", \"Salt_100mM_AC_S\", \"Salt_Control_NAC_L\", \"Salt_Control_NAC_S\", \"Salt_10mM_NAC_L\", \"Salt_10mM_NAC_S\", \"Salt_100mM_NAC_L\", \"Salt_100mM_NAC_S\"], \"y\": [0.0, 0.0, 0.0, 0.0, 0.0, 0.0, 0.0, 0.2, 0.0, 0.0, 0.0, 0.0], \"type\": \"scatter\", \"uid\": \"fe12526a-3633-11ea-9c5e-79fdfc20b759\"}, {\"line\": {\"color\": \"#7e50a8\", \"dash\": \"dot\", \"width\": 4}, \"mode\": \"lines+markers\", \"name\": \"Sevir.5G206100\", \"x\": [\"Salt_Control_AC_L\", \"Salt_Control_AC_S\", \"Salt_10mM_AC_L\", \"Salt_10mM_AC_S\", \"Salt_100mM_AC_L\", \"Salt_100mM_AC_S\", \"Salt_Control_NAC_L\", \"Salt_Control_NAC_S\", \"Salt_10mM_NAC_L\", \"Salt_10mM_NAC_S\", \"Salt_100mM_NAC_L\", \"Salt_100mM_NAC_S\"], \"y\": [0.0, 0.0, 0.25, 0.0, 0.0, 0.0, 0.0, 0.0, 0.6, 0.4, 0.0, 0.0], \"type\": \"scatter\", \"uid\": \"fe125404-3633-11ea-9c5e-79fdfc20b759\"}, {\"line\": {\"color\": \"#c4d647\", \"dash\": \"dash\", \"width\": 4}, \"mode\": \"lines+markers\", \"name\": \"Sevir.3G353200\", \"x\": [\"Salt_Control_AC_L\", \"Salt_Control_AC_S\", \"Salt_10mM_AC_L\", \"Salt_10mM_AC_S\", \"Salt_100mM_AC_L\", \"Salt_100mM_AC_S\", \"Salt_Control_NAC_L\", \"Salt_Control_NAC_S\", \"Salt_10mM_NAC_L\", \"Salt_10mM_NAC_S\", \"Salt_100mM_NAC_L\", \"Salt_100mM_NAC_S\"], \"y\": [0.0, 0.2, 0.0, 1.5, 0.0, 0.0, 0.0, 0.0, 0.0, 0.0, 0.0, 0.0], \"type\": \"scatter\", \"uid\": \"fe1255a8-3633-11ea-9c5e-79fdfc20b759\"}, {\"line\": {\"color\": \"#e0eeb8\", \"dash\": \"solid\", \"width\": 4}, \"mode\": \"lines+markers\", \"name\": \"Sevir.4G093300\", \"x\": [\"Salt_Control_AC_L\", \"Salt_Control_AC_S\", \"Salt_10mM_AC_L\", \"Salt_10mM_AC_S\", \"Salt_100mM_AC_L\", \"Salt_100mM_AC_S\", \"Salt_Control_NAC_L\", \"Salt_Control_NAC_S\", \"Salt_10mM_NAC_L\", \"Salt_10mM_NAC_S\", \"Salt_100mM_NAC_L\", \"Salt_100mM_NAC_S\"], \"y\": [0.0, 0.6, 0.5, 8.0, 1.6, 0.0, 0.0, 0.0, 0.4, 0.8, 2.4, 2.2], \"type\": \"scatter\", \"uid\": \"fe12574c-3633-11ea-9c5e-79fdfc20b759\"}, {\"line\": {\"color\": \"#11dec1\", \"dash\": \"dot\", \"width\": 4}, \"mode\": \"lines+markers\", \"name\": \"Sevir.1G171100\", \"x\": [\"Salt_Control_AC_L\", \"Salt_Control_AC_S\", \"Salt_10mM_AC_L\", \"Salt_10mM_AC_S\", \"Salt_100mM_AC_L\", \"Salt_100mM_AC_S\", \"Salt_Control_NAC_L\", \"Salt_Control_NAC_S\", \"Salt_10mM_NAC_L\", \"Salt_10mM_NAC_S\", \"Salt_100mM_NAC_L\", \"Salt_100mM_NAC_S\"], \"y\": [0.0, 0.0, 0.0, 0.0, 0.6, 0.0, 0.4, 0.0, 0.0, 0.0, 0.0, 0.0], \"type\": \"scatter\", \"uid\": \"fe1258f0-3633-11ea-9c5e-79fdfc20b759\"}, {\"line\": {\"color\": \"#289812\", \"dash\": \"dash\", \"width\": 4}, \"mode\": \"lines+markers\", \"name\": \"Sevir.2G305750\", \"x\": [\"Salt_Control_AC_L\", \"Salt_Control_AC_S\", \"Salt_10mM_AC_L\", \"Salt_10mM_AC_S\", \"Salt_100mM_AC_L\", \"Salt_100mM_AC_S\", \"Salt_Control_NAC_L\", \"Salt_Control_NAC_S\", \"Salt_10mM_NAC_L\", \"Salt_10mM_NAC_S\", \"Salt_100mM_NAC_L\", \"Salt_100mM_NAC_S\"], \"y\": [3.9622166666666665, 0.0, 1.6091900000000001, 0.0, 2.8849615999999996, 1.6771439999999997, 4.447153999999999, 0.211456, 2.97905, 0.30533, 1.919032, 0.36558199999999996], \"type\": \"scatter\", \"uid\": \"fe125a9e-3633-11ea-9c5e-79fdfc20b759\"}, {\"line\": {\"color\": \"#566ca0\", \"dash\": \"solid\", \"width\": 4}, \"mode\": \"lines+markers\", \"name\": \"Sevir.9G169700\", \"x\": [\"Salt_Control_AC_L\", \"Salt_Control_AC_S\", \"Salt_10mM_AC_L\", \"Salt_10mM_AC_S\", \"Salt_100mM_AC_L\", \"Salt_100mM_AC_S\", \"Salt_Control_NAC_L\", \"Salt_Control_NAC_S\", \"Salt_10mM_NAC_L\", \"Salt_10mM_NAC_S\", \"Salt_100mM_NAC_L\", \"Salt_100mM_NAC_S\"], \"y\": [0.0, 0.0, 0.0, 0.0, 0.0, 0.0, 0.0, 0.0, 0.0, 0.0, 0.0, 0.0], \"type\": \"scatter\", \"uid\": \"fe125c42-3633-11ea-9c5e-79fdfc20b759\"}, {\"line\": {\"color\": \"#ffdbe1\", \"dash\": \"dot\", \"width\": 4}, \"mode\": \"lines+markers\", \"name\": \"Sevir.1G020800\", \"x\": [\"Salt_Control_AC_L\", \"Salt_Control_AC_S\", \"Salt_10mM_AC_L\", \"Salt_10mM_AC_S\", \"Salt_100mM_AC_L\", \"Salt_100mM_AC_S\", \"Salt_Control_NAC_L\", \"Salt_Control_NAC_S\", \"Salt_10mM_NAC_L\", \"Salt_10mM_NAC_S\", \"Salt_100mM_NAC_L\", \"Salt_100mM_NAC_S\"], \"y\": [0.0, 0.0, 0.0, 0.0, 0.0, 0.0, 0.4, 0.0, 0.0, 0.0, 0.0, 0.0], \"type\": \"scatter\", \"uid\": \"fe125de6-3633-11ea-9c5e-79fdfc20b759\"}, {\"line\": {\"color\": \"#2f1179\", \"dash\": \"dash\", \"width\": 4}, \"mode\": \"lines+markers\", \"name\": \"Sevir.5G194900\", \"x\": [\"Salt_Control_AC_L\", \"Salt_Control_AC_S\", \"Salt_10mM_AC_L\", \"Salt_10mM_AC_S\", \"Salt_100mM_AC_L\", \"Salt_100mM_AC_S\", \"Salt_Control_NAC_L\", \"Salt_Control_NAC_S\", \"Salt_10mM_NAC_L\", \"Salt_10mM_NAC_S\", \"Salt_100mM_NAC_L\", \"Salt_100mM_NAC_S\"], \"y\": [0.0, 0.0, 0.0, 0.0, 0.0, 0.0, 0.0, 0.0, 0.0, 0.0, 0.0, 0.0], \"type\": \"scatter\", \"uid\": \"fe125f8a-3633-11ea-9c5e-79fdfc20b759\"}, {\"line\": {\"color\": \"#935b6d\", \"dash\": \"solid\", \"width\": 4}, \"mode\": \"lines+markers\", \"name\": \"Sevir.6G028050\", \"x\": [\"Salt_Control_AC_L\", \"Salt_Control_AC_S\", \"Salt_10mM_AC_L\", \"Salt_10mM_AC_S\", \"Salt_100mM_AC_L\", \"Salt_100mM_AC_S\", \"Salt_Control_NAC_L\", \"Salt_Control_NAC_S\", \"Salt_10mM_NAC_L\", \"Salt_10mM_NAC_S\", \"Salt_100mM_NAC_L\", \"Salt_100mM_NAC_S\"], \"y\": [0.0, 0.0, 0.25, 0.0, 0.0, 0.0, 0.0, 0.0, 0.0, 0.0, 0.0, 0.0], \"type\": \"scatter\", \"uid\": \"fe126124-3633-11ea-9c5e-79fdfc20b759\"}, {\"line\": {\"color\": \"#916988\", \"dash\": \"dot\", \"width\": 4}, \"mode\": \"lines+markers\", \"name\": \"Sevir.2G003200\", \"x\": [\"Salt_Control_AC_L\", \"Salt_Control_AC_S\", \"Salt_10mM_AC_L\", \"Salt_10mM_AC_S\", \"Salt_100mM_AC_L\", \"Salt_100mM_AC_S\", \"Salt_Control_NAC_L\", \"Salt_Control_NAC_S\", \"Salt_10mM_NAC_L\", \"Salt_10mM_NAC_S\", \"Salt_100mM_NAC_L\", \"Salt_100mM_NAC_S\"], \"y\": [0.0, 0.0, 0.0, 0.0, 0.0, 0.0, 0.0, 0.0, 0.0, 0.0, 0.0, 0.0], \"type\": \"scatter\", \"uid\": \"fe1262c8-3633-11ea-9c5e-79fdfc20b759\"}, {\"line\": {\"color\": \"#513d98\", \"dash\": \"dash\", \"width\": 4}, \"mode\": \"lines+markers\", \"name\": \"Sevir.8G079100\", \"x\": [\"Salt_Control_AC_L\", \"Salt_Control_AC_S\", \"Salt_10mM_AC_L\", \"Salt_10mM_AC_S\", \"Salt_100mM_AC_L\", \"Salt_100mM_AC_S\", \"Salt_Control_NAC_L\", \"Salt_Control_NAC_S\", \"Salt_10mM_NAC_L\", \"Salt_10mM_NAC_S\", \"Salt_100mM_NAC_L\", \"Salt_100mM_NAC_S\"], \"y\": [0.0, 0.0, 0.0, 0.0, 0.0, 0.0, 0.0, 0.0, 0.0, 0.0, 0.0, 0.0], \"type\": \"scatter\", \"uid\": \"fe126462-3633-11ea-9c5e-79fdfc20b759\"}, {\"line\": {\"color\": \"#aead3a\", \"dash\": \"solid\", \"width\": 4}, \"mode\": \"lines+markers\", \"name\": \"Sevir.4G293501\", \"x\": [\"Salt_Control_AC_L\", \"Salt_Control_AC_S\", \"Salt_10mM_AC_L\", \"Salt_10mM_AC_S\", \"Salt_100mM_AC_L\", \"Salt_100mM_AC_S\", \"Salt_Control_NAC_L\", \"Salt_Control_NAC_S\", \"Salt_10mM_NAC_L\", \"Salt_10mM_NAC_S\", \"Salt_100mM_NAC_L\", \"Salt_100mM_NAC_S\"], \"y\": [0.0, 0.0, 0.0, 0.0, 0.0, 0.0, 0.0, 0.0, 0.0, 0.0, 0.0, 0.0], \"type\": \"scatter\", \"uid\": \"fe126610-3633-11ea-9c5e-79fdfc20b759\"}, {\"line\": {\"color\": \"#9e6d71\", \"dash\": \"dot\", \"width\": 4}, \"mode\": \"lines+markers\", \"name\": \"Sevir.7G022900\", \"x\": [\"Salt_Control_AC_L\", \"Salt_Control_AC_S\", \"Salt_10mM_AC_L\", \"Salt_10mM_AC_S\", \"Salt_100mM_AC_L\", \"Salt_100mM_AC_S\", \"Salt_Control_NAC_L\", \"Salt_Control_NAC_S\", \"Salt_10mM_NAC_L\", \"Salt_10mM_NAC_S\", \"Salt_100mM_NAC_L\", \"Salt_100mM_NAC_S\"], \"y\": [0.0, 0.0, 0.0, 0.0, 0.0, 0.0, 0.0, 0.0, 0.0, 0.0, 0.0, 0.0], \"type\": \"scatter\", \"uid\": \"fe1267aa-3633-11ea-9c5e-79fdfc20b759\"}, {\"line\": {\"color\": \"#4b5bdc\", \"dash\": \"dash\", \"width\": 4}, \"mode\": \"lines+markers\", \"name\": \"Sevir.8G165900\", \"x\": [\"Salt_Control_AC_L\", \"Salt_Control_AC_S\", \"Salt_10mM_AC_L\", \"Salt_10mM_AC_S\", \"Salt_100mM_AC_L\", \"Salt_100mM_AC_S\", \"Salt_Control_NAC_L\", \"Salt_Control_NAC_S\", \"Salt_10mM_NAC_L\", \"Salt_10mM_NAC_S\", \"Salt_100mM_NAC_L\", \"Salt_100mM_NAC_S\"], \"y\": [0.0, 0.0, 0.0, 0.0, 0.0, 0.0, 0.0, 0.0, 0.0, 0.0, 0.0, 0.0], \"type\": \"scatter\", \"uid\": \"fe126a0c-3633-11ea-9c5e-79fdfc20b759\"}, {\"line\": {\"color\": \"#0cd36d\", \"dash\": \"solid\", \"width\": 4}, \"mode\": \"lines+markers\", \"name\": \"Sevir.9G092300\", \"x\": [\"Salt_Control_AC_L\", \"Salt_Control_AC_S\", \"Salt_10mM_AC_L\", \"Salt_10mM_AC_S\", \"Salt_100mM_AC_L\", \"Salt_100mM_AC_S\", \"Salt_Control_NAC_L\", \"Salt_Control_NAC_S\", \"Salt_10mM_NAC_L\", \"Salt_10mM_NAC_S\", \"Salt_100mM_NAC_L\", \"Salt_100mM_NAC_S\"], \"y\": [0.0, 0.0, 0.0, 0.0, 0.0, 0.0, 0.0, 0.0, 0.0, 0.0, 0.0, 0.0], \"type\": \"scatter\", \"uid\": \"fe126bec-3633-11ea-9c5e-79fdfc20b759\"}, {\"line\": {\"color\": \"#250662\", \"dash\": \"dot\", \"width\": 4}, \"mode\": \"lines+markers\", \"name\": \"Sevir.6G113200\", \"x\": [\"Salt_Control_AC_L\", \"Salt_Control_AC_S\", \"Salt_10mM_AC_L\", \"Salt_10mM_AC_S\", \"Salt_100mM_AC_L\", \"Salt_100mM_AC_S\", \"Salt_Control_NAC_L\", \"Salt_Control_NAC_S\", \"Salt_10mM_NAC_L\", \"Salt_10mM_NAC_S\", \"Salt_100mM_NAC_L\", \"Salt_100mM_NAC_S\"], \"y\": [0.0, 0.0, 0.0, 0.0, 0.0, 0.0, 0.0, 0.0, 0.0, 0.0, 0.0, 0.0], \"type\": \"scatter\", \"uid\": \"fe126d9a-3633-11ea-9c5e-79fdfc20b759\"}, {\"line\": {\"color\": \"#cb5bea\", \"dash\": \"dash\", \"width\": 4}, \"mode\": \"lines+markers\", \"name\": \"Sevir.4G160200\", \"x\": [\"Salt_Control_AC_L\", \"Salt_Control_AC_S\", \"Salt_10mM_AC_L\", \"Salt_10mM_AC_S\", \"Salt_100mM_AC_L\", \"Salt_100mM_AC_S\", \"Salt_Control_NAC_L\", \"Salt_Control_NAC_S\", \"Salt_10mM_NAC_L\", \"Salt_10mM_NAC_S\", \"Salt_100mM_NAC_L\", \"Salt_100mM_NAC_S\"], \"y\": [0.0, 0.0, 0.0, 0.0, 0.0, 0.0, 0.0, 0.0, 0.0, 0.0, 0.0, 0.0], \"type\": \"scatter\", \"uid\": \"fe126f3e-3633-11ea-9c5e-79fdfc20b759\"}, {\"line\": {\"color\": \"#228916\", \"dash\": \"solid\", \"width\": 4}, \"mode\": \"lines+markers\", \"name\": \"Sevir.5G037400\", \"x\": [\"Salt_Control_AC_L\", \"Salt_Control_AC_S\", \"Salt_10mM_AC_L\", \"Salt_10mM_AC_S\", \"Salt_100mM_AC_L\", \"Salt_100mM_AC_S\", \"Salt_Control_NAC_L\", \"Salt_Control_NAC_S\", \"Salt_10mM_NAC_L\", \"Salt_10mM_NAC_S\", \"Salt_100mM_NAC_L\", \"Salt_100mM_NAC_S\"], \"y\": [0.0, 0.0, 0.0, 0.0, 0.0, 0.0, 0.0, 0.0, 0.0, 0.0, 0.0, 0.0], \"type\": \"scatter\", \"uid\": \"fe1270d8-3633-11ea-9c5e-79fdfc20b759\"}, {\"line\": {\"color\": \"#ac3e1b\", \"dash\": \"dot\", \"width\": 4}, \"mode\": \"lines+markers\", \"name\": \"Sevir.3G298200\", \"x\": [\"Salt_Control_AC_L\", \"Salt_Control_AC_S\", \"Salt_10mM_AC_L\", \"Salt_10mM_AC_S\", \"Salt_100mM_AC_L\", \"Salt_100mM_AC_S\", \"Salt_Control_NAC_L\", \"Salt_Control_NAC_S\", \"Salt_10mM_NAC_L\", \"Salt_10mM_NAC_S\", \"Salt_100mM_NAC_L\", \"Salt_100mM_NAC_S\"], \"y\": [0.0, 0.0, 0.0, 0.0, 0.0, 0.0, 0.0, 0.0, 0.0, 0.0, 0.0, 0.0], \"type\": \"scatter\", \"uid\": \"fe127272-3633-11ea-9c5e-79fdfc20b759\"}, {\"line\": {\"color\": \"#df514a\", \"dash\": \"dash\", \"width\": 4}, \"mode\": \"lines+markers\", \"name\": \"Sevir.2G437300\", \"x\": [\"Salt_Control_AC_L\", \"Salt_Control_AC_S\", \"Salt_10mM_AC_L\", \"Salt_10mM_AC_S\", \"Salt_100mM_AC_L\", \"Salt_100mM_AC_S\", \"Salt_Control_NAC_L\", \"Salt_Control_NAC_S\", \"Salt_10mM_NAC_L\", \"Salt_10mM_NAC_S\", \"Salt_100mM_NAC_L\", \"Salt_100mM_NAC_S\"], \"y\": [0.0, 0.0, 0.0, 0.0, 0.0, 0.0, 0.0, 0.0, 0.0, 0.0, 0.0, 0.0], \"type\": \"scatter\", \"uid\": \"fe127416-3633-11ea-9c5e-79fdfc20b759\"}, {\"line\": {\"color\": \"#539397\", \"dash\": \"solid\", \"width\": 4}, \"mode\": \"lines+markers\", \"name\": \"Sevir.9G095700\", \"x\": [\"Salt_Control_AC_L\", \"Salt_Control_AC_S\", \"Salt_10mM_AC_L\", \"Salt_10mM_AC_S\", \"Salt_100mM_AC_L\", \"Salt_100mM_AC_S\", \"Salt_Control_NAC_L\", \"Salt_Control_NAC_S\", \"Salt_10mM_NAC_L\", \"Salt_10mM_NAC_S\", \"Salt_100mM_NAC_L\", \"Salt_100mM_NAC_S\"], \"y\": [0.0, 0.0, 0.5566825, 0.0, 0.0, 0.0, 0.0, 0.419088, 0.0, 0.8409039999999999, 0.0, 0.0], \"type\": \"scatter\", \"uid\": \"fe1275b0-3633-11ea-9c5e-79fdfc20b759\"}, {\"line\": {\"color\": \"#880977\", \"dash\": \"dot\", \"width\": 4}, \"mode\": \"lines+markers\", \"name\": \"Sevir.1G265000\", \"x\": [\"Salt_Control_AC_L\", \"Salt_Control_AC_S\", \"Salt_10mM_AC_L\", \"Salt_10mM_AC_S\", \"Salt_100mM_AC_L\", \"Salt_100mM_AC_S\", \"Salt_Control_NAC_L\", \"Salt_Control_NAC_S\", \"Salt_10mM_NAC_L\", \"Salt_10mM_NAC_S\", \"Salt_100mM_NAC_L\", \"Salt_100mM_NAC_S\"], \"y\": [0.0, 0.0, 0.0, 0.0, 0.0, 0.0, 0.0, 0.0, 0.0, 0.0, 0.0, 0.0], \"type\": \"scatter\", \"uid\": \"fe127768-3633-11ea-9c5e-79fdfc20b759\"}, {\"line\": {\"color\": \"#f697c1\", \"dash\": \"dash\", \"width\": 4}, \"mode\": \"lines+markers\", \"name\": \"Sevir.5G418900\", \"x\": [\"Salt_Control_AC_L\", \"Salt_Control_AC_S\", \"Salt_10mM_AC_L\", \"Salt_10mM_AC_S\", \"Salt_100mM_AC_L\", \"Salt_100mM_AC_S\", \"Salt_Control_NAC_L\", \"Salt_Control_NAC_S\", \"Salt_10mM_NAC_L\", \"Salt_10mM_NAC_S\", \"Salt_100mM_NAC_L\", \"Salt_100mM_NAC_S\"], \"y\": [0.0, 0.0, 0.0, 0.0, 0.0, 0.0, 0.0, 0.0, 0.0, 0.0, 0.2, 0.0], \"type\": \"scatter\", \"uid\": \"fe127920-3633-11ea-9c5e-79fdfc20b759\"}, {\"line\": {\"color\": \"#ba96ce\", \"dash\": \"solid\", \"width\": 4}, \"mode\": \"lines+markers\", \"name\": \"Sevir.8G237700\", \"x\": [\"Salt_Control_AC_L\", \"Salt_Control_AC_S\", \"Salt_10mM_AC_L\", \"Salt_10mM_AC_S\", \"Salt_100mM_AC_L\", \"Salt_100mM_AC_S\", \"Salt_Control_NAC_L\", \"Salt_Control_NAC_S\", \"Salt_10mM_NAC_L\", \"Salt_10mM_NAC_S\", \"Salt_100mM_NAC_L\", \"Salt_100mM_NAC_S\"], \"y\": [0.0, 0.0, 0.0, 0.0, 0.0, 0.0, 0.0, 0.0, 0.0, 0.0, 0.0, 0.0], \"type\": \"scatter\", \"uid\": \"fe127aba-3633-11ea-9c5e-79fdfc20b759\"}, {\"line\": {\"color\": \"#679c9d\", \"dash\": \"dot\", \"width\": 4}, \"mode\": \"lines+markers\", \"name\": \"Sevir.2G177600\", \"x\": [\"Salt_Control_AC_L\", \"Salt_Control_AC_S\", \"Salt_10mM_AC_L\", \"Salt_10mM_AC_S\", \"Salt_100mM_AC_L\", \"Salt_100mM_AC_S\", \"Salt_Control_NAC_L\", \"Salt_Control_NAC_S\", \"Salt_10mM_NAC_L\", \"Salt_10mM_NAC_S\", \"Salt_100mM_NAC_L\", \"Salt_100mM_NAC_S\"], \"y\": [0.0, 0.0, 0.0, 0.0, 0.0, 0.0, 0.0, 0.0, 0.0, 0.0, 0.0, 0.0], \"type\": \"scatter\", \"uid\": \"fe127c54-3633-11ea-9c5e-79fdfc20b759\"}, {\"line\": {\"color\": \"#c6c42c\", \"dash\": \"dash\", \"width\": 4}, \"mode\": \"lines+markers\", \"name\": \"Sevir.9G253801\", \"x\": [\"Salt_Control_AC_L\", \"Salt_Control_AC_S\", \"Salt_10mM_AC_L\", \"Salt_10mM_AC_S\", \"Salt_100mM_AC_L\", \"Salt_100mM_AC_S\", \"Salt_Control_NAC_L\", \"Salt_Control_NAC_S\", \"Salt_10mM_NAC_L\", \"Salt_10mM_NAC_S\", \"Salt_100mM_NAC_L\", \"Salt_100mM_NAC_S\"], \"y\": [0.0, 0.0, 0.0, 0.0, 0.0, 0.0, 0.0, 0.0, 0.0, 0.0, 0.0, 0.0], \"type\": \"scatter\", \"uid\": \"fe127df8-3633-11ea-9c5e-79fdfc20b759\"}, {\"line\": {\"color\": \"#5d2c52\", \"dash\": \"solid\", \"width\": 4}, \"mode\": \"lines+markers\", \"name\": \"Sevir.6G183566\", \"x\": [\"Salt_Control_AC_L\", \"Salt_Control_AC_S\", \"Salt_10mM_AC_L\", \"Salt_10mM_AC_S\", \"Salt_100mM_AC_L\", \"Salt_100mM_AC_S\", \"Salt_Control_NAC_L\", \"Salt_Control_NAC_S\", \"Salt_10mM_NAC_L\", \"Salt_10mM_NAC_S\", \"Salt_100mM_NAC_L\", \"Salt_100mM_NAC_S\"], \"y\": [0.0, 0.0, 0.0, 0.0, 0.0, 0.0, 0.0, 0.0, 0.0, 0.2, 0.0, 0.0], \"type\": \"scatter\", \"uid\": \"fe127f9c-3633-11ea-9c5e-79fdfc20b759\"}, {\"line\": {\"color\": \"#48b41b\", \"dash\": \"dot\", \"width\": 4}, \"mode\": \"lines+markers\", \"name\": \"Sevir.8G259500\", \"x\": [\"Salt_Control_AC_L\", \"Salt_Control_AC_S\", \"Salt_10mM_AC_L\", \"Salt_10mM_AC_S\", \"Salt_100mM_AC_L\", \"Salt_100mM_AC_S\", \"Salt_Control_NAC_L\", \"Salt_Control_NAC_S\", \"Salt_10mM_NAC_L\", \"Salt_10mM_NAC_S\", \"Salt_100mM_NAC_L\", \"Salt_100mM_NAC_S\"], \"y\": [0.6094966666666667, 0.69501, 0.0, 3.0482549999999997, 0.2, 0.2, 0.2, 0.4, 0.0, 2.8, 1.0, 1.2], \"type\": \"scatter\", \"uid\": \"fe128136-3633-11ea-9c5e-79fdfc20b759\"}, {\"line\": {\"color\": \"#e1cf3b\", \"dash\": \"dash\", \"width\": 4}, \"mode\": \"lines+markers\", \"name\": \"Sevir.5G036550\", \"x\": [\"Salt_Control_AC_L\", \"Salt_Control_AC_S\", \"Salt_10mM_AC_L\", \"Salt_10mM_AC_S\", \"Salt_100mM_AC_L\", \"Salt_100mM_AC_S\", \"Salt_Control_NAC_L\", \"Salt_Control_NAC_S\", \"Salt_10mM_NAC_L\", \"Salt_10mM_NAC_S\", \"Salt_100mM_NAC_L\", \"Salt_100mM_NAC_S\"], \"y\": [0.3333333333333333, 0.8, 0.25, 0.0, 0.601234, 0.0, 0.0, 0.0, 0.0, 0.0, 0.2, 0.0], \"type\": \"scatter\", \"uid\": \"fe1282d0-3633-11ea-9c5e-79fdfc20b759\"}, {\"line\": {\"color\": \"#5be4f0\", \"dash\": \"solid\", \"width\": 4}, \"mode\": \"lines+markers\", \"name\": \"Sevir.7G279700\", \"x\": [\"Salt_Control_AC_L\", \"Salt_Control_AC_S\", \"Salt_10mM_AC_L\", \"Salt_10mM_AC_S\", \"Salt_100mM_AC_L\", \"Salt_100mM_AC_S\", \"Salt_Control_NAC_L\", \"Salt_Control_NAC_S\", \"Salt_10mM_NAC_L\", \"Salt_10mM_NAC_S\", \"Salt_100mM_NAC_L\", \"Salt_100mM_NAC_S\"], \"y\": [0.0, 0.0, 0.0, 0.0, 0.0, 0.4, 0.0, 0.0, 0.0, 0.0, 0.2, 1.0], \"type\": \"scatter\", \"uid\": \"fe128474-3633-11ea-9c5e-79fdfc20b759\"}, {\"line\": {\"color\": \"#57c4d8\", \"dash\": \"dot\", \"width\": 4}, \"mode\": \"lines+markers\", \"name\": \"Sevir.8G068450\", \"x\": [\"Salt_Control_AC_L\", \"Salt_Control_AC_S\", \"Salt_10mM_AC_L\", \"Salt_10mM_AC_S\", \"Salt_100mM_AC_L\", \"Salt_100mM_AC_S\", \"Salt_Control_NAC_L\", \"Salt_Control_NAC_S\", \"Salt_10mM_NAC_L\", \"Salt_10mM_NAC_S\", \"Salt_100mM_NAC_L\", \"Salt_100mM_NAC_S\"], \"y\": [0.0, 0.0, 0.0, 0.0, 0.0, 0.0, 0.0, 0.0, 0.0, 0.0, 0.0, 0.0], \"type\": \"scatter\", \"uid\": \"fe128618-3633-11ea-9c5e-79fdfc20b759\"}, {\"line\": {\"color\": \"#a4d17a\", \"dash\": \"dash\", \"width\": 4}, \"mode\": \"lines+markers\", \"name\": \"Sevir.9G576750\", \"x\": [\"Salt_Control_AC_L\", \"Salt_Control_AC_S\", \"Salt_10mM_AC_L\", \"Salt_10mM_AC_S\", \"Salt_100mM_AC_L\", \"Salt_100mM_AC_S\", \"Salt_Control_NAC_L\", \"Salt_Control_NAC_S\", \"Salt_10mM_NAC_L\", \"Salt_10mM_NAC_S\", \"Salt_100mM_NAC_L\", \"Salt_100mM_NAC_S\"], \"y\": [2.0, 1.2, 0.0, 9.0, 0.6, 0.0, 0.6, 0.6, 1.0, 0.4, 0.8, 1.2], \"type\": \"scatter\", \"uid\": \"fe1287b2-3633-11ea-9c5e-79fdfc20b759\"}, {\"line\": {\"color\": \"#225b8e\", \"dash\": \"solid\", \"width\": 4}, \"mode\": \"lines+markers\", \"name\": \"Sevir.9G248533\", \"x\": [\"Salt_Control_AC_L\", \"Salt_Control_AC_S\", \"Salt_10mM_AC_L\", \"Salt_10mM_AC_S\", \"Salt_100mM_AC_L\", \"Salt_100mM_AC_S\", \"Salt_Control_NAC_L\", \"Salt_Control_NAC_S\", \"Salt_10mM_NAC_L\", \"Salt_10mM_NAC_S\", \"Salt_100mM_NAC_L\", \"Salt_100mM_NAC_S\"], \"y\": [0.0, 0.4, 0.0, 0.0, 0.0, 0.2, 0.2, 0.0, 0.4, 0.8, 1.2, 0.8], \"type\": \"scatter\", \"uid\": \"fe128956-3633-11ea-9c5e-79fdfc20b759\"}, {\"line\": {\"color\": \"#be608b\", \"dash\": \"dot\", \"width\": 4}, \"mode\": \"lines+markers\", \"name\": \"Sevir.1G379100\", \"x\": [\"Salt_Control_AC_L\", \"Salt_Control_AC_S\", \"Salt_10mM_AC_L\", \"Salt_10mM_AC_S\", \"Salt_100mM_AC_L\", \"Salt_100mM_AC_S\", \"Salt_Control_NAC_L\", \"Salt_Control_NAC_S\", \"Salt_10mM_NAC_L\", \"Salt_10mM_NAC_S\", \"Salt_100mM_NAC_L\", \"Salt_100mM_NAC_S\"], \"y\": [4.957846666666666, 2.792786, 1.9474025, 8.485154999999999, 5.512532, 1.8272559999999998, 7.675806, 0.312352, 8.920468, 4.4939480000000005, 13.577869999999999, 2.051896], \"type\": \"scatter\", \"uid\": \"fe128af0-3633-11ea-9c5e-79fdfc20b759\"}, {\"line\": {\"color\": \"#96b00c\", \"dash\": \"dash\", \"width\": 4}, \"mode\": \"lines+markers\", \"name\": \"Sevir.8G222414\", \"x\": [\"Salt_Control_AC_L\", \"Salt_Control_AC_S\", \"Salt_10mM_AC_L\", \"Salt_10mM_AC_S\", \"Salt_100mM_AC_L\", \"Salt_100mM_AC_S\", \"Salt_Control_NAC_L\", \"Salt_Control_NAC_S\", \"Salt_10mM_NAC_L\", \"Salt_10mM_NAC_S\", \"Salt_100mM_NAC_L\", \"Salt_100mM_NAC_S\"], \"y\": [1.6666666666666667, 0.0, 0.25, 0.0, 0.8, 0.0, 0.0, 0.0, 0.253878, 1.37815, 0.8, 0.4], \"type\": \"scatter\", \"uid\": \"fe128c94-3633-11ea-9c5e-79fdfc20b759\"}, {\"line\": {\"color\": \"#088baf\", \"dash\": \"solid\", \"width\": 4}, \"mode\": \"lines+markers\", \"name\": \"Sevir.6G039200\", \"x\": [\"Salt_Control_AC_L\", \"Salt_Control_AC_S\", \"Salt_10mM_AC_L\", \"Salt_10mM_AC_S\", \"Salt_100mM_AC_L\", \"Salt_100mM_AC_S\", \"Salt_Control_NAC_L\", \"Salt_Control_NAC_S\", \"Salt_10mM_NAC_L\", \"Salt_10mM_NAC_S\", \"Salt_100mM_NAC_L\", \"Salt_100mM_NAC_S\"], \"y\": [2.3630766666666667, 0.49008, 0.0, 0.525995, 3.422004, 0.8670920000000001, 0.51886, 0.5857140000000001, 1.9226459999999999, 0.0, 1.378464, 0.57945], \"type\": \"scatter\", \"uid\": \"fe128e2e-3633-11ea-9c5e-79fdfc20b759\"}, {\"line\": {\"color\": \"#f158bf\", \"dash\": \"dot\", \"width\": 4}, \"mode\": \"lines+markers\", \"name\": \"Sevir.6G075100\", \"x\": [\"Salt_Control_AC_L\", \"Salt_Control_AC_S\", \"Salt_10mM_AC_L\", \"Salt_10mM_AC_S\", \"Salt_100mM_AC_L\", \"Salt_100mM_AC_S\", \"Salt_Control_NAC_L\", \"Salt_Control_NAC_S\", \"Salt_10mM_NAC_L\", \"Salt_10mM_NAC_S\", \"Salt_100mM_NAC_L\", \"Salt_100mM_NAC_S\"], \"y\": [0.0, 0.0, 0.0, 0.0, 0.0, 0.0, 0.0, 0.0, 0.0, 0.0, 0.0, 0.0], \"type\": \"scatter\", \"uid\": \"fe128fd2-3633-11ea-9c5e-79fdfc20b759\"}, {\"line\": {\"color\": \"#e145ba\", \"dash\": \"dash\", \"width\": 4}, \"mode\": \"lines+markers\", \"name\": \"Sevir.3G331800\", \"x\": [\"Salt_Control_AC_L\", \"Salt_Control_AC_S\", \"Salt_10mM_AC_L\", \"Salt_10mM_AC_S\", \"Salt_100mM_AC_L\", \"Salt_100mM_AC_S\", \"Salt_Control_NAC_L\", \"Salt_Control_NAC_S\", \"Salt_10mM_NAC_L\", \"Salt_10mM_NAC_S\", \"Salt_100mM_NAC_L\", \"Salt_100mM_NAC_S\"], \"y\": [0.0, 0.0, 0.25, 0.0, 0.6, 0.2, 1.0, 0.6, 0.8, 2.2, 1.2, 1.4], \"type\": \"scatter\", \"uid\": \"fe129252-3633-11ea-9c5e-79fdfc20b759\"}, {\"line\": {\"color\": \"#ee91e3\", \"dash\": \"solid\", \"width\": 4}, \"mode\": \"lines+markers\", \"name\": \"Sevir.4G164200\", \"x\": [\"Salt_Control_AC_L\", \"Salt_Control_AC_S\", \"Salt_10mM_AC_L\", \"Salt_10mM_AC_S\", \"Salt_100mM_AC_L\", \"Salt_100mM_AC_S\", \"Salt_Control_NAC_L\", \"Salt_Control_NAC_S\", \"Salt_10mM_NAC_L\", \"Salt_10mM_NAC_S\", \"Salt_100mM_NAC_L\", \"Salt_100mM_NAC_S\"], \"y\": [0.0, 0.2, 0.0, 0.0, 0.0, 0.0, 0.2, 0.0, 0.8, 0.0, 0.0, 0.0], \"type\": \"scatter\", \"uid\": \"fe129400-3633-11ea-9c5e-79fdfc20b759\"}, {\"line\": {\"color\": \"#05d371\", \"dash\": \"dot\", \"width\": 4}, \"mode\": \"lines+markers\", \"name\": \"Sevir.9G347733\", \"x\": [\"Salt_Control_AC_L\", \"Salt_Control_AC_S\", \"Salt_10mM_AC_L\", \"Salt_10mM_AC_S\", \"Salt_100mM_AC_L\", \"Salt_100mM_AC_S\", \"Salt_Control_NAC_L\", \"Salt_Control_NAC_S\", \"Salt_10mM_NAC_L\", \"Salt_10mM_NAC_S\", \"Salt_100mM_NAC_L\", \"Salt_100mM_NAC_S\"], \"y\": [1.0, 0.4, 0.0, 1.0, 0.6, 0.8, 0.2, 0.0, 1.0, 0.8, 0.4, 0.2], \"type\": \"scatter\", \"uid\": \"fe1295a4-3633-11ea-9c5e-79fdfc20b759\"}, {\"line\": {\"color\": \"#5426e0\", \"dash\": \"dash\", \"width\": 4}, \"mode\": \"lines+markers\", \"name\": \"Sevir.2G396750\", \"x\": [\"Salt_Control_AC_L\", \"Salt_Control_AC_S\", \"Salt_10mM_AC_L\", \"Salt_10mM_AC_S\", \"Salt_100mM_AC_L\", \"Salt_100mM_AC_S\", \"Salt_Control_NAC_L\", \"Salt_Control_NAC_S\", \"Salt_10mM_NAC_L\", \"Salt_10mM_NAC_S\", \"Salt_100mM_NAC_L\", \"Salt_100mM_NAC_S\"], \"y\": [0.0, 0.0, 0.0, 0.0, 0.0, 0.0, 0.0, 0.0, 0.0, 0.0, 0.0, 0.2], \"type\": \"scatter\", \"uid\": \"fe12973e-3633-11ea-9c5e-79fdfc20b759\"}, {\"line\": {\"color\": \"#4834d0\", \"dash\": \"solid\", \"width\": 4}, \"mode\": \"lines+markers\", \"name\": \"Sevir.3G116100\", \"x\": [\"Salt_Control_AC_L\", \"Salt_Control_AC_S\", \"Salt_10mM_AC_L\", \"Salt_10mM_AC_S\", \"Salt_100mM_AC_L\", \"Salt_100mM_AC_S\", \"Salt_Control_NAC_L\", \"Salt_Control_NAC_S\", \"Salt_10mM_NAC_L\", \"Salt_10mM_NAC_S\", \"Salt_100mM_NAC_L\", \"Salt_100mM_NAC_S\"], \"y\": [0.0, 0.2, 0.0, 0.5, 0.2, 0.0, 0.0, 0.2, 0.0, 0.2, 0.0, 0.0], \"type\": \"scatter\", \"uid\": \"fe1298ce-3633-11ea-9c5e-79fdfc20b759\"}, {\"line\": {\"color\": \"#802234\", \"dash\": \"dot\", \"width\": 4}, \"mode\": \"lines+markers\", \"name\": \"Sevir.7G061100\", \"x\": [\"Salt_Control_AC_L\", \"Salt_Control_AC_S\", \"Salt_10mM_AC_L\", \"Salt_10mM_AC_S\", \"Salt_100mM_AC_L\", \"Salt_100mM_AC_S\", \"Salt_Control_NAC_L\", \"Salt_Control_NAC_S\", \"Salt_10mM_NAC_L\", \"Salt_10mM_NAC_S\", \"Salt_100mM_NAC_L\", \"Salt_100mM_NAC_S\"], \"y\": [0.0, 0.0, 0.0, 0.0, 0.0, 0.0, 0.0, 0.0, 0.0, 0.0, 0.0, 0.0], \"type\": \"scatter\", \"uid\": \"fe129a68-3633-11ea-9c5e-79fdfc20b759\"}, {\"line\": {\"color\": \"#6749e8\", \"dash\": \"dash\", \"width\": 4}, \"mode\": \"lines+markers\", \"name\": \"Sevir.2G307100\", \"x\": [\"Salt_Control_AC_L\", \"Salt_Control_AC_S\", \"Salt_10mM_AC_L\", \"Salt_10mM_AC_S\", \"Salt_100mM_AC_L\", \"Salt_100mM_AC_S\", \"Salt_Control_NAC_L\", \"Salt_Control_NAC_S\", \"Salt_10mM_NAC_L\", \"Salt_10mM_NAC_S\", \"Salt_100mM_NAC_L\", \"Salt_100mM_NAC_S\"], \"y\": [0.0, 0.0, 0.0, 0.0, 1.4, 1.0, 0.0, 0.0, 0.0, 0.2, 1.8, 0.4], \"type\": \"scatter\", \"uid\": \"fe129c02-3633-11ea-9c5e-79fdfc20b759\"}, {\"line\": {\"color\": \"#0971f0\", \"dash\": \"solid\", \"width\": 4}, \"mode\": \"lines+markers\", \"name\": \"Sevir.5G087400\", \"x\": [\"Salt_Control_AC_L\", \"Salt_Control_AC_S\", \"Salt_10mM_AC_L\", \"Salt_10mM_AC_S\", \"Salt_100mM_AC_L\", \"Salt_100mM_AC_S\", \"Salt_Control_NAC_L\", \"Salt_Control_NAC_S\", \"Salt_10mM_NAC_L\", \"Salt_10mM_NAC_S\", \"Salt_100mM_NAC_L\", \"Salt_100mM_NAC_S\"], \"y\": [0.0, 0.0, 0.25, 0.0, 0.0, 0.0, 0.0, 0.0, 0.0, 0.0, 0.2, 0.0], \"type\": \"scatter\", \"uid\": \"fe129d9c-3633-11ea-9c5e-79fdfc20b759\"}, {\"line\": {\"color\": \"#8fb413\", \"dash\": \"dot\", \"width\": 4}, \"mode\": \"lines+markers\", \"name\": \"Sevir.7G005300\", \"x\": [\"Salt_Control_AC_L\", \"Salt_Control_AC_S\", \"Salt_10mM_AC_L\", \"Salt_10mM_AC_S\", \"Salt_100mM_AC_L\", \"Salt_100mM_AC_S\", \"Salt_Control_NAC_L\", \"Salt_Control_NAC_S\", \"Salt_10mM_NAC_L\", \"Salt_10mM_NAC_S\", \"Salt_100mM_NAC_L\", \"Salt_100mM_NAC_S\"], \"y\": [0.0, 0.0, 0.0, 0.0, 0.0, 0.4, 1.2, 0.0, 0.0, 0.0, 0.0, 0.0], \"type\": \"scatter\", \"uid\": \"fe129f36-3633-11ea-9c5e-79fdfc20b759\"}, {\"line\": {\"color\": \"#b2b4f0\", \"dash\": \"dash\", \"width\": 4}, \"mode\": \"lines+markers\", \"name\": \"Sevir.2G026100\", \"x\": [\"Salt_Control_AC_L\", \"Salt_Control_AC_S\", \"Salt_10mM_AC_L\", \"Salt_10mM_AC_S\", \"Salt_100mM_AC_L\", \"Salt_100mM_AC_S\", \"Salt_Control_NAC_L\", \"Salt_Control_NAC_S\", \"Salt_10mM_NAC_L\", \"Salt_10mM_NAC_S\", \"Salt_100mM_NAC_L\", \"Salt_100mM_NAC_S\"], \"y\": [0.0, 0.0, 0.0, 0.5, 0.2, 0.8, 0.8, 0.0, 0.0, 0.8, 0.6, 0.2], \"type\": \"scatter\", \"uid\": \"fe12a0d0-3633-11ea-9c5e-79fdfc20b759\"}, {\"line\": {\"color\": \"#c3c89d\", \"dash\": \"solid\", \"width\": 4}, \"mode\": \"lines+markers\", \"name\": \"Sevir.9G072900\", \"x\": [\"Salt_Control_AC_L\", \"Salt_Control_AC_S\", \"Salt_10mM_AC_L\", \"Salt_10mM_AC_S\", \"Salt_100mM_AC_L\", \"Salt_100mM_AC_S\", \"Salt_Control_NAC_L\", \"Salt_Control_NAC_S\", \"Salt_10mM_NAC_L\", \"Salt_10mM_NAC_S\", \"Salt_100mM_NAC_L\", \"Salt_100mM_NAC_S\"], \"y\": [0.3333333333333333, 0.0, 0.0, 0.5, 0.4, 0.8, 0.4, 0.0, 0.8, 0.0, 0.4, 0.6], \"type\": \"scatter\", \"uid\": \"fe12a328-3633-11ea-9c5e-79fdfc20b759\"}], {\"dragmode\": \"select\", \"plot_bgcolor\": \"white\", \"title\": \"Average Gene Expression - Salt\", \"xaxis\": {\"gridcolor\": \"whitesmoke\", \"showgrid\": true, \"title\": \"Experimental Conditions\"}, \"yaxis\": {\"gridcolor\": \"whitesmoke\", \"showgrid\": true, \"title\": \"Expression\"}}, {\"showLink\": true, \"linkText\": \"Export to plot.ly\"})});</script>"
      ],
      "text/vnd.plotly.v1+html": [
       "<div id=\"787cf7b9-5718-4b87-bf2f-3a1eb1128fd7\" style=\"height: 525px; width: 100%;\" class=\"plotly-graph-div\"></div><script type=\"text/javascript\">require([\"plotly\"], function(Plotly) { window.PLOTLYENV=window.PLOTLYENV || {};window.PLOTLYENV.BASE_URL=\"https://plot.ly\";Plotly.newPlot(\"787cf7b9-5718-4b87-bf2f-3a1eb1128fd7\", [{\"line\": {\"color\": \"#ce7d78\", \"dash\": \"dot\", \"width\": 4}, \"mode\": \"lines+markers\", \"name\": \"Sevir.9G282425\", \"x\": [\"Salt_Control_AC_L\", \"Salt_Control_AC_S\", \"Salt_10mM_AC_L\", \"Salt_10mM_AC_S\", \"Salt_100mM_AC_L\", \"Salt_100mM_AC_S\", \"Salt_Control_NAC_L\", \"Salt_Control_NAC_S\", \"Salt_10mM_NAC_L\", \"Salt_10mM_NAC_S\", \"Salt_100mM_NAC_L\", \"Salt_100mM_NAC_S\"], \"y\": [0.3333333333333333, 0.0, 0.75, 0.0, 1.0, 0.0, 0.0, 0.0, 0.0, 0.0, 0.2, 0.0], \"type\": \"scatter\", \"uid\": \"fe1216a6-3633-11ea-9c5e-79fdfc20b759\"}, {\"line\": {\"color\": \"#ea9e70\", \"dash\": \"dash\", \"width\": 4}, \"mode\": \"lines+markers\", \"name\": \"Sevir.7G018910\", \"x\": [\"Salt_Control_AC_L\", \"Salt_Control_AC_S\", \"Salt_10mM_AC_L\", \"Salt_10mM_AC_S\", \"Salt_100mM_AC_L\", \"Salt_100mM_AC_S\", \"Salt_Control_NAC_L\", \"Salt_Control_NAC_S\", \"Salt_10mM_NAC_L\", \"Salt_10mM_NAC_S\", \"Salt_100mM_NAC_L\", \"Salt_100mM_NAC_S\"], \"y\": [0.0, 0.0, 0.0, 0.0, 0.0, 0.0, 0.0, 0.0, 0.0, 0.0, 0.0, 0.0], \"type\": \"scatter\", \"uid\": \"fe121ad4-3633-11ea-9c5e-79fdfc20b759\"}, {\"line\": {\"color\": \"#a48a9e\", \"dash\": \"solid\", \"width\": 4}, \"mode\": \"lines+markers\", \"name\": \"Sevir.5G044500\", \"x\": [\"Salt_Control_AC_L\", \"Salt_Control_AC_S\", \"Salt_10mM_AC_L\", \"Salt_10mM_AC_S\", \"Salt_100mM_AC_L\", \"Salt_100mM_AC_S\", \"Salt_Control_NAC_L\", \"Salt_Control_NAC_S\", \"Salt_10mM_NAC_L\", \"Salt_10mM_NAC_S\", \"Salt_100mM_NAC_L\", \"Salt_100mM_NAC_S\"], \"y\": [0.0, 0.0, 0.0, 0.0, 0.0, 0.0, 0.0, 0.0, 0.0, 0.0, 0.4, 0.0], \"type\": \"scatter\", \"uid\": \"fe121e80-3633-11ea-9c5e-79fdfc20b759\"}, {\"line\": {\"color\": \"#c6e1e8\", \"dash\": \"dot\", \"width\": 4}, \"mode\": \"lines+markers\", \"name\": \"Sevir.2G127900\", \"x\": [\"Salt_Control_AC_L\", \"Salt_Control_AC_S\", \"Salt_10mM_AC_L\", \"Salt_10mM_AC_S\", \"Salt_100mM_AC_L\", \"Salt_100mM_AC_S\", \"Salt_Control_NAC_L\", \"Salt_Control_NAC_S\", \"Salt_10mM_NAC_L\", \"Salt_10mM_NAC_S\", \"Salt_100mM_NAC_L\", \"Salt_100mM_NAC_S\"], \"y\": [0.3333333333333333, 0.0, 0.0, 0.0, 0.4, 0.0, 0.2, 0.0, 0.0, 0.0, 1.0, 0.0], \"type\": \"scatter\", \"uid\": \"fe122088-3633-11ea-9c5e-79fdfc20b759\"}, {\"line\": {\"color\": \"#648177\", \"dash\": \"dash\", \"width\": 4}, \"mode\": \"lines+markers\", \"name\": \"Sevir.5G129000\", \"x\": [\"Salt_Control_AC_L\", \"Salt_Control_AC_S\", \"Salt_10mM_AC_L\", \"Salt_10mM_AC_S\", \"Salt_100mM_AC_L\", \"Salt_100mM_AC_S\", \"Salt_Control_NAC_L\", \"Salt_Control_NAC_S\", \"Salt_10mM_NAC_L\", \"Salt_10mM_NAC_S\", \"Salt_100mM_NAC_L\", \"Salt_100mM_NAC_S\"], \"y\": [3.5500666666666665, 0.6744519999999999, 0.7901375, 10.05442, 3.523276, 0.435388, 7.200788, 0.715742, 4.8578280000000005, 0.898112, 2.703496, 0.736294], \"type\": \"scatter\", \"uid\": \"fe12224a-3633-11ea-9c5e-79fdfc20b759\"}, {\"line\": {\"color\": \"#0d5ac1\", \"dash\": \"solid\", \"width\": 4}, \"mode\": \"lines+markers\", \"name\": \"Sevir.2G354400\", \"x\": [\"Salt_Control_AC_L\", \"Salt_Control_AC_S\", \"Salt_10mM_AC_L\", \"Salt_10mM_AC_S\", \"Salt_100mM_AC_L\", \"Salt_100mM_AC_S\", \"Salt_Control_NAC_L\", \"Salt_Control_NAC_S\", \"Salt_10mM_NAC_L\", \"Salt_10mM_NAC_S\", \"Salt_100mM_NAC_L\", \"Salt_100mM_NAC_S\"], \"y\": [0.0, 0.0, 0.0, 0.0, 0.0, 0.0, 0.0, 0.0, 0.0, 0.0, 0.0, 0.0], \"type\": \"scatter\", \"uid\": \"fe12240c-3633-11ea-9c5e-79fdfc20b759\"}, {\"line\": {\"color\": \"#f205e6\", \"dash\": \"dot\", \"width\": 4}, \"mode\": \"lines+markers\", \"name\": \"Sevir.2G152600\", \"x\": [\"Salt_Control_AC_L\", \"Salt_Control_AC_S\", \"Salt_10mM_AC_L\", \"Salt_10mM_AC_S\", \"Salt_100mM_AC_L\", \"Salt_100mM_AC_S\", \"Salt_Control_NAC_L\", \"Salt_Control_NAC_S\", \"Salt_10mM_NAC_L\", \"Salt_10mM_NAC_S\", \"Salt_100mM_NAC_L\", \"Salt_100mM_NAC_S\"], \"y\": [0.3333333333333333, 0.0, 0.0, 0.0, 0.0, 0.0, 0.0, 0.0, 0.0, 0.0, 0.0, 0.0], \"type\": \"scatter\", \"uid\": \"fe1225c4-3633-11ea-9c5e-79fdfc20b759\"}, {\"line\": {\"color\": \"#1c0365\", \"dash\": \"dash\", \"width\": 4}, \"mode\": \"lines+markers\", \"name\": \"Sevir.7G023700\", \"x\": [\"Salt_Control_AC_L\", \"Salt_Control_AC_S\", \"Salt_10mM_AC_L\", \"Salt_10mM_AC_S\", \"Salt_100mM_AC_L\", \"Salt_100mM_AC_S\", \"Salt_Control_NAC_L\", \"Salt_Control_NAC_S\", \"Salt_10mM_NAC_L\", \"Salt_10mM_NAC_S\", \"Salt_100mM_NAC_L\", \"Salt_100mM_NAC_S\"], \"y\": [0.91036, 0.26849599999999996, 0.0, 0.0, 0.0, 0.20067400000000002, 0.0, 0.0, 0.0, 0.2, 0.5437540000000001, 0.0], \"type\": \"scatter\", \"uid\": \"fe122768-3633-11ea-9c5e-79fdfc20b759\"}, {\"line\": {\"color\": \"#14a9ad\", \"dash\": \"solid\", \"width\": 4}, \"mode\": \"lines+markers\", \"name\": \"Sevir.4G118900\", \"x\": [\"Salt_Control_AC_L\", \"Salt_Control_AC_S\", \"Salt_10mM_AC_L\", \"Salt_10mM_AC_S\", \"Salt_100mM_AC_L\", \"Salt_100mM_AC_S\", \"Salt_Control_NAC_L\", \"Salt_Control_NAC_S\", \"Salt_10mM_NAC_L\", \"Salt_10mM_NAC_S\", \"Salt_100mM_NAC_L\", \"Salt_100mM_NAC_S\"], \"y\": [0.0, 0.0, 1.0, 1.0, 1.0, 0.2, 1.6, 0.0, 0.8, 0.4, 1.2, 0.0], \"type\": \"scatter\", \"uid\": \"fe122920-3633-11ea-9c5e-79fdfc20b759\"}, {\"line\": {\"color\": \"#4ca2f9\", \"dash\": \"dot\", \"width\": 4}, \"mode\": \"lines+markers\", \"name\": \"Sevir.8G081600\", \"x\": [\"Salt_Control_AC_L\", \"Salt_Control_AC_S\", \"Salt_10mM_AC_L\", \"Salt_10mM_AC_S\", \"Salt_100mM_AC_L\", \"Salt_100mM_AC_S\", \"Salt_Control_NAC_L\", \"Salt_Control_NAC_S\", \"Salt_10mM_NAC_L\", \"Salt_10mM_NAC_S\", \"Salt_100mM_NAC_L\", \"Salt_100mM_NAC_S\"], \"y\": [0.0, 0.0, 0.0, 2.49837, 0.0, 0.1997434, 0.0, 0.0, 0.0, 0.1998164, 0.0, 1.998478], \"type\": \"scatter\", \"uid\": \"fe122ac4-3633-11ea-9c5e-79fdfc20b759\"}, {\"line\": {\"color\": \"#a4e43f\", \"dash\": \"dash\", \"width\": 4}, \"mode\": \"lines+markers\", \"name\": \"Sevir.5G364132\", \"x\": [\"Salt_Control_AC_L\", \"Salt_Control_AC_S\", \"Salt_10mM_AC_L\", \"Salt_10mM_AC_S\", \"Salt_100mM_AC_L\", \"Salt_100mM_AC_S\", \"Salt_Control_NAC_L\", \"Salt_Control_NAC_S\", \"Salt_10mM_NAC_L\", \"Salt_10mM_NAC_S\", \"Salt_100mM_NAC_L\", \"Salt_100mM_NAC_S\"], \"y\": [0.0, 0.0, 0.0, 0.0, 0.0, 0.0, 0.0, 0.0, 0.0, 1.2, 1.0, 0.0], \"type\": \"scatter\", \"uid\": \"fe122d26-3633-11ea-9c5e-79fdfc20b759\"}, {\"line\": {\"color\": \"#d298e2\", \"dash\": \"solid\", \"width\": 4}, \"mode\": \"lines+markers\", \"name\": \"Sevir.4G263301\", \"x\": [\"Salt_Control_AC_L\", \"Salt_Control_AC_S\", \"Salt_10mM_AC_L\", \"Salt_10mM_AC_S\", \"Salt_100mM_AC_L\", \"Salt_100mM_AC_S\", \"Salt_Control_NAC_L\", \"Salt_Control_NAC_S\", \"Salt_10mM_NAC_L\", \"Salt_10mM_NAC_S\", \"Salt_100mM_NAC_L\", \"Salt_100mM_NAC_S\"], \"y\": [0.0, 0.0, 0.0, 0.0, 0.4, 0.0, 0.0, 0.0, 0.6, 0.2, 0.0, 0.0], \"type\": \"scatter\", \"uid\": \"fe122ee8-3633-11ea-9c5e-79fdfc20b759\"}, {\"line\": {\"color\": \"#6119d0\", \"dash\": \"dot\", \"width\": 4}, \"mode\": \"lines+markers\", \"name\": \"Sevir.9G099466\", \"x\": [\"Salt_Control_AC_L\", \"Salt_Control_AC_S\", \"Salt_10mM_AC_L\", \"Salt_10mM_AC_S\", \"Salt_100mM_AC_L\", \"Salt_100mM_AC_S\", \"Salt_Control_NAC_L\", \"Salt_Control_NAC_S\", \"Salt_10mM_NAC_L\", \"Salt_10mM_NAC_S\", \"Salt_100mM_NAC_L\", \"Salt_100mM_NAC_S\"], \"y\": [0.0, 0.4, 0.0, 0.0, 0.0, 0.0, 0.0, 0.0, 0.0, 0.0, 0.0, 0.8], \"type\": \"scatter\", \"uid\": \"fe123096-3633-11ea-9c5e-79fdfc20b759\"}, {\"line\": {\"color\": \"#d2737d\", \"dash\": \"dash\", \"width\": 4}, \"mode\": \"lines+markers\", \"name\": \"Sevir.9G078500\", \"x\": [\"Salt_Control_AC_L\", \"Salt_Control_AC_S\", \"Salt_10mM_AC_L\", \"Salt_10mM_AC_S\", \"Salt_100mM_AC_L\", \"Salt_100mM_AC_S\", \"Salt_Control_NAC_L\", \"Salt_Control_NAC_S\", \"Salt_10mM_NAC_L\", \"Salt_10mM_NAC_S\", \"Salt_100mM_NAC_L\", \"Salt_100mM_NAC_S\"], \"y\": [0.0, 0.0, 0.0, 0.0, 0.0, 0.0, 0.0, 0.0, 0.6, 0.2, 0.0, 0.0], \"type\": \"scatter\", \"uid\": \"fe123230-3633-11ea-9c5e-79fdfc20b759\"}, {\"line\": {\"color\": \"#c0a43c\", \"dash\": \"solid\", \"width\": 4}, \"mode\": \"lines+markers\", \"name\": \"Sevir.2G263800\", \"x\": [\"Salt_Control_AC_L\", \"Salt_Control_AC_S\", \"Salt_10mM_AC_L\", \"Salt_10mM_AC_S\", \"Salt_100mM_AC_L\", \"Salt_100mM_AC_S\", \"Salt_Control_NAC_L\", \"Salt_Control_NAC_S\", \"Salt_10mM_NAC_L\", \"Salt_10mM_NAC_S\", \"Salt_100mM_NAC_L\", \"Salt_100mM_NAC_S\"], \"y\": [0.0, 0.0, 0.0, 0.0, 0.0, 0.0, 0.0, 0.0, 0.0, 0.0, 0.0, 0.0], \"type\": \"scatter\", \"uid\": \"fe1233d4-3633-11ea-9c5e-79fdfc20b759\"}, {\"line\": {\"color\": \"#f2510e\", \"dash\": \"dot\", \"width\": 4}, \"mode\": \"lines+markers\", \"name\": \"Sevir.8G218520\", \"x\": [\"Salt_Control_AC_L\", \"Salt_Control_AC_S\", \"Salt_10mM_AC_L\", \"Salt_10mM_AC_S\", \"Salt_100mM_AC_L\", \"Salt_100mM_AC_S\", \"Salt_Control_NAC_L\", \"Salt_Control_NAC_S\", \"Salt_10mM_NAC_L\", \"Salt_10mM_NAC_S\", \"Salt_100mM_NAC_L\", \"Salt_100mM_NAC_S\"], \"y\": [0.0, 0.0, 0.0, 0.0, 0.0, 0.0, 0.0, 0.0, 0.6, 0.0, 0.0, 0.0], \"type\": \"scatter\", \"uid\": \"fe12356e-3633-11ea-9c5e-79fdfc20b759\"}, {\"line\": {\"color\": \"#651be6\", \"dash\": \"dash\", \"width\": 4}, \"mode\": \"lines+markers\", \"name\": \"Sevir.3G390900\", \"x\": [\"Salt_Control_AC_L\", \"Salt_Control_AC_S\", \"Salt_10mM_AC_L\", \"Salt_10mM_AC_S\", \"Salt_100mM_AC_L\", \"Salt_100mM_AC_S\", \"Salt_Control_NAC_L\", \"Salt_Control_NAC_S\", \"Salt_10mM_NAC_L\", \"Salt_10mM_NAC_S\", \"Salt_100mM_NAC_L\", \"Salt_100mM_NAC_S\"], \"y\": [0.0, 0.0, 0.0, 0.0, 0.0, 0.0, 0.0, 0.0, 0.0, 0.0, 0.0, 0.0], \"type\": \"scatter\", \"uid\": \"fe123708-3633-11ea-9c5e-79fdfc20b759\"}, {\"line\": {\"color\": \"#79806e\", \"dash\": \"solid\", \"width\": 4}, \"mode\": \"lines+markers\", \"name\": \"Sevir.9G165400\", \"x\": [\"Salt_Control_AC_L\", \"Salt_Control_AC_S\", \"Salt_10mM_AC_L\", \"Salt_10mM_AC_S\", \"Salt_100mM_AC_L\", \"Salt_100mM_AC_S\", \"Salt_Control_NAC_L\", \"Salt_Control_NAC_S\", \"Salt_10mM_NAC_L\", \"Salt_10mM_NAC_S\", \"Salt_100mM_NAC_L\", \"Salt_100mM_NAC_S\"], \"y\": [0.0, 0.0, 0.0, 0.0, 0.0, 0.0, 0.0, 0.0, 0.4, 0.0, 0.0, 0.0], \"type\": \"scatter\", \"uid\": \"fe1238a2-3633-11ea-9c5e-79fdfc20b759\"}, {\"line\": {\"color\": \"#61da5e\", \"dash\": \"dot\", \"width\": 4}, \"mode\": \"lines+markers\", \"name\": \"Sevir.8G245140\", \"x\": [\"Salt_Control_AC_L\", \"Salt_Control_AC_S\", \"Salt_10mM_AC_L\", \"Salt_10mM_AC_S\", \"Salt_100mM_AC_L\", \"Salt_100mM_AC_S\", \"Salt_Control_NAC_L\", \"Salt_Control_NAC_S\", \"Salt_10mM_NAC_L\", \"Salt_10mM_NAC_S\", \"Salt_100mM_NAC_L\", \"Salt_100mM_NAC_S\"], \"y\": [0.0, 0.0, 0.0, 0.0, 0.0, 0.0, 0.0, 0.2, 0.0, 0.4, 0.0, 1.6], \"type\": \"scatter\", \"uid\": \"fe123a46-3633-11ea-9c5e-79fdfc20b759\"}, {\"line\": {\"color\": \"#cd2f00\", \"dash\": \"dash\", \"width\": 4}, \"mode\": \"lines+markers\", \"name\": \"Sevir.8G087000\", \"x\": [\"Salt_Control_AC_L\", \"Salt_Control_AC_S\", \"Salt_10mM_AC_L\", \"Salt_10mM_AC_S\", \"Salt_100mM_AC_L\", \"Salt_100mM_AC_S\", \"Salt_Control_NAC_L\", \"Salt_Control_NAC_S\", \"Salt_10mM_NAC_L\", \"Salt_10mM_NAC_S\", \"Salt_100mM_NAC_L\", \"Salt_100mM_NAC_S\"], \"y\": [0.0, 0.0, 0.0, 0.0, 0.0, 0.0, 0.0, 0.0, 0.0, 0.0, 0.0, 0.0], \"type\": \"scatter\", \"uid\": \"fe123be0-3633-11ea-9c5e-79fdfc20b759\"}, {\"line\": {\"color\": \"#9348af\", \"dash\": \"solid\", \"width\": 4}, \"mode\": \"lines+markers\", \"name\": \"Sevir.9G576201\", \"x\": [\"Salt_Control_AC_L\", \"Salt_Control_AC_S\", \"Salt_10mM_AC_L\", \"Salt_10mM_AC_S\", \"Salt_100mM_AC_L\", \"Salt_100mM_AC_S\", \"Salt_Control_NAC_L\", \"Salt_Control_NAC_S\", \"Salt_10mM_NAC_L\", \"Salt_10mM_NAC_S\", \"Salt_100mM_NAC_L\", \"Salt_100mM_NAC_S\"], \"y\": [0.0, 0.0, 0.0, 2.457371, 0.0, 0.0, 0.0, 0.0, 0.0, 0.19686520000000002, 0.0, 0.0], \"type\": \"scatter\", \"uid\": \"fe123d84-3633-11ea-9c5e-79fdfc20b759\"}, {\"line\": {\"color\": \"#01ac53\", \"dash\": \"dot\", \"width\": 4}, \"mode\": \"lines+markers\", \"name\": \"Sevir.5G470750\", \"x\": [\"Salt_Control_AC_L\", \"Salt_Control_AC_S\", \"Salt_10mM_AC_L\", \"Salt_10mM_AC_S\", \"Salt_100mM_AC_L\", \"Salt_100mM_AC_S\", \"Salt_Control_NAC_L\", \"Salt_Control_NAC_S\", \"Salt_10mM_NAC_L\", \"Salt_10mM_NAC_S\", \"Salt_100mM_NAC_L\", \"Salt_100mM_NAC_S\"], \"y\": [0.6666666666666666, 1.0, 0.25, 0.0, 1.82664, 0.2, 0.0, 0.0, 0.0, 0.8, 0.8, 0.2], \"type\": \"scatter\", \"uid\": \"fe123f1e-3633-11ea-9c5e-79fdfc20b759\"}, {\"line\": {\"color\": \"#c5a4fb\", \"dash\": \"dash\", \"width\": 4}, \"mode\": \"lines+markers\", \"name\": \"Sevir.1G060850\", \"x\": [\"Salt_Control_AC_L\", \"Salt_Control_AC_S\", \"Salt_10mM_AC_L\", \"Salt_10mM_AC_S\", \"Salt_100mM_AC_L\", \"Salt_100mM_AC_S\", \"Salt_Control_NAC_L\", \"Salt_Control_NAC_S\", \"Salt_10mM_NAC_L\", \"Salt_10mM_NAC_S\", \"Salt_100mM_NAC_L\", \"Salt_100mM_NAC_S\"], \"y\": [0.0, 0.0, 0.0, 0.0, 0.0, 0.0, 0.0, 0.0, 0.0, 0.0, 0.0, 0.0], \"type\": \"scatter\", \"uid\": \"fe1240cc-3633-11ea-9c5e-79fdfc20b759\"}, {\"line\": {\"color\": \"#996635\", \"dash\": \"solid\", \"width\": 4}, \"mode\": \"lines+markers\", \"name\": \"Sevir.2G280500\", \"x\": [\"Salt_Control_AC_L\", \"Salt_Control_AC_S\", \"Salt_10mM_AC_L\", \"Salt_10mM_AC_S\", \"Salt_100mM_AC_L\", \"Salt_100mM_AC_S\", \"Salt_Control_NAC_L\", \"Salt_Control_NAC_S\", \"Salt_10mM_NAC_L\", \"Salt_10mM_NAC_S\", \"Salt_100mM_NAC_L\", \"Salt_100mM_NAC_S\"], \"y\": [0.0, 0.0, 0.0, 0.0, 0.0, 0.0, 0.0, 0.0, 0.1326804, 0.0, 0.364382, 0.0], \"type\": \"scatter\", \"uid\": \"fe12434c-3633-11ea-9c5e-79fdfc20b759\"}, {\"line\": {\"color\": \"#b11573\", \"dash\": \"dot\", \"width\": 4}, \"mode\": \"lines+markers\", \"name\": \"Sevir.9G268200\", \"x\": [\"Salt_Control_AC_L\", \"Salt_Control_AC_S\", \"Salt_10mM_AC_L\", \"Salt_10mM_AC_S\", \"Salt_100mM_AC_L\", \"Salt_100mM_AC_S\", \"Salt_Control_NAC_L\", \"Salt_Control_NAC_S\", \"Salt_10mM_NAC_L\", \"Salt_10mM_NAC_S\", \"Salt_100mM_NAC_L\", \"Salt_100mM_NAC_S\"], \"y\": [0.0, 0.0, 0.0, 0.0, 0.0, 0.0, 0.0, 0.0, 0.0, 0.0, 0.0, 0.0], \"type\": \"scatter\", \"uid\": \"fe12452c-3633-11ea-9c5e-79fdfc20b759\"}, {\"line\": {\"color\": \"#4bb473\", \"dash\": \"dash\", \"width\": 4}, \"mode\": \"lines+markers\", \"name\": \"Sevir.4G143101\", \"x\": [\"Salt_Control_AC_L\", \"Salt_Control_AC_S\", \"Salt_10mM_AC_L\", \"Salt_10mM_AC_S\", \"Salt_100mM_AC_L\", \"Salt_100mM_AC_S\", \"Salt_Control_NAC_L\", \"Salt_Control_NAC_S\", \"Salt_10mM_NAC_L\", \"Salt_10mM_NAC_S\", \"Salt_100mM_NAC_L\", \"Salt_100mM_NAC_S\"], \"y\": [0.0, 0.0, 0.0, 0.0, 0.0, 0.0, 0.0, 0.0, 0.4, 0.0, 0.6, 0.0], \"type\": \"scatter\", \"uid\": \"fe1246da-3633-11ea-9c5e-79fdfc20b759\"}, {\"line\": {\"color\": \"#75d89e\", \"dash\": \"solid\", \"width\": 4}, \"mode\": \"lines+markers\", \"name\": \"Sevir.2G342800\", \"x\": [\"Salt_Control_AC_L\", \"Salt_Control_AC_S\", \"Salt_10mM_AC_L\", \"Salt_10mM_AC_S\", \"Salt_100mM_AC_L\", \"Salt_100mM_AC_S\", \"Salt_Control_NAC_L\", \"Salt_Control_NAC_S\", \"Salt_10mM_NAC_L\", \"Salt_10mM_NAC_S\", \"Salt_100mM_NAC_L\", \"Salt_100mM_NAC_S\"], \"y\": [0.0, 0.0, 0.0, 0.0, 0.0, 0.0, 1.0, 0.0, 0.6, 0.0, 0.0, 0.0], \"type\": \"scatter\", \"uid\": \"fe12487e-3633-11ea-9c5e-79fdfc20b759\"}, {\"line\": {\"color\": \"#2f3f94\", \"dash\": \"dot\", \"width\": 4}, \"mode\": \"lines+markers\", \"name\": \"Sevir.1G019900\", \"x\": [\"Salt_Control_AC_L\", \"Salt_Control_AC_S\", \"Salt_10mM_AC_L\", \"Salt_10mM_AC_S\", \"Salt_100mM_AC_L\", \"Salt_100mM_AC_S\", \"Salt_Control_NAC_L\", \"Salt_Control_NAC_S\", \"Salt_10mM_NAC_L\", \"Salt_10mM_NAC_S\", \"Salt_100mM_NAC_L\", \"Salt_100mM_NAC_S\"], \"y\": [0.0, 0.0, 0.0, 0.0, 0.2, 0.0, 0.0, 0.0, 0.0, 0.0, 0.0, 0.0], \"type\": \"scatter\", \"uid\": \"fe124a22-3633-11ea-9c5e-79fdfc20b759\"}, {\"line\": {\"color\": \"#2f7b99\", \"dash\": \"dash\", \"width\": 4}, \"mode\": \"lines+markers\", \"name\": \"Sevir.3G353500\", \"x\": [\"Salt_Control_AC_L\", \"Salt_Control_AC_S\", \"Salt_10mM_AC_L\", \"Salt_10mM_AC_S\", \"Salt_100mM_AC_L\", \"Salt_100mM_AC_S\", \"Salt_Control_NAC_L\", \"Salt_Control_NAC_S\", \"Salt_10mM_NAC_L\", \"Salt_10mM_NAC_S\", \"Salt_100mM_NAC_L\", \"Salt_100mM_NAC_S\"], \"y\": [0.0, 0.0, 0.0, 0.0, 0.0, 0.0, 0.0, 0.2, 0.0, 0.0, 0.0, 0.0], \"type\": \"scatter\", \"uid\": \"fe124bd0-3633-11ea-9c5e-79fdfc20b759\"}, {\"line\": {\"color\": \"#da967d\", \"dash\": \"solid\", \"width\": 4}, \"mode\": \"lines+markers\", \"name\": \"Sevir.7G189700\", \"x\": [\"Salt_Control_AC_L\", \"Salt_Control_AC_S\", \"Salt_10mM_AC_L\", \"Salt_10mM_AC_S\", \"Salt_100mM_AC_L\", \"Salt_100mM_AC_S\", \"Salt_Control_NAC_L\", \"Salt_Control_NAC_S\", \"Salt_10mM_NAC_L\", \"Salt_10mM_NAC_S\", \"Salt_100mM_NAC_L\", \"Salt_100mM_NAC_S\"], \"y\": [0.0, 0.0, 0.0, 0.0, 0.0, 0.4, 0.0, 0.0, 0.0, 0.0, 0.0, 0.0], \"type\": \"scatter\", \"uid\": \"fe124d74-3633-11ea-9c5e-79fdfc20b759\"}, {\"line\": {\"color\": \"#34891f\", \"dash\": \"dot\", \"width\": 4}, \"mode\": \"lines+markers\", \"name\": \"Sevir.4G118600\", \"x\": [\"Salt_Control_AC_L\", \"Salt_Control_AC_S\", \"Salt_10mM_AC_L\", \"Salt_10mM_AC_S\", \"Salt_100mM_AC_L\", \"Salt_100mM_AC_S\", \"Salt_Control_NAC_L\", \"Salt_Control_NAC_S\", \"Salt_10mM_NAC_L\", \"Salt_10mM_NAC_S\", \"Salt_100mM_NAC_L\", \"Salt_100mM_NAC_S\"], \"y\": [0.0, 0.0, 0.0, 1.006, 0.0, 0.4, 0.0, 0.0, 0.0, 0.0, 0.0, 0.0], \"type\": \"scatter\", \"uid\": \"fe124f18-3633-11ea-9c5e-79fdfc20b759\"}, {\"line\": {\"color\": \"#b0d87b\", \"dash\": \"dash\", \"width\": 4}, \"mode\": \"lines+markers\", \"name\": \"Sevir.5G315900\", \"x\": [\"Salt_Control_AC_L\", \"Salt_Control_AC_S\", \"Salt_10mM_AC_L\", \"Salt_10mM_AC_S\", \"Salt_100mM_AC_L\", \"Salt_100mM_AC_S\", \"Salt_Control_NAC_L\", \"Salt_Control_NAC_S\", \"Salt_10mM_NAC_L\", \"Salt_10mM_NAC_S\", \"Salt_100mM_NAC_L\", \"Salt_100mM_NAC_S\"], \"y\": [0.0, 0.0, 0.0, 0.0, 0.0, 0.0, 0.0, 0.2, 0.0, 0.0, 0.0, 0.0], \"type\": \"scatter\", \"uid\": \"fe1250bc-3633-11ea-9c5e-79fdfc20b759\"}, {\"line\": {\"color\": \"#ca4751\", \"dash\": \"solid\", \"width\": 4}, \"mode\": \"lines+markers\", \"name\": \"Sevir.1G110232\", \"x\": [\"Salt_Control_AC_L\", \"Salt_Control_AC_S\", \"Salt_10mM_AC_L\", \"Salt_10mM_AC_S\", \"Salt_100mM_AC_L\", \"Salt_100mM_AC_S\", \"Salt_Control_NAC_L\", \"Salt_Control_NAC_S\", \"Salt_10mM_NAC_L\", \"Salt_10mM_NAC_S\", \"Salt_100mM_NAC_L\", \"Salt_100mM_NAC_S\"], \"y\": [0.0, 0.0, 0.0, 0.0, 0.0, 0.0, 0.0, 0.2, 0.0, 0.0, 0.0, 0.0], \"type\": \"scatter\", \"uid\": \"fe12526a-3633-11ea-9c5e-79fdfc20b759\"}, {\"line\": {\"color\": \"#7e50a8\", \"dash\": \"dot\", \"width\": 4}, \"mode\": \"lines+markers\", \"name\": \"Sevir.5G206100\", \"x\": [\"Salt_Control_AC_L\", \"Salt_Control_AC_S\", \"Salt_10mM_AC_L\", \"Salt_10mM_AC_S\", \"Salt_100mM_AC_L\", \"Salt_100mM_AC_S\", \"Salt_Control_NAC_L\", \"Salt_Control_NAC_S\", \"Salt_10mM_NAC_L\", \"Salt_10mM_NAC_S\", \"Salt_100mM_NAC_L\", \"Salt_100mM_NAC_S\"], \"y\": [0.0, 0.0, 0.25, 0.0, 0.0, 0.0, 0.0, 0.0, 0.6, 0.4, 0.0, 0.0], \"type\": \"scatter\", \"uid\": \"fe125404-3633-11ea-9c5e-79fdfc20b759\"}, {\"line\": {\"color\": \"#c4d647\", \"dash\": \"dash\", \"width\": 4}, \"mode\": \"lines+markers\", \"name\": \"Sevir.3G353200\", \"x\": [\"Salt_Control_AC_L\", \"Salt_Control_AC_S\", \"Salt_10mM_AC_L\", \"Salt_10mM_AC_S\", \"Salt_100mM_AC_L\", \"Salt_100mM_AC_S\", \"Salt_Control_NAC_L\", \"Salt_Control_NAC_S\", \"Salt_10mM_NAC_L\", \"Salt_10mM_NAC_S\", \"Salt_100mM_NAC_L\", \"Salt_100mM_NAC_S\"], \"y\": [0.0, 0.2, 0.0, 1.5, 0.0, 0.0, 0.0, 0.0, 0.0, 0.0, 0.0, 0.0], \"type\": \"scatter\", \"uid\": \"fe1255a8-3633-11ea-9c5e-79fdfc20b759\"}, {\"line\": {\"color\": \"#e0eeb8\", \"dash\": \"solid\", \"width\": 4}, \"mode\": \"lines+markers\", \"name\": \"Sevir.4G093300\", \"x\": [\"Salt_Control_AC_L\", \"Salt_Control_AC_S\", \"Salt_10mM_AC_L\", \"Salt_10mM_AC_S\", \"Salt_100mM_AC_L\", \"Salt_100mM_AC_S\", \"Salt_Control_NAC_L\", \"Salt_Control_NAC_S\", \"Salt_10mM_NAC_L\", \"Salt_10mM_NAC_S\", \"Salt_100mM_NAC_L\", \"Salt_100mM_NAC_S\"], \"y\": [0.0, 0.6, 0.5, 8.0, 1.6, 0.0, 0.0, 0.0, 0.4, 0.8, 2.4, 2.2], \"type\": \"scatter\", \"uid\": \"fe12574c-3633-11ea-9c5e-79fdfc20b759\"}, {\"line\": {\"color\": \"#11dec1\", \"dash\": \"dot\", \"width\": 4}, \"mode\": \"lines+markers\", \"name\": \"Sevir.1G171100\", \"x\": [\"Salt_Control_AC_L\", \"Salt_Control_AC_S\", \"Salt_10mM_AC_L\", \"Salt_10mM_AC_S\", \"Salt_100mM_AC_L\", \"Salt_100mM_AC_S\", \"Salt_Control_NAC_L\", \"Salt_Control_NAC_S\", \"Salt_10mM_NAC_L\", \"Salt_10mM_NAC_S\", \"Salt_100mM_NAC_L\", \"Salt_100mM_NAC_S\"], \"y\": [0.0, 0.0, 0.0, 0.0, 0.6, 0.0, 0.4, 0.0, 0.0, 0.0, 0.0, 0.0], \"type\": \"scatter\", \"uid\": \"fe1258f0-3633-11ea-9c5e-79fdfc20b759\"}, {\"line\": {\"color\": \"#289812\", \"dash\": \"dash\", \"width\": 4}, \"mode\": \"lines+markers\", \"name\": \"Sevir.2G305750\", \"x\": [\"Salt_Control_AC_L\", \"Salt_Control_AC_S\", \"Salt_10mM_AC_L\", \"Salt_10mM_AC_S\", \"Salt_100mM_AC_L\", \"Salt_100mM_AC_S\", \"Salt_Control_NAC_L\", \"Salt_Control_NAC_S\", \"Salt_10mM_NAC_L\", \"Salt_10mM_NAC_S\", \"Salt_100mM_NAC_L\", \"Salt_100mM_NAC_S\"], \"y\": [3.9622166666666665, 0.0, 1.6091900000000001, 0.0, 2.8849615999999996, 1.6771439999999997, 4.447153999999999, 0.211456, 2.97905, 0.30533, 1.919032, 0.36558199999999996], \"type\": \"scatter\", \"uid\": \"fe125a9e-3633-11ea-9c5e-79fdfc20b759\"}, {\"line\": {\"color\": \"#566ca0\", \"dash\": \"solid\", \"width\": 4}, \"mode\": \"lines+markers\", \"name\": \"Sevir.9G169700\", \"x\": [\"Salt_Control_AC_L\", \"Salt_Control_AC_S\", \"Salt_10mM_AC_L\", \"Salt_10mM_AC_S\", \"Salt_100mM_AC_L\", \"Salt_100mM_AC_S\", \"Salt_Control_NAC_L\", \"Salt_Control_NAC_S\", \"Salt_10mM_NAC_L\", \"Salt_10mM_NAC_S\", \"Salt_100mM_NAC_L\", \"Salt_100mM_NAC_S\"], \"y\": [0.0, 0.0, 0.0, 0.0, 0.0, 0.0, 0.0, 0.0, 0.0, 0.0, 0.0, 0.0], \"type\": \"scatter\", \"uid\": \"fe125c42-3633-11ea-9c5e-79fdfc20b759\"}, {\"line\": {\"color\": \"#ffdbe1\", \"dash\": \"dot\", \"width\": 4}, \"mode\": \"lines+markers\", \"name\": \"Sevir.1G020800\", \"x\": [\"Salt_Control_AC_L\", \"Salt_Control_AC_S\", \"Salt_10mM_AC_L\", \"Salt_10mM_AC_S\", \"Salt_100mM_AC_L\", \"Salt_100mM_AC_S\", \"Salt_Control_NAC_L\", \"Salt_Control_NAC_S\", \"Salt_10mM_NAC_L\", \"Salt_10mM_NAC_S\", \"Salt_100mM_NAC_L\", \"Salt_100mM_NAC_S\"], \"y\": [0.0, 0.0, 0.0, 0.0, 0.0, 0.0, 0.4, 0.0, 0.0, 0.0, 0.0, 0.0], \"type\": \"scatter\", \"uid\": \"fe125de6-3633-11ea-9c5e-79fdfc20b759\"}, {\"line\": {\"color\": \"#2f1179\", \"dash\": \"dash\", \"width\": 4}, \"mode\": \"lines+markers\", \"name\": \"Sevir.5G194900\", \"x\": [\"Salt_Control_AC_L\", \"Salt_Control_AC_S\", \"Salt_10mM_AC_L\", \"Salt_10mM_AC_S\", \"Salt_100mM_AC_L\", \"Salt_100mM_AC_S\", \"Salt_Control_NAC_L\", \"Salt_Control_NAC_S\", \"Salt_10mM_NAC_L\", \"Salt_10mM_NAC_S\", \"Salt_100mM_NAC_L\", \"Salt_100mM_NAC_S\"], \"y\": [0.0, 0.0, 0.0, 0.0, 0.0, 0.0, 0.0, 0.0, 0.0, 0.0, 0.0, 0.0], \"type\": \"scatter\", \"uid\": \"fe125f8a-3633-11ea-9c5e-79fdfc20b759\"}, {\"line\": {\"color\": \"#935b6d\", \"dash\": \"solid\", \"width\": 4}, \"mode\": \"lines+markers\", \"name\": \"Sevir.6G028050\", \"x\": [\"Salt_Control_AC_L\", \"Salt_Control_AC_S\", \"Salt_10mM_AC_L\", \"Salt_10mM_AC_S\", \"Salt_100mM_AC_L\", \"Salt_100mM_AC_S\", \"Salt_Control_NAC_L\", \"Salt_Control_NAC_S\", \"Salt_10mM_NAC_L\", \"Salt_10mM_NAC_S\", \"Salt_100mM_NAC_L\", \"Salt_100mM_NAC_S\"], \"y\": [0.0, 0.0, 0.25, 0.0, 0.0, 0.0, 0.0, 0.0, 0.0, 0.0, 0.0, 0.0], \"type\": \"scatter\", \"uid\": \"fe126124-3633-11ea-9c5e-79fdfc20b759\"}, {\"line\": {\"color\": \"#916988\", \"dash\": \"dot\", \"width\": 4}, \"mode\": \"lines+markers\", \"name\": \"Sevir.2G003200\", \"x\": [\"Salt_Control_AC_L\", \"Salt_Control_AC_S\", \"Salt_10mM_AC_L\", \"Salt_10mM_AC_S\", \"Salt_100mM_AC_L\", \"Salt_100mM_AC_S\", \"Salt_Control_NAC_L\", \"Salt_Control_NAC_S\", \"Salt_10mM_NAC_L\", \"Salt_10mM_NAC_S\", \"Salt_100mM_NAC_L\", \"Salt_100mM_NAC_S\"], \"y\": [0.0, 0.0, 0.0, 0.0, 0.0, 0.0, 0.0, 0.0, 0.0, 0.0, 0.0, 0.0], \"type\": \"scatter\", \"uid\": \"fe1262c8-3633-11ea-9c5e-79fdfc20b759\"}, {\"line\": {\"color\": \"#513d98\", \"dash\": \"dash\", \"width\": 4}, \"mode\": \"lines+markers\", \"name\": \"Sevir.8G079100\", \"x\": [\"Salt_Control_AC_L\", \"Salt_Control_AC_S\", \"Salt_10mM_AC_L\", \"Salt_10mM_AC_S\", \"Salt_100mM_AC_L\", \"Salt_100mM_AC_S\", \"Salt_Control_NAC_L\", \"Salt_Control_NAC_S\", \"Salt_10mM_NAC_L\", \"Salt_10mM_NAC_S\", \"Salt_100mM_NAC_L\", \"Salt_100mM_NAC_S\"], \"y\": [0.0, 0.0, 0.0, 0.0, 0.0, 0.0, 0.0, 0.0, 0.0, 0.0, 0.0, 0.0], \"type\": \"scatter\", \"uid\": \"fe126462-3633-11ea-9c5e-79fdfc20b759\"}, {\"line\": {\"color\": \"#aead3a\", \"dash\": \"solid\", \"width\": 4}, \"mode\": \"lines+markers\", \"name\": \"Sevir.4G293501\", \"x\": [\"Salt_Control_AC_L\", \"Salt_Control_AC_S\", \"Salt_10mM_AC_L\", \"Salt_10mM_AC_S\", \"Salt_100mM_AC_L\", \"Salt_100mM_AC_S\", \"Salt_Control_NAC_L\", \"Salt_Control_NAC_S\", \"Salt_10mM_NAC_L\", \"Salt_10mM_NAC_S\", \"Salt_100mM_NAC_L\", \"Salt_100mM_NAC_S\"], \"y\": [0.0, 0.0, 0.0, 0.0, 0.0, 0.0, 0.0, 0.0, 0.0, 0.0, 0.0, 0.0], \"type\": \"scatter\", \"uid\": \"fe126610-3633-11ea-9c5e-79fdfc20b759\"}, {\"line\": {\"color\": \"#9e6d71\", \"dash\": \"dot\", \"width\": 4}, \"mode\": \"lines+markers\", \"name\": \"Sevir.7G022900\", \"x\": [\"Salt_Control_AC_L\", \"Salt_Control_AC_S\", \"Salt_10mM_AC_L\", \"Salt_10mM_AC_S\", \"Salt_100mM_AC_L\", \"Salt_100mM_AC_S\", \"Salt_Control_NAC_L\", \"Salt_Control_NAC_S\", \"Salt_10mM_NAC_L\", \"Salt_10mM_NAC_S\", \"Salt_100mM_NAC_L\", \"Salt_100mM_NAC_S\"], \"y\": [0.0, 0.0, 0.0, 0.0, 0.0, 0.0, 0.0, 0.0, 0.0, 0.0, 0.0, 0.0], \"type\": \"scatter\", \"uid\": \"fe1267aa-3633-11ea-9c5e-79fdfc20b759\"}, {\"line\": {\"color\": \"#4b5bdc\", \"dash\": \"dash\", \"width\": 4}, \"mode\": \"lines+markers\", \"name\": \"Sevir.8G165900\", \"x\": [\"Salt_Control_AC_L\", \"Salt_Control_AC_S\", \"Salt_10mM_AC_L\", \"Salt_10mM_AC_S\", \"Salt_100mM_AC_L\", \"Salt_100mM_AC_S\", \"Salt_Control_NAC_L\", \"Salt_Control_NAC_S\", \"Salt_10mM_NAC_L\", \"Salt_10mM_NAC_S\", \"Salt_100mM_NAC_L\", \"Salt_100mM_NAC_S\"], \"y\": [0.0, 0.0, 0.0, 0.0, 0.0, 0.0, 0.0, 0.0, 0.0, 0.0, 0.0, 0.0], \"type\": \"scatter\", \"uid\": \"fe126a0c-3633-11ea-9c5e-79fdfc20b759\"}, {\"line\": {\"color\": \"#0cd36d\", \"dash\": \"solid\", \"width\": 4}, \"mode\": \"lines+markers\", \"name\": \"Sevir.9G092300\", \"x\": [\"Salt_Control_AC_L\", \"Salt_Control_AC_S\", \"Salt_10mM_AC_L\", \"Salt_10mM_AC_S\", \"Salt_100mM_AC_L\", \"Salt_100mM_AC_S\", \"Salt_Control_NAC_L\", \"Salt_Control_NAC_S\", \"Salt_10mM_NAC_L\", \"Salt_10mM_NAC_S\", \"Salt_100mM_NAC_L\", \"Salt_100mM_NAC_S\"], \"y\": [0.0, 0.0, 0.0, 0.0, 0.0, 0.0, 0.0, 0.0, 0.0, 0.0, 0.0, 0.0], \"type\": \"scatter\", \"uid\": \"fe126bec-3633-11ea-9c5e-79fdfc20b759\"}, {\"line\": {\"color\": \"#250662\", \"dash\": \"dot\", \"width\": 4}, \"mode\": \"lines+markers\", \"name\": \"Sevir.6G113200\", \"x\": [\"Salt_Control_AC_L\", \"Salt_Control_AC_S\", \"Salt_10mM_AC_L\", \"Salt_10mM_AC_S\", \"Salt_100mM_AC_L\", \"Salt_100mM_AC_S\", \"Salt_Control_NAC_L\", \"Salt_Control_NAC_S\", \"Salt_10mM_NAC_L\", \"Salt_10mM_NAC_S\", \"Salt_100mM_NAC_L\", \"Salt_100mM_NAC_S\"], \"y\": [0.0, 0.0, 0.0, 0.0, 0.0, 0.0, 0.0, 0.0, 0.0, 0.0, 0.0, 0.0], \"type\": \"scatter\", \"uid\": \"fe126d9a-3633-11ea-9c5e-79fdfc20b759\"}, {\"line\": {\"color\": \"#cb5bea\", \"dash\": \"dash\", \"width\": 4}, \"mode\": \"lines+markers\", \"name\": \"Sevir.4G160200\", \"x\": [\"Salt_Control_AC_L\", \"Salt_Control_AC_S\", \"Salt_10mM_AC_L\", \"Salt_10mM_AC_S\", \"Salt_100mM_AC_L\", \"Salt_100mM_AC_S\", \"Salt_Control_NAC_L\", \"Salt_Control_NAC_S\", \"Salt_10mM_NAC_L\", \"Salt_10mM_NAC_S\", \"Salt_100mM_NAC_L\", \"Salt_100mM_NAC_S\"], \"y\": [0.0, 0.0, 0.0, 0.0, 0.0, 0.0, 0.0, 0.0, 0.0, 0.0, 0.0, 0.0], \"type\": \"scatter\", \"uid\": \"fe126f3e-3633-11ea-9c5e-79fdfc20b759\"}, {\"line\": {\"color\": \"#228916\", \"dash\": \"solid\", \"width\": 4}, \"mode\": \"lines+markers\", \"name\": \"Sevir.5G037400\", \"x\": [\"Salt_Control_AC_L\", \"Salt_Control_AC_S\", \"Salt_10mM_AC_L\", \"Salt_10mM_AC_S\", \"Salt_100mM_AC_L\", \"Salt_100mM_AC_S\", \"Salt_Control_NAC_L\", \"Salt_Control_NAC_S\", \"Salt_10mM_NAC_L\", \"Salt_10mM_NAC_S\", \"Salt_100mM_NAC_L\", \"Salt_100mM_NAC_S\"], \"y\": [0.0, 0.0, 0.0, 0.0, 0.0, 0.0, 0.0, 0.0, 0.0, 0.0, 0.0, 0.0], \"type\": \"scatter\", \"uid\": \"fe1270d8-3633-11ea-9c5e-79fdfc20b759\"}, {\"line\": {\"color\": \"#ac3e1b\", \"dash\": \"dot\", \"width\": 4}, \"mode\": \"lines+markers\", \"name\": \"Sevir.3G298200\", \"x\": [\"Salt_Control_AC_L\", \"Salt_Control_AC_S\", \"Salt_10mM_AC_L\", \"Salt_10mM_AC_S\", \"Salt_100mM_AC_L\", \"Salt_100mM_AC_S\", \"Salt_Control_NAC_L\", \"Salt_Control_NAC_S\", \"Salt_10mM_NAC_L\", \"Salt_10mM_NAC_S\", \"Salt_100mM_NAC_L\", \"Salt_100mM_NAC_S\"], \"y\": [0.0, 0.0, 0.0, 0.0, 0.0, 0.0, 0.0, 0.0, 0.0, 0.0, 0.0, 0.0], \"type\": \"scatter\", \"uid\": \"fe127272-3633-11ea-9c5e-79fdfc20b759\"}, {\"line\": {\"color\": \"#df514a\", \"dash\": \"dash\", \"width\": 4}, \"mode\": \"lines+markers\", \"name\": \"Sevir.2G437300\", \"x\": [\"Salt_Control_AC_L\", \"Salt_Control_AC_S\", \"Salt_10mM_AC_L\", \"Salt_10mM_AC_S\", \"Salt_100mM_AC_L\", \"Salt_100mM_AC_S\", \"Salt_Control_NAC_L\", \"Salt_Control_NAC_S\", \"Salt_10mM_NAC_L\", \"Salt_10mM_NAC_S\", \"Salt_100mM_NAC_L\", \"Salt_100mM_NAC_S\"], \"y\": [0.0, 0.0, 0.0, 0.0, 0.0, 0.0, 0.0, 0.0, 0.0, 0.0, 0.0, 0.0], \"type\": \"scatter\", \"uid\": \"fe127416-3633-11ea-9c5e-79fdfc20b759\"}, {\"line\": {\"color\": \"#539397\", \"dash\": \"solid\", \"width\": 4}, \"mode\": \"lines+markers\", \"name\": \"Sevir.9G095700\", \"x\": [\"Salt_Control_AC_L\", \"Salt_Control_AC_S\", \"Salt_10mM_AC_L\", \"Salt_10mM_AC_S\", \"Salt_100mM_AC_L\", \"Salt_100mM_AC_S\", \"Salt_Control_NAC_L\", \"Salt_Control_NAC_S\", \"Salt_10mM_NAC_L\", \"Salt_10mM_NAC_S\", \"Salt_100mM_NAC_L\", \"Salt_100mM_NAC_S\"], \"y\": [0.0, 0.0, 0.5566825, 0.0, 0.0, 0.0, 0.0, 0.419088, 0.0, 0.8409039999999999, 0.0, 0.0], \"type\": \"scatter\", \"uid\": \"fe1275b0-3633-11ea-9c5e-79fdfc20b759\"}, {\"line\": {\"color\": \"#880977\", \"dash\": \"dot\", \"width\": 4}, \"mode\": \"lines+markers\", \"name\": \"Sevir.1G265000\", \"x\": [\"Salt_Control_AC_L\", \"Salt_Control_AC_S\", \"Salt_10mM_AC_L\", \"Salt_10mM_AC_S\", \"Salt_100mM_AC_L\", \"Salt_100mM_AC_S\", \"Salt_Control_NAC_L\", \"Salt_Control_NAC_S\", \"Salt_10mM_NAC_L\", \"Salt_10mM_NAC_S\", \"Salt_100mM_NAC_L\", \"Salt_100mM_NAC_S\"], \"y\": [0.0, 0.0, 0.0, 0.0, 0.0, 0.0, 0.0, 0.0, 0.0, 0.0, 0.0, 0.0], \"type\": \"scatter\", \"uid\": \"fe127768-3633-11ea-9c5e-79fdfc20b759\"}, {\"line\": {\"color\": \"#f697c1\", \"dash\": \"dash\", \"width\": 4}, \"mode\": \"lines+markers\", \"name\": \"Sevir.5G418900\", \"x\": [\"Salt_Control_AC_L\", \"Salt_Control_AC_S\", \"Salt_10mM_AC_L\", \"Salt_10mM_AC_S\", \"Salt_100mM_AC_L\", \"Salt_100mM_AC_S\", \"Salt_Control_NAC_L\", \"Salt_Control_NAC_S\", \"Salt_10mM_NAC_L\", \"Salt_10mM_NAC_S\", \"Salt_100mM_NAC_L\", \"Salt_100mM_NAC_S\"], \"y\": [0.0, 0.0, 0.0, 0.0, 0.0, 0.0, 0.0, 0.0, 0.0, 0.0, 0.2, 0.0], \"type\": \"scatter\", \"uid\": \"fe127920-3633-11ea-9c5e-79fdfc20b759\"}, {\"line\": {\"color\": \"#ba96ce\", \"dash\": \"solid\", \"width\": 4}, \"mode\": \"lines+markers\", \"name\": \"Sevir.8G237700\", \"x\": [\"Salt_Control_AC_L\", \"Salt_Control_AC_S\", \"Salt_10mM_AC_L\", \"Salt_10mM_AC_S\", \"Salt_100mM_AC_L\", \"Salt_100mM_AC_S\", \"Salt_Control_NAC_L\", \"Salt_Control_NAC_S\", \"Salt_10mM_NAC_L\", \"Salt_10mM_NAC_S\", \"Salt_100mM_NAC_L\", \"Salt_100mM_NAC_S\"], \"y\": [0.0, 0.0, 0.0, 0.0, 0.0, 0.0, 0.0, 0.0, 0.0, 0.0, 0.0, 0.0], \"type\": \"scatter\", \"uid\": \"fe127aba-3633-11ea-9c5e-79fdfc20b759\"}, {\"line\": {\"color\": \"#679c9d\", \"dash\": \"dot\", \"width\": 4}, \"mode\": \"lines+markers\", \"name\": \"Sevir.2G177600\", \"x\": [\"Salt_Control_AC_L\", \"Salt_Control_AC_S\", \"Salt_10mM_AC_L\", \"Salt_10mM_AC_S\", \"Salt_100mM_AC_L\", \"Salt_100mM_AC_S\", \"Salt_Control_NAC_L\", \"Salt_Control_NAC_S\", \"Salt_10mM_NAC_L\", \"Salt_10mM_NAC_S\", \"Salt_100mM_NAC_L\", \"Salt_100mM_NAC_S\"], \"y\": [0.0, 0.0, 0.0, 0.0, 0.0, 0.0, 0.0, 0.0, 0.0, 0.0, 0.0, 0.0], \"type\": \"scatter\", \"uid\": \"fe127c54-3633-11ea-9c5e-79fdfc20b759\"}, {\"line\": {\"color\": \"#c6c42c\", \"dash\": \"dash\", \"width\": 4}, \"mode\": \"lines+markers\", \"name\": \"Sevir.9G253801\", \"x\": [\"Salt_Control_AC_L\", \"Salt_Control_AC_S\", \"Salt_10mM_AC_L\", \"Salt_10mM_AC_S\", \"Salt_100mM_AC_L\", \"Salt_100mM_AC_S\", \"Salt_Control_NAC_L\", \"Salt_Control_NAC_S\", \"Salt_10mM_NAC_L\", \"Salt_10mM_NAC_S\", \"Salt_100mM_NAC_L\", \"Salt_100mM_NAC_S\"], \"y\": [0.0, 0.0, 0.0, 0.0, 0.0, 0.0, 0.0, 0.0, 0.0, 0.0, 0.0, 0.0], \"type\": \"scatter\", \"uid\": \"fe127df8-3633-11ea-9c5e-79fdfc20b759\"}, {\"line\": {\"color\": \"#5d2c52\", \"dash\": \"solid\", \"width\": 4}, \"mode\": \"lines+markers\", \"name\": \"Sevir.6G183566\", \"x\": [\"Salt_Control_AC_L\", \"Salt_Control_AC_S\", \"Salt_10mM_AC_L\", \"Salt_10mM_AC_S\", \"Salt_100mM_AC_L\", \"Salt_100mM_AC_S\", \"Salt_Control_NAC_L\", \"Salt_Control_NAC_S\", \"Salt_10mM_NAC_L\", \"Salt_10mM_NAC_S\", \"Salt_100mM_NAC_L\", \"Salt_100mM_NAC_S\"], \"y\": [0.0, 0.0, 0.0, 0.0, 0.0, 0.0, 0.0, 0.0, 0.0, 0.2, 0.0, 0.0], \"type\": \"scatter\", \"uid\": \"fe127f9c-3633-11ea-9c5e-79fdfc20b759\"}, {\"line\": {\"color\": \"#48b41b\", \"dash\": \"dot\", \"width\": 4}, \"mode\": \"lines+markers\", \"name\": \"Sevir.8G259500\", \"x\": [\"Salt_Control_AC_L\", \"Salt_Control_AC_S\", \"Salt_10mM_AC_L\", \"Salt_10mM_AC_S\", \"Salt_100mM_AC_L\", \"Salt_100mM_AC_S\", \"Salt_Control_NAC_L\", \"Salt_Control_NAC_S\", \"Salt_10mM_NAC_L\", \"Salt_10mM_NAC_S\", \"Salt_100mM_NAC_L\", \"Salt_100mM_NAC_S\"], \"y\": [0.6094966666666667, 0.69501, 0.0, 3.0482549999999997, 0.2, 0.2, 0.2, 0.4, 0.0, 2.8, 1.0, 1.2], \"type\": \"scatter\", \"uid\": \"fe128136-3633-11ea-9c5e-79fdfc20b759\"}, {\"line\": {\"color\": \"#e1cf3b\", \"dash\": \"dash\", \"width\": 4}, \"mode\": \"lines+markers\", \"name\": \"Sevir.5G036550\", \"x\": [\"Salt_Control_AC_L\", \"Salt_Control_AC_S\", \"Salt_10mM_AC_L\", \"Salt_10mM_AC_S\", \"Salt_100mM_AC_L\", \"Salt_100mM_AC_S\", \"Salt_Control_NAC_L\", \"Salt_Control_NAC_S\", \"Salt_10mM_NAC_L\", \"Salt_10mM_NAC_S\", \"Salt_100mM_NAC_L\", \"Salt_100mM_NAC_S\"], \"y\": [0.3333333333333333, 0.8, 0.25, 0.0, 0.601234, 0.0, 0.0, 0.0, 0.0, 0.0, 0.2, 0.0], \"type\": \"scatter\", \"uid\": \"fe1282d0-3633-11ea-9c5e-79fdfc20b759\"}, {\"line\": {\"color\": \"#5be4f0\", \"dash\": \"solid\", \"width\": 4}, \"mode\": \"lines+markers\", \"name\": \"Sevir.7G279700\", \"x\": [\"Salt_Control_AC_L\", \"Salt_Control_AC_S\", \"Salt_10mM_AC_L\", \"Salt_10mM_AC_S\", \"Salt_100mM_AC_L\", \"Salt_100mM_AC_S\", \"Salt_Control_NAC_L\", \"Salt_Control_NAC_S\", \"Salt_10mM_NAC_L\", \"Salt_10mM_NAC_S\", \"Salt_100mM_NAC_L\", \"Salt_100mM_NAC_S\"], \"y\": [0.0, 0.0, 0.0, 0.0, 0.0, 0.4, 0.0, 0.0, 0.0, 0.0, 0.2, 1.0], \"type\": \"scatter\", \"uid\": \"fe128474-3633-11ea-9c5e-79fdfc20b759\"}, {\"line\": {\"color\": \"#57c4d8\", \"dash\": \"dot\", \"width\": 4}, \"mode\": \"lines+markers\", \"name\": \"Sevir.8G068450\", \"x\": [\"Salt_Control_AC_L\", \"Salt_Control_AC_S\", \"Salt_10mM_AC_L\", \"Salt_10mM_AC_S\", \"Salt_100mM_AC_L\", \"Salt_100mM_AC_S\", \"Salt_Control_NAC_L\", \"Salt_Control_NAC_S\", \"Salt_10mM_NAC_L\", \"Salt_10mM_NAC_S\", \"Salt_100mM_NAC_L\", \"Salt_100mM_NAC_S\"], \"y\": [0.0, 0.0, 0.0, 0.0, 0.0, 0.0, 0.0, 0.0, 0.0, 0.0, 0.0, 0.0], \"type\": \"scatter\", \"uid\": \"fe128618-3633-11ea-9c5e-79fdfc20b759\"}, {\"line\": {\"color\": \"#a4d17a\", \"dash\": \"dash\", \"width\": 4}, \"mode\": \"lines+markers\", \"name\": \"Sevir.9G576750\", \"x\": [\"Salt_Control_AC_L\", \"Salt_Control_AC_S\", \"Salt_10mM_AC_L\", \"Salt_10mM_AC_S\", \"Salt_100mM_AC_L\", \"Salt_100mM_AC_S\", \"Salt_Control_NAC_L\", \"Salt_Control_NAC_S\", \"Salt_10mM_NAC_L\", \"Salt_10mM_NAC_S\", \"Salt_100mM_NAC_L\", \"Salt_100mM_NAC_S\"], \"y\": [2.0, 1.2, 0.0, 9.0, 0.6, 0.0, 0.6, 0.6, 1.0, 0.4, 0.8, 1.2], \"type\": \"scatter\", \"uid\": \"fe1287b2-3633-11ea-9c5e-79fdfc20b759\"}, {\"line\": {\"color\": \"#225b8e\", \"dash\": \"solid\", \"width\": 4}, \"mode\": \"lines+markers\", \"name\": \"Sevir.9G248533\", \"x\": [\"Salt_Control_AC_L\", \"Salt_Control_AC_S\", \"Salt_10mM_AC_L\", \"Salt_10mM_AC_S\", \"Salt_100mM_AC_L\", \"Salt_100mM_AC_S\", \"Salt_Control_NAC_L\", \"Salt_Control_NAC_S\", \"Salt_10mM_NAC_L\", \"Salt_10mM_NAC_S\", \"Salt_100mM_NAC_L\", \"Salt_100mM_NAC_S\"], \"y\": [0.0, 0.4, 0.0, 0.0, 0.0, 0.2, 0.2, 0.0, 0.4, 0.8, 1.2, 0.8], \"type\": \"scatter\", \"uid\": \"fe128956-3633-11ea-9c5e-79fdfc20b759\"}, {\"line\": {\"color\": \"#be608b\", \"dash\": \"dot\", \"width\": 4}, \"mode\": \"lines+markers\", \"name\": \"Sevir.1G379100\", \"x\": [\"Salt_Control_AC_L\", \"Salt_Control_AC_S\", \"Salt_10mM_AC_L\", \"Salt_10mM_AC_S\", \"Salt_100mM_AC_L\", \"Salt_100mM_AC_S\", \"Salt_Control_NAC_L\", \"Salt_Control_NAC_S\", \"Salt_10mM_NAC_L\", \"Salt_10mM_NAC_S\", \"Salt_100mM_NAC_L\", \"Salt_100mM_NAC_S\"], \"y\": [4.957846666666666, 2.792786, 1.9474025, 8.485154999999999, 5.512532, 1.8272559999999998, 7.675806, 0.312352, 8.920468, 4.4939480000000005, 13.577869999999999, 2.051896], \"type\": \"scatter\", \"uid\": \"fe128af0-3633-11ea-9c5e-79fdfc20b759\"}, {\"line\": {\"color\": \"#96b00c\", \"dash\": \"dash\", \"width\": 4}, \"mode\": \"lines+markers\", \"name\": \"Sevir.8G222414\", \"x\": [\"Salt_Control_AC_L\", \"Salt_Control_AC_S\", \"Salt_10mM_AC_L\", \"Salt_10mM_AC_S\", \"Salt_100mM_AC_L\", \"Salt_100mM_AC_S\", \"Salt_Control_NAC_L\", \"Salt_Control_NAC_S\", \"Salt_10mM_NAC_L\", \"Salt_10mM_NAC_S\", \"Salt_100mM_NAC_L\", \"Salt_100mM_NAC_S\"], \"y\": [1.6666666666666667, 0.0, 0.25, 0.0, 0.8, 0.0, 0.0, 0.0, 0.253878, 1.37815, 0.8, 0.4], \"type\": \"scatter\", \"uid\": \"fe128c94-3633-11ea-9c5e-79fdfc20b759\"}, {\"line\": {\"color\": \"#088baf\", \"dash\": \"solid\", \"width\": 4}, \"mode\": \"lines+markers\", \"name\": \"Sevir.6G039200\", \"x\": [\"Salt_Control_AC_L\", \"Salt_Control_AC_S\", \"Salt_10mM_AC_L\", \"Salt_10mM_AC_S\", \"Salt_100mM_AC_L\", \"Salt_100mM_AC_S\", \"Salt_Control_NAC_L\", \"Salt_Control_NAC_S\", \"Salt_10mM_NAC_L\", \"Salt_10mM_NAC_S\", \"Salt_100mM_NAC_L\", \"Salt_100mM_NAC_S\"], \"y\": [2.3630766666666667, 0.49008, 0.0, 0.525995, 3.422004, 0.8670920000000001, 0.51886, 0.5857140000000001, 1.9226459999999999, 0.0, 1.378464, 0.57945], \"type\": \"scatter\", \"uid\": \"fe128e2e-3633-11ea-9c5e-79fdfc20b759\"}, {\"line\": {\"color\": \"#f158bf\", \"dash\": \"dot\", \"width\": 4}, \"mode\": \"lines+markers\", \"name\": \"Sevir.6G075100\", \"x\": [\"Salt_Control_AC_L\", \"Salt_Control_AC_S\", \"Salt_10mM_AC_L\", \"Salt_10mM_AC_S\", \"Salt_100mM_AC_L\", \"Salt_100mM_AC_S\", \"Salt_Control_NAC_L\", \"Salt_Control_NAC_S\", \"Salt_10mM_NAC_L\", \"Salt_10mM_NAC_S\", \"Salt_100mM_NAC_L\", \"Salt_100mM_NAC_S\"], \"y\": [0.0, 0.0, 0.0, 0.0, 0.0, 0.0, 0.0, 0.0, 0.0, 0.0, 0.0, 0.0], \"type\": \"scatter\", \"uid\": \"fe128fd2-3633-11ea-9c5e-79fdfc20b759\"}, {\"line\": {\"color\": \"#e145ba\", \"dash\": \"dash\", \"width\": 4}, \"mode\": \"lines+markers\", \"name\": \"Sevir.3G331800\", \"x\": [\"Salt_Control_AC_L\", \"Salt_Control_AC_S\", \"Salt_10mM_AC_L\", \"Salt_10mM_AC_S\", \"Salt_100mM_AC_L\", \"Salt_100mM_AC_S\", \"Salt_Control_NAC_L\", \"Salt_Control_NAC_S\", \"Salt_10mM_NAC_L\", \"Salt_10mM_NAC_S\", \"Salt_100mM_NAC_L\", \"Salt_100mM_NAC_S\"], \"y\": [0.0, 0.0, 0.25, 0.0, 0.6, 0.2, 1.0, 0.6, 0.8, 2.2, 1.2, 1.4], \"type\": \"scatter\", \"uid\": \"fe129252-3633-11ea-9c5e-79fdfc20b759\"}, {\"line\": {\"color\": \"#ee91e3\", \"dash\": \"solid\", \"width\": 4}, \"mode\": \"lines+markers\", \"name\": \"Sevir.4G164200\", \"x\": [\"Salt_Control_AC_L\", \"Salt_Control_AC_S\", \"Salt_10mM_AC_L\", \"Salt_10mM_AC_S\", \"Salt_100mM_AC_L\", \"Salt_100mM_AC_S\", \"Salt_Control_NAC_L\", \"Salt_Control_NAC_S\", \"Salt_10mM_NAC_L\", \"Salt_10mM_NAC_S\", \"Salt_100mM_NAC_L\", \"Salt_100mM_NAC_S\"], \"y\": [0.0, 0.2, 0.0, 0.0, 0.0, 0.0, 0.2, 0.0, 0.8, 0.0, 0.0, 0.0], \"type\": \"scatter\", \"uid\": \"fe129400-3633-11ea-9c5e-79fdfc20b759\"}, {\"line\": {\"color\": \"#05d371\", \"dash\": \"dot\", \"width\": 4}, \"mode\": \"lines+markers\", \"name\": \"Sevir.9G347733\", \"x\": [\"Salt_Control_AC_L\", \"Salt_Control_AC_S\", \"Salt_10mM_AC_L\", \"Salt_10mM_AC_S\", \"Salt_100mM_AC_L\", \"Salt_100mM_AC_S\", \"Salt_Control_NAC_L\", \"Salt_Control_NAC_S\", \"Salt_10mM_NAC_L\", \"Salt_10mM_NAC_S\", \"Salt_100mM_NAC_L\", \"Salt_100mM_NAC_S\"], \"y\": [1.0, 0.4, 0.0, 1.0, 0.6, 0.8, 0.2, 0.0, 1.0, 0.8, 0.4, 0.2], \"type\": \"scatter\", \"uid\": \"fe1295a4-3633-11ea-9c5e-79fdfc20b759\"}, {\"line\": {\"color\": \"#5426e0\", \"dash\": \"dash\", \"width\": 4}, \"mode\": \"lines+markers\", \"name\": \"Sevir.2G396750\", \"x\": [\"Salt_Control_AC_L\", \"Salt_Control_AC_S\", \"Salt_10mM_AC_L\", \"Salt_10mM_AC_S\", \"Salt_100mM_AC_L\", \"Salt_100mM_AC_S\", \"Salt_Control_NAC_L\", \"Salt_Control_NAC_S\", \"Salt_10mM_NAC_L\", \"Salt_10mM_NAC_S\", \"Salt_100mM_NAC_L\", \"Salt_100mM_NAC_S\"], \"y\": [0.0, 0.0, 0.0, 0.0, 0.0, 0.0, 0.0, 0.0, 0.0, 0.0, 0.0, 0.2], \"type\": \"scatter\", \"uid\": \"fe12973e-3633-11ea-9c5e-79fdfc20b759\"}, {\"line\": {\"color\": \"#4834d0\", \"dash\": \"solid\", \"width\": 4}, \"mode\": \"lines+markers\", \"name\": \"Sevir.3G116100\", \"x\": [\"Salt_Control_AC_L\", \"Salt_Control_AC_S\", \"Salt_10mM_AC_L\", \"Salt_10mM_AC_S\", \"Salt_100mM_AC_L\", \"Salt_100mM_AC_S\", \"Salt_Control_NAC_L\", \"Salt_Control_NAC_S\", \"Salt_10mM_NAC_L\", \"Salt_10mM_NAC_S\", \"Salt_100mM_NAC_L\", \"Salt_100mM_NAC_S\"], \"y\": [0.0, 0.2, 0.0, 0.5, 0.2, 0.0, 0.0, 0.2, 0.0, 0.2, 0.0, 0.0], \"type\": \"scatter\", \"uid\": \"fe1298ce-3633-11ea-9c5e-79fdfc20b759\"}, {\"line\": {\"color\": \"#802234\", \"dash\": \"dot\", \"width\": 4}, \"mode\": \"lines+markers\", \"name\": \"Sevir.7G061100\", \"x\": [\"Salt_Control_AC_L\", \"Salt_Control_AC_S\", \"Salt_10mM_AC_L\", \"Salt_10mM_AC_S\", \"Salt_100mM_AC_L\", \"Salt_100mM_AC_S\", \"Salt_Control_NAC_L\", \"Salt_Control_NAC_S\", \"Salt_10mM_NAC_L\", \"Salt_10mM_NAC_S\", \"Salt_100mM_NAC_L\", \"Salt_100mM_NAC_S\"], \"y\": [0.0, 0.0, 0.0, 0.0, 0.0, 0.0, 0.0, 0.0, 0.0, 0.0, 0.0, 0.0], \"type\": \"scatter\", \"uid\": \"fe129a68-3633-11ea-9c5e-79fdfc20b759\"}, {\"line\": {\"color\": \"#6749e8\", \"dash\": \"dash\", \"width\": 4}, \"mode\": \"lines+markers\", \"name\": \"Sevir.2G307100\", \"x\": [\"Salt_Control_AC_L\", \"Salt_Control_AC_S\", \"Salt_10mM_AC_L\", \"Salt_10mM_AC_S\", \"Salt_100mM_AC_L\", \"Salt_100mM_AC_S\", \"Salt_Control_NAC_L\", \"Salt_Control_NAC_S\", \"Salt_10mM_NAC_L\", \"Salt_10mM_NAC_S\", \"Salt_100mM_NAC_L\", \"Salt_100mM_NAC_S\"], \"y\": [0.0, 0.0, 0.0, 0.0, 1.4, 1.0, 0.0, 0.0, 0.0, 0.2, 1.8, 0.4], \"type\": \"scatter\", \"uid\": \"fe129c02-3633-11ea-9c5e-79fdfc20b759\"}, {\"line\": {\"color\": \"#0971f0\", \"dash\": \"solid\", \"width\": 4}, \"mode\": \"lines+markers\", \"name\": \"Sevir.5G087400\", \"x\": [\"Salt_Control_AC_L\", \"Salt_Control_AC_S\", \"Salt_10mM_AC_L\", \"Salt_10mM_AC_S\", \"Salt_100mM_AC_L\", \"Salt_100mM_AC_S\", \"Salt_Control_NAC_L\", \"Salt_Control_NAC_S\", \"Salt_10mM_NAC_L\", \"Salt_10mM_NAC_S\", \"Salt_100mM_NAC_L\", \"Salt_100mM_NAC_S\"], \"y\": [0.0, 0.0, 0.25, 0.0, 0.0, 0.0, 0.0, 0.0, 0.0, 0.0, 0.2, 0.0], \"type\": \"scatter\", \"uid\": \"fe129d9c-3633-11ea-9c5e-79fdfc20b759\"}, {\"line\": {\"color\": \"#8fb413\", \"dash\": \"dot\", \"width\": 4}, \"mode\": \"lines+markers\", \"name\": \"Sevir.7G005300\", \"x\": [\"Salt_Control_AC_L\", \"Salt_Control_AC_S\", \"Salt_10mM_AC_L\", \"Salt_10mM_AC_S\", \"Salt_100mM_AC_L\", \"Salt_100mM_AC_S\", \"Salt_Control_NAC_L\", \"Salt_Control_NAC_S\", \"Salt_10mM_NAC_L\", \"Salt_10mM_NAC_S\", \"Salt_100mM_NAC_L\", \"Salt_100mM_NAC_S\"], \"y\": [0.0, 0.0, 0.0, 0.0, 0.0, 0.4, 1.2, 0.0, 0.0, 0.0, 0.0, 0.0], \"type\": \"scatter\", \"uid\": \"fe129f36-3633-11ea-9c5e-79fdfc20b759\"}, {\"line\": {\"color\": \"#b2b4f0\", \"dash\": \"dash\", \"width\": 4}, \"mode\": \"lines+markers\", \"name\": \"Sevir.2G026100\", \"x\": [\"Salt_Control_AC_L\", \"Salt_Control_AC_S\", \"Salt_10mM_AC_L\", \"Salt_10mM_AC_S\", \"Salt_100mM_AC_L\", \"Salt_100mM_AC_S\", \"Salt_Control_NAC_L\", \"Salt_Control_NAC_S\", \"Salt_10mM_NAC_L\", \"Salt_10mM_NAC_S\", \"Salt_100mM_NAC_L\", \"Salt_100mM_NAC_S\"], \"y\": [0.0, 0.0, 0.0, 0.5, 0.2, 0.8, 0.8, 0.0, 0.0, 0.8, 0.6, 0.2], \"type\": \"scatter\", \"uid\": \"fe12a0d0-3633-11ea-9c5e-79fdfc20b759\"}, {\"line\": {\"color\": \"#c3c89d\", \"dash\": \"solid\", \"width\": 4}, \"mode\": \"lines+markers\", \"name\": \"Sevir.9G072900\", \"x\": [\"Salt_Control_AC_L\", \"Salt_Control_AC_S\", \"Salt_10mM_AC_L\", \"Salt_10mM_AC_S\", \"Salt_100mM_AC_L\", \"Salt_100mM_AC_S\", \"Salt_Control_NAC_L\", \"Salt_Control_NAC_S\", \"Salt_10mM_NAC_L\", \"Salt_10mM_NAC_S\", \"Salt_100mM_NAC_L\", \"Salt_100mM_NAC_S\"], \"y\": [0.3333333333333333, 0.0, 0.0, 0.5, 0.4, 0.8, 0.4, 0.0, 0.8, 0.0, 0.4, 0.6], \"type\": \"scatter\", \"uid\": \"fe12a328-3633-11ea-9c5e-79fdfc20b759\"}], {\"dragmode\": \"select\", \"plot_bgcolor\": \"white\", \"title\": \"Average Gene Expression - Salt\", \"xaxis\": {\"gridcolor\": \"whitesmoke\", \"showgrid\": true, \"title\": \"Experimental Conditions\"}, \"yaxis\": {\"gridcolor\": \"whitesmoke\", \"showgrid\": true, \"title\": \"Expression\"}}, {\"showLink\": true, \"linkText\": \"Export to plot.ly\"})});</script>"
      ]
     },
     "metadata": {},
     "output_type": "display_data"
    }
   ],
   "source": [
    "\n",
    "#Determine plotting color schema\n",
    "NUM_COLORS, LINE_STYLES, NUM_STYLES = get_plot_colors(genesToPlot)\n",
    "cm = plt.get_cmap('jet')\n",
    "\n",
    "#Print by experiment\n",
    "for experiment in experiments:    \n",
    "    labels=[] #this is to store your conditions, if you want them visible along the x axis, the plt.legend will use this \n",
    "    \n",
    "    geneCount = 0\n",
    "\n",
    "    trackGlobalY = [] #Keep track of the max expression (yvalue) observed so we can dynanmically change y axis\n",
    "    \n",
    "    globalData = []\n",
    "    \n",
    "    data = []\n",
    "    \n",
    "    #this will draw the line for each gene as the loop goes on\n",
    "    for geneID in genesToPlot:\n",
    "        geneCount+=1\n",
    "        \n",
    "        x, y = [], [] #Clear the x,y variables for plotting line\n",
    "\n",
    "        #Get the color based on how many genes have been processed so far\n",
    "        COLOR = cm(geneCount/NUM_STYLES*float(NUM_STYLES)/NUM_COLORS)\n",
    "        LINE_STYLE = LINE_STYLES[geneCount%NUM_STYLES]\n",
    "        \n",
    "        #go through each condition, and then plot the average expression level for that condition\n",
    "        for condition in meanExpressionDict[geneID][experiment].keys():            \n",
    "            x.append(condition) # Add the condition name so it willl show up on the x axis\n",
    "\n",
    "            #Now you want to append the average expression value\n",
    "            averageExpressionValue = float(meanExpressionDict[geneID][experiment][condition][0])\n",
    "            y.append(averageExpressionValue) #append the value\n",
    "            trackGlobalY.append(averageExpressionValue) #Track all mean y variables. This way you can find the maximum and dynamically change your y axis\n",
    "\n",
    "\n",
    "        #Draw the line\n",
    "        #Color equals the number of genes observed and selected from our random gene array colors [above]\n",
    "        linePlotData = go.Scatter(x = x, y = y, mode = 'lines+markers', name = geneID, line = dict(width = 4, dash=LINE_STYLE, color=colors[geneCount]))\n",
    "        data.append(linePlotData) #add this line's information \n",
    "            \n",
    "    \n",
    "    # Edit the layout - including title and axis labels\n",
    "    #Change grid color == xaxis/yaxis gridcolor \n",
    "    #Change background color == plot_bgcolor\n",
    "    #Change title == title\n",
    "    layout = dict(title = 'Average Gene Expression - %s' % experiment,\n",
    "              yaxis = dict(title = 'Expression', showgrid=True, gridcolor='whitesmoke'),\n",
    "              xaxis = dict(title = 'Experimental Conditions', showgrid=True, gridcolor='whitesmoke'),\n",
    "              plot_bgcolor='white', dragmode='select')\n",
    "    \n",
    "    #Define the figure's visual layout and data, plotly wise\n",
    "    fig = dict(data=data, layout=layout)\n",
    "    \n",
    "    #PLOT!\n",
    "    iplot(fig)\n",
    "    \n",
    "\n",
    "\n"
   ]
  },
  {
   "cell_type": "code",
   "execution_count": null,
   "metadata": {},
   "outputs": [],
   "source": []
  }
 ],
 "metadata": {
  "kernelspec": {
   "display_name": "Python3",
   "language": "python",
   "name": "python3"
  },
  "language_info": {
   "codemirror_mode": {
    "name": "ipython",
    "version": 3
   },
   "file_extension": ".py",
   "mimetype": "text/x-python",
   "name": "python",
   "nbconvert_exporter": "python",
   "pygments_lexer": "ipython3",
   "version": "3.6.5"
  }
 },
 "nbformat": 4,
 "nbformat_minor": 2
}
