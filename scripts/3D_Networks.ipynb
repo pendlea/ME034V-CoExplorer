{
 "cells": [
  {
   "cell_type": "code",
   "execution_count": 1,
   "metadata": {
    "collapsed": true
   },
   "outputs": [],
   "source": [
    "# 2019-11-22\n",
    "# A. Pendleton\n",
    "# Co-expression network plots -- 3D attempts"
   ]
  },
  {
   "cell_type": "code",
   "execution_count": 2,
   "metadata": {
    "collapsed": true
   },
   "outputs": [],
   "source": [
    "%matplotlib inline\n",
    "import matplotlib.pyplot as plt\n",
    "import numpy as np\n",
    "import sys\n",
    "import glob\n",
    "\n",
    "#Plotting networks\n",
    "import networkx as nx"
   ]
  },
  {
   "cell_type": "code",
   "execution_count": 3,
   "metadata": {},
   "outputs": [
    {
     "data": {
      "text/html": [
       "        <script type=\"text/javascript\">\n",
       "        window.PlotlyConfig = {MathJaxConfig: 'local'};\n",
       "        if (window.MathJax) {MathJax.Hub.Config({SVG: {font: \"STIX-Web\"}});}\n",
       "        if (typeof require !== 'undefined') {\n",
       "        require.undef(\"plotly\");\n",
       "        requirejs.config({\n",
       "            paths: {\n",
       "                'plotly': ['https://cdn.plot.ly/plotly-latest.min']\n",
       "            }\n",
       "        });\n",
       "        require(['plotly'], function(Plotly) {\n",
       "            window._Plotly = Plotly;\n",
       "        });\n",
       "        }\n",
       "        </script>\n",
       "        "
      ]
     },
     "metadata": {},
     "output_type": "display_data"
    },
    {
     "data": {
      "text/html": [
       "        <script type=\"text/javascript\">\n",
       "        window.PlotlyConfig = {MathJaxConfig: 'local'};\n",
       "        if (window.MathJax) {MathJax.Hub.Config({SVG: {font: \"STIX-Web\"}});}\n",
       "        if (typeof require !== 'undefined') {\n",
       "        require.undef(\"plotly\");\n",
       "        requirejs.config({\n",
       "            paths: {\n",
       "                'plotly': ['https://cdn.plot.ly/plotly-latest.min']\n",
       "            }\n",
       "        });\n",
       "        require(['plotly'], function(Plotly) {\n",
       "            window._Plotly = Plotly;\n",
       "        });\n",
       "        }\n",
       "        </script>\n",
       "        "
      ]
     },
     "metadata": {},
     "output_type": "display_data"
    }
   ],
   "source": [
    "# For interactivity\n",
    "from __future__ import print_function\n",
    "from ipywidgets import interact, interactive, fixed, interact_manual\n",
    "import ipywidgets as widgets\n",
    "from plotly.offline import download_plotlyjs, init_notebook_mode, plot, iplot\n",
    "init_notebook_mode(connected=True) #Make it work in notebook mode\n",
    "import plotly.graph_objs as go\n",
    "from plotly.offline import download_plotlyjs, init_notebook_mode, plot, iplot\n",
    "\n",
    "\n",
    "init_notebook_mode(connected=True)"
   ]
  },
  {
   "cell_type": "code",
   "execution_count": 5,
   "metadata": {},
   "outputs": [
    {
     "name": "stdout",
     "output_type": "stream",
     "text": [
      "10 networks to plot\n"
     ]
    }
   ],
   "source": [
    "geneList = ['Sevir.5G058900', 'Sevir.5G254600', 'Sevir.2G052500']\n",
    "\n",
    "rootDir = '/depot/jwisecav/data/pendlea/coexpression_assessments/development/coexp_development/'\n",
    "\n",
    "\n",
    "networks = []\n",
    "\n",
    "#Get a list of the network directories the user has in their Networks path\n",
    "for directory in glob.glob(rootDir + 'Networks/*/'):\n",
    "    networkDecay = directory.rsplit('/',2)[1].split('_')[1]\n",
    "    networks.append(networkDecay)\n",
    "\n",
    "networksToPlot = []\n",
    "\n",
    "#Go through each decay value that the user has provided data for (Note. this can be just one decay value/level)\n",
    "for networkDecay in networks:\n",
    "    #Find the relevant summary file based on what the decay value is\n",
    "    networkRootDir =  rootDir + 'Networks/' + 'Network_%s/' % networkDecay\n",
    "    summaryFile = networkRootDir + 'Module_Summary.txt'\n",
    "    \n",
    "    #Parse each line of the summary file\n",
    "    for line in open(summaryFile, 'r'):\n",
    "        line=line.rstrip().split('\\t') #Strip line and split by tab\n",
    "        \n",
    "        #skip headerline\n",
    "        if '#' in line[0]:\n",
    "            continue\n",
    "    \n",
    "        networkID = line[0] #The network id is column #1\n",
    "        networkABCFile = networkRootDir + networkID + '.abc' #The edgeweight file is simply networkID.abc in the same directory\n",
    "        genesInNetwork = line[3].split(' ') #Space-delimited list of genes in the network (so split by space to make a list)\n",
    "        \n",
    "        #Go through each gene and see if its in your gene list \n",
    "        for gene in genesInNetwork: \n",
    "            #If so, then add its relevant network ID to an array that stores the edgeweight files\n",
    "            #.    for all networks to plot\n",
    "            if gene in geneList and networkABCFile not in networksToPlot:\n",
    "                networksToPlot.append(networkABCFile)\n",
    "                \n",
    "print('%i networks to plot' % len(networksToPlot))"
   ]
  },
  {
   "cell_type": "markdown",
   "metadata": {},
   "source": [
    "________"
   ]
  },
  {
   "cell_type": "code",
   "execution_count": null,
   "metadata": {
    "collapsed": true
   },
   "outputs": [],
   "source": []
  },
  {
   "cell_type": "code",
   "execution_count": 9,
   "metadata": {},
   "outputs": [
    {
     "data": {
      "application/vnd.plotly.v1+json": {
       "config": {
        "linkText": "Export to plot.ly",
        "plotlyServerURL": "https://plot.ly",
        "showLink": false
       },
       "data": [
        {
         "hoverinfo": "none",
         "line": {
          "color": "#888",
          "width": 0.5
         },
         "mode": "lines",
         "type": "scatter",
         "x": [
          0.42914777433301077,
          0.637200155483396,
          null,
          0.42914777433301077,
          0.3788228409828974,
          null,
          0.42914777433301077,
          0.32235705584042795,
          null,
          0.42914777433301077,
          0.06567152649759506,
          null,
          0.42914777433301077,
          -0.15039099602690792,
          null,
          0.42914777433301077,
          0.07475218066278154,
          null,
          0.42914777433301077,
          0.3053686433959291,
          null,
          0.42914777433301077,
          -0.009421002565846888,
          null,
          0.42914777433301077,
          -0.3385112946364766,
          null,
          0.42914777433301077,
          -0.5189678776829191,
          null,
          0.42914777433301077,
          0.19785146870263332,
          null,
          0.637200155483396,
          -0.15039099602690792,
          null,
          0.637200155483396,
          0.06567152649759506,
          null,
          0.637200155483396,
          0.19785146870263332,
          null,
          0.637200155483396,
          0.32235705584042795,
          null,
          0.637200155483396,
          0.3053686433959291,
          null,
          0.637200155483396,
          0.3788228409828974,
          null,
          0.637200155483396,
          -0.02785190979446915,
          null,
          0.637200155483396,
          -0.5189678776829191,
          null,
          0.3788228409828974,
          0.32235705584042795,
          null,
          0.3788228409828974,
          0.07475218066278154,
          null,
          0.3788228409828974,
          0.10755941637393784,
          null,
          0.3788228409828974,
          -0.3385112946364766,
          null,
          0.3788228409828974,
          -0.009421002565846888,
          null,
          0.32235705584042795,
          -0.15039099602690792,
          null,
          0.32235705584042795,
          0.06567152649759506,
          null,
          0.32235705584042795,
          0.19785146870263332,
          null,
          0.32235705584042795,
          0.07475218066278154,
          null,
          0.32235705584042795,
          0.3053686433959291,
          null,
          0.32235705584042795,
          -0.14708588926556354,
          null,
          0.32235705584042795,
          -0.009421002565846888,
          null,
          0.32235705584042795,
          0.10755941637393784,
          null,
          0.32235705584042795,
          -0.6060150586899016,
          null,
          0.06567152649759506,
          -0.15039099602690792,
          null,
          0.06567152649759506,
          0.3053686433959291,
          null,
          0.06567152649759506,
          0.19785146870263332,
          null,
          0.06567152649759506,
          -0.009421002565846888,
          null,
          0.06567152649759506,
          0.07475218066278154,
          null,
          0.06567152649759506,
          -0.4821904380471258,
          null,
          0.06567152649759506,
          -0.6060150586899016,
          null,
          0.06567152649759506,
          -0.1821534332753527,
          null,
          0.06567152649759506,
          0.2642985529608147,
          null,
          0.06567152649759506,
          -0.9904725543224665,
          null,
          0.06567152649759506,
          -0.5189678776829191,
          null,
          -0.15039099602690792,
          0.19785146870263332,
          null,
          -0.15039099602690792,
          0.07475218066278154,
          null,
          -0.15039099602690792,
          0.3053686433959291,
          null,
          -0.15039099602690792,
          -0.14708588926556354,
          null,
          -0.15039099602690792,
          -0.5189678776829191,
          null,
          -0.15039099602690792,
          -0.009421002565846888,
          null,
          -0.15039099602690792,
          -0.1821534332753527,
          null,
          -0.15039099602690792,
          -0.6060150586899016,
          null,
          -0.15039099602690792,
          -0.3385112946364766,
          null,
          -0.15039099602690792,
          -0.4821904380471258,
          null,
          -0.15039099602690792,
          0.2642985529608147,
          null,
          -0.15039099602690792,
          -0.9904725543224665,
          null,
          -0.15039099602690792,
          -0.02785190979446915,
          null,
          0.07475218066278154,
          0.19785146870263332,
          null,
          0.07475218066278154,
          -0.1821534332753527,
          null,
          0.07475218066278154,
          0.3053686433959291,
          null,
          0.07475218066278154,
          -0.4821904380471258,
          null,
          0.07475218066278154,
          -0.3385112946364766,
          null,
          0.07475218066278154,
          -0.009421002565846888,
          null,
          0.07475218066278154,
          -0.14708588926556354,
          null,
          0.07475218066278154,
          0.2642985529608147,
          null,
          0.07475218066278154,
          -0.5189678776829191,
          null,
          0.3053686433959291,
          0.19785146870263332,
          null,
          0.3053686433959291,
          -0.009421002565846888,
          null,
          0.3053686433959291,
          0.2642985529608147,
          null,
          0.3053686433959291,
          0.6700308390736052,
          null,
          0.3053686433959291,
          -0.02785190979446915,
          null,
          0.3053686433959291,
          -0.5189678776829191,
          null,
          0.3053686433959291,
          -0.4821904380471258,
          null,
          -0.009421002565846888,
          0.19785146870263332,
          null,
          -0.009421002565846888,
          -0.3385112946364766,
          null,
          -0.009421002565846888,
          -0.14708588926556354,
          null,
          -0.009421002565846888,
          -0.1821534332753527,
          null,
          -0.009421002565846888,
          -0.4821904380471258,
          null,
          -0.3385112946364766,
          0.19785146870263332,
          null,
          -0.3385112946364766,
          -0.14708588926556354,
          null,
          -0.3385112946364766,
          -0.1821534332753527,
          null,
          -0.3385112946364766,
          -0.4821904380471258,
          null,
          -0.3385112946364766,
          -0.9904725543224665,
          null,
          -0.3385112946364766,
          0.10755941637393784,
          null,
          -0.5189678776829191,
          -0.02785190979446915,
          null,
          -0.5189678776829191,
          -0.1821534332753527,
          null,
          -0.5189678776829191,
          -0.14708588926556354,
          null,
          0.19785146870263332,
          0.2642985529608147,
          null,
          0.19785146870263332,
          -0.02785190979446915,
          null,
          0.19785146870263332,
          0.6700308390736052,
          null,
          0.19785146870263332,
          -0.1821534332753527,
          null,
          0.19785146870263332,
          -0.14708588926556354,
          null,
          -0.14708588926556354,
          -0.02785190979446915,
          null,
          -0.14708588926556354,
          -0.1821534332753527,
          null,
          -0.14708588926556354,
          0.10755941637393784,
          null,
          -0.1821534332753527,
          0.2642985529608147,
          null,
          -0.1821534332753527,
          -0.4821904380471258,
          null,
          0.2642985529608147,
          -0.02785190979446915,
          null,
          0.2642985529608147,
          0.6700308390736052,
          null
         ],
         "y": [
          0.30669702474837496,
          0.044262235372670405,
          null,
          0.30669702474837496,
          0.6867718771023008,
          null,
          0.30669702474837496,
          0.18693688862417301,
          null,
          0.30669702474837496,
          0.02700886608988156,
          null,
          0.30669702474837496,
          -0.05444819906448692,
          null,
          0.30669702474837496,
          -0.0885981670430259,
          null,
          0.30669702474837496,
          -0.18108079497933482,
          null,
          0.30669702474837496,
          0.205547397486768,
          null,
          0.30669702474837496,
          0.2345015493414036,
          null,
          0.30669702474837496,
          0.02007820629280777,
          null,
          0.30669702474837496,
          -0.31808546505167906,
          null,
          0.044262235372670405,
          -0.05444819906448692,
          null,
          0.044262235372670405,
          0.02700886608988156,
          null,
          0.044262235372670405,
          -0.31808546505167906,
          null,
          0.044262235372670405,
          0.18693688862417301,
          null,
          0.044262235372670405,
          -0.18108079497933482,
          null,
          0.044262235372670405,
          0.6867718771023008,
          null,
          0.044262235372670405,
          -0.6087073337542241,
          null,
          0.044262235372670405,
          0.02007820629280777,
          null,
          0.6867718771023008,
          0.18693688862417301,
          null,
          0.6867718771023008,
          -0.0885981670430259,
          null,
          0.6867718771023008,
          1,
          null,
          0.6867718771023008,
          0.2345015493414036,
          null,
          0.6867718771023008,
          0.205547397486768,
          null,
          0.18693688862417301,
          -0.05444819906448692,
          null,
          0.18693688862417301,
          0.02700886608988156,
          null,
          0.18693688862417301,
          -0.31808546505167906,
          null,
          0.18693688862417301,
          -0.0885981670430259,
          null,
          0.18693688862417301,
          -0.18108079497933482,
          null,
          0.18693688862417301,
          0.38087877727840497,
          null,
          0.18693688862417301,
          0.205547397486768,
          null,
          0.18693688862417301,
          1,
          null,
          0.18693688862417301,
          0.3784700061232975,
          null,
          0.02700886608988156,
          -0.05444819906448692,
          null,
          0.02700886608988156,
          -0.18108079497933482,
          null,
          0.02700886608988156,
          -0.31808546505167906,
          null,
          0.02700886608988156,
          0.205547397486768,
          null,
          0.02700886608988156,
          -0.0885981670430259,
          null,
          0.02700886608988156,
          -0.3042979394834205,
          null,
          0.02700886608988156,
          0.3784700061232975,
          null,
          0.02700886608988156,
          -0.32333630547055764,
          null,
          0.02700886608988156,
          -0.5933746094001975,
          null,
          0.02700886608988156,
          -0.2577776565321555,
          null,
          0.02700886608988156,
          0.02007820629280777,
          null,
          -0.05444819906448692,
          -0.31808546505167906,
          null,
          -0.05444819906448692,
          -0.0885981670430259,
          null,
          -0.05444819906448692,
          -0.18108079497933482,
          null,
          -0.05444819906448692,
          0.38087877727840497,
          null,
          -0.05444819906448692,
          0.02007820629280777,
          null,
          -0.05444819906448692,
          0.205547397486768,
          null,
          -0.05444819906448692,
          -0.32333630547055764,
          null,
          -0.05444819906448692,
          0.3784700061232975,
          null,
          -0.05444819906448692,
          0.2345015493414036,
          null,
          -0.05444819906448692,
          -0.3042979394834205,
          null,
          -0.05444819906448692,
          -0.5933746094001975,
          null,
          -0.05444819906448692,
          -0.2577776565321555,
          null,
          -0.05444819906448692,
          -0.6087073337542241,
          null,
          -0.0885981670430259,
          -0.31808546505167906,
          null,
          -0.0885981670430259,
          -0.32333630547055764,
          null,
          -0.0885981670430259,
          -0.18108079497933482,
          null,
          -0.0885981670430259,
          -0.3042979394834205,
          null,
          -0.0885981670430259,
          0.2345015493414036,
          null,
          -0.0885981670430259,
          0.205547397486768,
          null,
          -0.0885981670430259,
          0.38087877727840497,
          null,
          -0.0885981670430259,
          -0.5933746094001975,
          null,
          -0.0885981670430259,
          0.02007820629280777,
          null,
          -0.18108079497933482,
          -0.31808546505167906,
          null,
          -0.18108079497933482,
          0.205547397486768,
          null,
          -0.18108079497933482,
          -0.5933746094001975,
          null,
          -0.18108079497933482,
          -0.7414463576809999,
          null,
          -0.18108079497933482,
          -0.6087073337542241,
          null,
          -0.18108079497933482,
          0.02007820629280777,
          null,
          -0.18108079497933482,
          -0.3042979394834205,
          null,
          0.205547397486768,
          -0.31808546505167906,
          null,
          0.205547397486768,
          0.2345015493414036,
          null,
          0.205547397486768,
          0.38087877727840497,
          null,
          0.205547397486768,
          -0.32333630547055764,
          null,
          0.205547397486768,
          -0.3042979394834205,
          null,
          0.2345015493414036,
          -0.31808546505167906,
          null,
          0.2345015493414036,
          0.38087877727840497,
          null,
          0.2345015493414036,
          -0.32333630547055764,
          null,
          0.2345015493414036,
          -0.3042979394834205,
          null,
          0.2345015493414036,
          -0.2577776565321555,
          null,
          0.2345015493414036,
          1,
          null,
          0.02007820629280777,
          -0.6087073337542241,
          null,
          0.02007820629280777,
          -0.32333630547055764,
          null,
          0.02007820629280777,
          0.38087877727840497,
          null,
          -0.31808546505167906,
          -0.5933746094001975,
          null,
          -0.31808546505167906,
          -0.6087073337542241,
          null,
          -0.31808546505167906,
          -0.7414463576809999,
          null,
          -0.31808546505167906,
          -0.32333630547055764,
          null,
          -0.31808546505167906,
          0.38087877727840497,
          null,
          0.38087877727840497,
          -0.6087073337542241,
          null,
          0.38087877727840497,
          -0.32333630547055764,
          null,
          0.38087877727840497,
          1,
          null,
          -0.32333630547055764,
          -0.5933746094001975,
          null,
          -0.32333630547055764,
          -0.3042979394834205,
          null,
          -0.5933746094001975,
          -0.6087073337542241,
          null,
          -0.5933746094001975,
          -0.7414463576809999,
          null
         ]
        },
        {
         "hoverinfo": "text",
         "marker": {
          "color": [
           "lightgray",
           "lightgray",
           "lightgray",
           "lightgray",
           "dodgerblue",
           "dodgerblue",
           "lightgray",
           "lightgray",
           "lightgray",
           "lightgray",
           "lightgray",
           "lightgray",
           "lightgray",
           "lightgray",
           "lightgray",
           "lightgray",
           "lightgray",
           "lightgray",
           "lightgray",
           "lightgray",
           "lightgray"
          ],
          "size": 20
         },
         "mode": "markers",
         "text": [
          "Sevir.3G067800",
          "Sevir.7G022600",
          "Sevir.9G110700",
          "Sevir.4G227600",
          "Sevir.5G254600",
          "Sevir.5G058900",
          "Sevir.5G384100",
          "Sevir.8G223900",
          "Sevir.7G235000",
          "Sevir.7G007600",
          "Sevir.6G184600",
          "Sevir.4G038600",
          "Sevir.9G561400",
          "Sevir.3G301200",
          "Sevir.2G076801",
          "Sevir.1G057300",
          "Sevir.3G036900",
          "Sevir.7G069833",
          "Sevir.3G393600",
          "Sevir.5G055200",
          "Sevir.9G382900"
         ],
         "type": "scatter",
         "x": [
          0.42914777433301077,
          0.637200155483396,
          0.3788228409828974,
          0.32235705584042795,
          0.06567152649759506,
          -0.15039099602690792,
          0.07475218066278154,
          0.3053686433959291,
          -0.009421002565846888,
          -0.3385112946364766,
          -0.5189678776829191,
          0.19785146870263332,
          -0.14708588926556354,
          -0.1821534332753527,
          -0.6060150586899016,
          -0.4821904380471258,
          0.2642985529608147,
          -0.9904725543224665,
          -0.02785190979446915,
          0.6700308390736052,
          0.10755941637393784
         ],
         "y": [
          0.30669702474837496,
          0.044262235372670405,
          0.6867718771023008,
          0.18693688862417301,
          0.02700886608988156,
          -0.05444819906448692,
          -0.0885981670430259,
          -0.18108079497933482,
          0.205547397486768,
          0.2345015493414036,
          0.02007820629280777,
          -0.31808546505167906,
          0.38087877727840497,
          -0.32333630547055764,
          0.3784700061232975,
          -0.3042979394834205,
          -0.5933746094001975,
          -0.2577776565321555,
          -0.6087073337542241,
          -0.7414463576809999,
          1
         ]
        }
       ],
       "layout": {
        "annotations": [
         {
          "showarrow": false,
          "text": "Python code: <a href='https://plot.ly/ipython-notebooks/network-graphs/'> https://plot.ly/ipython-notebooks/network-graphs/</a>",
          "x": 0.005,
          "xref": "paper",
          "y": -0.002,
          "yref": "paper"
         }
        ],
        "hovermode": "closest",
        "margin": {
         "b": 20,
         "l": 5,
         "r": 5,
         "t": 40
        },
        "plot_bgcolor": "rgba(0,0,0,0)",
        "showlegend": false,
        "template": {
         "data": {
          "bar": [
           {
            "error_x": {
             "color": "#2a3f5f"
            },
            "error_y": {
             "color": "#2a3f5f"
            },
            "marker": {
             "line": {
              "color": "#E5ECF6",
              "width": 0.5
             }
            },
            "type": "bar"
           }
          ],
          "barpolar": [
           {
            "marker": {
             "line": {
              "color": "#E5ECF6",
              "width": 0.5
             }
            },
            "type": "barpolar"
           }
          ],
          "carpet": [
           {
            "aaxis": {
             "endlinecolor": "#2a3f5f",
             "gridcolor": "white",
             "linecolor": "white",
             "minorgridcolor": "white",
             "startlinecolor": "#2a3f5f"
            },
            "baxis": {
             "endlinecolor": "#2a3f5f",
             "gridcolor": "white",
             "linecolor": "white",
             "minorgridcolor": "white",
             "startlinecolor": "#2a3f5f"
            },
            "type": "carpet"
           }
          ],
          "choropleth": [
           {
            "colorbar": {
             "outlinewidth": 0,
             "ticks": ""
            },
            "type": "choropleth"
           }
          ],
          "contour": [
           {
            "colorbar": {
             "outlinewidth": 0,
             "ticks": ""
            },
            "colorscale": [
             [
              0,
              "#0d0887"
             ],
             [
              0.1111111111111111,
              "#46039f"
             ],
             [
              0.2222222222222222,
              "#7201a8"
             ],
             [
              0.3333333333333333,
              "#9c179e"
             ],
             [
              0.4444444444444444,
              "#bd3786"
             ],
             [
              0.5555555555555556,
              "#d8576b"
             ],
             [
              0.6666666666666666,
              "#ed7953"
             ],
             [
              0.7777777777777778,
              "#fb9f3a"
             ],
             [
              0.8888888888888888,
              "#fdca26"
             ],
             [
              1,
              "#f0f921"
             ]
            ],
            "type": "contour"
           }
          ],
          "contourcarpet": [
           {
            "colorbar": {
             "outlinewidth": 0,
             "ticks": ""
            },
            "type": "contourcarpet"
           }
          ],
          "heatmap": [
           {
            "colorbar": {
             "outlinewidth": 0,
             "ticks": ""
            },
            "colorscale": [
             [
              0,
              "#0d0887"
             ],
             [
              0.1111111111111111,
              "#46039f"
             ],
             [
              0.2222222222222222,
              "#7201a8"
             ],
             [
              0.3333333333333333,
              "#9c179e"
             ],
             [
              0.4444444444444444,
              "#bd3786"
             ],
             [
              0.5555555555555556,
              "#d8576b"
             ],
             [
              0.6666666666666666,
              "#ed7953"
             ],
             [
              0.7777777777777778,
              "#fb9f3a"
             ],
             [
              0.8888888888888888,
              "#fdca26"
             ],
             [
              1,
              "#f0f921"
             ]
            ],
            "type": "heatmap"
           }
          ],
          "heatmapgl": [
           {
            "colorbar": {
             "outlinewidth": 0,
             "ticks": ""
            },
            "colorscale": [
             [
              0,
              "#0d0887"
             ],
             [
              0.1111111111111111,
              "#46039f"
             ],
             [
              0.2222222222222222,
              "#7201a8"
             ],
             [
              0.3333333333333333,
              "#9c179e"
             ],
             [
              0.4444444444444444,
              "#bd3786"
             ],
             [
              0.5555555555555556,
              "#d8576b"
             ],
             [
              0.6666666666666666,
              "#ed7953"
             ],
             [
              0.7777777777777778,
              "#fb9f3a"
             ],
             [
              0.8888888888888888,
              "#fdca26"
             ],
             [
              1,
              "#f0f921"
             ]
            ],
            "type": "heatmapgl"
           }
          ],
          "histogram": [
           {
            "marker": {
             "colorbar": {
              "outlinewidth": 0,
              "ticks": ""
             }
            },
            "type": "histogram"
           }
          ],
          "histogram2d": [
           {
            "colorbar": {
             "outlinewidth": 0,
             "ticks": ""
            },
            "colorscale": [
             [
              0,
              "#0d0887"
             ],
             [
              0.1111111111111111,
              "#46039f"
             ],
             [
              0.2222222222222222,
              "#7201a8"
             ],
             [
              0.3333333333333333,
              "#9c179e"
             ],
             [
              0.4444444444444444,
              "#bd3786"
             ],
             [
              0.5555555555555556,
              "#d8576b"
             ],
             [
              0.6666666666666666,
              "#ed7953"
             ],
             [
              0.7777777777777778,
              "#fb9f3a"
             ],
             [
              0.8888888888888888,
              "#fdca26"
             ],
             [
              1,
              "#f0f921"
             ]
            ],
            "type": "histogram2d"
           }
          ],
          "histogram2dcontour": [
           {
            "colorbar": {
             "outlinewidth": 0,
             "ticks": ""
            },
            "colorscale": [
             [
              0,
              "#0d0887"
             ],
             [
              0.1111111111111111,
              "#46039f"
             ],
             [
              0.2222222222222222,
              "#7201a8"
             ],
             [
              0.3333333333333333,
              "#9c179e"
             ],
             [
              0.4444444444444444,
              "#bd3786"
             ],
             [
              0.5555555555555556,
              "#d8576b"
             ],
             [
              0.6666666666666666,
              "#ed7953"
             ],
             [
              0.7777777777777778,
              "#fb9f3a"
             ],
             [
              0.8888888888888888,
              "#fdca26"
             ],
             [
              1,
              "#f0f921"
             ]
            ],
            "type": "histogram2dcontour"
           }
          ],
          "mesh3d": [
           {
            "colorbar": {
             "outlinewidth": 0,
             "ticks": ""
            },
            "type": "mesh3d"
           }
          ],
          "parcoords": [
           {
            "line": {
             "colorbar": {
              "outlinewidth": 0,
              "ticks": ""
             }
            },
            "type": "parcoords"
           }
          ],
          "pie": [
           {
            "automargin": true,
            "type": "pie"
           }
          ],
          "scatter": [
           {
            "marker": {
             "colorbar": {
              "outlinewidth": 0,
              "ticks": ""
             }
            },
            "type": "scatter"
           }
          ],
          "scatter3d": [
           {
            "line": {
             "colorbar": {
              "outlinewidth": 0,
              "ticks": ""
             }
            },
            "marker": {
             "colorbar": {
              "outlinewidth": 0,
              "ticks": ""
             }
            },
            "type": "scatter3d"
           }
          ],
          "scattercarpet": [
           {
            "marker": {
             "colorbar": {
              "outlinewidth": 0,
              "ticks": ""
             }
            },
            "type": "scattercarpet"
           }
          ],
          "scattergeo": [
           {
            "marker": {
             "colorbar": {
              "outlinewidth": 0,
              "ticks": ""
             }
            },
            "type": "scattergeo"
           }
          ],
          "scattergl": [
           {
            "marker": {
             "colorbar": {
              "outlinewidth": 0,
              "ticks": ""
             }
            },
            "type": "scattergl"
           }
          ],
          "scattermapbox": [
           {
            "marker": {
             "colorbar": {
              "outlinewidth": 0,
              "ticks": ""
             }
            },
            "type": "scattermapbox"
           }
          ],
          "scatterpolar": [
           {
            "marker": {
             "colorbar": {
              "outlinewidth": 0,
              "ticks": ""
             }
            },
            "type": "scatterpolar"
           }
          ],
          "scatterpolargl": [
           {
            "marker": {
             "colorbar": {
              "outlinewidth": 0,
              "ticks": ""
             }
            },
            "type": "scatterpolargl"
           }
          ],
          "scatterternary": [
           {
            "marker": {
             "colorbar": {
              "outlinewidth": 0,
              "ticks": ""
             }
            },
            "type": "scatterternary"
           }
          ],
          "surface": [
           {
            "colorbar": {
             "outlinewidth": 0,
             "ticks": ""
            },
            "colorscale": [
             [
              0,
              "#0d0887"
             ],
             [
              0.1111111111111111,
              "#46039f"
             ],
             [
              0.2222222222222222,
              "#7201a8"
             ],
             [
              0.3333333333333333,
              "#9c179e"
             ],
             [
              0.4444444444444444,
              "#bd3786"
             ],
             [
              0.5555555555555556,
              "#d8576b"
             ],
             [
              0.6666666666666666,
              "#ed7953"
             ],
             [
              0.7777777777777778,
              "#fb9f3a"
             ],
             [
              0.8888888888888888,
              "#fdca26"
             ],
             [
              1,
              "#f0f921"
             ]
            ],
            "type": "surface"
           }
          ],
          "table": [
           {
            "cells": {
             "fill": {
              "color": "#EBF0F8"
             },
             "line": {
              "color": "white"
             }
            },
            "header": {
             "fill": {
              "color": "#C8D4E3"
             },
             "line": {
              "color": "white"
             }
            },
            "type": "table"
           }
          ]
         },
         "layout": {
          "annotationdefaults": {
           "arrowcolor": "#2a3f5f",
           "arrowhead": 0,
           "arrowwidth": 1
          },
          "coloraxis": {
           "colorbar": {
            "outlinewidth": 0,
            "ticks": ""
           }
          },
          "colorscale": {
           "diverging": [
            [
             0,
             "#8e0152"
            ],
            [
             0.1,
             "#c51b7d"
            ],
            [
             0.2,
             "#de77ae"
            ],
            [
             0.3,
             "#f1b6da"
            ],
            [
             0.4,
             "#fde0ef"
            ],
            [
             0.5,
             "#f7f7f7"
            ],
            [
             0.6,
             "#e6f5d0"
            ],
            [
             0.7,
             "#b8e186"
            ],
            [
             0.8,
             "#7fbc41"
            ],
            [
             0.9,
             "#4d9221"
            ],
            [
             1,
             "#276419"
            ]
           ],
           "sequential": [
            [
             0,
             "#0d0887"
            ],
            [
             0.1111111111111111,
             "#46039f"
            ],
            [
             0.2222222222222222,
             "#7201a8"
            ],
            [
             0.3333333333333333,
             "#9c179e"
            ],
            [
             0.4444444444444444,
             "#bd3786"
            ],
            [
             0.5555555555555556,
             "#d8576b"
            ],
            [
             0.6666666666666666,
             "#ed7953"
            ],
            [
             0.7777777777777778,
             "#fb9f3a"
            ],
            [
             0.8888888888888888,
             "#fdca26"
            ],
            [
             1,
             "#f0f921"
            ]
           ],
           "sequentialminus": [
            [
             0,
             "#0d0887"
            ],
            [
             0.1111111111111111,
             "#46039f"
            ],
            [
             0.2222222222222222,
             "#7201a8"
            ],
            [
             0.3333333333333333,
             "#9c179e"
            ],
            [
             0.4444444444444444,
             "#bd3786"
            ],
            [
             0.5555555555555556,
             "#d8576b"
            ],
            [
             0.6666666666666666,
             "#ed7953"
            ],
            [
             0.7777777777777778,
             "#fb9f3a"
            ],
            [
             0.8888888888888888,
             "#fdca26"
            ],
            [
             1,
             "#f0f921"
            ]
           ]
          },
          "colorway": [
           "#636efa",
           "#EF553B",
           "#00cc96",
           "#ab63fa",
           "#FFA15A",
           "#19d3f3",
           "#FF6692",
           "#B6E880",
           "#FF97FF",
           "#FECB52"
          ],
          "font": {
           "color": "#2a3f5f"
          },
          "geo": {
           "bgcolor": "white",
           "lakecolor": "white",
           "landcolor": "#E5ECF6",
           "showlakes": true,
           "showland": true,
           "subunitcolor": "white"
          },
          "hoverlabel": {
           "align": "left"
          },
          "hovermode": "closest",
          "mapbox": {
           "style": "light"
          },
          "paper_bgcolor": "white",
          "plot_bgcolor": "#E5ECF6",
          "polar": {
           "angularaxis": {
            "gridcolor": "white",
            "linecolor": "white",
            "ticks": ""
           },
           "bgcolor": "#E5ECF6",
           "radialaxis": {
            "gridcolor": "white",
            "linecolor": "white",
            "ticks": ""
           }
          },
          "scene": {
           "xaxis": {
            "backgroundcolor": "#E5ECF6",
            "gridcolor": "white",
            "gridwidth": 2,
            "linecolor": "white",
            "showbackground": true,
            "ticks": "",
            "zerolinecolor": "white"
           },
           "yaxis": {
            "backgroundcolor": "#E5ECF6",
            "gridcolor": "white",
            "gridwidth": 2,
            "linecolor": "white",
            "showbackground": true,
            "ticks": "",
            "zerolinecolor": "white"
           },
           "zaxis": {
            "backgroundcolor": "#E5ECF6",
            "gridcolor": "white",
            "gridwidth": 2,
            "linecolor": "white",
            "showbackground": true,
            "ticks": "",
            "zerolinecolor": "white"
           }
          },
          "shapedefaults": {
           "line": {
            "color": "#2a3f5f"
           }
          },
          "ternary": {
           "aaxis": {
            "gridcolor": "white",
            "linecolor": "white",
            "ticks": ""
           },
           "baxis": {
            "gridcolor": "white",
            "linecolor": "white",
            "ticks": ""
           },
           "bgcolor": "#E5ECF6",
           "caxis": {
            "gridcolor": "white",
            "linecolor": "white",
            "ticks": ""
           }
          },
          "title": {
           "x": 0.05
          },
          "xaxis": {
           "automargin": true,
           "gridcolor": "white",
           "linecolor": "white",
           "ticks": "",
           "title": {
            "standoff": 15
           },
           "zerolinecolor": "white",
           "zerolinewidth": 2
          },
          "yaxis": {
           "automargin": true,
           "gridcolor": "white",
           "linecolor": "white",
           "ticks": "",
           "title": {
            "standoff": 15
           },
           "zerolinecolor": "white",
           "zerolinewidth": 2
          }
         }
        },
        "title": {
         "font": {
          "size": 16
         },
         "text": "<br>Network N010M00022"
        },
        "xaxis": {
         "showgrid": false,
         "showticklabels": false,
         "zeroline": false
        },
        "yaxis": {
         "showgrid": false,
         "showticklabels": false,
         "zeroline": false
        }
       }
      },
      "text/html": [
       "<div>\n",
       "        \n",
       "        \n",
       "            <div id=\"5f0e4e50-a7b1-4c74-a882-1413242cbd0a\" class=\"plotly-graph-div\" style=\"height:525px; width:100%;\"></div>\n",
       "            <script type=\"text/javascript\">\n",
       "                require([\"plotly\"], function(Plotly) {\n",
       "                    window.PLOTLYENV=window.PLOTLYENV || {};\n",
       "                    \n",
       "                if (document.getElementById(\"5f0e4e50-a7b1-4c74-a882-1413242cbd0a\")) {\n",
       "                    Plotly.newPlot(\n",
       "                        '5f0e4e50-a7b1-4c74-a882-1413242cbd0a',\n",
       "                        [{\"hoverinfo\": \"none\", \"line\": {\"color\": \"#888\", \"width\": 0.5}, \"mode\": \"lines\", \"type\": \"scatter\", \"x\": [0.42914777433301077, 0.637200155483396, null, 0.42914777433301077, 0.3788228409828974, null, 0.42914777433301077, 0.32235705584042795, null, 0.42914777433301077, 0.06567152649759506, null, 0.42914777433301077, -0.15039099602690792, null, 0.42914777433301077, 0.07475218066278154, null, 0.42914777433301077, 0.3053686433959291, null, 0.42914777433301077, -0.009421002565846888, null, 0.42914777433301077, -0.3385112946364766, null, 0.42914777433301077, -0.5189678776829191, null, 0.42914777433301077, 0.19785146870263332, null, 0.637200155483396, -0.15039099602690792, null, 0.637200155483396, 0.06567152649759506, null, 0.637200155483396, 0.19785146870263332, null, 0.637200155483396, 0.32235705584042795, null, 0.637200155483396, 0.3053686433959291, null, 0.637200155483396, 0.3788228409828974, null, 0.637200155483396, -0.02785190979446915, null, 0.637200155483396, -0.5189678776829191, null, 0.3788228409828974, 0.32235705584042795, null, 0.3788228409828974, 0.07475218066278154, null, 0.3788228409828974, 0.10755941637393784, null, 0.3788228409828974, -0.3385112946364766, null, 0.3788228409828974, -0.009421002565846888, null, 0.32235705584042795, -0.15039099602690792, null, 0.32235705584042795, 0.06567152649759506, null, 0.32235705584042795, 0.19785146870263332, null, 0.32235705584042795, 0.07475218066278154, null, 0.32235705584042795, 0.3053686433959291, null, 0.32235705584042795, -0.14708588926556354, null, 0.32235705584042795, -0.009421002565846888, null, 0.32235705584042795, 0.10755941637393784, null, 0.32235705584042795, -0.6060150586899016, null, 0.06567152649759506, -0.15039099602690792, null, 0.06567152649759506, 0.3053686433959291, null, 0.06567152649759506, 0.19785146870263332, null, 0.06567152649759506, -0.009421002565846888, null, 0.06567152649759506, 0.07475218066278154, null, 0.06567152649759506, -0.4821904380471258, null, 0.06567152649759506, -0.6060150586899016, null, 0.06567152649759506, -0.1821534332753527, null, 0.06567152649759506, 0.2642985529608147, null, 0.06567152649759506, -0.9904725543224665, null, 0.06567152649759506, -0.5189678776829191, null, -0.15039099602690792, 0.19785146870263332, null, -0.15039099602690792, 0.07475218066278154, null, -0.15039099602690792, 0.3053686433959291, null, -0.15039099602690792, -0.14708588926556354, null, -0.15039099602690792, -0.5189678776829191, null, -0.15039099602690792, -0.009421002565846888, null, -0.15039099602690792, -0.1821534332753527, null, -0.15039099602690792, -0.6060150586899016, null, -0.15039099602690792, -0.3385112946364766, null, -0.15039099602690792, -0.4821904380471258, null, -0.15039099602690792, 0.2642985529608147, null, -0.15039099602690792, -0.9904725543224665, null, -0.15039099602690792, -0.02785190979446915, null, 0.07475218066278154, 0.19785146870263332, null, 0.07475218066278154, -0.1821534332753527, null, 0.07475218066278154, 0.3053686433959291, null, 0.07475218066278154, -0.4821904380471258, null, 0.07475218066278154, -0.3385112946364766, null, 0.07475218066278154, -0.009421002565846888, null, 0.07475218066278154, -0.14708588926556354, null, 0.07475218066278154, 0.2642985529608147, null, 0.07475218066278154, -0.5189678776829191, null, 0.3053686433959291, 0.19785146870263332, null, 0.3053686433959291, -0.009421002565846888, null, 0.3053686433959291, 0.2642985529608147, null, 0.3053686433959291, 0.6700308390736052, null, 0.3053686433959291, -0.02785190979446915, null, 0.3053686433959291, -0.5189678776829191, null, 0.3053686433959291, -0.4821904380471258, null, -0.009421002565846888, 0.19785146870263332, null, -0.009421002565846888, -0.3385112946364766, null, -0.009421002565846888, -0.14708588926556354, null, -0.009421002565846888, -0.1821534332753527, null, -0.009421002565846888, -0.4821904380471258, null, -0.3385112946364766, 0.19785146870263332, null, -0.3385112946364766, -0.14708588926556354, null, -0.3385112946364766, -0.1821534332753527, null, -0.3385112946364766, -0.4821904380471258, null, -0.3385112946364766, -0.9904725543224665, null, -0.3385112946364766, 0.10755941637393784, null, -0.5189678776829191, -0.02785190979446915, null, -0.5189678776829191, -0.1821534332753527, null, -0.5189678776829191, -0.14708588926556354, null, 0.19785146870263332, 0.2642985529608147, null, 0.19785146870263332, -0.02785190979446915, null, 0.19785146870263332, 0.6700308390736052, null, 0.19785146870263332, -0.1821534332753527, null, 0.19785146870263332, -0.14708588926556354, null, -0.14708588926556354, -0.02785190979446915, null, -0.14708588926556354, -0.1821534332753527, null, -0.14708588926556354, 0.10755941637393784, null, -0.1821534332753527, 0.2642985529608147, null, -0.1821534332753527, -0.4821904380471258, null, 0.2642985529608147, -0.02785190979446915, null, 0.2642985529608147, 0.6700308390736052, null], \"y\": [0.30669702474837496, 0.044262235372670405, null, 0.30669702474837496, 0.6867718771023008, null, 0.30669702474837496, 0.18693688862417301, null, 0.30669702474837496, 0.02700886608988156, null, 0.30669702474837496, -0.05444819906448692, null, 0.30669702474837496, -0.0885981670430259, null, 0.30669702474837496, -0.18108079497933482, null, 0.30669702474837496, 0.205547397486768, null, 0.30669702474837496, 0.2345015493414036, null, 0.30669702474837496, 0.02007820629280777, null, 0.30669702474837496, -0.31808546505167906, null, 0.044262235372670405, -0.05444819906448692, null, 0.044262235372670405, 0.02700886608988156, null, 0.044262235372670405, -0.31808546505167906, null, 0.044262235372670405, 0.18693688862417301, null, 0.044262235372670405, -0.18108079497933482, null, 0.044262235372670405, 0.6867718771023008, null, 0.044262235372670405, -0.6087073337542241, null, 0.044262235372670405, 0.02007820629280777, null, 0.6867718771023008, 0.18693688862417301, null, 0.6867718771023008, -0.0885981670430259, null, 0.6867718771023008, 1.0, null, 0.6867718771023008, 0.2345015493414036, null, 0.6867718771023008, 0.205547397486768, null, 0.18693688862417301, -0.05444819906448692, null, 0.18693688862417301, 0.02700886608988156, null, 0.18693688862417301, -0.31808546505167906, null, 0.18693688862417301, -0.0885981670430259, null, 0.18693688862417301, -0.18108079497933482, null, 0.18693688862417301, 0.38087877727840497, null, 0.18693688862417301, 0.205547397486768, null, 0.18693688862417301, 1.0, null, 0.18693688862417301, 0.3784700061232975, null, 0.02700886608988156, -0.05444819906448692, null, 0.02700886608988156, -0.18108079497933482, null, 0.02700886608988156, -0.31808546505167906, null, 0.02700886608988156, 0.205547397486768, null, 0.02700886608988156, -0.0885981670430259, null, 0.02700886608988156, -0.3042979394834205, null, 0.02700886608988156, 0.3784700061232975, null, 0.02700886608988156, -0.32333630547055764, null, 0.02700886608988156, -0.5933746094001975, null, 0.02700886608988156, -0.2577776565321555, null, 0.02700886608988156, 0.02007820629280777, null, -0.05444819906448692, -0.31808546505167906, null, -0.05444819906448692, -0.0885981670430259, null, -0.05444819906448692, -0.18108079497933482, null, -0.05444819906448692, 0.38087877727840497, null, -0.05444819906448692, 0.02007820629280777, null, -0.05444819906448692, 0.205547397486768, null, -0.05444819906448692, -0.32333630547055764, null, -0.05444819906448692, 0.3784700061232975, null, -0.05444819906448692, 0.2345015493414036, null, -0.05444819906448692, -0.3042979394834205, null, -0.05444819906448692, -0.5933746094001975, null, -0.05444819906448692, -0.2577776565321555, null, -0.05444819906448692, -0.6087073337542241, null, -0.0885981670430259, -0.31808546505167906, null, -0.0885981670430259, -0.32333630547055764, null, -0.0885981670430259, -0.18108079497933482, null, -0.0885981670430259, -0.3042979394834205, null, -0.0885981670430259, 0.2345015493414036, null, -0.0885981670430259, 0.205547397486768, null, -0.0885981670430259, 0.38087877727840497, null, -0.0885981670430259, -0.5933746094001975, null, -0.0885981670430259, 0.02007820629280777, null, -0.18108079497933482, -0.31808546505167906, null, -0.18108079497933482, 0.205547397486768, null, -0.18108079497933482, -0.5933746094001975, null, -0.18108079497933482, -0.7414463576809999, null, -0.18108079497933482, -0.6087073337542241, null, -0.18108079497933482, 0.02007820629280777, null, -0.18108079497933482, -0.3042979394834205, null, 0.205547397486768, -0.31808546505167906, null, 0.205547397486768, 0.2345015493414036, null, 0.205547397486768, 0.38087877727840497, null, 0.205547397486768, -0.32333630547055764, null, 0.205547397486768, -0.3042979394834205, null, 0.2345015493414036, -0.31808546505167906, null, 0.2345015493414036, 0.38087877727840497, null, 0.2345015493414036, -0.32333630547055764, null, 0.2345015493414036, -0.3042979394834205, null, 0.2345015493414036, -0.2577776565321555, null, 0.2345015493414036, 1.0, null, 0.02007820629280777, -0.6087073337542241, null, 0.02007820629280777, -0.32333630547055764, null, 0.02007820629280777, 0.38087877727840497, null, -0.31808546505167906, -0.5933746094001975, null, -0.31808546505167906, -0.6087073337542241, null, -0.31808546505167906, -0.7414463576809999, null, -0.31808546505167906, -0.32333630547055764, null, -0.31808546505167906, 0.38087877727840497, null, 0.38087877727840497, -0.6087073337542241, null, 0.38087877727840497, -0.32333630547055764, null, 0.38087877727840497, 1.0, null, -0.32333630547055764, -0.5933746094001975, null, -0.32333630547055764, -0.3042979394834205, null, -0.5933746094001975, -0.6087073337542241, null, -0.5933746094001975, -0.7414463576809999, null]}, {\"hoverinfo\": \"text\", \"marker\": {\"color\": [\"lightgray\", \"lightgray\", \"lightgray\", \"lightgray\", \"dodgerblue\", \"dodgerblue\", \"lightgray\", \"lightgray\", \"lightgray\", \"lightgray\", \"lightgray\", \"lightgray\", \"lightgray\", \"lightgray\", \"lightgray\", \"lightgray\", \"lightgray\", \"lightgray\", \"lightgray\", \"lightgray\", \"lightgray\"], \"size\": 20}, \"mode\": \"markers\", \"text\": [\"Sevir.3G067800\", \"Sevir.7G022600\", \"Sevir.9G110700\", \"Sevir.4G227600\", \"Sevir.5G254600\", \"Sevir.5G058900\", \"Sevir.5G384100\", \"Sevir.8G223900\", \"Sevir.7G235000\", \"Sevir.7G007600\", \"Sevir.6G184600\", \"Sevir.4G038600\", \"Sevir.9G561400\", \"Sevir.3G301200\", \"Sevir.2G076801\", \"Sevir.1G057300\", \"Sevir.3G036900\", \"Sevir.7G069833\", \"Sevir.3G393600\", \"Sevir.5G055200\", \"Sevir.9G382900\"], \"type\": \"scatter\", \"x\": [0.42914777433301077, 0.637200155483396, 0.3788228409828974, 0.32235705584042795, 0.06567152649759506, -0.15039099602690792, 0.07475218066278154, 0.3053686433959291, -0.009421002565846888, -0.3385112946364766, -0.5189678776829191, 0.19785146870263332, -0.14708588926556354, -0.1821534332753527, -0.6060150586899016, -0.4821904380471258, 0.2642985529608147, -0.9904725543224665, -0.02785190979446915, 0.6700308390736052, 0.10755941637393784], \"y\": [0.30669702474837496, 0.044262235372670405, 0.6867718771023008, 0.18693688862417301, 0.02700886608988156, -0.05444819906448692, -0.0885981670430259, -0.18108079497933482, 0.205547397486768, 0.2345015493414036, 0.02007820629280777, -0.31808546505167906, 0.38087877727840497, -0.32333630547055764, 0.3784700061232975, -0.3042979394834205, -0.5933746094001975, -0.2577776565321555, -0.6087073337542241, -0.7414463576809999, 1.0]}],\n",
       "                        {\"annotations\": [{\"showarrow\": false, \"text\": \"Python code: <a href='https://plot.ly/ipython-notebooks/network-graphs/'> https://plot.ly/ipython-notebooks/network-graphs/</a>\", \"x\": 0.005, \"xref\": \"paper\", \"y\": -0.002, \"yref\": \"paper\"}], \"hovermode\": \"closest\", \"margin\": {\"b\": 20, \"l\": 5, \"r\": 5, \"t\": 40}, \"plot_bgcolor\": \"rgba(0,0,0,0)\", \"showlegend\": false, \"template\": {\"data\": {\"bar\": [{\"error_x\": {\"color\": \"#2a3f5f\"}, \"error_y\": {\"color\": \"#2a3f5f\"}, \"marker\": {\"line\": {\"color\": \"#E5ECF6\", \"width\": 0.5}}, \"type\": \"bar\"}], \"barpolar\": [{\"marker\": {\"line\": {\"color\": \"#E5ECF6\", \"width\": 0.5}}, \"type\": \"barpolar\"}], \"carpet\": [{\"aaxis\": {\"endlinecolor\": \"#2a3f5f\", \"gridcolor\": \"white\", \"linecolor\": \"white\", \"minorgridcolor\": \"white\", \"startlinecolor\": \"#2a3f5f\"}, \"baxis\": {\"endlinecolor\": \"#2a3f5f\", \"gridcolor\": \"white\", \"linecolor\": \"white\", \"minorgridcolor\": \"white\", \"startlinecolor\": \"#2a3f5f\"}, \"type\": \"carpet\"}], \"choropleth\": [{\"colorbar\": {\"outlinewidth\": 0, \"ticks\": \"\"}, \"type\": \"choropleth\"}], \"contour\": [{\"colorbar\": {\"outlinewidth\": 0, \"ticks\": \"\"}, \"colorscale\": [[0.0, \"#0d0887\"], [0.1111111111111111, \"#46039f\"], [0.2222222222222222, \"#7201a8\"], [0.3333333333333333, \"#9c179e\"], [0.4444444444444444, \"#bd3786\"], [0.5555555555555556, \"#d8576b\"], [0.6666666666666666, \"#ed7953\"], [0.7777777777777778, \"#fb9f3a\"], [0.8888888888888888, \"#fdca26\"], [1.0, \"#f0f921\"]], \"type\": \"contour\"}], \"contourcarpet\": [{\"colorbar\": {\"outlinewidth\": 0, \"ticks\": \"\"}, \"type\": \"contourcarpet\"}], \"heatmap\": [{\"colorbar\": {\"outlinewidth\": 0, \"ticks\": \"\"}, \"colorscale\": [[0.0, \"#0d0887\"], [0.1111111111111111, \"#46039f\"], [0.2222222222222222, \"#7201a8\"], [0.3333333333333333, \"#9c179e\"], [0.4444444444444444, \"#bd3786\"], [0.5555555555555556, \"#d8576b\"], [0.6666666666666666, \"#ed7953\"], [0.7777777777777778, \"#fb9f3a\"], [0.8888888888888888, \"#fdca26\"], [1.0, \"#f0f921\"]], \"type\": \"heatmap\"}], \"heatmapgl\": [{\"colorbar\": {\"outlinewidth\": 0, \"ticks\": \"\"}, \"colorscale\": [[0.0, \"#0d0887\"], [0.1111111111111111, \"#46039f\"], [0.2222222222222222, \"#7201a8\"], [0.3333333333333333, \"#9c179e\"], [0.4444444444444444, \"#bd3786\"], [0.5555555555555556, \"#d8576b\"], [0.6666666666666666, \"#ed7953\"], [0.7777777777777778, \"#fb9f3a\"], [0.8888888888888888, \"#fdca26\"], [1.0, \"#f0f921\"]], \"type\": \"heatmapgl\"}], \"histogram\": [{\"marker\": {\"colorbar\": {\"outlinewidth\": 0, \"ticks\": \"\"}}, \"type\": \"histogram\"}], \"histogram2d\": [{\"colorbar\": {\"outlinewidth\": 0, \"ticks\": \"\"}, \"colorscale\": [[0.0, \"#0d0887\"], [0.1111111111111111, \"#46039f\"], [0.2222222222222222, \"#7201a8\"], [0.3333333333333333, \"#9c179e\"], [0.4444444444444444, \"#bd3786\"], [0.5555555555555556, \"#d8576b\"], [0.6666666666666666, \"#ed7953\"], [0.7777777777777778, \"#fb9f3a\"], [0.8888888888888888, \"#fdca26\"], [1.0, \"#f0f921\"]], \"type\": \"histogram2d\"}], \"histogram2dcontour\": [{\"colorbar\": {\"outlinewidth\": 0, \"ticks\": \"\"}, \"colorscale\": [[0.0, \"#0d0887\"], [0.1111111111111111, \"#46039f\"], [0.2222222222222222, \"#7201a8\"], [0.3333333333333333, \"#9c179e\"], [0.4444444444444444, \"#bd3786\"], [0.5555555555555556, \"#d8576b\"], [0.6666666666666666, \"#ed7953\"], [0.7777777777777778, \"#fb9f3a\"], [0.8888888888888888, \"#fdca26\"], [1.0, \"#f0f921\"]], \"type\": \"histogram2dcontour\"}], \"mesh3d\": [{\"colorbar\": {\"outlinewidth\": 0, \"ticks\": \"\"}, \"type\": \"mesh3d\"}], \"parcoords\": [{\"line\": {\"colorbar\": {\"outlinewidth\": 0, \"ticks\": \"\"}}, \"type\": \"parcoords\"}], \"pie\": [{\"automargin\": true, \"type\": \"pie\"}], \"scatter\": [{\"marker\": {\"colorbar\": {\"outlinewidth\": 0, \"ticks\": \"\"}}, \"type\": \"scatter\"}], \"scatter3d\": [{\"line\": {\"colorbar\": {\"outlinewidth\": 0, \"ticks\": \"\"}}, \"marker\": {\"colorbar\": {\"outlinewidth\": 0, \"ticks\": \"\"}}, \"type\": \"scatter3d\"}], \"scattercarpet\": [{\"marker\": {\"colorbar\": {\"outlinewidth\": 0, \"ticks\": \"\"}}, \"type\": \"scattercarpet\"}], \"scattergeo\": [{\"marker\": {\"colorbar\": {\"outlinewidth\": 0, \"ticks\": \"\"}}, \"type\": \"scattergeo\"}], \"scattergl\": [{\"marker\": {\"colorbar\": {\"outlinewidth\": 0, \"ticks\": \"\"}}, \"type\": \"scattergl\"}], \"scattermapbox\": [{\"marker\": {\"colorbar\": {\"outlinewidth\": 0, \"ticks\": \"\"}}, \"type\": \"scattermapbox\"}], \"scatterpolar\": [{\"marker\": {\"colorbar\": {\"outlinewidth\": 0, \"ticks\": \"\"}}, \"type\": \"scatterpolar\"}], \"scatterpolargl\": [{\"marker\": {\"colorbar\": {\"outlinewidth\": 0, \"ticks\": \"\"}}, \"type\": \"scatterpolargl\"}], \"scatterternary\": [{\"marker\": {\"colorbar\": {\"outlinewidth\": 0, \"ticks\": \"\"}}, \"type\": \"scatterternary\"}], \"surface\": [{\"colorbar\": {\"outlinewidth\": 0, \"ticks\": \"\"}, \"colorscale\": [[0.0, \"#0d0887\"], [0.1111111111111111, \"#46039f\"], [0.2222222222222222, \"#7201a8\"], [0.3333333333333333, \"#9c179e\"], [0.4444444444444444, \"#bd3786\"], [0.5555555555555556, \"#d8576b\"], [0.6666666666666666, \"#ed7953\"], [0.7777777777777778, \"#fb9f3a\"], [0.8888888888888888, \"#fdca26\"], [1.0, \"#f0f921\"]], \"type\": \"surface\"}], \"table\": [{\"cells\": {\"fill\": {\"color\": \"#EBF0F8\"}, \"line\": {\"color\": \"white\"}}, \"header\": {\"fill\": {\"color\": \"#C8D4E3\"}, \"line\": {\"color\": \"white\"}}, \"type\": \"table\"}]}, \"layout\": {\"annotationdefaults\": {\"arrowcolor\": \"#2a3f5f\", \"arrowhead\": 0, \"arrowwidth\": 1}, \"coloraxis\": {\"colorbar\": {\"outlinewidth\": 0, \"ticks\": \"\"}}, \"colorscale\": {\"diverging\": [[0, \"#8e0152\"], [0.1, \"#c51b7d\"], [0.2, \"#de77ae\"], [0.3, \"#f1b6da\"], [0.4, \"#fde0ef\"], [0.5, \"#f7f7f7\"], [0.6, \"#e6f5d0\"], [0.7, \"#b8e186\"], [0.8, \"#7fbc41\"], [0.9, \"#4d9221\"], [1, \"#276419\"]], \"sequential\": [[0.0, \"#0d0887\"], [0.1111111111111111, \"#46039f\"], [0.2222222222222222, \"#7201a8\"], [0.3333333333333333, \"#9c179e\"], [0.4444444444444444, \"#bd3786\"], [0.5555555555555556, \"#d8576b\"], [0.6666666666666666, \"#ed7953\"], [0.7777777777777778, \"#fb9f3a\"], [0.8888888888888888, \"#fdca26\"], [1.0, \"#f0f921\"]], \"sequentialminus\": [[0.0, \"#0d0887\"], [0.1111111111111111, \"#46039f\"], [0.2222222222222222, \"#7201a8\"], [0.3333333333333333, \"#9c179e\"], [0.4444444444444444, \"#bd3786\"], [0.5555555555555556, \"#d8576b\"], [0.6666666666666666, \"#ed7953\"], [0.7777777777777778, \"#fb9f3a\"], [0.8888888888888888, \"#fdca26\"], [1.0, \"#f0f921\"]]}, \"colorway\": [\"#636efa\", \"#EF553B\", \"#00cc96\", \"#ab63fa\", \"#FFA15A\", \"#19d3f3\", \"#FF6692\", \"#B6E880\", \"#FF97FF\", \"#FECB52\"], \"font\": {\"color\": \"#2a3f5f\"}, \"geo\": {\"bgcolor\": \"white\", \"lakecolor\": \"white\", \"landcolor\": \"#E5ECF6\", \"showlakes\": true, \"showland\": true, \"subunitcolor\": \"white\"}, \"hoverlabel\": {\"align\": \"left\"}, \"hovermode\": \"closest\", \"mapbox\": {\"style\": \"light\"}, \"paper_bgcolor\": \"white\", \"plot_bgcolor\": \"#E5ECF6\", \"polar\": {\"angularaxis\": {\"gridcolor\": \"white\", \"linecolor\": \"white\", \"ticks\": \"\"}, \"bgcolor\": \"#E5ECF6\", \"radialaxis\": {\"gridcolor\": \"white\", \"linecolor\": \"white\", \"ticks\": \"\"}}, \"scene\": {\"xaxis\": {\"backgroundcolor\": \"#E5ECF6\", \"gridcolor\": \"white\", \"gridwidth\": 2, \"linecolor\": \"white\", \"showbackground\": true, \"ticks\": \"\", \"zerolinecolor\": \"white\"}, \"yaxis\": {\"backgroundcolor\": \"#E5ECF6\", \"gridcolor\": \"white\", \"gridwidth\": 2, \"linecolor\": \"white\", \"showbackground\": true, \"ticks\": \"\", \"zerolinecolor\": \"white\"}, \"zaxis\": {\"backgroundcolor\": \"#E5ECF6\", \"gridcolor\": \"white\", \"gridwidth\": 2, \"linecolor\": \"white\", \"showbackground\": true, \"ticks\": \"\", \"zerolinecolor\": \"white\"}}, \"shapedefaults\": {\"line\": {\"color\": \"#2a3f5f\"}}, \"ternary\": {\"aaxis\": {\"gridcolor\": \"white\", \"linecolor\": \"white\", \"ticks\": \"\"}, \"baxis\": {\"gridcolor\": \"white\", \"linecolor\": \"white\", \"ticks\": \"\"}, \"bgcolor\": \"#E5ECF6\", \"caxis\": {\"gridcolor\": \"white\", \"linecolor\": \"white\", \"ticks\": \"\"}}, \"title\": {\"x\": 0.05}, \"xaxis\": {\"automargin\": true, \"gridcolor\": \"white\", \"linecolor\": \"white\", \"ticks\": \"\", \"title\": {\"standoff\": 15}, \"zerolinecolor\": \"white\", \"zerolinewidth\": 2}, \"yaxis\": {\"automargin\": true, \"gridcolor\": \"white\", \"linecolor\": \"white\", \"ticks\": \"\", \"title\": {\"standoff\": 15}, \"zerolinecolor\": \"white\", \"zerolinewidth\": 2}}}, \"title\": {\"font\": {\"size\": 16}, \"text\": \"<br>Network N010M00022\"}, \"xaxis\": {\"showgrid\": false, \"showticklabels\": false, \"zeroline\": false}, \"yaxis\": {\"showgrid\": false, \"showticklabels\": false, \"zeroline\": false}},\n",
       "                        {\"responsive\": true}\n",
       "                    ).then(function(){\n",
       "                            \n",
       "var gd = document.getElementById('5f0e4e50-a7b1-4c74-a882-1413242cbd0a');\n",
       "var x = new MutationObserver(function (mutations, observer) {{\n",
       "        var display = window.getComputedStyle(gd).display;\n",
       "        if (!display || display === 'none') {{\n",
       "            console.log([gd, 'removed!']);\n",
       "            Plotly.purge(gd);\n",
       "            observer.disconnect();\n",
       "        }}\n",
       "}});\n",
       "\n",
       "// Listen for the removal of the full notebook cells\n",
       "var notebookContainer = gd.closest('#notebook-container');\n",
       "if (notebookContainer) {{\n",
       "    x.observe(notebookContainer, {childList: true});\n",
       "}}\n",
       "\n",
       "// Listen for the clearing of the current output cell\n",
       "var outputEl = gd.closest('.output');\n",
       "if (outputEl) {{\n",
       "    x.observe(outputEl, {childList: true});\n",
       "}}\n",
       "\n",
       "                        })\n",
       "                };\n",
       "                });\n",
       "            </script>\n",
       "        </div>"
      ]
     },
     "metadata": {},
     "output_type": "display_data"
    }
   ],
   "source": []
  },
  {
   "cell_type": "markdown",
   "metadata": {},
   "source": [
    "# 3D rendering of networks"
   ]
  },
  {
   "cell_type": "code",
   "execution_count": 17,
   "metadata": {},
   "outputs": [
    {
     "data": {
      "application/vnd.plotly.v1+json": {
       "config": {
        "linkText": "Export to plot.ly",
        "plotlyServerURL": "https://plot.ly",
        "showLink": false
       },
       "data": [
        {
         "hoverinfo": "none",
         "line": {
          "color": "#888",
          "width": 0.5
         },
         "mode": "lines",
         "type": "scatter3d",
         "x": [
          0.15225998147183478,
          0.24455655119711583,
          null,
          0.15225998147183478,
          -0.2157880236049984,
          null,
          0.15225998147183478,
          -0.0055146804311104695,
          null,
          0.15225998147183478,
          0.06343278420356267,
          null,
          0.15225998147183478,
          -0.07077939820571022,
          null,
          0.15225998147183478,
          0.2502280705597523,
          null,
          0.15225998147183478,
          0.3332031984381839,
          null,
          0.15225998147183478,
          0.02584512031093672,
          null,
          0.15225998147183478,
          -0.15501301205783524,
          null,
          0.15225998147183478,
          -0.46950575378158504,
          null,
          0.15225998147183478,
          0.2770545253642678,
          null,
          0.24455655119711583,
          -0.07077939820571022,
          null,
          0.24455655119711583,
          0.06343278420356267,
          null,
          0.24455655119711583,
          0.2770545253642678,
          null,
          0.24455655119711583,
          -0.0055146804311104695,
          null,
          0.24455655119711583,
          0.3332031984381839,
          null,
          0.24455655119711583,
          -0.2157880236049984,
          null,
          0.24455655119711583,
          0.04298624266192745,
          null,
          0.24455655119711583,
          -0.46950575378158504,
          null,
          -0.2157880236049984,
          -0.0055146804311104695,
          null,
          -0.2157880236049984,
          0.2502280705597523,
          null,
          -0.2157880236049984,
          -0.6294711844900192,
          null,
          -0.2157880236049984,
          -0.15501301205783524,
          null,
          -0.2157880236049984,
          0.02584512031093672,
          null,
          -0.0055146804311104695,
          -0.07077939820571022,
          null,
          -0.0055146804311104695,
          0.06343278420356267,
          null,
          -0.0055146804311104695,
          0.2770545253642678,
          null,
          -0.0055146804311104695,
          0.2502280705597523,
          null,
          -0.0055146804311104695,
          0.3332031984381839,
          null,
          -0.0055146804311104695,
          -0.3805820970809462,
          null,
          -0.0055146804311104695,
          0.02584512031093672,
          null,
          -0.0055146804311104695,
          -0.6294711844900192,
          null,
          -0.0055146804311104695,
          -0.5569884255691185,
          null,
          0.06343278420356267,
          -0.07077939820571022,
          null,
          0.06343278420356267,
          0.3332031984381839,
          null,
          0.06343278420356267,
          0.2770545253642678,
          null,
          0.06343278420356267,
          0.02584512031093672,
          null,
          0.06343278420356267,
          0.2502280705597523,
          null,
          0.06343278420356267,
          0.4255360591798328,
          null,
          0.06343278420356267,
          -0.5569884255691185,
          null,
          0.06343278420356267,
          0.251491419295214,
          null,
          0.06343278420356267,
          0.5597179977236653,
          null,
          0.06343278420356267,
          -1,
          null,
          0.06343278420356267,
          -0.46950575378158504,
          null,
          -0.07077939820571022,
          0.2770545253642678,
          null,
          -0.07077939820571022,
          0.2502280705597523,
          null,
          -0.07077939820571022,
          0.3332031984381839,
          null,
          -0.07077939820571022,
          -0.3805820970809462,
          null,
          -0.07077939820571022,
          -0.46950575378158504,
          null,
          -0.07077939820571022,
          0.02584512031093672,
          null,
          -0.07077939820571022,
          0.251491419295214,
          null,
          -0.07077939820571022,
          -0.5569884255691185,
          null,
          -0.07077939820571022,
          -0.15501301205783524,
          null,
          -0.07077939820571022,
          0.4255360591798328,
          null,
          -0.07077939820571022,
          0.5597179977236653,
          null,
          -0.07077939820571022,
          -1,
          null,
          -0.07077939820571022,
          0.04298624266192745,
          null,
          0.2502280705597523,
          0.2770545253642678,
          null,
          0.2502280705597523,
          0.251491419295214,
          null,
          0.2502280705597523,
          0.3332031984381839,
          null,
          0.2502280705597523,
          0.4255360591798328,
          null,
          0.2502280705597523,
          -0.15501301205783524,
          null,
          0.2502280705597523,
          0.02584512031093672,
          null,
          0.2502280705597523,
          -0.3805820970809462,
          null,
          0.2502280705597523,
          0.5597179977236653,
          null,
          0.2502280705597523,
          -0.46950575378158504,
          null,
          0.3332031984381839,
          0.2770545253642678,
          null,
          0.3332031984381839,
          0.02584512031093672,
          null,
          0.3332031984381839,
          0.5597179977236653,
          null,
          0.3332031984381839,
          0.8573306248150324,
          null,
          0.3332031984381839,
          0.04298624266192745,
          null,
          0.3332031984381839,
          -0.46950575378158504,
          null,
          0.3332031984381839,
          0.4255360591798328,
          null,
          0.02584512031093672,
          0.2770545253642678,
          null,
          0.02584512031093672,
          -0.15501301205783524,
          null,
          0.02584512031093672,
          -0.3805820970809462,
          null,
          0.02584512031093672,
          0.251491419295214,
          null,
          0.02584512031093672,
          0.4255360591798328,
          null,
          -0.15501301205783524,
          0.2770545253642678,
          null,
          -0.15501301205783524,
          -0.3805820970809462,
          null,
          -0.15501301205783524,
          0.251491419295214,
          null,
          -0.15501301205783524,
          0.4255360591798328,
          null,
          -0.15501301205783524,
          -1,
          null,
          -0.15501301205783524,
          -0.6294711844900192,
          null,
          -0.46950575378158504,
          0.04298624266192745,
          null,
          -0.46950575378158504,
          0.251491419295214,
          null,
          -0.46950575378158504,
          -0.3805820970809462,
          null,
          0.2770545253642678,
          0.5597179977236653,
          null,
          0.2770545253642678,
          0.04298624266192745,
          null,
          0.2770545253642678,
          0.8573306248150324,
          null,
          0.2770545253642678,
          0.251491419295214,
          null,
          0.2770545253642678,
          -0.3805820970809462,
          null,
          -0.3805820970809462,
          0.04298624266192745,
          null,
          -0.3805820970809462,
          0.251491419295214,
          null,
          -0.3805820970809462,
          -0.6294711844900192,
          null,
          0.251491419295214,
          0.5597179977236653,
          null,
          0.251491419295214,
          0.4255360591798328,
          null,
          0.5597179977236653,
          0.04298624266192745,
          null,
          0.5597179977236653,
          0.8573306248150324,
          null
         ],
         "y": [
          -0.2556214443137911,
          0.15835227344811717,
          null,
          -0.2556214443137911,
          -0.6628833033067038,
          null,
          -0.2556214443137911,
          -0.12384172832064731,
          null,
          -0.2556214443137911,
          0.06468835077129828,
          null,
          -0.2556214443137911,
          0.05282903282261638,
          null,
          -0.2556214443137911,
          -0.16533977212599565,
          null,
          -0.2556214443137911,
          0.2318105278942487,
          null,
          -0.2556214443137911,
          -0.31591450150215183,
          null,
          -0.2556214443137911,
          -0.5379175879544716,
          null,
          -0.2556214443137911,
          -0.03074872658507179,
          null,
          -0.2556214443137911,
          0.3466134339108379,
          null,
          0.15835227344811717,
          0.05282903282261638,
          null,
          0.15835227344811717,
          0.06468835077129828,
          null,
          0.15835227344811717,
          0.3466134339108379,
          null,
          0.15835227344811717,
          -0.12384172832064731,
          null,
          0.15835227344811717,
          0.2318105278942487,
          null,
          0.15835227344811717,
          -0.6628833033067038,
          null,
          0.15835227344811717,
          0.7024433970991976,
          null,
          0.15835227344811717,
          -0.03074872658507179,
          null,
          -0.6628833033067038,
          -0.12384172832064731,
          null,
          -0.6628833033067038,
          -0.16533977212599565,
          null,
          -0.6628833033067038,
          -0.9564336195234256,
          null,
          -0.6628833033067038,
          -0.5379175879544716,
          null,
          -0.6628833033067038,
          -0.31591450150215183,
          null,
          -0.12384172832064731,
          0.05282903282261638,
          null,
          -0.12384172832064731,
          0.06468835077129828,
          null,
          -0.12384172832064731,
          0.3466134339108379,
          null,
          -0.12384172832064731,
          -0.16533977212599565,
          null,
          -0.12384172832064731,
          0.2318105278942487,
          null,
          -0.12384172832064731,
          -0.3721323456498966,
          null,
          -0.12384172832064731,
          -0.31591450150215183,
          null,
          -0.12384172832064731,
          -0.9564336195234256,
          null,
          -0.12384172832064731,
          0.5244622027930433,
          null,
          0.06468835077129828,
          0.05282903282261638,
          null,
          0.06468835077129828,
          0.2318105278942487,
          null,
          0.06468835077129828,
          0.3466134339108379,
          null,
          0.06468835077129828,
          -0.31591450150215183,
          null,
          0.06468835077129828,
          -0.16533977212599565,
          null,
          0.06468835077129828,
          -0.46881761918084136,
          null,
          0.06468835077129828,
          0.5244622027930433,
          null,
          0.06468835077129828,
          -0.039518912243451366,
          null,
          0.06468835077129828,
          0.48431306236817123,
          null,
          0.06468835077129828,
          0.4891453446638871,
          null,
          0.06468835077129828,
          -0.03074872658507179,
          null,
          0.05282903282261638,
          0.3466134339108379,
          null,
          0.05282903282261638,
          -0.16533977212599565,
          null,
          0.05282903282261638,
          0.2318105278942487,
          null,
          0.05282903282261638,
          -0.3721323456498966,
          null,
          0.05282903282261638,
          -0.03074872658507179,
          null,
          0.05282903282261638,
          -0.31591450150215183,
          null,
          0.05282903282261638,
          -0.039518912243451366,
          null,
          0.05282903282261638,
          0.5244622027930433,
          null,
          0.05282903282261638,
          -0.5379175879544716,
          null,
          0.05282903282261638,
          -0.46881761918084136,
          null,
          0.05282903282261638,
          0.48431306236817123,
          null,
          0.05282903282261638,
          0.4891453446638871,
          null,
          0.05282903282261638,
          0.7024433970991976,
          null,
          -0.16533977212599565,
          0.3466134339108379,
          null,
          -0.16533977212599565,
          -0.039518912243451366,
          null,
          -0.16533977212599565,
          0.2318105278942487,
          null,
          -0.16533977212599565,
          -0.46881761918084136,
          null,
          -0.16533977212599565,
          -0.5379175879544716,
          null,
          -0.16533977212599565,
          -0.31591450150215183,
          null,
          -0.16533977212599565,
          -0.3721323456498966,
          null,
          -0.16533977212599565,
          0.48431306236817123,
          null,
          -0.16533977212599565,
          -0.03074872658507179,
          null,
          0.2318105278942487,
          0.3466134339108379,
          null,
          0.2318105278942487,
          -0.31591450150215183,
          null,
          0.2318105278942487,
          0.48431306236817123,
          null,
          0.2318105278942487,
          0.8745119349350289,
          null,
          0.2318105278942487,
          0.7024433970991976,
          null,
          0.2318105278942487,
          -0.03074872658507179,
          null,
          0.2318105278942487,
          -0.46881761918084136,
          null,
          -0.31591450150215183,
          0.3466134339108379,
          null,
          -0.31591450150215183,
          -0.5379175879544716,
          null,
          -0.31591450150215183,
          -0.3721323456498966,
          null,
          -0.31591450150215183,
          -0.039518912243451366,
          null,
          -0.31591450150215183,
          -0.46881761918084136,
          null,
          -0.5379175879544716,
          0.3466134339108379,
          null,
          -0.5379175879544716,
          -0.3721323456498966,
          null,
          -0.5379175879544716,
          -0.039518912243451366,
          null,
          -0.5379175879544716,
          -0.46881761918084136,
          null,
          -0.5379175879544716,
          0.4891453446638871,
          null,
          -0.5379175879544716,
          -0.9564336195234256,
          null,
          -0.03074872658507179,
          0.7024433970991976,
          null,
          -0.03074872658507179,
          -0.039518912243451366,
          null,
          -0.03074872658507179,
          -0.3721323456498966,
          null,
          0.3466134339108379,
          0.48431306236817123,
          null,
          0.3466134339108379,
          0.7024433970991976,
          null,
          0.3466134339108379,
          0.8745119349350289,
          null,
          0.3466134339108379,
          -0.039518912243451366,
          null,
          0.3466134339108379,
          -0.3721323456498966,
          null,
          -0.3721323456498966,
          0.7024433970991976,
          null,
          -0.3721323456498966,
          -0.039518912243451366,
          null,
          -0.3721323456498966,
          -0.9564336195234256,
          null,
          -0.039518912243451366,
          0.48431306236817123,
          null,
          -0.039518912243451366,
          -0.46881761918084136,
          null,
          0.48431306236817123,
          0.7024433970991976,
          null,
          0.48431306236817123,
          0.8745119349350289,
          null
         ],
         "z": [
          -0.5511517343407902,
          -0.6622128805575356,
          null,
          -0.5511517343407902,
          -0.6722409647130255,
          null,
          -0.5511517343407902,
          -0.4183446294968604,
          null,
          -0.5511517343407902,
          -0.07493423510254399,
          null,
          -0.5511517343407902,
          0.16547589077356417,
          null,
          -0.5511517343407902,
          -0.010697615102504748,
          null,
          -0.5511517343407902,
          -0.132367117841027,
          null,
          -0.5511517343407902,
          0.05353612956370294,
          null,
          -0.5511517343407902,
          0.3175805521629064,
          null,
          -0.5511517343407902,
          0.5188707301780677,
          null,
          -0.5511517343407902,
          0.06415989171642063,
          null,
          -0.6622128805575356,
          0.16547589077356417,
          null,
          -0.6622128805575356,
          -0.07493423510254399,
          null,
          -0.6622128805575356,
          0.06415989171642063,
          null,
          -0.6622128805575356,
          -0.4183446294968604,
          null,
          -0.6622128805575356,
          -0.132367117841027,
          null,
          -0.6622128805575356,
          -0.6722409647130255,
          null,
          -0.6622128805575356,
          0.2764697084646574,
          null,
          -0.6622128805575356,
          0.5188707301780677,
          null,
          -0.6722409647130255,
          -0.4183446294968604,
          null,
          -0.6722409647130255,
          -0.010697615102504748,
          null,
          -0.6722409647130255,
          -0.4780666170434906,
          null,
          -0.6722409647130255,
          0.3175805521629064,
          null,
          -0.6722409647130255,
          0.05353612956370294,
          null,
          -0.4183446294968604,
          0.16547589077356417,
          null,
          -0.4183446294968604,
          -0.07493423510254399,
          null,
          -0.4183446294968604,
          0.06415989171642063,
          null,
          -0.4183446294968604,
          -0.010697615102504748,
          null,
          -0.4183446294968604,
          -0.132367117841027,
          null,
          -0.4183446294968604,
          0.06748910139334095,
          null,
          -0.4183446294968604,
          0.05353612956370294,
          null,
          -0.4183446294968604,
          -0.4780666170434906,
          null,
          -0.4183446294968604,
          0.39013471435502345,
          null,
          -0.07493423510254399,
          0.16547589077356417,
          null,
          -0.07493423510254399,
          -0.132367117841027,
          null,
          -0.07493423510254399,
          0.06415989171642063,
          null,
          -0.07493423510254399,
          0.05353612956370294,
          null,
          -0.07493423510254399,
          -0.010697615102504748,
          null,
          -0.07493423510254399,
          0.45268946704255353,
          null,
          -0.07493423510254399,
          0.39013471435502345,
          null,
          -0.07493423510254399,
          0.4855916127917147,
          null,
          -0.07493423510254399,
          0.2902730576867903,
          null,
          -0.07493423510254399,
          -0.06762297404140538,
          null,
          -0.07493423510254399,
          0.5188707301780677,
          null,
          0.16547589077356417,
          0.06415989171642063,
          null,
          0.16547589077356417,
          -0.010697615102504748,
          null,
          0.16547589077356417,
          -0.132367117841027,
          null,
          0.16547589077356417,
          0.06748910139334095,
          null,
          0.16547589077356417,
          0.5188707301780677,
          null,
          0.16547589077356417,
          0.05353612956370294,
          null,
          0.16547589077356417,
          0.4855916127917147,
          null,
          0.16547589077356417,
          0.39013471435502345,
          null,
          0.16547589077356417,
          0.3175805521629064,
          null,
          0.16547589077356417,
          0.45268946704255353,
          null,
          0.16547589077356417,
          0.2902730576867903,
          null,
          0.16547589077356417,
          -0.06762297404140538,
          null,
          0.16547589077356417,
          0.2764697084646574,
          null,
          -0.010697615102504748,
          0.06415989171642063,
          null,
          -0.010697615102504748,
          0.4855916127917147,
          null,
          -0.010697615102504748,
          -0.132367117841027,
          null,
          -0.010697615102504748,
          0.45268946704255353,
          null,
          -0.010697615102504748,
          0.3175805521629064,
          null,
          -0.010697615102504748,
          0.05353612956370294,
          null,
          -0.010697615102504748,
          0.06748910139334095,
          null,
          -0.010697615102504748,
          0.2902730576867903,
          null,
          -0.010697615102504748,
          0.5188707301780677,
          null,
          -0.132367117841027,
          0.06415989171642063,
          null,
          -0.132367117841027,
          0.05353612956370294,
          null,
          -0.132367117841027,
          0.2902730576867903,
          null,
          -0.132367117841027,
          -0.014632087889554946,
          null,
          -0.132367117841027,
          0.2764697084646574,
          null,
          -0.132367117841027,
          0.5188707301780677,
          null,
          -0.132367117841027,
          0.45268946704255353,
          null,
          0.05353612956370294,
          0.06415989171642063,
          null,
          0.05353612956370294,
          0.3175805521629064,
          null,
          0.05353612956370294,
          0.06748910139334095,
          null,
          0.05353612956370294,
          0.4855916127917147,
          null,
          0.05353612956370294,
          0.45268946704255353,
          null,
          0.3175805521629064,
          0.06415989171642063,
          null,
          0.3175805521629064,
          0.06748910139334095,
          null,
          0.3175805521629064,
          0.4855916127917147,
          null,
          0.3175805521629064,
          0.45268946704255353,
          null,
          0.3175805521629064,
          -0.06762297404140538,
          null,
          0.3175805521629064,
          -0.4780666170434906,
          null,
          0.5188707301780677,
          0.2764697084646574,
          null,
          0.5188707301780677,
          0.4855916127917147,
          null,
          0.5188707301780677,
          0.06748910139334095,
          null,
          0.06415989171642063,
          0.2902730576867903,
          null,
          0.06415989171642063,
          0.2764697084646574,
          null,
          0.06415989171642063,
          -0.014632087889554946,
          null,
          0.06415989171642063,
          0.4855916127917147,
          null,
          0.06415989171642063,
          0.06748910139334095,
          null,
          0.06748910139334095,
          0.2764697084646574,
          null,
          0.06748910139334095,
          0.4855916127917147,
          null,
          0.06748910139334095,
          -0.4780666170434906,
          null,
          0.4855916127917147,
          0.2902730576867903,
          null,
          0.4855916127917147,
          0.45268946704255353,
          null,
          0.2902730576867903,
          0.2764697084646574,
          null,
          0.2902730576867903,
          -0.014632087889554946,
          null
         ]
        },
        {
         "hoverinfo": "text",
         "marker": {
          "color": [
           "lightgray",
           "lightgray",
           "lightgray",
           "lightgray",
           "dodgerblue",
           "dodgerblue",
           "lightgray",
           "lightgray",
           "lightgray",
           "lightgray",
           "lightgray",
           "lightgray",
           "lightgray",
           "lightgray",
           "lightgray",
           "lightgray",
           "lightgray",
           "lightgray",
           "lightgray",
           "lightgray",
           "lightgray"
          ],
          "size": 20
         },
         "mode": "markers",
         "text": [
          "Sevir.3G067800",
          "Sevir.7G022600",
          "Sevir.9G110700",
          "Sevir.4G227600",
          "Sevir.5G254600",
          "Sevir.5G058900",
          "Sevir.5G384100",
          "Sevir.8G223900",
          "Sevir.7G235000",
          "Sevir.7G007600",
          "Sevir.6G184600",
          "Sevir.4G038600",
          "Sevir.9G561400",
          "Sevir.3G301200",
          "Sevir.2G076801",
          "Sevir.1G057300",
          "Sevir.3G036900",
          "Sevir.7G069833",
          "Sevir.3G393600",
          "Sevir.5G055200",
          "Sevir.9G382900"
         ],
         "type": "scatter3d",
         "x": [
          0.15225998147183478,
          0.24455655119711583,
          -0.2157880236049984,
          -0.0055146804311104695,
          0.06343278420356267,
          -0.07077939820571022,
          0.2502280705597523,
          0.3332031984381839,
          0.02584512031093672,
          -0.15501301205783524,
          -0.46950575378158504,
          0.2770545253642678,
          -0.3805820970809462,
          0.251491419295214,
          -0.5569884255691185,
          0.4255360591798328,
          0.5597179977236653,
          -1,
          0.04298624266192745,
          0.8573306248150324,
          -0.6294711844900192
         ],
         "y": [
          -0.2556214443137911,
          0.15835227344811717,
          -0.6628833033067038,
          -0.12384172832064731,
          0.06468835077129828,
          0.05282903282261638,
          -0.16533977212599565,
          0.2318105278942487,
          -0.31591450150215183,
          -0.5379175879544716,
          -0.03074872658507179,
          0.3466134339108379,
          -0.3721323456498966,
          -0.039518912243451366,
          0.5244622027930433,
          -0.46881761918084136,
          0.48431306236817123,
          0.4891453446638871,
          0.7024433970991976,
          0.8745119349350289,
          -0.9564336195234256
         ],
         "z": [
          -0.5511517343407902,
          -0.6622128805575356,
          -0.6722409647130255,
          -0.4183446294968604,
          -0.07493423510254399,
          0.16547589077356417,
          -0.010697615102504748,
          -0.132367117841027,
          0.05353612956370294,
          0.3175805521629064,
          0.5188707301780677,
          0.06415989171642063,
          0.06748910139334095,
          0.4855916127917147,
          0.39013471435502345,
          0.45268946704255353,
          0.2902730576867903,
          -0.06762297404140538,
          0.2764697084646574,
          -0.014632087889554946,
          -0.4780666170434906
         ]
        }
       ],
       "layout": {
        "annotations": [
         {
          "showarrow": false,
          "text": "Python code: <a href='https://plot.ly/ipython-notebooks/network-graphs/'> https://plot.ly/ipython-notebooks/network-graphs/</a>",
          "x": 0.005,
          "xref": "paper",
          "y": -0.002,
          "yref": "paper"
         }
        ],
        "hovermode": "closest",
        "margin": {
         "b": 20,
         "l": 5,
         "r": 5,
         "t": 40
        },
        "plot_bgcolor": "rgba(0,0,0,0)",
        "scene": {
         "xaxis": {
          "showbackground": false,
          "showgrid": false,
          "showline": false,
          "showticklabels": false,
          "title": {
           "text": ""
          },
          "zeroline": false
         },
         "yaxis": {
          "showbackground": false,
          "showgrid": false,
          "showline": false,
          "showticklabels": false,
          "title": {
           "text": ""
          },
          "zeroline": false
         },
         "zaxis": {
          "showbackground": false,
          "showgrid": false,
          "showline": false,
          "showticklabels": false,
          "title": {
           "text": ""
          },
          "zeroline": false
         }
        },
        "showlegend": false,
        "template": {
         "data": {
          "bar": [
           {
            "error_x": {
             "color": "#2a3f5f"
            },
            "error_y": {
             "color": "#2a3f5f"
            },
            "marker": {
             "line": {
              "color": "#E5ECF6",
              "width": 0.5
             }
            },
            "type": "bar"
           }
          ],
          "barpolar": [
           {
            "marker": {
             "line": {
              "color": "#E5ECF6",
              "width": 0.5
             }
            },
            "type": "barpolar"
           }
          ],
          "carpet": [
           {
            "aaxis": {
             "endlinecolor": "#2a3f5f",
             "gridcolor": "white",
             "linecolor": "white",
             "minorgridcolor": "white",
             "startlinecolor": "#2a3f5f"
            },
            "baxis": {
             "endlinecolor": "#2a3f5f",
             "gridcolor": "white",
             "linecolor": "white",
             "minorgridcolor": "white",
             "startlinecolor": "#2a3f5f"
            },
            "type": "carpet"
           }
          ],
          "choropleth": [
           {
            "colorbar": {
             "outlinewidth": 0,
             "ticks": ""
            },
            "type": "choropleth"
           }
          ],
          "contour": [
           {
            "colorbar": {
             "outlinewidth": 0,
             "ticks": ""
            },
            "colorscale": [
             [
              0,
              "#0d0887"
             ],
             [
              0.1111111111111111,
              "#46039f"
             ],
             [
              0.2222222222222222,
              "#7201a8"
             ],
             [
              0.3333333333333333,
              "#9c179e"
             ],
             [
              0.4444444444444444,
              "#bd3786"
             ],
             [
              0.5555555555555556,
              "#d8576b"
             ],
             [
              0.6666666666666666,
              "#ed7953"
             ],
             [
              0.7777777777777778,
              "#fb9f3a"
             ],
             [
              0.8888888888888888,
              "#fdca26"
             ],
             [
              1,
              "#f0f921"
             ]
            ],
            "type": "contour"
           }
          ],
          "contourcarpet": [
           {
            "colorbar": {
             "outlinewidth": 0,
             "ticks": ""
            },
            "type": "contourcarpet"
           }
          ],
          "heatmap": [
           {
            "colorbar": {
             "outlinewidth": 0,
             "ticks": ""
            },
            "colorscale": [
             [
              0,
              "#0d0887"
             ],
             [
              0.1111111111111111,
              "#46039f"
             ],
             [
              0.2222222222222222,
              "#7201a8"
             ],
             [
              0.3333333333333333,
              "#9c179e"
             ],
             [
              0.4444444444444444,
              "#bd3786"
             ],
             [
              0.5555555555555556,
              "#d8576b"
             ],
             [
              0.6666666666666666,
              "#ed7953"
             ],
             [
              0.7777777777777778,
              "#fb9f3a"
             ],
             [
              0.8888888888888888,
              "#fdca26"
             ],
             [
              1,
              "#f0f921"
             ]
            ],
            "type": "heatmap"
           }
          ],
          "heatmapgl": [
           {
            "colorbar": {
             "outlinewidth": 0,
             "ticks": ""
            },
            "colorscale": [
             [
              0,
              "#0d0887"
             ],
             [
              0.1111111111111111,
              "#46039f"
             ],
             [
              0.2222222222222222,
              "#7201a8"
             ],
             [
              0.3333333333333333,
              "#9c179e"
             ],
             [
              0.4444444444444444,
              "#bd3786"
             ],
             [
              0.5555555555555556,
              "#d8576b"
             ],
             [
              0.6666666666666666,
              "#ed7953"
             ],
             [
              0.7777777777777778,
              "#fb9f3a"
             ],
             [
              0.8888888888888888,
              "#fdca26"
             ],
             [
              1,
              "#f0f921"
             ]
            ],
            "type": "heatmapgl"
           }
          ],
          "histogram": [
           {
            "marker": {
             "colorbar": {
              "outlinewidth": 0,
              "ticks": ""
             }
            },
            "type": "histogram"
           }
          ],
          "histogram2d": [
           {
            "colorbar": {
             "outlinewidth": 0,
             "ticks": ""
            },
            "colorscale": [
             [
              0,
              "#0d0887"
             ],
             [
              0.1111111111111111,
              "#46039f"
             ],
             [
              0.2222222222222222,
              "#7201a8"
             ],
             [
              0.3333333333333333,
              "#9c179e"
             ],
             [
              0.4444444444444444,
              "#bd3786"
             ],
             [
              0.5555555555555556,
              "#d8576b"
             ],
             [
              0.6666666666666666,
              "#ed7953"
             ],
             [
              0.7777777777777778,
              "#fb9f3a"
             ],
             [
              0.8888888888888888,
              "#fdca26"
             ],
             [
              1,
              "#f0f921"
             ]
            ],
            "type": "histogram2d"
           }
          ],
          "histogram2dcontour": [
           {
            "colorbar": {
             "outlinewidth": 0,
             "ticks": ""
            },
            "colorscale": [
             [
              0,
              "#0d0887"
             ],
             [
              0.1111111111111111,
              "#46039f"
             ],
             [
              0.2222222222222222,
              "#7201a8"
             ],
             [
              0.3333333333333333,
              "#9c179e"
             ],
             [
              0.4444444444444444,
              "#bd3786"
             ],
             [
              0.5555555555555556,
              "#d8576b"
             ],
             [
              0.6666666666666666,
              "#ed7953"
             ],
             [
              0.7777777777777778,
              "#fb9f3a"
             ],
             [
              0.8888888888888888,
              "#fdca26"
             ],
             [
              1,
              "#f0f921"
             ]
            ],
            "type": "histogram2dcontour"
           }
          ],
          "mesh3d": [
           {
            "colorbar": {
             "outlinewidth": 0,
             "ticks": ""
            },
            "type": "mesh3d"
           }
          ],
          "parcoords": [
           {
            "line": {
             "colorbar": {
              "outlinewidth": 0,
              "ticks": ""
             }
            },
            "type": "parcoords"
           }
          ],
          "pie": [
           {
            "automargin": true,
            "type": "pie"
           }
          ],
          "scatter": [
           {
            "marker": {
             "colorbar": {
              "outlinewidth": 0,
              "ticks": ""
             }
            },
            "type": "scatter"
           }
          ],
          "scatter3d": [
           {
            "line": {
             "colorbar": {
              "outlinewidth": 0,
              "ticks": ""
             }
            },
            "marker": {
             "colorbar": {
              "outlinewidth": 0,
              "ticks": ""
             }
            },
            "type": "scatter3d"
           }
          ],
          "scattercarpet": [
           {
            "marker": {
             "colorbar": {
              "outlinewidth": 0,
              "ticks": ""
             }
            },
            "type": "scattercarpet"
           }
          ],
          "scattergeo": [
           {
            "marker": {
             "colorbar": {
              "outlinewidth": 0,
              "ticks": ""
             }
            },
            "type": "scattergeo"
           }
          ],
          "scattergl": [
           {
            "marker": {
             "colorbar": {
              "outlinewidth": 0,
              "ticks": ""
             }
            },
            "type": "scattergl"
           }
          ],
          "scattermapbox": [
           {
            "marker": {
             "colorbar": {
              "outlinewidth": 0,
              "ticks": ""
             }
            },
            "type": "scattermapbox"
           }
          ],
          "scatterpolar": [
           {
            "marker": {
             "colorbar": {
              "outlinewidth": 0,
              "ticks": ""
             }
            },
            "type": "scatterpolar"
           }
          ],
          "scatterpolargl": [
           {
            "marker": {
             "colorbar": {
              "outlinewidth": 0,
              "ticks": ""
             }
            },
            "type": "scatterpolargl"
           }
          ],
          "scatterternary": [
           {
            "marker": {
             "colorbar": {
              "outlinewidth": 0,
              "ticks": ""
             }
            },
            "type": "scatterternary"
           }
          ],
          "surface": [
           {
            "colorbar": {
             "outlinewidth": 0,
             "ticks": ""
            },
            "colorscale": [
             [
              0,
              "#0d0887"
             ],
             [
              0.1111111111111111,
              "#46039f"
             ],
             [
              0.2222222222222222,
              "#7201a8"
             ],
             [
              0.3333333333333333,
              "#9c179e"
             ],
             [
              0.4444444444444444,
              "#bd3786"
             ],
             [
              0.5555555555555556,
              "#d8576b"
             ],
             [
              0.6666666666666666,
              "#ed7953"
             ],
             [
              0.7777777777777778,
              "#fb9f3a"
             ],
             [
              0.8888888888888888,
              "#fdca26"
             ],
             [
              1,
              "#f0f921"
             ]
            ],
            "type": "surface"
           }
          ],
          "table": [
           {
            "cells": {
             "fill": {
              "color": "#EBF0F8"
             },
             "line": {
              "color": "white"
             }
            },
            "header": {
             "fill": {
              "color": "#C8D4E3"
             },
             "line": {
              "color": "white"
             }
            },
            "type": "table"
           }
          ]
         },
         "layout": {
          "annotationdefaults": {
           "arrowcolor": "#2a3f5f",
           "arrowhead": 0,
           "arrowwidth": 1
          },
          "coloraxis": {
           "colorbar": {
            "outlinewidth": 0,
            "ticks": ""
           }
          },
          "colorscale": {
           "diverging": [
            [
             0,
             "#8e0152"
            ],
            [
             0.1,
             "#c51b7d"
            ],
            [
             0.2,
             "#de77ae"
            ],
            [
             0.3,
             "#f1b6da"
            ],
            [
             0.4,
             "#fde0ef"
            ],
            [
             0.5,
             "#f7f7f7"
            ],
            [
             0.6,
             "#e6f5d0"
            ],
            [
             0.7,
             "#b8e186"
            ],
            [
             0.8,
             "#7fbc41"
            ],
            [
             0.9,
             "#4d9221"
            ],
            [
             1,
             "#276419"
            ]
           ],
           "sequential": [
            [
             0,
             "#0d0887"
            ],
            [
             0.1111111111111111,
             "#46039f"
            ],
            [
             0.2222222222222222,
             "#7201a8"
            ],
            [
             0.3333333333333333,
             "#9c179e"
            ],
            [
             0.4444444444444444,
             "#bd3786"
            ],
            [
             0.5555555555555556,
             "#d8576b"
            ],
            [
             0.6666666666666666,
             "#ed7953"
            ],
            [
             0.7777777777777778,
             "#fb9f3a"
            ],
            [
             0.8888888888888888,
             "#fdca26"
            ],
            [
             1,
             "#f0f921"
            ]
           ],
           "sequentialminus": [
            [
             0,
             "#0d0887"
            ],
            [
             0.1111111111111111,
             "#46039f"
            ],
            [
             0.2222222222222222,
             "#7201a8"
            ],
            [
             0.3333333333333333,
             "#9c179e"
            ],
            [
             0.4444444444444444,
             "#bd3786"
            ],
            [
             0.5555555555555556,
             "#d8576b"
            ],
            [
             0.6666666666666666,
             "#ed7953"
            ],
            [
             0.7777777777777778,
             "#fb9f3a"
            ],
            [
             0.8888888888888888,
             "#fdca26"
            ],
            [
             1,
             "#f0f921"
            ]
           ]
          },
          "colorway": [
           "#636efa",
           "#EF553B",
           "#00cc96",
           "#ab63fa",
           "#FFA15A",
           "#19d3f3",
           "#FF6692",
           "#B6E880",
           "#FF97FF",
           "#FECB52"
          ],
          "font": {
           "color": "#2a3f5f"
          },
          "geo": {
           "bgcolor": "white",
           "lakecolor": "white",
           "landcolor": "#E5ECF6",
           "showlakes": true,
           "showland": true,
           "subunitcolor": "white"
          },
          "hoverlabel": {
           "align": "left"
          },
          "hovermode": "closest",
          "mapbox": {
           "style": "light"
          },
          "paper_bgcolor": "white",
          "plot_bgcolor": "#E5ECF6",
          "polar": {
           "angularaxis": {
            "gridcolor": "white",
            "linecolor": "white",
            "ticks": ""
           },
           "bgcolor": "#E5ECF6",
           "radialaxis": {
            "gridcolor": "white",
            "linecolor": "white",
            "ticks": ""
           }
          },
          "scene": {
           "xaxis": {
            "backgroundcolor": "#E5ECF6",
            "gridcolor": "white",
            "gridwidth": 2,
            "linecolor": "white",
            "showbackground": true,
            "ticks": "",
            "zerolinecolor": "white"
           },
           "yaxis": {
            "backgroundcolor": "#E5ECF6",
            "gridcolor": "white",
            "gridwidth": 2,
            "linecolor": "white",
            "showbackground": true,
            "ticks": "",
            "zerolinecolor": "white"
           },
           "zaxis": {
            "backgroundcolor": "#E5ECF6",
            "gridcolor": "white",
            "gridwidth": 2,
            "linecolor": "white",
            "showbackground": true,
            "ticks": "",
            "zerolinecolor": "white"
           }
          },
          "shapedefaults": {
           "line": {
            "color": "#2a3f5f"
           }
          },
          "ternary": {
           "aaxis": {
            "gridcolor": "white",
            "linecolor": "white",
            "ticks": ""
           },
           "baxis": {
            "gridcolor": "white",
            "linecolor": "white",
            "ticks": ""
           },
           "bgcolor": "#E5ECF6",
           "caxis": {
            "gridcolor": "white",
            "linecolor": "white",
            "ticks": ""
           }
          },
          "title": {
           "x": 0.05
          },
          "xaxis": {
           "automargin": true,
           "gridcolor": "white",
           "linecolor": "white",
           "ticks": "",
           "title": {
            "standoff": 15
           },
           "zerolinecolor": "white",
           "zerolinewidth": 2
          },
          "yaxis": {
           "automargin": true,
           "gridcolor": "white",
           "linecolor": "white",
           "ticks": "",
           "title": {
            "standoff": 15
           },
           "zerolinecolor": "white",
           "zerolinewidth": 2
          }
         }
        },
        "title": {
         "font": {
          "size": 16
         },
         "text": "<br>Network N010M00022"
        }
       }
      },
      "text/html": [
       "<div>\n",
       "        \n",
       "        \n",
       "            <div id=\"3739431e-df8c-44e0-9ad2-60bf1874e748\" class=\"plotly-graph-div\" style=\"height:525px; width:100%;\"></div>\n",
       "            <script type=\"text/javascript\">\n",
       "                require([\"plotly\"], function(Plotly) {\n",
       "                    window.PLOTLYENV=window.PLOTLYENV || {};\n",
       "                    \n",
       "                if (document.getElementById(\"3739431e-df8c-44e0-9ad2-60bf1874e748\")) {\n",
       "                    Plotly.newPlot(\n",
       "                        '3739431e-df8c-44e0-9ad2-60bf1874e748',\n",
       "                        [{\"hoverinfo\": \"none\", \"line\": {\"color\": \"#888\", \"width\": 0.5}, \"mode\": \"lines\", \"type\": \"scatter3d\", \"x\": [0.15225998147183478, 0.24455655119711583, null, 0.15225998147183478, -0.2157880236049984, null, 0.15225998147183478, -0.0055146804311104695, null, 0.15225998147183478, 0.06343278420356267, null, 0.15225998147183478, -0.07077939820571022, null, 0.15225998147183478, 0.2502280705597523, null, 0.15225998147183478, 0.3332031984381839, null, 0.15225998147183478, 0.02584512031093672, null, 0.15225998147183478, -0.15501301205783524, null, 0.15225998147183478, -0.46950575378158504, null, 0.15225998147183478, 0.2770545253642678, null, 0.24455655119711583, -0.07077939820571022, null, 0.24455655119711583, 0.06343278420356267, null, 0.24455655119711583, 0.2770545253642678, null, 0.24455655119711583, -0.0055146804311104695, null, 0.24455655119711583, 0.3332031984381839, null, 0.24455655119711583, -0.2157880236049984, null, 0.24455655119711583, 0.04298624266192745, null, 0.24455655119711583, -0.46950575378158504, null, -0.2157880236049984, -0.0055146804311104695, null, -0.2157880236049984, 0.2502280705597523, null, -0.2157880236049984, -0.6294711844900192, null, -0.2157880236049984, -0.15501301205783524, null, -0.2157880236049984, 0.02584512031093672, null, -0.0055146804311104695, -0.07077939820571022, null, -0.0055146804311104695, 0.06343278420356267, null, -0.0055146804311104695, 0.2770545253642678, null, -0.0055146804311104695, 0.2502280705597523, null, -0.0055146804311104695, 0.3332031984381839, null, -0.0055146804311104695, -0.3805820970809462, null, -0.0055146804311104695, 0.02584512031093672, null, -0.0055146804311104695, -0.6294711844900192, null, -0.0055146804311104695, -0.5569884255691185, null, 0.06343278420356267, -0.07077939820571022, null, 0.06343278420356267, 0.3332031984381839, null, 0.06343278420356267, 0.2770545253642678, null, 0.06343278420356267, 0.02584512031093672, null, 0.06343278420356267, 0.2502280705597523, null, 0.06343278420356267, 0.4255360591798328, null, 0.06343278420356267, -0.5569884255691185, null, 0.06343278420356267, 0.251491419295214, null, 0.06343278420356267, 0.5597179977236653, null, 0.06343278420356267, -1.0, null, 0.06343278420356267, -0.46950575378158504, null, -0.07077939820571022, 0.2770545253642678, null, -0.07077939820571022, 0.2502280705597523, null, -0.07077939820571022, 0.3332031984381839, null, -0.07077939820571022, -0.3805820970809462, null, -0.07077939820571022, -0.46950575378158504, null, -0.07077939820571022, 0.02584512031093672, null, -0.07077939820571022, 0.251491419295214, null, -0.07077939820571022, -0.5569884255691185, null, -0.07077939820571022, -0.15501301205783524, null, -0.07077939820571022, 0.4255360591798328, null, -0.07077939820571022, 0.5597179977236653, null, -0.07077939820571022, -1.0, null, -0.07077939820571022, 0.04298624266192745, null, 0.2502280705597523, 0.2770545253642678, null, 0.2502280705597523, 0.251491419295214, null, 0.2502280705597523, 0.3332031984381839, null, 0.2502280705597523, 0.4255360591798328, null, 0.2502280705597523, -0.15501301205783524, null, 0.2502280705597523, 0.02584512031093672, null, 0.2502280705597523, -0.3805820970809462, null, 0.2502280705597523, 0.5597179977236653, null, 0.2502280705597523, -0.46950575378158504, null, 0.3332031984381839, 0.2770545253642678, null, 0.3332031984381839, 0.02584512031093672, null, 0.3332031984381839, 0.5597179977236653, null, 0.3332031984381839, 0.8573306248150324, null, 0.3332031984381839, 0.04298624266192745, null, 0.3332031984381839, -0.46950575378158504, null, 0.3332031984381839, 0.4255360591798328, null, 0.02584512031093672, 0.2770545253642678, null, 0.02584512031093672, -0.15501301205783524, null, 0.02584512031093672, -0.3805820970809462, null, 0.02584512031093672, 0.251491419295214, null, 0.02584512031093672, 0.4255360591798328, null, -0.15501301205783524, 0.2770545253642678, null, -0.15501301205783524, -0.3805820970809462, null, -0.15501301205783524, 0.251491419295214, null, -0.15501301205783524, 0.4255360591798328, null, -0.15501301205783524, -1.0, null, -0.15501301205783524, -0.6294711844900192, null, -0.46950575378158504, 0.04298624266192745, null, -0.46950575378158504, 0.251491419295214, null, -0.46950575378158504, -0.3805820970809462, null, 0.2770545253642678, 0.5597179977236653, null, 0.2770545253642678, 0.04298624266192745, null, 0.2770545253642678, 0.8573306248150324, null, 0.2770545253642678, 0.251491419295214, null, 0.2770545253642678, -0.3805820970809462, null, -0.3805820970809462, 0.04298624266192745, null, -0.3805820970809462, 0.251491419295214, null, -0.3805820970809462, -0.6294711844900192, null, 0.251491419295214, 0.5597179977236653, null, 0.251491419295214, 0.4255360591798328, null, 0.5597179977236653, 0.04298624266192745, null, 0.5597179977236653, 0.8573306248150324, null], \"y\": [-0.2556214443137911, 0.15835227344811717, null, -0.2556214443137911, -0.6628833033067038, null, -0.2556214443137911, -0.12384172832064731, null, -0.2556214443137911, 0.06468835077129828, null, -0.2556214443137911, 0.05282903282261638, null, -0.2556214443137911, -0.16533977212599565, null, -0.2556214443137911, 0.2318105278942487, null, -0.2556214443137911, -0.31591450150215183, null, -0.2556214443137911, -0.5379175879544716, null, -0.2556214443137911, -0.03074872658507179, null, -0.2556214443137911, 0.3466134339108379, null, 0.15835227344811717, 0.05282903282261638, null, 0.15835227344811717, 0.06468835077129828, null, 0.15835227344811717, 0.3466134339108379, null, 0.15835227344811717, -0.12384172832064731, null, 0.15835227344811717, 0.2318105278942487, null, 0.15835227344811717, -0.6628833033067038, null, 0.15835227344811717, 0.7024433970991976, null, 0.15835227344811717, -0.03074872658507179, null, -0.6628833033067038, -0.12384172832064731, null, -0.6628833033067038, -0.16533977212599565, null, -0.6628833033067038, -0.9564336195234256, null, -0.6628833033067038, -0.5379175879544716, null, -0.6628833033067038, -0.31591450150215183, null, -0.12384172832064731, 0.05282903282261638, null, -0.12384172832064731, 0.06468835077129828, null, -0.12384172832064731, 0.3466134339108379, null, -0.12384172832064731, -0.16533977212599565, null, -0.12384172832064731, 0.2318105278942487, null, -0.12384172832064731, -0.3721323456498966, null, -0.12384172832064731, -0.31591450150215183, null, -0.12384172832064731, -0.9564336195234256, null, -0.12384172832064731, 0.5244622027930433, null, 0.06468835077129828, 0.05282903282261638, null, 0.06468835077129828, 0.2318105278942487, null, 0.06468835077129828, 0.3466134339108379, null, 0.06468835077129828, -0.31591450150215183, null, 0.06468835077129828, -0.16533977212599565, null, 0.06468835077129828, -0.46881761918084136, null, 0.06468835077129828, 0.5244622027930433, null, 0.06468835077129828, -0.039518912243451366, null, 0.06468835077129828, 0.48431306236817123, null, 0.06468835077129828, 0.4891453446638871, null, 0.06468835077129828, -0.03074872658507179, null, 0.05282903282261638, 0.3466134339108379, null, 0.05282903282261638, -0.16533977212599565, null, 0.05282903282261638, 0.2318105278942487, null, 0.05282903282261638, -0.3721323456498966, null, 0.05282903282261638, -0.03074872658507179, null, 0.05282903282261638, -0.31591450150215183, null, 0.05282903282261638, -0.039518912243451366, null, 0.05282903282261638, 0.5244622027930433, null, 0.05282903282261638, -0.5379175879544716, null, 0.05282903282261638, -0.46881761918084136, null, 0.05282903282261638, 0.48431306236817123, null, 0.05282903282261638, 0.4891453446638871, null, 0.05282903282261638, 0.7024433970991976, null, -0.16533977212599565, 0.3466134339108379, null, -0.16533977212599565, -0.039518912243451366, null, -0.16533977212599565, 0.2318105278942487, null, -0.16533977212599565, -0.46881761918084136, null, -0.16533977212599565, -0.5379175879544716, null, -0.16533977212599565, -0.31591450150215183, null, -0.16533977212599565, -0.3721323456498966, null, -0.16533977212599565, 0.48431306236817123, null, -0.16533977212599565, -0.03074872658507179, null, 0.2318105278942487, 0.3466134339108379, null, 0.2318105278942487, -0.31591450150215183, null, 0.2318105278942487, 0.48431306236817123, null, 0.2318105278942487, 0.8745119349350289, null, 0.2318105278942487, 0.7024433970991976, null, 0.2318105278942487, -0.03074872658507179, null, 0.2318105278942487, -0.46881761918084136, null, -0.31591450150215183, 0.3466134339108379, null, -0.31591450150215183, -0.5379175879544716, null, -0.31591450150215183, -0.3721323456498966, null, -0.31591450150215183, -0.039518912243451366, null, -0.31591450150215183, -0.46881761918084136, null, -0.5379175879544716, 0.3466134339108379, null, -0.5379175879544716, -0.3721323456498966, null, -0.5379175879544716, -0.039518912243451366, null, -0.5379175879544716, -0.46881761918084136, null, -0.5379175879544716, 0.4891453446638871, null, -0.5379175879544716, -0.9564336195234256, null, -0.03074872658507179, 0.7024433970991976, null, -0.03074872658507179, -0.039518912243451366, null, -0.03074872658507179, -0.3721323456498966, null, 0.3466134339108379, 0.48431306236817123, null, 0.3466134339108379, 0.7024433970991976, null, 0.3466134339108379, 0.8745119349350289, null, 0.3466134339108379, -0.039518912243451366, null, 0.3466134339108379, -0.3721323456498966, null, -0.3721323456498966, 0.7024433970991976, null, -0.3721323456498966, -0.039518912243451366, null, -0.3721323456498966, -0.9564336195234256, null, -0.039518912243451366, 0.48431306236817123, null, -0.039518912243451366, -0.46881761918084136, null, 0.48431306236817123, 0.7024433970991976, null, 0.48431306236817123, 0.8745119349350289, null], \"z\": [-0.5511517343407902, -0.6622128805575356, null, -0.5511517343407902, -0.6722409647130255, null, -0.5511517343407902, -0.4183446294968604, null, -0.5511517343407902, -0.07493423510254399, null, -0.5511517343407902, 0.16547589077356417, null, -0.5511517343407902, -0.010697615102504748, null, -0.5511517343407902, -0.132367117841027, null, -0.5511517343407902, 0.05353612956370294, null, -0.5511517343407902, 0.3175805521629064, null, -0.5511517343407902, 0.5188707301780677, null, -0.5511517343407902, 0.06415989171642063, null, -0.6622128805575356, 0.16547589077356417, null, -0.6622128805575356, -0.07493423510254399, null, -0.6622128805575356, 0.06415989171642063, null, -0.6622128805575356, -0.4183446294968604, null, -0.6622128805575356, -0.132367117841027, null, -0.6622128805575356, -0.6722409647130255, null, -0.6622128805575356, 0.2764697084646574, null, -0.6622128805575356, 0.5188707301780677, null, -0.6722409647130255, -0.4183446294968604, null, -0.6722409647130255, -0.010697615102504748, null, -0.6722409647130255, -0.4780666170434906, null, -0.6722409647130255, 0.3175805521629064, null, -0.6722409647130255, 0.05353612956370294, null, -0.4183446294968604, 0.16547589077356417, null, -0.4183446294968604, -0.07493423510254399, null, -0.4183446294968604, 0.06415989171642063, null, -0.4183446294968604, -0.010697615102504748, null, -0.4183446294968604, -0.132367117841027, null, -0.4183446294968604, 0.06748910139334095, null, -0.4183446294968604, 0.05353612956370294, null, -0.4183446294968604, -0.4780666170434906, null, -0.4183446294968604, 0.39013471435502345, null, -0.07493423510254399, 0.16547589077356417, null, -0.07493423510254399, -0.132367117841027, null, -0.07493423510254399, 0.06415989171642063, null, -0.07493423510254399, 0.05353612956370294, null, -0.07493423510254399, -0.010697615102504748, null, -0.07493423510254399, 0.45268946704255353, null, -0.07493423510254399, 0.39013471435502345, null, -0.07493423510254399, 0.4855916127917147, null, -0.07493423510254399, 0.2902730576867903, null, -0.07493423510254399, -0.06762297404140538, null, -0.07493423510254399, 0.5188707301780677, null, 0.16547589077356417, 0.06415989171642063, null, 0.16547589077356417, -0.010697615102504748, null, 0.16547589077356417, -0.132367117841027, null, 0.16547589077356417, 0.06748910139334095, null, 0.16547589077356417, 0.5188707301780677, null, 0.16547589077356417, 0.05353612956370294, null, 0.16547589077356417, 0.4855916127917147, null, 0.16547589077356417, 0.39013471435502345, null, 0.16547589077356417, 0.3175805521629064, null, 0.16547589077356417, 0.45268946704255353, null, 0.16547589077356417, 0.2902730576867903, null, 0.16547589077356417, -0.06762297404140538, null, 0.16547589077356417, 0.2764697084646574, null, -0.010697615102504748, 0.06415989171642063, null, -0.010697615102504748, 0.4855916127917147, null, -0.010697615102504748, -0.132367117841027, null, -0.010697615102504748, 0.45268946704255353, null, -0.010697615102504748, 0.3175805521629064, null, -0.010697615102504748, 0.05353612956370294, null, -0.010697615102504748, 0.06748910139334095, null, -0.010697615102504748, 0.2902730576867903, null, -0.010697615102504748, 0.5188707301780677, null, -0.132367117841027, 0.06415989171642063, null, -0.132367117841027, 0.05353612956370294, null, -0.132367117841027, 0.2902730576867903, null, -0.132367117841027, -0.014632087889554946, null, -0.132367117841027, 0.2764697084646574, null, -0.132367117841027, 0.5188707301780677, null, -0.132367117841027, 0.45268946704255353, null, 0.05353612956370294, 0.06415989171642063, null, 0.05353612956370294, 0.3175805521629064, null, 0.05353612956370294, 0.06748910139334095, null, 0.05353612956370294, 0.4855916127917147, null, 0.05353612956370294, 0.45268946704255353, null, 0.3175805521629064, 0.06415989171642063, null, 0.3175805521629064, 0.06748910139334095, null, 0.3175805521629064, 0.4855916127917147, null, 0.3175805521629064, 0.45268946704255353, null, 0.3175805521629064, -0.06762297404140538, null, 0.3175805521629064, -0.4780666170434906, null, 0.5188707301780677, 0.2764697084646574, null, 0.5188707301780677, 0.4855916127917147, null, 0.5188707301780677, 0.06748910139334095, null, 0.06415989171642063, 0.2902730576867903, null, 0.06415989171642063, 0.2764697084646574, null, 0.06415989171642063, -0.014632087889554946, null, 0.06415989171642063, 0.4855916127917147, null, 0.06415989171642063, 0.06748910139334095, null, 0.06748910139334095, 0.2764697084646574, null, 0.06748910139334095, 0.4855916127917147, null, 0.06748910139334095, -0.4780666170434906, null, 0.4855916127917147, 0.2902730576867903, null, 0.4855916127917147, 0.45268946704255353, null, 0.2902730576867903, 0.2764697084646574, null, 0.2902730576867903, -0.014632087889554946, null]}, {\"hoverinfo\": \"text\", \"marker\": {\"color\": [\"lightgray\", \"lightgray\", \"lightgray\", \"lightgray\", \"dodgerblue\", \"dodgerblue\", \"lightgray\", \"lightgray\", \"lightgray\", \"lightgray\", \"lightgray\", \"lightgray\", \"lightgray\", \"lightgray\", \"lightgray\", \"lightgray\", \"lightgray\", \"lightgray\", \"lightgray\", \"lightgray\", \"lightgray\"], \"size\": 20}, \"mode\": \"markers\", \"text\": [\"Sevir.3G067800\", \"Sevir.7G022600\", \"Sevir.9G110700\", \"Sevir.4G227600\", \"Sevir.5G254600\", \"Sevir.5G058900\", \"Sevir.5G384100\", \"Sevir.8G223900\", \"Sevir.7G235000\", \"Sevir.7G007600\", \"Sevir.6G184600\", \"Sevir.4G038600\", \"Sevir.9G561400\", \"Sevir.3G301200\", \"Sevir.2G076801\", \"Sevir.1G057300\", \"Sevir.3G036900\", \"Sevir.7G069833\", \"Sevir.3G393600\", \"Sevir.5G055200\", \"Sevir.9G382900\"], \"type\": \"scatter3d\", \"x\": [0.15225998147183478, 0.24455655119711583, -0.2157880236049984, -0.0055146804311104695, 0.06343278420356267, -0.07077939820571022, 0.2502280705597523, 0.3332031984381839, 0.02584512031093672, -0.15501301205783524, -0.46950575378158504, 0.2770545253642678, -0.3805820970809462, 0.251491419295214, -0.5569884255691185, 0.4255360591798328, 0.5597179977236653, -1.0, 0.04298624266192745, 0.8573306248150324, -0.6294711844900192], \"y\": [-0.2556214443137911, 0.15835227344811717, -0.6628833033067038, -0.12384172832064731, 0.06468835077129828, 0.05282903282261638, -0.16533977212599565, 0.2318105278942487, -0.31591450150215183, -0.5379175879544716, -0.03074872658507179, 0.3466134339108379, -0.3721323456498966, -0.039518912243451366, 0.5244622027930433, -0.46881761918084136, 0.48431306236817123, 0.4891453446638871, 0.7024433970991976, 0.8745119349350289, -0.9564336195234256], \"z\": [-0.5511517343407902, -0.6622128805575356, -0.6722409647130255, -0.4183446294968604, -0.07493423510254399, 0.16547589077356417, -0.010697615102504748, -0.132367117841027, 0.05353612956370294, 0.3175805521629064, 0.5188707301780677, 0.06415989171642063, 0.06748910139334095, 0.4855916127917147, 0.39013471435502345, 0.45268946704255353, 0.2902730576867903, -0.06762297404140538, 0.2764697084646574, -0.014632087889554946, -0.4780666170434906]}],\n",
       "                        {\"annotations\": [{\"showarrow\": false, \"text\": \"Python code: <a href='https://plot.ly/ipython-notebooks/network-graphs/'> https://plot.ly/ipython-notebooks/network-graphs/</a>\", \"x\": 0.005, \"xref\": \"paper\", \"y\": -0.002, \"yref\": \"paper\"}], \"hovermode\": \"closest\", \"margin\": {\"b\": 20, \"l\": 5, \"r\": 5, \"t\": 40}, \"plot_bgcolor\": \"rgba(0,0,0,0)\", \"scene\": {\"xaxis\": {\"showbackground\": false, \"showgrid\": false, \"showline\": false, \"showticklabels\": false, \"title\": {\"text\": \"\"}, \"zeroline\": false}, \"yaxis\": {\"showbackground\": false, \"showgrid\": false, \"showline\": false, \"showticklabels\": false, \"title\": {\"text\": \"\"}, \"zeroline\": false}, \"zaxis\": {\"showbackground\": false, \"showgrid\": false, \"showline\": false, \"showticklabels\": false, \"title\": {\"text\": \"\"}, \"zeroline\": false}}, \"showlegend\": false, \"template\": {\"data\": {\"bar\": [{\"error_x\": {\"color\": \"#2a3f5f\"}, \"error_y\": {\"color\": \"#2a3f5f\"}, \"marker\": {\"line\": {\"color\": \"#E5ECF6\", \"width\": 0.5}}, \"type\": \"bar\"}], \"barpolar\": [{\"marker\": {\"line\": {\"color\": \"#E5ECF6\", \"width\": 0.5}}, \"type\": \"barpolar\"}], \"carpet\": [{\"aaxis\": {\"endlinecolor\": \"#2a3f5f\", \"gridcolor\": \"white\", \"linecolor\": \"white\", \"minorgridcolor\": \"white\", \"startlinecolor\": \"#2a3f5f\"}, \"baxis\": {\"endlinecolor\": \"#2a3f5f\", \"gridcolor\": \"white\", \"linecolor\": \"white\", \"minorgridcolor\": \"white\", \"startlinecolor\": \"#2a3f5f\"}, \"type\": \"carpet\"}], \"choropleth\": [{\"colorbar\": {\"outlinewidth\": 0, \"ticks\": \"\"}, \"type\": \"choropleth\"}], \"contour\": [{\"colorbar\": {\"outlinewidth\": 0, \"ticks\": \"\"}, \"colorscale\": [[0.0, \"#0d0887\"], [0.1111111111111111, \"#46039f\"], [0.2222222222222222, \"#7201a8\"], [0.3333333333333333, \"#9c179e\"], [0.4444444444444444, \"#bd3786\"], [0.5555555555555556, \"#d8576b\"], [0.6666666666666666, \"#ed7953\"], [0.7777777777777778, \"#fb9f3a\"], [0.8888888888888888, \"#fdca26\"], [1.0, \"#f0f921\"]], \"type\": \"contour\"}], \"contourcarpet\": [{\"colorbar\": {\"outlinewidth\": 0, \"ticks\": \"\"}, \"type\": \"contourcarpet\"}], \"heatmap\": [{\"colorbar\": {\"outlinewidth\": 0, \"ticks\": \"\"}, \"colorscale\": [[0.0, \"#0d0887\"], [0.1111111111111111, \"#46039f\"], [0.2222222222222222, \"#7201a8\"], [0.3333333333333333, \"#9c179e\"], [0.4444444444444444, \"#bd3786\"], [0.5555555555555556, \"#d8576b\"], [0.6666666666666666, \"#ed7953\"], [0.7777777777777778, \"#fb9f3a\"], [0.8888888888888888, \"#fdca26\"], [1.0, \"#f0f921\"]], \"type\": \"heatmap\"}], \"heatmapgl\": [{\"colorbar\": {\"outlinewidth\": 0, \"ticks\": \"\"}, \"colorscale\": [[0.0, \"#0d0887\"], [0.1111111111111111, \"#46039f\"], [0.2222222222222222, \"#7201a8\"], [0.3333333333333333, \"#9c179e\"], [0.4444444444444444, \"#bd3786\"], [0.5555555555555556, \"#d8576b\"], [0.6666666666666666, \"#ed7953\"], [0.7777777777777778, \"#fb9f3a\"], [0.8888888888888888, \"#fdca26\"], [1.0, \"#f0f921\"]], \"type\": \"heatmapgl\"}], \"histogram\": [{\"marker\": {\"colorbar\": {\"outlinewidth\": 0, \"ticks\": \"\"}}, \"type\": \"histogram\"}], \"histogram2d\": [{\"colorbar\": {\"outlinewidth\": 0, \"ticks\": \"\"}, \"colorscale\": [[0.0, \"#0d0887\"], [0.1111111111111111, \"#46039f\"], [0.2222222222222222, \"#7201a8\"], [0.3333333333333333, \"#9c179e\"], [0.4444444444444444, \"#bd3786\"], [0.5555555555555556, \"#d8576b\"], [0.6666666666666666, \"#ed7953\"], [0.7777777777777778, \"#fb9f3a\"], [0.8888888888888888, \"#fdca26\"], [1.0, \"#f0f921\"]], \"type\": \"histogram2d\"}], \"histogram2dcontour\": [{\"colorbar\": {\"outlinewidth\": 0, \"ticks\": \"\"}, \"colorscale\": [[0.0, \"#0d0887\"], [0.1111111111111111, \"#46039f\"], [0.2222222222222222, \"#7201a8\"], [0.3333333333333333, \"#9c179e\"], [0.4444444444444444, \"#bd3786\"], [0.5555555555555556, \"#d8576b\"], [0.6666666666666666, \"#ed7953\"], [0.7777777777777778, \"#fb9f3a\"], [0.8888888888888888, \"#fdca26\"], [1.0, \"#f0f921\"]], \"type\": \"histogram2dcontour\"}], \"mesh3d\": [{\"colorbar\": {\"outlinewidth\": 0, \"ticks\": \"\"}, \"type\": \"mesh3d\"}], \"parcoords\": [{\"line\": {\"colorbar\": {\"outlinewidth\": 0, \"ticks\": \"\"}}, \"type\": \"parcoords\"}], \"pie\": [{\"automargin\": true, \"type\": \"pie\"}], \"scatter\": [{\"marker\": {\"colorbar\": {\"outlinewidth\": 0, \"ticks\": \"\"}}, \"type\": \"scatter\"}], \"scatter3d\": [{\"line\": {\"colorbar\": {\"outlinewidth\": 0, \"ticks\": \"\"}}, \"marker\": {\"colorbar\": {\"outlinewidth\": 0, \"ticks\": \"\"}}, \"type\": \"scatter3d\"}], \"scattercarpet\": [{\"marker\": {\"colorbar\": {\"outlinewidth\": 0, \"ticks\": \"\"}}, \"type\": \"scattercarpet\"}], \"scattergeo\": [{\"marker\": {\"colorbar\": {\"outlinewidth\": 0, \"ticks\": \"\"}}, \"type\": \"scattergeo\"}], \"scattergl\": [{\"marker\": {\"colorbar\": {\"outlinewidth\": 0, \"ticks\": \"\"}}, \"type\": \"scattergl\"}], \"scattermapbox\": [{\"marker\": {\"colorbar\": {\"outlinewidth\": 0, \"ticks\": \"\"}}, \"type\": \"scattermapbox\"}], \"scatterpolar\": [{\"marker\": {\"colorbar\": {\"outlinewidth\": 0, \"ticks\": \"\"}}, \"type\": \"scatterpolar\"}], \"scatterpolargl\": [{\"marker\": {\"colorbar\": {\"outlinewidth\": 0, \"ticks\": \"\"}}, \"type\": \"scatterpolargl\"}], \"scatterternary\": [{\"marker\": {\"colorbar\": {\"outlinewidth\": 0, \"ticks\": \"\"}}, \"type\": \"scatterternary\"}], \"surface\": [{\"colorbar\": {\"outlinewidth\": 0, \"ticks\": \"\"}, \"colorscale\": [[0.0, \"#0d0887\"], [0.1111111111111111, \"#46039f\"], [0.2222222222222222, \"#7201a8\"], [0.3333333333333333, \"#9c179e\"], [0.4444444444444444, \"#bd3786\"], [0.5555555555555556, \"#d8576b\"], [0.6666666666666666, \"#ed7953\"], [0.7777777777777778, \"#fb9f3a\"], [0.8888888888888888, \"#fdca26\"], [1.0, \"#f0f921\"]], \"type\": \"surface\"}], \"table\": [{\"cells\": {\"fill\": {\"color\": \"#EBF0F8\"}, \"line\": {\"color\": \"white\"}}, \"header\": {\"fill\": {\"color\": \"#C8D4E3\"}, \"line\": {\"color\": \"white\"}}, \"type\": \"table\"}]}, \"layout\": {\"annotationdefaults\": {\"arrowcolor\": \"#2a3f5f\", \"arrowhead\": 0, \"arrowwidth\": 1}, \"coloraxis\": {\"colorbar\": {\"outlinewidth\": 0, \"ticks\": \"\"}}, \"colorscale\": {\"diverging\": [[0, \"#8e0152\"], [0.1, \"#c51b7d\"], [0.2, \"#de77ae\"], [0.3, \"#f1b6da\"], [0.4, \"#fde0ef\"], [0.5, \"#f7f7f7\"], [0.6, \"#e6f5d0\"], [0.7, \"#b8e186\"], [0.8, \"#7fbc41\"], [0.9, \"#4d9221\"], [1, \"#276419\"]], \"sequential\": [[0.0, \"#0d0887\"], [0.1111111111111111, \"#46039f\"], [0.2222222222222222, \"#7201a8\"], [0.3333333333333333, \"#9c179e\"], [0.4444444444444444, \"#bd3786\"], [0.5555555555555556, \"#d8576b\"], [0.6666666666666666, \"#ed7953\"], [0.7777777777777778, \"#fb9f3a\"], [0.8888888888888888, \"#fdca26\"], [1.0, \"#f0f921\"]], \"sequentialminus\": [[0.0, \"#0d0887\"], [0.1111111111111111, \"#46039f\"], [0.2222222222222222, \"#7201a8\"], [0.3333333333333333, \"#9c179e\"], [0.4444444444444444, \"#bd3786\"], [0.5555555555555556, \"#d8576b\"], [0.6666666666666666, \"#ed7953\"], [0.7777777777777778, \"#fb9f3a\"], [0.8888888888888888, \"#fdca26\"], [1.0, \"#f0f921\"]]}, \"colorway\": [\"#636efa\", \"#EF553B\", \"#00cc96\", \"#ab63fa\", \"#FFA15A\", \"#19d3f3\", \"#FF6692\", \"#B6E880\", \"#FF97FF\", \"#FECB52\"], \"font\": {\"color\": \"#2a3f5f\"}, \"geo\": {\"bgcolor\": \"white\", \"lakecolor\": \"white\", \"landcolor\": \"#E5ECF6\", \"showlakes\": true, \"showland\": true, \"subunitcolor\": \"white\"}, \"hoverlabel\": {\"align\": \"left\"}, \"hovermode\": \"closest\", \"mapbox\": {\"style\": \"light\"}, \"paper_bgcolor\": \"white\", \"plot_bgcolor\": \"#E5ECF6\", \"polar\": {\"angularaxis\": {\"gridcolor\": \"white\", \"linecolor\": \"white\", \"ticks\": \"\"}, \"bgcolor\": \"#E5ECF6\", \"radialaxis\": {\"gridcolor\": \"white\", \"linecolor\": \"white\", \"ticks\": \"\"}}, \"scene\": {\"xaxis\": {\"backgroundcolor\": \"#E5ECF6\", \"gridcolor\": \"white\", \"gridwidth\": 2, \"linecolor\": \"white\", \"showbackground\": true, \"ticks\": \"\", \"zerolinecolor\": \"white\"}, \"yaxis\": {\"backgroundcolor\": \"#E5ECF6\", \"gridcolor\": \"white\", \"gridwidth\": 2, \"linecolor\": \"white\", \"showbackground\": true, \"ticks\": \"\", \"zerolinecolor\": \"white\"}, \"zaxis\": {\"backgroundcolor\": \"#E5ECF6\", \"gridcolor\": \"white\", \"gridwidth\": 2, \"linecolor\": \"white\", \"showbackground\": true, \"ticks\": \"\", \"zerolinecolor\": \"white\"}}, \"shapedefaults\": {\"line\": {\"color\": \"#2a3f5f\"}}, \"ternary\": {\"aaxis\": {\"gridcolor\": \"white\", \"linecolor\": \"white\", \"ticks\": \"\"}, \"baxis\": {\"gridcolor\": \"white\", \"linecolor\": \"white\", \"ticks\": \"\"}, \"bgcolor\": \"#E5ECF6\", \"caxis\": {\"gridcolor\": \"white\", \"linecolor\": \"white\", \"ticks\": \"\"}}, \"title\": {\"x\": 0.05}, \"xaxis\": {\"automargin\": true, \"gridcolor\": \"white\", \"linecolor\": \"white\", \"ticks\": \"\", \"title\": {\"standoff\": 15}, \"zerolinecolor\": \"white\", \"zerolinewidth\": 2}, \"yaxis\": {\"automargin\": true, \"gridcolor\": \"white\", \"linecolor\": \"white\", \"ticks\": \"\", \"title\": {\"standoff\": 15}, \"zerolinecolor\": \"white\", \"zerolinewidth\": 2}}}, \"title\": {\"font\": {\"size\": 16}, \"text\": \"<br>Network N010M00022\"}},\n",
       "                        {\"responsive\": true}\n",
       "                    ).then(function(){\n",
       "                            \n",
       "var gd = document.getElementById('3739431e-df8c-44e0-9ad2-60bf1874e748');\n",
       "var x = new MutationObserver(function (mutations, observer) {{\n",
       "        var display = window.getComputedStyle(gd).display;\n",
       "        if (!display || display === 'none') {{\n",
       "            console.log([gd, 'removed!']);\n",
       "            Plotly.purge(gd);\n",
       "            observer.disconnect();\n",
       "        }}\n",
       "}});\n",
       "\n",
       "// Listen for the removal of the full notebook cells\n",
       "var notebookContainer = gd.closest('#notebook-container');\n",
       "if (notebookContainer) {{\n",
       "    x.observe(notebookContainer, {childList: true});\n",
       "}}\n",
       "\n",
       "// Listen for the clearing of the current output cell\n",
       "var outputEl = gd.closest('.output');\n",
       "if (outputEl) {{\n",
       "    x.observe(outputEl, {childList: true});\n",
       "}}\n",
       "\n",
       "                        })\n",
       "                };\n",
       "                });\n",
       "            </script>\n",
       "        </div>"
      ]
     },
     "metadata": {},
     "output_type": "display_data"
    }
   ],
   "source": [
    "network = networksToPlot[0]\n",
    "moduleID = network.rsplit('/',1)[1].replace('.abc','') #extract module ID from the module file\n",
    "\n",
    "#Define the edgeweight file\n",
    "edgeWeightFile = network\n",
    "\n",
    "#Matplotlib defined clearing and size determination of plot\n",
    "\"\"\"fig = plt.figure(figsize=[20,20])\n",
    "ax = plt.subplot(111)\"\"\"\n",
    "\n",
    "#Create empty graph for networkX\n",
    "G = nx.Graph()\n",
    "G = nx.read_weighted_edgelist(edgeWeightFile)\n",
    "pos=nx.spring_layout(G, dim=3) #This is a randomized layout of the network\n",
    "\n",
    "labels = pos.keys()\n",
    "\n",
    "#Edge traces\n",
    "edge_trace = go.Scatter3d(\n",
    "    x=[],\n",
    "    y=[],\n",
    "    z=[],\n",
    "    line=dict(width=0.5,color='#888'),\n",
    "    hoverinfo='none',\n",
    "    mode='lines')\n",
    "\n",
    "for edge in G.edges():\n",
    "    x0, y0, z0 = pos[edge[0]]#G.node[edge[0]]['pos']\n",
    "    x1, y1, z1 = pos[edge[1]] #G.node[edge[1]]['pos']\n",
    "    edge_trace['x'] += tuple([x0, x1, None])\n",
    "    edge_trace['y'] += tuple([y0, y1, None])\n",
    "    edge_trace['z'] += tuple([z0, z1, None])\n",
    "\n",
    "#NODE TRACES\n",
    "node_trace = go.Scatter3d(\n",
    "    x=[],\n",
    "    y=[],\n",
    "    z=[],\n",
    "    text=[],\n",
    "    mode='markers',\n",
    "    hoverinfo='text',\n",
    "    marker=dict(\n",
    "        color=[],\n",
    "        size=20,\n",
    "        ))\n",
    "\n",
    "#ADD X,Y POSITIONS OF EACH NODE/GENE\n",
    "for node in G.nodes():\n",
    "    x, y, z = pos[node]\n",
    "    node_trace['x'] += tuple([x])\n",
    "    node_trace['y'] += tuple([y])\n",
    "    node_trace['z'] += tuple([z])\n",
    "\n",
    "\n",
    "#DEFINE COLORS OF NODES\n",
    "colors = []\n",
    "\n",
    "for node in G.nodes():\n",
    "    geneID = node \n",
    "    #If gene is in candidate gene list -- then they're blue, else they're gray\n",
    "    if geneID in geneList:\n",
    "        colors.append('dodgerblue')\n",
    "    else:\n",
    "        colors.append('lightgray')\n",
    "    #node_info = '# of connections: '+str(len(adjacencies[1]))\n",
    "    node_trace['text'] +=tuple([geneID])\n",
    "    \n",
    "node_trace['marker']['color'] = colors\n",
    "\n",
    "axis=dict(showbackground=False,\n",
    "          showline=False,\n",
    "          zeroline=False,\n",
    "          showgrid=False,\n",
    "          showticklabels=False,\n",
    "          title=''\n",
    "          )\n",
    "\n",
    "#DRAW GRAPH\n",
    "fig = go.Figure(data=[edge_trace, node_trace],\n",
    "             layout=go.Layout(\n",
    "                title='<br>Network %s' % moduleID,\n",
    "                titlefont=dict(size=16),\n",
    "                showlegend=False,\n",
    "                hovermode='closest',\n",
    "                margin=dict(b=20,l=5,r=5,t=40),\n",
    "                annotations=[ dict(\n",
    "                    text=\"Python code: <a href='https://plot.ly/ipython-notebooks/network-graphs/'> https://plot.ly/ipython-notebooks/network-graphs/</a>\",\n",
    "                    showarrow=False,\n",
    "                    xref=\"paper\", yref=\"paper\",\n",
    "                    x=0.005, y=-0.002 ) ],\n",
    "                plot_bgcolor= 'rgba(0,0,0,0)',\n",
    "                #xaxis=dict(showgrid=False, zeroline=False, showticklabels=False),\n",
    "                #yaxis=dict(showgrid=False, zeroline=False, showticklabels=False)))\n",
    "                scene=dict(\n",
    "                xaxis=dict(axis),\n",
    "                yaxis=dict(axis),\n",
    "                zaxis=dict(axis))))\n",
    "iplot(fig, filename='networkx')"
   ]
  },
  {
   "cell_type": "code",
   "execution_count": null,
   "metadata": {
    "collapsed": true
   },
   "outputs": [],
   "source": []
  },
  {
   "cell_type": "code",
   "execution_count": null,
   "metadata": {
    "collapsed": true
   },
   "outputs": [],
   "source": []
  },
  {
   "cell_type": "code",
   "execution_count": null,
   "metadata": {
    "collapsed": true
   },
   "outputs": [],
   "source": []
  },
  {
   "cell_type": "code",
   "execution_count": null,
   "metadata": {
    "collapsed": true
   },
   "outputs": [],
   "source": []
  },
  {
   "cell_type": "code",
   "execution_count": null,
   "metadata": {
    "collapsed": true
   },
   "outputs": [],
   "source": []
  },
  {
   "cell_type": "code",
   "execution_count": null,
   "metadata": {
    "collapsed": true
   },
   "outputs": [],
   "source": []
  }
 ],
 "metadata": {
  "kernelspec": {
   "display_name": "Python [conda env: env.genomics]",
   "language": "python",
   "name": "conda-env-env.genomics-py"
  },
  "language_info": {
   "codemirror_mode": {
    "name": "ipython",
    "version": 3
   },
   "file_extension": ".py",
   "mimetype": "text/x-python",
   "name": "python",
   "nbconvert_exporter": "python",
   "pygments_lexer": "ipython3",
   "version": "3.6.8"
  }
 },
 "nbformat": 4,
 "nbformat_minor": 2
}
