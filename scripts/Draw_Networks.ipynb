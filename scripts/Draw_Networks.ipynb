{
 "cells": [
  {
   "cell_type": "code",
   "execution_count": 2,
   "metadata": {
    "collapsed": true
   },
   "outputs": [],
   "source": [
    "# 2019-11-14\n",
    "# A. Pendleton\n",
    "# Co-expression network plots"
   ]
  },
  {
   "cell_type": "code",
   "execution_count": 3,
   "metadata": {},
   "outputs": [],
   "source": [
    "%matplotlib inline\n",
    "import matplotlib.pyplot as plt\n",
    "import numpy as np\n",
    "import sys\n",
    "import glob\n",
    "\n",
    "#Plotting networks\n",
    "import networkx as nx\n"
   ]
  },
  {
   "cell_type": "code",
   "execution_count": 4,
   "metadata": {},
   "outputs": [
    {
     "data": {
      "text/html": [
       "        <script type=\"text/javascript\">\n",
       "        window.PlotlyConfig = {MathJaxConfig: 'local'};\n",
       "        if (window.MathJax) {MathJax.Hub.Config({SVG: {font: \"STIX-Web\"}});}\n",
       "        if (typeof require !== 'undefined') {\n",
       "        require.undef(\"plotly\");\n",
       "        requirejs.config({\n",
       "            paths: {\n",
       "                'plotly': ['https://cdn.plot.ly/plotly-latest.min']\n",
       "            }\n",
       "        });\n",
       "        require(['plotly'], function(Plotly) {\n",
       "            window._Plotly = Plotly;\n",
       "        });\n",
       "        }\n",
       "        </script>\n",
       "        "
      ]
     },
     "metadata": {},
     "output_type": "display_data"
    },
    {
     "data": {
      "text/html": [
       "        <script type=\"text/javascript\">\n",
       "        window.PlotlyConfig = {MathJaxConfig: 'local'};\n",
       "        if (window.MathJax) {MathJax.Hub.Config({SVG: {font: \"STIX-Web\"}});}\n",
       "        if (typeof require !== 'undefined') {\n",
       "        require.undef(\"plotly\");\n",
       "        requirejs.config({\n",
       "            paths: {\n",
       "                'plotly': ['https://cdn.plot.ly/plotly-latest.min']\n",
       "            }\n",
       "        });\n",
       "        require(['plotly'], function(Plotly) {\n",
       "            window._Plotly = Plotly;\n",
       "        });\n",
       "        }\n",
       "        </script>\n",
       "        "
      ]
     },
     "metadata": {},
     "output_type": "display_data"
    }
   ],
   "source": [
    "# For interactivity\n",
    "from __future__ import print_function\n",
    "from ipywidgets import interact, interactive, fixed, interact_manual\n",
    "import ipywidgets as widgets\n",
    "from plotly.offline import download_plotlyjs, init_notebook_mode, plot, iplot\n",
    "init_notebook_mode(connected=True) #Make it work in notebook mode\n",
    "import plotly.graph_objs as go\n",
    "from plotly.offline import download_plotlyjs, init_notebook_mode, plot, iplot\n",
    "\n",
    "\n",
    "init_notebook_mode(connected=True)\n",
    "\n"
   ]
  },
  {
   "cell_type": "markdown",
   "metadata": {},
   "source": [
    "# Goal of script:"
   ]
  },
  {
   "cell_type": "markdown",
   "metadata": {},
   "source": [
    "Draw coexpression networks for modules that contain:\n",
    "    - genes of interest (searched by name or function)\n",
    "    - genes with desired expression patterns\n",
    "\n",
    "Searching/filtration steps using the website's interface will yield a list/array of gene identifiers."
   ]
  },
  {
   "cell_type": "markdown",
   "metadata": {},
   "source": [
    "#### Practice gene list"
   ]
  },
  {
   "cell_type": "markdown",
   "metadata": {},
   "source": [
    "For practice, this script will be fed a test geneList:"
   ]
  },
  {
   "cell_type": "code",
   "execution_count": 5,
   "metadata": {
    "collapsed": true
   },
   "outputs": [],
   "source": [
    "geneList = ['Sevir.5G058900', 'Sevir.5G254600', 'Sevir.2G052500']\n"
   ]
  },
  {
   "cell_type": "markdown",
   "metadata": {},
   "source": [
    "_____"
   ]
  },
  {
   "cell_type": "markdown",
   "metadata": {},
   "source": [
    "# User provided information"
   ]
  },
  {
   "cell_type": "code",
   "execution_count": 6,
   "metadata": {
    "collapsed": true
   },
   "outputs": [],
   "source": [
    "rootDir = '/depot/jwisecav/data/pendlea/coexpression_assessments/development/coexp_development/'\n",
    "\n",
    "annotationFile = rootDir + 'Genes_annotations.txt'"
   ]
  },
  {
   "cell_type": "markdown",
   "metadata": {},
   "source": [
    "_____"
   ]
  },
  {
   "cell_type": "markdown",
   "metadata": {},
   "source": [
    "# Functional Annotations of Genes"
   ]
  },
  {
   "cell_type": "code",
   "execution_count": 18,
   "metadata": {},
   "outputs": [
    {
     "name": "stdout",
     "output_type": "stream",
     "text": [
      "38334 genes in annotation dictionary\n"
     ]
    }
   ],
   "source": [
    "annotationDict = {}\n",
    "\n",
    "columnNames = []\n",
    "\n",
    "lineCount = 0\n",
    "for line in open(annotationFile, 'r'):\n",
    "    line=line.rstrip().split('\\t')\n",
    "    \n",
    "    lineCount += 1\n",
    "    \n",
    "    #Get content information from the column names in the header line\n",
    "    if lineCount == 1:\n",
    "        for c in range(0,len(line)):\n",
    "            columnNames.append(line[c])\n",
    "        continue\n",
    "    \n",
    "    #Find gene ID in column 1\n",
    "    geneID = line[0]\n",
    "    \n",
    "    #If gene not in the dictionary... create entry\n",
    "    if geneID not in annotationDict.keys():\n",
    "        annotationDict[geneID] = {}\n",
    "        for columnName in columnNames:\n",
    "            annotationDict[geneID][columnName] = ''\n",
    "    else: #skip if already in dictionary \n",
    "        continue\n",
    "\n",
    "    #Now store all the relevant information in the line to this gene model\n",
    "    for c in range(1, len(line)): #go through each column and store its data in the dictionary for this gene\n",
    "        \"\"\"print(c,line[c])\n",
    "        sys.exit()\n",
    "        #If there are commas in the name, then let's convert the string to a list to be stored\n",
    "        if ',' in line[c] or ';' in line[c]:\n",
    "            dataLine = str(line[c]).split(',').split(';')\n",
    "        else:\n",
    "            dataLine = line[c]\"\"\"\n",
    "        dataLine = line[c]  \n",
    "        #Store in relevant column name\n",
    "        columnName = columnNames[c]\n",
    "        annotationDict[geneID][columnName] = dataLine\n",
    "    \n",
    "\n",
    "print('%i genes in annotation dictionary' % len(annotationDict.keys()))\n"
   ]
  },
  {
   "cell_type": "markdown",
   "metadata": {},
   "source": [
    "_____"
   ]
  },
  {
   "cell_type": "markdown",
   "metadata": {},
   "source": [
    "# Network processing"
   ]
  },
  {
   "cell_type": "markdown",
   "metadata": {},
   "source": [
    "### Get networks that user has provided information for"
   ]
  },
  {
   "cell_type": "code",
   "execution_count": 8,
   "metadata": {},
   "outputs": [],
   "source": [
    "networks = []\n",
    "\n",
    "#Get a list of the network directories the user has in their Networks path\n",
    "for directory in glob.glob(rootDir + 'Networks/*/'):\n",
    "    networkDecay = directory.rsplit('/',2)[1].split('_')[1]\n",
    "    networks.append(networkDecay)\n"
   ]
  },
  {
   "cell_type": "markdown",
   "metadata": {},
   "source": [
    "### Parse each summary file per network decay value\n",
    "Store the module identifiers that have at least one of the genes in our geneList"
   ]
  },
  {
   "cell_type": "code",
   "execution_count": 9,
   "metadata": {},
   "outputs": [
    {
     "name": "stdout",
     "output_type": "stream",
     "text": [
      "10 networks to plot\n"
     ]
    }
   ],
   "source": [
    "networksToPlot = []\n",
    "\n",
    "#Go through each decay value that the user has provided data for (Note. this can be just one decay value/level)\n",
    "for networkDecay in networks:\n",
    "    #Find the relevant summary file based on what the decay value is\n",
    "    networkRootDir =  rootDir + 'Networks/' + 'Network_%s/' % networkDecay\n",
    "    summaryFile = networkRootDir + 'Module_Summary.txt'\n",
    "    \n",
    "    #Parse each line of the summary file\n",
    "    for line in open(summaryFile, 'r'):\n",
    "        line=line.rstrip().split('\\t') #Strip line and split by tab\n",
    "        \n",
    "        #skip headerline\n",
    "        if '#' in line[0]:\n",
    "            continue\n",
    "    \n",
    "        networkID = line[0] #The network id is column #1\n",
    "        networkABCFile = networkRootDir + networkID + '.abc' #The edgeweight file is simply networkID.abc in the same directory\n",
    "        genesInNetwork = line[3].split(' ') #Space-delimited list of genes in the network (so split by space to make a list)\n",
    "        \n",
    "        #Go through each gene and see if its in your gene list \n",
    "        for gene in genesInNetwork: \n",
    "            #If so, then add its relevant network ID to an array that stores the edgeweight files\n",
    "            #.    for all networks to plot\n",
    "            if gene in geneList and networkABCFile not in networksToPlot:\n",
    "                networksToPlot.append(networkABCFile)\n",
    "                \n",
    "print('%i networks to plot' % len(networksToPlot))"
   ]
  },
  {
   "cell_type": "markdown",
   "metadata": {},
   "source": [
    "# 3D Networks"
   ]
  },
  {
   "cell_type": "code",
   "execution_count": 33,
   "metadata": {},
   "outputs": [],
   "source": [
    "def get_annotation_text(annotationDict, geneID):\n",
    "    text = ''\n",
    "    \n",
    "    text += 'Gene ID: %s<br>' % geneID\n",
    "    for c in annotationDict[geneID]:\n",
    "        #Skip if there's no annotation information\n",
    "        if annotationDict[geneID][c] == '':\n",
    "            continue\n",
    "        if '#Gene' in c:\n",
    "            continue\n",
    "        text += '%s: %s<br>' % (c, annotationDict[geneID][c])\n",
    "\n",
    "    return text"
   ]
  },
  {
   "cell_type": "code",
   "execution_count": 63,
   "metadata": {
    "scrolled": true
   },
   "outputs": [
    {
     "data": {
      "application/vnd.plotly.v1+json": {
       "config": {
        "linkText": "Export to plot.ly",
        "plotlyServerURL": "https://plot.ly",
        "showLink": false
       },
       "data": [
        {
         "hoverinfo": "none",
         "line": {
          "color": "#888",
          "width": 0.5
         },
         "mode": "lines",
         "type": "scatter3d",
         "x": [
          0.42384446566094397,
          0.6262882122024359,
          null,
          0.42384446566094397,
          0.47243580890267856,
          null,
          0.42384446566094397,
          0.355659602103044,
          null,
          0.42384446566094397,
          0.07312870124594417,
          null,
          0.42384446566094397,
          -0.15543484296906712,
          null,
          0.42384446566094397,
          0.05833284748841466,
          null,
          0.42384446566094397,
          0.22348735489691884,
          null,
          0.42384446566094397,
          -0.03991619201570859,
          null,
          0.42384446566094397,
          -0.32525327108236207,
          null,
          0.42384446566094397,
          -0.546881449978044,
          null,
          0.42384446566094397,
          0.11618805482839178,
          null,
          0.6262882122024359,
          -0.15543484296906712,
          null,
          0.6262882122024359,
          0.07312870124594417,
          null,
          0.6262882122024359,
          0.11618805482839178,
          null,
          0.6262882122024359,
          0.355659602103044,
          null,
          0.6262882122024359,
          0.22348735489691884,
          null,
          0.6262882122024359,
          0.47243580890267856,
          null,
          0.6262882122024359,
          0.004765547924655021,
          null,
          0.6262882122024359,
          -0.546881449978044,
          null,
          0.47243580890267856,
          0.355659602103044,
          null,
          0.47243580890267856,
          0.05833284748841466,
          null,
          0.47243580890267856,
          0.2380169509969315,
          null,
          0.47243580890267856,
          -0.32525327108236207,
          null,
          0.47243580890267856,
          -0.03991619201570859,
          null,
          0.355659602103044,
          -0.15543484296906712,
          null,
          0.355659602103044,
          0.07312870124594417,
          null,
          0.355659602103044,
          0.11618805482839178,
          null,
          0.355659602103044,
          0.05833284748841466,
          null,
          0.355659602103044,
          0.22348735489691884,
          null,
          0.355659602103044,
          -0.11478107701341478,
          null,
          0.355659602103044,
          -0.03991619201570859,
          null,
          0.355659602103044,
          0.2380169509969315,
          null,
          0.355659602103044,
          -0.26584652759191396,
          null,
          0.07312870124594417,
          -0.15543484296906712,
          null,
          0.07312870124594417,
          0.22348735489691884,
          null,
          0.07312870124594417,
          0.11618805482839178,
          null,
          0.07312870124594417,
          -0.03991619201570859,
          null,
          0.07312870124594417,
          0.05833284748841466,
          null,
          0.07312870124594417,
          -0.3603171284508297,
          null,
          0.07312870124594417,
          -0.26584652759191396,
          null,
          0.07312870124594417,
          -0.30306489934398007,
          null,
          0.07312870124594417,
          0.014591851247246398,
          null,
          0.07312870124594417,
          -0.9127175319512727,
          null,
          0.07312870124594417,
          -0.546881449978044,
          null,
          -0.15543484296906712,
          0.11618805482839178,
          null,
          -0.15543484296906712,
          0.05833284748841466,
          null,
          -0.15543484296906712,
          0.22348735489691884,
          null,
          -0.15543484296906712,
          -0.11478107701341478,
          null,
          -0.15543484296906712,
          -0.546881449978044,
          null,
          -0.15543484296906712,
          -0.03991619201570859,
          null,
          -0.15543484296906712,
          -0.30306489934398007,
          null,
          -0.15543484296906712,
          -0.26584652759191396,
          null,
          -0.15543484296906712,
          -0.32525327108236207,
          null,
          -0.15543484296906712,
          -0.3603171284508297,
          null,
          -0.15543484296906712,
          0.014591851247246398,
          null,
          -0.15543484296906712,
          -0.9127175319512727,
          null,
          -0.15543484296906712,
          0.004765547924655021,
          null,
          0.05833284748841466,
          0.11618805482839178,
          null,
          0.05833284748841466,
          -0.30306489934398007,
          null,
          0.05833284748841466,
          0.22348735489691884,
          null,
          0.05833284748841466,
          -0.3603171284508297,
          null,
          0.05833284748841466,
          -0.32525327108236207,
          null,
          0.05833284748841466,
          -0.03991619201570859,
          null,
          0.05833284748841466,
          -0.11478107701341478,
          null,
          0.05833284748841466,
          0.014591851247246398,
          null,
          0.05833284748841466,
          -0.546881449978044,
          null,
          0.22348735489691884,
          0.11618805482839178,
          null,
          0.22348735489691884,
          -0.03991619201570859,
          null,
          0.22348735489691884,
          0.014591851247246398,
          null,
          0.22348735489691884,
          0.4174735228989876,
          null,
          0.22348735489691884,
          0.004765547924655021,
          null,
          0.22348735489691884,
          -0.546881449978044,
          null,
          0.22348735489691884,
          -0.3603171284508297,
          null,
          -0.03991619201570859,
          0.11618805482839178,
          null,
          -0.03991619201570859,
          -0.32525327108236207,
          null,
          -0.03991619201570859,
          -0.11478107701341478,
          null,
          -0.03991619201570859,
          -0.30306489934398007,
          null,
          -0.03991619201570859,
          -0.3603171284508297,
          null,
          -0.32525327108236207,
          0.11618805482839178,
          null,
          -0.32525327108236207,
          -0.11478107701341478,
          null,
          -0.32525327108236207,
          -0.30306489934398007,
          null,
          -0.32525327108236207,
          -0.3603171284508297,
          null,
          -0.32525327108236207,
          -0.9127175319512727,
          null,
          -0.32525327108236207,
          0.2380169509969315,
          null,
          -0.546881449978044,
          0.004765547924655021,
          null,
          -0.546881449978044,
          -0.30306489934398007,
          null,
          -0.546881449978044,
          -0.11478107701341478,
          null,
          0.11618805482839178,
          0.014591851247246398,
          null,
          0.11618805482839178,
          0.004765547924655021,
          null,
          0.11618805482839178,
          0.4174735228989876,
          null,
          0.11618805482839178,
          -0.30306489934398007,
          null,
          0.11618805482839178,
          -0.11478107701341478,
          null,
          -0.11478107701341478,
          0.004765547924655021,
          null,
          -0.11478107701341478,
          -0.30306489934398007,
          null,
          -0.11478107701341478,
          0.2380169509969315,
          null,
          -0.30306489934398007,
          0.014591851247246398,
          null,
          -0.30306489934398007,
          -0.3603171284508297,
          null,
          0.014591851247246398,
          0.004765547924655021,
          null,
          0.014591851247246398,
          0.4174735228989876,
          null
         ],
         "y": [
          -0.1950512657027074,
          0.06249832547477268,
          null,
          -0.1950512657027074,
          -0.6482647363331341,
          null,
          -0.1950512657027074,
          -0.16517441302348182,
          null,
          -0.1950512657027074,
          0.09118994438781004,
          null,
          -0.1950512657027074,
          0.06136755823345114,
          null,
          -0.1950512657027074,
          -0.047428543596826994,
          null,
          -0.1950512657027074,
          0.25994038859375157,
          null,
          -0.1950512657027074,
          -0.16034630367747513,
          null,
          -0.1950512657027074,
          -0.36229897124115257,
          null,
          -0.1950512657027074,
          -0.12178508924129933,
          null,
          -0.1950512657027074,
          0.3159854060484804,
          null,
          0.06249832547477268,
          0.06136755823345114,
          null,
          0.06249832547477268,
          0.09118994438781004,
          null,
          0.06249832547477268,
          0.3159854060484804,
          null,
          0.06249832547477268,
          -0.16517441302348182,
          null,
          0.06249832547477268,
          0.25994038859375157,
          null,
          0.06249832547477268,
          -0.6482647363331341,
          null,
          0.06249832547477268,
          0.35110769011411297,
          null,
          0.06249832547477268,
          -0.12178508924129933,
          null,
          -0.6482647363331341,
          -0.16517441302348182,
          null,
          -0.6482647363331341,
          -0.047428543596826994,
          null,
          -0.6482647363331341,
          -1,
          null,
          -0.6482647363331341,
          -0.36229897124115257,
          null,
          -0.6482647363331341,
          -0.16034630367747513,
          null,
          -0.16517441302348182,
          0.06136755823345114,
          null,
          -0.16517441302348182,
          0.09118994438781004,
          null,
          -0.16517441302348182,
          0.3159854060484804,
          null,
          -0.16517441302348182,
          -0.047428543596826994,
          null,
          -0.16517441302348182,
          0.25994038859375157,
          null,
          -0.16517441302348182,
          -0.41340189724684007,
          null,
          -0.16517441302348182,
          -0.16034630367747513,
          null,
          -0.16517441302348182,
          -1,
          null,
          -0.16517441302348182,
          0.3379050995941708,
          null,
          0.09118994438781004,
          0.06136755823345114,
          null,
          0.09118994438781004,
          0.25994038859375157,
          null,
          0.09118994438781004,
          0.3159854060484804,
          null,
          0.09118994438781004,
          -0.16034630367747513,
          null,
          0.09118994438781004,
          -0.047428543596826994,
          null,
          0.09118994438781004,
          -0.1547277145438773,
          null,
          0.09118994438781004,
          0.3379050995941708,
          null,
          0.09118994438781004,
          0.20175483185760504,
          null,
          0.09118994438781004,
          0.6238730129231342,
          null,
          0.09118994438781004,
          0.07928712757808065,
          null,
          0.09118994438781004,
          -0.12178508924129933,
          null,
          0.06136755823345114,
          0.3159854060484804,
          null,
          0.06136755823345114,
          -0.047428543596826994,
          null,
          0.06136755823345114,
          0.25994038859375157,
          null,
          0.06136755823345114,
          -0.41340189724684007,
          null,
          0.06136755823345114,
          -0.12178508924129933,
          null,
          0.06136755823345114,
          -0.16034630367747513,
          null,
          0.06136755823345114,
          0.20175483185760504,
          null,
          0.06136755823345114,
          0.3379050995941708,
          null,
          0.06136755823345114,
          -0.36229897124115257,
          null,
          0.06136755823345114,
          -0.1547277145438773,
          null,
          0.06136755823345114,
          0.6238730129231342,
          null,
          0.06136755823345114,
          0.07928712757808065,
          null,
          0.06136755823345114,
          0.35110769011411297,
          null,
          -0.047428543596826994,
          0.3159854060484804,
          null,
          -0.047428543596826994,
          0.20175483185760504,
          null,
          -0.047428543596826994,
          0.25994038859375157,
          null,
          -0.047428543596826994,
          -0.1547277145438773,
          null,
          -0.047428543596826994,
          -0.36229897124115257,
          null,
          -0.047428543596826994,
          -0.16034630367747513,
          null,
          -0.047428543596826994,
          -0.41340189724684007,
          null,
          -0.047428543596826994,
          0.6238730129231342,
          null,
          -0.047428543596826994,
          -0.12178508924129933,
          null,
          0.25994038859375157,
          0.3159854060484804,
          null,
          0.25994038859375157,
          -0.16034630367747513,
          null,
          0.25994038859375157,
          0.6238730129231342,
          null,
          0.25994038859375157,
          0.8835695498014267,
          null,
          0.25994038859375157,
          0.35110769011411297,
          null,
          0.25994038859375157,
          -0.12178508924129933,
          null,
          0.25994038859375157,
          -0.1547277145438773,
          null,
          -0.16034630367747513,
          0.3159854060484804,
          null,
          -0.16034630367747513,
          -0.36229897124115257,
          null,
          -0.16034630367747513,
          -0.41340189724684007,
          null,
          -0.16034630367747513,
          0.20175483185760504,
          null,
          -0.16034630367747513,
          -0.1547277145438773,
          null,
          -0.36229897124115257,
          0.3159854060484804,
          null,
          -0.36229897124115257,
          -0.41340189724684007,
          null,
          -0.36229897124115257,
          0.20175483185760504,
          null,
          -0.36229897124115257,
          -0.1547277145438773,
          null,
          -0.36229897124115257,
          0.07928712757808065,
          null,
          -0.36229897124115257,
          -1,
          null,
          -0.12178508924129933,
          0.35110769011411297,
          null,
          -0.12178508924129933,
          0.20175483185760504,
          null,
          -0.12178508924129933,
          -0.41340189724684007,
          null,
          0.3159854060484804,
          0.6238730129231342,
          null,
          0.3159854060484804,
          0.35110769011411297,
          null,
          0.3159854060484804,
          0.8835695498014267,
          null,
          0.3159854060484804,
          0.20175483185760504,
          null,
          0.3159854060484804,
          -0.41340189724684007,
          null,
          -0.41340189724684007,
          0.35110769011411297,
          null,
          -0.41340189724684007,
          0.20175483185760504,
          null,
          -0.41340189724684007,
          -1,
          null,
          0.20175483185760504,
          0.6238730129231342,
          null,
          0.20175483185760504,
          -0.1547277145438773,
          null,
          0.6238730129231342,
          0.35110769011411297,
          null,
          0.6238730129231342,
          0.8835695498014267,
          null
         ],
         "z": [
          -0.2017873164845655,
          -0.023997579999580895,
          null,
          -0.2017873164845655,
          -0.04515489312674483,
          null,
          -0.2017873164845655,
          0.021325394653253966,
          null,
          -0.2017873164845655,
          -0.1341560923127779,
          null,
          -0.2017873164845655,
          -0.053473973133848066,
          null,
          -0.2017873164845655,
          0.11958794620892486,
          null,
          -0.2017873164845655,
          -0.012247972239543777,
          null,
          -0.2017873164845655,
          -0.20914634938755125,
          null,
          -0.2017873164845655,
          -0.12160514195076368,
          null,
          -0.2017873164845655,
          0.11204243267941963,
          null,
          -0.2017873164845655,
          0.138223196897965,
          null,
          -0.023997579999580895,
          -0.053473973133848066,
          null,
          -0.023997579999580895,
          -0.1341560923127779,
          null,
          -0.023997579999580895,
          0.138223196897965,
          null,
          -0.023997579999580895,
          0.021325394653253966,
          null,
          -0.023997579999580895,
          -0.012247972239543777,
          null,
          -0.023997579999580895,
          -0.04515489312674483,
          null,
          -0.023997579999580895,
          0.5120946004911717,
          null,
          -0.023997579999580895,
          0.11204243267941963,
          null,
          -0.04515489312674483,
          0.021325394653253966,
          null,
          -0.04515489312674483,
          0.11958794620892486,
          null,
          -0.04515489312674483,
          0.0559306787251427,
          null,
          -0.04515489312674483,
          -0.12160514195076368,
          null,
          -0.04515489312674483,
          -0.20914634938755125,
          null,
          0.021325394653253966,
          -0.053473973133848066,
          null,
          0.021325394653253966,
          -0.1341560923127779,
          null,
          0.021325394653253966,
          0.138223196897965,
          null,
          0.021325394653253966,
          0.11958794620892486,
          null,
          0.021325394653253966,
          -0.012247972239543777,
          null,
          0.021325394653253966,
          0.07343497692920635,
          null,
          0.021325394653253966,
          -0.20914634938755125,
          null,
          0.021325394653253966,
          0.0559306787251427,
          null,
          0.021325394653253966,
          -0.6097685976309853,
          null,
          -0.1341560923127779,
          -0.053473973133848066,
          null,
          -0.1341560923127779,
          -0.012247972239543777,
          null,
          -0.1341560923127779,
          0.138223196897965,
          null,
          -0.1341560923127779,
          -0.20914634938755125,
          null,
          -0.1341560923127779,
          0.11958794620892486,
          null,
          -0.1341560923127779,
          0.37439044637963487,
          null,
          -0.1341560923127779,
          -0.6097685976309853,
          null,
          -0.1341560923127779,
          0.14100444111575233,
          null,
          -0.1341560923127779,
          0.1421995984145279,
          null,
          -0.1341560923127779,
          -0.4857770093440557,
          null,
          -0.1341560923127779,
          0.11204243267941963,
          null,
          -0.053473973133848066,
          0.138223196897965,
          null,
          -0.053473973133848066,
          0.11958794620892486,
          null,
          -0.053473973133848066,
          -0.012247972239543777,
          null,
          -0.053473973133848066,
          0.07343497692920635,
          null,
          -0.053473973133848066,
          0.11204243267941963,
          null,
          -0.053473973133848066,
          -0.20914634938755125,
          null,
          -0.053473973133848066,
          0.14100444111575233,
          null,
          -0.053473973133848066,
          -0.6097685976309853,
          null,
          -0.053473973133848066,
          -0.12160514195076368,
          null,
          -0.053473973133848066,
          0.37439044637963487,
          null,
          -0.053473973133848066,
          0.1421995984145279,
          null,
          -0.053473973133848066,
          -0.4857770093440557,
          null,
          -0.053473973133848066,
          0.5120946004911717,
          null,
          0.11958794620892486,
          0.138223196897965,
          null,
          0.11958794620892486,
          0.14100444111575233,
          null,
          0.11958794620892486,
          -0.012247972239543777,
          null,
          0.11958794620892486,
          0.37439044637963487,
          null,
          0.11958794620892486,
          -0.12160514195076368,
          null,
          0.11958794620892486,
          -0.20914634938755125,
          null,
          0.11958794620892486,
          0.07343497692920635,
          null,
          0.11958794620892486,
          0.1421995984145279,
          null,
          0.11958794620892486,
          0.11204243267941963,
          null,
          -0.012247972239543777,
          0.138223196897965,
          null,
          -0.012247972239543777,
          -0.20914634938755125,
          null,
          -0.012247972239543777,
          0.1421995984145279,
          null,
          -0.012247972239543777,
          0.20688121311541746,
          null,
          -0.012247972239543777,
          0.5120946004911717,
          null,
          -0.012247972239543777,
          0.11204243267941963,
          null,
          -0.012247972239543777,
          0.37439044637963487,
          null,
          -0.20914634938755125,
          0.138223196897965,
          null,
          -0.20914634938755125,
          -0.12160514195076368,
          null,
          -0.20914634938755125,
          0.07343497692920635,
          null,
          -0.20914634938755125,
          0.14100444111575233,
          null,
          -0.20914634938755125,
          0.37439044637963487,
          null,
          -0.12160514195076368,
          0.138223196897965,
          null,
          -0.12160514195076368,
          0.07343497692920635,
          null,
          -0.12160514195076368,
          0.14100444111575233,
          null,
          -0.12160514195076368,
          0.37439044637963487,
          null,
          -0.12160514195076368,
          -0.4857770093440557,
          null,
          -0.12160514195076368,
          0.0559306787251427,
          null,
          0.11204243267941963,
          0.5120946004911717,
          null,
          0.11204243267941963,
          0.14100444111575233,
          null,
          0.11204243267941963,
          0.07343497692920635,
          null,
          0.138223196897965,
          0.1421995984145279,
          null,
          0.138223196897965,
          0.5120946004911717,
          null,
          0.138223196897965,
          0.20688121311541746,
          null,
          0.138223196897965,
          0.14100444111575233,
          null,
          0.138223196897965,
          0.07343497692920635,
          null,
          0.07343497692920635,
          0.5120946004911717,
          null,
          0.07343497692920635,
          0.14100444111575233,
          null,
          0.07343497692920635,
          0.0559306787251427,
          null,
          0.14100444111575233,
          0.1421995984145279,
          null,
          0.14100444111575233,
          0.37439044637963487,
          null,
          0.1421995984145279,
          0.5120946004911717,
          null,
          0.1421995984145279,
          0.20688121311541746,
          null
         ]
        },
        {
         "hoverinfo": "text",
         "marker": {
          "color": [
           "lightgray",
           "lightgray",
           "lightgray",
           "lightgray",
           "dodgerblue",
           "dodgerblue",
           "lightgray",
           "lightgray",
           "lightgray",
           "lightgray",
           "lightgray",
           "lightgray",
           "lightgray",
           "lightgray",
           "lightgray",
           "lightgray",
           "lightgray",
           "lightgray",
           "lightgray",
           "lightgray",
           "lightgray"
          ],
          "size": 22
         },
         "mode": "markers",
         "text": [
          "Gene ID: Sevir.3G067800<br>Pfam: PF00806,PF07990<br>Panther: PTHR12537,PTHR12537:SF65<br>KO: K17943<br>GO: GO:0003723<br>arabi-defline: pumilio 2<br>",
          "Gene ID: Sevir.7G022600<br>Pfam: PF03634<br>Panther: PTHR31072,PTHR31072:SF25<br>arabi-defline: TCP family transcription factor<br>",
          "Gene ID: Sevir.9G110700<br>Pfam: PF03514<br>Panther: PTHR31636,PTHR31636:SF65<br>arabi-defline: GRAS family transcription factor<br>",
          "Gene ID: Sevir.4G227600<br>Pfam: PF00569,PF00249,PF04433,PF16495<br>Panther: PTHR12802,PTHR12802:SF39<br>KOG: KOG1279<br>KO: K11649<br>GO: GO:0008270,GO:0005515<br>arabi-defline: DNA-binding family protein<br>",
          "Gene ID: Sevir.5G254600<br>Pfam: PF07991,PF01450<br>Panther: PTHR21371,PTHR21371:SF11<br>ec: 1.1.1.86<br>KO: K00053<br>GO: GO:0055114,GO:0009082,GO:0004455,GO:0016491<br>arabi-defline: ketol-acid reductoisomerase<br>",
          "Gene ID: Sevir.5G058900<br>Pfam: PF16186,PF01749,PF00514<br>Panther: PTHR23316,PTHR23316:SF18<br>GO: GO:0008565,GO:0006606,GO:0005737,GO:0005634,GO:0005515<br>arabi-defline: importin alpha isoform 1<br>",
          "Gene ID: Sevir.5G384100<br>Pfam: PF00806,PF07990<br>Panther: PTHR12537,PTHR12537:SF12<br>KO: K17943<br>GO: GO:0003723<br>arabi-defline: pumilio 1<br>",
          "Gene ID: Sevir.8G223900<br>Pfam: PF04121<br>Panther: PTHR13003<br>KOG: KOG1964<br>KO: K14301<br>GO: GO:0006810,GO:0005643<br>",
          "Gene ID: Sevir.7G235000<br>Pfam: PF00400<br>Panther: PTHR19918,PTHR19918:SF12<br>KOG: KOG0305<br>KO: K03363<br>GO: GO:0005515<br>arabi-defline: Transducin family protein / WD-40 repeat family protein<br>",
          "Gene ID: Sevir.7G007600<br>Pfam: PF12776<br>Panther: PTHR31704,PTHR31704:SF11<br>",
          "Gene ID: Sevir.6G184600<br>Pfam: PF04504<br>Panther: PTHR31662,PTHR31662:SF3<br>arabi-defline: DNA-binding storekeeper protein-related transcriptional regulator<br>",
          "Gene ID: Sevir.4G038600<br>Pfam: PF06858,PF08155<br>Panther: PTHR11702,PTHR11702:SF4<br>KO: K06943<br>GO: GO:0005525<br>arabi-defline: Nucleolar GTP-binding protein<br>",
          "Gene ID: Sevir.9G561400<br>Pfam: PF00498<br>Panther: PTHR12348,PTHR12348:SF15<br>ec: 5.2.1.8<br>GO: GO:0005515,GO:0006355,GO:0003700<br>arabi-defline: SMAD/FHA domain-containing protein<br>",
          "Gene ID: Sevir.3G301200<br>Pfam: PF04209<br>Panther: PTHR11056<br>ec: 1.13.11.5<br>GO: GO:0055114,GO:0006570,GO:0006559,GO:0004411<br>arabi-defline: homogentisate 1,2-dioxygenase<br>",
          "Gene ID: Sevir.2G076801<br>Pfam: PF00646<br>Panther: PTHR31790,PTHR31790:SF20<br>GO: GO:0005515<br>arabi-defline: F-box and associated interaction domains-containing protein<br>",
          "Gene ID: Sevir.1G057300<br>Pfam: PF00083<br>Panther: PTHR23500,PTHR23500:SF159<br>GO: GO:0055085,GO:0022857,GO:0016021<br>arabi-defline: Major facilitator superfamily protein<br>",
          "Gene ID: Sevir.3G036900<br>Pfam: PF08264,PF09334,PF00133<br>Panther: PTHR11946,PTHR11946:SF51<br>ec: 6.1.1.4<br>KO: K01869<br>GO: GO:0006418,GO:0000166,GO:0005524,GO:0004812<br>arabi-defline: ATP binding;leucine-tRNA ligases;aminoacyl-tRNA ligases;nucleotide binding;ATP binding;aminoacyl-tRNA ligases<br>",
          "Gene ID: Sevir.7G069833<br>Pfam: PF02096<br>Panther: PTHR12428,PTHR12428:SF14<br>GO: GO:0051205,GO:0016021<br>arabi-defline: homolog of yeast oxidase assembly 1 (OXA1)<br>",
          "Gene ID: Sevir.3G393600<br>Pfam: PF00013<br>Panther: PTHR10288,PTHR10288:SF155<br>KOG: KOG2190<br>KO: K13162<br>GO: GO:0003723<br>arabi-defline: RNA-binding KH domain-containing protein<br>",
          "Gene ID: Sevir.5G055200<br>Panther: PTHR36407,PTHR36407:SF1<br>",
          "Gene ID: Sevir.9G382900<br>Pfam: PF00226<br>Panther: PTHR24078,PTHR24078:SF259<br>arabi-defline: Chaperone DnaJ-domain superfamily protein<br>"
         ],
         "type": "scatter3d",
         "x": [
          0.42384446566094397,
          0.6262882122024359,
          0.47243580890267856,
          0.355659602103044,
          0.07312870124594417,
          -0.15543484296906712,
          0.05833284748841466,
          0.22348735489691884,
          -0.03991619201570859,
          -0.32525327108236207,
          -0.546881449978044,
          0.11618805482839178,
          -0.11478107701341478,
          -0.30306489934398007,
          -0.26584652759191396,
          -0.3603171284508297,
          0.014591851247246398,
          -0.9127175319512727,
          0.004765547924655021,
          0.4174735228989876,
          0.2380169509969315
         ],
         "y": [
          -0.1950512657027074,
          0.06249832547477268,
          -0.6482647363331341,
          -0.16517441302348182,
          0.09118994438781004,
          0.06136755823345114,
          -0.047428543596826994,
          0.25994038859375157,
          -0.16034630367747513,
          -0.36229897124115257,
          -0.12178508924129933,
          0.3159854060484804,
          -0.41340189724684007,
          0.20175483185760504,
          0.3379050995941708,
          -0.1547277145438773,
          0.6238730129231342,
          0.07928712757808065,
          0.35110769011411297,
          0.8835695498014267,
          -1
         ],
         "z": [
          -0.2017873164845655,
          -0.023997579999580895,
          -0.04515489312674483,
          0.021325394653253966,
          -0.1341560923127779,
          -0.053473973133848066,
          0.11958794620892486,
          -0.012247972239543777,
          -0.20914634938755125,
          -0.12160514195076368,
          0.11204243267941963,
          0.138223196897965,
          0.07343497692920635,
          0.14100444111575233,
          -0.6097685976309853,
          0.37439044637963487,
          0.1421995984145279,
          -0.4857770093440557,
          0.5120946004911717,
          0.20688121311541746,
          0.0559306787251427
         ]
        }
       ],
       "layout": {
        "annotations": [
         {
          "showarrow": false,
          "text": "Python code: <a href='https://plot.ly/ipython-notebooks/network-graphs/'> https://plot.ly/ipython-notebooks/network-graphs/</a>",
          "x": 0.005,
          "xref": "paper",
          "y": -0.002,
          "yref": "paper"
         }
        ],
        "hovermode": "closest",
        "margin": {
         "b": 20,
         "l": 5,
         "r": 5,
         "t": 40
        },
        "plot_bgcolor": "rgba(0,0,0,0)",
        "scene": {
         "xaxis": {
          "showbackground": false,
          "showgrid": false,
          "showline": false,
          "showticklabels": false,
          "title": {
           "text": ""
          },
          "zeroline": false
         },
         "yaxis": {
          "showbackground": false,
          "showgrid": false,
          "showline": false,
          "showticklabels": false,
          "title": {
           "text": ""
          },
          "zeroline": false
         },
         "zaxis": {
          "showbackground": false,
          "showgrid": false,
          "showline": false,
          "showticklabels": false,
          "title": {
           "text": ""
          },
          "zeroline": false
         }
        },
        "showlegend": false,
        "template": {
         "data": {
          "bar": [
           {
            "error_x": {
             "color": "#2a3f5f"
            },
            "error_y": {
             "color": "#2a3f5f"
            },
            "marker": {
             "line": {
              "color": "#E5ECF6",
              "width": 0.5
             }
            },
            "type": "bar"
           }
          ],
          "barpolar": [
           {
            "marker": {
             "line": {
              "color": "#E5ECF6",
              "width": 0.5
             }
            },
            "type": "barpolar"
           }
          ],
          "carpet": [
           {
            "aaxis": {
             "endlinecolor": "#2a3f5f",
             "gridcolor": "white",
             "linecolor": "white",
             "minorgridcolor": "white",
             "startlinecolor": "#2a3f5f"
            },
            "baxis": {
             "endlinecolor": "#2a3f5f",
             "gridcolor": "white",
             "linecolor": "white",
             "minorgridcolor": "white",
             "startlinecolor": "#2a3f5f"
            },
            "type": "carpet"
           }
          ],
          "choropleth": [
           {
            "colorbar": {
             "outlinewidth": 0,
             "ticks": ""
            },
            "type": "choropleth"
           }
          ],
          "contour": [
           {
            "colorbar": {
             "outlinewidth": 0,
             "ticks": ""
            },
            "colorscale": [
             [
              0,
              "#0d0887"
             ],
             [
              0.1111111111111111,
              "#46039f"
             ],
             [
              0.2222222222222222,
              "#7201a8"
             ],
             [
              0.3333333333333333,
              "#9c179e"
             ],
             [
              0.4444444444444444,
              "#bd3786"
             ],
             [
              0.5555555555555556,
              "#d8576b"
             ],
             [
              0.6666666666666666,
              "#ed7953"
             ],
             [
              0.7777777777777778,
              "#fb9f3a"
             ],
             [
              0.8888888888888888,
              "#fdca26"
             ],
             [
              1,
              "#f0f921"
             ]
            ],
            "type": "contour"
           }
          ],
          "contourcarpet": [
           {
            "colorbar": {
             "outlinewidth": 0,
             "ticks": ""
            },
            "type": "contourcarpet"
           }
          ],
          "heatmap": [
           {
            "colorbar": {
             "outlinewidth": 0,
             "ticks": ""
            },
            "colorscale": [
             [
              0,
              "#0d0887"
             ],
             [
              0.1111111111111111,
              "#46039f"
             ],
             [
              0.2222222222222222,
              "#7201a8"
             ],
             [
              0.3333333333333333,
              "#9c179e"
             ],
             [
              0.4444444444444444,
              "#bd3786"
             ],
             [
              0.5555555555555556,
              "#d8576b"
             ],
             [
              0.6666666666666666,
              "#ed7953"
             ],
             [
              0.7777777777777778,
              "#fb9f3a"
             ],
             [
              0.8888888888888888,
              "#fdca26"
             ],
             [
              1,
              "#f0f921"
             ]
            ],
            "type": "heatmap"
           }
          ],
          "heatmapgl": [
           {
            "colorbar": {
             "outlinewidth": 0,
             "ticks": ""
            },
            "colorscale": [
             [
              0,
              "#0d0887"
             ],
             [
              0.1111111111111111,
              "#46039f"
             ],
             [
              0.2222222222222222,
              "#7201a8"
             ],
             [
              0.3333333333333333,
              "#9c179e"
             ],
             [
              0.4444444444444444,
              "#bd3786"
             ],
             [
              0.5555555555555556,
              "#d8576b"
             ],
             [
              0.6666666666666666,
              "#ed7953"
             ],
             [
              0.7777777777777778,
              "#fb9f3a"
             ],
             [
              0.8888888888888888,
              "#fdca26"
             ],
             [
              1,
              "#f0f921"
             ]
            ],
            "type": "heatmapgl"
           }
          ],
          "histogram": [
           {
            "marker": {
             "colorbar": {
              "outlinewidth": 0,
              "ticks": ""
             }
            },
            "type": "histogram"
           }
          ],
          "histogram2d": [
           {
            "colorbar": {
             "outlinewidth": 0,
             "ticks": ""
            },
            "colorscale": [
             [
              0,
              "#0d0887"
             ],
             [
              0.1111111111111111,
              "#46039f"
             ],
             [
              0.2222222222222222,
              "#7201a8"
             ],
             [
              0.3333333333333333,
              "#9c179e"
             ],
             [
              0.4444444444444444,
              "#bd3786"
             ],
             [
              0.5555555555555556,
              "#d8576b"
             ],
             [
              0.6666666666666666,
              "#ed7953"
             ],
             [
              0.7777777777777778,
              "#fb9f3a"
             ],
             [
              0.8888888888888888,
              "#fdca26"
             ],
             [
              1,
              "#f0f921"
             ]
            ],
            "type": "histogram2d"
           }
          ],
          "histogram2dcontour": [
           {
            "colorbar": {
             "outlinewidth": 0,
             "ticks": ""
            },
            "colorscale": [
             [
              0,
              "#0d0887"
             ],
             [
              0.1111111111111111,
              "#46039f"
             ],
             [
              0.2222222222222222,
              "#7201a8"
             ],
             [
              0.3333333333333333,
              "#9c179e"
             ],
             [
              0.4444444444444444,
              "#bd3786"
             ],
             [
              0.5555555555555556,
              "#d8576b"
             ],
             [
              0.6666666666666666,
              "#ed7953"
             ],
             [
              0.7777777777777778,
              "#fb9f3a"
             ],
             [
              0.8888888888888888,
              "#fdca26"
             ],
             [
              1,
              "#f0f921"
             ]
            ],
            "type": "histogram2dcontour"
           }
          ],
          "mesh3d": [
           {
            "colorbar": {
             "outlinewidth": 0,
             "ticks": ""
            },
            "type": "mesh3d"
           }
          ],
          "parcoords": [
           {
            "line": {
             "colorbar": {
              "outlinewidth": 0,
              "ticks": ""
             }
            },
            "type": "parcoords"
           }
          ],
          "pie": [
           {
            "automargin": true,
            "type": "pie"
           }
          ],
          "scatter": [
           {
            "marker": {
             "colorbar": {
              "outlinewidth": 0,
              "ticks": ""
             }
            },
            "type": "scatter"
           }
          ],
          "scatter3d": [
           {
            "line": {
             "colorbar": {
              "outlinewidth": 0,
              "ticks": ""
             }
            },
            "marker": {
             "colorbar": {
              "outlinewidth": 0,
              "ticks": ""
             }
            },
            "type": "scatter3d"
           }
          ],
          "scattercarpet": [
           {
            "marker": {
             "colorbar": {
              "outlinewidth": 0,
              "ticks": ""
             }
            },
            "type": "scattercarpet"
           }
          ],
          "scattergeo": [
           {
            "marker": {
             "colorbar": {
              "outlinewidth": 0,
              "ticks": ""
             }
            },
            "type": "scattergeo"
           }
          ],
          "scattergl": [
           {
            "marker": {
             "colorbar": {
              "outlinewidth": 0,
              "ticks": ""
             }
            },
            "type": "scattergl"
           }
          ],
          "scattermapbox": [
           {
            "marker": {
             "colorbar": {
              "outlinewidth": 0,
              "ticks": ""
             }
            },
            "type": "scattermapbox"
           }
          ],
          "scatterpolar": [
           {
            "marker": {
             "colorbar": {
              "outlinewidth": 0,
              "ticks": ""
             }
            },
            "type": "scatterpolar"
           }
          ],
          "scatterpolargl": [
           {
            "marker": {
             "colorbar": {
              "outlinewidth": 0,
              "ticks": ""
             }
            },
            "type": "scatterpolargl"
           }
          ],
          "scatterternary": [
           {
            "marker": {
             "colorbar": {
              "outlinewidth": 0,
              "ticks": ""
             }
            },
            "type": "scatterternary"
           }
          ],
          "surface": [
           {
            "colorbar": {
             "outlinewidth": 0,
             "ticks": ""
            },
            "colorscale": [
             [
              0,
              "#0d0887"
             ],
             [
              0.1111111111111111,
              "#46039f"
             ],
             [
              0.2222222222222222,
              "#7201a8"
             ],
             [
              0.3333333333333333,
              "#9c179e"
             ],
             [
              0.4444444444444444,
              "#bd3786"
             ],
             [
              0.5555555555555556,
              "#d8576b"
             ],
             [
              0.6666666666666666,
              "#ed7953"
             ],
             [
              0.7777777777777778,
              "#fb9f3a"
             ],
             [
              0.8888888888888888,
              "#fdca26"
             ],
             [
              1,
              "#f0f921"
             ]
            ],
            "type": "surface"
           }
          ],
          "table": [
           {
            "cells": {
             "fill": {
              "color": "#EBF0F8"
             },
             "line": {
              "color": "white"
             }
            },
            "header": {
             "fill": {
              "color": "#C8D4E3"
             },
             "line": {
              "color": "white"
             }
            },
            "type": "table"
           }
          ]
         },
         "layout": {
          "annotationdefaults": {
           "arrowcolor": "#2a3f5f",
           "arrowhead": 0,
           "arrowwidth": 1
          },
          "coloraxis": {
           "colorbar": {
            "outlinewidth": 0,
            "ticks": ""
           }
          },
          "colorscale": {
           "diverging": [
            [
             0,
             "#8e0152"
            ],
            [
             0.1,
             "#c51b7d"
            ],
            [
             0.2,
             "#de77ae"
            ],
            [
             0.3,
             "#f1b6da"
            ],
            [
             0.4,
             "#fde0ef"
            ],
            [
             0.5,
             "#f7f7f7"
            ],
            [
             0.6,
             "#e6f5d0"
            ],
            [
             0.7,
             "#b8e186"
            ],
            [
             0.8,
             "#7fbc41"
            ],
            [
             0.9,
             "#4d9221"
            ],
            [
             1,
             "#276419"
            ]
           ],
           "sequential": [
            [
             0,
             "#0d0887"
            ],
            [
             0.1111111111111111,
             "#46039f"
            ],
            [
             0.2222222222222222,
             "#7201a8"
            ],
            [
             0.3333333333333333,
             "#9c179e"
            ],
            [
             0.4444444444444444,
             "#bd3786"
            ],
            [
             0.5555555555555556,
             "#d8576b"
            ],
            [
             0.6666666666666666,
             "#ed7953"
            ],
            [
             0.7777777777777778,
             "#fb9f3a"
            ],
            [
             0.8888888888888888,
             "#fdca26"
            ],
            [
             1,
             "#f0f921"
            ]
           ],
           "sequentialminus": [
            [
             0,
             "#0d0887"
            ],
            [
             0.1111111111111111,
             "#46039f"
            ],
            [
             0.2222222222222222,
             "#7201a8"
            ],
            [
             0.3333333333333333,
             "#9c179e"
            ],
            [
             0.4444444444444444,
             "#bd3786"
            ],
            [
             0.5555555555555556,
             "#d8576b"
            ],
            [
             0.6666666666666666,
             "#ed7953"
            ],
            [
             0.7777777777777778,
             "#fb9f3a"
            ],
            [
             0.8888888888888888,
             "#fdca26"
            ],
            [
             1,
             "#f0f921"
            ]
           ]
          },
          "colorway": [
           "#636efa",
           "#EF553B",
           "#00cc96",
           "#ab63fa",
           "#FFA15A",
           "#19d3f3",
           "#FF6692",
           "#B6E880",
           "#FF97FF",
           "#FECB52"
          ],
          "font": {
           "color": "#2a3f5f"
          },
          "geo": {
           "bgcolor": "white",
           "lakecolor": "white",
           "landcolor": "#E5ECF6",
           "showlakes": true,
           "showland": true,
           "subunitcolor": "white"
          },
          "hoverlabel": {
           "align": "left"
          },
          "hovermode": "closest",
          "mapbox": {
           "style": "light"
          },
          "paper_bgcolor": "white",
          "plot_bgcolor": "#E5ECF6",
          "polar": {
           "angularaxis": {
            "gridcolor": "white",
            "linecolor": "white",
            "ticks": ""
           },
           "bgcolor": "#E5ECF6",
           "radialaxis": {
            "gridcolor": "white",
            "linecolor": "white",
            "ticks": ""
           }
          },
          "scene": {
           "xaxis": {
            "backgroundcolor": "#E5ECF6",
            "gridcolor": "white",
            "gridwidth": 2,
            "linecolor": "white",
            "showbackground": true,
            "ticks": "",
            "zerolinecolor": "white"
           },
           "yaxis": {
            "backgroundcolor": "#E5ECF6",
            "gridcolor": "white",
            "gridwidth": 2,
            "linecolor": "white",
            "showbackground": true,
            "ticks": "",
            "zerolinecolor": "white"
           },
           "zaxis": {
            "backgroundcolor": "#E5ECF6",
            "gridcolor": "white",
            "gridwidth": 2,
            "linecolor": "white",
            "showbackground": true,
            "ticks": "",
            "zerolinecolor": "white"
           }
          },
          "shapedefaults": {
           "line": {
            "color": "#2a3f5f"
           }
          },
          "ternary": {
           "aaxis": {
            "gridcolor": "white",
            "linecolor": "white",
            "ticks": ""
           },
           "baxis": {
            "gridcolor": "white",
            "linecolor": "white",
            "ticks": ""
           },
           "bgcolor": "#E5ECF6",
           "caxis": {
            "gridcolor": "white",
            "linecolor": "white",
            "ticks": ""
           }
          },
          "title": {
           "x": 0.05
          },
          "xaxis": {
           "automargin": true,
           "gridcolor": "white",
           "linecolor": "white",
           "ticks": "",
           "title": {
            "standoff": 15
           },
           "zerolinecolor": "white",
           "zerolinewidth": 2
          },
          "yaxis": {
           "automargin": true,
           "gridcolor": "white",
           "linecolor": "white",
           "ticks": "",
           "title": {
            "standoff": 15
           },
           "zerolinecolor": "white",
           "zerolinewidth": 2
          }
         }
        },
        "title": {
         "font": {
          "size": 16
         },
         "text": "<br>Network N010M00022"
        }
       }
      },
      "text/html": [
       "<div>\n",
       "        \n",
       "        \n",
       "            <div id=\"0d55bb30-8936-4339-8b6e-a73917cd9788\" class=\"plotly-graph-div\" style=\"height:525px; width:100%;\"></div>\n",
       "            <script type=\"text/javascript\">\n",
       "                require([\"plotly\"], function(Plotly) {\n",
       "                    window.PLOTLYENV=window.PLOTLYENV || {};\n",
       "                    \n",
       "                if (document.getElementById(\"0d55bb30-8936-4339-8b6e-a73917cd9788\")) {\n",
       "                    Plotly.newPlot(\n",
       "                        '0d55bb30-8936-4339-8b6e-a73917cd9788',\n",
       "                        [{\"hoverinfo\": \"none\", \"line\": {\"color\": \"#888\", \"width\": 0.5}, \"mode\": \"lines\", \"type\": \"scatter3d\", \"x\": [0.42384446566094397, 0.6262882122024359, null, 0.42384446566094397, 0.47243580890267856, null, 0.42384446566094397, 0.355659602103044, null, 0.42384446566094397, 0.07312870124594417, null, 0.42384446566094397, -0.15543484296906712, null, 0.42384446566094397, 0.05833284748841466, null, 0.42384446566094397, 0.22348735489691884, null, 0.42384446566094397, -0.03991619201570859, null, 0.42384446566094397, -0.32525327108236207, null, 0.42384446566094397, -0.546881449978044, null, 0.42384446566094397, 0.11618805482839178, null, 0.6262882122024359, -0.15543484296906712, null, 0.6262882122024359, 0.07312870124594417, null, 0.6262882122024359, 0.11618805482839178, null, 0.6262882122024359, 0.355659602103044, null, 0.6262882122024359, 0.22348735489691884, null, 0.6262882122024359, 0.47243580890267856, null, 0.6262882122024359, 0.004765547924655021, null, 0.6262882122024359, -0.546881449978044, null, 0.47243580890267856, 0.355659602103044, null, 0.47243580890267856, 0.05833284748841466, null, 0.47243580890267856, 0.2380169509969315, null, 0.47243580890267856, -0.32525327108236207, null, 0.47243580890267856, -0.03991619201570859, null, 0.355659602103044, -0.15543484296906712, null, 0.355659602103044, 0.07312870124594417, null, 0.355659602103044, 0.11618805482839178, null, 0.355659602103044, 0.05833284748841466, null, 0.355659602103044, 0.22348735489691884, null, 0.355659602103044, -0.11478107701341478, null, 0.355659602103044, -0.03991619201570859, null, 0.355659602103044, 0.2380169509969315, null, 0.355659602103044, -0.26584652759191396, null, 0.07312870124594417, -0.15543484296906712, null, 0.07312870124594417, 0.22348735489691884, null, 0.07312870124594417, 0.11618805482839178, null, 0.07312870124594417, -0.03991619201570859, null, 0.07312870124594417, 0.05833284748841466, null, 0.07312870124594417, -0.3603171284508297, null, 0.07312870124594417, -0.26584652759191396, null, 0.07312870124594417, -0.30306489934398007, null, 0.07312870124594417, 0.014591851247246398, null, 0.07312870124594417, -0.9127175319512727, null, 0.07312870124594417, -0.546881449978044, null, -0.15543484296906712, 0.11618805482839178, null, -0.15543484296906712, 0.05833284748841466, null, -0.15543484296906712, 0.22348735489691884, null, -0.15543484296906712, -0.11478107701341478, null, -0.15543484296906712, -0.546881449978044, null, -0.15543484296906712, -0.03991619201570859, null, -0.15543484296906712, -0.30306489934398007, null, -0.15543484296906712, -0.26584652759191396, null, -0.15543484296906712, -0.32525327108236207, null, -0.15543484296906712, -0.3603171284508297, null, -0.15543484296906712, 0.014591851247246398, null, -0.15543484296906712, -0.9127175319512727, null, -0.15543484296906712, 0.004765547924655021, null, 0.05833284748841466, 0.11618805482839178, null, 0.05833284748841466, -0.30306489934398007, null, 0.05833284748841466, 0.22348735489691884, null, 0.05833284748841466, -0.3603171284508297, null, 0.05833284748841466, -0.32525327108236207, null, 0.05833284748841466, -0.03991619201570859, null, 0.05833284748841466, -0.11478107701341478, null, 0.05833284748841466, 0.014591851247246398, null, 0.05833284748841466, -0.546881449978044, null, 0.22348735489691884, 0.11618805482839178, null, 0.22348735489691884, -0.03991619201570859, null, 0.22348735489691884, 0.014591851247246398, null, 0.22348735489691884, 0.4174735228989876, null, 0.22348735489691884, 0.004765547924655021, null, 0.22348735489691884, -0.546881449978044, null, 0.22348735489691884, -0.3603171284508297, null, -0.03991619201570859, 0.11618805482839178, null, -0.03991619201570859, -0.32525327108236207, null, -0.03991619201570859, -0.11478107701341478, null, -0.03991619201570859, -0.30306489934398007, null, -0.03991619201570859, -0.3603171284508297, null, -0.32525327108236207, 0.11618805482839178, null, -0.32525327108236207, -0.11478107701341478, null, -0.32525327108236207, -0.30306489934398007, null, -0.32525327108236207, -0.3603171284508297, null, -0.32525327108236207, -0.9127175319512727, null, -0.32525327108236207, 0.2380169509969315, null, -0.546881449978044, 0.004765547924655021, null, -0.546881449978044, -0.30306489934398007, null, -0.546881449978044, -0.11478107701341478, null, 0.11618805482839178, 0.014591851247246398, null, 0.11618805482839178, 0.004765547924655021, null, 0.11618805482839178, 0.4174735228989876, null, 0.11618805482839178, -0.30306489934398007, null, 0.11618805482839178, -0.11478107701341478, null, -0.11478107701341478, 0.004765547924655021, null, -0.11478107701341478, -0.30306489934398007, null, -0.11478107701341478, 0.2380169509969315, null, -0.30306489934398007, 0.014591851247246398, null, -0.30306489934398007, -0.3603171284508297, null, 0.014591851247246398, 0.004765547924655021, null, 0.014591851247246398, 0.4174735228989876, null], \"y\": [-0.1950512657027074, 0.06249832547477268, null, -0.1950512657027074, -0.6482647363331341, null, -0.1950512657027074, -0.16517441302348182, null, -0.1950512657027074, 0.09118994438781004, null, -0.1950512657027074, 0.06136755823345114, null, -0.1950512657027074, -0.047428543596826994, null, -0.1950512657027074, 0.25994038859375157, null, -0.1950512657027074, -0.16034630367747513, null, -0.1950512657027074, -0.36229897124115257, null, -0.1950512657027074, -0.12178508924129933, null, -0.1950512657027074, 0.3159854060484804, null, 0.06249832547477268, 0.06136755823345114, null, 0.06249832547477268, 0.09118994438781004, null, 0.06249832547477268, 0.3159854060484804, null, 0.06249832547477268, -0.16517441302348182, null, 0.06249832547477268, 0.25994038859375157, null, 0.06249832547477268, -0.6482647363331341, null, 0.06249832547477268, 0.35110769011411297, null, 0.06249832547477268, -0.12178508924129933, null, -0.6482647363331341, -0.16517441302348182, null, -0.6482647363331341, -0.047428543596826994, null, -0.6482647363331341, -1.0, null, -0.6482647363331341, -0.36229897124115257, null, -0.6482647363331341, -0.16034630367747513, null, -0.16517441302348182, 0.06136755823345114, null, -0.16517441302348182, 0.09118994438781004, null, -0.16517441302348182, 0.3159854060484804, null, -0.16517441302348182, -0.047428543596826994, null, -0.16517441302348182, 0.25994038859375157, null, -0.16517441302348182, -0.41340189724684007, null, -0.16517441302348182, -0.16034630367747513, null, -0.16517441302348182, -1.0, null, -0.16517441302348182, 0.3379050995941708, null, 0.09118994438781004, 0.06136755823345114, null, 0.09118994438781004, 0.25994038859375157, null, 0.09118994438781004, 0.3159854060484804, null, 0.09118994438781004, -0.16034630367747513, null, 0.09118994438781004, -0.047428543596826994, null, 0.09118994438781004, -0.1547277145438773, null, 0.09118994438781004, 0.3379050995941708, null, 0.09118994438781004, 0.20175483185760504, null, 0.09118994438781004, 0.6238730129231342, null, 0.09118994438781004, 0.07928712757808065, null, 0.09118994438781004, -0.12178508924129933, null, 0.06136755823345114, 0.3159854060484804, null, 0.06136755823345114, -0.047428543596826994, null, 0.06136755823345114, 0.25994038859375157, null, 0.06136755823345114, -0.41340189724684007, null, 0.06136755823345114, -0.12178508924129933, null, 0.06136755823345114, -0.16034630367747513, null, 0.06136755823345114, 0.20175483185760504, null, 0.06136755823345114, 0.3379050995941708, null, 0.06136755823345114, -0.36229897124115257, null, 0.06136755823345114, -0.1547277145438773, null, 0.06136755823345114, 0.6238730129231342, null, 0.06136755823345114, 0.07928712757808065, null, 0.06136755823345114, 0.35110769011411297, null, -0.047428543596826994, 0.3159854060484804, null, -0.047428543596826994, 0.20175483185760504, null, -0.047428543596826994, 0.25994038859375157, null, -0.047428543596826994, -0.1547277145438773, null, -0.047428543596826994, -0.36229897124115257, null, -0.047428543596826994, -0.16034630367747513, null, -0.047428543596826994, -0.41340189724684007, null, -0.047428543596826994, 0.6238730129231342, null, -0.047428543596826994, -0.12178508924129933, null, 0.25994038859375157, 0.3159854060484804, null, 0.25994038859375157, -0.16034630367747513, null, 0.25994038859375157, 0.6238730129231342, null, 0.25994038859375157, 0.8835695498014267, null, 0.25994038859375157, 0.35110769011411297, null, 0.25994038859375157, -0.12178508924129933, null, 0.25994038859375157, -0.1547277145438773, null, -0.16034630367747513, 0.3159854060484804, null, -0.16034630367747513, -0.36229897124115257, null, -0.16034630367747513, -0.41340189724684007, null, -0.16034630367747513, 0.20175483185760504, null, -0.16034630367747513, -0.1547277145438773, null, -0.36229897124115257, 0.3159854060484804, null, -0.36229897124115257, -0.41340189724684007, null, -0.36229897124115257, 0.20175483185760504, null, -0.36229897124115257, -0.1547277145438773, null, -0.36229897124115257, 0.07928712757808065, null, -0.36229897124115257, -1.0, null, -0.12178508924129933, 0.35110769011411297, null, -0.12178508924129933, 0.20175483185760504, null, -0.12178508924129933, -0.41340189724684007, null, 0.3159854060484804, 0.6238730129231342, null, 0.3159854060484804, 0.35110769011411297, null, 0.3159854060484804, 0.8835695498014267, null, 0.3159854060484804, 0.20175483185760504, null, 0.3159854060484804, -0.41340189724684007, null, -0.41340189724684007, 0.35110769011411297, null, -0.41340189724684007, 0.20175483185760504, null, -0.41340189724684007, -1.0, null, 0.20175483185760504, 0.6238730129231342, null, 0.20175483185760504, -0.1547277145438773, null, 0.6238730129231342, 0.35110769011411297, null, 0.6238730129231342, 0.8835695498014267, null], \"z\": [-0.2017873164845655, -0.023997579999580895, null, -0.2017873164845655, -0.04515489312674483, null, -0.2017873164845655, 0.021325394653253966, null, -0.2017873164845655, -0.1341560923127779, null, -0.2017873164845655, -0.053473973133848066, null, -0.2017873164845655, 0.11958794620892486, null, -0.2017873164845655, -0.012247972239543777, null, -0.2017873164845655, -0.20914634938755125, null, -0.2017873164845655, -0.12160514195076368, null, -0.2017873164845655, 0.11204243267941963, null, -0.2017873164845655, 0.138223196897965, null, -0.023997579999580895, -0.053473973133848066, null, -0.023997579999580895, -0.1341560923127779, null, -0.023997579999580895, 0.138223196897965, null, -0.023997579999580895, 0.021325394653253966, null, -0.023997579999580895, -0.012247972239543777, null, -0.023997579999580895, -0.04515489312674483, null, -0.023997579999580895, 0.5120946004911717, null, -0.023997579999580895, 0.11204243267941963, null, -0.04515489312674483, 0.021325394653253966, null, -0.04515489312674483, 0.11958794620892486, null, -0.04515489312674483, 0.0559306787251427, null, -0.04515489312674483, -0.12160514195076368, null, -0.04515489312674483, -0.20914634938755125, null, 0.021325394653253966, -0.053473973133848066, null, 0.021325394653253966, -0.1341560923127779, null, 0.021325394653253966, 0.138223196897965, null, 0.021325394653253966, 0.11958794620892486, null, 0.021325394653253966, -0.012247972239543777, null, 0.021325394653253966, 0.07343497692920635, null, 0.021325394653253966, -0.20914634938755125, null, 0.021325394653253966, 0.0559306787251427, null, 0.021325394653253966, -0.6097685976309853, null, -0.1341560923127779, -0.053473973133848066, null, -0.1341560923127779, -0.012247972239543777, null, -0.1341560923127779, 0.138223196897965, null, -0.1341560923127779, -0.20914634938755125, null, -0.1341560923127779, 0.11958794620892486, null, -0.1341560923127779, 0.37439044637963487, null, -0.1341560923127779, -0.6097685976309853, null, -0.1341560923127779, 0.14100444111575233, null, -0.1341560923127779, 0.1421995984145279, null, -0.1341560923127779, -0.4857770093440557, null, -0.1341560923127779, 0.11204243267941963, null, -0.053473973133848066, 0.138223196897965, null, -0.053473973133848066, 0.11958794620892486, null, -0.053473973133848066, -0.012247972239543777, null, -0.053473973133848066, 0.07343497692920635, null, -0.053473973133848066, 0.11204243267941963, null, -0.053473973133848066, -0.20914634938755125, null, -0.053473973133848066, 0.14100444111575233, null, -0.053473973133848066, -0.6097685976309853, null, -0.053473973133848066, -0.12160514195076368, null, -0.053473973133848066, 0.37439044637963487, null, -0.053473973133848066, 0.1421995984145279, null, -0.053473973133848066, -0.4857770093440557, null, -0.053473973133848066, 0.5120946004911717, null, 0.11958794620892486, 0.138223196897965, null, 0.11958794620892486, 0.14100444111575233, null, 0.11958794620892486, -0.012247972239543777, null, 0.11958794620892486, 0.37439044637963487, null, 0.11958794620892486, -0.12160514195076368, null, 0.11958794620892486, -0.20914634938755125, null, 0.11958794620892486, 0.07343497692920635, null, 0.11958794620892486, 0.1421995984145279, null, 0.11958794620892486, 0.11204243267941963, null, -0.012247972239543777, 0.138223196897965, null, -0.012247972239543777, -0.20914634938755125, null, -0.012247972239543777, 0.1421995984145279, null, -0.012247972239543777, 0.20688121311541746, null, -0.012247972239543777, 0.5120946004911717, null, -0.012247972239543777, 0.11204243267941963, null, -0.012247972239543777, 0.37439044637963487, null, -0.20914634938755125, 0.138223196897965, null, -0.20914634938755125, -0.12160514195076368, null, -0.20914634938755125, 0.07343497692920635, null, -0.20914634938755125, 0.14100444111575233, null, -0.20914634938755125, 0.37439044637963487, null, -0.12160514195076368, 0.138223196897965, null, -0.12160514195076368, 0.07343497692920635, null, -0.12160514195076368, 0.14100444111575233, null, -0.12160514195076368, 0.37439044637963487, null, -0.12160514195076368, -0.4857770093440557, null, -0.12160514195076368, 0.0559306787251427, null, 0.11204243267941963, 0.5120946004911717, null, 0.11204243267941963, 0.14100444111575233, null, 0.11204243267941963, 0.07343497692920635, null, 0.138223196897965, 0.1421995984145279, null, 0.138223196897965, 0.5120946004911717, null, 0.138223196897965, 0.20688121311541746, null, 0.138223196897965, 0.14100444111575233, null, 0.138223196897965, 0.07343497692920635, null, 0.07343497692920635, 0.5120946004911717, null, 0.07343497692920635, 0.14100444111575233, null, 0.07343497692920635, 0.0559306787251427, null, 0.14100444111575233, 0.1421995984145279, null, 0.14100444111575233, 0.37439044637963487, null, 0.1421995984145279, 0.5120946004911717, null, 0.1421995984145279, 0.20688121311541746, null]}, {\"hoverinfo\": \"text\", \"marker\": {\"color\": [\"lightgray\", \"lightgray\", \"lightgray\", \"lightgray\", \"dodgerblue\", \"dodgerblue\", \"lightgray\", \"lightgray\", \"lightgray\", \"lightgray\", \"lightgray\", \"lightgray\", \"lightgray\", \"lightgray\", \"lightgray\", \"lightgray\", \"lightgray\", \"lightgray\", \"lightgray\", \"lightgray\", \"lightgray\"], \"size\": 22}, \"mode\": \"markers\", \"text\": [\"Gene ID: Sevir.3G067800<br>Pfam: PF00806,PF07990<br>Panther: PTHR12537,PTHR12537:SF65<br>KO: K17943<br>GO: GO:0003723<br>arabi-defline: pumilio 2<br>\", \"Gene ID: Sevir.7G022600<br>Pfam: PF03634<br>Panther: PTHR31072,PTHR31072:SF25<br>arabi-defline: TCP family transcription factor<br>\", \"Gene ID: Sevir.9G110700<br>Pfam: PF03514<br>Panther: PTHR31636,PTHR31636:SF65<br>arabi-defline: GRAS family transcription factor<br>\", \"Gene ID: Sevir.4G227600<br>Pfam: PF00569,PF00249,PF04433,PF16495<br>Panther: PTHR12802,PTHR12802:SF39<br>KOG: KOG1279<br>KO: K11649<br>GO: GO:0008270,GO:0005515<br>arabi-defline: DNA-binding family protein<br>\", \"Gene ID: Sevir.5G254600<br>Pfam: PF07991,PF01450<br>Panther: PTHR21371,PTHR21371:SF11<br>ec: 1.1.1.86<br>KO: K00053<br>GO: GO:0055114,GO:0009082,GO:0004455,GO:0016491<br>arabi-defline: ketol-acid reductoisomerase<br>\", \"Gene ID: Sevir.5G058900<br>Pfam: PF16186,PF01749,PF00514<br>Panther: PTHR23316,PTHR23316:SF18<br>GO: GO:0008565,GO:0006606,GO:0005737,GO:0005634,GO:0005515<br>arabi-defline: importin alpha isoform 1<br>\", \"Gene ID: Sevir.5G384100<br>Pfam: PF00806,PF07990<br>Panther: PTHR12537,PTHR12537:SF12<br>KO: K17943<br>GO: GO:0003723<br>arabi-defline: pumilio 1<br>\", \"Gene ID: Sevir.8G223900<br>Pfam: PF04121<br>Panther: PTHR13003<br>KOG: KOG1964<br>KO: K14301<br>GO: GO:0006810,GO:0005643<br>\", \"Gene ID: Sevir.7G235000<br>Pfam: PF00400<br>Panther: PTHR19918,PTHR19918:SF12<br>KOG: KOG0305<br>KO: K03363<br>GO: GO:0005515<br>arabi-defline: Transducin family protein / WD-40 repeat family protein<br>\", \"Gene ID: Sevir.7G007600<br>Pfam: PF12776<br>Panther: PTHR31704,PTHR31704:SF11<br>\", \"Gene ID: Sevir.6G184600<br>Pfam: PF04504<br>Panther: PTHR31662,PTHR31662:SF3<br>arabi-defline: DNA-binding storekeeper protein-related transcriptional regulator<br>\", \"Gene ID: Sevir.4G038600<br>Pfam: PF06858,PF08155<br>Panther: PTHR11702,PTHR11702:SF4<br>KO: K06943<br>GO: GO:0005525<br>arabi-defline: Nucleolar GTP-binding protein<br>\", \"Gene ID: Sevir.9G561400<br>Pfam: PF00498<br>Panther: PTHR12348,PTHR12348:SF15<br>ec: 5.2.1.8<br>GO: GO:0005515,GO:0006355,GO:0003700<br>arabi-defline: SMAD/FHA domain-containing protein<br>\", \"Gene ID: Sevir.3G301200<br>Pfam: PF04209<br>Panther: PTHR11056<br>ec: 1.13.11.5<br>GO: GO:0055114,GO:0006570,GO:0006559,GO:0004411<br>arabi-defline: homogentisate 1,2-dioxygenase<br>\", \"Gene ID: Sevir.2G076801<br>Pfam: PF00646<br>Panther: PTHR31790,PTHR31790:SF20<br>GO: GO:0005515<br>arabi-defline: F-box and associated interaction domains-containing protein<br>\", \"Gene ID: Sevir.1G057300<br>Pfam: PF00083<br>Panther: PTHR23500,PTHR23500:SF159<br>GO: GO:0055085,GO:0022857,GO:0016021<br>arabi-defline: Major facilitator superfamily protein<br>\", \"Gene ID: Sevir.3G036900<br>Pfam: PF08264,PF09334,PF00133<br>Panther: PTHR11946,PTHR11946:SF51<br>ec: 6.1.1.4<br>KO: K01869<br>GO: GO:0006418,GO:0000166,GO:0005524,GO:0004812<br>arabi-defline: ATP binding;leucine-tRNA ligases;aminoacyl-tRNA ligases;nucleotide binding;ATP binding;aminoacyl-tRNA ligases<br>\", \"Gene ID: Sevir.7G069833<br>Pfam: PF02096<br>Panther: PTHR12428,PTHR12428:SF14<br>GO: GO:0051205,GO:0016021<br>arabi-defline: homolog of yeast oxidase assembly 1 (OXA1)<br>\", \"Gene ID: Sevir.3G393600<br>Pfam: PF00013<br>Panther: PTHR10288,PTHR10288:SF155<br>KOG: KOG2190<br>KO: K13162<br>GO: GO:0003723<br>arabi-defline: RNA-binding KH domain-containing protein<br>\", \"Gene ID: Sevir.5G055200<br>Panther: PTHR36407,PTHR36407:SF1<br>\", \"Gene ID: Sevir.9G382900<br>Pfam: PF00226<br>Panther: PTHR24078,PTHR24078:SF259<br>arabi-defline: Chaperone DnaJ-domain superfamily protein<br>\"], \"type\": \"scatter3d\", \"x\": [0.42384446566094397, 0.6262882122024359, 0.47243580890267856, 0.355659602103044, 0.07312870124594417, -0.15543484296906712, 0.05833284748841466, 0.22348735489691884, -0.03991619201570859, -0.32525327108236207, -0.546881449978044, 0.11618805482839178, -0.11478107701341478, -0.30306489934398007, -0.26584652759191396, -0.3603171284508297, 0.014591851247246398, -0.9127175319512727, 0.004765547924655021, 0.4174735228989876, 0.2380169509969315], \"y\": [-0.1950512657027074, 0.06249832547477268, -0.6482647363331341, -0.16517441302348182, 0.09118994438781004, 0.06136755823345114, -0.047428543596826994, 0.25994038859375157, -0.16034630367747513, -0.36229897124115257, -0.12178508924129933, 0.3159854060484804, -0.41340189724684007, 0.20175483185760504, 0.3379050995941708, -0.1547277145438773, 0.6238730129231342, 0.07928712757808065, 0.35110769011411297, 0.8835695498014267, -1.0], \"z\": [-0.2017873164845655, -0.023997579999580895, -0.04515489312674483, 0.021325394653253966, -0.1341560923127779, -0.053473973133848066, 0.11958794620892486, -0.012247972239543777, -0.20914634938755125, -0.12160514195076368, 0.11204243267941963, 0.138223196897965, 0.07343497692920635, 0.14100444111575233, -0.6097685976309853, 0.37439044637963487, 0.1421995984145279, -0.4857770093440557, 0.5120946004911717, 0.20688121311541746, 0.0559306787251427]}],\n",
       "                        {\"annotations\": [{\"showarrow\": false, \"text\": \"Python code: <a href='https://plot.ly/ipython-notebooks/network-graphs/'> https://plot.ly/ipython-notebooks/network-graphs/</a>\", \"x\": 0.005, \"xref\": \"paper\", \"y\": -0.002, \"yref\": \"paper\"}], \"hovermode\": \"closest\", \"margin\": {\"b\": 20, \"l\": 5, \"r\": 5, \"t\": 40}, \"plot_bgcolor\": \"rgba(0,0,0,0)\", \"scene\": {\"xaxis\": {\"showbackground\": false, \"showgrid\": false, \"showline\": false, \"showticklabels\": false, \"title\": {\"text\": \"\"}, \"zeroline\": false}, \"yaxis\": {\"showbackground\": false, \"showgrid\": false, \"showline\": false, \"showticklabels\": false, \"title\": {\"text\": \"\"}, \"zeroline\": false}, \"zaxis\": {\"showbackground\": false, \"showgrid\": false, \"showline\": false, \"showticklabels\": false, \"title\": {\"text\": \"\"}, \"zeroline\": false}}, \"showlegend\": false, \"template\": {\"data\": {\"bar\": [{\"error_x\": {\"color\": \"#2a3f5f\"}, \"error_y\": {\"color\": \"#2a3f5f\"}, \"marker\": {\"line\": {\"color\": \"#E5ECF6\", \"width\": 0.5}}, \"type\": \"bar\"}], \"barpolar\": [{\"marker\": {\"line\": {\"color\": \"#E5ECF6\", \"width\": 0.5}}, \"type\": \"barpolar\"}], \"carpet\": [{\"aaxis\": {\"endlinecolor\": \"#2a3f5f\", \"gridcolor\": \"white\", \"linecolor\": \"white\", \"minorgridcolor\": \"white\", \"startlinecolor\": \"#2a3f5f\"}, \"baxis\": {\"endlinecolor\": \"#2a3f5f\", \"gridcolor\": \"white\", \"linecolor\": \"white\", \"minorgridcolor\": \"white\", \"startlinecolor\": \"#2a3f5f\"}, \"type\": \"carpet\"}], \"choropleth\": [{\"colorbar\": {\"outlinewidth\": 0, \"ticks\": \"\"}, \"type\": \"choropleth\"}], \"contour\": [{\"colorbar\": {\"outlinewidth\": 0, \"ticks\": \"\"}, \"colorscale\": [[0.0, \"#0d0887\"], [0.1111111111111111, \"#46039f\"], [0.2222222222222222, \"#7201a8\"], [0.3333333333333333, \"#9c179e\"], [0.4444444444444444, \"#bd3786\"], [0.5555555555555556, \"#d8576b\"], [0.6666666666666666, \"#ed7953\"], [0.7777777777777778, \"#fb9f3a\"], [0.8888888888888888, \"#fdca26\"], [1.0, \"#f0f921\"]], \"type\": \"contour\"}], \"contourcarpet\": [{\"colorbar\": {\"outlinewidth\": 0, \"ticks\": \"\"}, \"type\": \"contourcarpet\"}], \"heatmap\": [{\"colorbar\": {\"outlinewidth\": 0, \"ticks\": \"\"}, \"colorscale\": [[0.0, \"#0d0887\"], [0.1111111111111111, \"#46039f\"], [0.2222222222222222, \"#7201a8\"], [0.3333333333333333, \"#9c179e\"], [0.4444444444444444, \"#bd3786\"], [0.5555555555555556, \"#d8576b\"], [0.6666666666666666, \"#ed7953\"], [0.7777777777777778, \"#fb9f3a\"], [0.8888888888888888, \"#fdca26\"], [1.0, \"#f0f921\"]], \"type\": \"heatmap\"}], \"heatmapgl\": [{\"colorbar\": {\"outlinewidth\": 0, \"ticks\": \"\"}, \"colorscale\": [[0.0, \"#0d0887\"], [0.1111111111111111, \"#46039f\"], [0.2222222222222222, \"#7201a8\"], [0.3333333333333333, \"#9c179e\"], [0.4444444444444444, \"#bd3786\"], [0.5555555555555556, \"#d8576b\"], [0.6666666666666666, \"#ed7953\"], [0.7777777777777778, \"#fb9f3a\"], [0.8888888888888888, \"#fdca26\"], [1.0, \"#f0f921\"]], \"type\": \"heatmapgl\"}], \"histogram\": [{\"marker\": {\"colorbar\": {\"outlinewidth\": 0, \"ticks\": \"\"}}, \"type\": \"histogram\"}], \"histogram2d\": [{\"colorbar\": {\"outlinewidth\": 0, \"ticks\": \"\"}, \"colorscale\": [[0.0, \"#0d0887\"], [0.1111111111111111, \"#46039f\"], [0.2222222222222222, \"#7201a8\"], [0.3333333333333333, \"#9c179e\"], [0.4444444444444444, \"#bd3786\"], [0.5555555555555556, \"#d8576b\"], [0.6666666666666666, \"#ed7953\"], [0.7777777777777778, \"#fb9f3a\"], [0.8888888888888888, \"#fdca26\"], [1.0, \"#f0f921\"]], \"type\": \"histogram2d\"}], \"histogram2dcontour\": [{\"colorbar\": {\"outlinewidth\": 0, \"ticks\": \"\"}, \"colorscale\": [[0.0, \"#0d0887\"], [0.1111111111111111, \"#46039f\"], [0.2222222222222222, \"#7201a8\"], [0.3333333333333333, \"#9c179e\"], [0.4444444444444444, \"#bd3786\"], [0.5555555555555556, \"#d8576b\"], [0.6666666666666666, \"#ed7953\"], [0.7777777777777778, \"#fb9f3a\"], [0.8888888888888888, \"#fdca26\"], [1.0, \"#f0f921\"]], \"type\": \"histogram2dcontour\"}], \"mesh3d\": [{\"colorbar\": {\"outlinewidth\": 0, \"ticks\": \"\"}, \"type\": \"mesh3d\"}], \"parcoords\": [{\"line\": {\"colorbar\": {\"outlinewidth\": 0, \"ticks\": \"\"}}, \"type\": \"parcoords\"}], \"pie\": [{\"automargin\": true, \"type\": \"pie\"}], \"scatter\": [{\"marker\": {\"colorbar\": {\"outlinewidth\": 0, \"ticks\": \"\"}}, \"type\": \"scatter\"}], \"scatter3d\": [{\"line\": {\"colorbar\": {\"outlinewidth\": 0, \"ticks\": \"\"}}, \"marker\": {\"colorbar\": {\"outlinewidth\": 0, \"ticks\": \"\"}}, \"type\": \"scatter3d\"}], \"scattercarpet\": [{\"marker\": {\"colorbar\": {\"outlinewidth\": 0, \"ticks\": \"\"}}, \"type\": \"scattercarpet\"}], \"scattergeo\": [{\"marker\": {\"colorbar\": {\"outlinewidth\": 0, \"ticks\": \"\"}}, \"type\": \"scattergeo\"}], \"scattergl\": [{\"marker\": {\"colorbar\": {\"outlinewidth\": 0, \"ticks\": \"\"}}, \"type\": \"scattergl\"}], \"scattermapbox\": [{\"marker\": {\"colorbar\": {\"outlinewidth\": 0, \"ticks\": \"\"}}, \"type\": \"scattermapbox\"}], \"scatterpolar\": [{\"marker\": {\"colorbar\": {\"outlinewidth\": 0, \"ticks\": \"\"}}, \"type\": \"scatterpolar\"}], \"scatterpolargl\": [{\"marker\": {\"colorbar\": {\"outlinewidth\": 0, \"ticks\": \"\"}}, \"type\": \"scatterpolargl\"}], \"scatterternary\": [{\"marker\": {\"colorbar\": {\"outlinewidth\": 0, \"ticks\": \"\"}}, \"type\": \"scatterternary\"}], \"surface\": [{\"colorbar\": {\"outlinewidth\": 0, \"ticks\": \"\"}, \"colorscale\": [[0.0, \"#0d0887\"], [0.1111111111111111, \"#46039f\"], [0.2222222222222222, \"#7201a8\"], [0.3333333333333333, \"#9c179e\"], [0.4444444444444444, \"#bd3786\"], [0.5555555555555556, \"#d8576b\"], [0.6666666666666666, \"#ed7953\"], [0.7777777777777778, \"#fb9f3a\"], [0.8888888888888888, \"#fdca26\"], [1.0, \"#f0f921\"]], \"type\": \"surface\"}], \"table\": [{\"cells\": {\"fill\": {\"color\": \"#EBF0F8\"}, \"line\": {\"color\": \"white\"}}, \"header\": {\"fill\": {\"color\": \"#C8D4E3\"}, \"line\": {\"color\": \"white\"}}, \"type\": \"table\"}]}, \"layout\": {\"annotationdefaults\": {\"arrowcolor\": \"#2a3f5f\", \"arrowhead\": 0, \"arrowwidth\": 1}, \"coloraxis\": {\"colorbar\": {\"outlinewidth\": 0, \"ticks\": \"\"}}, \"colorscale\": {\"diverging\": [[0, \"#8e0152\"], [0.1, \"#c51b7d\"], [0.2, \"#de77ae\"], [0.3, \"#f1b6da\"], [0.4, \"#fde0ef\"], [0.5, \"#f7f7f7\"], [0.6, \"#e6f5d0\"], [0.7, \"#b8e186\"], [0.8, \"#7fbc41\"], [0.9, \"#4d9221\"], [1, \"#276419\"]], \"sequential\": [[0.0, \"#0d0887\"], [0.1111111111111111, \"#46039f\"], [0.2222222222222222, \"#7201a8\"], [0.3333333333333333, \"#9c179e\"], [0.4444444444444444, \"#bd3786\"], [0.5555555555555556, \"#d8576b\"], [0.6666666666666666, \"#ed7953\"], [0.7777777777777778, \"#fb9f3a\"], [0.8888888888888888, \"#fdca26\"], [1.0, \"#f0f921\"]], \"sequentialminus\": [[0.0, \"#0d0887\"], [0.1111111111111111, \"#46039f\"], [0.2222222222222222, \"#7201a8\"], [0.3333333333333333, \"#9c179e\"], [0.4444444444444444, \"#bd3786\"], [0.5555555555555556, \"#d8576b\"], [0.6666666666666666, \"#ed7953\"], [0.7777777777777778, \"#fb9f3a\"], [0.8888888888888888, \"#fdca26\"], [1.0, \"#f0f921\"]]}, \"colorway\": [\"#636efa\", \"#EF553B\", \"#00cc96\", \"#ab63fa\", \"#FFA15A\", \"#19d3f3\", \"#FF6692\", \"#B6E880\", \"#FF97FF\", \"#FECB52\"], \"font\": {\"color\": \"#2a3f5f\"}, \"geo\": {\"bgcolor\": \"white\", \"lakecolor\": \"white\", \"landcolor\": \"#E5ECF6\", \"showlakes\": true, \"showland\": true, \"subunitcolor\": \"white\"}, \"hoverlabel\": {\"align\": \"left\"}, \"hovermode\": \"closest\", \"mapbox\": {\"style\": \"light\"}, \"paper_bgcolor\": \"white\", \"plot_bgcolor\": \"#E5ECF6\", \"polar\": {\"angularaxis\": {\"gridcolor\": \"white\", \"linecolor\": \"white\", \"ticks\": \"\"}, \"bgcolor\": \"#E5ECF6\", \"radialaxis\": {\"gridcolor\": \"white\", \"linecolor\": \"white\", \"ticks\": \"\"}}, \"scene\": {\"xaxis\": {\"backgroundcolor\": \"#E5ECF6\", \"gridcolor\": \"white\", \"gridwidth\": 2, \"linecolor\": \"white\", \"showbackground\": true, \"ticks\": \"\", \"zerolinecolor\": \"white\"}, \"yaxis\": {\"backgroundcolor\": \"#E5ECF6\", \"gridcolor\": \"white\", \"gridwidth\": 2, \"linecolor\": \"white\", \"showbackground\": true, \"ticks\": \"\", \"zerolinecolor\": \"white\"}, \"zaxis\": {\"backgroundcolor\": \"#E5ECF6\", \"gridcolor\": \"white\", \"gridwidth\": 2, \"linecolor\": \"white\", \"showbackground\": true, \"ticks\": \"\", \"zerolinecolor\": \"white\"}}, \"shapedefaults\": {\"line\": {\"color\": \"#2a3f5f\"}}, \"ternary\": {\"aaxis\": {\"gridcolor\": \"white\", \"linecolor\": \"white\", \"ticks\": \"\"}, \"baxis\": {\"gridcolor\": \"white\", \"linecolor\": \"white\", \"ticks\": \"\"}, \"bgcolor\": \"#E5ECF6\", \"caxis\": {\"gridcolor\": \"white\", \"linecolor\": \"white\", \"ticks\": \"\"}}, \"title\": {\"x\": 0.05}, \"xaxis\": {\"automargin\": true, \"gridcolor\": \"white\", \"linecolor\": \"white\", \"ticks\": \"\", \"title\": {\"standoff\": 15}, \"zerolinecolor\": \"white\", \"zerolinewidth\": 2}, \"yaxis\": {\"automargin\": true, \"gridcolor\": \"white\", \"linecolor\": \"white\", \"ticks\": \"\", \"title\": {\"standoff\": 15}, \"zerolinecolor\": \"white\", \"zerolinewidth\": 2}}}, \"title\": {\"font\": {\"size\": 16}, \"text\": \"<br>Network N010M00022\"}},\n",
       "                        {\"responsive\": true}\n",
       "                    ).then(function(){\n",
       "                            \n",
       "var gd = document.getElementById('0d55bb30-8936-4339-8b6e-a73917cd9788');\n",
       "var x = new MutationObserver(function (mutations, observer) {{\n",
       "        var display = window.getComputedStyle(gd).display;\n",
       "        if (!display || display === 'none') {{\n",
       "            console.log([gd, 'removed!']);\n",
       "            Plotly.purge(gd);\n",
       "            observer.disconnect();\n",
       "        }}\n",
       "}});\n",
       "\n",
       "// Listen for the removal of the full notebook cells\n",
       "var notebookContainer = gd.closest('#notebook-container');\n",
       "if (notebookContainer) {{\n",
       "    x.observe(notebookContainer, {childList: true});\n",
       "}}\n",
       "\n",
       "// Listen for the clearing of the current output cell\n",
       "var outputEl = gd.closest('.output');\n",
       "if (outputEl) {{\n",
       "    x.observe(outputEl, {childList: true});\n",
       "}}\n",
       "\n",
       "                        })\n",
       "                };\n",
       "                });\n",
       "            </script>\n",
       "        </div>"
      ]
     },
     "metadata": {},
     "output_type": "display_data"
    }
   ],
   "source": [
    "network = networksToPlot[0]\n",
    "moduleID = network.rsplit('/',1)[1].replace('.abc','') #extract module ID from the module file\n",
    "\n",
    "#Define the edgeweight file\n",
    "edgeWeightFile = network\n",
    "\n",
    "#Matplotlib defined clearing and size determination of plot\n",
    "\"\"\"fig = plt.figure(figsize=[20,20])\n",
    "ax = plt.subplot(111)\"\"\"\n",
    "\n",
    "#Create empty graph for networkX\n",
    "G = nx.Graph()\n",
    "G = nx.read_weighted_edgelist(edgeWeightFile)\n",
    "pos=nx.spring_layout(G, dim=3) #This is a randomized layout of the network\n",
    "\n",
    "labels = pos.keys()\n",
    "\n",
    "#Edge traces\n",
    "edge_trace = go.Scatter3d(\n",
    "    x=[],\n",
    "    y=[],\n",
    "    z=[],\n",
    "    line=dict(width=0.5,color='#888'),\n",
    "    hoverinfo='none',\n",
    "    mode='lines')\n",
    "\n",
    "for edge in G.edges():\n",
    "    x0, y0, z0 = pos[edge[0]]#G.node[edge[0]]['pos']\n",
    "    x1, y1, z1 = pos[edge[1]] #G.node[edge[1]]['pos']\n",
    "    edge_trace['x'] += tuple([x0, x1, None])\n",
    "    edge_trace['y'] += tuple([y0, y1, None])\n",
    "    edge_trace['z'] += tuple([z0, z1, None])\n",
    "\n",
    "#NODE TRACES\n",
    "node_trace = go.Scatter3d(\n",
    "    x=[],\n",
    "    y=[],\n",
    "    z=[],\n",
    "    text=[],\n",
    "    mode='markers',\n",
    "    hoverinfo='text',\n",
    "    marker=dict(\n",
    "        color=[],\n",
    "        size=22,\n",
    "        ))\n",
    "\n",
    "#ADD X,Y POSITIONS OF EACH NODE/GENE\n",
    "for node in G.nodes():\n",
    "    x, y, z = pos[node]\n",
    "    node_trace['x'] += tuple([x])\n",
    "    node_trace['y'] += tuple([y])\n",
    "    node_trace['z'] += tuple([z])\n",
    "\n",
    "\n",
    "#DEFINE COLORS OF NODES\n",
    "colors = []\n",
    "\n",
    "for node in G.nodes():\n",
    "    geneID = node \n",
    "    #If gene is in candidate gene list -- then they're blue, else they're gray\n",
    "    if geneID in geneList:\n",
    "        colors.append('dodgerblue')\n",
    "    else:\n",
    "        colors.append('lightgray')\n",
    "    #node_info = '# of connections: '+str(len(adjacencies[1]))\n",
    "    text = get_annotation_text(annotationDict, geneID)\n",
    "    \n",
    "    node_trace['text'] +=tuple([text])\n",
    "    \n",
    "node_trace['marker']['color'] = colors\n",
    "\n",
    "axis=dict(showbackground=False,\n",
    "          showline=False,\n",
    "          zeroline=False,\n",
    "          showgrid=False,\n",
    "          showticklabels=False,\n",
    "          title=''\n",
    "          )\n",
    "\n",
    "#DRAW GRAPH\n",
    "fig = go.Figure(data=[edge_trace, node_trace],\n",
    "             layout=go.Layout(\n",
    "                title='<br>Network %s' % moduleID,\n",
    "                titlefont=dict(size=16),\n",
    "                showlegend=False,\n",
    "                hovermode='closest',\n",
    "                margin=dict(b=20,l=5,r=5,t=40),\n",
    "                annotations=[ dict(\n",
    "                    text=\"Python code: <a href='https://plot.ly/ipython-notebooks/network-graphs/'> https://plot.ly/ipython-notebooks/network-graphs/</a>\",\n",
    "                    showarrow=False,\n",
    "                    xref=\"paper\", yref=\"paper\",\n",
    "                    x=0.005, y=-0.002 ) ],\n",
    "                plot_bgcolor= 'rgba(0,0,0,0)',\n",
    "                scene=dict(\n",
    "                xaxis=dict(axis),\n",
    "                yaxis=dict(axis),\n",
    "                zaxis=dict(axis))))\n",
    "iplot(fig, filename='networkx')\n",
    "\n"
   ]
  },
  {
   "cell_type": "markdown",
   "metadata": {},
   "source": [
    "# TESTING!!!!"
   ]
  },
  {
   "cell_type": "code",
   "execution_count": 53,
   "metadata": {},
   "outputs": [
    {
     "name": "stdout",
     "output_type": "stream",
     "text": [
      "-0.021548334361049335 0.08693997952372538 0.5030945765381638\n",
      "('Sevir.3G067800', 'Sevir.7G022600')\n",
      "0.6390963841907118\n"
     ]
    }
   ],
   "source": [
    "for edge in G.edges(): #Get x,y,z coordinates for each pair of genes in network\n",
    "    x0, y0, z0 = pos[edge[0]] \n",
    "    x1, y1, z1 = pos[edge[1]] \n",
    "    print(x0, y0, z0)\n",
    "    print(edge)\n",
    "    break\n",
    "for edge in G.edges(data=True):\n",
    "    print(edge[2]['weight'])\n",
    "    break"
   ]
  },
  {
   "cell_type": "code",
   "execution_count": null,
   "metadata": {
    "collapsed": true
   },
   "outputs": [],
   "source": [
    "def make_edge(x, y, z, width):\n",
    "    \"\"\"\n",
    "    Args:\n",
    "        x: a tuple of the x from and to, in the form: tuple([x0, x1, None])\n",
    "        y: a tuple of the y from and to, in the form: tuple([y0, y1, None])\n",
    "        width: The width of the line\n",
    "\n",
    "    Returns:\n",
    "        a Scatter plot which represents a line between the two points given. \n",
    "    \"\"\"\n",
    "    return  go.Scatter3d(\n",
    "                x=x,\n",
    "                y=y,\n",
    "                z=z,\n",
    "                line=dict(width=width,color='#888'),\n",
    "                hoverinfo='none',\n",
    "                mode='lines')"
   ]
  },
  {
   "cell_type": "code",
   "execution_count": 60,
   "metadata": {},
   "outputs": [
    {
     "ename": "ValueError",
     "evalue": "Invalid property specified for object of type plotly.graph_objs.Scatter3d: 'lines'\n\n    Valid properties:\n        connectgaps\n            Determines whether or not gaps (i.e. {nan} or missing\n            values) in the provided data arrays are connected.\n        customdata\n            Assigns extra data each datum. This may be useful when\n            listening to hover, click and selection events. Note\n            that, \"scatter\" traces also appends customdata items in\n            the markers DOM elements\n        customdatasrc\n            Sets the source reference on plot.ly for  customdata .\n        error_x\n            plotly.graph_objects.scatter3d.ErrorX instance or dict\n            with compatible properties\n        error_y\n            plotly.graph_objects.scatter3d.ErrorY instance or dict\n            with compatible properties\n        error_z\n            plotly.graph_objects.scatter3d.ErrorZ instance or dict\n            with compatible properties\n        hoverinfo\n            Determines which trace information appear on hover. If\n            `none` or `skip` are set, no information is displayed\n            upon hovering. But, if `none` is set, click and hover\n            events are still fired.\n        hoverinfosrc\n            Sets the source reference on plot.ly for  hoverinfo .\n        hoverlabel\n            plotly.graph_objects.scatter3d.Hoverlabel instance or\n            dict with compatible properties\n        hovertemplate\n            Template string used for rendering the information that\n            appear on hover box. Note that this will override\n            `hoverinfo`. Variables are inserted using %{variable},\n            for example \"y: %{y}\". Numbers are formatted using\n            d3-format's syntax %{variable:d3-format}, for example\n            \"Price: %{y:$.2f}\". https://github.com/d3/d3-3.x-api-\n            reference/blob/master/Formatting.md#d3_format for\n            details on the formatting syntax. Dates are formatted\n            using d3-time-format's syntax %{variable|d3-time-\n            format}, for example \"Day: %{2019-01-01|%A}\".\n            https://github.com/d3/d3-3.x-api-\n            reference/blob/master/Time-Formatting.md#format for\n            details on the date formatting syntax. The variables\n            available in `hovertemplate` are the ones emitted as\n            event data described at this link\n            https://plot.ly/javascript/plotlyjs-events/#event-data.\n            Additionally, every attributes that can be specified\n            per-point (the ones that are `arrayOk: true`) are\n            available.  Anything contained in tag `<extra>` is\n            displayed in the secondary box, for example\n            \"<extra>{fullData.name}</extra>\". To hide the secondary\n            box completely, use an empty tag `<extra></extra>`.\n        hovertemplatesrc\n            Sets the source reference on plot.ly for  hovertemplate\n            .\n        hovertext\n            Sets text elements associated with each (x,y,z)\n            triplet. If a single string, the same string appears\n            over all the data points. If an array of string, the\n            items are mapped in order to the this trace's (x,y,z)\n            coordinates. To be seen, trace `hoverinfo` must contain\n            a \"text\" flag.\n        hovertextsrc\n            Sets the source reference on plot.ly for  hovertext .\n        ids\n            Assigns id labels to each datum. These ids for object\n            constancy of data points during animation. Should be an\n            array of strings, not numbers or any other type.\n        idssrc\n            Sets the source reference on plot.ly for  ids .\n        legendgroup\n            Sets the legend group for this trace. Traces part of\n            the same legend group hide/show at the same time when\n            toggling legend items.\n        line\n            plotly.graph_objects.scatter3d.Line instance or dict\n            with compatible properties\n        marker\n            plotly.graph_objects.scatter3d.Marker instance or dict\n            with compatible properties\n        meta\n            Assigns extra meta information associated with this\n            trace that can be used in various text attributes.\n            Attributes such as trace `name`, graph, axis and\n            colorbar `title.text`, annotation `text`\n            `rangeselector`, `updatemenues` and `sliders` `label`\n            text all support `meta`. To access the trace `meta`\n            values in an attribute in the same trace, simply use\n            `%{meta[i]}` where `i` is the index or key of the\n            `meta` item in question. To access trace `meta` in\n            layout attributes, use `%{data[n[.meta[i]}` where `i`\n            is the index or key of the `meta` and `n` is the trace\n            index.\n        metasrc\n            Sets the source reference on plot.ly for  meta .\n        mode\n            Determines the drawing mode for this scatter trace. If\n            the provided `mode` includes \"text\" then the `text`\n            elements appear at the coordinates. Otherwise, the\n            `text` elements appear on hover. If there are less than\n            20 points and the trace is not stacked then the default\n            is \"lines+markers\". Otherwise, \"lines\".\n        name\n            Sets the trace name. The trace name appear as the\n            legend item and on hover.\n        opacity\n            Sets the opacity of the trace.\n        projection\n            plotly.graph_objects.scatter3d.Projection instance or\n            dict with compatible properties\n        scene\n            Sets a reference between this trace's 3D coordinate\n            system and a 3D scene. If \"scene\" (the default value),\n            the (x,y,z) coordinates refer to `layout.scene`. If\n            \"scene2\", the (x,y,z) coordinates refer to\n            `layout.scene2`, and so on.\n        showlegend\n            Determines whether or not an item corresponding to this\n            trace is shown in the legend.\n        stream\n            plotly.graph_objects.scatter3d.Stream instance or dict\n            with compatible properties\n        surfaceaxis\n            If \"-1\", the scatter points are not fill with a surface\n            If 0, 1, 2, the scatter points are filled with a\n            Delaunay surface about the x, y, z respectively.\n        surfacecolor\n            Sets the surface fill color.\n        text\n            Sets text elements associated with each (x,y,z)\n            triplet. If a single string, the same string appears\n            over all the data points. If an array of string, the\n            items are mapped in order to the this trace's (x,y,z)\n            coordinates. If trace `hoverinfo` contains a \"text\"\n            flag and \"hovertext\" is not set, these elements will be\n            seen in the hover labels.\n        textfont\n            plotly.graph_objects.scatter3d.Textfont instance or\n            dict with compatible properties\n        textposition\n            Sets the positions of the `text` elements with respects\n            to the (x,y) coordinates.\n        textpositionsrc\n            Sets the source reference on plot.ly for  textposition\n            .\n        textsrc\n            Sets the source reference on plot.ly for  text .\n        texttemplate\n            Template string used for rendering the information text\n            that appear on points. Note that this will override\n            `textinfo`. Variables are inserted using %{variable},\n            for example \"y: %{y}\". Numbers are formatted using\n            d3-format's syntax %{variable:d3-format}, for example\n            \"Price: %{y:$.2f}\". https://github.com/d3/d3-3.x-api-\n            reference/blob/master/Formatting.md#d3_format for\n            details on the formatting syntax. Dates are formatted\n            using d3-time-format's syntax %{variable|d3-time-\n            format}, for example \"Day: %{2019-01-01|%A}\".\n            https://github.com/d3/d3-3.x-api-\n            reference/blob/master/Time-Formatting.md#format for\n            details on the date formatting syntax. Every attributes\n            that can be specified per-point (the ones that are\n            `arrayOk: true`) are available.\n        texttemplatesrc\n            Sets the source reference on plot.ly for  texttemplate\n            .\n        uid\n            Assign an id to this trace, Use this to provide object\n            constancy between traces during animations and\n            transitions.\n        uirevision\n            Controls persistence of some user-driven changes to the\n            trace: `constraintrange` in `parcoords` traces, as well\n            as some `editable: true` modifications such as `name`\n            and `colorbar.title`. Defaults to `layout.uirevision`.\n            Note that other user-driven trace attribute changes are\n            controlled by `layout` attributes: `trace.visible` is\n            controlled by `layout.legend.uirevision`,\n            `selectedpoints` is controlled by\n            `layout.selectionrevision`, and `colorbar.(x|y)`\n            (accessible with `config: {editable: true}`) is\n            controlled by `layout.editrevision`. Trace changes are\n            tracked by `uid`, which only falls back on trace index\n            if no `uid` is provided. So if your app can add/remove\n            traces before the end of the `data` array, such that\n            the same trace has a different index, you can still\n            preserve user-driven changes if you give each trace a\n            `uid` that stays with it as it moves.\n        visible\n            Determines whether or not this trace is visible. If\n            \"legendonly\", the trace is not drawn, but can appear as\n            a legend item (provided that the legend itself is\n            visible).\n        x\n            Sets the x coordinates.\n        xcalendar\n            Sets the calendar system to use with `x` date data.\n        xsrc\n            Sets the source reference on plot.ly for  x .\n        y\n            Sets the y coordinates.\n        ycalendar\n            Sets the calendar system to use with `y` date data.\n        ysrc\n            Sets the source reference on plot.ly for  y .\n        z\n            Sets the z coordinates.\n        zcalendar\n            Sets the calendar system to use with `z` date data.\n        zsrc\n            Sets the source reference on plot.ly for  z .\n        ",
     "output_type": "error",
     "traceback": [
      "\u001b[0;31m---------------------------------------------------------------------------\u001b[0m",
      "\u001b[0;31mValueError\u001b[0m                                Traceback (most recent call last)",
      "\u001b[0;32m<ipython-input-60-670e8c4bebfa>\u001b[0m in \u001b[0;36m<module>\u001b[0;34m\u001b[0m\n\u001b[1;32m     20\u001b[0m     \u001b[0mlines\u001b[0m\u001b[0;34m=\u001b[0m\u001b[0;34m[\u001b[0m\u001b[0;34m]\u001b[0m\u001b[0;34m,\u001b[0m\u001b[0;34m\u001b[0m\u001b[0;34m\u001b[0m\u001b[0m\n\u001b[1;32m     21\u001b[0m     \u001b[0mhoverinfo\u001b[0m\u001b[0;34m=\u001b[0m\u001b[0;34m'none'\u001b[0m\u001b[0;34m,\u001b[0m\u001b[0;34m\u001b[0m\u001b[0;34m\u001b[0m\u001b[0m\n\u001b[0;32m---> 22\u001b[0;31m     mode='lines')\n\u001b[0m\u001b[1;32m     23\u001b[0m \u001b[0;34m\u001b[0m\u001b[0m\n\u001b[1;32m     24\u001b[0m \u001b[0;34m\u001b[0m\u001b[0m\n",
      "\u001b[0;32m/depot/jwisecav/apps/Anaconda/envs/env.genomics/lib/python3.6/site-packages/plotly/graph_objs/__init__.py\u001b[0m in \u001b[0;36m__init__\u001b[0;34m(self, arg, connectgaps, customdata, customdatasrc, error_x, error_y, error_z, hoverinfo, hoverinfosrc, hoverlabel, hovertemplate, hovertemplatesrc, hovertext, hovertextsrc, ids, idssrc, legendgroup, line, marker, meta, metasrc, mode, name, opacity, projection, scene, showlegend, stream, surfaceaxis, surfacecolor, text, textfont, textposition, textpositionsrc, textsrc, texttemplate, texttemplatesrc, uid, uirevision, visible, x, xcalendar, xsrc, y, ycalendar, ysrc, z, zcalendar, zsrc, **kwargs)\u001b[0m\n\u001b[1;32m  34848\u001b[0m         \u001b[0;31m# Process unknown kwargs\u001b[0m\u001b[0;34m\u001b[0m\u001b[0;34m\u001b[0m\u001b[0;34m\u001b[0m\u001b[0m\n\u001b[1;32m  34849\u001b[0m         \u001b[0;31m# ----------------------\u001b[0m\u001b[0;34m\u001b[0m\u001b[0;34m\u001b[0m\u001b[0;34m\u001b[0m\u001b[0m\n\u001b[0;32m> 34850\u001b[0;31m         \u001b[0mself\u001b[0m\u001b[0;34m.\u001b[0m\u001b[0m_process_kwargs\u001b[0m\u001b[0;34m(\u001b[0m\u001b[0;34m**\u001b[0m\u001b[0mdict\u001b[0m\u001b[0;34m(\u001b[0m\u001b[0marg\u001b[0m\u001b[0;34m,\u001b[0m \u001b[0;34m**\u001b[0m\u001b[0mkwargs\u001b[0m\u001b[0;34m)\u001b[0m\u001b[0;34m)\u001b[0m\u001b[0;34m\u001b[0m\u001b[0;34m\u001b[0m\u001b[0m\n\u001b[0m\u001b[1;32m  34851\u001b[0m \u001b[0;34m\u001b[0m\u001b[0m\n\u001b[1;32m  34852\u001b[0m         \u001b[0;31m# Reset skip_invalid\u001b[0m\u001b[0;34m\u001b[0m\u001b[0;34m\u001b[0m\u001b[0;34m\u001b[0m\u001b[0m\n",
      "\u001b[0;32m/depot/jwisecav/apps/Anaconda/envs/env.genomics/lib/python3.6/site-packages/plotly/basedatatypes.py\u001b[0m in \u001b[0;36m_process_kwargs\u001b[0;34m(self, **kwargs)\u001b[0m\n\u001b[1;32m   3022\u001b[0m \u001b[0;34m\u001b[0m\u001b[0m\n\u001b[1;32m   3023\u001b[0m         \u001b[0;32mif\u001b[0m \u001b[0minvalid_kwargs\u001b[0m \u001b[0;32mand\u001b[0m \u001b[0;32mnot\u001b[0m \u001b[0mself\u001b[0m\u001b[0;34m.\u001b[0m\u001b[0m_skip_invalid\u001b[0m\u001b[0;34m:\u001b[0m\u001b[0;34m\u001b[0m\u001b[0;34m\u001b[0m\u001b[0m\n\u001b[0;32m-> 3024\u001b[0;31m             \u001b[0mself\u001b[0m\u001b[0;34m.\u001b[0m\u001b[0m_raise_on_invalid_property_error\u001b[0m\u001b[0;34m(\u001b[0m\u001b[0;34m*\u001b[0m\u001b[0minvalid_kwargs\u001b[0m\u001b[0;34m.\u001b[0m\u001b[0mkeys\u001b[0m\u001b[0;34m(\u001b[0m\u001b[0;34m)\u001b[0m\u001b[0;34m)\u001b[0m\u001b[0;34m\u001b[0m\u001b[0;34m\u001b[0m\u001b[0m\n\u001b[0m\u001b[1;32m   3025\u001b[0m \u001b[0;34m\u001b[0m\u001b[0m\n\u001b[1;32m   3026\u001b[0m     \u001b[0;34m@\u001b[0m\u001b[0mproperty\u001b[0m\u001b[0;34m\u001b[0m\u001b[0;34m\u001b[0m\u001b[0m\n",
      "\u001b[0;32m/depot/jwisecav/apps/Anaconda/envs/env.genomics/lib/python3.6/site-packages/plotly/basedatatypes.py\u001b[0m in \u001b[0;36m_raise_on_invalid_property_error\u001b[0;34m(self, *args)\u001b[0m\n\u001b[1;32m   3653\u001b[0m                     \u001b[0mfull_obj_name\u001b[0m\u001b[0;34m=\u001b[0m\u001b[0mfull_obj_name\u001b[0m\u001b[0;34m,\u001b[0m\u001b[0;34m\u001b[0m\u001b[0;34m\u001b[0m\u001b[0m\n\u001b[1;32m   3654\u001b[0m                     \u001b[0minvalid_str\u001b[0m\u001b[0;34m=\u001b[0m\u001b[0minvalid_str\u001b[0m\u001b[0;34m,\u001b[0m\u001b[0;34m\u001b[0m\u001b[0;34m\u001b[0m\u001b[0m\n\u001b[0;32m-> 3655\u001b[0;31m                     \u001b[0mprop_descriptions\u001b[0m\u001b[0;34m=\u001b[0m\u001b[0mself\u001b[0m\u001b[0;34m.\u001b[0m\u001b[0m_prop_descriptions\u001b[0m\u001b[0;34m,\u001b[0m\u001b[0;34m\u001b[0m\u001b[0;34m\u001b[0m\u001b[0m\n\u001b[0m\u001b[1;32m   3656\u001b[0m                 )\n\u001b[1;32m   3657\u001b[0m             )\n",
      "\u001b[0;31mValueError\u001b[0m: Invalid property specified for object of type plotly.graph_objs.Scatter3d: 'lines'\n\n    Valid properties:\n        connectgaps\n            Determines whether or not gaps (i.e. {nan} or missing\n            values) in the provided data arrays are connected.\n        customdata\n            Assigns extra data each datum. This may be useful when\n            listening to hover, click and selection events. Note\n            that, \"scatter\" traces also appends customdata items in\n            the markers DOM elements\n        customdatasrc\n            Sets the source reference on plot.ly for  customdata .\n        error_x\n            plotly.graph_objects.scatter3d.ErrorX instance or dict\n            with compatible properties\n        error_y\n            plotly.graph_objects.scatter3d.ErrorY instance or dict\n            with compatible properties\n        error_z\n            plotly.graph_objects.scatter3d.ErrorZ instance or dict\n            with compatible properties\n        hoverinfo\n            Determines which trace information appear on hover. If\n            `none` or `skip` are set, no information is displayed\n            upon hovering. But, if `none` is set, click and hover\n            events are still fired.\n        hoverinfosrc\n            Sets the source reference on plot.ly for  hoverinfo .\n        hoverlabel\n            plotly.graph_objects.scatter3d.Hoverlabel instance or\n            dict with compatible properties\n        hovertemplate\n            Template string used for rendering the information that\n            appear on hover box. Note that this will override\n            `hoverinfo`. Variables are inserted using %{variable},\n            for example \"y: %{y}\". Numbers are formatted using\n            d3-format's syntax %{variable:d3-format}, for example\n            \"Price: %{y:$.2f}\". https://github.com/d3/d3-3.x-api-\n            reference/blob/master/Formatting.md#d3_format for\n            details on the formatting syntax. Dates are formatted\n            using d3-time-format's syntax %{variable|d3-time-\n            format}, for example \"Day: %{2019-01-01|%A}\".\n            https://github.com/d3/d3-3.x-api-\n            reference/blob/master/Time-Formatting.md#format for\n            details on the date formatting syntax. The variables\n            available in `hovertemplate` are the ones emitted as\n            event data described at this link\n            https://plot.ly/javascript/plotlyjs-events/#event-data.\n            Additionally, every attributes that can be specified\n            per-point (the ones that are `arrayOk: true`) are\n            available.  Anything contained in tag `<extra>` is\n            displayed in the secondary box, for example\n            \"<extra>{fullData.name}</extra>\". To hide the secondary\n            box completely, use an empty tag `<extra></extra>`.\n        hovertemplatesrc\n            Sets the source reference on plot.ly for  hovertemplate\n            .\n        hovertext\n            Sets text elements associated with each (x,y,z)\n            triplet. If a single string, the same string appears\n            over all the data points. If an array of string, the\n            items are mapped in order to the this trace's (x,y,z)\n            coordinates. To be seen, trace `hoverinfo` must contain\n            a \"text\" flag.\n        hovertextsrc\n            Sets the source reference on plot.ly for  hovertext .\n        ids\n            Assigns id labels to each datum. These ids for object\n            constancy of data points during animation. Should be an\n            array of strings, not numbers or any other type.\n        idssrc\n            Sets the source reference on plot.ly for  ids .\n        legendgroup\n            Sets the legend group for this trace. Traces part of\n            the same legend group hide/show at the same time when\n            toggling legend items.\n        line\n            plotly.graph_objects.scatter3d.Line instance or dict\n            with compatible properties\n        marker\n            plotly.graph_objects.scatter3d.Marker instance or dict\n            with compatible properties\n        meta\n            Assigns extra meta information associated with this\n            trace that can be used in various text attributes.\n            Attributes such as trace `name`, graph, axis and\n            colorbar `title.text`, annotation `text`\n            `rangeselector`, `updatemenues` and `sliders` `label`\n            text all support `meta`. To access the trace `meta`\n            values in an attribute in the same trace, simply use\n            `%{meta[i]}` where `i` is the index or key of the\n            `meta` item in question. To access trace `meta` in\n            layout attributes, use `%{data[n[.meta[i]}` where `i`\n            is the index or key of the `meta` and `n` is the trace\n            index.\n        metasrc\n            Sets the source reference on plot.ly for  meta .\n        mode\n            Determines the drawing mode for this scatter trace. If\n            the provided `mode` includes \"text\" then the `text`\n            elements appear at the coordinates. Otherwise, the\n            `text` elements appear on hover. If there are less than\n            20 points and the trace is not stacked then the default\n            is \"lines+markers\". Otherwise, \"lines\".\n        name\n            Sets the trace name. The trace name appear as the\n            legend item and on hover.\n        opacity\n            Sets the opacity of the trace.\n        projection\n            plotly.graph_objects.scatter3d.Projection instance or\n            dict with compatible properties\n        scene\n            Sets a reference between this trace's 3D coordinate\n            system and a 3D scene. If \"scene\" (the default value),\n            the (x,y,z) coordinates refer to `layout.scene`. If\n            \"scene2\", the (x,y,z) coordinates refer to\n            `layout.scene2`, and so on.\n        showlegend\n            Determines whether or not an item corresponding to this\n            trace is shown in the legend.\n        stream\n            plotly.graph_objects.scatter3d.Stream instance or dict\n            with compatible properties\n        surfaceaxis\n            If \"-1\", the scatter points are not fill with a surface\n            If 0, 1, 2, the scatter points are filled with a\n            Delaunay surface about the x, y, z respectively.\n        surfacecolor\n            Sets the surface fill color.\n        text\n            Sets text elements associated with each (x,y,z)\n            triplet. If a single string, the same string appears\n            over all the data points. If an array of string, the\n            items are mapped in order to the this trace's (x,y,z)\n            coordinates. If trace `hoverinfo` contains a \"text\"\n            flag and \"hovertext\" is not set, these elements will be\n            seen in the hover labels.\n        textfont\n            plotly.graph_objects.scatter3d.Textfont instance or\n            dict with compatible properties\n        textposition\n            Sets the positions of the `text` elements with respects\n            to the (x,y) coordinates.\n        textpositionsrc\n            Sets the source reference on plot.ly for  textposition\n            .\n        textsrc\n            Sets the source reference on plot.ly for  text .\n        texttemplate\n            Template string used for rendering the information text\n            that appear on points. Note that this will override\n            `textinfo`. Variables are inserted using %{variable},\n            for example \"y: %{y}\". Numbers are formatted using\n            d3-format's syntax %{variable:d3-format}, for example\n            \"Price: %{y:$.2f}\". https://github.com/d3/d3-3.x-api-\n            reference/blob/master/Formatting.md#d3_format for\n            details on the formatting syntax. Dates are formatted\n            using d3-time-format's syntax %{variable|d3-time-\n            format}, for example \"Day: %{2019-01-01|%A}\".\n            https://github.com/d3/d3-3.x-api-\n            reference/blob/master/Time-Formatting.md#format for\n            details on the date formatting syntax. Every attributes\n            that can be specified per-point (the ones that are\n            `arrayOk: true`) are available.\n        texttemplatesrc\n            Sets the source reference on plot.ly for  texttemplate\n            .\n        uid\n            Assign an id to this trace, Use this to provide object\n            constancy between traces during animations and\n            transitions.\n        uirevision\n            Controls persistence of some user-driven changes to the\n            trace: `constraintrange` in `parcoords` traces, as well\n            as some `editable: true` modifications such as `name`\n            and `colorbar.title`. Defaults to `layout.uirevision`.\n            Note that other user-driven trace attribute changes are\n            controlled by `layout` attributes: `trace.visible` is\n            controlled by `layout.legend.uirevision`,\n            `selectedpoints` is controlled by\n            `layout.selectionrevision`, and `colorbar.(x|y)`\n            (accessible with `config: {editable: true}`) is\n            controlled by `layout.editrevision`. Trace changes are\n            tracked by `uid`, which only falls back on trace index\n            if no `uid` is provided. So if your app can add/remove\n            traces before the end of the `data` array, such that\n            the same trace has a different index, you can still\n            preserve user-driven changes if you give each trace a\n            `uid` that stays with it as it moves.\n        visible\n            Determines whether or not this trace is visible. If\n            \"legendonly\", the trace is not drawn, but can appear as\n            a legend item (provided that the legend itself is\n            visible).\n        x\n            Sets the x coordinates.\n        xcalendar\n            Sets the calendar system to use with `x` date data.\n        xsrc\n            Sets the source reference on plot.ly for  x .\n        y\n            Sets the y coordinates.\n        ycalendar\n            Sets the calendar system to use with `y` date data.\n        ysrc\n            Sets the source reference on plot.ly for  y .\n        z\n            Sets the z coordinates.\n        zcalendar\n            Sets the calendar system to use with `z` date data.\n        zsrc\n            Sets the source reference on plot.ly for  z .\n        "
     ]
    }
   ],
   "source": [
    "network = networksToPlot[0]\n",
    "moduleID = network.rsplit('/',1)[1].replace('.abc','') #extract module ID from the module file\n",
    "\n",
    "#Define the edgeweight file\n",
    "edgeWeightFile = network\n",
    "\n",
    "#Create empty graph for networkX\n",
    "G = nx.Graph()\n",
    "G = nx.read_weighted_edgelist(edgeWeightFile)\n",
    "pos=nx.spring_layout(G, dim=3) #This is a randomized layout of the network\n",
    "\n",
    "labels = pos.keys()\n",
    "\n",
    "#Edge traces\n",
    "edge_trace = go.Scatter3d(\n",
    "    x=[],\n",
    "    y=[],\n",
    "    z=[],\n",
    "    line=Line(width=[],color='#888'),\n",
    "    hoverinfo='none',\n",
    "    mode='lines')\n",
    "\n",
    "\n",
    "for edge in G.edges(): #Get x,y,z coordinates for each pair of genes in network\n",
    "    x0, y0, z0 = pos[edge[0]] \n",
    "    x1, y1, z1 = pos[edge[1]] \n",
    "    edge_trace['x'] += tuple([x0, x1, None]) #append to the defined (x=[]) in above loop\n",
    "    edge_trace['y'] += tuple([y0, y1, None]) #append to the defined (y=[]) in above loop\n",
    "    edge_trace['z'] += tuple([z0, z1, None]) #append to the defined (z=[]) in above loop\n",
    "    \n",
    "#GET LINE WIDTHS\n",
    "for edge in G.edges(data=True):\n",
    "    edgeWeight = float(edge[2]['weight'])\n",
    "    lineWidth = 2*edgeWeight\n",
    "    print(edgeWeight,lineWidth)\n",
    "    edge_trace['lines'] += tuple(lineWidth)\n",
    "\n",
    "#NODE TRACES\n",
    "node_trace = go.Scatter3d(\n",
    "    x=[],\n",
    "    y=[],\n",
    "    z=[],\n",
    "    text=[],\n",
    "    mode='markers',\n",
    "    hoverinfo='text',\n",
    "    marker=dict(\n",
    "        color=[],\n",
    "        size=20,\n",
    "        ))\n",
    "\n",
    "#ADD X,Y POSITIONS OF EACH NODE/GENE\n",
    "for node in G.nodes():\n",
    "    x, y, z = pos[node]\n",
    "    node_trace['x'] += tuple([x])\n",
    "    node_trace['y'] += tuple([y])\n",
    "    node_trace['z'] += tuple([z])\n",
    "\n",
    "\n",
    "#DEFINE COLORS OF NODES AND HOVER TEXT\n",
    "colors = []\n",
    "\n",
    "for node in G.nodes():\n",
    "    geneID = node \n",
    "    #GET GENE COLOR\n",
    "    #If gene is in candidate gene list -- then they're blue, else they're gray\n",
    "    if geneID in geneList:\n",
    "        colors.append('dodgerblue')\n",
    "    else:\n",
    "        colors.append('lightgray')\n",
    "    #WHEN YOU HOVER - WHAT TEXT DO YOU WANT TO APPEAR?\n",
    "    #node_info = '# of connections: '+str(len(adjacencies[1]))\n",
    "    #This function (get_annotation_text)generates a string made of what's stored in the annotation \n",
    "    #      dictionary (provided by user gene_annotation.txt), if empty, all it'll say is the \"geneID: X\"\n",
    "    text = get_annotation_text(annotationDict, geneID) \n",
    "    node_trace['text'] +=tuple([text])   #add the text as a tuple to store in the node trace\n",
    "    \n",
    "node_trace['marker']['color'] = colors\n",
    "\n",
    "axis=dict(showbackground=False,\n",
    "          showline=False,\n",
    "          zeroline=False,\n",
    "          showgrid=False,\n",
    "          showticklabels=False,\n",
    "          title=''\n",
    "          )\n",
    "\n",
    "#DRAW GRAPH\n",
    "fig = go.Figure(data=[edge_trace, node_trace],\n",
    "             layout=go.Layout(\n",
    "                title='<br>Network %s' % moduleID,\n",
    "                titlefont=dict(size=16),\n",
    "                showlegend=False,\n",
    "                hovermode='closest',\n",
    "                margin=dict(b=20,l=5,r=5,t=40),\n",
    "                annotations=[ dict(\n",
    "                    text=\"Python code: <a href='https://plot.ly/ipython-notebooks/network-graphs/'> https://plot.ly/ipython-notebooks/network-graphs/</a>\",\n",
    "                    showarrow=False,\n",
    "                    xref=\"paper\", yref=\"paper\",\n",
    "                    x=0.005, y=-0.002 ) ],\n",
    "                plot_bgcolor= 'rgba(0,0,0,0)',\n",
    "                scene=dict(\n",
    "                xaxis=dict(axis),\n",
    "                yaxis=dict(axis),\n",
    "                zaxis=dict(axis))))\n",
    "iplot(fig, filename='networkx')\n"
   ]
  },
  {
   "cell_type": "code",
   "execution_count": null,
   "metadata": {
    "collapsed": true
   },
   "outputs": [],
   "source": []
  },
  {
   "cell_type": "code",
   "execution_count": null,
   "metadata": {
    "collapsed": true
   },
   "outputs": [],
   "source": []
  },
  {
   "cell_type": "code",
   "execution_count": null,
   "metadata": {
    "collapsed": true
   },
   "outputs": [],
   "source": []
  },
  {
   "cell_type": "code",
   "execution_count": null,
   "metadata": {
    "collapsed": true
   },
   "outputs": [],
   "source": []
  },
  {
   "cell_type": "code",
   "execution_count": null,
   "metadata": {
    "collapsed": true
   },
   "outputs": [],
   "source": []
  },
  {
   "cell_type": "code",
   "execution_count": null,
   "metadata": {
    "collapsed": true
   },
   "outputs": [],
   "source": []
  },
  {
   "cell_type": "code",
   "execution_count": null,
   "metadata": {
    "collapsed": true
   },
   "outputs": [],
   "source": []
  },
  {
   "cell_type": "code",
   "execution_count": null,
   "metadata": {
    "collapsed": true
   },
   "outputs": [],
   "source": []
  },
  {
   "cell_type": "code",
   "execution_count": null,
   "metadata": {
    "collapsed": true
   },
   "outputs": [],
   "source": []
  },
  {
   "cell_type": "code",
   "execution_count": null,
   "metadata": {
    "collapsed": true
   },
   "outputs": [],
   "source": []
  },
  {
   "cell_type": "code",
   "execution_count": null,
   "metadata": {
    "collapsed": true
   },
   "outputs": [],
   "source": []
  },
  {
   "cell_type": "code",
   "execution_count": null,
   "metadata": {
    "collapsed": true
   },
   "outputs": [],
   "source": []
  },
  {
   "cell_type": "code",
   "execution_count": null,
   "metadata": {
    "collapsed": true
   },
   "outputs": [],
   "source": []
  },
  {
   "cell_type": "code",
   "execution_count": null,
   "metadata": {
    "collapsed": true
   },
   "outputs": [],
   "source": []
  },
  {
   "cell_type": "code",
   "execution_count": null,
   "metadata": {
    "collapsed": true
   },
   "outputs": [],
   "source": []
  },
  {
   "cell_type": "code",
   "execution_count": null,
   "metadata": {
    "collapsed": true
   },
   "outputs": [],
   "source": []
  },
  {
   "cell_type": "code",
   "execution_count": null,
   "metadata": {
    "collapsed": true
   },
   "outputs": [],
   "source": []
  },
  {
   "cell_type": "code",
   "execution_count": null,
   "metadata": {
    "collapsed": true
   },
   "outputs": [],
   "source": []
  },
  {
   "cell_type": "code",
   "execution_count": null,
   "metadata": {
    "collapsed": true
   },
   "outputs": [],
   "source": []
  },
  {
   "cell_type": "code",
   "execution_count": null,
   "metadata": {
    "collapsed": true
   },
   "outputs": [],
   "source": []
  },
  {
   "cell_type": "code",
   "execution_count": null,
   "metadata": {
    "collapsed": true
   },
   "outputs": [],
   "source": []
  },
  {
   "cell_type": "code",
   "execution_count": null,
   "metadata": {
    "collapsed": true
   },
   "outputs": [],
   "source": []
  },
  {
   "cell_type": "markdown",
   "metadata": {},
   "source": [
    "# Draw networks"
   ]
  },
  {
   "cell_type": "code",
   "execution_count": 10,
   "metadata": {},
   "outputs": [
    {
     "name": "stdout",
     "output_type": "stream",
     "text": [
      "N010M00022\n"
     ]
    },
    {
     "name": "stderr",
     "output_type": "stream",
     "text": [
      "/depot/jwisecav/apps/Anaconda/envs/env.genomics/lib/python3.6/site-packages/networkx/drawing/nx_pylab.py:611: MatplotlibDeprecationWarning:\n",
      "\n",
      "isinstance(..., numbers.Number)\n",
      "\n"
     ]
    },
    {
     "data": {
      "image/png": "[encoded data removed]",
      "text/plain": [
       "<Figure size 1440x1440 with 1 Axes>"
      ]
     },
     "metadata": {
      "needs_background": "light"
     },
     "output_type": "display_data"
    }
   ],
   "source": [
    "defaultNodeColor = 'gray'\n",
    "defaultNodeOutlineColor = 'black'\n",
    "nodeSize = 1000\n",
    "\n",
    "for network in networksToPlot:\n",
    "    moduleID = network.rsplit('/',1)[1].replace('.abc','') #extract module ID from the module file\n",
    "    print(moduleID)\n",
    "    \n",
    "    #Define the edgeweight file\n",
    "    edgeWeightFile = network\n",
    "    \n",
    "    \n",
    "    #Matplotlib defined clearing and size determination of plot\n",
    "    fig = plt.figure(figsize=[20,20])\n",
    "    ax = plt.subplot(111)\n",
    "\n",
    "    #Create empty graph for networkX\n",
    "    G = nx.Graph()\n",
    "    G = nx.read_weighted_edgelist(edgeWeightFile)\n",
    "    pos=nx.spring_layout(G) #This is a randomized layout of the network\n",
    "    \n",
    "    #__EDGE-WEIGHT LINE WEIGHTS__#\n",
    "    #Differentially weight the line thickness based on the edge weights\n",
    "    exlarge = [(u, v) for (u, v, d) in G.edges(data=True) if d['weight'] >= 0.8]\n",
    "    elarge = [(u, v) for (u, v, d) in G.edges(data=True) if d['weight'] > 0.5 and d['weight'] < 0.8]\n",
    "    esmall = [(u, v) for (u, v, d) in G.edges(data=True) if d['weight'] <= 0.5]\n",
    "\n",
    "    #__DRAW NETWORK EDGES__#\n",
    "    #Default color == grays\n",
    "    nx.draw_networkx_edges(G, pos, edgelist=exlarge,\n",
    "                           width=1.4, edge_color='gray')\n",
    "    nx.draw_networkx_edges(G, pos, edgelist=elarge,\n",
    "                           width=0.8, edge_color='gray')\n",
    "    nx.draw_networkx_edges(G, pos, edgelist=esmall,\n",
    "                           width=0.2, alpha=0.5, edge_color='gray')\n",
    "    \n",
    "    nx.draw_networkx_nodes(G, pos,\n",
    "                   nodelist = G.nodes(),\n",
    "                   node_color = defaultNodeColor,\n",
    "                   edgecolors= defaultNodeOutlineColor,\n",
    "                   linewidths = 0.3,\n",
    "                   node_size = nodeSize)\n",
    "    \n",
    "    break\n"
   ]
  },
  {
   "cell_type": "code",
   "execution_count": null,
   "metadata": {},
   "outputs": [],
   "source": [
    "#Practice for storing edgelist\n",
    "\"\"\"from ast import literal_eval\n",
    "import requests\n",
    "edgelist = literal_eval(requests.get(\"https://pastebin.com/raw/2a8ErW7t\").text)\n",
    "_fig_kws={\"figsize\":(10,10)}\n",
    "\n",
    "print(edgelist)\"\"\""
   ]
  },
  {
   "cell_type": "code",
   "execution_count": null,
   "metadata": {},
   "outputs": [],
   "source": [
    "for edge in G.edges:\n",
    "    x0, y0 = pos[edge[0]]\n",
    "    x1, y1 = pos[edge[1]]\n",
    "    weight = G.edges[edge]['weight']\n",
    "    lineWidgth = \n",
    "    trace = go.Scatter(x=tuple([x0, x1, None]), y=tuple([y0, y1, None]),\n",
    "                       mode='lines',\n",
    "                       line={'width': weight},\n",
    "                       marker=dict(color=colors[index]),\n",
    "                       line_shape='spline',\n",
    "                       opacity=1)\n",
    "    traceRecode.append(trace)"
   ]
  },
  {
   "cell_type": "code",
   "execution_count": null,
   "metadata": {},
   "outputs": [],
   "source": [
    "edgeList = []\n",
    "\n",
    "for edge in G.edges():\n",
    "    geneA, geneB = edge[0],edge[1]\n",
    "    attr_dict = {}\n",
    "    attr_dict['weight'] = G.edges[edge]['weight']\n",
    "    edgeList.append(tuple([geneA, geneB, attr_dict]))\n",
    "    \n",
    "print(edgeList)"
   ]
  },
  {
   "cell_type": "code",
   "execution_count": null,
   "metadata": {},
   "outputs": [],
   "source": [
    "#Define the edgeweight file\n",
    "edgeWeightFile = network\n",
    "\n",
    "#Matplotlib defined clearing and size determination of plot\n",
    "\"\"\"fig = plt.figure(figsize=[20,20])\n",
    "ax = plt.subplot(111)\"\"\"\n",
    "\n",
    "#Create empty graph for networkX\n",
    "G = nx.Graph()\n",
    "G = nx.read_weighted_edgelist(edgeWeightFile)\n",
    "pos=nx.spring_layout(G) #This is a randomized layout of the network\n",
    "\n",
    "labels = pos.keys()\n",
    "\n",
    "#Edge traces\n",
    "edge_trace = go.Scatter(\n",
    "    x=[],\n",
    "    y=[],\n",
    "    line=dict(width=0.5,color='#888'),\n",
    "    hoverinfo='none',\n",
    "    mode='lines')\n",
    "\"\"\"edge_trace = go.Scatter(\n",
    "                     x=[],\n",
    "                     y=[],\n",
    "                     mode=\"lines\")\"\"\"\n",
    "\n",
    "for edge in G.edges():\n",
    "    x0, y0 = pos[edge[0]]#G.node[edge[0]]['pos']\n",
    "    x1, y1 = pos[edge[1]] #G.node[edge[1]]['pos']\n",
    "    edge_trace['x'] += tuple([x0, x1, None])\n",
    "    edge_trace['y'] += tuple([y0, y1, None])\n",
    "\n",
    "\"\"\"edgelist = G.edges()\n",
    "weights = []\"\"\"\n",
    "\n",
    "\"\"\"for node_A, node_B, attr_dict in edgeList:\n",
    "    x0, y0 = pos[edge[0]]\n",
    "    x1, y1 = pos[edge[1]]\n",
    "    \n",
    "    #Differentially weight the line thickness based on the edge weights\n",
    "    edgeWeight = G.edges[edge]['weight']\n",
    "    if edgeWeight >= 0.8:\n",
    "        line_width = 1.5\n",
    "    if edgeWeight >= 0.6 and edgeWeight < 0.8:\n",
    "        line_width = 1.1\n",
    "    if edgeWeight >= 0.4 and edgeWeight < 0.6:\n",
    "        line_width = 0.7\n",
    "    if edgeWeight >= 0.2 and edgeWeight < 0.4:\n",
    "        line_width = 0.35\n",
    "    if edgeWeight < 0.2:\n",
    "        line_width = 0.2   \n",
    "    print(attr_dict[\"weight\"])\n",
    "    weights.append(attr_dict[\"weight\"])\n",
    "edge_trace['line'] = dict(width=weights,color='#888')\"\"\"\n",
    "\n",
    "#NODE TRACES\n",
    "node_trace = go.Scatter(\n",
    "    x=[],\n",
    "    y=[],\n",
    "    text=[],\n",
    "    mode='markers',\n",
    "    hoverinfo='text',\n",
    "    marker=dict(\n",
    "        color=[],\n",
    "        size=20,\n",
    "        ))\n",
    "\n",
    "#ADD X,Y POSITIONS OF EACH NODE/GENE\n",
    "for node in G.nodes():\n",
    "    x, y = pos[node]\n",
    "    node_trace['x'] += tuple([x])\n",
    "    node_trace['y'] += tuple([y])\n"
   ]
  },
  {
   "cell_type": "code",
   "execution_count": null,
   "metadata": {
    "collapsed": true
   },
   "outputs": [],
   "source": [
    "#Define colors of the plots"
   ]
  },
  {
   "cell_type": "code",
   "execution_count": null,
   "metadata": {},
   "outputs": [],
   "source": [
    "colors = []\n",
    "\n",
    "for node in G.nodes():\n",
    "    geneID = node \n",
    "    #If gene is in candidate gene list -- then they're blue, else they're gray\n",
    "    if geneID in geneList:\n",
    "        colors.append('dodgerblue')\n",
    "    else:\n",
    "        colors.append('lightgray')\n",
    "    #node_info = '# of connections: '+str(len(adjacencies[1]))\n",
    "    node_trace['text'] +=tuple([geneID])\n",
    "    \n",
    "node_trace['marker']['color'] = colors"
   ]
  },
  {
   "cell_type": "code",
   "execution_count": null,
   "metadata": {
    "collapsed": true
   },
   "outputs": [],
   "source": []
  },
  {
   "cell_type": "code",
   "execution_count": null,
   "metadata": {},
   "outputs": [],
   "source": [
    "# Create graph\n",
    "fig = go.Figure(data=[edge_trace, node_trace],\n",
    "             layout=go.Layout(\n",
    "                title='<br>Network %s' % moduleID,\n",
    "                titlefont=dict(size=16),\n",
    "                showlegend=False,\n",
    "                hovermode='closest',\n",
    "                margin=dict(b=20,l=5,r=5,t=40),\n",
    "                annotations=[ dict(\n",
    "                    text=\"Python code: <a href='https://plot.ly/ipython-notebooks/network-graphs/'> https://plot.ly/ipython-notebooks/network-graphs/</a>\",\n",
    "                    showarrow=False,\n",
    "                    xref=\"paper\", yref=\"paper\",\n",
    "                    x=0.005, y=-0.002 ) ],\n",
    "                plot_bgcolor= 'rgba(0,0,0,0)',\n",
    "                xaxis=dict(showgrid=False, zeroline=False, showticklabels=False),\n",
    "                yaxis=dict(showgrid=False, zeroline=False, showticklabels=False)))\n",
    "\n",
    "iplot(fig, filename='networkx')"
   ]
  },
  {
   "cell_type": "code",
   "execution_count": null,
   "metadata": {
    "collapsed": true
   },
   "outputs": [],
   "source": []
  },
  {
   "cell_type": "code",
   "execution_count": null,
   "metadata": {
    "collapsed": true
   },
   "outputs": [],
   "source": []
  },
  {
   "cell_type": "code",
   "execution_count": null,
   "metadata": {},
   "outputs": [],
   "source": [
    "H = nx.random_geometric_graph(200, 0.125)\n",
    "\n",
    "edge_x = []\n",
    "edge_y = []\n",
    "for edge in H.edges():\n",
    "    x0, y0 = H.nodes[edge[0]]['pos']\n",
    "    x1, y1 = H.nodes[edge[1]]['pos']\n",
    "    print(H.nodes[edge[0]])\n",
    "    print(x0)\n",
    "    print(y0)\n",
    "    sys.exit()\n",
    "    edge_x.append(x0)\n",
    "    edge_x.append(x1)\n",
    "    edge_x.append(None)\n",
    "    edge_y.append(y0)\n",
    "    edge_y.append(y1)\n",
    "    edge_y.append(None)\n",
    "\n",
    "edge_trace = go.Scatter(\n",
    "    x=edge_x, y=edge_y,\n",
    "    line=dict(width=0.5, color='#888'),\n",
    "    hoverinfo='none',\n",
    "    mode='lines')\n",
    "\n",
    "node_x = []\n",
    "node_y = []\n",
    "for node in H.nodes():\n",
    "    x, y = H.nodes[node]['pos']\n",
    "    node_x.append(x)\n",
    "    node_y.append(y)\n",
    "\n",
    "node_trace = go.Scatter(\n",
    "    x=node_x, y=node_y,\n",
    "    mode='markers',\n",
    "    hoverinfo='text',\n",
    "    marker=dict(\n",
    "        showscale=True,\n",
    "        # colorscale options\n",
    "        #'Greys' | 'YlGnBu' | 'Greens' | 'YlOrRd' | 'Bluered' | 'RdBu' |\n",
    "        #'Reds' | 'Blues' | 'Picnic' | 'Rainbow' | 'Portland' | 'Jet' |\n",
    "        #'Hot' | 'Blackbody' | 'Earth' | 'Electric' | 'Viridis' |\n",
    "        colorscale='YlGnBu',\n",
    "        reversescale=True,\n",
    "        color=[],\n",
    "        size=10,\n",
    "        colorbar=dict(\n",
    "            thickness=15,\n",
    "            title='Node Connections',\n",
    "            xanchor='left',\n",
    "            titleside='right'\n",
    "        ),\n",
    "        line_width=2))\n",
    "\n",
    "node_adjacencies = []\n",
    "node_text = []\n",
    "for node, adjacencies in enumerate(H.adjacency()):\n",
    "    node_adjacencies.append(len(adjacencies[1]))\n",
    "    node_text.append('# of connections: '+str(len(adjacencies[1])))\n",
    "\n",
    "node_trace.marker.color = node_adjacencies\n",
    "node_trace.text = node_text\n",
    "\n",
    "fig = go.Figure(data=[edge_trace, node_trace],\n",
    "             layout=go.Layout(\n",
    "                title='<br>Network graph made with Python',\n",
    "                titlefont_size=16,\n",
    "                showlegend=False,\n",
    "                hovermode='closest',\n",
    "                margin=dict(b=20,l=5,r=5,t=40),\n",
    "                annotations=[ dict(\n",
    "                    text=\"Python code: <a href='https://plot.ly/ipython-notebooks/network-graphs/'> https://plot.ly/ipython-notebooks/network-graphs/</a>\",\n",
    "                    showarrow=False,\n",
    "                    xref=\"paper\", yref=\"paper\",\n",
    "                    x=0.005, y=-0.002 ) ],\n",
    "                xaxis=dict(showgrid=False, zeroline=False, showticklabels=False),\n",
    "                yaxis=dict(showgrid=False, zeroline=False, showticklabels=False))\n",
    "                )\n",
    "fig.show()"
   ]
  },
  {
   "cell_type": "code",
   "execution_count": null,
   "metadata": {},
   "outputs": [],
   "source": [
    "print(edge_x)"
   ]
  },
  {
   "cell_type": "code",
   "execution_count": null,
   "metadata": {},
   "outputs": [],
   "source": [
    "defaultNodeColor = 'gray'\n",
    "defaultNodeOutlineColor = 'black'\n",
    "nodeSize = 1000\n",
    "\n",
    "for network in networksToPlot:\n",
    "    moduleID = network.rsplit('/',1)[1].replace('.abc','') #extract module ID from the module file\n",
    "    print(moduleID)\n",
    "    \n",
    "    #Define the edgeweight file\n",
    "    edgeWeightFile = network\n",
    "    \n",
    "    \n",
    "    #Matplotlib defined clearing and size determination of plot\n",
    "    fig = plt.figure(figsize=[20,20])\n",
    "    ax = plt.subplot(111)\n",
    "\n",
    "    #Create empty graph for networkX\n",
    "    G = nx.Graph()\n",
    "    G = nx.read_weighted_edgelist(edgeWeightFile)\n",
    "    pos=nx.spring_layout(G) #This is a randomized layout of the network\n",
    "    \n",
    "    ##### CREATE EDGES\n",
    "    edge_x = []\n",
    "    edge_y = []\n",
    "    for edge in G.edges():\n",
    "        x0, y0 = G.nodes[edge[0]]['pos']\n",
    "        x1, y1 = G.nodes[edge[1]]['pos']\n",
    "        edge_x.append(x0)\n",
    "        edge_x.append(x1)\n",
    "        edge_x.append(None)\n",
    "        edge_y.append(y0)\n",
    "        edge_y.append(y1)\n",
    "        edge_y.append(None)    \n",
    "    \n",
    "    edge_trace = go.Scatter(\n",
    "    x=edge_x, y=edge_y,\n",
    "    line=dict(width=0.5, color='#888'),\n",
    "    hoverinfo='none',\n",
    "    mode='lines')\n",
    "\n",
    "    ###CREATE NODES\n",
    "    node_x = []\n",
    "    node_y = []\n",
    "    for node in G.nodes():\n",
    "        x, y = G.nodes[node]['pos']\n",
    "        node_x.append(x)\n",
    "        node_y.append(y)\n",
    "\n",
    "    node_trace = go.Scatter(\n",
    "        x=node_x, y=node_y,\n",
    "        mode='markers',\n",
    "        hoverinfo='text',\n",
    "        marker=dict(\n",
    "            showscale=True,\n",
    "            # colorscale options\n",
    "            #'Greys' | 'YlGnBu' | 'Greens' | 'YlOrRd' | 'Bluered' | 'RdBu' |\n",
    "            #'Reds' | 'Blues' | 'Picnic' | 'Rainbow' | 'Portland' | 'Jet' |\n",
    "            #'Hot' | 'Blackbody' | 'Earth' | 'Electric' | 'Viridis' |\n",
    "            colorscale='YlGnBu',\n",
    "            reversescale=True,\n",
    "            color=[],\n",
    "            size=10,\n",
    "            colorbar=dict(\n",
    "                thickness=15,\n",
    "                title='Node Connections',\n",
    "                xanchor='left',\n",
    "                titleside='right'\n",
    "            ),\n",
    "            line_width=2))\n",
    "    \n",
    "    \n",
    "    \n",
    "    \n",
    "    \n",
    "    break"
   ]
  }
 ],
 "metadata": {
  "kernelspec": {
   "display_name": "Python [conda env: env.genomics]",
   "language": "python",
   "name": "conda-env-env.genomics-py"
  },
  "language_info": {
   "codemirror_mode": {
    "name": "ipython",
    "version": 3
   },
   "file_extension": ".py",
   "mimetype": "text/x-python",
   "name": "python",
   "nbconvert_exporter": "python",
   "pygments_lexer": "ipython3",
   "version": "3.6.8"
  }
 },
 "nbformat": 4,
 "nbformat_minor": 2
}
